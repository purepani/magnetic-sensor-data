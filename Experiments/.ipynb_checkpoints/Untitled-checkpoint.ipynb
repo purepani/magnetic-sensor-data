{
 "cells": [
  {
   "cell_type": "code",
   "execution_count": 2,
   "id": "75dd9852",
   "metadata": {
    "iooxa": {
     "id": {
      "block": "hILq9eRENRI6T23oFJks",
      "project": "3hSUf1kbIiV7mOoe4IgH",
      "version": 1
     },
     "outputId": null
    }
   },
   "outputs": [
    {
     "data": {
      "text/plain": [
       "'yes'"
      ]
     },
     "execution_count": 2,
     "metadata": {},
     "output_type": "execute_result"
    }
   ],
   "source": [
    "import numpy as np\n",
    "import pandas as pd\n",
    "import scipy as sp\n",
    "\n",
    "\"yes\""
   ]
  }
 ],
 "metadata": {
  "iooxa": {
   "id": {
    "block": "H1JdZnt68w2CbKspGYAa",
    "project": "3hSUf1kbIiV7mOoe4IgH",
    "version": 1
   }
  },
  "kernelspec": {
   "display_name": "Python 3 (ipykernel)",
   "language": "python",
   "name": "python3"
  },
  "language_info": {
   "codemirror_mode": {
    "name": "ipython",
    "version": 3
   },
   "file_extension": ".py",
   "mimetype": "text/x-python",
   "name": "python",
   "nbconvert_exporter": "python",
   "pygments_lexer": "ipython3",
   "version": "3.9.10"
  }
 },
 "nbformat": 4,
 "nbformat_minor": 5
}
