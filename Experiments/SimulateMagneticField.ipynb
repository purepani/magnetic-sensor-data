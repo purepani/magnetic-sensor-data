{
 "cells": [
  {
   "cell_type": "code",
   "execution_count": 226,
   "metadata": {},
   "outputs": [],
   "source": [
    "import magpylib as magpy\n",
    "import numpy as np\n",
    "import pandas as pd\n",
    "import matplotlib.pyplot as plt\n",
    "import einops as eo\n",
    "\n",
    "import sklearn\n",
    "from scipy.interpolate import RBFInterpolator\n",
    "from scipy.interpolate import LinearNDInterpolator \n",
    " \n",
    "from sklearn.preprocessing import PolynomialFeatures\n",
    "from sklearn.linear_model import LinearRegression\n",
    "from sklearn.pipeline import Pipeline\n"
   ]
  },
  {
   "cell_type": "code",
   "execution_count": null,
   "metadata": {},
   "outputs": [],
   "source": [
    "class DiscreteSensor(magpy.Sensor):\n",
    "    def __init__(self, sensitivity=None, noise=None, position=(0,0,0), pixel=(0,0,0), orientation=None, style=None, **kwargs):\n",
    "        self.sensitivty=sensitivity\n",
    "        self.noise=noise\n",
    "        super().__init__(position=position, pixel=pixel, orientation=orientation, style=style)\n",
    "    def getB(self, *observers, squeeze=True, pixel_agg=None, output='ndarray'):\n",
    "        B = getB(self, *observers, squeeze=squeeze, pixel_agg=pixel_agg, output=output)\n",
    "        if self.noise!=None:\n",
    "            B = B+(2*np.random.rand(*B.shape)-1)*self.noise\n",
    "        if self.sensitivity!=None:\n",
    "            B = round(B/self.sensitivity)*self.sensitivity"
   ]
  },
  {
   "cell_type": "code",
   "execution_count": 227,
   "metadata": {},
   "outputs": [],
   "source": [
    "Br_max = 1210 #mT\n",
    "d = (3/16)*25.4\n",
    "h = (1/8)*25.4"
   ]
  },
  {
   "cell_type": "code",
   "execution_count": 228,
   "metadata": {},
   "outputs": [],
   "source": [
    "M = Br_max\n"
   ]
  },
  {
   "cell_type": "code",
   "execution_count": 229,
   "metadata": {},
   "outputs": [
    {
     "name": "stdout",
     "output_type": "stream",
     "text": [
      "[0.         0.         0.30211551]\n"
     ]
    }
   ],
   "source": [
    "magnet = magpy.magnet.Cylinder(magnetization = (0, 0, M), dimension=(d, h), position=(0, 0, 33))\n",
    "sensor = DiscreteSensor(sensitivity=(1/6842)/10, noise=4.1e-3)\n",
    "B = magnet.getB(sensor)\n",
    "print(B)\n"
   ]
  },
  {
   "cell_type": "code",
   "execution_count": 230,
   "metadata": {},
   "outputs": [],
   "source": [
    "step_xy = 0.2\n",
    "bounds_xy = [-7,7]\n",
    "samples_xy =int(((bounds_xy[1]-bounds_xy[0]))/step_xy) + 1\n",
    "\n",
    "\n",
    "bounds_z = [0, 7]\n",
    "step_z = 0.2\n",
    "samples_z = int((bounds_z[1]-bounds_z[0])/step_z)+1\n",
    "\n",
    "xx, step_xx = np.linspace(*bounds_xy, num=samples_xy, retstep=True)\n",
    "yy, step_yy = np.linspace(*bounds_xy, num=samples_xy, retstep=True)\n",
    "zz, step_zz = np.linspace(*bounds_z, num=samples_z, retstep=True)\n",
    "\n",
    "grid = eo.rearrange(np.array(np.meshgrid(xx,yy,zz)), \"d x y z -> (x y z) d\")\n",
    "\n",
    "magnet.move(grid, start=0)\n",
    "\n",
    "B_cal = sensor.getB(magnet)\n"
   ]
  },
  {
   "cell_type": "code",
   "execution_count": 231,
   "metadata": {},
   "outputs": [],
   "source": [
    "interpolator = LinearNDInterpolator(grid, B_cal)"
   ]
  },
  {
   "cell_type": "code",
   "execution_count": 235,
   "metadata": {},
   "outputs": [],
   "source": [
    "step_xy = 0.03\n",
    "bounds_xy = [-3,3]\n",
    "samples_xy =int(((bounds_xy[1]-bounds_xy[0]))/step_xy) + 1\n",
    "\n",
    "\n",
    "bounds_z = [2, 5]\n",
    "step_z = 0.03\n",
    "samples_z = int((bounds_z[1]-bounds_z[0])/step_z)+1\n",
    "\n",
    "xx, step_xx = np.linspace(*bounds_xy, num=samples_xy, retstep=True)\n",
    "yy, step_yy = np.linspace(*bounds_xy, num=samples_xy, retstep=True)\n",
    "zz, step_zz = np.linspace(*bounds_z, num=samples_z, retstep=True)\n",
    "\n",
    "grid = eo.rearrange(np.array(np.meshgrid(xx,yy,zz)), \"d x y z -> (x y z) d\")\n",
    "magnet.reset_path()\n",
    "magnet.position = (0, 0, 33)\n",
    "magnet.move(grid, start=0)\n",
    "\n",
    "B_meas = sensor.getB(magnet)\n"
   ]
  },
  {
   "cell_type": "code",
   "execution_count": 236,
   "metadata": {},
   "outputs": [],
   "source": [
    "X_fit = interpolator(B_meas)"
   ]
  },
  {
   "cell_type": "code",
   "execution_count": null,
   "metadata": {},
   "outputs": [],
   "source": [
    "((X_fit-grid)**2).mean()"
   ]
  },
  {
   "cell_type": "code",
   "execution_count": null,
   "metadata": {},
   "outputs": [],
   "source": []
  },
  {
   "cell_type": "code",
   "execution_count": null,
   "metadata": {},
   "outputs": [],
   "source": []
  }
 ],
 "metadata": {
  "kernelspec": {
   "display_name": "Python 3 (ipykernel)",
   "language": "python",
   "name": "python3"
  },
  "language_info": {
   "codemirror_mode": {
    "name": "ipython",
    "version": 3
   },
   "file_extension": ".py",
   "mimetype": "text/x-python",
   "name": "python",
   "nbconvert_exporter": "python",
   "pygments_lexer": "ipython3",
   "version": "3.10.10"
  },
  "orig_nbformat": 4
 },
 "nbformat": 4,
 "nbformat_minor": 2
}
