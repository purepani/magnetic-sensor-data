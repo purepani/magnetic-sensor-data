{
 "cells": [
  {
   "cell_type": "code",
   "execution_count": 126,
   "metadata": {},
   "outputs": [],
   "source": [
    "import glob\n",
    "import numpy as np\n",
    "import scipy as sp\n",
    "import einops as eo\n",
    "import matplotlib.pyplot as plt\n",
    "import math\n",
    "import plotly.graph_objects as go\n",
    "from scipy.spatial.transform import Rotation\n",
    "\n",
    "\n",
    "M0 = 1480 #mT\n",
    "shape = [3*25.4/16, 25.4/16] #radius and height\n",
    "x0 = np.array([0,0,10, 0,0,1])"
   ]
  },
  {
   "cell_type": "code",
   "execution_count": 127,
   "metadata": {},
   "outputs": [],
   "source": [
    "def B_dipole(position, rotation, M0, shape):\n",
    "    R = np.sqrt(np.sum(position**2, axis=1))\n",
    "    B = (M0 * (shape[0]) ** 2 * shape[1] / (16)) * (\n",
    "        (\n",
    "            3\n",
    "            * position\n",
    "            / R[:, np.newaxis] ** 5\n",
    "            * (eo.einsum(position, rotation, \"sensor dim,  dim -> sensor\"))[\n",
    "                :, np.newaxis\n",
    "            ]\n",
    "        )\n",
    "        - rotation[np.newaxis, :] / (R[:, np.newaxis] ** 3)\n",
    "    )\n",
    "    return B\n",
    "\n",
    "\n",
    "def getField_dipole(x, positions, M0, shape):\n",
    "    position = x[:3]\n",
    "    axis = x[3:]\n",
    "    return B_dipole(positions - position, axis, M0, shape)\n",
    "\n",
    "\n",
    "def getField_dipole_fixed(x, positions, M0, shape):\n",
    "    position = x[:3]\n",
    "    axis = x[3:]\n",
    "    return B_dipole(positions - position, axis, M0, shape)\n",
    "\n",
    "\n",
    "def cost_dipole(x, B, positions, M0, shape):\n",
    "    diff = getField_dipole(x, positions, M0, shape) - B\n",
    "    return np.sum((diff) ** 2)\n",
    "\n",
    "\n",
    "def minimize(x0, B, positions, M0, shape, *args):\n",
    "    #print(\"Starting mimimization\")\n",
    "    b_args = (B, positions, M0, shape)\n",
    "    cons = [{\"type\": \"eq\", \"fun\": lambda x: x[3] ** 2 + x[4] ** 2 + x[5] ** 2 - 1}]\n",
    "    bounds = [(-100, 100), (-100, 100), (0, 100), (-1, 1), (-1, 1), (-1, 1)]\n",
    "    res = sp.optimize.minimize(\n",
    "        fun=cost_dipole, x0=x0, args=b_args, tol=1e-100, constraints=cons, bounds=bounds, *args\n",
    "    ).x  \n",
    "    #print(f\"Finished mimimization with shape {b_args[3]} at {res}\")\n",
    "    return res\n",
    "\n",
    "def circle_radius(x1, y1, x2, y2, x3, y3):\n",
    "    # Calculate lengths of sides of the triangle formed by the three points\n",
    "    a = math.sqrt((x2 - x1) ** 2 + (y2 - y1) ** 2)\n",
    "    b = math.sqrt((x3 - x2) ** 2 + (y3 - y2) ** 2)\n",
    "    c = math.sqrt((x3 - x1) ** 2 + (y3 - y1) ** 2)\n",
    "\n",
    "    # Calculate the semi-perimeter of the triangle\n",
    "    s = (a + b + c) / 2\n",
    "\n",
    "    # Calculate the area of the triangle using Heron's formula\n",
    "    area = math.sqrt(s * (s - a) * (s - b) * (s - c))\n",
    "\n",
    "    # Calculate the radius of the circle using the formula: radius = (abc) / (4 * area)\n",
    "    radius = (a * b * c) / (4 * area)\n",
    "    \n",
    "    return radius\n",
    "\n",
    "def comparison_plot(locact, locpred, axis, relative):\n",
    "\n",
    "    if axis == 'x':\n",
    "        ax = 0\n",
    "    elif axis == 'y':\n",
    "        ax = 1\n",
    "    else:\n",
    "        ax = 2\n",
    "\n",
    "    index = list(range(len(locact[:,ax])))\n",
    "    act = locact[:, ax]\n",
    "    pred = locpred[:, ax]\n",
    "\n",
    "    rel = ''\n",
    "\n",
    "    if relative==True:\n",
    "        act = [x - locact[0, ax] for x in locact[:, ax]]\n",
    "        pred = [x - locpred[0, ax] for x in locpred[:, ax]]\n",
    "        rel = ' (Relative)'\n",
    "\n",
    "    # Plotting\n",
    "    plt.figure(figsize=(8, 6))\n",
    "    plt.scatter(index, pred, label='Predicted' + rel)\n",
    "    plt.scatter(index, act, label='Actual' + rel)\n",
    "    plt.xlabel('Index')\n",
    "    plt.ylabel(axis + '-component')\n",
    "    plt.title('Comparison of '+axis+ ' Location' + rel+ ': Predicted vs Actual')\n",
    "    plt.legend()\n",
    "    plt.grid(True)\n",
    "    plt.show()\n",
    "\n",
    "    return\n",
    "\n",
    "def comp_plot3D(locact, locpred, xact, yact, axis, relative):\n",
    "\n",
    "    if axis == 'x':\n",
    "        ax = 0\n",
    "    elif axis == 'y':\n",
    "        ax = 1\n",
    "    else:\n",
    "        ax = 2\n",
    "\n",
    "    index = list(range(len(locact[:,ax])))\n",
    "    act = locact[:, ax]\n",
    "    pred = locpred[:, ax]\n",
    "\n",
    "    rel = ''\n",
    "\n",
    "    if relative==True:\n",
    "        act = [x - locact[0, ax] for x in locact[:, ax]]\n",
    "        pred = [x - locpred[0, ax] for x in locpred[:, ax]]\n",
    "        rel = ' (Relative)'\n",
    "\n",
    "    fig = go.Figure(data=[\n",
    "        go.Scatter3d(x=xact, y=yact, z=pred, name='Predicted' + rel),\n",
    "        go.Scatter3d(x=xact, y=yact, z=act, name='Actual' + rel)])\n",
    "    fig.show()\n",
    "\n",
    "    return\n",
    "\n",
    "def displacement_plot(actual, predicted):\n",
    "\n",
    "    dispx = np.array(predicted[:,0]-predicted[:,0][0])\n",
    "    dispy = np.array(predicted[:,1]-predicted[:,1][0])\n",
    "    dispz = np.array(predicted[:,2]-predicted[:,2][0])\n",
    "    disp = np.sqrt(dispx**2+dispy**2+dispz**2)\n",
    "    actdispx = np.array(actual[:,0]-actual[:,0][0])\n",
    "    actdispy = np.array(actual[:,1]-actual[:,1][0])\n",
    "    actdispz = np.array(actual[:,2]-actual[:,2][0])\n",
    "    actdisp = np.sqrt(actdispx**2+actdispy**2+actdispz**2)\n",
    "\n",
    "    plt.figure(figsize=(8, 6))\n",
    "    plt.scatter(list(range(len(disp))), disp, label='Predicted Displacement')\n",
    "    plt.scatter(list(range(len(actdisp))), actdisp, label='Actual Displacement')\n",
    "    plt.xlabel('Index')\n",
    "    plt.ylabel('Displacement (mm)')\n",
    "    plt.title('Magnet Displacement')\n",
    "    plt.legend()\n",
    "    plt.grid(True)\n",
    "    plt.show()\n",
    "\n",
    "    return\n",
    "\n",
    "def importfitting(folder):\n",
    "\n",
    "    file_list = sorted(glob.glob(f'{folder}/*.npz'))\n",
    "    len(file_list)\n",
    "    data = np.load(file_list[0])\n",
    "    pos = data['pos'][0]\n",
    "\n",
    "    locpred = [np.array([0,0,0])]\n",
    "    anglepred = [np.array([0,0,0])]\n",
    "    Bstdev = [np.array(pos)]\n",
    "    for x in range(len(file_list)):\n",
    "        data = np.load(file_list[x])\n",
    "        mags = data['mags']\n",
    "        pos = data['pos'][0]\n",
    "        B = np.mean(mags, axis=0)\n",
    "        mags_stdev = np.std(mags, axis=0)\n",
    "        x_res = minimize(x0, B, pos, M0, shape)\n",
    "        locpred = np.append(locpred, [x_res[0:3]], axis=0)\n",
    "        anglepred = np.append(anglepred, [x_res[3:6]], axis=0)\n",
    "        Bstdev = np.append(Bstdev, [mags_stdev], axis=0)\n",
    "    locpred = np.delete(locpred, 0, axis=0)\n",
    "    anglepred = np.delete(anglepred, 0, axis=0)\n",
    "    Bstdev = np.delete(Bstdev, 0 ,axis=0)\n",
    "\n",
    "    return locpred, anglepred, Bstdev\n",
    "\n",
    "def actualangle(xind, yind, xscal, xcon, yscal, ycon, isoff):\n",
    "\n",
    "    angact = [np.array([0, 0, 0])]\n",
    "    for y in range(yind):\n",
    "        for x in range(xind):\n",
    "            R = Rotation.from_euler('ZYX' ,np.array([0, yscal*y-ycon, xscal*x-xcon]), degrees=True)\n",
    "            norm = np.array([[0, 0, 1]])\n",
    "            rotated = R.apply(norm, inverse=False)[0]\n",
    "            #add = np.array([np.sin(np.deg2rad(2*y-4)), -np.sin(np.deg2rad(2*x-4)), np.cos(np.deg2rad(2*y-4))*np.cos(np.deg2rad(2*x-4))])\n",
    "            angact = np.append(angact, [rotated], axis=0)\n",
    "    angact = np.delete(angact, 0, axis=0)\n",
    "    locact = angact*isoff\n",
    "\n",
    "    return angact, locact"
   ]
  },
  {
   "cell_type": "code",
   "execution_count": 128,
   "metadata": {},
   "outputs": [
    {
     "data": {
      "text/plain": [
       "array([[ 1.75126003, -0.54857268, 18.79170781, -0.35598961,  0.09312248,\n",
       "        -0.92983848],\n",
       "       [ 1.67149102, -0.63834328, 18.77667618, -0.34761289,  0.1378021 ,\n",
       "        -0.92745666],\n",
       "       [ 1.60536901, -0.74071323, 18.75979254, -0.33710399,  0.18283536,\n",
       "        -0.92354325],\n",
       "       [ 1.45853898, -0.86027633, 18.74916688, -0.31533509,  0.2320603 ,\n",
       "        -0.92016944],\n",
       "       [ 1.31684585, -0.96095877, 18.73181484, -0.29539633,  0.2776425 ,\n",
       "        -0.91414203],\n",
       "       [ 1.93038885, -0.45830604, 18.69587518, -0.41448242,  0.08027336,\n",
       "        -0.90651007],\n",
       "       [ 1.89474631, -0.5306139 , 18.68027183, -0.40954733,  0.11906585,\n",
       "        -0.90448566],\n",
       "       [ 1.82871018, -0.59698707, 18.67415053, -0.39966439,  0.15780109,\n",
       "        -0.90297685],\n",
       "       [ 1.71054411, -0.66755973, 18.67095879, -0.38443615,  0.19845848,\n",
       "        -0.90156701],\n",
       "       [ 1.58266679, -0.75713392, 18.66273765, -0.36576292,  0.24411805,\n",
       "        -0.89812241],\n",
       "       [ 2.06223228, -0.3710067 , 18.60332161, -0.46341169,  0.06728663,\n",
       "        -0.88358481],\n",
       "       [ 2.01799124, -0.41175607, 18.59193067, -0.4585804 ,  0.10434003,\n",
       "        -0.88250619],\n",
       "       [ 1.96654985, -0.45293809, 18.58748018, -0.45178658,  0.13689526,\n",
       "        -0.8815603 ],\n",
       "       [ 1.90135045, -0.50410063, 18.58427375, -0.44248635,  0.1722739 ,\n",
       "        -0.88007246],\n",
       "       [ 1.80514032, -0.58255829, 18.58488784, -0.42746369,  0.21380311,\n",
       "        -0.87838661],\n",
       "       [ 2.19655784, -0.32466379, 18.5033185 , -0.50996322,  0.05893268,\n",
       "        -0.85817507],\n",
       "       [ 2.1610335 , -0.33875302, 18.49188072, -0.50711501,  0.09059   ,\n",
       "        -0.85710432],\n",
       "       [ 2.12242853, -0.36148969, 18.48989423, -0.50117835,  0.1202469 ,\n",
       "        -0.85694862],\n",
       "       [ 2.05417677, -0.35657402, 18.49116057, -0.49361087,  0.15055025,\n",
       "        -0.85655293],\n",
       "       [ 1.96228852, -0.4018961 , 18.49932927, -0.48105453,  0.18694601,\n",
       "        -0.85652655],\n",
       "       [ 2.27358113, -0.25950252, 18.41106891, -0.5500805 ,  0.04800943,\n",
       "        -0.83373049],\n",
       "       [ 2.25633557, -0.26434895, 18.40093669, -0.54792251,  0.07661473,\n",
       "        -0.83301327],\n",
       "       [ 2.22017599, -0.2559514 , 18.39551129, -0.5448072 ,  0.10505936,\n",
       "        -0.83195412],\n",
       "       [ 2.17104921, -0.25150765, 18.39863187, -0.53860224,  0.13282115,\n",
       "        -0.83202534],\n",
       "       [ 2.11775735, -0.25371009, 18.4044055 , -0.53108647,  0.16205341,\n",
       "        -0.83167653]])"
      ]
     },
     "execution_count": 128,
     "metadata": {},
     "output_type": "execute_result"
    }
   ],
   "source": [
    "folder = r\"C:\\Users\\Brandon Nguyen\\Documents\\Github\\magnetic-sensor-data\\MLX06192024_D31N52_ForwardsIsocenter\"\n",
    "locpred, anglepred, Bstdev = importfitting(folder)\n",
    "np.append(locpred, anglepred, axis=1)"
   ]
  },
  {
   "cell_type": "code",
   "execution_count": 129,
   "metadata": {},
   "outputs": [
    {
     "name": "stdout",
     "output_type": "stream",
     "text": [
      "[[ 0.06958655 -0.06975647 -0.99513403]\n",
      " [ 0.06971398 -0.0348995  -0.99695636]\n",
      " [ 0.06975647  0.         -0.99756405]\n",
      " [ 0.06971398  0.0348995  -0.99695636]\n",
      " [ 0.06958655  0.06975647 -0.99513403]\n",
      " [ 0.03481448 -0.06975647 -0.99695636]\n",
      " [ 0.03487824 -0.0348995  -0.99878203]\n",
      " [ 0.0348995   0.         -0.99939083]\n",
      " [ 0.03487824  0.0348995  -0.99878203]\n",
      " [ 0.03481448  0.06975647 -0.99695636]\n",
      " [ 0.         -0.06975647 -0.99756405]\n",
      " [ 0.         -0.0348995  -0.99939083]\n",
      " [ 0.          0.         -1.        ]\n",
      " [ 0.          0.0348995  -0.99939083]\n",
      " [ 0.          0.06975647 -0.99756405]\n",
      " [-0.03481448 -0.06975647 -0.99695636]\n",
      " [-0.03487824 -0.0348995  -0.99878203]\n",
      " [-0.0348995   0.         -0.99939083]\n",
      " [-0.03487824  0.0348995  -0.99878203]\n",
      " [-0.03481448  0.06975647 -0.99695636]\n",
      " [-0.06958655 -0.06975647 -0.99513403]\n",
      " [-0.06971398 -0.0348995  -0.99695636]\n",
      " [-0.06975647  0.         -0.99756405]\n",
      " [-0.06971398  0.0348995  -0.99695636]\n",
      " [-0.06958655  0.06975647 -0.99513403]]\n",
      "[-4 -4 -4 -4 -4 -2 -2 -2 -2 -2  0  0  0  0  0  2  2  2  2  2  4  4  4  4\n",
      "  4]\n",
      "[-4 -2  0  2  4 -4 -2  0  2  4 -4 -2  0  2  4 -4 -2  0  2  4 -4 -2  0  2\n",
      "  4]\n"
     ]
    }
   ],
   "source": [
    "actang = [np.array([0, 0, 0])]\n",
    "xact = [np.array([0])]\n",
    "yact = [np.array([0])]\n",
    "for y in range(5):\n",
    "    for x in range(5):\n",
    "        R = Rotation.from_euler('ZYX' ,np.array([0, 2*y-4, 2*x-4]), degrees=True)\n",
    "        norm = np.array([[0, 0, -1]])\n",
    "        rotated = R.apply(norm, inverse=False)[0]\n",
    "        #add = np.array([np.sin(np.deg2rad(2*y-4)), -np.sin(np.deg2rad(2*x-4)), np.cos(np.deg2rad(2*y-4))*np.cos(np.deg2rad(2*x-4))])\n",
    "        actang = np.append(actang, [rotated], axis=0)\n",
    "        xact = np.append(xact, [2*y-4])\n",
    "        yact = np.append(yact, [2*x-4])\n",
    "actang = np.delete(actang, 0, axis=0)\n",
    "xact = np.delete(xact, 0, axis=0)\n",
    "yact = np.delete(yact, 0, axis=0)\n",
    "locact = actang*1\n",
    "np.sum(actang**2)\n",
    "print(actang)\n",
    "print(xact)\n",
    "print(yact)"
   ]
  },
  {
   "cell_type": "markdown",
   "metadata": {},
   "source": []
  },
  {
   "cell_type": "code",
   "execution_count": 132,
   "metadata": {},
   "outputs": [
    {
     "data": {
      "image/png": "[encoded data removed]",
      "text/plain": [
       "<Figure size 800x600 with 1 Axes>"
      ]
     },
     "metadata": {},
     "output_type": "display_data"
    },
    {
     "data": {
      "image/png": "[encoded data removed]",
      "text/plain": [
       "<Figure size 800x600 with 1 Axes>"
      ]
     },
     "metadata": {},
     "output_type": "display_data"
    },
    {
     "data": {
      "image/png": "[encoded data removed]",
      "text/plain": [
       "<Figure size 800x600 with 1 Axes>"
      ]
     },
     "metadata": {},
     "output_type": "display_data"
    },
    {
     "data": {
      "image/png": "[encoded data removed]",
      "text/plain": [
       "<Figure size 800x600 with 1 Axes>"
      ]
     },
     "metadata": {},
     "output_type": "display_data"
    }
   ],
   "source": [
    "comparison_plot(actang, anglepred, axis='x', relative=False)\n",
    "comparison_plot(actang, anglepred, axis='y', relative=False)\n",
    "comparison_plot(actang, anglepred, axis='z', relative=False)\n",
    "displacement_plot(locact, locpred)"
   ]
  },
  {
   "cell_type": "code",
   "execution_count": 131,
   "metadata": {},
   "outputs": [
    {
     "data": {
      "application/vnd.plotly.v1+json": {
       "config": {
        "plotlyServerURL": "https://plot.ly"
       },
       "data": [
        {
         "name": "Predicted",
         "type": "scatter3d",
         "x": [
          -4,
          -4,
          -4,
          -4,
          -4,
          -2,
          -2,
          -2,
          -2,
          -2,
          0,
          0,
          0,
          0,
          0,
          2,
          2,
          2,
          2,
          2,
          4,
          4,
          4,
          4,
          4
         ],
         "y": [
          -4,
          -2,
          0,
          2,
          4,
          -4,
          -2,
          0,
          2,
          4,
          -4,
          -2,
          0,
          2,
          4,
          -4,
          -2,
          0,
          2,
          4,
          -4,
          -2,
          0,
          2,
          4
         ],
         "z": [
          -0.3559896146259216,
          -0.3476128878446239,
          -0.3371039925493864,
          -0.31533509398348064,
          -0.29539633413674,
          -0.41448242262723906,
          -0.4095473339557208,
          -0.3996643906568919,
          -0.3844361529869136,
          -0.36576292395408344,
          -0.4634116864340427,
          -0.4585804029248737,
          -0.45178658399881816,
          -0.44248635053567303,
          -0.4274636862313774,
          -0.5099632156436447,
          -0.5071150097680162,
          -0.501178349232092,
          -0.4936108703018337,
          -0.48105453232120154,
          -0.5500805033192163,
          -0.5479225057387056,
          -0.5448071960418658,
          -0.5386022372344816,
          -0.5310864733770184
         ]
        },
        {
         "name": "Actual",
         "type": "scatter3d",
         "x": [
          -4,
          -4,
          -4,
          -4,
          -4,
          -2,
          -2,
          -2,
          -2,
          -2,
          0,
          0,
          0,
          0,
          0,
          2,
          2,
          2,
          2,
          2,
          4,
          4,
          4,
          4,
          4
         ],
         "y": [
          -4,
          -2,
          0,
          2,
          4,
          -4,
          -2,
          0,
          2,
          4,
          -4,
          -2,
          0,
          2,
          4,
          -4,
          -2,
          0,
          2,
          4,
          -4,
          -2,
          0,
          2,
          4
         ],
         "z": [
          0.06958655048003273,
          0.06971397998507722,
          0.0697564737441253,
          0.06971397998507722,
          0.06958655048003273,
          0.034814483282576254,
          0.03487823687206265,
          0.03489949670250097,
          0.03487823687206265,
          0.034814483282576254,
          0,
          0,
          0,
          0,
          0,
          -0.034814483282576254,
          -0.03487823687206265,
          -0.03489949670250097,
          -0.03487823687206265,
          -0.034814483282576254,
          -0.06958655048003273,
          -0.06971397998507722,
          -0.0697564737441253,
          -0.06971397998507722,
          -0.06958655048003273
         ]
        }
       ],
       "layout": {
        "template": {
         "data": {
          "bar": [
           {
            "error_x": {
             "color": "#2a3f5f"
            },
            "error_y": {
             "color": "#2a3f5f"
            },
            "marker": {
             "line": {
              "color": "#E5ECF6",
              "width": 0.5
             },
             "pattern": {
              "fillmode": "overlay",
              "size": 10,
              "solidity": 0.2
             }
            },
            "type": "bar"
           }
          ],
          "barpolar": [
           {
            "marker": {
             "line": {
              "color": "#E5ECF6",
              "width": 0.5
             },
             "pattern": {
              "fillmode": "overlay",
              "size": 10,
              "solidity": 0.2
             }
            },
            "type": "barpolar"
           }
          ],
          "carpet": [
           {
            "aaxis": {
             "endlinecolor": "#2a3f5f",
             "gridcolor": "white",
             "linecolor": "white",
             "minorgridcolor": "white",
             "startlinecolor": "#2a3f5f"
            },
            "baxis": {
             "endlinecolor": "#2a3f5f",
             "gridcolor": "white",
             "linecolor": "white",
             "minorgridcolor": "white",
             "startlinecolor": "#2a3f5f"
            },
            "type": "carpet"
           }
          ],
          "choropleth": [
           {
            "colorbar": {
             "outlinewidth": 0,
             "ticks": ""
            },
            "type": "choropleth"
           }
          ],
          "contour": [
           {
            "colorbar": {
             "outlinewidth": 0,
             "ticks": ""
            },
            "colorscale": [
             [
              0,
              "#0d0887"
             ],
             [
              0.1111111111111111,
              "#46039f"
             ],
             [
              0.2222222222222222,
              "#7201a8"
             ],
             [
              0.3333333333333333,
              "#9c179e"
             ],
             [
              0.4444444444444444,
              "#bd3786"
             ],
             [
              0.5555555555555556,
              "#d8576b"
             ],
             [
              0.6666666666666666,
              "#ed7953"
             ],
             [
              0.7777777777777778,
              "#fb9f3a"
             ],
             [
              0.8888888888888888,
              "#fdca26"
             ],
             [
              1,
              "#f0f921"
             ]
            ],
            "type": "contour"
           }
          ],
          "contourcarpet": [
           {
            "colorbar": {
             "outlinewidth": 0,
             "ticks": ""
            },
            "type": "contourcarpet"
           }
          ],
          "heatmap": [
           {
            "colorbar": {
             "outlinewidth": 0,
             "ticks": ""
            },
            "colorscale": [
             [
              0,
              "#0d0887"
             ],
             [
              0.1111111111111111,
              "#46039f"
             ],
             [
              0.2222222222222222,
              "#7201a8"
             ],
             [
              0.3333333333333333,
              "#9c179e"
             ],
             [
              0.4444444444444444,
              "#bd3786"
             ],
             [
              0.5555555555555556,
              "#d8576b"
             ],
             [
              0.6666666666666666,
              "#ed7953"
             ],
             [
              0.7777777777777778,
              "#fb9f3a"
             ],
             [
              0.8888888888888888,
              "#fdca26"
             ],
             [
              1,
              "#f0f921"
             ]
            ],
            "type": "heatmap"
           }
          ],
          "heatmapgl": [
           {
            "colorbar": {
             "outlinewidth": 0,
             "ticks": ""
            },
            "colorscale": [
             [
              0,
              "#0d0887"
             ],
             [
              0.1111111111111111,
              "#46039f"
             ],
             [
              0.2222222222222222,
              "#7201a8"
             ],
             [
              0.3333333333333333,
              "#9c179e"
             ],
             [
              0.4444444444444444,
              "#bd3786"
             ],
             [
              0.5555555555555556,
              "#d8576b"
             ],
             [
              0.6666666666666666,
              "#ed7953"
             ],
             [
              0.7777777777777778,
              "#fb9f3a"
             ],
             [
              0.8888888888888888,
              "#fdca26"
             ],
             [
              1,
              "#f0f921"
             ]
            ],
            "type": "heatmapgl"
           }
          ],
          "histogram": [
           {
            "marker": {
             "pattern": {
              "fillmode": "overlay",
              "size": 10,
              "solidity": 0.2
             }
            },
            "type": "histogram"
           }
          ],
          "histogram2d": [
           {
            "colorbar": {
             "outlinewidth": 0,
             "ticks": ""
            },
            "colorscale": [
             [
              0,
              "#0d0887"
             ],
             [
              0.1111111111111111,
              "#46039f"
             ],
             [
              0.2222222222222222,
              "#7201a8"
             ],
             [
              0.3333333333333333,
              "#9c179e"
             ],
             [
              0.4444444444444444,
              "#bd3786"
             ],
             [
              0.5555555555555556,
              "#d8576b"
             ],
             [
              0.6666666666666666,
              "#ed7953"
             ],
             [
              0.7777777777777778,
              "#fb9f3a"
             ],
             [
              0.8888888888888888,
              "#fdca26"
             ],
             [
              1,
              "#f0f921"
             ]
            ],
            "type": "histogram2d"
           }
          ],
          "histogram2dcontour": [
           {
            "colorbar": {
             "outlinewidth": 0,
             "ticks": ""
            },
            "colorscale": [
             [
              0,
              "#0d0887"
             ],
             [
              0.1111111111111111,
              "#46039f"
             ],
             [
              0.2222222222222222,
              "#7201a8"
             ],
             [
              0.3333333333333333,
              "#9c179e"
             ],
             [
              0.4444444444444444,
              "#bd3786"
             ],
             [
              0.5555555555555556,
              "#d8576b"
             ],
             [
              0.6666666666666666,
              "#ed7953"
             ],
             [
              0.7777777777777778,
              "#fb9f3a"
             ],
             [
              0.8888888888888888,
              "#fdca26"
             ],
             [
              1,
              "#f0f921"
             ]
            ],
            "type": "histogram2dcontour"
           }
          ],
          "mesh3d": [
           {
            "colorbar": {
             "outlinewidth": 0,
             "ticks": ""
            },
            "type": "mesh3d"
           }
          ],
          "parcoords": [
           {
            "line": {
             "colorbar": {
              "outlinewidth": 0,
              "ticks": ""
             }
            },
            "type": "parcoords"
           }
          ],
          "pie": [
           {
            "automargin": true,
            "type": "pie"
           }
          ],
          "scatter": [
           {
            "fillpattern": {
             "fillmode": "overlay",
             "size": 10,
             "solidity": 0.2
            },
            "type": "scatter"
           }
          ],
          "scatter3d": [
           {
            "line": {
             "colorbar": {
              "outlinewidth": 0,
              "ticks": ""
             }
            },
            "marker": {
             "colorbar": {
              "outlinewidth": 0,
              "ticks": ""
             }
            },
            "type": "scatter3d"
           }
          ],
          "scattercarpet": [
           {
            "marker": {
             "colorbar": {
              "outlinewidth": 0,
              "ticks": ""
             }
            },
            "type": "scattercarpet"
           }
          ],
          "scattergeo": [
           {
            "marker": {
             "colorbar": {
              "outlinewidth": 0,
              "ticks": ""
             }
            },
            "type": "scattergeo"
           }
          ],
          "scattergl": [
           {
            "marker": {
             "colorbar": {
              "outlinewidth": 0,
              "ticks": ""
             }
            },
            "type": "scattergl"
           }
          ],
          "scattermapbox": [
           {
            "marker": {
             "colorbar": {
              "outlinewidth": 0,
              "ticks": ""
             }
            },
            "type": "scattermapbox"
           }
          ],
          "scatterpolar": [
           {
            "marker": {
             "colorbar": {
              "outlinewidth": 0,
              "ticks": ""
             }
            },
            "type": "scatterpolar"
           }
          ],
          "scatterpolargl": [
           {
            "marker": {
             "colorbar": {
              "outlinewidth": 0,
              "ticks": ""
             }
            },
            "type": "scatterpolargl"
           }
          ],
          "scatterternary": [
           {
            "marker": {
             "colorbar": {
              "outlinewidth": 0,
              "ticks": ""
             }
            },
            "type": "scatterternary"
           }
          ],
          "surface": [
           {
            "colorbar": {
             "outlinewidth": 0,
             "ticks": ""
            },
            "colorscale": [
             [
              0,
              "#0d0887"
             ],
             [
              0.1111111111111111,
              "#46039f"
             ],
             [
              0.2222222222222222,
              "#7201a8"
             ],
             [
              0.3333333333333333,
              "#9c179e"
             ],
             [
              0.4444444444444444,
              "#bd3786"
             ],
             [
              0.5555555555555556,
              "#d8576b"
             ],
             [
              0.6666666666666666,
              "#ed7953"
             ],
             [
              0.7777777777777778,
              "#fb9f3a"
             ],
             [
              0.8888888888888888,
              "#fdca26"
             ],
             [
              1,
              "#f0f921"
             ]
            ],
            "type": "surface"
           }
          ],
          "table": [
           {
            "cells": {
             "fill": {
              "color": "#EBF0F8"
             },
             "line": {
              "color": "white"
             }
            },
            "header": {
             "fill": {
              "color": "#C8D4E3"
             },
             "line": {
              "color": "white"
             }
            },
            "type": "table"
           }
          ]
         },
         "layout": {
          "annotationdefaults": {
           "arrowcolor": "#2a3f5f",
           "arrowhead": 0,
           "arrowwidth": 1
          },
          "autotypenumbers": "strict",
          "coloraxis": {
           "colorbar": {
            "outlinewidth": 0,
            "ticks": ""
           }
          },
          "colorscale": {
           "diverging": [
            [
             0,
             "#8e0152"
            ],
            [
             0.1,
             "#c51b7d"
            ],
            [
             0.2,
             "#de77ae"
            ],
            [
             0.3,
             "#f1b6da"
            ],
            [
             0.4,
             "#fde0ef"
            ],
            [
             0.5,
             "#f7f7f7"
            ],
            [
             0.6,
             "#e6f5d0"
            ],
            [
             0.7,
             "#b8e186"
            ],
            [
             0.8,
             "#7fbc41"
            ],
            [
             0.9,
             "#4d9221"
            ],
            [
             1,
             "#276419"
            ]
           ],
           "sequential": [
            [
             0,
             "#0d0887"
            ],
            [
             0.1111111111111111,
             "#46039f"
            ],
            [
             0.2222222222222222,
             "#7201a8"
            ],
            [
             0.3333333333333333,
             "#9c179e"
            ],
            [
             0.4444444444444444,
             "#bd3786"
            ],
            [
             0.5555555555555556,
             "#d8576b"
            ],
            [
             0.6666666666666666,
             "#ed7953"
            ],
            [
             0.7777777777777778,
             "#fb9f3a"
            ],
            [
             0.8888888888888888,
             "#fdca26"
            ],
            [
             1,
             "#f0f921"
            ]
           ],
           "sequentialminus": [
            [
             0,
             "#0d0887"
            ],
            [
             0.1111111111111111,
             "#46039f"
            ],
            [
             0.2222222222222222,
             "#7201a8"
            ],
            [
             0.3333333333333333,
             "#9c179e"
            ],
            [
             0.4444444444444444,
             "#bd3786"
            ],
            [
             0.5555555555555556,
             "#d8576b"
            ],
            [
             0.6666666666666666,
             "#ed7953"
            ],
            [
             0.7777777777777778,
             "#fb9f3a"
            ],
            [
             0.8888888888888888,
             "#fdca26"
            ],
            [
             1,
             "#f0f921"
            ]
           ]
          },
          "colorway": [
           "#636efa",
           "#EF553B",
           "#00cc96",
           "#ab63fa",
           "#FFA15A",
           "#19d3f3",
           "#FF6692",
           "#B6E880",
           "#FF97FF",
           "#FECB52"
          ],
          "font": {
           "color": "#2a3f5f"
          },
          "geo": {
           "bgcolor": "white",
           "lakecolor": "white",
           "landcolor": "#E5ECF6",
           "showlakes": true,
           "showland": true,
           "subunitcolor": "white"
          },
          "hoverlabel": {
           "align": "left"
          },
          "hovermode": "closest",
          "mapbox": {
           "style": "light"
          },
          "paper_bgcolor": "white",
          "plot_bgcolor": "#E5ECF6",
          "polar": {
           "angularaxis": {
            "gridcolor": "white",
            "linecolor": "white",
            "ticks": ""
           },
           "bgcolor": "#E5ECF6",
           "radialaxis": {
            "gridcolor": "white",
            "linecolor": "white",
            "ticks": ""
           }
          },
          "scene": {
           "xaxis": {
            "backgroundcolor": "#E5ECF6",
            "gridcolor": "white",
            "gridwidth": 2,
            "linecolor": "white",
            "showbackground": true,
            "ticks": "",
            "zerolinecolor": "white"
           },
           "yaxis": {
            "backgroundcolor": "#E5ECF6",
            "gridcolor": "white",
            "gridwidth": 2,
            "linecolor": "white",
            "showbackground": true,
            "ticks": "",
            "zerolinecolor": "white"
           },
           "zaxis": {
            "backgroundcolor": "#E5ECF6",
            "gridcolor": "white",
            "gridwidth": 2,
            "linecolor": "white",
            "showbackground": true,
            "ticks": "",
            "zerolinecolor": "white"
           }
          },
          "shapedefaults": {
           "line": {
            "color": "#2a3f5f"
           }
          },
          "ternary": {
           "aaxis": {
            "gridcolor": "white",
            "linecolor": "white",
            "ticks": ""
           },
           "baxis": {
            "gridcolor": "white",
            "linecolor": "white",
            "ticks": ""
           },
           "bgcolor": "#E5ECF6",
           "caxis": {
            "gridcolor": "white",
            "linecolor": "white",
            "ticks": ""
           }
          },
          "title": {
           "x": 0.05
          },
          "xaxis": {
           "automargin": true,
           "gridcolor": "white",
           "linecolor": "white",
           "ticks": "",
           "title": {
            "standoff": 15
           },
           "zerolinecolor": "white",
           "zerolinewidth": 2
          },
          "yaxis": {
           "automargin": true,
           "gridcolor": "white",
           "linecolor": "white",
           "ticks": "",
           "title": {
            "standoff": 15
           },
           "zerolinecolor": "white",
           "zerolinewidth": 2
          }
         }
        }
       }
      }
     },
     "metadata": {},
     "output_type": "display_data"
    },
    {
     "data": {
      "application/vnd.plotly.v1+json": {
       "config": {
        "plotlyServerURL": "https://plot.ly"
       },
       "data": [
        {
         "name": "Predicted",
         "type": "scatter3d",
         "x": [
          -4,
          -4,
          -4,
          -4,
          -4,
          -2,
          -2,
          -2,
          -2,
          -2,
          0,
          0,
          0,
          0,
          0,
          2,
          2,
          2,
          2,
          2,
          4,
          4,
          4,
          4,
          4
         ],
         "y": [
          -4,
          -2,
          0,
          2,
          4,
          -4,
          -2,
          0,
          2,
          4,
          -4,
          -2,
          0,
          2,
          4,
          -4,
          -2,
          0,
          2,
          4,
          -4,
          -2,
          0,
          2,
          4
         ],
         "z": [
          0.0931224785632545,
          0.13780210429657458,
          0.18283536075233686,
          0.23206029705826986,
          0.2776424964080791,
          0.08027335970165465,
          0.11906584812635297,
          0.15780109333924744,
          0.19845847518841414,
          0.24411804886927665,
          0.06728662646774305,
          0.10434002790763743,
          0.13689525625678017,
          0.17227390132818285,
          0.2138031062065424,
          0.058932681491480364,
          0.09058999609780202,
          0.12024690272681218,
          0.15055025477319767,
          0.18694600858643703,
          0.048009425508068616,
          0.07661473459085028,
          0.10505935616299115,
          0.13282114855578944,
          0.16205340945177316
         ]
        },
        {
         "name": "Actual",
         "type": "scatter3d",
         "x": [
          -4,
          -4,
          -4,
          -4,
          -4,
          -2,
          -2,
          -2,
          -2,
          -2,
          0,
          0,
          0,
          0,
          0,
          2,
          2,
          2,
          2,
          2,
          4,
          4,
          4,
          4,
          4
         ],
         "y": [
          -4,
          -2,
          0,
          2,
          4,
          -4,
          -2,
          0,
          2,
          4,
          -4,
          -2,
          0,
          2,
          4,
          -4,
          -2,
          0,
          2,
          4,
          -4,
          -2,
          0,
          2,
          4
         ],
         "z": [
          -0.0697564737441253,
          -0.03489949670250097,
          0,
          0.03489949670250097,
          0.0697564737441253,
          -0.0697564737441253,
          -0.034899496702500976,
          0,
          0.034899496702500976,
          0.0697564737441253,
          -0.0697564737441253,
          -0.03489949670250097,
          0,
          0.03489949670250097,
          0.0697564737441253,
          -0.0697564737441253,
          -0.034899496702500976,
          0,
          0.034899496702500976,
          0.0697564737441253,
          -0.0697564737441253,
          -0.03489949670250097,
          0,
          0.03489949670250097,
          0.0697564737441253
         ]
        }
       ],
       "layout": {
        "template": {
         "data": {
          "bar": [
           {
            "error_x": {
             "color": "#2a3f5f"
            },
            "error_y": {
             "color": "#2a3f5f"
            },
            "marker": {
             "line": {
              "color": "#E5ECF6",
              "width": 0.5
             },
             "pattern": {
              "fillmode": "overlay",
              "size": 10,
              "solidity": 0.2
             }
            },
            "type": "bar"
           }
          ],
          "barpolar": [
           {
            "marker": {
             "line": {
              "color": "#E5ECF6",
              "width": 0.5
             },
             "pattern": {
              "fillmode": "overlay",
              "size": 10,
              "solidity": 0.2
             }
            },
            "type": "barpolar"
           }
          ],
          "carpet": [
           {
            "aaxis": {
             "endlinecolor": "#2a3f5f",
             "gridcolor": "white",
             "linecolor": "white",
             "minorgridcolor": "white",
             "startlinecolor": "#2a3f5f"
            },
            "baxis": {
             "endlinecolor": "#2a3f5f",
             "gridcolor": "white",
             "linecolor": "white",
             "minorgridcolor": "white",
             "startlinecolor": "#2a3f5f"
            },
            "type": "carpet"
           }
          ],
          "choropleth": [
           {
            "colorbar": {
             "outlinewidth": 0,
             "ticks": ""
            },
            "type": "choropleth"
           }
          ],
          "contour": [
           {
            "colorbar": {
             "outlinewidth": 0,
             "ticks": ""
            },
            "colorscale": [
             [
              0,
              "#0d0887"
             ],
             [
              0.1111111111111111,
              "#46039f"
             ],
             [
              0.2222222222222222,
              "#7201a8"
             ],
             [
              0.3333333333333333,
              "#9c179e"
             ],
             [
              0.4444444444444444,
              "#bd3786"
             ],
             [
              0.5555555555555556,
              "#d8576b"
             ],
             [
              0.6666666666666666,
              "#ed7953"
             ],
             [
              0.7777777777777778,
              "#fb9f3a"
             ],
             [
              0.8888888888888888,
              "#fdca26"
             ],
             [
              1,
              "#f0f921"
             ]
            ],
            "type": "contour"
           }
          ],
          "contourcarpet": [
           {
            "colorbar": {
             "outlinewidth": 0,
             "ticks": ""
            },
            "type": "contourcarpet"
           }
          ],
          "heatmap": [
           {
            "colorbar": {
             "outlinewidth": 0,
             "ticks": ""
            },
            "colorscale": [
             [
              0,
              "#0d0887"
             ],
             [
              0.1111111111111111,
              "#46039f"
             ],
             [
              0.2222222222222222,
              "#7201a8"
             ],
             [
              0.3333333333333333,
              "#9c179e"
             ],
             [
              0.4444444444444444,
              "#bd3786"
             ],
             [
              0.5555555555555556,
              "#d8576b"
             ],
             [
              0.6666666666666666,
              "#ed7953"
             ],
             [
              0.7777777777777778,
              "#fb9f3a"
             ],
             [
              0.8888888888888888,
              "#fdca26"
             ],
             [
              1,
              "#f0f921"
             ]
            ],
            "type": "heatmap"
           }
          ],
          "heatmapgl": [
           {
            "colorbar": {
             "outlinewidth": 0,
             "ticks": ""
            },
            "colorscale": [
             [
              0,
              "#0d0887"
             ],
             [
              0.1111111111111111,
              "#46039f"
             ],
             [
              0.2222222222222222,
              "#7201a8"
             ],
             [
              0.3333333333333333,
              "#9c179e"
             ],
             [
              0.4444444444444444,
              "#bd3786"
             ],
             [
              0.5555555555555556,
              "#d8576b"
             ],
             [
              0.6666666666666666,
              "#ed7953"
             ],
             [
              0.7777777777777778,
              "#fb9f3a"
             ],
             [
              0.8888888888888888,
              "#fdca26"
             ],
             [
              1,
              "#f0f921"
             ]
            ],
            "type": "heatmapgl"
           }
          ],
          "histogram": [
           {
            "marker": {
             "pattern": {
              "fillmode": "overlay",
              "size": 10,
              "solidity": 0.2
             }
            },
            "type": "histogram"
           }
          ],
          "histogram2d": [
           {
            "colorbar": {
             "outlinewidth": 0,
             "ticks": ""
            },
            "colorscale": [
             [
              0,
              "#0d0887"
             ],
             [
              0.1111111111111111,
              "#46039f"
             ],
             [
              0.2222222222222222,
              "#7201a8"
             ],
             [
              0.3333333333333333,
              "#9c179e"
             ],
             [
              0.4444444444444444,
              "#bd3786"
             ],
             [
              0.5555555555555556,
              "#d8576b"
             ],
             [
              0.6666666666666666,
              "#ed7953"
             ],
             [
              0.7777777777777778,
              "#fb9f3a"
             ],
             [
              0.8888888888888888,
              "#fdca26"
             ],
             [
              1,
              "#f0f921"
             ]
            ],
            "type": "histogram2d"
           }
          ],
          "histogram2dcontour": [
           {
            "colorbar": {
             "outlinewidth": 0,
             "ticks": ""
            },
            "colorscale": [
             [
              0,
              "#0d0887"
             ],
             [
              0.1111111111111111,
              "#46039f"
             ],
             [
              0.2222222222222222,
              "#7201a8"
             ],
             [
              0.3333333333333333,
              "#9c179e"
             ],
             [
              0.4444444444444444,
              "#bd3786"
             ],
             [
              0.5555555555555556,
              "#d8576b"
             ],
             [
              0.6666666666666666,
              "#ed7953"
             ],
             [
              0.7777777777777778,
              "#fb9f3a"
             ],
             [
              0.8888888888888888,
              "#fdca26"
             ],
             [
              1,
              "#f0f921"
             ]
            ],
            "type": "histogram2dcontour"
           }
          ],
          "mesh3d": [
           {
            "colorbar": {
             "outlinewidth": 0,
             "ticks": ""
            },
            "type": "mesh3d"
           }
          ],
          "parcoords": [
           {
            "line": {
             "colorbar": {
              "outlinewidth": 0,
              "ticks": ""
             }
            },
            "type": "parcoords"
           }
          ],
          "pie": [
           {
            "automargin": true,
            "type": "pie"
           }
          ],
          "scatter": [
           {
            "fillpattern": {
             "fillmode": "overlay",
             "size": 10,
             "solidity": 0.2
            },
            "type": "scatter"
           }
          ],
          "scatter3d": [
           {
            "line": {
             "colorbar": {
              "outlinewidth": 0,
              "ticks": ""
             }
            },
            "marker": {
             "colorbar": {
              "outlinewidth": 0,
              "ticks": ""
             }
            },
            "type": "scatter3d"
           }
          ],
          "scattercarpet": [
           {
            "marker": {
             "colorbar": {
              "outlinewidth": 0,
              "ticks": ""
             }
            },
            "type": "scattercarpet"
           }
          ],
          "scattergeo": [
           {
            "marker": {
             "colorbar": {
              "outlinewidth": 0,
              "ticks": ""
             }
            },
            "type": "scattergeo"
           }
          ],
          "scattergl": [
           {
            "marker": {
             "colorbar": {
              "outlinewidth": 0,
              "ticks": ""
             }
            },
            "type": "scattergl"
           }
          ],
          "scattermapbox": [
           {
            "marker": {
             "colorbar": {
              "outlinewidth": 0,
              "ticks": ""
             }
            },
            "type": "scattermapbox"
           }
          ],
          "scatterpolar": [
           {
            "marker": {
             "colorbar": {
              "outlinewidth": 0,
              "ticks": ""
             }
            },
            "type": "scatterpolar"
           }
          ],
          "scatterpolargl": [
           {
            "marker": {
             "colorbar": {
              "outlinewidth": 0,
              "ticks": ""
             }
            },
            "type": "scatterpolargl"
           }
          ],
          "scatterternary": [
           {
            "marker": {
             "colorbar": {
              "outlinewidth": 0,
              "ticks": ""
             }
            },
            "type": "scatterternary"
           }
          ],
          "surface": [
           {
            "colorbar": {
             "outlinewidth": 0,
             "ticks": ""
            },
            "colorscale": [
             [
              0,
              "#0d0887"
             ],
             [
              0.1111111111111111,
              "#46039f"
             ],
             [
              0.2222222222222222,
              "#7201a8"
             ],
             [
              0.3333333333333333,
              "#9c179e"
             ],
             [
              0.4444444444444444,
              "#bd3786"
             ],
             [
              0.5555555555555556,
              "#d8576b"
             ],
             [
              0.6666666666666666,
              "#ed7953"
             ],
             [
              0.7777777777777778,
              "#fb9f3a"
             ],
             [
              0.8888888888888888,
              "#fdca26"
             ],
             [
              1,
              "#f0f921"
             ]
            ],
            "type": "surface"
           }
          ],
          "table": [
           {
            "cells": {
             "fill": {
              "color": "#EBF0F8"
             },
             "line": {
              "color": "white"
             }
            },
            "header": {
             "fill": {
              "color": "#C8D4E3"
             },
             "line": {
              "color": "white"
             }
            },
            "type": "table"
           }
          ]
         },
         "layout": {
          "annotationdefaults": {
           "arrowcolor": "#2a3f5f",
           "arrowhead": 0,
           "arrowwidth": 1
          },
          "autotypenumbers": "strict",
          "coloraxis": {
           "colorbar": {
            "outlinewidth": 0,
            "ticks": ""
           }
          },
          "colorscale": {
           "diverging": [
            [
             0,
             "#8e0152"
            ],
            [
             0.1,
             "#c51b7d"
            ],
            [
             0.2,
             "#de77ae"
            ],
            [
             0.3,
             "#f1b6da"
            ],
            [
             0.4,
             "#fde0ef"
            ],
            [
             0.5,
             "#f7f7f7"
            ],
            [
             0.6,
             "#e6f5d0"
            ],
            [
             0.7,
             "#b8e186"
            ],
            [
             0.8,
             "#7fbc41"
            ],
            [
             0.9,
             "#4d9221"
            ],
            [
             1,
             "#276419"
            ]
           ],
           "sequential": [
            [
             0,
             "#0d0887"
            ],
            [
             0.1111111111111111,
             "#46039f"
            ],
            [
             0.2222222222222222,
             "#7201a8"
            ],
            [
             0.3333333333333333,
             "#9c179e"
            ],
            [
             0.4444444444444444,
             "#bd3786"
            ],
            [
             0.5555555555555556,
             "#d8576b"
            ],
            [
             0.6666666666666666,
             "#ed7953"
            ],
            [
             0.7777777777777778,
             "#fb9f3a"
            ],
            [
             0.8888888888888888,
             "#fdca26"
            ],
            [
             1,
             "#f0f921"
            ]
           ],
           "sequentialminus": [
            [
             0,
             "#0d0887"
            ],
            [
             0.1111111111111111,
             "#46039f"
            ],
            [
             0.2222222222222222,
             "#7201a8"
            ],
            [
             0.3333333333333333,
             "#9c179e"
            ],
            [
             0.4444444444444444,
             "#bd3786"
            ],
            [
             0.5555555555555556,
             "#d8576b"
            ],
            [
             0.6666666666666666,
             "#ed7953"
            ],
            [
             0.7777777777777778,
             "#fb9f3a"
            ],
            [
             0.8888888888888888,
             "#fdca26"
            ],
            [
             1,
             "#f0f921"
            ]
           ]
          },
          "colorway": [
           "#636efa",
           "#EF553B",
           "#00cc96",
           "#ab63fa",
           "#FFA15A",
           "#19d3f3",
           "#FF6692",
           "#B6E880",
           "#FF97FF",
           "#FECB52"
          ],
          "font": {
           "color": "#2a3f5f"
          },
          "geo": {
           "bgcolor": "white",
           "lakecolor": "white",
           "landcolor": "#E5ECF6",
           "showlakes": true,
           "showland": true,
           "subunitcolor": "white"
          },
          "hoverlabel": {
           "align": "left"
          },
          "hovermode": "closest",
          "mapbox": {
           "style": "light"
          },
          "paper_bgcolor": "white",
          "plot_bgcolor": "#E5ECF6",
          "polar": {
           "angularaxis": {
            "gridcolor": "white",
            "linecolor": "white",
            "ticks": ""
           },
           "bgcolor": "#E5ECF6",
           "radialaxis": {
            "gridcolor": "white",
            "linecolor": "white",
            "ticks": ""
           }
          },
          "scene": {
           "xaxis": {
            "backgroundcolor": "#E5ECF6",
            "gridcolor": "white",
            "gridwidth": 2,
            "linecolor": "white",
            "showbackground": true,
            "ticks": "",
            "zerolinecolor": "white"
           },
           "yaxis": {
            "backgroundcolor": "#E5ECF6",
            "gridcolor": "white",
            "gridwidth": 2,
            "linecolor": "white",
            "showbackground": true,
            "ticks": "",
            "zerolinecolor": "white"
           },
           "zaxis": {
            "backgroundcolor": "#E5ECF6",
            "gridcolor": "white",
            "gridwidth": 2,
            "linecolor": "white",
            "showbackground": true,
            "ticks": "",
            "zerolinecolor": "white"
           }
          },
          "shapedefaults": {
           "line": {
            "color": "#2a3f5f"
           }
          },
          "ternary": {
           "aaxis": {
            "gridcolor": "white",
            "linecolor": "white",
            "ticks": ""
           },
           "baxis": {
            "gridcolor": "white",
            "linecolor": "white",
            "ticks": ""
           },
           "bgcolor": "#E5ECF6",
           "caxis": {
            "gridcolor": "white",
            "linecolor": "white",
            "ticks": ""
           }
          },
          "title": {
           "x": 0.05
          },
          "xaxis": {
           "automargin": true,
           "gridcolor": "white",
           "linecolor": "white",
           "ticks": "",
           "title": {
            "standoff": 15
           },
           "zerolinecolor": "white",
           "zerolinewidth": 2
          },
          "yaxis": {
           "automargin": true,
           "gridcolor": "white",
           "linecolor": "white",
           "ticks": "",
           "title": {
            "standoff": 15
           },
           "zerolinecolor": "white",
           "zerolinewidth": 2
          }
         }
        }
       }
      }
     },
     "metadata": {},
     "output_type": "display_data"
    },
    {
     "data": {
      "application/vnd.plotly.v1+json": {
       "config": {
        "plotlyServerURL": "https://plot.ly"
       },
       "data": [
        {
         "name": "Predicted",
         "type": "scatter3d",
         "x": [
          -4,
          -4,
          -4,
          -4,
          -4,
          -2,
          -2,
          -2,
          -2,
          -2,
          0,
          0,
          0,
          0,
          0,
          2,
          2,
          2,
          2,
          2,
          4,
          4,
          4,
          4,
          4
         ],
         "y": [
          -4,
          -2,
          0,
          2,
          4,
          -4,
          -2,
          0,
          2,
          4,
          -4,
          -2,
          0,
          2,
          4,
          -4,
          -2,
          0,
          2,
          4,
          -4,
          -2,
          0,
          2,
          4
         ],
         "z": [
          -0.9298384796644652,
          -0.9274566621981627,
          -0.9235432469927037,
          -0.9201694393054233,
          -0.9141420294280672,
          -0.9065100711273227,
          -0.9044856577413009,
          -0.9029768489733241,
          -0.9015670124303081,
          -0.8981224090717349,
          -0.8835848113084263,
          -0.882506188436939,
          -0.881560304989437,
          -0.8800724586707558,
          -0.8783866055046129,
          -0.8581750740627563,
          -0.8571043223989627,
          -0.8569486242742933,
          -0.8565529344457303,
          -0.8565265476369252,
          -0.8337304929834718,
          -0.8330132712919955,
          -0.8319541158162617,
          -0.8320253436899215,
          -0.8316765298365811
         ]
        },
        {
         "name": "Actual",
         "type": "scatter3d",
         "x": [
          -4,
          -4,
          -4,
          -4,
          -4,
          -2,
          -2,
          -2,
          -2,
          -2,
          0,
          0,
          0,
          0,
          0,
          2,
          2,
          2,
          2,
          2,
          4,
          4,
          4,
          4,
          4
         ],
         "y": [
          -4,
          -2,
          0,
          2,
          4,
          -4,
          -2,
          0,
          2,
          4,
          -4,
          -2,
          0,
          2,
          4,
          -4,
          -2,
          0,
          2,
          4,
          -4,
          -2,
          0,
          2,
          4
         ],
         "z": [
          -0.9951340343707853,
          -0.9969563611936847,
          -0.9975640502598243,
          -0.9969563611936847,
          -0.9951340343707853,
          -0.9969563611936847,
          -0.9987820251299122,
          -0.9993908270190958,
          -0.9987820251299122,
          -0.9969563611936847,
          -0.9975640502598243,
          -0.9993908270190958,
          -1,
          -0.9993908270190958,
          -0.9975640502598243,
          -0.9969563611936847,
          -0.9987820251299122,
          -0.9993908270190958,
          -0.9987820251299122,
          -0.9969563611936847,
          -0.9951340343707853,
          -0.9969563611936847,
          -0.9975640502598243,
          -0.9969563611936847,
          -0.9951340343707853
         ]
        }
       ],
       "layout": {
        "template": {
         "data": {
          "bar": [
           {
            "error_x": {
             "color": "#2a3f5f"
            },
            "error_y": {
             "color": "#2a3f5f"
            },
            "marker": {
             "line": {
              "color": "#E5ECF6",
              "width": 0.5
             },
             "pattern": {
              "fillmode": "overlay",
              "size": 10,
              "solidity": 0.2
             }
            },
            "type": "bar"
           }
          ],
          "barpolar": [
           {
            "marker": {
             "line": {
              "color": "#E5ECF6",
              "width": 0.5
             },
             "pattern": {
              "fillmode": "overlay",
              "size": 10,
              "solidity": 0.2
             }
            },
            "type": "barpolar"
           }
          ],
          "carpet": [
           {
            "aaxis": {
             "endlinecolor": "#2a3f5f",
             "gridcolor": "white",
             "linecolor": "white",
             "minorgridcolor": "white",
             "startlinecolor": "#2a3f5f"
            },
            "baxis": {
             "endlinecolor": "#2a3f5f",
             "gridcolor": "white",
             "linecolor": "white",
             "minorgridcolor": "white",
             "startlinecolor": "#2a3f5f"
            },
            "type": "carpet"
           }
          ],
          "choropleth": [
           {
            "colorbar": {
             "outlinewidth": 0,
             "ticks": ""
            },
            "type": "choropleth"
           }
          ],
          "contour": [
           {
            "colorbar": {
             "outlinewidth": 0,
             "ticks": ""
            },
            "colorscale": [
             [
              0,
              "#0d0887"
             ],
             [
              0.1111111111111111,
              "#46039f"
             ],
             [
              0.2222222222222222,
              "#7201a8"
             ],
             [
              0.3333333333333333,
              "#9c179e"
             ],
             [
              0.4444444444444444,
              "#bd3786"
             ],
             [
              0.5555555555555556,
              "#d8576b"
             ],
             [
              0.6666666666666666,
              "#ed7953"
             ],
             [
              0.7777777777777778,
              "#fb9f3a"
             ],
             [
              0.8888888888888888,
              "#fdca26"
             ],
             [
              1,
              "#f0f921"
             ]
            ],
            "type": "contour"
           }
          ],
          "contourcarpet": [
           {
            "colorbar": {
             "outlinewidth": 0,
             "ticks": ""
            },
            "type": "contourcarpet"
           }
          ],
          "heatmap": [
           {
            "colorbar": {
             "outlinewidth": 0,
             "ticks": ""
            },
            "colorscale": [
             [
              0,
              "#0d0887"
             ],
             [
              0.1111111111111111,
              "#46039f"
             ],
             [
              0.2222222222222222,
              "#7201a8"
             ],
             [
              0.3333333333333333,
              "#9c179e"
             ],
             [
              0.4444444444444444,
              "#bd3786"
             ],
             [
              0.5555555555555556,
              "#d8576b"
             ],
             [
              0.6666666666666666,
              "#ed7953"
             ],
             [
              0.7777777777777778,
              "#fb9f3a"
             ],
             [
              0.8888888888888888,
              "#fdca26"
             ],
             [
              1,
              "#f0f921"
             ]
            ],
            "type": "heatmap"
           }
          ],
          "heatmapgl": [
           {
            "colorbar": {
             "outlinewidth": 0,
             "ticks": ""
            },
            "colorscale": [
             [
              0,
              "#0d0887"
             ],
             [
              0.1111111111111111,
              "#46039f"
             ],
             [
              0.2222222222222222,
              "#7201a8"
             ],
             [
              0.3333333333333333,
              "#9c179e"
             ],
             [
              0.4444444444444444,
              "#bd3786"
             ],
             [
              0.5555555555555556,
              "#d8576b"
             ],
             [
              0.6666666666666666,
              "#ed7953"
             ],
             [
              0.7777777777777778,
              "#fb9f3a"
             ],
             [
              0.8888888888888888,
              "#fdca26"
             ],
             [
              1,
              "#f0f921"
             ]
            ],
            "type": "heatmapgl"
           }
          ],
          "histogram": [
           {
            "marker": {
             "pattern": {
              "fillmode": "overlay",
              "size": 10,
              "solidity": 0.2
             }
            },
            "type": "histogram"
           }
          ],
          "histogram2d": [
           {
            "colorbar": {
             "outlinewidth": 0,
             "ticks": ""
            },
            "colorscale": [
             [
              0,
              "#0d0887"
             ],
             [
              0.1111111111111111,
              "#46039f"
             ],
             [
              0.2222222222222222,
              "#7201a8"
             ],
             [
              0.3333333333333333,
              "#9c179e"
             ],
             [
              0.4444444444444444,
              "#bd3786"
             ],
             [
              0.5555555555555556,
              "#d8576b"
             ],
             [
              0.6666666666666666,
              "#ed7953"
             ],
             [
              0.7777777777777778,
              "#fb9f3a"
             ],
             [
              0.8888888888888888,
              "#fdca26"
             ],
             [
              1,
              "#f0f921"
             ]
            ],
            "type": "histogram2d"
           }
          ],
          "histogram2dcontour": [
           {
            "colorbar": {
             "outlinewidth": 0,
             "ticks": ""
            },
            "colorscale": [
             [
              0,
              "#0d0887"
             ],
             [
              0.1111111111111111,
              "#46039f"
             ],
             [
              0.2222222222222222,
              "#7201a8"
             ],
             [
              0.3333333333333333,
              "#9c179e"
             ],
             [
              0.4444444444444444,
              "#bd3786"
             ],
             [
              0.5555555555555556,
              "#d8576b"
             ],
             [
              0.6666666666666666,
              "#ed7953"
             ],
             [
              0.7777777777777778,
              "#fb9f3a"
             ],
             [
              0.8888888888888888,
              "#fdca26"
             ],
             [
              1,
              "#f0f921"
             ]
            ],
            "type": "histogram2dcontour"
           }
          ],
          "mesh3d": [
           {
            "colorbar": {
             "outlinewidth": 0,
             "ticks": ""
            },
            "type": "mesh3d"
           }
          ],
          "parcoords": [
           {
            "line": {
             "colorbar": {
              "outlinewidth": 0,
              "ticks": ""
             }
            },
            "type": "parcoords"
           }
          ],
          "pie": [
           {
            "automargin": true,
            "type": "pie"
           }
          ],
          "scatter": [
           {
            "fillpattern": {
             "fillmode": "overlay",
             "size": 10,
             "solidity": 0.2
            },
            "type": "scatter"
           }
          ],
          "scatter3d": [
           {
            "line": {
             "colorbar": {
              "outlinewidth": 0,
              "ticks": ""
             }
            },
            "marker": {
             "colorbar": {
              "outlinewidth": 0,
              "ticks": ""
             }
            },
            "type": "scatter3d"
           }
          ],
          "scattercarpet": [
           {
            "marker": {
             "colorbar": {
              "outlinewidth": 0,
              "ticks": ""
             }
            },
            "type": "scattercarpet"
           }
          ],
          "scattergeo": [
           {
            "marker": {
             "colorbar": {
              "outlinewidth": 0,
              "ticks": ""
             }
            },
            "type": "scattergeo"
           }
          ],
          "scattergl": [
           {
            "marker": {
             "colorbar": {
              "outlinewidth": 0,
              "ticks": ""
             }
            },
            "type": "scattergl"
           }
          ],
          "scattermapbox": [
           {
            "marker": {
             "colorbar": {
              "outlinewidth": 0,
              "ticks": ""
             }
            },
            "type": "scattermapbox"
           }
          ],
          "scatterpolar": [
           {
            "marker": {
             "colorbar": {
              "outlinewidth": 0,
              "ticks": ""
             }
            },
            "type": "scatterpolar"
           }
          ],
          "scatterpolargl": [
           {
            "marker": {
             "colorbar": {
              "outlinewidth": 0,
              "ticks": ""
             }
            },
            "type": "scatterpolargl"
           }
          ],
          "scatterternary": [
           {
            "marker": {
             "colorbar": {
              "outlinewidth": 0,
              "ticks": ""
             }
            },
            "type": "scatterternary"
           }
          ],
          "surface": [
           {
            "colorbar": {
             "outlinewidth": 0,
             "ticks": ""
            },
            "colorscale": [
             [
              0,
              "#0d0887"
             ],
             [
              0.1111111111111111,
              "#46039f"
             ],
             [
              0.2222222222222222,
              "#7201a8"
             ],
             [
              0.3333333333333333,
              "#9c179e"
             ],
             [
              0.4444444444444444,
              "#bd3786"
             ],
             [
              0.5555555555555556,
              "#d8576b"
             ],
             [
              0.6666666666666666,
              "#ed7953"
             ],
             [
              0.7777777777777778,
              "#fb9f3a"
             ],
             [
              0.8888888888888888,
              "#fdca26"
             ],
             [
              1,
              "#f0f921"
             ]
            ],
            "type": "surface"
           }
          ],
          "table": [
           {
            "cells": {
             "fill": {
              "color": "#EBF0F8"
             },
             "line": {
              "color": "white"
             }
            },
            "header": {
             "fill": {
              "color": "#C8D4E3"
             },
             "line": {
              "color": "white"
             }
            },
            "type": "table"
           }
          ]
         },
         "layout": {
          "annotationdefaults": {
           "arrowcolor": "#2a3f5f",
           "arrowhead": 0,
           "arrowwidth": 1
          },
          "autotypenumbers": "strict",
          "coloraxis": {
           "colorbar": {
            "outlinewidth": 0,
            "ticks": ""
           }
          },
          "colorscale": {
           "diverging": [
            [
             0,
             "#8e0152"
            ],
            [
             0.1,
             "#c51b7d"
            ],
            [
             0.2,
             "#de77ae"
            ],
            [
             0.3,
             "#f1b6da"
            ],
            [
             0.4,
             "#fde0ef"
            ],
            [
             0.5,
             "#f7f7f7"
            ],
            [
             0.6,
             "#e6f5d0"
            ],
            [
             0.7,
             "#b8e186"
            ],
            [
             0.8,
             "#7fbc41"
            ],
            [
             0.9,
             "#4d9221"
            ],
            [
             1,
             "#276419"
            ]
           ],
           "sequential": [
            [
             0,
             "#0d0887"
            ],
            [
             0.1111111111111111,
             "#46039f"
            ],
            [
             0.2222222222222222,
             "#7201a8"
            ],
            [
             0.3333333333333333,
             "#9c179e"
            ],
            [
             0.4444444444444444,
             "#bd3786"
            ],
            [
             0.5555555555555556,
             "#d8576b"
            ],
            [
             0.6666666666666666,
             "#ed7953"
            ],
            [
             0.7777777777777778,
             "#fb9f3a"
            ],
            [
             0.8888888888888888,
             "#fdca26"
            ],
            [
             1,
             "#f0f921"
            ]
           ],
           "sequentialminus": [
            [
             0,
             "#0d0887"
            ],
            [
             0.1111111111111111,
             "#46039f"
            ],
            [
             0.2222222222222222,
             "#7201a8"
            ],
            [
             0.3333333333333333,
             "#9c179e"
            ],
            [
             0.4444444444444444,
             "#bd3786"
            ],
            [
             0.5555555555555556,
             "#d8576b"
            ],
            [
             0.6666666666666666,
             "#ed7953"
            ],
            [
             0.7777777777777778,
             "#fb9f3a"
            ],
            [
             0.8888888888888888,
             "#fdca26"
            ],
            [
             1,
             "#f0f921"
            ]
           ]
          },
          "colorway": [
           "#636efa",
           "#EF553B",
           "#00cc96",
           "#ab63fa",
           "#FFA15A",
           "#19d3f3",
           "#FF6692",
           "#B6E880",
           "#FF97FF",
           "#FECB52"
          ],
          "font": {
           "color": "#2a3f5f"
          },
          "geo": {
           "bgcolor": "white",
           "lakecolor": "white",
           "landcolor": "#E5ECF6",
           "showlakes": true,
           "showland": true,
           "subunitcolor": "white"
          },
          "hoverlabel": {
           "align": "left"
          },
          "hovermode": "closest",
          "mapbox": {
           "style": "light"
          },
          "paper_bgcolor": "white",
          "plot_bgcolor": "#E5ECF6",
          "polar": {
           "angularaxis": {
            "gridcolor": "white",
            "linecolor": "white",
            "ticks": ""
           },
           "bgcolor": "#E5ECF6",
           "radialaxis": {
            "gridcolor": "white",
            "linecolor": "white",
            "ticks": ""
           }
          },
          "scene": {
           "xaxis": {
            "backgroundcolor": "#E5ECF6",
            "gridcolor": "white",
            "gridwidth": 2,
            "linecolor": "white",
            "showbackground": true,
            "ticks": "",
            "zerolinecolor": "white"
           },
           "yaxis": {
            "backgroundcolor": "#E5ECF6",
            "gridcolor": "white",
            "gridwidth": 2,
            "linecolor": "white",
            "showbackground": true,
            "ticks": "",
            "zerolinecolor": "white"
           },
           "zaxis": {
            "backgroundcolor": "#E5ECF6",
            "gridcolor": "white",
            "gridwidth": 2,
            "linecolor": "white",
            "showbackground": true,
            "ticks": "",
            "zerolinecolor": "white"
           }
          },
          "shapedefaults": {
           "line": {
            "color": "#2a3f5f"
           }
          },
          "ternary": {
           "aaxis": {
            "gridcolor": "white",
            "linecolor": "white",
            "ticks": ""
           },
           "baxis": {
            "gridcolor": "white",
            "linecolor": "white",
            "ticks": ""
           },
           "bgcolor": "#E5ECF6",
           "caxis": {
            "gridcolor": "white",
            "linecolor": "white",
            "ticks": ""
           }
          },
          "title": {
           "x": 0.05
          },
          "xaxis": {
           "automargin": true,
           "gridcolor": "white",
           "linecolor": "white",
           "ticks": "",
           "title": {
            "standoff": 15
           },
           "zerolinecolor": "white",
           "zerolinewidth": 2
          },
          "yaxis": {
           "automargin": true,
           "gridcolor": "white",
           "linecolor": "white",
           "ticks": "",
           "title": {
            "standoff": 15
           },
           "zerolinecolor": "white",
           "zerolinewidth": 2
          }
         }
        }
       }
      }
     },
     "metadata": {},
     "output_type": "display_data"
    }
   ],
   "source": [
    "comp_plot3D(actang, anglepred, xact, yact, axis='x', relative=False)\n",
    "comp_plot3D(actang, anglepred, xact, yact, axis='y', relative=False)\n",
    "comp_plot3D(actang, anglepred, xact, yact, axis='z', relative=False)"
   ]
  },
  {
   "cell_type": "code",
   "execution_count": 136,
   "metadata": {},
   "outputs": [
    {
     "data": {
      "application/vnd.plotly.v1+json": {
       "config": {
        "plotlyServerURL": "https://plot.ly"
       },
       "data": [
        {
         "sizemode": "absolute",
         "sizeref": 10,
         "type": "cone",
         "u": [
          -0.3559896146259216,
          -0.3476128878446239,
          -0.3371039925493864,
          -0.31533509398348064,
          -0.29539633413674,
          -0.41448242262723906,
          -0.4095473339557208,
          -0.3996643906568919,
          -0.3844361529869136,
          -0.36576292395408344,
          -0.4634116864340427,
          -0.4585804029248737,
          -0.45178658399881816,
          -0.44248635053567303,
          -0.4274636862313774,
          -0.5099632156436447,
          -0.5071150097680162,
          -0.501178349232092,
          -0.4936108703018337,
          -0.48105453232120154,
          -0.5500805033192163,
          -0.5479225057387056,
          -0.5448071960418658,
          -0.5386022372344816,
          -0.5310864733770184
         ],
         "v": [
          0.0931224785632545,
          0.13780210429657458,
          0.18283536075233686,
          0.23206029705826986,
          0.2776424964080791,
          0.08027335970165465,
          0.11906584812635297,
          0.15780109333924744,
          0.19845847518841414,
          0.24411804886927665,
          0.06728662646774305,
          0.10434002790763743,
          0.13689525625678017,
          0.17227390132818285,
          0.2138031062065424,
          0.058932681491480364,
          0.09058999609780202,
          0.12024690272681218,
          0.15055025477319767,
          0.18694600858643703,
          0.048009425508068616,
          0.07661473459085028,
          0.10505935616299115,
          0.13282114855578944,
          0.16205340945177316
         ],
         "w": [
          -0.9298384796644652,
          -0.9274566621981627,
          -0.9235432469927037,
          -0.9201694393054233,
          -0.9141420294280672,
          -0.9065100711273227,
          -0.9044856577413009,
          -0.9029768489733241,
          -0.9015670124303081,
          -0.8981224090717349,
          -0.8835848113084263,
          -0.882506188436939,
          -0.881560304989437,
          -0.8800724586707558,
          -0.8783866055046129,
          -0.8581750740627563,
          -0.8571043223989627,
          -0.8569486242742933,
          -0.8565529344457303,
          -0.8565265476369252,
          -0.8337304929834718,
          -0.8330132712919955,
          -0.8319541158162617,
          -0.8320253436899215,
          -0.8316765298365811
         ],
         "x": [
          1.7512600263045608,
          1.6714910228235382,
          1.60536900569495,
          1.4585389829367834,
          1.3168458460704404,
          1.9303888518200147,
          1.894746313297014,
          1.8287101783833553,
          1.7105441140086814,
          1.5826667895895907,
          2.0622322818733934,
          2.0179912407263374,
          1.966549847570878,
          1.901350451595632,
          1.8051403159664312,
          2.196557835340661,
          2.1610334972586775,
          2.12242852645848,
          2.0541767656875436,
          1.9622885243456336,
          2.2735811312065706,
          2.2563355714753364,
          2.2201759909054406,
          2.1710492089366835,
          2.117757349222446
         ],
         "y": [
          -0.5485726832760628,
          -0.6383432824786641,
          -0.7407132338672309,
          -0.8602763302040469,
          -0.9609587660631631,
          -0.45830604074665987,
          -0.5306139017157646,
          -0.5969870650558554,
          -0.6675597327431657,
          -0.7571339207030902,
          -0.37100669583021495,
          -0.41175606735949005,
          -0.45293809299203885,
          -0.5041006269822194,
          -0.5825582924424535,
          -0.32466378871790785,
          -0.3387530195961215,
          -0.36148969232493033,
          -0.35657402326192844,
          -0.40189610069414045,
          -0.25950252489878556,
          -0.26434895131575736,
          -0.25595140360492513,
          -0.25150765231585454,
          -0.2537100931913604
         ],
         "z": [
          18.791707805640065,
          18.77667618093801,
          18.759792543673665,
          18.749166884805273,
          18.731814839255247,
          18.695875176085075,
          18.68027182741529,
          18.674150530862835,
          18.67095878835478,
          18.662737650636085,
          18.60332160780163,
          18.59193067084335,
          18.587480177407567,
          18.58427374759686,
          18.584887839449376,
          18.503318497356272,
          18.491880716918725,
          18.48989422619732,
          18.49116057379542,
          18.499329274480342,
          18.41106891380326,
          18.400936686660597,
          18.39551129376764,
          18.398631868610902,
          18.404405498796276
         ]
        }
       ],
       "layout": {
        "scene": {
         "camera": {
          "eye": {
           "x": -0.76,
           "y": 1.8,
           "z": 0.92
          }
         }
        },
        "template": {
         "data": {
          "bar": [
           {
            "error_x": {
             "color": "#2a3f5f"
            },
            "error_y": {
             "color": "#2a3f5f"
            },
            "marker": {
             "line": {
              "color": "#E5ECF6",
              "width": 0.5
             },
             "pattern": {
              "fillmode": "overlay",
              "size": 10,
              "solidity": 0.2
             }
            },
            "type": "bar"
           }
          ],
          "barpolar": [
           {
            "marker": {
             "line": {
              "color": "#E5ECF6",
              "width": 0.5
             },
             "pattern": {
              "fillmode": "overlay",
              "size": 10,
              "solidity": 0.2
             }
            },
            "type": "barpolar"
           }
          ],
          "carpet": [
           {
            "aaxis": {
             "endlinecolor": "#2a3f5f",
             "gridcolor": "white",
             "linecolor": "white",
             "minorgridcolor": "white",
             "startlinecolor": "#2a3f5f"
            },
            "baxis": {
             "endlinecolor": "#2a3f5f",
             "gridcolor": "white",
             "linecolor": "white",
             "minorgridcolor": "white",
             "startlinecolor": "#2a3f5f"
            },
            "type": "carpet"
           }
          ],
          "choropleth": [
           {
            "colorbar": {
             "outlinewidth": 0,
             "ticks": ""
            },
            "type": "choropleth"
           }
          ],
          "contour": [
           {
            "colorbar": {
             "outlinewidth": 0,
             "ticks": ""
            },
            "colorscale": [
             [
              0,
              "#0d0887"
             ],
             [
              0.1111111111111111,
              "#46039f"
             ],
             [
              0.2222222222222222,
              "#7201a8"
             ],
             [
              0.3333333333333333,
              "#9c179e"
             ],
             [
              0.4444444444444444,
              "#bd3786"
             ],
             [
              0.5555555555555556,
              "#d8576b"
             ],
             [
              0.6666666666666666,
              "#ed7953"
             ],
             [
              0.7777777777777778,
              "#fb9f3a"
             ],
             [
              0.8888888888888888,
              "#fdca26"
             ],
             [
              1,
              "#f0f921"
             ]
            ],
            "type": "contour"
           }
          ],
          "contourcarpet": [
           {
            "colorbar": {
             "outlinewidth": 0,
             "ticks": ""
            },
            "type": "contourcarpet"
           }
          ],
          "heatmap": [
           {
            "colorbar": {
             "outlinewidth": 0,
             "ticks": ""
            },
            "colorscale": [
             [
              0,
              "#0d0887"
             ],
             [
              0.1111111111111111,
              "#46039f"
             ],
             [
              0.2222222222222222,
              "#7201a8"
             ],
             [
              0.3333333333333333,
              "#9c179e"
             ],
             [
              0.4444444444444444,
              "#bd3786"
             ],
             [
              0.5555555555555556,
              "#d8576b"
             ],
             [
              0.6666666666666666,
              "#ed7953"
             ],
             [
              0.7777777777777778,
              "#fb9f3a"
             ],
             [
              0.8888888888888888,
              "#fdca26"
             ],
             [
              1,
              "#f0f921"
             ]
            ],
            "type": "heatmap"
           }
          ],
          "heatmapgl": [
           {
            "colorbar": {
             "outlinewidth": 0,
             "ticks": ""
            },
            "colorscale": [
             [
              0,
              "#0d0887"
             ],
             [
              0.1111111111111111,
              "#46039f"
             ],
             [
              0.2222222222222222,
              "#7201a8"
             ],
             [
              0.3333333333333333,
              "#9c179e"
             ],
             [
              0.4444444444444444,
              "#bd3786"
             ],
             [
              0.5555555555555556,
              "#d8576b"
             ],
             [
              0.6666666666666666,
              "#ed7953"
             ],
             [
              0.7777777777777778,
              "#fb9f3a"
             ],
             [
              0.8888888888888888,
              "#fdca26"
             ],
             [
              1,
              "#f0f921"
             ]
            ],
            "type": "heatmapgl"
           }
          ],
          "histogram": [
           {
            "marker": {
             "pattern": {
              "fillmode": "overlay",
              "size": 10,
              "solidity": 0.2
             }
            },
            "type": "histogram"
           }
          ],
          "histogram2d": [
           {
            "colorbar": {
             "outlinewidth": 0,
             "ticks": ""
            },
            "colorscale": [
             [
              0,
              "#0d0887"
             ],
             [
              0.1111111111111111,
              "#46039f"
             ],
             [
              0.2222222222222222,
              "#7201a8"
             ],
             [
              0.3333333333333333,
              "#9c179e"
             ],
             [
              0.4444444444444444,
              "#bd3786"
             ],
             [
              0.5555555555555556,
              "#d8576b"
             ],
             [
              0.6666666666666666,
              "#ed7953"
             ],
             [
              0.7777777777777778,
              "#fb9f3a"
             ],
             [
              0.8888888888888888,
              "#fdca26"
             ],
             [
              1,
              "#f0f921"
             ]
            ],
            "type": "histogram2d"
           }
          ],
          "histogram2dcontour": [
           {
            "colorbar": {
             "outlinewidth": 0,
             "ticks": ""
            },
            "colorscale": [
             [
              0,
              "#0d0887"
             ],
             [
              0.1111111111111111,
              "#46039f"
             ],
             [
              0.2222222222222222,
              "#7201a8"
             ],
             [
              0.3333333333333333,
              "#9c179e"
             ],
             [
              0.4444444444444444,
              "#bd3786"
             ],
             [
              0.5555555555555556,
              "#d8576b"
             ],
             [
              0.6666666666666666,
              "#ed7953"
             ],
             [
              0.7777777777777778,
              "#fb9f3a"
             ],
             [
              0.8888888888888888,
              "#fdca26"
             ],
             [
              1,
              "#f0f921"
             ]
            ],
            "type": "histogram2dcontour"
           }
          ],
          "mesh3d": [
           {
            "colorbar": {
             "outlinewidth": 0,
             "ticks": ""
            },
            "type": "mesh3d"
           }
          ],
          "parcoords": [
           {
            "line": {
             "colorbar": {
              "outlinewidth": 0,
              "ticks": ""
             }
            },
            "type": "parcoords"
           }
          ],
          "pie": [
           {
            "automargin": true,
            "type": "pie"
           }
          ],
          "scatter": [
           {
            "fillpattern": {
             "fillmode": "overlay",
             "size": 10,
             "solidity": 0.2
            },
            "type": "scatter"
           }
          ],
          "scatter3d": [
           {
            "line": {
             "colorbar": {
              "outlinewidth": 0,
              "ticks": ""
             }
            },
            "marker": {
             "colorbar": {
              "outlinewidth": 0,
              "ticks": ""
             }
            },
            "type": "scatter3d"
           }
          ],
          "scattercarpet": [
           {
            "marker": {
             "colorbar": {
              "outlinewidth": 0,
              "ticks": ""
             }
            },
            "type": "scattercarpet"
           }
          ],
          "scattergeo": [
           {
            "marker": {
             "colorbar": {
              "outlinewidth": 0,
              "ticks": ""
             }
            },
            "type": "scattergeo"
           }
          ],
          "scattergl": [
           {
            "marker": {
             "colorbar": {
              "outlinewidth": 0,
              "ticks": ""
             }
            },
            "type": "scattergl"
           }
          ],
          "scattermapbox": [
           {
            "marker": {
             "colorbar": {
              "outlinewidth": 0,
              "ticks": ""
             }
            },
            "type": "scattermapbox"
           }
          ],
          "scatterpolar": [
           {
            "marker": {
             "colorbar": {
              "outlinewidth": 0,
              "ticks": ""
             }
            },
            "type": "scatterpolar"
           }
          ],
          "scatterpolargl": [
           {
            "marker": {
             "colorbar": {
              "outlinewidth": 0,
              "ticks": ""
             }
            },
            "type": "scatterpolargl"
           }
          ],
          "scatterternary": [
           {
            "marker": {
             "colorbar": {
              "outlinewidth": 0,
              "ticks": ""
             }
            },
            "type": "scatterternary"
           }
          ],
          "surface": [
           {
            "colorbar": {
             "outlinewidth": 0,
             "ticks": ""
            },
            "colorscale": [
             [
              0,
              "#0d0887"
             ],
             [
              0.1111111111111111,
              "#46039f"
             ],
             [
              0.2222222222222222,
              "#7201a8"
             ],
             [
              0.3333333333333333,
              "#9c179e"
             ],
             [
              0.4444444444444444,
              "#bd3786"
             ],
             [
              0.5555555555555556,
              "#d8576b"
             ],
             [
              0.6666666666666666,
              "#ed7953"
             ],
             [
              0.7777777777777778,
              "#fb9f3a"
             ],
             [
              0.8888888888888888,
              "#fdca26"
             ],
             [
              1,
              "#f0f921"
             ]
            ],
            "type": "surface"
           }
          ],
          "table": [
           {
            "cells": {
             "fill": {
              "color": "#EBF0F8"
             },
             "line": {
              "color": "white"
             }
            },
            "header": {
             "fill": {
              "color": "#C8D4E3"
             },
             "line": {
              "color": "white"
             }
            },
            "type": "table"
           }
          ]
         },
         "layout": {
          "annotationdefaults": {
           "arrowcolor": "#2a3f5f",
           "arrowhead": 0,
           "arrowwidth": 1
          },
          "autotypenumbers": "strict",
          "coloraxis": {
           "colorbar": {
            "outlinewidth": 0,
            "ticks": ""
           }
          },
          "colorscale": {
           "diverging": [
            [
             0,
             "#8e0152"
            ],
            [
             0.1,
             "#c51b7d"
            ],
            [
             0.2,
             "#de77ae"
            ],
            [
             0.3,
             "#f1b6da"
            ],
            [
             0.4,
             "#fde0ef"
            ],
            [
             0.5,
             "#f7f7f7"
            ],
            [
             0.6,
             "#e6f5d0"
            ],
            [
             0.7,
             "#b8e186"
            ],
            [
             0.8,
             "#7fbc41"
            ],
            [
             0.9,
             "#4d9221"
            ],
            [
             1,
             "#276419"
            ]
           ],
           "sequential": [
            [
             0,
             "#0d0887"
            ],
            [
             0.1111111111111111,
             "#46039f"
            ],
            [
             0.2222222222222222,
             "#7201a8"
            ],
            [
             0.3333333333333333,
             "#9c179e"
            ],
            [
             0.4444444444444444,
             "#bd3786"
            ],
            [
             0.5555555555555556,
             "#d8576b"
            ],
            [
             0.6666666666666666,
             "#ed7953"
            ],
            [
             0.7777777777777778,
             "#fb9f3a"
            ],
            [
             0.8888888888888888,
             "#fdca26"
            ],
            [
             1,
             "#f0f921"
            ]
           ],
           "sequentialminus": [
            [
             0,
             "#0d0887"
            ],
            [
             0.1111111111111111,
             "#46039f"
            ],
            [
             0.2222222222222222,
             "#7201a8"
            ],
            [
             0.3333333333333333,
             "#9c179e"
            ],
            [
             0.4444444444444444,
             "#bd3786"
            ],
            [
             0.5555555555555556,
             "#d8576b"
            ],
            [
             0.6666666666666666,
             "#ed7953"
            ],
            [
             0.7777777777777778,
             "#fb9f3a"
            ],
            [
             0.8888888888888888,
             "#fdca26"
            ],
            [
             1,
             "#f0f921"
            ]
           ]
          },
          "colorway": [
           "#636efa",
           "#EF553B",
           "#00cc96",
           "#ab63fa",
           "#FFA15A",
           "#19d3f3",
           "#FF6692",
           "#B6E880",
           "#FF97FF",
           "#FECB52"
          ],
          "font": {
           "color": "#2a3f5f"
          },
          "geo": {
           "bgcolor": "white",
           "lakecolor": "white",
           "landcolor": "#E5ECF6",
           "showlakes": true,
           "showland": true,
           "subunitcolor": "white"
          },
          "hoverlabel": {
           "align": "left"
          },
          "hovermode": "closest",
          "mapbox": {
           "style": "light"
          },
          "paper_bgcolor": "white",
          "plot_bgcolor": "#E5ECF6",
          "polar": {
           "angularaxis": {
            "gridcolor": "white",
            "linecolor": "white",
            "ticks": ""
           },
           "bgcolor": "#E5ECF6",
           "radialaxis": {
            "gridcolor": "white",
            "linecolor": "white",
            "ticks": ""
           }
          },
          "scene": {
           "xaxis": {
            "backgroundcolor": "#E5ECF6",
            "gridcolor": "white",
            "gridwidth": 2,
            "linecolor": "white",
            "showbackground": true,
            "ticks": "",
            "zerolinecolor": "white"
           },
           "yaxis": {
            "backgroundcolor": "#E5ECF6",
            "gridcolor": "white",
            "gridwidth": 2,
            "linecolor": "white",
            "showbackground": true,
            "ticks": "",
            "zerolinecolor": "white"
           },
           "zaxis": {
            "backgroundcolor": "#E5ECF6",
            "gridcolor": "white",
            "gridwidth": 2,
            "linecolor": "white",
            "showbackground": true,
            "ticks": "",
            "zerolinecolor": "white"
           }
          },
          "shapedefaults": {
           "line": {
            "color": "#2a3f5f"
           }
          },
          "ternary": {
           "aaxis": {
            "gridcolor": "white",
            "linecolor": "white",
            "ticks": ""
           },
           "baxis": {
            "gridcolor": "white",
            "linecolor": "white",
            "ticks": ""
           },
           "bgcolor": "#E5ECF6",
           "caxis": {
            "gridcolor": "white",
            "linecolor": "white",
            "ticks": ""
           }
          },
          "title": {
           "x": 0.05
          },
          "xaxis": {
           "automargin": true,
           "gridcolor": "white",
           "linecolor": "white",
           "ticks": "",
           "title": {
            "standoff": 15
           },
           "zerolinecolor": "white",
           "zerolinewidth": 2
          },
          "yaxis": {
           "automargin": true,
           "gridcolor": "white",
           "linecolor": "white",
           "ticks": "",
           "title": {
            "standoff": 15
           },
           "zerolinecolor": "white",
           "zerolinewidth": 2
          }
         }
        }
       }
      }
     },
     "metadata": {},
     "output_type": "display_data"
    }
   ],
   "source": [
    "import plotly.graph_objects as go\n",
    "\n",
    "fig = go.Figure(data=go.Cone(x=locpred[:,0], y=locpred[:,1], z=locpred[:,2], u=anglepred[:,0], v=anglepred[:,1], w=anglepred[:,2], \n",
    "                             sizemode=\"absolute\", sizeref=10))\n",
    "\n",
    "fig.update_layout(scene_camera_eye=dict(x=-0.76, y=1.8, z=0.92))\n",
    "\n",
    "fig.show()"
   ]
  }
 ],
 "metadata": {
  "kernelspec": {
   "display_name": "Python 3",
   "language": "python",
   "name": "python3"
  },
  "language_info": {
   "codemirror_mode": {
    "name": "ipython",
    "version": 3
   },
   "file_extension": ".py",
   "mimetype": "text/x-python",
   "name": "python",
   "nbconvert_exporter": "python",
   "pygments_lexer": "ipython3",
   "version": "3.12.3"
  }
 },
 "nbformat": 4,
 "nbformat_minor": 2
}
