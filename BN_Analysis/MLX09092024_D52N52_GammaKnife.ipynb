{
 "cells": [
  {
   "cell_type": "code",
   "execution_count": 1,
   "metadata": {},
   "outputs": [
    {
     "name": "stdout",
     "output_type": "stream",
     "text": [
      "c:\\Users\\Brandon Nguyen\\AppData\\Local\\Programs\\Python\\Python312\\python.exe\n"
     ]
    }
   ],
   "source": [
    "import glob\n",
    "import numpy as np\n",
    "import scipy as sp\n",
    "import einops as eo\n",
    "import matplotlib.pyplot as plt\n",
    "import math\n",
    "import plotly.graph_objects as go\n",
    "from scipy.spatial.transform import Rotation\n",
    "import magpylib as magpy\n",
    "import os\n",
    "import pandas as pd\n",
    "from datetime import timedelta\n",
    "import sys\n",
    "from datetime import datetime\n",
    "\n",
    "print(sys.executable)\n",
    "\n",
    "M0 = 1480 #mT\n",
    "shape = [5*25.4/16, 25.4/8] #radius and height\n",
    "x0 = np.array([0,0,10, 0,0,1])"
   ]
  },
  {
   "cell_type": "code",
   "execution_count": 2,
   "metadata": {},
   "outputs": [],
   "source": [
    "def B_dipole(position, rotation, M0, shape):\n",
    "    R = np.sqrt(np.sum(position**2, axis=1))\n",
    "    B = (M0 * (shape[0]) ** 2 * shape[1] / (16)) * (\n",
    "        (\n",
    "            3\n",
    "            * position\n",
    "            / R[:, np.newaxis] ** 5\n",
    "            * (eo.einsum(position, rotation, \"sensor dim,  dim -> sensor\"))[\n",
    "                :, np.newaxis\n",
    "            ]\n",
    "        )\n",
    "        - rotation[np.newaxis, :] / (R[:, np.newaxis] ** 3)\n",
    "    )\n",
    "    return B\n",
    "\n",
    "\n",
    "def getField_dipole(x, positions, M0, shape):\n",
    "    position = x[:3]\n",
    "    axis = x[3:]\n",
    "    return B_dipole(positions - position, axis, M0, shape)\n",
    "\n",
    "\n",
    "def getField_dipole_fixed(x, positions, M0, shape):\n",
    "    position = x[:3]\n",
    "    axis = x[3:]\n",
    "    return B_dipole(positions - position, axis, M0, shape)\n",
    "\n",
    "\n",
    "def cost_dipole(x, B, positions, M0, shape):\n",
    "    diff = getField_dipole(x, positions, M0, shape) - B\n",
    "    return np.sum((diff) ** 2)\n",
    "\n",
    "\n",
    "def getField_cylinder(x, positions, M0, shape):\n",
    "    B=magpy.getB(\n",
    "        sources=\"Cylinder\",\n",
    "        position=x[:3],\n",
    "        orientation=Rotation.align_vectors(x[3:], np.array([0, 0, 1]))[0],\n",
    "        observers=positions,\n",
    "        dimension=shape,\n",
    "        polarization=(0, 0, M0),\n",
    "    )\n",
    "    return B\n",
    "\n",
    "def cost_cylinder(x, B, positions, M0, shape):\n",
    "    diff = getField_cylinder(x, positions, M0, shape) - B\n",
    "    return np.sum((diff) ** 2)\n",
    "\n",
    "def minimize(x0, B, positions, M0, shape, *args):\n",
    "    #print(\"Starting mimimization\")\n",
    "    b_args = (B, positions, M0, shape)\n",
    "    cons = [{\"type\": \"eq\", \"fun\": lambda x: x[3] ** 2 + x[4] ** 2 + x[5] ** 2 - 1}]\n",
    "    bounds = [(-100, 100), (-100, 100), (0, 100), (-1, 1), (-1, 1), (-1, 1)]\n",
    "    res = sp.optimize.minimize(\n",
    "        fun=cost_dipole, x0=x0, args=b_args, tol=1e-100, constraints=cons, bounds=bounds, *args\n",
    "    ).x  \n",
    "    #print(f\"Finished mimimization with shape {b_args[3]} at {res}\")\n",
    "    return res\n",
    "\n",
    "def circle_radius(x1, y1, x2, y2, x3, y3):\n",
    "    # Calculate lengths of sides of the triangle formed by the three points\n",
    "    a = math.sqrt((x2 - x1) ** 2 + (y2 - y1) ** 2)\n",
    "    b = math.sqrt((x3 - x2) ** 2 + (y3 - y2) ** 2)\n",
    "    c = math.sqrt((x3 - x1) ** 2 + (y3 - y1) ** 2)\n",
    "\n",
    "    # Calculate the semi-perimeter of the triangle\n",
    "    s = (a + b + c) / 2\n",
    "\n",
    "    # Calculate the area of the triangle using Heron's formula\n",
    "    area = math.sqrt(s * (s - a) * (s - b) * (s - c))\n",
    "\n",
    "    # Calculate the radius of the circle using the formula: radius = (abc) / (4 * area)\n",
    "    radius = (a * b * c) / (4 * area)\n",
    "    \n",
    "    return radius\n",
    "\n",
    "def comparison_plot(locact, locpred, axis, relative):\n",
    "\n",
    "    if axis == 'x':\n",
    "        ax = 0\n",
    "    elif axis == 'y':\n",
    "        ax = 1\n",
    "    else:\n",
    "        ax = 2\n",
    "\n",
    "    index = list(range(len(locact[:,ax])))\n",
    "    act = locact[:, ax]\n",
    "    pred = locpred[:, ax]\n",
    "\n",
    "    rel = ''\n",
    "\n",
    "    if relative==True:\n",
    "        act = [x - locact[0, ax] for x in locact[:, ax]]\n",
    "        pred = [x - locpred[0, ax] for x in locpred[:, ax]]\n",
    "        rel = ' (Relative)'\n",
    "\n",
    "    # Plotting\n",
    "    plt.figure(figsize=(8, 6))\n",
    "    plt.scatter(index, pred, label='Predicted' + rel)\n",
    "    plt.scatter(index, act, label='Actual' + rel)\n",
    "    plt.xlabel('Time Passed (s)')\n",
    "    plt.ylabel(axis + '-component')\n",
    "    plt.title('Comparison of '+axis+ ' Location' + rel+ ': Predicted vs Actual')\n",
    "    plt.legend()\n",
    "    plt.grid(True)\n",
    "    plt.show()\n",
    "\n",
    "    return\n",
    "\n",
    "def comp_plot3D(locact, locpred, xact, yact, axis, relative):\n",
    "\n",
    "    if axis == 'x':\n",
    "        ax = 0\n",
    "    elif axis == 'y':\n",
    "        ax = 1\n",
    "    else:\n",
    "        ax = 2\n",
    "\n",
    "    index = list(range(len(locact[:,ax])))\n",
    "    act = locact[:, ax]\n",
    "    pred = locpred[:, ax]\n",
    "\n",
    "    rel = ''\n",
    "\n",
    "    if relative==True:\n",
    "        act = [x - locact[0, ax] for x in locact[:, ax]]\n",
    "        pred = [x - locpred[0, ax] for x in locpred[:, ax]]\n",
    "        rel = ' (Relative)'\n",
    "\n",
    "    fig = go.Figure(data=[\n",
    "        go.Scatter3d(x=xact, y=yact, z=pred, name='Predicted' + rel),\n",
    "        go.Scatter3d(x=xact, y=yact, z=act, name='Actual' + rel)])\n",
    "    fig.show()\n",
    "\n",
    "    return\n",
    "\n",
    "def displacement_plot(actual, predicted):\n",
    "\n",
    "    dispx = np.array(predicted[:,0]-predicted[:,0][0])\n",
    "    dispy = np.array(predicted[:,1]-predicted[:,1][0])\n",
    "    dispz = np.array(predicted[:,2]-predicted[:,2][0])\n",
    "    disp = np.sqrt(dispx**2+dispy**2+dispz**2)\n",
    "    actdispx = np.array(actual[:,0]-actual[:,0][0])\n",
    "    actdispy = np.array(actual[:,1]-actual[:,1][0])\n",
    "    actdispz = np.array(actual[:,2]-actual[:,2][0])\n",
    "    actdisp = np.sqrt(actdispx**2+actdispy**2+actdispz**2)\n",
    "\n",
    "    plt.figure(figsize=(8, 6))\n",
    "    plt.scatter(list(range(len(disp))), disp, label='Predicted Displacement')\n",
    "    plt.scatter(list(range(len(actdisp))), actdisp, label='Actual Displacement')\n",
    "    plt.xlabel('Time Passed (s)')\n",
    "    plt.ylabel('Displacement (mm)')\n",
    "    plt.title('Magnet Displacement')\n",
    "    plt.legend()\n",
    "    plt.grid(True)\n",
    "    plt.show()\n",
    "\n",
    "    return\n",
    "\n",
    "# Function to convert HHMMSS to seconds\n",
    "def time_to_seconds(time_str):\n",
    "    hours = int(time_str[:2])\n",
    "    minutes = int(time_str[2:4])\n",
    "    seconds = int(time_str[4:6])\n",
    "    return hours * 3600 + minutes * 60 + seconds\n",
    "\n",
    "def time_to_secondsdf(time_value):\n",
    "    return time_value.hour * 3600 + time_value.minute * 60 + time_value.second + time_value.microsecond / 1e6\n",
    "\n",
    "# Function to extract the timestamp part from the file path\n",
    "def extract_timestamp(file_path):\n",
    "    # Extract the filename from the file path (without the extension)\n",
    "    filename = os.path.basename(file_path).replace('.npz', '')\n",
    "    \n",
    "    # Split the filename into date, time, and millisecond parts\n",
    "    date_part = filename.split('-')[0]  # Extracting the 'YYYYMMDD' part\n",
    "    time_part = filename.split('-')[1]  # Extracting the 'HHMMSS' part\n",
    "    millisecond_part = filename.split('-')[2]  # Extracting the millisecond part\n",
    "    \n",
    "    # Combine date, time, and milliseconds into a full timestamp string\n",
    "    full_datetime_str = f\"{date_part} {time_part}.{millisecond_part}\"\n",
    "    \n",
    "    # Create a datetime object\n",
    "    full_datetime = datetime.strptime(full_datetime_str, \"%Y%m%d %H%M%S.%f\")\n",
    "    \n",
    "    return full_datetime\n",
    "\n",
    "def importfitting(folder):\n",
    "\n",
    "    file_list = sorted(glob.glob(f'{folder}/*.npz'))\n",
    "    #print(file_list)\n",
    "    data = np.load(file_list[0])\n",
    "    pos = data['pos'][0]\n",
    "    timestamps = []\n",
    "\n",
    "    locpred = [np.array([0,0,0])]\n",
    "    anglepred = [np.array([0,0,0])]\n",
    "    Bstdev = [np.array(pos)]\n",
    "    for x in range(len(file_list)):\n",
    "        data = np.load(file_list[x])\n",
    "        mags = data['mags']\n",
    "        pos = data['pos'][0]\n",
    "        B = np.mean(mags, axis=0)\n",
    "        mags_stdev = np.std(mags, axis=0)\n",
    "        timestamps.append(extract_timestamp(file_list[x]))\n",
    "\n",
    "        x_res = minimize(x0, B, pos, M0, shape)\n",
    "        locpred = np.append(locpred, [x_res[0:3]], axis=0)\n",
    "        anglepred = np.append(anglepred, [x_res[3:6]], axis=0)\n",
    "        Bstdev = np.append(Bstdev, [mags_stdev], axis=0)\n",
    "    locpred = np.delete(locpred, 0, axis=0)\n",
    "    anglepred = np.delete(anglepred, 0, axis=0)\n",
    "    Bstdev = np.delete(Bstdev, 0 ,axis=0)\n",
    "\n",
    "    return pos, mags, locpred, anglepred, Bstdev, timestamps\n",
    "\n",
    "def actualangle(xind, yind, xscal, xcon, yscal, ycon, isoff):\n",
    "\n",
    "    angact = [np.array([0, 0, 0])]\n",
    "    for y in range(yind):\n",
    "        for x in range(xind):\n",
    "            R = Rotation.from_euler('ZYX' ,np.array([0, yscal*y-ycon, xscal*x-xcon]), degrees=True)\n",
    "            norm = np.array([[0, 0, 1]])\n",
    "            rotated = R.apply(norm, inverse=False)[0]\n",
    "            #add = np.array([np.sin(np.deg2rad(2*y-4)), -np.sin(np.deg2rad(2*x-4)), np.cos(np.deg2rad(2*y-4))*np.cos(np.deg2rad(2*x-4))])\n",
    "            angact = np.append(angact, [rotated], axis=0)\n",
    "    angact = np.delete(angact, 0, axis=0)\n",
    "    locact = angact*isoff\n",
    "\n",
    "    return angact, locact"
   ]
  },
  {
   "cell_type": "code",
   "execution_count": 3,
   "metadata": {},
   "outputs": [
    {
     "name": "stdout",
     "output_type": "stream",
     "text": [
      "656\n"
     ]
    }
   ],
   "source": [
    "folder = os.path.join('..', './MLX09302024_D52N52_gammaknife')\n",
    "pos, mags, locpred, anglepred, Bstdev, timestamps = importfitting(folder)\n",
    "np.append(locpred, anglepred, axis=1)\n",
    "#print(timeelapsed)\n",
    "print(len(locpred))"
   ]
  },
  {
   "cell_type": "code",
   "execution_count": 4,
   "metadata": {},
   "outputs": [
    {
     "name": "stdout",
     "output_type": "stream",
     "text": [
      "List saved to MLX09302024_gk_locpred.txt\n"
     ]
    }
   ],
   "source": [
    "locpred\n",
    "# Specify the file path where you want to save the list\n",
    "file_path = 'MLX09302024_gk_locpred.txt'\n",
    "\n",
    "# Convert the list to a DataFrame\n",
    "df = pd.DataFrame(locpred)\n",
    "\n",
    "# Save the DataFrame to a CSV file\n",
    "df.to_csv(file_path, index=False, header=['x', 'y', 'z'])  # Set index and header to False if not needed\n",
    "\n",
    "print(f\"List saved to {file_path}\")"
   ]
  },
  {
   "cell_type": "code",
   "execution_count": 5,
   "metadata": {},
   "outputs": [
    {
     "name": "stdout",
     "output_type": "stream",
     "text": [
      "[datetime.datetime(2024, 9, 30, 6, 0, 33, 60790), datetime.datetime(2024, 9, 30, 6, 0, 38, 4075), datetime.datetime(2024, 9, 30, 6, 0, 38, 522044), datetime.datetime(2024, 9, 30, 6, 0, 39, 70976), datetime.datetime(2024, 9, 30, 6, 0, 39, 573478), datetime.datetime(2024, 9, 30, 6, 0, 40, 77044), datetime.datetime(2024, 9, 30, 6, 0, 40, 581478), datetime.datetime(2024, 9, 30, 6, 0, 41, 84778), datetime.datetime(2024, 9, 30, 6, 0, 41, 590597), datetime.datetime(2024, 9, 30, 6, 0, 42, 94302), datetime.datetime(2024, 9, 30, 6, 0, 42, 653648), datetime.datetime(2024, 9, 30, 6, 0, 43, 157683), datetime.datetime(2024, 9, 30, 6, 0, 43, 660982), datetime.datetime(2024, 9, 30, 6, 0, 44, 164220), datetime.datetime(2024, 9, 30, 6, 0, 44, 669206), datetime.datetime(2024, 9, 30, 6, 0, 45, 173355), datetime.datetime(2024, 9, 30, 6, 0, 45, 854559), datetime.datetime(2024, 9, 30, 6, 0, 46, 360151), datetime.datetime(2024, 9, 30, 6, 0, 46, 864468), datetime.datetime(2024, 9, 30, 6, 0, 47, 371027), datetime.datetime(2024, 9, 30, 6, 0, 47, 948716), datetime.datetime(2024, 9, 30, 6, 0, 48, 462270), datetime.datetime(2024, 9, 30, 6, 0, 48, 975041), datetime.datetime(2024, 9, 30, 6, 0, 49, 483838), datetime.datetime(2024, 9, 30, 6, 0, 50, 54932), datetime.datetime(2024, 9, 30, 6, 0, 50, 565182), datetime.datetime(2024, 9, 30, 6, 0, 51, 74777), datetime.datetime(2024, 9, 30, 6, 0, 51, 585429), datetime.datetime(2024, 9, 30, 6, 0, 52, 210362), datetime.datetime(2024, 9, 30, 6, 0, 52, 802577), datetime.datetime(2024, 9, 30, 6, 0, 53, 312005), datetime.datetime(2024, 9, 30, 6, 0, 53, 826478), datetime.datetime(2024, 9, 30, 6, 0, 54, 336232), datetime.datetime(2024, 9, 30, 6, 0, 54, 978766), datetime.datetime(2024, 9, 30, 6, 0, 55, 603588), datetime.datetime(2024, 9, 30, 6, 0, 56, 117501), datetime.datetime(2024, 9, 30, 6, 0, 56, 627064), datetime.datetime(2024, 9, 30, 6, 0, 57, 294978), datetime.datetime(2024, 9, 30, 6, 0, 57, 804785), datetime.datetime(2024, 9, 30, 6, 0, 58, 350087), datetime.datetime(2024, 9, 30, 6, 0, 58, 860784), datetime.datetime(2024, 9, 30, 6, 0, 59, 370352), datetime.datetime(2024, 9, 30, 6, 0, 59, 880354), datetime.datetime(2024, 9, 30, 6, 1, 0, 390041), datetime.datetime(2024, 9, 30, 6, 1, 1, 1158), datetime.datetime(2024, 9, 30, 6, 1, 1, 683337), datetime.datetime(2024, 9, 30, 6, 1, 2, 190462), datetime.datetime(2024, 9, 30, 6, 1, 2, 698868), datetime.datetime(2024, 9, 30, 6, 1, 3, 206460), datetime.datetime(2024, 9, 30, 6, 1, 3, 715130), datetime.datetime(2024, 9, 30, 6, 1, 4, 224219), datetime.datetime(2024, 9, 30, 6, 1, 4, 732520), datetime.datetime(2024, 9, 30, 6, 1, 5, 316438), datetime.datetime(2024, 9, 30, 6, 1, 5, 824538), datetime.datetime(2024, 9, 30, 6, 1, 6, 334465), datetime.datetime(2024, 9, 30, 6, 1, 6, 842154), datetime.datetime(2024, 9, 30, 6, 1, 7, 357032), datetime.datetime(2024, 9, 30, 6, 1, 7, 919994), datetime.datetime(2024, 9, 30, 6, 1, 8, 433882), datetime.datetime(2024, 9, 30, 6, 1, 8, 943341), datetime.datetime(2024, 9, 30, 6, 1, 9, 803671), datetime.datetime(2024, 9, 30, 6, 1, 10, 996773), datetime.datetime(2024, 9, 30, 6, 1, 11, 668289), datetime.datetime(2024, 9, 30, 6, 1, 12, 263337), datetime.datetime(2024, 9, 30, 6, 1, 12, 775270), datetime.datetime(2024, 9, 30, 6, 1, 13, 397235), datetime.datetime(2024, 9, 30, 6, 1, 13, 906189), datetime.datetime(2024, 9, 30, 6, 1, 14, 423056), datetime.datetime(2024, 9, 30, 6, 1, 14, 930592), datetime.datetime(2024, 9, 30, 6, 1, 15, 439171), datetime.datetime(2024, 9, 30, 6, 1, 15, 993280), datetime.datetime(2024, 9, 30, 6, 1, 16, 505141), datetime.datetime(2024, 9, 30, 6, 1, 17, 92483), datetime.datetime(2024, 9, 30, 6, 1, 17, 605819), datetime.datetime(2024, 9, 30, 6, 1, 18, 146015), datetime.datetime(2024, 9, 30, 6, 1, 18, 847834), datetime.datetime(2024, 9, 30, 6, 1, 19, 591148), datetime.datetime(2024, 9, 30, 6, 1, 20, 223348), datetime.datetime(2024, 9, 30, 6, 1, 20, 732501), datetime.datetime(2024, 9, 30, 6, 1, 21, 243086), datetime.datetime(2024, 9, 30, 6, 1, 21, 754466), datetime.datetime(2024, 9, 30, 6, 1, 22, 262103), datetime.datetime(2024, 9, 30, 6, 1, 22, 770633), datetime.datetime(2024, 9, 30, 6, 1, 23, 279482), datetime.datetime(2024, 9, 30, 6, 1, 23, 792050), datetime.datetime(2024, 9, 30, 6, 1, 24, 302534), datetime.datetime(2024, 9, 30, 6, 1, 24, 871822), datetime.datetime(2024, 9, 30, 6, 1, 25, 382610), datetime.datetime(2024, 9, 30, 6, 1, 26, 54089), datetime.datetime(2024, 9, 30, 6, 1, 26, 615157), datetime.datetime(2024, 9, 30, 6, 1, 27, 130338), datetime.datetime(2024, 9, 30, 6, 1, 27, 638305), datetime.datetime(2024, 9, 30, 6, 1, 28, 148213), datetime.datetime(2024, 9, 30, 6, 1, 28, 656186), datetime.datetime(2024, 9, 30, 6, 1, 29, 168969), datetime.datetime(2024, 9, 30, 6, 1, 29, 723639), datetime.datetime(2024, 9, 30, 6, 1, 30, 244622), datetime.datetime(2024, 9, 30, 6, 1, 30, 752793), datetime.datetime(2024, 9, 30, 6, 1, 31, 264311), datetime.datetime(2024, 9, 30, 6, 1, 31, 776864), datetime.datetime(2024, 9, 30, 6, 1, 32, 291289), datetime.datetime(2024, 9, 30, 6, 1, 32, 800122), datetime.datetime(2024, 9, 30, 6, 1, 33, 343564), datetime.datetime(2024, 9, 30, 6, 1, 33, 861312), datetime.datetime(2024, 9, 30, 6, 1, 34, 371320), datetime.datetime(2024, 9, 30, 6, 1, 34, 878273), datetime.datetime(2024, 9, 30, 6, 1, 35, 386995), datetime.datetime(2024, 9, 30, 6, 1, 35, 916095), datetime.datetime(2024, 9, 30, 6, 1, 36, 471354), datetime.datetime(2024, 9, 30, 6, 1, 37, 17581), datetime.datetime(2024, 9, 30, 6, 1, 37, 564415), datetime.datetime(2024, 9, 30, 6, 1, 38, 81382), datetime.datetime(2024, 9, 30, 6, 1, 38, 630159), datetime.datetime(2024, 9, 30, 6, 1, 39, 180662), datetime.datetime(2024, 9, 30, 6, 1, 39, 742164), datetime.datetime(2024, 9, 30, 6, 1, 40, 287181), datetime.datetime(2024, 9, 30, 6, 1, 40, 802038), datetime.datetime(2024, 9, 30, 6, 1, 41, 335365), datetime.datetime(2024, 9, 30, 6, 1, 41, 844267), datetime.datetime(2024, 9, 30, 6, 1, 42, 352849), datetime.datetime(2024, 9, 30, 6, 1, 42, 895087), datetime.datetime(2024, 9, 30, 6, 1, 43, 402774), datetime.datetime(2024, 9, 30, 6, 1, 43, 913775), datetime.datetime(2024, 9, 30, 6, 1, 44, 421473), datetime.datetime(2024, 9, 30, 6, 1, 44, 929457), datetime.datetime(2024, 9, 30, 6, 1, 45, 440451), datetime.datetime(2024, 9, 30, 6, 1, 46, 26915), datetime.datetime(2024, 9, 30, 6, 1, 46, 590733), datetime.datetime(2024, 9, 30, 6, 1, 47, 98067), datetime.datetime(2024, 9, 30, 6, 1, 47, 606310), datetime.datetime(2024, 9, 30, 6, 1, 48, 117330), datetime.datetime(2024, 9, 30, 6, 1, 48, 634799), datetime.datetime(2024, 9, 30, 6, 1, 49, 173534), datetime.datetime(2024, 9, 30, 6, 1, 49, 688813), datetime.datetime(2024, 9, 30, 6, 1, 50, 204395), datetime.datetime(2024, 9, 30, 6, 1, 50, 711593), datetime.datetime(2024, 9, 30, 6, 1, 51, 220443), datetime.datetime(2024, 9, 30, 6, 1, 51, 776821), datetime.datetime(2024, 9, 30, 6, 1, 52, 287351), datetime.datetime(2024, 9, 30, 6, 1, 52, 875000), datetime.datetime(2024, 9, 30, 6, 1, 53, 476779), datetime.datetime(2024, 9, 30, 6, 1, 54, 71125), datetime.datetime(2024, 9, 30, 6, 1, 54, 579461), datetime.datetime(2024, 9, 30, 6, 1, 55, 87675), datetime.datetime(2024, 9, 30, 6, 1, 55, 652349), datetime.datetime(2024, 9, 30, 6, 1, 56, 162362), datetime.datetime(2024, 9, 30, 6, 1, 56, 696982), datetime.datetime(2024, 9, 30, 6, 1, 57, 207173), datetime.datetime(2024, 9, 30, 6, 1, 57, 722082), datetime.datetime(2024, 9, 30, 6, 1, 58, 276087), datetime.datetime(2024, 9, 30, 6, 1, 58, 785939), datetime.datetime(2024, 9, 30, 6, 1, 59, 297715), datetime.datetime(2024, 9, 30, 6, 1, 59, 808156), datetime.datetime(2024, 9, 30, 6, 2, 0, 334635), datetime.datetime(2024, 9, 30, 6, 2, 0, 899585), datetime.datetime(2024, 9, 30, 6, 2, 1, 516448), datetime.datetime(2024, 9, 30, 6, 2, 2, 34657), datetime.datetime(2024, 9, 30, 6, 2, 2, 815842), datetime.datetime(2024, 9, 30, 6, 2, 3, 463584), datetime.datetime(2024, 9, 30, 6, 2, 3, 978311), datetime.datetime(2024, 9, 30, 6, 2, 4, 487547), datetime.datetime(2024, 9, 30, 6, 2, 4, 996032), datetime.datetime(2024, 9, 30, 6, 2, 5, 558050), datetime.datetime(2024, 9, 30, 6, 2, 6, 66495), datetime.datetime(2024, 9, 30, 6, 2, 6, 613737), datetime.datetime(2024, 9, 30, 6, 2, 7, 128297), datetime.datetime(2024, 9, 30, 6, 2, 7, 654890), datetime.datetime(2024, 9, 30, 6, 2, 8, 163134), datetime.datetime(2024, 9, 30, 6, 2, 8, 727064), datetime.datetime(2024, 9, 30, 6, 2, 9, 318660), datetime.datetime(2024, 9, 30, 6, 2, 9, 834138), datetime.datetime(2024, 9, 30, 6, 2, 10, 383519), datetime.datetime(2024, 9, 30, 6, 2, 10, 945140), datetime.datetime(2024, 9, 30, 6, 2, 11, 463308), datetime.datetime(2024, 9, 30, 6, 2, 12, 47988), datetime.datetime(2024, 9, 30, 6, 2, 12, 613092), datetime.datetime(2024, 9, 30, 6, 2, 13, 127597), datetime.datetime(2024, 9, 30, 6, 2, 13, 637161), datetime.datetime(2024, 9, 30, 6, 2, 14, 198062), datetime.datetime(2024, 9, 30, 6, 2, 14, 723778), datetime.datetime(2024, 9, 30, 6, 2, 15, 234887), datetime.datetime(2024, 9, 30, 6, 2, 15, 743484), datetime.datetime(2024, 9, 30, 6, 2, 16, 314674), datetime.datetime(2024, 9, 30, 6, 2, 16, 823864), datetime.datetime(2024, 9, 30, 6, 2, 17, 331590), datetime.datetime(2024, 9, 30, 6, 2, 17, 876193), datetime.datetime(2024, 9, 30, 6, 2, 18, 385492), datetime.datetime(2024, 9, 30, 6, 2, 18, 894301), datetime.datetime(2024, 9, 30, 6, 2, 19, 407382), datetime.datetime(2024, 9, 30, 6, 2, 19, 918798), datetime.datetime(2024, 9, 30, 6, 2, 20, 427507), datetime.datetime(2024, 9, 30, 6, 2, 20, 943055), datetime.datetime(2024, 9, 30, 6, 2, 21, 460553), datetime.datetime(2024, 9, 30, 6, 2, 21, 969674), datetime.datetime(2024, 9, 30, 6, 2, 22, 477825), datetime.datetime(2024, 9, 30, 6, 2, 22, 987647), datetime.datetime(2024, 9, 30, 6, 2, 23, 551021), datetime.datetime(2024, 9, 30, 6, 2, 24, 115602), datetime.datetime(2024, 9, 30, 6, 2, 24, 627769), datetime.datetime(2024, 9, 30, 6, 2, 25, 135813), datetime.datetime(2024, 9, 30, 6, 2, 25, 660586), datetime.datetime(2024, 9, 30, 6, 2, 26, 170590), datetime.datetime(2024, 9, 30, 6, 2, 26, 678023), datetime.datetime(2024, 9, 30, 6, 2, 27, 187467), datetime.datetime(2024, 9, 30, 6, 2, 27, 695277), datetime.datetime(2024, 9, 30, 6, 2, 28, 203257), datetime.datetime(2024, 9, 30, 6, 2, 28, 711713), datetime.datetime(2024, 9, 30, 6, 2, 29, 223789), datetime.datetime(2024, 9, 30, 6, 2, 29, 751414), datetime.datetime(2024, 9, 30, 6, 2, 30, 357532), datetime.datetime(2024, 9, 30, 6, 2, 30, 868399), datetime.datetime(2024, 9, 30, 6, 2, 31, 434425), datetime.datetime(2024, 9, 30, 6, 2, 31, 956691), datetime.datetime(2024, 9, 30, 6, 2, 32, 463773), datetime.datetime(2024, 9, 30, 6, 2, 32, 976770), datetime.datetime(2024, 9, 30, 6, 2, 33, 487963), datetime.datetime(2024, 9, 30, 6, 2, 33, 996128), datetime.datetime(2024, 9, 30, 6, 2, 34, 670197), datetime.datetime(2024, 9, 30, 6, 2, 35, 323245), datetime.datetime(2024, 9, 30, 6, 2, 35, 835985), datetime.datetime(2024, 9, 30, 6, 2, 36, 346941), datetime.datetime(2024, 9, 30, 6, 2, 36, 926976), datetime.datetime(2024, 9, 30, 6, 2, 37, 619010), datetime.datetime(2024, 9, 30, 6, 2, 38, 129441), datetime.datetime(2024, 9, 30, 6, 2, 38, 644039), datetime.datetime(2024, 9, 30, 6, 2, 39, 152818), datetime.datetime(2024, 9, 30, 6, 2, 39, 666005), datetime.datetime(2024, 9, 30, 6, 2, 40, 298647), datetime.datetime(2024, 9, 30, 6, 2, 40, 808784), datetime.datetime(2024, 9, 30, 6, 2, 41, 465782), datetime.datetime(2024, 9, 30, 6, 2, 41, 976179), datetime.datetime(2024, 9, 30, 6, 2, 42, 486867), datetime.datetime(2024, 9, 30, 6, 2, 42, 997568), datetime.datetime(2024, 9, 30, 6, 2, 43, 512269), datetime.datetime(2024, 9, 30, 6, 2, 44, 23907), datetime.datetime(2024, 9, 30, 6, 2, 44, 533419), datetime.datetime(2024, 9, 30, 6, 2, 45, 42394), datetime.datetime(2024, 9, 30, 6, 2, 45, 550651), datetime.datetime(2024, 9, 30, 6, 2, 46, 64326), datetime.datetime(2024, 9, 30, 6, 2, 46, 578949), datetime.datetime(2024, 9, 30, 6, 2, 47, 90884), datetime.datetime(2024, 9, 30, 6, 2, 47, 600969), datetime.datetime(2024, 9, 30, 6, 2, 48, 169658), datetime.datetime(2024, 9, 30, 6, 2, 48, 799386), datetime.datetime(2024, 9, 30, 6, 2, 49, 319786), datetime.datetime(2024, 9, 30, 6, 2, 49, 832125), datetime.datetime(2024, 9, 30, 6, 2, 50, 345108), datetime.datetime(2024, 9, 30, 6, 2, 50, 857551), datetime.datetime(2024, 9, 30, 6, 2, 51, 475373), datetime.datetime(2024, 9, 30, 6, 2, 52, 80541), datetime.datetime(2024, 9, 30, 6, 2, 52, 596215), datetime.datetime(2024, 9, 30, 6, 2, 53, 109106), datetime.datetime(2024, 9, 30, 6, 2, 53, 633784), datetime.datetime(2024, 9, 30, 6, 2, 54, 225432), datetime.datetime(2024, 9, 30, 6, 2, 54, 735479), datetime.datetime(2024, 9, 30, 6, 2, 55, 346504), datetime.datetime(2024, 9, 30, 6, 2, 55, 944377), datetime.datetime(2024, 9, 30, 6, 2, 56, 549059), datetime.datetime(2024, 9, 30, 6, 2, 57, 276461), datetime.datetime(2024, 9, 30, 6, 2, 57, 833553), datetime.datetime(2024, 9, 30, 6, 2, 58, 352063), datetime.datetime(2024, 9, 30, 6, 2, 58, 869830), datetime.datetime(2024, 9, 30, 6, 2, 59, 379792), datetime.datetime(2024, 9, 30, 6, 2, 59, 889693), datetime.datetime(2024, 9, 30, 6, 3, 0, 399569), datetime.datetime(2024, 9, 30, 6, 3, 0, 911182), datetime.datetime(2024, 9, 30, 6, 3, 1, 445128), datetime.datetime(2024, 9, 30, 6, 3, 1, 956557), datetime.datetime(2024, 9, 30, 6, 3, 2, 503118), datetime.datetime(2024, 9, 30, 6, 3, 3, 44852), datetime.datetime(2024, 9, 30, 6, 3, 3, 586520), datetime.datetime(2024, 9, 30, 6, 3, 4, 99478), datetime.datetime(2024, 9, 30, 6, 3, 4, 614766), datetime.datetime(2024, 9, 30, 6, 3, 5, 127262), datetime.datetime(2024, 9, 30, 6, 3, 5, 640422), datetime.datetime(2024, 9, 30, 6, 3, 6, 197768), datetime.datetime(2024, 9, 30, 6, 3, 6, 718642), datetime.datetime(2024, 9, 30, 6, 3, 7, 227984), datetime.datetime(2024, 9, 30, 6, 3, 7, 741062), datetime.datetime(2024, 9, 30, 6, 3, 8, 251581), datetime.datetime(2024, 9, 30, 6, 3, 8, 766304), datetime.datetime(2024, 9, 30, 6, 3, 9, 280281), datetime.datetime(2024, 9, 30, 6, 3, 9, 793635), datetime.datetime(2024, 9, 30, 6, 3, 10, 302005), datetime.datetime(2024, 9, 30, 6, 3, 10, 842766), datetime.datetime(2024, 9, 30, 6, 3, 11, 373282), datetime.datetime(2024, 9, 30, 6, 3, 11, 888660), datetime.datetime(2024, 9, 30, 6, 3, 12, 441729), datetime.datetime(2024, 9, 30, 6, 3, 12, 984998), datetime.datetime(2024, 9, 30, 6, 3, 13, 543625), datetime.datetime(2024, 9, 30, 6, 3, 14, 80810), datetime.datetime(2024, 9, 30, 6, 3, 14, 594144), datetime.datetime(2024, 9, 30, 6, 3, 15, 102749), datetime.datetime(2024, 9, 30, 6, 3, 15, 612184), datetime.datetime(2024, 9, 30, 6, 3, 16, 123814), datetime.datetime(2024, 9, 30, 6, 3, 16, 663103), datetime.datetime(2024, 9, 30, 6, 3, 17, 201212), datetime.datetime(2024, 9, 30, 6, 3, 17, 717546), datetime.datetime(2024, 9, 30, 6, 3, 18, 229337), datetime.datetime(2024, 9, 30, 6, 3, 18, 756030), datetime.datetime(2024, 9, 30, 6, 3, 19, 265391), datetime.datetime(2024, 9, 30, 6, 3, 19, 774351), datetime.datetime(2024, 9, 30, 6, 3, 20, 287008), datetime.datetime(2024, 9, 30, 6, 3, 20, 796188), datetime.datetime(2024, 9, 30, 6, 3, 21, 304319), datetime.datetime(2024, 9, 30, 6, 3, 21, 814546), datetime.datetime(2024, 9, 30, 6, 3, 22, 325355), datetime.datetime(2024, 9, 30, 6, 3, 22, 835379), datetime.datetime(2024, 9, 30, 6, 3, 23, 345892), datetime.datetime(2024, 9, 30, 6, 3, 23, 855142), datetime.datetime(2024, 9, 30, 6, 3, 24, 364859), datetime.datetime(2024, 9, 30, 6, 3, 24, 873213), datetime.datetime(2024, 9, 30, 6, 3, 25, 397039), datetime.datetime(2024, 9, 30, 6, 3, 25, 935435), datetime.datetime(2024, 9, 30, 6, 3, 26, 446552), datetime.datetime(2024, 9, 30, 6, 3, 26, 957217), datetime.datetime(2024, 9, 30, 6, 3, 27, 469583), datetime.datetime(2024, 9, 30, 6, 3, 27, 978635), datetime.datetime(2024, 9, 30, 6, 3, 28, 487815), datetime.datetime(2024, 9, 30, 6, 3, 29, 177), datetime.datetime(2024, 9, 30, 6, 3, 29, 567177), datetime.datetime(2024, 9, 30, 6, 3, 30, 76067), datetime.datetime(2024, 9, 30, 6, 3, 30, 585633), datetime.datetime(2024, 9, 30, 6, 3, 31, 136262), datetime.datetime(2024, 9, 30, 6, 3, 31, 647431), datetime.datetime(2024, 9, 30, 6, 3, 32, 183530), datetime.datetime(2024, 9, 30, 6, 3, 32, 692936), datetime.datetime(2024, 9, 30, 6, 3, 33, 232653), datetime.datetime(2024, 9, 30, 6, 3, 33, 741801), datetime.datetime(2024, 9, 30, 6, 3, 34, 250621), datetime.datetime(2024, 9, 30, 6, 3, 34, 763782), datetime.datetime(2024, 9, 30, 6, 3, 35, 325361), datetime.datetime(2024, 9, 30, 6, 3, 35, 836526), datetime.datetime(2024, 9, 30, 6, 3, 36, 346276), datetime.datetime(2024, 9, 30, 6, 3, 36, 903374), datetime.datetime(2024, 9, 30, 6, 3, 37, 421566), datetime.datetime(2024, 9, 30, 6, 3, 37, 935588), datetime.datetime(2024, 9, 30, 6, 3, 38, 464593), datetime.datetime(2024, 9, 30, 6, 3, 38, 974470), datetime.datetime(2024, 9, 30, 6, 3, 39, 568163), datetime.datetime(2024, 9, 30, 6, 3, 40, 78007), datetime.datetime(2024, 9, 30, 6, 3, 40, 587441), datetime.datetime(2024, 9, 30, 6, 3, 41, 96119), datetime.datetime(2024, 9, 30, 6, 3, 41, 606445), datetime.datetime(2024, 9, 30, 6, 3, 42, 145854), datetime.datetime(2024, 9, 30, 6, 3, 42, 656977), datetime.datetime(2024, 9, 30, 6, 3, 43, 169789), datetime.datetime(2024, 9, 30, 6, 3, 43, 715817), datetime.datetime(2024, 9, 30, 6, 3, 44, 227982), datetime.datetime(2024, 9, 30, 6, 3, 44, 758894), datetime.datetime(2024, 9, 30, 6, 3, 45, 268192), datetime.datetime(2024, 9, 30, 6, 3, 45, 778282), datetime.datetime(2024, 9, 30, 6, 3, 46, 287187), datetime.datetime(2024, 9, 30, 6, 3, 46, 795811), datetime.datetime(2024, 9, 30, 6, 3, 47, 305115), datetime.datetime(2024, 9, 30, 6, 3, 47, 814847), datetime.datetime(2024, 9, 30, 6, 3, 48, 326494), datetime.datetime(2024, 9, 30, 6, 3, 48, 844451), datetime.datetime(2024, 9, 30, 6, 3, 49, 361073), datetime.datetime(2024, 9, 30, 6, 3, 49, 873981), datetime.datetime(2024, 9, 30, 6, 3, 50, 382103), datetime.datetime(2024, 9, 30, 6, 3, 50, 909832), datetime.datetime(2024, 9, 30, 6, 3, 51, 423690), datetime.datetime(2024, 9, 30, 6, 3, 51, 933537), datetime.datetime(2024, 9, 30, 6, 3, 52, 442770), datetime.datetime(2024, 9, 30, 6, 3, 52, 952513), datetime.datetime(2024, 9, 30, 6, 3, 53, 479838), datetime.datetime(2024, 9, 30, 6, 3, 53, 993555), datetime.datetime(2024, 9, 30, 6, 3, 54, 510239), datetime.datetime(2024, 9, 30, 6, 3, 55, 86821), datetime.datetime(2024, 9, 30, 6, 3, 55, 619438), datetime.datetime(2024, 9, 30, 6, 3, 56, 171829), datetime.datetime(2024, 9, 30, 6, 3, 56, 717133), datetime.datetime(2024, 9, 30, 6, 3, 57, 258099), datetime.datetime(2024, 9, 30, 6, 3, 57, 810157), datetime.datetime(2024, 9, 30, 6, 3, 58, 326299), datetime.datetime(2024, 9, 30, 6, 3, 58, 838437), datetime.datetime(2024, 9, 30, 6, 3, 59, 349845), datetime.datetime(2024, 9, 30, 6, 3, 59, 861313), datetime.datetime(2024, 9, 30, 6, 4, 0, 400899), datetime.datetime(2024, 9, 30, 6, 4, 0, 911784), datetime.datetime(2024, 9, 30, 6, 4, 1, 447595), datetime.datetime(2024, 9, 30, 6, 4, 1, 959761), datetime.datetime(2024, 9, 30, 6, 4, 2, 507112), datetime.datetime(2024, 9, 30, 6, 4, 3, 18747), datetime.datetime(2024, 9, 30, 6, 4, 3, 535680), datetime.datetime(2024, 9, 30, 6, 4, 4, 49673), datetime.datetime(2024, 9, 30, 6, 4, 4, 582434), datetime.datetime(2024, 9, 30, 6, 4, 5, 96949), datetime.datetime(2024, 9, 30, 6, 4, 5, 619934), datetime.datetime(2024, 9, 30, 6, 4, 6, 133833), datetime.datetime(2024, 9, 30, 6, 4, 6, 647910), datetime.datetime(2024, 9, 30, 6, 4, 7, 160849), datetime.datetime(2024, 9, 30, 6, 4, 7, 678735), datetime.datetime(2024, 9, 30, 6, 4, 8, 191910), datetime.datetime(2024, 9, 30, 6, 4, 8, 704334), datetime.datetime(2024, 9, 30, 6, 4, 9, 227623), datetime.datetime(2024, 9, 30, 6, 4, 9, 757014), datetime.datetime(2024, 9, 30, 6, 4, 10, 269994), datetime.datetime(2024, 9, 30, 6, 4, 10, 779359), datetime.datetime(2024, 9, 30, 6, 4, 11, 339428), datetime.datetime(2024, 9, 30, 6, 4, 11, 901800), datetime.datetime(2024, 9, 30, 6, 4, 12, 411494), datetime.datetime(2024, 9, 30, 6, 4, 12, 921140), datetime.datetime(2024, 9, 30, 6, 4, 13, 431074), datetime.datetime(2024, 9, 30, 6, 4, 13, 941851), datetime.datetime(2024, 9, 30, 6, 4, 14, 451346), datetime.datetime(2024, 9, 30, 6, 4, 14, 961325), datetime.datetime(2024, 9, 30, 6, 4, 15, 473033), datetime.datetime(2024, 9, 30, 6, 4, 15, 995860), datetime.datetime(2024, 9, 30, 6, 4, 16, 527839), datetime.datetime(2024, 9, 30, 6, 4, 17, 39795), datetime.datetime(2024, 9, 30, 6, 4, 17, 558561), datetime.datetime(2024, 9, 30, 6, 4, 18, 71427), datetime.datetime(2024, 9, 30, 6, 4, 18, 594719), datetime.datetime(2024, 9, 30, 6, 4, 19, 108114), datetime.datetime(2024, 9, 30, 6, 4, 19, 621294), datetime.datetime(2024, 9, 30, 6, 4, 20, 143432), datetime.datetime(2024, 9, 30, 6, 4, 20, 656431), datetime.datetime(2024, 9, 30, 6, 4, 21, 169954), datetime.datetime(2024, 9, 30, 6, 4, 21, 679193), datetime.datetime(2024, 9, 30, 6, 4, 22, 193841), datetime.datetime(2024, 9, 30, 6, 4, 22, 703984), datetime.datetime(2024, 9, 30, 6, 4, 23, 214125), datetime.datetime(2024, 9, 30, 6, 4, 23, 725508), datetime.datetime(2024, 9, 30, 6, 4, 24, 268205), datetime.datetime(2024, 9, 30, 6, 4, 24, 780727), datetime.datetime(2024, 9, 30, 6, 4, 25, 292765), datetime.datetime(2024, 9, 30, 6, 4, 25, 804881), datetime.datetime(2024, 9, 30, 6, 4, 26, 316972), datetime.datetime(2024, 9, 30, 6, 4, 26, 831089), datetime.datetime(2024, 9, 30, 6, 4, 27, 342884), datetime.datetime(2024, 9, 30, 6, 4, 27, 855103), datetime.datetime(2024, 9, 30, 6, 4, 28, 365379), datetime.datetime(2024, 9, 30, 6, 4, 28, 875694), datetime.datetime(2024, 9, 30, 6, 4, 29, 418050), datetime.datetime(2024, 9, 30, 6, 4, 29, 927346), datetime.datetime(2024, 9, 30, 6, 4, 30, 441867), datetime.datetime(2024, 9, 30, 6, 4, 30, 951114), datetime.datetime(2024, 9, 30, 6, 4, 31, 459539), datetime.datetime(2024, 9, 30, 6, 4, 31, 968938), datetime.datetime(2024, 9, 30, 6, 4, 32, 477217), datetime.datetime(2024, 9, 30, 6, 4, 32, 985289), datetime.datetime(2024, 9, 30, 6, 4, 33, 519629), datetime.datetime(2024, 9, 30, 6, 4, 34, 27967), datetime.datetime(2024, 9, 30, 6, 4, 34, 537324), datetime.datetime(2024, 9, 30, 6, 4, 35, 46852), datetime.datetime(2024, 9, 30, 6, 4, 35, 609655), datetime.datetime(2024, 9, 30, 6, 4, 36, 120918), datetime.datetime(2024, 9, 30, 6, 4, 36, 632131), datetime.datetime(2024, 9, 30, 6, 4, 37, 146639), datetime.datetime(2024, 9, 30, 6, 4, 37, 694880), datetime.datetime(2024, 9, 30, 6, 4, 38, 205439), datetime.datetime(2024, 9, 30, 6, 4, 38, 716882), datetime.datetime(2024, 9, 30, 6, 4, 39, 256997), datetime.datetime(2024, 9, 30, 6, 4, 39, 769426), datetime.datetime(2024, 9, 30, 6, 4, 40, 278809), datetime.datetime(2024, 9, 30, 6, 4, 40, 787374), datetime.datetime(2024, 9, 30, 6, 4, 41, 295302), datetime.datetime(2024, 9, 30, 6, 4, 41, 803408), datetime.datetime(2024, 9, 30, 6, 4, 42, 313227), datetime.datetime(2024, 9, 30, 6, 4, 42, 822397), datetime.datetime(2024, 9, 30, 6, 4, 43, 348163), datetime.datetime(2024, 9, 30, 6, 4, 43, 862744), datetime.datetime(2024, 9, 30, 6, 4, 44, 384796), datetime.datetime(2024, 9, 30, 6, 4, 44, 900727), datetime.datetime(2024, 9, 30, 6, 4, 45, 446090), datetime.datetime(2024, 9, 30, 6, 4, 45, 956500), datetime.datetime(2024, 9, 30, 6, 4, 46, 468374), datetime.datetime(2024, 9, 30, 6, 4, 46, 976871), datetime.datetime(2024, 9, 30, 6, 4, 47, 490188), datetime.datetime(2024, 9, 30, 6, 4, 48, 1239), datetime.datetime(2024, 9, 30, 6, 4, 48, 512464), datetime.datetime(2024, 9, 30, 6, 4, 49, 23905), datetime.datetime(2024, 9, 30, 6, 4, 49, 555843), datetime.datetime(2024, 9, 30, 6, 4, 50, 73958), datetime.datetime(2024, 9, 30, 6, 4, 50, 591784), datetime.datetime(2024, 9, 30, 6, 4, 51, 119550), datetime.datetime(2024, 9, 30, 6, 4, 51, 632119), datetime.datetime(2024, 9, 30, 6, 4, 52, 142918), datetime.datetime(2024, 9, 30, 6, 4, 52, 653781), datetime.datetime(2024, 9, 30, 6, 4, 53, 188596), datetime.datetime(2024, 9, 30, 6, 4, 53, 699261), datetime.datetime(2024, 9, 30, 6, 4, 54, 227078), datetime.datetime(2024, 9, 30, 6, 4, 54, 737542), datetime.datetime(2024, 9, 30, 6, 4, 55, 249080), datetime.datetime(2024, 9, 30, 6, 4, 55, 758757), datetime.datetime(2024, 9, 30, 6, 4, 56, 268140), datetime.datetime(2024, 9, 30, 6, 4, 56, 777001), datetime.datetime(2024, 9, 30, 6, 4, 57, 286591), datetime.datetime(2024, 9, 30, 6, 4, 57, 801092), datetime.datetime(2024, 9, 30, 6, 4, 58, 310204), datetime.datetime(2024, 9, 30, 6, 4, 58, 818794), datetime.datetime(2024, 9, 30, 6, 4, 59, 328618), datetime.datetime(2024, 9, 30, 6, 4, 59, 916473), datetime.datetime(2024, 9, 30, 6, 5, 0, 425810), datetime.datetime(2024, 9, 30, 6, 5, 0, 934436), datetime.datetime(2024, 9, 30, 6, 5, 1, 443918), datetime.datetime(2024, 9, 30, 6, 5, 1, 952527), datetime.datetime(2024, 9, 30, 6, 5, 2, 464432), datetime.datetime(2024, 9, 30, 6, 5, 2, 974027), datetime.datetime(2024, 9, 30, 6, 5, 3, 483798), datetime.datetime(2024, 9, 30, 6, 5, 3, 993389), datetime.datetime(2024, 9, 30, 6, 5, 4, 533940), datetime.datetime(2024, 9, 30, 6, 5, 5, 44559), datetime.datetime(2024, 9, 30, 6, 5, 5, 560713), datetime.datetime(2024, 9, 30, 6, 5, 6, 71484), datetime.datetime(2024, 9, 30, 6, 5, 6, 582741), datetime.datetime(2024, 9, 30, 6, 5, 7, 92073), datetime.datetime(2024, 9, 30, 6, 5, 7, 604837), datetime.datetime(2024, 9, 30, 6, 5, 8, 113637), datetime.datetime(2024, 9, 30, 6, 5, 8, 625059), datetime.datetime(2024, 9, 30, 6, 5, 9, 133495), datetime.datetime(2024, 9, 30, 6, 5, 9, 641513), datetime.datetime(2024, 9, 30, 6, 5, 10, 174991), datetime.datetime(2024, 9, 30, 6, 5, 10, 686764), datetime.datetime(2024, 9, 30, 6, 5, 11, 202167), datetime.datetime(2024, 9, 30, 6, 5, 11, 728125), datetime.datetime(2024, 9, 30, 6, 5, 12, 256512), datetime.datetime(2024, 9, 30, 6, 5, 12, 767686), datetime.datetime(2024, 9, 30, 6, 5, 13, 282147), datetime.datetime(2024, 9, 30, 6, 5, 13, 791838), datetime.datetime(2024, 9, 30, 6, 5, 14, 302280), datetime.datetime(2024, 9, 30, 6, 5, 14, 812454), datetime.datetime(2024, 9, 30, 6, 5, 15, 321561), datetime.datetime(2024, 9, 30, 6, 5, 15, 832498), datetime.datetime(2024, 9, 30, 6, 5, 16, 340974), datetime.datetime(2024, 9, 30, 6, 5, 16, 850675), datetime.datetime(2024, 9, 30, 6, 5, 17, 359633), datetime.datetime(2024, 9, 30, 6, 5, 17, 884173), datetime.datetime(2024, 9, 30, 6, 5, 18, 393332), datetime.datetime(2024, 9, 30, 6, 5, 18, 901856), datetime.datetime(2024, 9, 30, 6, 5, 19, 437750), datetime.datetime(2024, 9, 30, 6, 5, 19, 946823), datetime.datetime(2024, 9, 30, 6, 5, 20, 456462), datetime.datetime(2024, 9, 30, 6, 5, 21, 27185), datetime.datetime(2024, 9, 30, 6, 5, 21, 574992), datetime.datetime(2024, 9, 30, 6, 5, 22, 114802), datetime.datetime(2024, 9, 30, 6, 5, 22, 660774), datetime.datetime(2024, 9, 30, 6, 5, 23, 169315), datetime.datetime(2024, 9, 30, 6, 5, 23, 677861), datetime.datetime(2024, 9, 30, 6, 5, 24, 189890), datetime.datetime(2024, 9, 30, 6, 5, 24, 700945), datetime.datetime(2024, 9, 30, 6, 5, 25, 212602), datetime.datetime(2024, 9, 30, 6, 5, 25, 725257), datetime.datetime(2024, 9, 30, 6, 5, 26, 234355), datetime.datetime(2024, 9, 30, 6, 5, 26, 745657), datetime.datetime(2024, 9, 30, 6, 5, 27, 257125), datetime.datetime(2024, 9, 30, 6, 5, 27, 775163), datetime.datetime(2024, 9, 30, 6, 5, 28, 287150), datetime.datetime(2024, 9, 30, 6, 5, 28, 799565), datetime.datetime(2024, 9, 30, 6, 5, 29, 352430), datetime.datetime(2024, 9, 30, 6, 5, 29, 863533), datetime.datetime(2024, 9, 30, 6, 5, 30, 377049), datetime.datetime(2024, 9, 30, 6, 5, 30, 891300), datetime.datetime(2024, 9, 30, 6, 5, 31, 401321), datetime.datetime(2024, 9, 30, 6, 5, 31, 958225), datetime.datetime(2024, 9, 30, 6, 5, 32, 480496), datetime.datetime(2024, 9, 30, 6, 5, 32, 990946), datetime.datetime(2024, 9, 30, 6, 5, 33, 499666), datetime.datetime(2024, 9, 30, 6, 5, 34, 36549), datetime.datetime(2024, 9, 30, 6, 5, 34, 545133), datetime.datetime(2024, 9, 30, 6, 5, 35, 55243), datetime.datetime(2024, 9, 30, 6, 5, 35, 565179), datetime.datetime(2024, 9, 30, 6, 5, 36, 73866), datetime.datetime(2024, 9, 30, 6, 5, 36, 609960), datetime.datetime(2024, 9, 30, 6, 5, 37, 143036), datetime.datetime(2024, 9, 30, 6, 5, 37, 656364), datetime.datetime(2024, 9, 30, 6, 5, 38, 166364), datetime.datetime(2024, 9, 30, 6, 5, 38, 676126), datetime.datetime(2024, 9, 30, 6, 5, 39, 185679), datetime.datetime(2024, 9, 30, 6, 5, 39, 696504), datetime.datetime(2024, 9, 30, 6, 5, 40, 207871), datetime.datetime(2024, 9, 30, 6, 5, 40, 723262), datetime.datetime(2024, 9, 30, 6, 5, 41, 241294), datetime.datetime(2024, 9, 30, 6, 5, 41, 752062), datetime.datetime(2024, 9, 30, 6, 5, 42, 267556), datetime.datetime(2024, 9, 30, 6, 5, 42, 779576), datetime.datetime(2024, 9, 30, 6, 5, 43, 295844), datetime.datetime(2024, 9, 30, 6, 5, 43, 811031), datetime.datetime(2024, 9, 30, 6, 5, 44, 321016), datetime.datetime(2024, 9, 30, 6, 5, 44, 830185), datetime.datetime(2024, 9, 30, 6, 5, 45, 338906), datetime.datetime(2024, 9, 30, 6, 5, 45, 847704), datetime.datetime(2024, 9, 30, 6, 5, 46, 358536), datetime.datetime(2024, 9, 30, 6, 5, 46, 867755), datetime.datetime(2024, 9, 30, 6, 5, 47, 377228), datetime.datetime(2024, 9, 30, 6, 5, 47, 890796), datetime.datetime(2024, 9, 30, 6, 5, 48, 399934), datetime.datetime(2024, 9, 30, 6, 5, 48, 909816), datetime.datetime(2024, 9, 30, 6, 5, 49, 420930), datetime.datetime(2024, 9, 30, 6, 5, 49, 930060), datetime.datetime(2024, 9, 30, 6, 5, 50, 440136), datetime.datetime(2024, 9, 30, 6, 5, 51, 6008), datetime.datetime(2024, 9, 30, 6, 5, 51, 515093), datetime.datetime(2024, 9, 30, 6, 5, 52, 23611), datetime.datetime(2024, 9, 30, 6, 5, 52, 537912), datetime.datetime(2024, 9, 30, 6, 5, 53, 47169), datetime.datetime(2024, 9, 30, 6, 5, 53, 557029), datetime.datetime(2024, 9, 30, 6, 5, 54, 66442), datetime.datetime(2024, 9, 30, 6, 5, 54, 575474), datetime.datetime(2024, 9, 30, 6, 5, 55, 85689), datetime.datetime(2024, 9, 30, 6, 5, 55, 594608), datetime.datetime(2024, 9, 30, 6, 5, 56, 104436), datetime.datetime(2024, 9, 30, 6, 5, 56, 613557), datetime.datetime(2024, 9, 30, 6, 5, 57, 128665), datetime.datetime(2024, 9, 30, 6, 5, 57, 642261), datetime.datetime(2024, 9, 30, 6, 5, 58, 152128), datetime.datetime(2024, 9, 30, 6, 5, 58, 661259), datetime.datetime(2024, 9, 30, 6, 5, 59, 188005), datetime.datetime(2024, 9, 30, 6, 5, 59, 696276), datetime.datetime(2024, 9, 30, 6, 6, 0, 206285), datetime.datetime(2024, 9, 30, 6, 6, 0, 719554), datetime.datetime(2024, 9, 30, 6, 6, 1, 229366), datetime.datetime(2024, 9, 30, 6, 6, 1, 740427), datetime.datetime(2024, 9, 30, 6, 6, 2, 250719), datetime.datetime(2024, 9, 30, 6, 6, 2, 760962), datetime.datetime(2024, 9, 30, 6, 6, 3, 270837), datetime.datetime(2024, 9, 30, 6, 6, 3, 781266), datetime.datetime(2024, 9, 30, 6, 6, 4, 290919), datetime.datetime(2024, 9, 30, 6, 6, 4, 799898), datetime.datetime(2024, 9, 30, 6, 6, 5, 311195), datetime.datetime(2024, 9, 30, 6, 6, 5, 822049), datetime.datetime(2024, 9, 30, 6, 6, 6, 333374), datetime.datetime(2024, 9, 30, 6, 6, 6, 851586), datetime.datetime(2024, 9, 30, 6, 6, 7, 364091), datetime.datetime(2024, 9, 30, 6, 6, 7, 880087), datetime.datetime(2024, 9, 30, 6, 6, 8, 393456), datetime.datetime(2024, 9, 30, 6, 6, 8, 906240), datetime.datetime(2024, 9, 30, 6, 6, 9, 419180), datetime.datetime(2024, 9, 30, 6, 6, 9, 930099), datetime.datetime(2024, 9, 30, 6, 6, 10, 469140), datetime.datetime(2024, 9, 30, 6, 6, 10, 984883), datetime.datetime(2024, 9, 30, 6, 6, 11, 495040), datetime.datetime(2024, 9, 30, 6, 6, 12, 4316), datetime.datetime(2024, 9, 30, 6, 6, 12, 514197), datetime.datetime(2024, 9, 30, 6, 6, 13, 23548), datetime.datetime(2024, 9, 30, 6, 6, 13, 571052), datetime.datetime(2024, 9, 30, 6, 6, 14, 80722), datetime.datetime(2024, 9, 30, 6, 6, 14, 601226), datetime.datetime(2024, 9, 30, 6, 6, 15, 107990), datetime.datetime(2024, 9, 30, 6, 6, 15, 620091), datetime.datetime(2024, 9, 30, 6, 6, 16, 131632), datetime.datetime(2024, 9, 30, 6, 6, 16, 691117), datetime.datetime(2024, 9, 30, 6, 6, 17, 201473), datetime.datetime(2024, 9, 30, 6, 6, 17, 717301), datetime.datetime(2024, 9, 30, 6, 6, 18, 228098), datetime.datetime(2024, 9, 30, 6, 6, 18, 740282), datetime.datetime(2024, 9, 30, 6, 6, 19, 251462), datetime.datetime(2024, 9, 30, 6, 6, 19, 762999), datetime.datetime(2024, 9, 30, 6, 6, 20, 305848), datetime.datetime(2024, 9, 30, 6, 6, 20, 986653), datetime.datetime(2024, 9, 30, 6, 6, 21, 711535), datetime.datetime(2024, 9, 30, 6, 6, 22, 224481), datetime.datetime(2024, 9, 30, 6, 6, 22, 838553), datetime.datetime(2024, 9, 30, 6, 6, 23, 357062)]\n"
     ]
    },
    {
     "data": {
      "text/plain": [
       "[datetime.datetime(2024, 9, 30, 14, 23, 28, 60790),\n",
       " datetime.datetime(2024, 9, 30, 14, 23, 33, 4075),\n",
       " datetime.datetime(2024, 9, 30, 14, 23, 33, 522044),\n",
       " datetime.datetime(2024, 9, 30, 14, 23, 34, 70976),\n",
       " datetime.datetime(2024, 9, 30, 14, 23, 34, 573478),\n",
       " datetime.datetime(2024, 9, 30, 14, 23, 35, 77044),\n",
       " datetime.datetime(2024, 9, 30, 14, 23, 35, 581478),\n",
       " datetime.datetime(2024, 9, 30, 14, 23, 36, 84778),\n",
       " datetime.datetime(2024, 9, 30, 14, 23, 36, 590597),\n",
       " datetime.datetime(2024, 9, 30, 14, 23, 37, 94302),\n",
       " datetime.datetime(2024, 9, 30, 14, 23, 37, 653648),\n",
       " datetime.datetime(2024, 9, 30, 14, 23, 38, 157683),\n",
       " datetime.datetime(2024, 9, 30, 14, 23, 38, 660982),\n",
       " datetime.datetime(2024, 9, 30, 14, 23, 39, 164220),\n",
       " datetime.datetime(2024, 9, 30, 14, 23, 39, 669206),\n",
       " datetime.datetime(2024, 9, 30, 14, 23, 40, 173355),\n",
       " datetime.datetime(2024, 9, 30, 14, 23, 40, 854559),\n",
       " datetime.datetime(2024, 9, 30, 14, 23, 41, 360151),\n",
       " datetime.datetime(2024, 9, 30, 14, 23, 41, 864468),\n",
       " datetime.datetime(2024, 9, 30, 14, 23, 42, 371027),\n",
       " datetime.datetime(2024, 9, 30, 14, 23, 42, 948716),\n",
       " datetime.datetime(2024, 9, 30, 14, 23, 43, 462270),\n",
       " datetime.datetime(2024, 9, 30, 14, 23, 43, 975041),\n",
       " datetime.datetime(2024, 9, 30, 14, 23, 44, 483838),\n",
       " datetime.datetime(2024, 9, 30, 14, 23, 45, 54932),\n",
       " datetime.datetime(2024, 9, 30, 14, 23, 45, 565182),\n",
       " datetime.datetime(2024, 9, 30, 14, 23, 46, 74777),\n",
       " datetime.datetime(2024, 9, 30, 14, 23, 46, 585429),\n",
       " datetime.datetime(2024, 9, 30, 14, 23, 47, 210362),\n",
       " datetime.datetime(2024, 9, 30, 14, 23, 47, 802577),\n",
       " datetime.datetime(2024, 9, 30, 14, 23, 48, 312005),\n",
       " datetime.datetime(2024, 9, 30, 14, 23, 48, 826478),\n",
       " datetime.datetime(2024, 9, 30, 14, 23, 49, 336232),\n",
       " datetime.datetime(2024, 9, 30, 14, 23, 49, 978766),\n",
       " datetime.datetime(2024, 9, 30, 14, 23, 50, 603588),\n",
       " datetime.datetime(2024, 9, 30, 14, 23, 51, 117501),\n",
       " datetime.datetime(2024, 9, 30, 14, 23, 51, 627064),\n",
       " datetime.datetime(2024, 9, 30, 14, 23, 52, 294978),\n",
       " datetime.datetime(2024, 9, 30, 14, 23, 52, 804785),\n",
       " datetime.datetime(2024, 9, 30, 14, 23, 53, 350087),\n",
       " datetime.datetime(2024, 9, 30, 14, 23, 53, 860784),\n",
       " datetime.datetime(2024, 9, 30, 14, 23, 54, 370352),\n",
       " datetime.datetime(2024, 9, 30, 14, 23, 54, 880354),\n",
       " datetime.datetime(2024, 9, 30, 14, 23, 55, 390041),\n",
       " datetime.datetime(2024, 9, 30, 14, 23, 56, 1158),\n",
       " datetime.datetime(2024, 9, 30, 14, 23, 56, 683337),\n",
       " datetime.datetime(2024, 9, 30, 14, 23, 57, 190462),\n",
       " datetime.datetime(2024, 9, 30, 14, 23, 57, 698868),\n",
       " datetime.datetime(2024, 9, 30, 14, 23, 58, 206460),\n",
       " datetime.datetime(2024, 9, 30, 14, 23, 58, 715130),\n",
       " datetime.datetime(2024, 9, 30, 14, 23, 59, 224219),\n",
       " datetime.datetime(2024, 9, 30, 14, 23, 59, 732520),\n",
       " datetime.datetime(2024, 9, 30, 14, 24, 0, 316438),\n",
       " datetime.datetime(2024, 9, 30, 14, 24, 0, 824538),\n",
       " datetime.datetime(2024, 9, 30, 14, 24, 1, 334465),\n",
       " datetime.datetime(2024, 9, 30, 14, 24, 1, 842154),\n",
       " datetime.datetime(2024, 9, 30, 14, 24, 2, 357032),\n",
       " datetime.datetime(2024, 9, 30, 14, 24, 2, 919994),\n",
       " datetime.datetime(2024, 9, 30, 14, 24, 3, 433882),\n",
       " datetime.datetime(2024, 9, 30, 14, 24, 3, 943341),\n",
       " datetime.datetime(2024, 9, 30, 14, 24, 4, 803671),\n",
       " datetime.datetime(2024, 9, 30, 14, 24, 5, 996773),\n",
       " datetime.datetime(2024, 9, 30, 14, 24, 6, 668289),\n",
       " datetime.datetime(2024, 9, 30, 14, 24, 7, 263337),\n",
       " datetime.datetime(2024, 9, 30, 14, 24, 7, 775270),\n",
       " datetime.datetime(2024, 9, 30, 14, 24, 8, 397235),\n",
       " datetime.datetime(2024, 9, 30, 14, 24, 8, 906189),\n",
       " datetime.datetime(2024, 9, 30, 14, 24, 9, 423056),\n",
       " datetime.datetime(2024, 9, 30, 14, 24, 9, 930592),\n",
       " datetime.datetime(2024, 9, 30, 14, 24, 10, 439171),\n",
       " datetime.datetime(2024, 9, 30, 14, 24, 10, 993280),\n",
       " datetime.datetime(2024, 9, 30, 14, 24, 11, 505141),\n",
       " datetime.datetime(2024, 9, 30, 14, 24, 12, 92483),\n",
       " datetime.datetime(2024, 9, 30, 14, 24, 12, 605819),\n",
       " datetime.datetime(2024, 9, 30, 14, 24, 13, 146015),\n",
       " datetime.datetime(2024, 9, 30, 14, 24, 13, 847834),\n",
       " datetime.datetime(2024, 9, 30, 14, 24, 14, 591148),\n",
       " datetime.datetime(2024, 9, 30, 14, 24, 15, 223348),\n",
       " datetime.datetime(2024, 9, 30, 14, 24, 15, 732501),\n",
       " datetime.datetime(2024, 9, 30, 14, 24, 16, 243086),\n",
       " datetime.datetime(2024, 9, 30, 14, 24, 16, 754466),\n",
       " datetime.datetime(2024, 9, 30, 14, 24, 17, 262103),\n",
       " datetime.datetime(2024, 9, 30, 14, 24, 17, 770633),\n",
       " datetime.datetime(2024, 9, 30, 14, 24, 18, 279482),\n",
       " datetime.datetime(2024, 9, 30, 14, 24, 18, 792050),\n",
       " datetime.datetime(2024, 9, 30, 14, 24, 19, 302534),\n",
       " datetime.datetime(2024, 9, 30, 14, 24, 19, 871822),\n",
       " datetime.datetime(2024, 9, 30, 14, 24, 20, 382610),\n",
       " datetime.datetime(2024, 9, 30, 14, 24, 21, 54089),\n",
       " datetime.datetime(2024, 9, 30, 14, 24, 21, 615157),\n",
       " datetime.datetime(2024, 9, 30, 14, 24, 22, 130338),\n",
       " datetime.datetime(2024, 9, 30, 14, 24, 22, 638305),\n",
       " datetime.datetime(2024, 9, 30, 14, 24, 23, 148213),\n",
       " datetime.datetime(2024, 9, 30, 14, 24, 23, 656186),\n",
       " datetime.datetime(2024, 9, 30, 14, 24, 24, 168969),\n",
       " datetime.datetime(2024, 9, 30, 14, 24, 24, 723639),\n",
       " datetime.datetime(2024, 9, 30, 14, 24, 25, 244622),\n",
       " datetime.datetime(2024, 9, 30, 14, 24, 25, 752793),\n",
       " datetime.datetime(2024, 9, 30, 14, 24, 26, 264311),\n",
       " datetime.datetime(2024, 9, 30, 14, 24, 26, 776864),\n",
       " datetime.datetime(2024, 9, 30, 14, 24, 27, 291289),\n",
       " datetime.datetime(2024, 9, 30, 14, 24, 27, 800122),\n",
       " datetime.datetime(2024, 9, 30, 14, 24, 28, 343564),\n",
       " datetime.datetime(2024, 9, 30, 14, 24, 28, 861312),\n",
       " datetime.datetime(2024, 9, 30, 14, 24, 29, 371320),\n",
       " datetime.datetime(2024, 9, 30, 14, 24, 29, 878273),\n",
       " datetime.datetime(2024, 9, 30, 14, 24, 30, 386995),\n",
       " datetime.datetime(2024, 9, 30, 14, 24, 30, 916095),\n",
       " datetime.datetime(2024, 9, 30, 14, 24, 31, 471354),\n",
       " datetime.datetime(2024, 9, 30, 14, 24, 32, 17581),\n",
       " datetime.datetime(2024, 9, 30, 14, 24, 32, 564415),\n",
       " datetime.datetime(2024, 9, 30, 14, 24, 33, 81382),\n",
       " datetime.datetime(2024, 9, 30, 14, 24, 33, 630159),\n",
       " datetime.datetime(2024, 9, 30, 14, 24, 34, 180662),\n",
       " datetime.datetime(2024, 9, 30, 14, 24, 34, 742164),\n",
       " datetime.datetime(2024, 9, 30, 14, 24, 35, 287181),\n",
       " datetime.datetime(2024, 9, 30, 14, 24, 35, 802038),\n",
       " datetime.datetime(2024, 9, 30, 14, 24, 36, 335365),\n",
       " datetime.datetime(2024, 9, 30, 14, 24, 36, 844267),\n",
       " datetime.datetime(2024, 9, 30, 14, 24, 37, 352849),\n",
       " datetime.datetime(2024, 9, 30, 14, 24, 37, 895087),\n",
       " datetime.datetime(2024, 9, 30, 14, 24, 38, 402774),\n",
       " datetime.datetime(2024, 9, 30, 14, 24, 38, 913775),\n",
       " datetime.datetime(2024, 9, 30, 14, 24, 39, 421473),\n",
       " datetime.datetime(2024, 9, 30, 14, 24, 39, 929457),\n",
       " datetime.datetime(2024, 9, 30, 14, 24, 40, 440451),\n",
       " datetime.datetime(2024, 9, 30, 14, 24, 41, 26915),\n",
       " datetime.datetime(2024, 9, 30, 14, 24, 41, 590733),\n",
       " datetime.datetime(2024, 9, 30, 14, 24, 42, 98067),\n",
       " datetime.datetime(2024, 9, 30, 14, 24, 42, 606310),\n",
       " datetime.datetime(2024, 9, 30, 14, 24, 43, 117330),\n",
       " datetime.datetime(2024, 9, 30, 14, 24, 43, 634799),\n",
       " datetime.datetime(2024, 9, 30, 14, 24, 44, 173534),\n",
       " datetime.datetime(2024, 9, 30, 14, 24, 44, 688813),\n",
       " datetime.datetime(2024, 9, 30, 14, 24, 45, 204395),\n",
       " datetime.datetime(2024, 9, 30, 14, 24, 45, 711593),\n",
       " datetime.datetime(2024, 9, 30, 14, 24, 46, 220443),\n",
       " datetime.datetime(2024, 9, 30, 14, 24, 46, 776821),\n",
       " datetime.datetime(2024, 9, 30, 14, 24, 47, 287351),\n",
       " datetime.datetime(2024, 9, 30, 14, 24, 47, 875000),\n",
       " datetime.datetime(2024, 9, 30, 14, 24, 48, 476779),\n",
       " datetime.datetime(2024, 9, 30, 14, 24, 49, 71125),\n",
       " datetime.datetime(2024, 9, 30, 14, 24, 49, 579461),\n",
       " datetime.datetime(2024, 9, 30, 14, 24, 50, 87675),\n",
       " datetime.datetime(2024, 9, 30, 14, 24, 50, 652349),\n",
       " datetime.datetime(2024, 9, 30, 14, 24, 51, 162362),\n",
       " datetime.datetime(2024, 9, 30, 14, 24, 51, 696982),\n",
       " datetime.datetime(2024, 9, 30, 14, 24, 52, 207173),\n",
       " datetime.datetime(2024, 9, 30, 14, 24, 52, 722082),\n",
       " datetime.datetime(2024, 9, 30, 14, 24, 53, 276087),\n",
       " datetime.datetime(2024, 9, 30, 14, 24, 53, 785939),\n",
       " datetime.datetime(2024, 9, 30, 14, 24, 54, 297715),\n",
       " datetime.datetime(2024, 9, 30, 14, 24, 54, 808156),\n",
       " datetime.datetime(2024, 9, 30, 14, 24, 55, 334635),\n",
       " datetime.datetime(2024, 9, 30, 14, 24, 55, 899585),\n",
       " datetime.datetime(2024, 9, 30, 14, 24, 56, 516448),\n",
       " datetime.datetime(2024, 9, 30, 14, 24, 57, 34657),\n",
       " datetime.datetime(2024, 9, 30, 14, 24, 57, 815842),\n",
       " datetime.datetime(2024, 9, 30, 14, 24, 58, 463584),\n",
       " datetime.datetime(2024, 9, 30, 14, 24, 58, 978311),\n",
       " datetime.datetime(2024, 9, 30, 14, 24, 59, 487547),\n",
       " datetime.datetime(2024, 9, 30, 14, 24, 59, 996032),\n",
       " datetime.datetime(2024, 9, 30, 14, 25, 0, 558050),\n",
       " datetime.datetime(2024, 9, 30, 14, 25, 1, 66495),\n",
       " datetime.datetime(2024, 9, 30, 14, 25, 1, 613737),\n",
       " datetime.datetime(2024, 9, 30, 14, 25, 2, 128297),\n",
       " datetime.datetime(2024, 9, 30, 14, 25, 2, 654890),\n",
       " datetime.datetime(2024, 9, 30, 14, 25, 3, 163134),\n",
       " datetime.datetime(2024, 9, 30, 14, 25, 3, 727064),\n",
       " datetime.datetime(2024, 9, 30, 14, 25, 4, 318660),\n",
       " datetime.datetime(2024, 9, 30, 14, 25, 4, 834138),\n",
       " datetime.datetime(2024, 9, 30, 14, 25, 5, 383519),\n",
       " datetime.datetime(2024, 9, 30, 14, 25, 5, 945140),\n",
       " datetime.datetime(2024, 9, 30, 14, 25, 6, 463308),\n",
       " datetime.datetime(2024, 9, 30, 14, 25, 7, 47988),\n",
       " datetime.datetime(2024, 9, 30, 14, 25, 7, 613092),\n",
       " datetime.datetime(2024, 9, 30, 14, 25, 8, 127597),\n",
       " datetime.datetime(2024, 9, 30, 14, 25, 8, 637161),\n",
       " datetime.datetime(2024, 9, 30, 14, 25, 9, 198062),\n",
       " datetime.datetime(2024, 9, 30, 14, 25, 9, 723778),\n",
       " datetime.datetime(2024, 9, 30, 14, 25, 10, 234887),\n",
       " datetime.datetime(2024, 9, 30, 14, 25, 10, 743484),\n",
       " datetime.datetime(2024, 9, 30, 14, 25, 11, 314674),\n",
       " datetime.datetime(2024, 9, 30, 14, 25, 11, 823864),\n",
       " datetime.datetime(2024, 9, 30, 14, 25, 12, 331590),\n",
       " datetime.datetime(2024, 9, 30, 14, 25, 12, 876193),\n",
       " datetime.datetime(2024, 9, 30, 14, 25, 13, 385492),\n",
       " datetime.datetime(2024, 9, 30, 14, 25, 13, 894301),\n",
       " datetime.datetime(2024, 9, 30, 14, 25, 14, 407382),\n",
       " datetime.datetime(2024, 9, 30, 14, 25, 14, 918798),\n",
       " datetime.datetime(2024, 9, 30, 14, 25, 15, 427507),\n",
       " datetime.datetime(2024, 9, 30, 14, 25, 15, 943055),\n",
       " datetime.datetime(2024, 9, 30, 14, 25, 16, 460553),\n",
       " datetime.datetime(2024, 9, 30, 14, 25, 16, 969674),\n",
       " datetime.datetime(2024, 9, 30, 14, 25, 17, 477825),\n",
       " datetime.datetime(2024, 9, 30, 14, 25, 17, 987647),\n",
       " datetime.datetime(2024, 9, 30, 14, 25, 18, 551021),\n",
       " datetime.datetime(2024, 9, 30, 14, 25, 19, 115602),\n",
       " datetime.datetime(2024, 9, 30, 14, 25, 19, 627769),\n",
       " datetime.datetime(2024, 9, 30, 14, 25, 20, 135813),\n",
       " datetime.datetime(2024, 9, 30, 14, 25, 20, 660586),\n",
       " datetime.datetime(2024, 9, 30, 14, 25, 21, 170590),\n",
       " datetime.datetime(2024, 9, 30, 14, 25, 21, 678023),\n",
       " datetime.datetime(2024, 9, 30, 14, 25, 22, 187467),\n",
       " datetime.datetime(2024, 9, 30, 14, 25, 22, 695277),\n",
       " datetime.datetime(2024, 9, 30, 14, 25, 23, 203257),\n",
       " datetime.datetime(2024, 9, 30, 14, 25, 23, 711713),\n",
       " datetime.datetime(2024, 9, 30, 14, 25, 24, 223789),\n",
       " datetime.datetime(2024, 9, 30, 14, 25, 24, 751414),\n",
       " datetime.datetime(2024, 9, 30, 14, 25, 25, 357532),\n",
       " datetime.datetime(2024, 9, 30, 14, 25, 25, 868399),\n",
       " datetime.datetime(2024, 9, 30, 14, 25, 26, 434425),\n",
       " datetime.datetime(2024, 9, 30, 14, 25, 26, 956691),\n",
       " datetime.datetime(2024, 9, 30, 14, 25, 27, 463773),\n",
       " datetime.datetime(2024, 9, 30, 14, 25, 27, 976770),\n",
       " datetime.datetime(2024, 9, 30, 14, 25, 28, 487963),\n",
       " datetime.datetime(2024, 9, 30, 14, 25, 28, 996128),\n",
       " datetime.datetime(2024, 9, 30, 14, 25, 29, 670197),\n",
       " datetime.datetime(2024, 9, 30, 14, 25, 30, 323245),\n",
       " datetime.datetime(2024, 9, 30, 14, 25, 30, 835985),\n",
       " datetime.datetime(2024, 9, 30, 14, 25, 31, 346941),\n",
       " datetime.datetime(2024, 9, 30, 14, 25, 31, 926976),\n",
       " datetime.datetime(2024, 9, 30, 14, 25, 32, 619010),\n",
       " datetime.datetime(2024, 9, 30, 14, 25, 33, 129441),\n",
       " datetime.datetime(2024, 9, 30, 14, 25, 33, 644039),\n",
       " datetime.datetime(2024, 9, 30, 14, 25, 34, 152818),\n",
       " datetime.datetime(2024, 9, 30, 14, 25, 34, 666005),\n",
       " datetime.datetime(2024, 9, 30, 14, 25, 35, 298647),\n",
       " datetime.datetime(2024, 9, 30, 14, 25, 35, 808784),\n",
       " datetime.datetime(2024, 9, 30, 14, 25, 36, 465782),\n",
       " datetime.datetime(2024, 9, 30, 14, 25, 36, 976179),\n",
       " datetime.datetime(2024, 9, 30, 14, 25, 37, 486867),\n",
       " datetime.datetime(2024, 9, 30, 14, 25, 37, 997568),\n",
       " datetime.datetime(2024, 9, 30, 14, 25, 38, 512269),\n",
       " datetime.datetime(2024, 9, 30, 14, 25, 39, 23907),\n",
       " datetime.datetime(2024, 9, 30, 14, 25, 39, 533419),\n",
       " datetime.datetime(2024, 9, 30, 14, 25, 40, 42394),\n",
       " datetime.datetime(2024, 9, 30, 14, 25, 40, 550651),\n",
       " datetime.datetime(2024, 9, 30, 14, 25, 41, 64326),\n",
       " datetime.datetime(2024, 9, 30, 14, 25, 41, 578949),\n",
       " datetime.datetime(2024, 9, 30, 14, 25, 42, 90884),\n",
       " datetime.datetime(2024, 9, 30, 14, 25, 42, 600969),\n",
       " datetime.datetime(2024, 9, 30, 14, 25, 43, 169658),\n",
       " datetime.datetime(2024, 9, 30, 14, 25, 43, 799386),\n",
       " datetime.datetime(2024, 9, 30, 14, 25, 44, 319786),\n",
       " datetime.datetime(2024, 9, 30, 14, 25, 44, 832125),\n",
       " datetime.datetime(2024, 9, 30, 14, 25, 45, 345108),\n",
       " datetime.datetime(2024, 9, 30, 14, 25, 45, 857551),\n",
       " datetime.datetime(2024, 9, 30, 14, 25, 46, 475373),\n",
       " datetime.datetime(2024, 9, 30, 14, 25, 47, 80541),\n",
       " datetime.datetime(2024, 9, 30, 14, 25, 47, 596215),\n",
       " datetime.datetime(2024, 9, 30, 14, 25, 48, 109106),\n",
       " datetime.datetime(2024, 9, 30, 14, 25, 48, 633784),\n",
       " datetime.datetime(2024, 9, 30, 14, 25, 49, 225432),\n",
       " datetime.datetime(2024, 9, 30, 14, 25, 49, 735479),\n",
       " datetime.datetime(2024, 9, 30, 14, 25, 50, 346504),\n",
       " datetime.datetime(2024, 9, 30, 14, 25, 50, 944377),\n",
       " datetime.datetime(2024, 9, 30, 14, 25, 51, 549059),\n",
       " datetime.datetime(2024, 9, 30, 14, 25, 52, 276461),\n",
       " datetime.datetime(2024, 9, 30, 14, 25, 52, 833553),\n",
       " datetime.datetime(2024, 9, 30, 14, 25, 53, 352063),\n",
       " datetime.datetime(2024, 9, 30, 14, 25, 53, 869830),\n",
       " datetime.datetime(2024, 9, 30, 14, 25, 54, 379792),\n",
       " datetime.datetime(2024, 9, 30, 14, 25, 54, 889693),\n",
       " datetime.datetime(2024, 9, 30, 14, 25, 55, 399569),\n",
       " datetime.datetime(2024, 9, 30, 14, 25, 55, 911182),\n",
       " datetime.datetime(2024, 9, 30, 14, 25, 56, 445128),\n",
       " datetime.datetime(2024, 9, 30, 14, 25, 56, 956557),\n",
       " datetime.datetime(2024, 9, 30, 14, 25, 57, 503118),\n",
       " datetime.datetime(2024, 9, 30, 14, 25, 58, 44852),\n",
       " datetime.datetime(2024, 9, 30, 14, 25, 58, 586520),\n",
       " datetime.datetime(2024, 9, 30, 14, 25, 59, 99478),\n",
       " datetime.datetime(2024, 9, 30, 14, 25, 59, 614766),\n",
       " datetime.datetime(2024, 9, 30, 14, 26, 0, 127262),\n",
       " datetime.datetime(2024, 9, 30, 14, 26, 0, 640422),\n",
       " datetime.datetime(2024, 9, 30, 14, 26, 1, 197768),\n",
       " datetime.datetime(2024, 9, 30, 14, 26, 1, 718642),\n",
       " datetime.datetime(2024, 9, 30, 14, 26, 2, 227984),\n",
       " datetime.datetime(2024, 9, 30, 14, 26, 2, 741062),\n",
       " datetime.datetime(2024, 9, 30, 14, 26, 3, 251581),\n",
       " datetime.datetime(2024, 9, 30, 14, 26, 3, 766304),\n",
       " datetime.datetime(2024, 9, 30, 14, 26, 4, 280281),\n",
       " datetime.datetime(2024, 9, 30, 14, 26, 4, 793635),\n",
       " datetime.datetime(2024, 9, 30, 14, 26, 5, 302005),\n",
       " datetime.datetime(2024, 9, 30, 14, 26, 5, 842766),\n",
       " datetime.datetime(2024, 9, 30, 14, 26, 6, 373282),\n",
       " datetime.datetime(2024, 9, 30, 14, 26, 6, 888660),\n",
       " datetime.datetime(2024, 9, 30, 14, 26, 7, 441729),\n",
       " datetime.datetime(2024, 9, 30, 14, 26, 7, 984998),\n",
       " datetime.datetime(2024, 9, 30, 14, 26, 8, 543625),\n",
       " datetime.datetime(2024, 9, 30, 14, 26, 9, 80810),\n",
       " datetime.datetime(2024, 9, 30, 14, 26, 9, 594144),\n",
       " datetime.datetime(2024, 9, 30, 14, 26, 10, 102749),\n",
       " datetime.datetime(2024, 9, 30, 14, 26, 10, 612184),\n",
       " datetime.datetime(2024, 9, 30, 14, 26, 11, 123814),\n",
       " datetime.datetime(2024, 9, 30, 14, 26, 11, 663103),\n",
       " datetime.datetime(2024, 9, 30, 14, 26, 12, 201212),\n",
       " datetime.datetime(2024, 9, 30, 14, 26, 12, 717546),\n",
       " datetime.datetime(2024, 9, 30, 14, 26, 13, 229337),\n",
       " datetime.datetime(2024, 9, 30, 14, 26, 13, 756030),\n",
       " datetime.datetime(2024, 9, 30, 14, 26, 14, 265391),\n",
       " datetime.datetime(2024, 9, 30, 14, 26, 14, 774351),\n",
       " datetime.datetime(2024, 9, 30, 14, 26, 15, 287008),\n",
       " datetime.datetime(2024, 9, 30, 14, 26, 15, 796188),\n",
       " datetime.datetime(2024, 9, 30, 14, 26, 16, 304319),\n",
       " datetime.datetime(2024, 9, 30, 14, 26, 16, 814546),\n",
       " datetime.datetime(2024, 9, 30, 14, 26, 17, 325355),\n",
       " datetime.datetime(2024, 9, 30, 14, 26, 17, 835379),\n",
       " datetime.datetime(2024, 9, 30, 14, 26, 18, 345892),\n",
       " datetime.datetime(2024, 9, 30, 14, 26, 18, 855142),\n",
       " datetime.datetime(2024, 9, 30, 14, 26, 19, 364859),\n",
       " datetime.datetime(2024, 9, 30, 14, 26, 19, 873213),\n",
       " datetime.datetime(2024, 9, 30, 14, 26, 20, 397039),\n",
       " datetime.datetime(2024, 9, 30, 14, 26, 20, 935435),\n",
       " datetime.datetime(2024, 9, 30, 14, 26, 21, 446552),\n",
       " datetime.datetime(2024, 9, 30, 14, 26, 21, 957217),\n",
       " datetime.datetime(2024, 9, 30, 14, 26, 22, 469583),\n",
       " datetime.datetime(2024, 9, 30, 14, 26, 22, 978635),\n",
       " datetime.datetime(2024, 9, 30, 14, 26, 23, 487815),\n",
       " datetime.datetime(2024, 9, 30, 14, 26, 24, 177),\n",
       " datetime.datetime(2024, 9, 30, 14, 26, 24, 567177),\n",
       " datetime.datetime(2024, 9, 30, 14, 26, 25, 76067),\n",
       " datetime.datetime(2024, 9, 30, 14, 26, 25, 585633),\n",
       " datetime.datetime(2024, 9, 30, 14, 26, 26, 136262),\n",
       " datetime.datetime(2024, 9, 30, 14, 26, 26, 647431),\n",
       " datetime.datetime(2024, 9, 30, 14, 26, 27, 183530),\n",
       " datetime.datetime(2024, 9, 30, 14, 26, 27, 692936),\n",
       " datetime.datetime(2024, 9, 30, 14, 26, 28, 232653),\n",
       " datetime.datetime(2024, 9, 30, 14, 26, 28, 741801),\n",
       " datetime.datetime(2024, 9, 30, 14, 26, 29, 250621),\n",
       " datetime.datetime(2024, 9, 30, 14, 26, 29, 763782),\n",
       " datetime.datetime(2024, 9, 30, 14, 26, 30, 325361),\n",
       " datetime.datetime(2024, 9, 30, 14, 26, 30, 836526),\n",
       " datetime.datetime(2024, 9, 30, 14, 26, 31, 346276),\n",
       " datetime.datetime(2024, 9, 30, 14, 26, 31, 903374),\n",
       " datetime.datetime(2024, 9, 30, 14, 26, 32, 421566),\n",
       " datetime.datetime(2024, 9, 30, 14, 26, 32, 935588),\n",
       " datetime.datetime(2024, 9, 30, 14, 26, 33, 464593),\n",
       " datetime.datetime(2024, 9, 30, 14, 26, 33, 974470),\n",
       " datetime.datetime(2024, 9, 30, 14, 26, 34, 568163),\n",
       " datetime.datetime(2024, 9, 30, 14, 26, 35, 78007),\n",
       " datetime.datetime(2024, 9, 30, 14, 26, 35, 587441),\n",
       " datetime.datetime(2024, 9, 30, 14, 26, 36, 96119),\n",
       " datetime.datetime(2024, 9, 30, 14, 26, 36, 606445),\n",
       " datetime.datetime(2024, 9, 30, 14, 26, 37, 145854),\n",
       " datetime.datetime(2024, 9, 30, 14, 26, 37, 656977),\n",
       " datetime.datetime(2024, 9, 30, 14, 26, 38, 169789),\n",
       " datetime.datetime(2024, 9, 30, 14, 26, 38, 715817),\n",
       " datetime.datetime(2024, 9, 30, 14, 26, 39, 227982),\n",
       " datetime.datetime(2024, 9, 30, 14, 26, 39, 758894),\n",
       " datetime.datetime(2024, 9, 30, 14, 26, 40, 268192),\n",
       " datetime.datetime(2024, 9, 30, 14, 26, 40, 778282),\n",
       " datetime.datetime(2024, 9, 30, 14, 26, 41, 287187),\n",
       " datetime.datetime(2024, 9, 30, 14, 26, 41, 795811),\n",
       " datetime.datetime(2024, 9, 30, 14, 26, 42, 305115),\n",
       " datetime.datetime(2024, 9, 30, 14, 26, 42, 814847),\n",
       " datetime.datetime(2024, 9, 30, 14, 26, 43, 326494),\n",
       " datetime.datetime(2024, 9, 30, 14, 26, 43, 844451),\n",
       " datetime.datetime(2024, 9, 30, 14, 26, 44, 361073),\n",
       " datetime.datetime(2024, 9, 30, 14, 26, 44, 873981),\n",
       " datetime.datetime(2024, 9, 30, 14, 26, 45, 382103),\n",
       " datetime.datetime(2024, 9, 30, 14, 26, 45, 909832),\n",
       " datetime.datetime(2024, 9, 30, 14, 26, 46, 423690),\n",
       " datetime.datetime(2024, 9, 30, 14, 26, 46, 933537),\n",
       " datetime.datetime(2024, 9, 30, 14, 26, 47, 442770),\n",
       " datetime.datetime(2024, 9, 30, 14, 26, 47, 952513),\n",
       " datetime.datetime(2024, 9, 30, 14, 26, 48, 479838),\n",
       " datetime.datetime(2024, 9, 30, 14, 26, 48, 993555),\n",
       " datetime.datetime(2024, 9, 30, 14, 26, 49, 510239),\n",
       " datetime.datetime(2024, 9, 30, 14, 26, 50, 86821),\n",
       " datetime.datetime(2024, 9, 30, 14, 26, 50, 619438),\n",
       " datetime.datetime(2024, 9, 30, 14, 26, 51, 171829),\n",
       " datetime.datetime(2024, 9, 30, 14, 26, 51, 717133),\n",
       " datetime.datetime(2024, 9, 30, 14, 26, 52, 258099),\n",
       " datetime.datetime(2024, 9, 30, 14, 26, 52, 810157),\n",
       " datetime.datetime(2024, 9, 30, 14, 26, 53, 326299),\n",
       " datetime.datetime(2024, 9, 30, 14, 26, 53, 838437),\n",
       " datetime.datetime(2024, 9, 30, 14, 26, 54, 349845),\n",
       " datetime.datetime(2024, 9, 30, 14, 26, 54, 861313),\n",
       " datetime.datetime(2024, 9, 30, 14, 26, 55, 400899),\n",
       " datetime.datetime(2024, 9, 30, 14, 26, 55, 911784),\n",
       " datetime.datetime(2024, 9, 30, 14, 26, 56, 447595),\n",
       " datetime.datetime(2024, 9, 30, 14, 26, 56, 959761),\n",
       " datetime.datetime(2024, 9, 30, 14, 26, 57, 507112),\n",
       " datetime.datetime(2024, 9, 30, 14, 26, 58, 18747),\n",
       " datetime.datetime(2024, 9, 30, 14, 26, 58, 535680),\n",
       " datetime.datetime(2024, 9, 30, 14, 26, 59, 49673),\n",
       " datetime.datetime(2024, 9, 30, 14, 26, 59, 582434),\n",
       " datetime.datetime(2024, 9, 30, 14, 27, 0, 96949),\n",
       " datetime.datetime(2024, 9, 30, 14, 27, 0, 619934),\n",
       " datetime.datetime(2024, 9, 30, 14, 27, 1, 133833),\n",
       " datetime.datetime(2024, 9, 30, 14, 27, 1, 647910),\n",
       " datetime.datetime(2024, 9, 30, 14, 27, 2, 160849),\n",
       " datetime.datetime(2024, 9, 30, 14, 27, 2, 678735),\n",
       " datetime.datetime(2024, 9, 30, 14, 27, 3, 191910),\n",
       " datetime.datetime(2024, 9, 30, 14, 27, 3, 704334),\n",
       " datetime.datetime(2024, 9, 30, 14, 27, 4, 227623),\n",
       " datetime.datetime(2024, 9, 30, 14, 27, 4, 757014),\n",
       " datetime.datetime(2024, 9, 30, 14, 27, 5, 269994),\n",
       " datetime.datetime(2024, 9, 30, 14, 27, 5, 779359),\n",
       " datetime.datetime(2024, 9, 30, 14, 27, 6, 339428),\n",
       " datetime.datetime(2024, 9, 30, 14, 27, 6, 901800),\n",
       " datetime.datetime(2024, 9, 30, 14, 27, 7, 411494),\n",
       " datetime.datetime(2024, 9, 30, 14, 27, 7, 921140),\n",
       " datetime.datetime(2024, 9, 30, 14, 27, 8, 431074),\n",
       " datetime.datetime(2024, 9, 30, 14, 27, 8, 941851),\n",
       " datetime.datetime(2024, 9, 30, 14, 27, 9, 451346),\n",
       " datetime.datetime(2024, 9, 30, 14, 27, 9, 961325),\n",
       " datetime.datetime(2024, 9, 30, 14, 27, 10, 473033),\n",
       " datetime.datetime(2024, 9, 30, 14, 27, 10, 995860),\n",
       " datetime.datetime(2024, 9, 30, 14, 27, 11, 527839),\n",
       " datetime.datetime(2024, 9, 30, 14, 27, 12, 39795),\n",
       " datetime.datetime(2024, 9, 30, 14, 27, 12, 558561),\n",
       " datetime.datetime(2024, 9, 30, 14, 27, 13, 71427),\n",
       " datetime.datetime(2024, 9, 30, 14, 27, 13, 594719),\n",
       " datetime.datetime(2024, 9, 30, 14, 27, 14, 108114),\n",
       " datetime.datetime(2024, 9, 30, 14, 27, 14, 621294),\n",
       " datetime.datetime(2024, 9, 30, 14, 27, 15, 143432),\n",
       " datetime.datetime(2024, 9, 30, 14, 27, 15, 656431),\n",
       " datetime.datetime(2024, 9, 30, 14, 27, 16, 169954),\n",
       " datetime.datetime(2024, 9, 30, 14, 27, 16, 679193),\n",
       " datetime.datetime(2024, 9, 30, 14, 27, 17, 193841),\n",
       " datetime.datetime(2024, 9, 30, 14, 27, 17, 703984),\n",
       " datetime.datetime(2024, 9, 30, 14, 27, 18, 214125),\n",
       " datetime.datetime(2024, 9, 30, 14, 27, 18, 725508),\n",
       " datetime.datetime(2024, 9, 30, 14, 27, 19, 268205),\n",
       " datetime.datetime(2024, 9, 30, 14, 27, 19, 780727),\n",
       " datetime.datetime(2024, 9, 30, 14, 27, 20, 292765),\n",
       " datetime.datetime(2024, 9, 30, 14, 27, 20, 804881),\n",
       " datetime.datetime(2024, 9, 30, 14, 27, 21, 316972),\n",
       " datetime.datetime(2024, 9, 30, 14, 27, 21, 831089),\n",
       " datetime.datetime(2024, 9, 30, 14, 27, 22, 342884),\n",
       " datetime.datetime(2024, 9, 30, 14, 27, 22, 855103),\n",
       " datetime.datetime(2024, 9, 30, 14, 27, 23, 365379),\n",
       " datetime.datetime(2024, 9, 30, 14, 27, 23, 875694),\n",
       " datetime.datetime(2024, 9, 30, 14, 27, 24, 418050),\n",
       " datetime.datetime(2024, 9, 30, 14, 27, 24, 927346),\n",
       " datetime.datetime(2024, 9, 30, 14, 27, 25, 441867),\n",
       " datetime.datetime(2024, 9, 30, 14, 27, 25, 951114),\n",
       " datetime.datetime(2024, 9, 30, 14, 27, 26, 459539),\n",
       " datetime.datetime(2024, 9, 30, 14, 27, 26, 968938),\n",
       " datetime.datetime(2024, 9, 30, 14, 27, 27, 477217),\n",
       " datetime.datetime(2024, 9, 30, 14, 27, 27, 985289),\n",
       " datetime.datetime(2024, 9, 30, 14, 27, 28, 519629),\n",
       " datetime.datetime(2024, 9, 30, 14, 27, 29, 27967),\n",
       " datetime.datetime(2024, 9, 30, 14, 27, 29, 537324),\n",
       " datetime.datetime(2024, 9, 30, 14, 27, 30, 46852),\n",
       " datetime.datetime(2024, 9, 30, 14, 27, 30, 609655),\n",
       " datetime.datetime(2024, 9, 30, 14, 27, 31, 120918),\n",
       " datetime.datetime(2024, 9, 30, 14, 27, 31, 632131),\n",
       " datetime.datetime(2024, 9, 30, 14, 27, 32, 146639),\n",
       " datetime.datetime(2024, 9, 30, 14, 27, 32, 694880),\n",
       " datetime.datetime(2024, 9, 30, 14, 27, 33, 205439),\n",
       " datetime.datetime(2024, 9, 30, 14, 27, 33, 716882),\n",
       " datetime.datetime(2024, 9, 30, 14, 27, 34, 256997),\n",
       " datetime.datetime(2024, 9, 30, 14, 27, 34, 769426),\n",
       " datetime.datetime(2024, 9, 30, 14, 27, 35, 278809),\n",
       " datetime.datetime(2024, 9, 30, 14, 27, 35, 787374),\n",
       " datetime.datetime(2024, 9, 30, 14, 27, 36, 295302),\n",
       " datetime.datetime(2024, 9, 30, 14, 27, 36, 803408),\n",
       " datetime.datetime(2024, 9, 30, 14, 27, 37, 313227),\n",
       " datetime.datetime(2024, 9, 30, 14, 27, 37, 822397),\n",
       " datetime.datetime(2024, 9, 30, 14, 27, 38, 348163),\n",
       " datetime.datetime(2024, 9, 30, 14, 27, 38, 862744),\n",
       " datetime.datetime(2024, 9, 30, 14, 27, 39, 384796),\n",
       " datetime.datetime(2024, 9, 30, 14, 27, 39, 900727),\n",
       " datetime.datetime(2024, 9, 30, 14, 27, 40, 446090),\n",
       " datetime.datetime(2024, 9, 30, 14, 27, 40, 956500),\n",
       " datetime.datetime(2024, 9, 30, 14, 27, 41, 468374),\n",
       " datetime.datetime(2024, 9, 30, 14, 27, 41, 976871),\n",
       " datetime.datetime(2024, 9, 30, 14, 27, 42, 490188),\n",
       " datetime.datetime(2024, 9, 30, 14, 27, 43, 1239),\n",
       " datetime.datetime(2024, 9, 30, 14, 27, 43, 512464),\n",
       " datetime.datetime(2024, 9, 30, 14, 27, 44, 23905),\n",
       " datetime.datetime(2024, 9, 30, 14, 27, 44, 555843),\n",
       " datetime.datetime(2024, 9, 30, 14, 27, 45, 73958),\n",
       " datetime.datetime(2024, 9, 30, 14, 27, 45, 591784),\n",
       " datetime.datetime(2024, 9, 30, 14, 27, 46, 119550),\n",
       " datetime.datetime(2024, 9, 30, 14, 27, 46, 632119),\n",
       " datetime.datetime(2024, 9, 30, 14, 27, 47, 142918),\n",
       " datetime.datetime(2024, 9, 30, 14, 27, 47, 653781),\n",
       " datetime.datetime(2024, 9, 30, 14, 27, 48, 188596),\n",
       " datetime.datetime(2024, 9, 30, 14, 27, 48, 699261),\n",
       " datetime.datetime(2024, 9, 30, 14, 27, 49, 227078),\n",
       " datetime.datetime(2024, 9, 30, 14, 27, 49, 737542),\n",
       " datetime.datetime(2024, 9, 30, 14, 27, 50, 249080),\n",
       " datetime.datetime(2024, 9, 30, 14, 27, 50, 758757),\n",
       " datetime.datetime(2024, 9, 30, 14, 27, 51, 268140),\n",
       " datetime.datetime(2024, 9, 30, 14, 27, 51, 777001),\n",
       " datetime.datetime(2024, 9, 30, 14, 27, 52, 286591),\n",
       " datetime.datetime(2024, 9, 30, 14, 27, 52, 801092),\n",
       " datetime.datetime(2024, 9, 30, 14, 27, 53, 310204),\n",
       " datetime.datetime(2024, 9, 30, 14, 27, 53, 818794),\n",
       " datetime.datetime(2024, 9, 30, 14, 27, 54, 328618),\n",
       " datetime.datetime(2024, 9, 30, 14, 27, 54, 916473),\n",
       " datetime.datetime(2024, 9, 30, 14, 27, 55, 425810),\n",
       " datetime.datetime(2024, 9, 30, 14, 27, 55, 934436),\n",
       " datetime.datetime(2024, 9, 30, 14, 27, 56, 443918),\n",
       " datetime.datetime(2024, 9, 30, 14, 27, 56, 952527),\n",
       " datetime.datetime(2024, 9, 30, 14, 27, 57, 464432),\n",
       " datetime.datetime(2024, 9, 30, 14, 27, 57, 974027),\n",
       " datetime.datetime(2024, 9, 30, 14, 27, 58, 483798),\n",
       " datetime.datetime(2024, 9, 30, 14, 27, 58, 993389),\n",
       " datetime.datetime(2024, 9, 30, 14, 27, 59, 533940),\n",
       " datetime.datetime(2024, 9, 30, 14, 28, 0, 44559),\n",
       " datetime.datetime(2024, 9, 30, 14, 28, 0, 560713),\n",
       " datetime.datetime(2024, 9, 30, 14, 28, 1, 71484),\n",
       " datetime.datetime(2024, 9, 30, 14, 28, 1, 582741),\n",
       " datetime.datetime(2024, 9, 30, 14, 28, 2, 92073),\n",
       " datetime.datetime(2024, 9, 30, 14, 28, 2, 604837),\n",
       " datetime.datetime(2024, 9, 30, 14, 28, 3, 113637),\n",
       " datetime.datetime(2024, 9, 30, 14, 28, 3, 625059),\n",
       " datetime.datetime(2024, 9, 30, 14, 28, 4, 133495),\n",
       " datetime.datetime(2024, 9, 30, 14, 28, 4, 641513),\n",
       " datetime.datetime(2024, 9, 30, 14, 28, 5, 174991),\n",
       " datetime.datetime(2024, 9, 30, 14, 28, 5, 686764),\n",
       " datetime.datetime(2024, 9, 30, 14, 28, 6, 202167),\n",
       " datetime.datetime(2024, 9, 30, 14, 28, 6, 728125),\n",
       " datetime.datetime(2024, 9, 30, 14, 28, 7, 256512),\n",
       " datetime.datetime(2024, 9, 30, 14, 28, 7, 767686),\n",
       " datetime.datetime(2024, 9, 30, 14, 28, 8, 282147),\n",
       " datetime.datetime(2024, 9, 30, 14, 28, 8, 791838),\n",
       " datetime.datetime(2024, 9, 30, 14, 28, 9, 302280),\n",
       " datetime.datetime(2024, 9, 30, 14, 28, 9, 812454),\n",
       " datetime.datetime(2024, 9, 30, 14, 28, 10, 321561),\n",
       " datetime.datetime(2024, 9, 30, 14, 28, 10, 832498),\n",
       " datetime.datetime(2024, 9, 30, 14, 28, 11, 340974),\n",
       " datetime.datetime(2024, 9, 30, 14, 28, 11, 850675),\n",
       " datetime.datetime(2024, 9, 30, 14, 28, 12, 359633),\n",
       " datetime.datetime(2024, 9, 30, 14, 28, 12, 884173),\n",
       " datetime.datetime(2024, 9, 30, 14, 28, 13, 393332),\n",
       " datetime.datetime(2024, 9, 30, 14, 28, 13, 901856),\n",
       " datetime.datetime(2024, 9, 30, 14, 28, 14, 437750),\n",
       " datetime.datetime(2024, 9, 30, 14, 28, 14, 946823),\n",
       " datetime.datetime(2024, 9, 30, 14, 28, 15, 456462),\n",
       " datetime.datetime(2024, 9, 30, 14, 28, 16, 27185),\n",
       " datetime.datetime(2024, 9, 30, 14, 28, 16, 574992),\n",
       " datetime.datetime(2024, 9, 30, 14, 28, 17, 114802),\n",
       " datetime.datetime(2024, 9, 30, 14, 28, 17, 660774),\n",
       " datetime.datetime(2024, 9, 30, 14, 28, 18, 169315),\n",
       " datetime.datetime(2024, 9, 30, 14, 28, 18, 677861),\n",
       " datetime.datetime(2024, 9, 30, 14, 28, 19, 189890),\n",
       " datetime.datetime(2024, 9, 30, 14, 28, 19, 700945),\n",
       " datetime.datetime(2024, 9, 30, 14, 28, 20, 212602),\n",
       " datetime.datetime(2024, 9, 30, 14, 28, 20, 725257),\n",
       " datetime.datetime(2024, 9, 30, 14, 28, 21, 234355),\n",
       " datetime.datetime(2024, 9, 30, 14, 28, 21, 745657),\n",
       " datetime.datetime(2024, 9, 30, 14, 28, 22, 257125),\n",
       " datetime.datetime(2024, 9, 30, 14, 28, 22, 775163),\n",
       " datetime.datetime(2024, 9, 30, 14, 28, 23, 287150),\n",
       " datetime.datetime(2024, 9, 30, 14, 28, 23, 799565),\n",
       " datetime.datetime(2024, 9, 30, 14, 28, 24, 352430),\n",
       " datetime.datetime(2024, 9, 30, 14, 28, 24, 863533),\n",
       " datetime.datetime(2024, 9, 30, 14, 28, 25, 377049),\n",
       " datetime.datetime(2024, 9, 30, 14, 28, 25, 891300),\n",
       " datetime.datetime(2024, 9, 30, 14, 28, 26, 401321),\n",
       " datetime.datetime(2024, 9, 30, 14, 28, 26, 958225),\n",
       " datetime.datetime(2024, 9, 30, 14, 28, 27, 480496),\n",
       " datetime.datetime(2024, 9, 30, 14, 28, 27, 990946),\n",
       " datetime.datetime(2024, 9, 30, 14, 28, 28, 499666),\n",
       " datetime.datetime(2024, 9, 30, 14, 28, 29, 36549),\n",
       " datetime.datetime(2024, 9, 30, 14, 28, 29, 545133),\n",
       " datetime.datetime(2024, 9, 30, 14, 28, 30, 55243),\n",
       " datetime.datetime(2024, 9, 30, 14, 28, 30, 565179),\n",
       " datetime.datetime(2024, 9, 30, 14, 28, 31, 73866),\n",
       " datetime.datetime(2024, 9, 30, 14, 28, 31, 609960),\n",
       " datetime.datetime(2024, 9, 30, 14, 28, 32, 143036),\n",
       " datetime.datetime(2024, 9, 30, 14, 28, 32, 656364),\n",
       " datetime.datetime(2024, 9, 30, 14, 28, 33, 166364),\n",
       " datetime.datetime(2024, 9, 30, 14, 28, 33, 676126),\n",
       " datetime.datetime(2024, 9, 30, 14, 28, 34, 185679),\n",
       " datetime.datetime(2024, 9, 30, 14, 28, 34, 696504),\n",
       " datetime.datetime(2024, 9, 30, 14, 28, 35, 207871),\n",
       " datetime.datetime(2024, 9, 30, 14, 28, 35, 723262),\n",
       " datetime.datetime(2024, 9, 30, 14, 28, 36, 241294),\n",
       " datetime.datetime(2024, 9, 30, 14, 28, 36, 752062),\n",
       " datetime.datetime(2024, 9, 30, 14, 28, 37, 267556),\n",
       " datetime.datetime(2024, 9, 30, 14, 28, 37, 779576),\n",
       " datetime.datetime(2024, 9, 30, 14, 28, 38, 295844),\n",
       " datetime.datetime(2024, 9, 30, 14, 28, 38, 811031),\n",
       " datetime.datetime(2024, 9, 30, 14, 28, 39, 321016),\n",
       " datetime.datetime(2024, 9, 30, 14, 28, 39, 830185),\n",
       " datetime.datetime(2024, 9, 30, 14, 28, 40, 338906),\n",
       " datetime.datetime(2024, 9, 30, 14, 28, 40, 847704),\n",
       " datetime.datetime(2024, 9, 30, 14, 28, 41, 358536),\n",
       " datetime.datetime(2024, 9, 30, 14, 28, 41, 867755),\n",
       " datetime.datetime(2024, 9, 30, 14, 28, 42, 377228),\n",
       " datetime.datetime(2024, 9, 30, 14, 28, 42, 890796),\n",
       " datetime.datetime(2024, 9, 30, 14, 28, 43, 399934),\n",
       " datetime.datetime(2024, 9, 30, 14, 28, 43, 909816),\n",
       " datetime.datetime(2024, 9, 30, 14, 28, 44, 420930),\n",
       " datetime.datetime(2024, 9, 30, 14, 28, 44, 930060),\n",
       " datetime.datetime(2024, 9, 30, 14, 28, 45, 440136),\n",
       " datetime.datetime(2024, 9, 30, 14, 28, 46, 6008),\n",
       " datetime.datetime(2024, 9, 30, 14, 28, 46, 515093),\n",
       " datetime.datetime(2024, 9, 30, 14, 28, 47, 23611),\n",
       " datetime.datetime(2024, 9, 30, 14, 28, 47, 537912),\n",
       " datetime.datetime(2024, 9, 30, 14, 28, 48, 47169),\n",
       " datetime.datetime(2024, 9, 30, 14, 28, 48, 557029),\n",
       " datetime.datetime(2024, 9, 30, 14, 28, 49, 66442),\n",
       " datetime.datetime(2024, 9, 30, 14, 28, 49, 575474),\n",
       " datetime.datetime(2024, 9, 30, 14, 28, 50, 85689),\n",
       " datetime.datetime(2024, 9, 30, 14, 28, 50, 594608),\n",
       " datetime.datetime(2024, 9, 30, 14, 28, 51, 104436),\n",
       " datetime.datetime(2024, 9, 30, 14, 28, 51, 613557),\n",
       " datetime.datetime(2024, 9, 30, 14, 28, 52, 128665),\n",
       " datetime.datetime(2024, 9, 30, 14, 28, 52, 642261),\n",
       " datetime.datetime(2024, 9, 30, 14, 28, 53, 152128),\n",
       " datetime.datetime(2024, 9, 30, 14, 28, 53, 661259),\n",
       " datetime.datetime(2024, 9, 30, 14, 28, 54, 188005),\n",
       " datetime.datetime(2024, 9, 30, 14, 28, 54, 696276),\n",
       " datetime.datetime(2024, 9, 30, 14, 28, 55, 206285),\n",
       " datetime.datetime(2024, 9, 30, 14, 28, 55, 719554),\n",
       " datetime.datetime(2024, 9, 30, 14, 28, 56, 229366),\n",
       " datetime.datetime(2024, 9, 30, 14, 28, 56, 740427),\n",
       " datetime.datetime(2024, 9, 30, 14, 28, 57, 250719),\n",
       " datetime.datetime(2024, 9, 30, 14, 28, 57, 760962),\n",
       " datetime.datetime(2024, 9, 30, 14, 28, 58, 270837),\n",
       " datetime.datetime(2024, 9, 30, 14, 28, 58, 781266),\n",
       " datetime.datetime(2024, 9, 30, 14, 28, 59, 290919),\n",
       " datetime.datetime(2024, 9, 30, 14, 28, 59, 799898),\n",
       " datetime.datetime(2024, 9, 30, 14, 29, 0, 311195),\n",
       " datetime.datetime(2024, 9, 30, 14, 29, 0, 822049),\n",
       " datetime.datetime(2024, 9, 30, 14, 29, 1, 333374),\n",
       " datetime.datetime(2024, 9, 30, 14, 29, 1, 851586),\n",
       " datetime.datetime(2024, 9, 30, 14, 29, 2, 364091),\n",
       " datetime.datetime(2024, 9, 30, 14, 29, 2, 880087),\n",
       " datetime.datetime(2024, 9, 30, 14, 29, 3, 393456),\n",
       " datetime.datetime(2024, 9, 30, 14, 29, 3, 906240),\n",
       " datetime.datetime(2024, 9, 30, 14, 29, 4, 419180),\n",
       " datetime.datetime(2024, 9, 30, 14, 29, 4, 930099),\n",
       " datetime.datetime(2024, 9, 30, 14, 29, 5, 469140),\n",
       " datetime.datetime(2024, 9, 30, 14, 29, 5, 984883),\n",
       " datetime.datetime(2024, 9, 30, 14, 29, 6, 495040),\n",
       " datetime.datetime(2024, 9, 30, 14, 29, 7, 4316),\n",
       " datetime.datetime(2024, 9, 30, 14, 29, 7, 514197),\n",
       " datetime.datetime(2024, 9, 30, 14, 29, 8, 23548),\n",
       " datetime.datetime(2024, 9, 30, 14, 29, 8, 571052),\n",
       " datetime.datetime(2024, 9, 30, 14, 29, 9, 80722),\n",
       " datetime.datetime(2024, 9, 30, 14, 29, 9, 601226),\n",
       " datetime.datetime(2024, 9, 30, 14, 29, 10, 107990),\n",
       " datetime.datetime(2024, 9, 30, 14, 29, 10, 620091),\n",
       " datetime.datetime(2024, 9, 30, 14, 29, 11, 131632),\n",
       " datetime.datetime(2024, 9, 30, 14, 29, 11, 691117),\n",
       " datetime.datetime(2024, 9, 30, 14, 29, 12, 201473),\n",
       " datetime.datetime(2024, 9, 30, 14, 29, 12, 717301),\n",
       " datetime.datetime(2024, 9, 30, 14, 29, 13, 228098),\n",
       " datetime.datetime(2024, 9, 30, 14, 29, 13, 740282),\n",
       " datetime.datetime(2024, 9, 30, 14, 29, 14, 251462),\n",
       " datetime.datetime(2024, 9, 30, 14, 29, 14, 762999),\n",
       " datetime.datetime(2024, 9, 30, 14, 29, 15, 305848),\n",
       " datetime.datetime(2024, 9, 30, 14, 29, 15, 986653),\n",
       " datetime.datetime(2024, 9, 30, 14, 29, 16, 711535),\n",
       " datetime.datetime(2024, 9, 30, 14, 29, 17, 224481),\n",
       " datetime.datetime(2024, 9, 30, 14, 29, 17, 838553),\n",
       " datetime.datetime(2024, 9, 30, 14, 29, 18, 357062)]"
      ]
     },
     "execution_count": 5,
     "metadata": {},
     "output_type": "execute_result"
    }
   ],
   "source": [
    "timestamps\n",
    "# Define the incorrect and correct times\n",
    "incorrect_time = pd.to_datetime(\"6:01:05\").time()  # Incorrect time (6:01)\n",
    "correct_time = pd.to_datetime(\"14:24:00\").time()   # Correct time (2:24)\n",
    "\n",
    "# Calculate the time difference\n",
    "time_difference = timedelta(hours=correct_time.hour, minutes=correct_time.minute, seconds=correct_time.second) - \\\n",
    "                  timedelta(hours=incorrect_time.hour, minutes=incorrect_time.minute, seconds=incorrect_time.second)\n",
    "\n",
    "# Apply the time difference to correct the list of incorrect timestamps\n",
    "corrected_timestamps = [t + time_difference for t in timestamps]\n",
    "print(timestamps)\n",
    "corrected_timestamps"
   ]
  },
  {
   "cell_type": "code",
   "execution_count": 6,
   "metadata": {},
   "outputs": [
    {
     "name": "stdout",
     "output_type": "stream",
     "text": [
      "[[-0.0843    0.2043    1.37456 ]\n",
      " [ 0.2532    0.1842    1.341648]\n",
      " [ 0.5025    0.1014    1.100132]\n",
      " ...\n",
      " [ 0.1632   -0.5835    0.317504]\n",
      " [ 0.2481   -0.5169    0.226512]\n",
      " [ 0.2916   -0.402     0.13068 ]]\n",
      "[-0.0843  0.2532  0.5025 ...  0.1632  0.2481  0.2916]\n"
     ]
    },
    {
     "data": {
      "text/plain": [
       "10496"
      ]
     },
     "execution_count": 6,
     "metadata": {},
     "output_type": "execute_result"
    }
   ],
   "source": [
    "file_list = sorted(glob.glob(f'{folder}/*.npz'))\n",
    "len(file_list)\n",
    "data = np.load(file_list[0])\n",
    "pos = data['pos'][0]\n",
    "\n",
    "all_mags = [np.array([0,0,0])]\n",
    "for x in range(len(file_list)):\n",
    "    data = np.load(file_list[x])\n",
    "    mags = data['mags']\n",
    "    all_mags = np.append(all_mags, mags[0], axis=0)\n",
    "    pos = data['pos'][0]\n",
    "    B = np.mean(mags, axis=0)\n",
    "    mags_stdev = np.std(mags, axis=0)\n",
    "all_mags = np.delete(all_mags, 0, axis=0)\n",
    "\n",
    "print(all_mags)\n",
    "bx = all_mags[:,0]\n",
    "by = all_mags[:,1]\n",
    "bz = all_mags[:,2]\n",
    "\n",
    "print(bx)\n",
    "len(bx)"
   ]
  },
  {
   "cell_type": "code",
   "execution_count": 7,
   "metadata": {},
   "outputs": [
    {
     "name": "stdout",
     "output_type": "stream",
     "text": [
      "[0.6033, 0.6051, 0.6056999999999999, 0.6033, 0.6039, 0.6033, 0.603, 0.6039, 0.6045, 0.6033, 0.6036, 0.6036, 0.6048, 0.6051, 0.6042, 0.6042, 0.6026999999999999, 0.6042, 0.6033, 0.6042, 0.6039, 0.6026999999999999, 0.603, 0.6039, 0.6042, 0.6039, 0.6048, 0.603, 0.6039, 0.6039, 0.6036, 0.6051, 0.6036, 0.6051, 0.6026999999999999, 0.603, 0.6036, 0.6036, 0.6042, 0.603, 0.6039, 0.6039, 0.603, 0.6036, 0.6042, 0.6033, 0.6026999999999999, 0.6018, 0.6026999999999999, 0.6045, 0.6036, 0.6039, 0.6033, 0.6039, 0.6051, 0.6048, 0.6036, 0.6033, 0.6026999999999999, 0.6023999999999999, 0.6036, 0.6036, 0.6036, 0.6042, 0.6036, 0.6039, 0.6042, 0.6042, 0.6042, 0.6033, 0.6042, 0.603, 0.6026999999999999, 0.6023999999999999, 0.6039, 0.6042, 0.6023999999999999, 0.6026999999999999, 0.603, 0.6042, 0.6042, 0.6039, 0.6053999999999999, 0.603, 0.6018, 0.603, 0.6042, 0.6045, 0.6051, 0.6051, 0.6026999999999999, 0.6039, 0.6042, 0.6039, 0.6051, 0.6051, 0.6033, 0.6051, 0.6051, 0.603, 0.6036, 0.6045, 0.6039, 0.6051, 0.6048, 0.6023999999999999, 0.6036, 0.6042, 0.603, 0.6036, 0.6048, 0.6045, 0.6042, 0.6039, 0.6053999999999999, 0.6045, 0.6042, 0.6023999999999999, 0.6036, 0.603, 0.6045, 0.6039, 0.6051, 0.6051, 0.6015, 0.6012, 0.6048, 0.603, 0.6033, 0.6033, 0.603, 0.6036, 0.6051, 0.6045, 0.6033, 0.6036, 0.6036, 0.6048, 0.6039, 0.6042, 0.6036, 0.6039, 0.603, 0.6036, 0.6042, 0.6039, 0.6048, 0.6042, 0.6051, 0.6048, 0.6042, 0.6039, 0.6042, 0.6036, 0.6042, 0.6036, 0.6033, 0.6051, 0.6039, 0.6033, 0.6033, 0.6051, 0.6042, 0.6033, 0.606, 0.6042, 0.6023999999999999, 0.6039, 0.6048, 0.603, 0.6026999999999999, 0.6042, 0.6053999999999999, 0.603, 0.6039, 0.6039, 0.6051, 0.6018, 0.6033, 0.6042, 0.6039, 0.6036, 0.6048, 0.6048, 0.6045, 0.603, 0.6045, 0.6026999999999999, 0.6048, 0.6036, 0.6039, 0.6053999999999999, 0.6048, 0.6042, 0.6051, 0.6042, 0.6048, 0.6039, 0.6045, 0.6039, 0.6042, 0.6036, 0.6051, 0.6045, 0.6048, 0.6036, 0.6056999999999999, 0.6042, 0.6042, 0.6042, 0.6023999999999999, 0.6053999999999999, 0.6045, 0.6039, 0.6033, 0.6033, 0.6045, 0.6033, 0.6023999999999999, 0.6042, 0.6036, 0.6039, 0.6045, 0.6036, 0.6039, 0.6033, 0.603, 0.6036, 0.6048, 0.6036, 0.6039, 0.6036, 0.6056999999999999, 0.6056999999999999, 0.6036, 0.6051, 0.6053999999999999, 0.6045, 0.6051, 0.6033, 0.6036, 0.6045, 0.6036, 0.6042, 0.6042, 0.6042, 0.6045, 0.6033, 0.6036, 0.6042, 0.6039, 0.6033, 0.6033, 0.6026999999999999, 0.6039, 0.6026999999999999, 0.603, 0.6039, 0.6036, 0.6111, 0.6144, 0.6066, 0.5936999999999999, 0.49079999999999996, 0.4584, 0.44939999999999997, 0.465, 0.46559999999999996, 0.4647, 0.46559999999999996, 0.4662, 0.465, 0.4647, 0.46529999999999994, 0.4647, 0.465, 0.4659, 0.4635, 0.46529999999999994, 0.4659, 0.465, 0.4635, 0.46529999999999994, 0.46409999999999996, 0.46709999999999996, 0.4647, 0.4644, 0.46679999999999994, 0.46529999999999994, 0.4659, 0.4665, 0.4644, 0.4659, 0.4644, 0.4707, 0.5214, 0.5574, 0.5577, 0.5571, 0.5571, 0.5559, 0.5577, 0.5586, 0.5589, 0.558, 0.5586, 0.5586, 0.5582999999999999, 0.5568, 0.5574, 0.5568, 0.5568, 0.5559, 0.558, 0.5589, 0.5565, 0.558, 0.5561999999999999, 0.5571, 0.5559, 0.5577, 0.5577, 0.5508, 0.5861999999999999, 0.5876999999999999, 0.6033, 0.6483, 0.6324, 0.6333, 0.6312, 0.6317999999999999, 0.6321, 0.6324, 0.6051, 0.6236999999999999, 0.6165, 0.6249, 0.6273, 0.6261, 0.6282, 0.63, 0.6273, 0.6255, 0.6279, 0.6264, 0.6257999999999999, 0.621, 0.6429, 0.6345, 0.6471, 0.6564, 0.6525, 0.6531, 0.6521999999999999, 0.6657, 0.6231, 0.6279, 0.5993999999999999, 0.5724, 0.5207999999999999, 0.4845, 0.45180000000000003, 0.486, 0.567, 0.5972999999999999, 0.5988, 0.6146999999999999, 0.6153, 0.6153, 0.6407999999999999, 0.6471, 0.642, 0.6426000000000001, 0.6429, 0.6456000000000001, 0.6426000000000001, 0.6441, 0.6429, 0.6441, 0.6444, 0.6444, 0.6435, 0.6429, 0.6441, 0.6441, 0.6441, 0.6446999999999999, 0.6437999999999999, 0.6453, 0.6423, 0.6423, 0.6429, 0.6441, 0.6453, 0.6435, 0.6431999999999999, 0.6416999999999999, 0.645, 0.645, 0.6476999999999999, 0.6516000000000001, 0.687, 0.7871999999999999, 0.7473, 0.7218, 0.7191000000000001, 0.7659, 0.7215, 0.7215, 0.7221000000000001, 0.7221000000000001, 0.7232999999999999, 0.7218, 0.7242, 0.7221000000000001, 0.7215, 0.7232999999999999, 0.7223999999999999, 0.7163999999999999, 0.7386, 0.7305, 0.7547999999999999, 0.7346999999999999, 0.7356, 0.6915, 0.7076999999999999, 0.7367999999999999, 0.6608999999999999, 0.648, 0.6525, 0.6578999999999999, 0.5912999999999999, 0.5468999999999999, 0.5288999999999999, 0.5094, 0.4206, 0.3237, 0.16229999999999997, 0.032100000000000004, -0.1224, -0.2376, -0.2316, 0.0228, 0.30269999999999997, 0.2754, 0.27, 0.26580000000000004, -0.1995, -0.19140000000000001, -0.144, -0.0897, -0.0912, -0.06989999999999999, -0.0963, -0.11819999999999999, -0.26159999999999994, -0.2763, -0.3108, -0.3417, -0.4053, -0.522, -0.5231999999999999, -0.5267999999999999, -0.5277, -0.5277, -0.5286000000000001, -0.5265, -0.5265, -0.5267999999999999, -0.5271, -0.528, -0.5258999999999999, -0.5271, -0.5283, -0.5277, -0.5286000000000001, -0.5286000000000001, -0.5271, -0.5258999999999999, -0.5286000000000001, -0.528, -0.5253, -0.5277, -0.5286000000000001, -0.5348999999999999, -0.46409999999999996, -0.43289999999999995, -0.2742, -0.2727, -0.2127, -0.11489999999999999, -0.1074, -0.0579, -0.0525, 0.0153, 0.040799999999999996, 0.0624, 0.16290000000000002, 0.18359999999999999, 0.1926, 0.3537, 0.38280000000000003, 0.4035, 0.47429999999999994, 0.4809, 0.5492999999999999, 0.5501999999999999, 0.528, 0.5313, 0.5561999999999999, 0.5688, 0.5436, 0.5448, 0.5337, 0.5388, 0.5397, 0.5177999999999999, 0.5568, 0.5291999999999999, 0.5013, 0.48029999999999995, 0.4269, 0.4317, 0.4299, 0.4308, 0.44880000000000003, 0.45630000000000004, 0.4569, 0.456, 0.44639999999999996, 0.456, 0.4557, 0.46109999999999995, 0.4662, 0.47429999999999994, 0.4629, 0.44039999999999996, 0.435, 0.44459999999999994, 0.44609999999999994, 0.45330000000000004, 0.4353, 0.42719999999999997, 0.4356, 0.42719999999999997, 0.441, 0.432, 0.42269999999999996, 0.4512, 0.4512, 0.45359999999999995, 0.4557, 0.44309999999999994, 0.4416, 0.44609999999999994, 0.45059999999999995, 0.44639999999999996, 0.44789999999999996, 0.4335, 0.4269, 0.42419999999999997, 0.4149, 0.4113, 0.402, 0.4089, 0.429, 0.4377, 0.44789999999999996, 0.4395, 0.4455, 0.4425, 0.444, 0.4251, 0.42569999999999997, 0.4278, 0.42, 0.4215, 0.4239, 0.41969999999999996, 0.4134, 0.4179, 0.4386, 0.45359999999999995, 0.45480000000000004, 0.44730000000000003, 0.45809999999999995, 0.4599, 0.45959999999999995, 0.4599, 0.459, 0.46109999999999995, 0.4602, 0.4575, 0.462, 0.4617, 0.4614, 0.4599, 0.46109999999999995, 0.46079999999999993, 0.46079999999999993, 0.4614, 0.4614, 0.4599, 0.46109999999999995, 0.4614, 0.4605, 0.46109999999999995, 0.46079999999999993, 0.4599, 0.46259999999999996, 0.46109999999999995, 0.4602, 0.46109999999999995, 0.4614, 0.4587, 0.4599, 0.46079999999999993, 0.4614, 0.4605, 0.4605, 0.459, 0.46079999999999993, 0.4599, 0.4587, 0.46259999999999996, 0.46979999999999994, 0.4455, 0.4311, 0.44459999999999994, 0.5147999999999999, 0.5756999999999999, 0.5291999999999999, 0.5037, 0.5001, 0.4926, 0.5175, 0.6483, 0.7524, 0.7671, 0.708, 0.6741, 0.6881999999999999, 0.6159, 0.5522999999999999, 0.5505, 0.5508, 0.5517, 0.5522999999999999, 0.5508, 0.5517, 0.5535, 0.5511, 0.5505, 0.5511, 0.5517, 0.5522999999999999]\n",
      "[-0.0909, -0.0909, -0.09209999999999999, -0.0912, -0.0927, -0.0912, -0.0912, -0.0906, -0.0927, -0.0897, -0.09029999999999999, -0.09209999999999999, -0.0909, -0.0912, -0.0909, -0.0894, -0.0909, -0.0906, -0.09209999999999999, -0.0912, -0.0897, -0.09, -0.0906, -0.0915, -0.0912, -0.0912, -0.09, -0.0912, -0.09209999999999999, -0.0912, -0.09, -0.0909, -0.09209999999999999, -0.0906, -0.0912, -0.0927, -0.0909, -0.09179999999999999, -0.0912, -0.0942, -0.0894, -0.09209999999999999, -0.09029999999999999, -0.09209999999999999, -0.0933, -0.0912, -0.0915, -0.09029999999999999, -0.0891, -0.0906, -0.0915, -0.0912, -0.0915, -0.0912, -0.09029999999999999, -0.0915, -0.09029999999999999, -0.09029999999999999, -0.0897, -0.09029999999999999, -0.0927, -0.093, -0.09179999999999999, -0.0909, -0.0915, -0.09029999999999999, -0.0912, -0.09, -0.0897, -0.0897, -0.0909, -0.0891, -0.0906, -0.09, -0.09179999999999999, -0.09029999999999999, -0.0888, -0.0906, -0.09, -0.09, -0.0909, -0.0906, -0.0906, -0.0894, -0.0915, -0.0906, -0.0906, -0.0897, -0.0891, -0.09, -0.09179999999999999, -0.09, -0.0897, -0.0909, -0.0912, -0.09179999999999999, -0.0906, -0.0891, -0.0912, -0.0897, -0.0906, -0.0909, -0.09, -0.09029999999999999, -0.0924, -0.0909, -0.0888, -0.0909, -0.09029999999999999, -0.0906, -0.09209999999999999, -0.0906, -0.0915, -0.0897, -0.09029999999999999, -0.0915, -0.09029999999999999, -0.09, -0.09029999999999999, -0.09029999999999999, -0.0915, -0.0897, -0.0927, -0.0897, -0.0915, -0.09179999999999999, -0.0915, -0.09, -0.09179999999999999, -0.0897, -0.0912, -0.0915, -0.09, -0.09179999999999999, -0.09029999999999999, -0.0912, -0.0909, -0.09179999999999999, -0.09029999999999999, -0.09029999999999999, -0.0897, -0.09, -0.0915, -0.09179999999999999, -0.0915, -0.0897, -0.0894, -0.0912, -0.0915, -0.0915, -0.0891, -0.0897, -0.09179999999999999, -0.0909, -0.0912, -0.0897, -0.09179999999999999, -0.09209999999999999, -0.0906, -0.0912, -0.09, -0.0897, -0.0906, -0.0906, -0.0915, -0.0909, -0.09029999999999999, -0.09, -0.09029999999999999, -0.0915, -0.09029999999999999, -0.0924, -0.0909, -0.0897, -0.09209999999999999, -0.0909, -0.0912, -0.0915, -0.0924, -0.0912, -0.0912, -0.0897, -0.0909, -0.0912, -0.0912, -0.0909, -0.09209999999999999, -0.09029999999999999, -0.09179999999999999, -0.0909, -0.09029999999999999, -0.0897, -0.0915, -0.09, -0.0924, -0.0888, -0.0897, -0.0915, -0.0912, -0.0897, -0.0912, -0.09029999999999999, -0.0912, -0.09209999999999999, -0.0897, -0.0906, -0.0909, -0.0897, -0.0912, -0.0888, -0.0912, -0.0906, -0.0912, -0.09, -0.0912, -0.0915, -0.09029999999999999, -0.0909, -0.09179999999999999, -0.0912, -0.09, -0.0906, -0.09, -0.0915, -0.09, -0.0906, -0.09029999999999999, -0.0915, -0.09209999999999999, -0.09, -0.09179999999999999, -0.0906, -0.09029999999999999, -0.0906, -0.0915, -0.09179999999999999, -0.0912, -0.0882, -0.0909, -0.0906, -0.0909, -0.0915, -0.0906, -0.0912, -0.09, -0.0912, -0.0906, -0.0891, -0.0906, -0.0924, -0.09179999999999999, -0.0912, -0.09179999999999999, -0.0891, -0.0891, -0.09029999999999999, -0.0915, -0.0909, -0.0906, -0.09359999999999999, -0.099, -0.0945, -0.0858, -0.0354, -0.03, -0.017099999999999997, -0.031799999999999995, -0.0339, -0.033600000000000005, -0.0324, -0.0345, -0.031799999999999995, -0.033299999999999996, -0.033600000000000005, -0.03269999999999999, -0.031799999999999995, -0.03269999999999999, -0.033299999999999996, -0.033600000000000005, -0.0312, -0.033, -0.0315, -0.0324, -0.033299999999999996, -0.031799999999999995, -0.031799999999999995, -0.0324, -0.03269999999999999, -0.0324, -0.0324, -0.033600000000000005, -0.03269999999999999, -0.030899999999999997, -0.033600000000000005, -0.0372, -0.04019999999999999, -0.0387, -0.0381, -0.0396, -0.039, -0.039, -0.0399, -0.0387, -0.039, -0.039, -0.0384, -0.039, -0.0381, -0.0387, -0.0384, -0.039299999999999995, -0.0387, -0.039, -0.039, -0.0399, -0.0387, -0.0387, -0.039299999999999995, -0.0405, -0.0372, -0.0387, -0.036899999999999995, -0.0351, -0.0498, -0.0453, -0.049199999999999994, -0.07859999999999999, -0.069, -0.0717, -0.06839999999999999, -0.0693, -0.0693, -0.069, -0.0723, -0.0723, -0.07289999999999999, -0.0705, -0.0711, -0.07139999999999999, -0.0708, -0.0705, -0.0711, -0.0702, -0.0708, -0.0717, -0.0717, -0.0744, -0.08489999999999999, -0.0945, -0.093, -0.09689999999999999, -0.09570000000000001, -0.0993, -0.1077, -0.13019999999999998, -0.1077, -0.1143, -0.1038, -0.0987, -0.0828, -0.0744, -0.0741, -0.078, -0.1032, -0.11309999999999999, -0.1281, -0.1038, -0.1062, -0.1128, -0.1761, -0.174, -0.13679999999999998, -0.14129999999999998, -0.14129999999999998, -0.13979999999999998, -0.1401, -0.1404, -0.1419, -0.13979999999999998, -0.1419, -0.14129999999999998, -0.1407, -0.1416, -0.1401, -0.1395, -0.1401, -0.1407, -0.1407, -0.1404, -0.1416, -0.1401, -0.1392, -0.1392, -0.14129999999999998, -0.141, -0.13979999999999998, -0.1401, -0.13979999999999998, -0.14129999999999998, -0.14279999999999998, -0.1548, -0.17429999999999998, -0.27359999999999995, -0.3237, -0.38759999999999994, -0.38159999999999994, -0.411, -0.4962, -0.4956, -0.49529999999999996, -0.49679999999999996, -0.4956, -0.49529999999999996, -0.49589999999999995, -0.4965, -0.495, -0.49529999999999996, -0.4941, -0.5181, -0.6356999999999999, -0.6471, -0.7146, -0.6834, -0.663, -0.47909999999999997, -0.5117999999999999, -0.8991, -1.0551, -0.9977999999999999, -1.0086, -1.0523999999999998, -1.1025, -1.1736, -1.1895, -1.2666, -1.398, -1.5108, -1.626, -1.734, -1.767, -1.7604, -1.7495999999999998, -1.5588, -1.4295, -1.5027000000000001, -1.5563999999999998, -1.56, -1.7745, -1.716, -1.6787999999999998, -1.656, -1.6575, -1.6317000000000002, -1.6932, -1.7093999999999998, -1.7175, -1.7478, -1.7723999999999998, -1.7565, -1.7318999999999998, -1.5648, -1.5897000000000001, -1.5938999999999999, -1.5938999999999999, -1.5938999999999999, -1.5936, -1.5945, -1.5920999999999998, -1.5942, -1.593, -1.5945, -1.5945, -1.5948, -1.5938999999999999, -1.5954, -1.5954, -1.5951, -1.596, -1.5951, -1.5938999999999999, -1.5933, -1.5954, -1.5951, -1.5938999999999999, -1.6032, -1.6388999999999998, -1.6515, -1.6403999999999999, -1.6395, -1.6218, -1.5711, -1.5582, -1.5495, -1.5369, -1.5087000000000002, -1.5822, -1.5081, -1.3959, -1.4643, -1.4108999999999998, -1.1768999999999998, -1.0947, -1.1630999999999998, -1.0263, -1.023, -0.9986999999999999, -0.9783, -0.9264, -0.9015, -0.8295, -0.7667999999999999, -0.6819, -0.6578999999999999, -0.576, -0.5792999999999999, -0.573, -0.5001, -0.6411, -0.5642999999999999, -0.5591999999999999, -0.5211, -0.429, -0.43439999999999995, -0.441, -0.441, -0.5355, -0.5498999999999999, -0.5586, -0.5547, -0.5448, -0.5561999999999999, -0.5595, -0.5718, -0.5727, -0.573, -0.5799, -0.5586, -0.5612999999999999, -0.5799, -0.5792999999999999, -0.5946, -0.573, -0.561, -0.5754, -0.5766, -0.6078, -0.6075, -0.5889, -0.5784, -0.546, -0.5517, -0.552, -0.5109, -0.498, -0.48869999999999997, -0.45959999999999995, -0.4179, -0.4098, -0.3651, -0.3363, -0.3342, -0.3039, -0.2964, -0.27809999999999996, -0.28859999999999997, -0.33089999999999997, -0.3519, -0.39809999999999995, -0.387, -0.3912, -0.3882, -0.3927, -0.3726, -0.3696, -0.3762, -0.36989999999999995, -0.36989999999999995, -0.3738, -0.3648, -0.3576, -0.3606, -0.3621, -0.36119999999999997, -0.3666, -0.3624, -0.36269999999999997, -0.36419999999999997, -0.3636, -0.3633, -0.3636, -0.36269999999999997, -0.3621, -0.3648, -0.3633, -0.3633, -0.36269999999999997, -0.36119999999999997, -0.363, -0.3621, -0.36419999999999997, -0.3618, -0.3636, -0.3645, -0.3621, -0.36419999999999997, -0.3633, -0.3618, -0.3624, -0.3651, -0.3636, -0.3636, -0.3633, -0.3624, -0.3633, -0.36269999999999997, -0.36269999999999997, -0.3639, -0.363, -0.3636, -0.3633, -0.3618, -0.3654, -0.3645, -0.3609, -0.38639999999999997, -0.4032, -0.3726, -0.3555, -0.37139999999999995, -0.48779999999999996, -0.38639999999999997, -0.2991, -0.24089999999999998, -0.24839999999999998, -0.2565, -0.2556, -0.29819999999999997, -0.2541, -0.3771, -0.3489, -0.3051, -0.279, -0.3723, -0.4395, -0.4395, -0.4401, -0.4398, -0.4392, -0.43889999999999996, -0.4407, -0.4401, -0.4413, -0.4398, -0.4413, -0.4386, -0.44189999999999996]\n",
      "[0.80102, 0.799568, 0.7990839999999999, 0.802956, 0.8019879999999999, 0.800052, 0.8005359999999999, 0.7986, 0.8019879999999999, 0.8005359999999999, 0.8005359999999999, 0.80102, 0.7990839999999999, 0.799568, 0.8005359999999999, 0.801504, 0.80102, 0.800052, 0.7981159999999999, 0.80102, 0.800052, 0.7986, 0.7986, 0.799568, 0.8019879999999999, 0.801504, 0.80102, 0.801504, 0.8005359999999999, 0.800052, 0.800052, 0.800052, 0.800052, 0.80102, 0.800052, 0.801504, 0.80102, 0.800052, 0.800052, 0.799568, 0.7981159999999999, 0.8005359999999999, 0.8005359999999999, 0.7981159999999999, 0.8005359999999999, 0.80102, 0.8005359999999999, 0.7990839999999999, 0.801504, 0.802956, 0.7981159999999999, 0.8019879999999999, 0.80102, 0.800052, 0.8019879999999999, 0.8005359999999999, 0.800052, 0.7971480000000001, 0.799568, 0.8005359999999999, 0.801504, 0.800052, 0.80102, 0.8005359999999999, 0.80102, 0.800052, 0.8005359999999999, 0.800052, 0.80102, 0.7986, 0.7981159999999999, 0.80102, 0.800052, 0.7981159999999999, 0.7990839999999999, 0.7981159999999999, 0.80102, 0.799568, 0.800052, 0.8019879999999999, 0.80102, 0.7986, 0.80102, 0.8005359999999999, 0.802472, 0.799568, 0.7986, 0.7990839999999999, 0.800052, 0.8019879999999999, 0.7976319999999999, 0.801504, 0.8005359999999999, 0.800052, 0.801504, 0.799568, 0.796664, 0.80102, 0.8005359999999999, 0.7990839999999999, 0.7990839999999999, 0.801504, 0.7971480000000001, 0.8005359999999999, 0.8005359999999999, 0.7976319999999999, 0.8005359999999999, 0.7981159999999999, 0.80102, 0.799568, 0.8005359999999999, 0.80102, 0.8005359999999999, 0.802472, 0.7976319999999999, 0.7990839999999999, 0.8005359999999999, 0.7990839999999999, 0.8005359999999999, 0.8005359999999999, 0.7971480000000001, 0.8005359999999999, 0.80102, 0.799568, 0.7990839999999999, 0.80102, 0.8005359999999999, 0.7981159999999999, 0.7976319999999999, 0.7990839999999999, 0.7986, 0.80102, 0.8005359999999999, 0.799568, 0.800052, 0.7990839999999999, 0.8005359999999999, 0.7986, 0.802956, 0.8005359999999999, 0.801504, 0.7956960000000001, 0.7981159999999999, 0.799568, 0.799568, 0.7976319999999999, 0.800052, 0.799568, 0.802472, 0.80102, 0.800052, 0.8005359999999999, 0.8019879999999999, 0.7981159999999999, 0.799568, 0.8005359999999999, 0.8034399999999999, 0.800052, 0.7986, 0.80102, 0.8005359999999999, 0.800052, 0.800052, 0.799568, 0.801504, 0.7976319999999999, 0.799568, 0.796664, 0.7990839999999999, 0.7971480000000001, 0.7981159999999999, 0.7981159999999999, 0.7981159999999999, 0.7986, 0.80102, 0.800052, 0.80102, 0.80102, 0.799568, 0.796664, 0.7981159999999999, 0.8005359999999999, 0.7990839999999999, 0.7990839999999999, 0.7976319999999999, 0.8019879999999999, 0.800052, 0.800052, 0.801504, 0.7981159999999999, 0.7976319999999999, 0.7971480000000001, 0.799568, 0.800052, 0.7981159999999999, 0.8005359999999999, 0.8005359999999999, 0.801504, 0.8019879999999999, 0.7986, 0.800052, 0.7971480000000001, 0.799568, 0.799568, 0.799568, 0.8005359999999999, 0.8019879999999999, 0.7976319999999999, 0.800052, 0.8005359999999999, 0.7976319999999999, 0.799568, 0.7990839999999999, 0.7986, 0.8005359999999999, 0.7971480000000001, 0.7986, 0.7976319999999999, 0.799568, 0.800052, 0.7990839999999999, 0.7981159999999999, 0.7981159999999999, 0.7981159999999999, 0.7976319999999999, 0.80102, 0.7990839999999999, 0.7990839999999999, 0.800052, 0.7990839999999999, 0.7990839999999999, 0.8005359999999999, 0.7981159999999999, 0.801504, 0.799568, 0.7990839999999999, 0.796664, 0.80102, 0.801504, 0.80102, 0.8005359999999999, 0.799568, 0.8019879999999999, 0.80102, 0.800052, 0.7990839999999999, 0.8005359999999999, 0.7990839999999999, 0.7976319999999999, 0.8005359999999999, 0.7990839999999999, 0.800052, 0.7986, 0.7986, 0.7986, 0.800052, 0.7990839999999999, 0.800052, 0.7986, 0.819896, 0.833932, 0.82038, 0.8048919999999999, 0.516428, 0.443828, 0.41720799999999997, 0.44044, 0.43995599999999996, 0.43850399999999995, 0.440924, 0.441892, 0.43850399999999995, 0.440924, 0.441892, 0.43995599999999996, 0.438988, 0.44286000000000003, 0.43995599999999996, 0.441408, 0.441892, 0.439472, 0.439472, 0.439472, 0.44044, 0.440924, 0.44044, 0.439472, 0.440924, 0.43995599999999996, 0.441408, 0.44044, 0.438988, 0.439472, 0.43995599999999996, 0.45253999999999994, 0.565312, 0.683408, 0.6824399999999999, 0.681956, 0.6824399999999999, 0.681472, 0.681956, 0.6838919999999999, 0.6824399999999999, 0.681956, 0.68002, 0.6795359999999999, 0.682924, 0.680504, 0.683408, 0.6824399999999999, 0.683408, 0.681956, 0.682924, 0.681956, 0.6824399999999999, 0.681472, 0.679052, 0.681472, 0.684376, 0.680504, 0.682924, 0.6766319999999999, 0.755524, 0.77924, 0.827156, 1.032372, 0.990264, 0.98978, 0.992684, 0.991232, 0.990264, 0.98736, 0.9317, 0.973808, 0.961224, 0.9713879999999999, 0.969452, 0.972356, 0.9713879999999999, 0.971872, 0.973324, 0.972356, 0.9742919999999999, 0.971872, 0.9689679999999999, 0.9699359999999999, 1.01398, 1.0043, 1.0594759999999999, 1.146112, 1.1804759999999999, 1.215324, 1.2351679999999998, 1.284052, 1.196932, 1.196448, 0.8450639999999999, 0.731808, 0.574024, 0.485452, 0.40656, 0.449636, 0.6171, 0.709544, 0.73326, 0.802956, 0.808764, 0.8169919999999999, 0.828124, 0.8344159999999999, 0.867812, 0.894432, 0.895884, 0.8934639999999999, 0.8954, 0.895884, 0.897336, 0.893948, 0.893948, 0.8920119999999999, 0.8954, 0.893948, 0.8954, 0.894432, 0.8949159999999999, 0.894432, 0.8934639999999999, 0.8954, 0.8934639999999999, 0.8963679999999999, 0.893948, 0.894432, 0.891044, 0.8949159999999999, 0.8954, 0.8934639999999999, 0.895884, 0.8949159999999999, 0.90024, 0.923472, 1.012044, 0.901692, 0.77924, 1.221616, 1.215808, 1.453936, 1.404568, 1.407956, 1.406504, 1.407472, 1.408924, 1.4084400000000001, 1.4069880000000001, 1.4084400000000001, 1.406504, 1.40602, 1.411828, 1.402148, 1.2985719999999998, 1.251624, 1.2603360000000001, 1.213872, 1.1698279999999999, 0.78892, 0.840224, 1.278244, 1.278244, 1.252108, 1.256948, 1.2908279999999999, 1.4069880000000001, 1.4829759999999998, 1.496528, 1.5851, 1.5696119999999998, 1.5705799999999999, 1.490236, 1.423444, 1.281632, 1.1127159999999998, 1.108844, 1.196932, 1.274856, 1.287924, 1.3256759999999999, 1.320352, 0.9646119999999999, 0.927828, 0.867812, 0.80102, 0.807796, 0.823284, 0.8445799999999999, 0.8503879999999999, 0.7990839999999999, 0.80586, 0.836836, 0.80102, 0.667436, 0.41575599999999996, 0.435116, 0.431728, 0.436084, 0.434148, 0.433664, 0.43269599999999997, 0.43318, 0.43269599999999997, 0.43318, 0.43269599999999997, 0.43269599999999997, 0.43318, 0.431728, 0.432212, 0.434148, 0.432212, 0.43124399999999996, 0.432212, 0.431728, 0.431728, 0.43269599999999997, 0.43269599999999997, 0.432212, 0.441408, 0.472384, 0.46706, 0.5701519999999999, 0.5706359999999999, 0.6016119999999999, 0.611776, 0.613228, 0.587092, 0.582736, 0.520784, 0.6151639999999999, 0.545468, 0.441408, 0.536272, 0.525624, 0.404624, 0.37074399999999996, 0.381876, 0.344124, 0.330572, 0.480128, 0.485936, 0.444312, 0.434632, 0.410916, 0.395912, 0.3751, 0.36203199999999996, 0.340252, 0.337832, 0.334444, 0.30830799999999997, 0.371712, 0.34121999999999997, 0.27926799999999996, 0.240064, 0.168432, 0.18392, 0.168916, 0.166012, 0.20812, 0.234256, 0.236676, 0.235708, 0.22506, 0.23473999999999998, 0.243936, 0.250712, 0.257488, 0.26862, 0.257488, 0.233288, 0.23232, 0.240064, 0.24587199999999998, 0.24490399999999998, 0.234256, 0.23038399999999998, 0.24248399999999998, 0.230868, 0.236676, 0.229416, 0.233288, 0.263296, 0.261844, 0.262812, 0.261844, 0.2541, 0.249744, 0.2541, 0.257488, 0.25506799999999996, 0.25506799999999996, 0.245388, 0.237644, 0.237644, 0.23038399999999998, 0.225544, 0.22022, 0.22506, 0.238612, 0.24442, 0.260876, 0.264264, 0.265716, 0.26523199999999997, 0.262812, 0.230868, 0.23716, 0.23716, 0.22602799999999998, 0.23038399999999998, 0.22844799999999998, 0.21828399999999998, 0.21295999999999998, 0.22022, 0.248292, 0.261844, 0.260392, 0.247808, 0.27055599999999996, 0.271524, 0.272492, 0.269104, 0.27055599999999996, 0.27200799999999997, 0.27200799999999997, 0.270072, 0.27346, 0.272492, 0.272492, 0.270072, 0.27103999999999995, 0.26958799999999994, 0.27103999999999995, 0.272492, 0.27055599999999996, 0.271524, 0.272492, 0.269104, 0.27200799999999997, 0.27055599999999996, 0.270072, 0.270072, 0.271524, 0.26958799999999994, 0.26958799999999994, 0.27103999999999995, 0.27200799999999997, 0.272492, 0.26958799999999994, 0.274428, 0.27200799999999997, 0.269104, 0.27200799999999997, 0.27200799999999997, 0.271524, 0.27103999999999995, 0.27200799999999997, 0.261844, 0.2783, 0.23812799999999998, 0.227964, 0.24103199999999997, 0.351868, 0.42737200000000003, 0.357192, 0.31701999999999997, 0.31605199999999994, 0.3146, 0.34799599999999997, 0.521752, 0.648076, 0.71874, 0.623392, 0.55902, 0.5507920000000001, 0.4598, 0.435116, 0.434148, 0.434632, 0.4356, 0.434148, 0.434148, 0.434632, 0.433664, 0.434632, 0.435116, 0.435116, 0.435116, 0.434632]\n",
      "[[ 6.75 -6.75  0.  ]\n",
      " [ 2.25 -6.75  0.  ]\n",
      " [-2.25 -6.75  0.  ]\n",
      " [-6.75 -6.75  0.  ]\n",
      " [ 6.75 -2.25  0.  ]\n",
      " [ 2.25 -2.25  0.  ]\n",
      " [-2.25 -2.25  0.  ]\n",
      " [-6.75 -2.25  0.  ]\n",
      " [ 6.75  2.25  0.  ]\n",
      " [ 2.25  2.25  0.  ]\n",
      " [-2.25  2.25  0.  ]\n",
      " [-6.75  2.25  0.  ]\n",
      " [ 6.75  6.75  0.  ]\n",
      " [ 2.25  6.75  0.  ]\n",
      " [-2.25  6.75  0.  ]\n",
      " [-6.75  6.75  0.  ]]\n"
     ]
    }
   ],
   "source": [
    "bx7 = []\n",
    "by7 = []\n",
    "bz7 = []\n",
    "for x in range(len(bx)):\n",
    "    if x % 16 == 7:\n",
    "        bx7.append(bx[x])\n",
    "        by7.append(by[x])\n",
    "        bz7.append(bz[x])\n",
    "print(bx7)\n",
    "print(by7)\n",
    "print(bz7)\n",
    "print(pos)"
   ]
  },
  {
   "cell_type": "code",
   "execution_count": 8,
   "metadata": {},
   "outputs": [
    {
     "data": {
      "application/vnd.plotly.v1+json": {
       "config": {
        "plotlyServerURL": "https://plot.ly"
       },
       "data": [
        {
         "mode": "markers",
         "type": "scatter",
         "x": [
          0,
          1,
          2,
          3,
          4,
          5,
          6,
          7,
          8,
          9,
          10,
          11,
          12,
          13,
          14,
          15,
          16,
          17,
          18,
          19,
          20,
          21,
          22,
          23,
          24,
          25,
          26,
          27,
          28,
          29,
          30,
          31,
          32,
          33,
          34,
          35,
          36,
          37,
          38,
          39,
          40,
          41,
          42,
          43,
          44,
          45,
          46,
          47,
          48,
          49,
          50,
          51,
          52,
          53,
          54,
          55,
          56,
          57,
          58,
          59,
          60,
          61,
          62,
          63,
          64,
          65,
          66,
          67,
          68,
          69,
          70,
          71,
          72,
          73,
          74,
          75,
          76,
          77,
          78,
          79,
          80,
          81,
          82,
          83,
          84,
          85,
          86,
          87,
          88,
          89,
          90,
          91,
          92,
          93,
          94,
          95,
          96,
          97,
          98,
          99,
          100,
          101,
          102,
          103,
          104,
          105,
          106,
          107,
          108,
          109,
          110,
          111,
          112,
          113,
          114,
          115,
          116,
          117,
          118,
          119,
          120,
          121,
          122,
          123,
          124,
          125,
          126,
          127,
          128,
          129,
          130,
          131,
          132,
          133,
          134,
          135,
          136,
          137,
          138,
          139,
          140,
          141,
          142,
          143,
          144,
          145,
          146,
          147,
          148,
          149,
          150,
          151,
          152,
          153,
          154,
          155,
          156,
          157,
          158,
          159,
          160,
          161,
          162,
          163,
          164,
          165,
          166,
          167,
          168,
          169,
          170,
          171,
          172,
          173,
          174,
          175,
          176,
          177,
          178,
          179,
          180,
          181,
          182,
          183,
          184,
          185,
          186,
          187,
          188,
          189,
          190,
          191,
          192,
          193,
          194,
          195,
          196,
          197,
          198,
          199,
          200,
          201,
          202,
          203,
          204,
          205,
          206,
          207,
          208,
          209,
          210,
          211,
          212,
          213,
          214,
          215,
          216,
          217,
          218,
          219,
          220,
          221,
          222,
          223,
          224,
          225,
          226,
          227,
          228,
          229,
          230,
          231,
          232,
          233,
          234,
          235,
          236,
          237,
          238,
          239,
          240,
          241,
          242,
          243,
          244,
          245,
          246,
          247,
          248,
          249,
          250,
          251,
          252,
          253,
          254,
          255,
          256,
          257,
          258,
          259,
          260,
          261,
          262,
          263,
          264,
          265,
          266,
          267,
          268,
          269,
          270,
          271,
          272,
          273,
          274,
          275,
          276,
          277,
          278,
          279,
          280,
          281,
          282,
          283,
          284,
          285,
          286,
          287,
          288,
          289,
          290,
          291,
          292,
          293,
          294,
          295,
          296,
          297,
          298,
          299,
          300,
          301,
          302,
          303,
          304,
          305,
          306,
          307,
          308,
          309,
          310,
          311,
          312,
          313,
          314,
          315,
          316,
          317,
          318,
          319,
          320,
          321,
          322,
          323,
          324,
          325,
          326,
          327,
          328,
          329,
          330,
          331,
          332,
          333,
          334,
          335,
          336,
          337,
          338,
          339,
          340,
          341,
          342,
          343,
          344,
          345,
          346,
          347,
          348,
          349,
          350,
          351,
          352,
          353,
          354,
          355,
          356,
          357,
          358,
          359,
          360,
          361,
          362,
          363,
          364,
          365,
          366,
          367,
          368,
          369,
          370,
          371,
          372,
          373,
          374,
          375,
          376,
          377,
          378,
          379,
          380,
          381,
          382,
          383,
          384,
          385,
          386,
          387,
          388,
          389,
          390,
          391,
          392,
          393,
          394,
          395,
          396,
          397,
          398,
          399,
          400,
          401,
          402,
          403,
          404,
          405,
          406,
          407,
          408,
          409,
          410,
          411,
          412,
          413,
          414,
          415,
          416,
          417,
          418,
          419,
          420,
          421,
          422,
          423,
          424,
          425,
          426,
          427,
          428,
          429,
          430,
          431,
          432,
          433,
          434,
          435,
          436,
          437,
          438,
          439,
          440,
          441,
          442,
          443,
          444,
          445,
          446,
          447,
          448,
          449,
          450,
          451,
          452,
          453,
          454,
          455,
          456,
          457,
          458,
          459,
          460,
          461,
          462,
          463,
          464,
          465,
          466,
          467,
          468,
          469,
          470,
          471,
          472,
          473,
          474,
          475,
          476,
          477,
          478,
          479,
          480,
          481,
          482,
          483,
          484,
          485,
          486,
          487,
          488,
          489,
          490,
          491,
          492,
          493,
          494,
          495,
          496,
          497,
          498,
          499,
          500,
          501,
          502,
          503,
          504,
          505,
          506,
          507,
          508,
          509,
          510,
          511,
          512,
          513,
          514,
          515,
          516,
          517,
          518,
          519,
          520,
          521,
          522,
          523,
          524,
          525,
          526,
          527,
          528,
          529,
          530,
          531,
          532,
          533,
          534,
          535,
          536,
          537,
          538,
          539,
          540,
          541,
          542,
          543,
          544,
          545,
          546,
          547,
          548,
          549,
          550,
          551,
          552,
          553,
          554,
          555,
          556,
          557,
          558,
          559,
          560,
          561,
          562,
          563,
          564,
          565,
          566,
          567,
          568,
          569,
          570,
          571,
          572,
          573,
          574,
          575,
          576,
          577,
          578,
          579,
          580,
          581,
          582,
          583,
          584,
          585,
          586,
          587,
          588,
          589,
          590,
          591,
          592,
          593,
          594,
          595,
          596,
          597,
          598,
          599,
          600,
          601,
          602,
          603,
          604,
          605,
          606,
          607,
          608,
          609,
          610,
          611,
          612,
          613,
          614,
          615,
          616,
          617,
          618,
          619,
          620,
          621,
          622,
          623,
          624,
          625,
          626,
          627,
          628,
          629,
          630,
          631,
          632,
          633,
          634,
          635,
          636,
          637,
          638,
          639,
          640,
          641,
          642,
          643,
          644,
          645,
          646,
          647,
          648,
          649,
          650,
          651,
          652,
          653,
          654,
          655
         ],
         "y": [
          0.6033,
          0.6051,
          0.6056999999999999,
          0.6033,
          0.6039,
          0.6033,
          0.603,
          0.6039,
          0.6045,
          0.6033,
          0.6036,
          0.6036,
          0.6048,
          0.6051,
          0.6042,
          0.6042,
          0.6026999999999999,
          0.6042,
          0.6033,
          0.6042,
          0.6039,
          0.6026999999999999,
          0.603,
          0.6039,
          0.6042,
          0.6039,
          0.6048,
          0.603,
          0.6039,
          0.6039,
          0.6036,
          0.6051,
          0.6036,
          0.6051,
          0.6026999999999999,
          0.603,
          0.6036,
          0.6036,
          0.6042,
          0.603,
          0.6039,
          0.6039,
          0.603,
          0.6036,
          0.6042,
          0.6033,
          0.6026999999999999,
          0.6018,
          0.6026999999999999,
          0.6045,
          0.6036,
          0.6039,
          0.6033,
          0.6039,
          0.6051,
          0.6048,
          0.6036,
          0.6033,
          0.6026999999999999,
          0.6023999999999999,
          0.6036,
          0.6036,
          0.6036,
          0.6042,
          0.6036,
          0.6039,
          0.6042,
          0.6042,
          0.6042,
          0.6033,
          0.6042,
          0.603,
          0.6026999999999999,
          0.6023999999999999,
          0.6039,
          0.6042,
          0.6023999999999999,
          0.6026999999999999,
          0.603,
          0.6042,
          0.6042,
          0.6039,
          0.6053999999999999,
          0.603,
          0.6018,
          0.603,
          0.6042,
          0.6045,
          0.6051,
          0.6051,
          0.6026999999999999,
          0.6039,
          0.6042,
          0.6039,
          0.6051,
          0.6051,
          0.6033,
          0.6051,
          0.6051,
          0.603,
          0.6036,
          0.6045,
          0.6039,
          0.6051,
          0.6048,
          0.6023999999999999,
          0.6036,
          0.6042,
          0.603,
          0.6036,
          0.6048,
          0.6045,
          0.6042,
          0.6039,
          0.6053999999999999,
          0.6045,
          0.6042,
          0.6023999999999999,
          0.6036,
          0.603,
          0.6045,
          0.6039,
          0.6051,
          0.6051,
          0.6015,
          0.6012,
          0.6048,
          0.603,
          0.6033,
          0.6033,
          0.603,
          0.6036,
          0.6051,
          0.6045,
          0.6033,
          0.6036,
          0.6036,
          0.6048,
          0.6039,
          0.6042,
          0.6036,
          0.6039,
          0.603,
          0.6036,
          0.6042,
          0.6039,
          0.6048,
          0.6042,
          0.6051,
          0.6048,
          0.6042,
          0.6039,
          0.6042,
          0.6036,
          0.6042,
          0.6036,
          0.6033,
          0.6051,
          0.6039,
          0.6033,
          0.6033,
          0.6051,
          0.6042,
          0.6033,
          0.606,
          0.6042,
          0.6023999999999999,
          0.6039,
          0.6048,
          0.603,
          0.6026999999999999,
          0.6042,
          0.6053999999999999,
          0.603,
          0.6039,
          0.6039,
          0.6051,
          0.6018,
          0.6033,
          0.6042,
          0.6039,
          0.6036,
          0.6048,
          0.6048,
          0.6045,
          0.603,
          0.6045,
          0.6026999999999999,
          0.6048,
          0.6036,
          0.6039,
          0.6053999999999999,
          0.6048,
          0.6042,
          0.6051,
          0.6042,
          0.6048,
          0.6039,
          0.6045,
          0.6039,
          0.6042,
          0.6036,
          0.6051,
          0.6045,
          0.6048,
          0.6036,
          0.6056999999999999,
          0.6042,
          0.6042,
          0.6042,
          0.6023999999999999,
          0.6053999999999999,
          0.6045,
          0.6039,
          0.6033,
          0.6033,
          0.6045,
          0.6033,
          0.6023999999999999,
          0.6042,
          0.6036,
          0.6039,
          0.6045,
          0.6036,
          0.6039,
          0.6033,
          0.603,
          0.6036,
          0.6048,
          0.6036,
          0.6039,
          0.6036,
          0.6056999999999999,
          0.6056999999999999,
          0.6036,
          0.6051,
          0.6053999999999999,
          0.6045,
          0.6051,
          0.6033,
          0.6036,
          0.6045,
          0.6036,
          0.6042,
          0.6042,
          0.6042,
          0.6045,
          0.6033,
          0.6036,
          0.6042,
          0.6039,
          0.6033,
          0.6033,
          0.6026999999999999,
          0.6039,
          0.6026999999999999,
          0.603,
          0.6039,
          0.6036,
          0.6111,
          0.6144,
          0.6066,
          0.5936999999999999,
          0.49079999999999996,
          0.4584,
          0.44939999999999997,
          0.465,
          0.46559999999999996,
          0.4647,
          0.46559999999999996,
          0.4662,
          0.465,
          0.4647,
          0.46529999999999994,
          0.4647,
          0.465,
          0.4659,
          0.4635,
          0.46529999999999994,
          0.4659,
          0.465,
          0.4635,
          0.46529999999999994,
          0.46409999999999996,
          0.46709999999999996,
          0.4647,
          0.4644,
          0.46679999999999994,
          0.46529999999999994,
          0.4659,
          0.4665,
          0.4644,
          0.4659,
          0.4644,
          0.4707,
          0.5214,
          0.5574,
          0.5577,
          0.5571,
          0.5571,
          0.5559,
          0.5577,
          0.5586,
          0.5589,
          0.558,
          0.5586,
          0.5586,
          0.5582999999999999,
          0.5568,
          0.5574,
          0.5568,
          0.5568,
          0.5559,
          0.558,
          0.5589,
          0.5565,
          0.558,
          0.5561999999999999,
          0.5571,
          0.5559,
          0.5577,
          0.5577,
          0.5508,
          0.5861999999999999,
          0.5876999999999999,
          0.6033,
          0.6483,
          0.6324,
          0.6333,
          0.6312,
          0.6317999999999999,
          0.6321,
          0.6324,
          0.6051,
          0.6236999999999999,
          0.6165,
          0.6249,
          0.6273,
          0.6261,
          0.6282,
          0.63,
          0.6273,
          0.6255,
          0.6279,
          0.6264,
          0.6257999999999999,
          0.621,
          0.6429,
          0.6345,
          0.6471,
          0.6564,
          0.6525,
          0.6531,
          0.6521999999999999,
          0.6657,
          0.6231,
          0.6279,
          0.5993999999999999,
          0.5724,
          0.5207999999999999,
          0.4845,
          0.45180000000000003,
          0.486,
          0.567,
          0.5972999999999999,
          0.5988,
          0.6146999999999999,
          0.6153,
          0.6153,
          0.6407999999999999,
          0.6471,
          0.642,
          0.6426000000000001,
          0.6429,
          0.6456000000000001,
          0.6426000000000001,
          0.6441,
          0.6429,
          0.6441,
          0.6444,
          0.6444,
          0.6435,
          0.6429,
          0.6441,
          0.6441,
          0.6441,
          0.6446999999999999,
          0.6437999999999999,
          0.6453,
          0.6423,
          0.6423,
          0.6429,
          0.6441,
          0.6453,
          0.6435,
          0.6431999999999999,
          0.6416999999999999,
          0.645,
          0.645,
          0.6476999999999999,
          0.6516000000000001,
          0.687,
          0.7871999999999999,
          0.7473,
          0.7218,
          0.7191000000000001,
          0.7659,
          0.7215,
          0.7215,
          0.7221000000000001,
          0.7221000000000001,
          0.7232999999999999,
          0.7218,
          0.7242,
          0.7221000000000001,
          0.7215,
          0.7232999999999999,
          0.7223999999999999,
          0.7163999999999999,
          0.7386,
          0.7305,
          0.7547999999999999,
          0.7346999999999999,
          0.7356,
          0.6915,
          0.7076999999999999,
          0.7367999999999999,
          0.6608999999999999,
          0.648,
          0.6525,
          0.6578999999999999,
          0.5912999999999999,
          0.5468999999999999,
          0.5288999999999999,
          0.5094,
          0.4206,
          0.3237,
          0.16229999999999997,
          0.032100000000000004,
          -0.1224,
          -0.2376,
          -0.2316,
          0.0228,
          0.30269999999999997,
          0.2754,
          0.27,
          0.26580000000000004,
          -0.1995,
          -0.19140000000000001,
          -0.144,
          -0.0897,
          -0.0912,
          -0.06989999999999999,
          -0.0963,
          -0.11819999999999999,
          -0.26159999999999994,
          -0.2763,
          -0.3108,
          -0.3417,
          -0.4053,
          -0.522,
          -0.5231999999999999,
          -0.5267999999999999,
          -0.5277,
          -0.5277,
          -0.5286000000000001,
          -0.5265,
          -0.5265,
          -0.5267999999999999,
          -0.5271,
          -0.528,
          -0.5258999999999999,
          -0.5271,
          -0.5283,
          -0.5277,
          -0.5286000000000001,
          -0.5286000000000001,
          -0.5271,
          -0.5258999999999999,
          -0.5286000000000001,
          -0.528,
          -0.5253,
          -0.5277,
          -0.5286000000000001,
          -0.5348999999999999,
          -0.46409999999999996,
          -0.43289999999999995,
          -0.2742,
          -0.2727,
          -0.2127,
          -0.11489999999999999,
          -0.1074,
          -0.0579,
          -0.0525,
          0.0153,
          0.040799999999999996,
          0.0624,
          0.16290000000000002,
          0.18359999999999999,
          0.1926,
          0.3537,
          0.38280000000000003,
          0.4035,
          0.47429999999999994,
          0.4809,
          0.5492999999999999,
          0.5501999999999999,
          0.528,
          0.5313,
          0.5561999999999999,
          0.5688,
          0.5436,
          0.5448,
          0.5337,
          0.5388,
          0.5397,
          0.5177999999999999,
          0.5568,
          0.5291999999999999,
          0.5013,
          0.48029999999999995,
          0.4269,
          0.4317,
          0.4299,
          0.4308,
          0.44880000000000003,
          0.45630000000000004,
          0.4569,
          0.456,
          0.44639999999999996,
          0.456,
          0.4557,
          0.46109999999999995,
          0.4662,
          0.47429999999999994,
          0.4629,
          0.44039999999999996,
          0.435,
          0.44459999999999994,
          0.44609999999999994,
          0.45330000000000004,
          0.4353,
          0.42719999999999997,
          0.4356,
          0.42719999999999997,
          0.441,
          0.432,
          0.42269999999999996,
          0.4512,
          0.4512,
          0.45359999999999995,
          0.4557,
          0.44309999999999994,
          0.4416,
          0.44609999999999994,
          0.45059999999999995,
          0.44639999999999996,
          0.44789999999999996,
          0.4335,
          0.4269,
          0.42419999999999997,
          0.4149,
          0.4113,
          0.402,
          0.4089,
          0.429,
          0.4377,
          0.44789999999999996,
          0.4395,
          0.4455,
          0.4425,
          0.444,
          0.4251,
          0.42569999999999997,
          0.4278,
          0.42,
          0.4215,
          0.4239,
          0.41969999999999996,
          0.4134,
          0.4179,
          0.4386,
          0.45359999999999995,
          0.45480000000000004,
          0.44730000000000003,
          0.45809999999999995,
          0.4599,
          0.45959999999999995,
          0.4599,
          0.459,
          0.46109999999999995,
          0.4602,
          0.4575,
          0.462,
          0.4617,
          0.4614,
          0.4599,
          0.46109999999999995,
          0.46079999999999993,
          0.46079999999999993,
          0.4614,
          0.4614,
          0.4599,
          0.46109999999999995,
          0.4614,
          0.4605,
          0.46109999999999995,
          0.46079999999999993,
          0.4599,
          0.46259999999999996,
          0.46109999999999995,
          0.4602,
          0.46109999999999995,
          0.4614,
          0.4587,
          0.4599,
          0.46079999999999993,
          0.4614,
          0.4605,
          0.4605,
          0.459,
          0.46079999999999993,
          0.4599,
          0.4587,
          0.46259999999999996,
          0.46979999999999994,
          0.4455,
          0.4311,
          0.44459999999999994,
          0.5147999999999999,
          0.5756999999999999,
          0.5291999999999999,
          0.5037,
          0.5001,
          0.4926,
          0.5175,
          0.6483,
          0.7524,
          0.7671,
          0.708,
          0.6741,
          0.6881999999999999,
          0.6159,
          0.5522999999999999,
          0.5505,
          0.5508,
          0.5517,
          0.5522999999999999,
          0.5508,
          0.5517,
          0.5535,
          0.5511,
          0.5505,
          0.5511,
          0.5517,
          0.5522999999999999
         ]
        }
       ],
       "layout": {
        "template": {
         "data": {
          "bar": [
           {
            "error_x": {
             "color": "#2a3f5f"
            },
            "error_y": {
             "color": "#2a3f5f"
            },
            "marker": {
             "line": {
              "color": "#E5ECF6",
              "width": 0.5
             },
             "pattern": {
              "fillmode": "overlay",
              "size": 10,
              "solidity": 0.2
             }
            },
            "type": "bar"
           }
          ],
          "barpolar": [
           {
            "marker": {
             "line": {
              "color": "#E5ECF6",
              "width": 0.5
             },
             "pattern": {
              "fillmode": "overlay",
              "size": 10,
              "solidity": 0.2
             }
            },
            "type": "barpolar"
           }
          ],
          "carpet": [
           {
            "aaxis": {
             "endlinecolor": "#2a3f5f",
             "gridcolor": "white",
             "linecolor": "white",
             "minorgridcolor": "white",
             "startlinecolor": "#2a3f5f"
            },
            "baxis": {
             "endlinecolor": "#2a3f5f",
             "gridcolor": "white",
             "linecolor": "white",
             "minorgridcolor": "white",
             "startlinecolor": "#2a3f5f"
            },
            "type": "carpet"
           }
          ],
          "choropleth": [
           {
            "colorbar": {
             "outlinewidth": 0,
             "ticks": ""
            },
            "type": "choropleth"
           }
          ],
          "contour": [
           {
            "colorbar": {
             "outlinewidth": 0,
             "ticks": ""
            },
            "colorscale": [
             [
              0,
              "#0d0887"
             ],
             [
              0.1111111111111111,
              "#46039f"
             ],
             [
              0.2222222222222222,
              "#7201a8"
             ],
             [
              0.3333333333333333,
              "#9c179e"
             ],
             [
              0.4444444444444444,
              "#bd3786"
             ],
             [
              0.5555555555555556,
              "#d8576b"
             ],
             [
              0.6666666666666666,
              "#ed7953"
             ],
             [
              0.7777777777777778,
              "#fb9f3a"
             ],
             [
              0.8888888888888888,
              "#fdca26"
             ],
             [
              1,
              "#f0f921"
             ]
            ],
            "type": "contour"
           }
          ],
          "contourcarpet": [
           {
            "colorbar": {
             "outlinewidth": 0,
             "ticks": ""
            },
            "type": "contourcarpet"
           }
          ],
          "heatmap": [
           {
            "colorbar": {
             "outlinewidth": 0,
             "ticks": ""
            },
            "colorscale": [
             [
              0,
              "#0d0887"
             ],
             [
              0.1111111111111111,
              "#46039f"
             ],
             [
              0.2222222222222222,
              "#7201a8"
             ],
             [
              0.3333333333333333,
              "#9c179e"
             ],
             [
              0.4444444444444444,
              "#bd3786"
             ],
             [
              0.5555555555555556,
              "#d8576b"
             ],
             [
              0.6666666666666666,
              "#ed7953"
             ],
             [
              0.7777777777777778,
              "#fb9f3a"
             ],
             [
              0.8888888888888888,
              "#fdca26"
             ],
             [
              1,
              "#f0f921"
             ]
            ],
            "type": "heatmap"
           }
          ],
          "heatmapgl": [
           {
            "colorbar": {
             "outlinewidth": 0,
             "ticks": ""
            },
            "colorscale": [
             [
              0,
              "#0d0887"
             ],
             [
              0.1111111111111111,
              "#46039f"
             ],
             [
              0.2222222222222222,
              "#7201a8"
             ],
             [
              0.3333333333333333,
              "#9c179e"
             ],
             [
              0.4444444444444444,
              "#bd3786"
             ],
             [
              0.5555555555555556,
              "#d8576b"
             ],
             [
              0.6666666666666666,
              "#ed7953"
             ],
             [
              0.7777777777777778,
              "#fb9f3a"
             ],
             [
              0.8888888888888888,
              "#fdca26"
             ],
             [
              1,
              "#f0f921"
             ]
            ],
            "type": "heatmapgl"
           }
          ],
          "histogram": [
           {
            "marker": {
             "pattern": {
              "fillmode": "overlay",
              "size": 10,
              "solidity": 0.2
             }
            },
            "type": "histogram"
           }
          ],
          "histogram2d": [
           {
            "colorbar": {
             "outlinewidth": 0,
             "ticks": ""
            },
            "colorscale": [
             [
              0,
              "#0d0887"
             ],
             [
              0.1111111111111111,
              "#46039f"
             ],
             [
              0.2222222222222222,
              "#7201a8"
             ],
             [
              0.3333333333333333,
              "#9c179e"
             ],
             [
              0.4444444444444444,
              "#bd3786"
             ],
             [
              0.5555555555555556,
              "#d8576b"
             ],
             [
              0.6666666666666666,
              "#ed7953"
             ],
             [
              0.7777777777777778,
              "#fb9f3a"
             ],
             [
              0.8888888888888888,
              "#fdca26"
             ],
             [
              1,
              "#f0f921"
             ]
            ],
            "type": "histogram2d"
           }
          ],
          "histogram2dcontour": [
           {
            "colorbar": {
             "outlinewidth": 0,
             "ticks": ""
            },
            "colorscale": [
             [
              0,
              "#0d0887"
             ],
             [
              0.1111111111111111,
              "#46039f"
             ],
             [
              0.2222222222222222,
              "#7201a8"
             ],
             [
              0.3333333333333333,
              "#9c179e"
             ],
             [
              0.4444444444444444,
              "#bd3786"
             ],
             [
              0.5555555555555556,
              "#d8576b"
             ],
             [
              0.6666666666666666,
              "#ed7953"
             ],
             [
              0.7777777777777778,
              "#fb9f3a"
             ],
             [
              0.8888888888888888,
              "#fdca26"
             ],
             [
              1,
              "#f0f921"
             ]
            ],
            "type": "histogram2dcontour"
           }
          ],
          "mesh3d": [
           {
            "colorbar": {
             "outlinewidth": 0,
             "ticks": ""
            },
            "type": "mesh3d"
           }
          ],
          "parcoords": [
           {
            "line": {
             "colorbar": {
              "outlinewidth": 0,
              "ticks": ""
             }
            },
            "type": "parcoords"
           }
          ],
          "pie": [
           {
            "automargin": true,
            "type": "pie"
           }
          ],
          "scatter": [
           {
            "fillpattern": {
             "fillmode": "overlay",
             "size": 10,
             "solidity": 0.2
            },
            "type": "scatter"
           }
          ],
          "scatter3d": [
           {
            "line": {
             "colorbar": {
              "outlinewidth": 0,
              "ticks": ""
             }
            },
            "marker": {
             "colorbar": {
              "outlinewidth": 0,
              "ticks": ""
             }
            },
            "type": "scatter3d"
           }
          ],
          "scattercarpet": [
           {
            "marker": {
             "colorbar": {
              "outlinewidth": 0,
              "ticks": ""
             }
            },
            "type": "scattercarpet"
           }
          ],
          "scattergeo": [
           {
            "marker": {
             "colorbar": {
              "outlinewidth": 0,
              "ticks": ""
             }
            },
            "type": "scattergeo"
           }
          ],
          "scattergl": [
           {
            "marker": {
             "colorbar": {
              "outlinewidth": 0,
              "ticks": ""
             }
            },
            "type": "scattergl"
           }
          ],
          "scattermapbox": [
           {
            "marker": {
             "colorbar": {
              "outlinewidth": 0,
              "ticks": ""
             }
            },
            "type": "scattermapbox"
           }
          ],
          "scatterpolar": [
           {
            "marker": {
             "colorbar": {
              "outlinewidth": 0,
              "ticks": ""
             }
            },
            "type": "scatterpolar"
           }
          ],
          "scatterpolargl": [
           {
            "marker": {
             "colorbar": {
              "outlinewidth": 0,
              "ticks": ""
             }
            },
            "type": "scatterpolargl"
           }
          ],
          "scatterternary": [
           {
            "marker": {
             "colorbar": {
              "outlinewidth": 0,
              "ticks": ""
             }
            },
            "type": "scatterternary"
           }
          ],
          "surface": [
           {
            "colorbar": {
             "outlinewidth": 0,
             "ticks": ""
            },
            "colorscale": [
             [
              0,
              "#0d0887"
             ],
             [
              0.1111111111111111,
              "#46039f"
             ],
             [
              0.2222222222222222,
              "#7201a8"
             ],
             [
              0.3333333333333333,
              "#9c179e"
             ],
             [
              0.4444444444444444,
              "#bd3786"
             ],
             [
              0.5555555555555556,
              "#d8576b"
             ],
             [
              0.6666666666666666,
              "#ed7953"
             ],
             [
              0.7777777777777778,
              "#fb9f3a"
             ],
             [
              0.8888888888888888,
              "#fdca26"
             ],
             [
              1,
              "#f0f921"
             ]
            ],
            "type": "surface"
           }
          ],
          "table": [
           {
            "cells": {
             "fill": {
              "color": "#EBF0F8"
             },
             "line": {
              "color": "white"
             }
            },
            "header": {
             "fill": {
              "color": "#C8D4E3"
             },
             "line": {
              "color": "white"
             }
            },
            "type": "table"
           }
          ]
         },
         "layout": {
          "annotationdefaults": {
           "arrowcolor": "#2a3f5f",
           "arrowhead": 0,
           "arrowwidth": 1
          },
          "autotypenumbers": "strict",
          "coloraxis": {
           "colorbar": {
            "outlinewidth": 0,
            "ticks": ""
           }
          },
          "colorscale": {
           "diverging": [
            [
             0,
             "#8e0152"
            ],
            [
             0.1,
             "#c51b7d"
            ],
            [
             0.2,
             "#de77ae"
            ],
            [
             0.3,
             "#f1b6da"
            ],
            [
             0.4,
             "#fde0ef"
            ],
            [
             0.5,
             "#f7f7f7"
            ],
            [
             0.6,
             "#e6f5d0"
            ],
            [
             0.7,
             "#b8e186"
            ],
            [
             0.8,
             "#7fbc41"
            ],
            [
             0.9,
             "#4d9221"
            ],
            [
             1,
             "#276419"
            ]
           ],
           "sequential": [
            [
             0,
             "#0d0887"
            ],
            [
             0.1111111111111111,
             "#46039f"
            ],
            [
             0.2222222222222222,
             "#7201a8"
            ],
            [
             0.3333333333333333,
             "#9c179e"
            ],
            [
             0.4444444444444444,
             "#bd3786"
            ],
            [
             0.5555555555555556,
             "#d8576b"
            ],
            [
             0.6666666666666666,
             "#ed7953"
            ],
            [
             0.7777777777777778,
             "#fb9f3a"
            ],
            [
             0.8888888888888888,
             "#fdca26"
            ],
            [
             1,
             "#f0f921"
            ]
           ],
           "sequentialminus": [
            [
             0,
             "#0d0887"
            ],
            [
             0.1111111111111111,
             "#46039f"
            ],
            [
             0.2222222222222222,
             "#7201a8"
            ],
            [
             0.3333333333333333,
             "#9c179e"
            ],
            [
             0.4444444444444444,
             "#bd3786"
            ],
            [
             0.5555555555555556,
             "#d8576b"
            ],
            [
             0.6666666666666666,
             "#ed7953"
            ],
            [
             0.7777777777777778,
             "#fb9f3a"
            ],
            [
             0.8888888888888888,
             "#fdca26"
            ],
            [
             1,
             "#f0f921"
            ]
           ]
          },
          "colorway": [
           "#636efa",
           "#EF553B",
           "#00cc96",
           "#ab63fa",
           "#FFA15A",
           "#19d3f3",
           "#FF6692",
           "#B6E880",
           "#FF97FF",
           "#FECB52"
          ],
          "font": {
           "color": "#2a3f5f"
          },
          "geo": {
           "bgcolor": "white",
           "lakecolor": "white",
           "landcolor": "#E5ECF6",
           "showlakes": true,
           "showland": true,
           "subunitcolor": "white"
          },
          "hoverlabel": {
           "align": "left"
          },
          "hovermode": "closest",
          "mapbox": {
           "style": "light"
          },
          "paper_bgcolor": "white",
          "plot_bgcolor": "#E5ECF6",
          "polar": {
           "angularaxis": {
            "gridcolor": "white",
            "linecolor": "white",
            "ticks": ""
           },
           "bgcolor": "#E5ECF6",
           "radialaxis": {
            "gridcolor": "white",
            "linecolor": "white",
            "ticks": ""
           }
          },
          "scene": {
           "xaxis": {
            "backgroundcolor": "#E5ECF6",
            "gridcolor": "white",
            "gridwidth": 2,
            "linecolor": "white",
            "showbackground": true,
            "ticks": "",
            "zerolinecolor": "white"
           },
           "yaxis": {
            "backgroundcolor": "#E5ECF6",
            "gridcolor": "white",
            "gridwidth": 2,
            "linecolor": "white",
            "showbackground": true,
            "ticks": "",
            "zerolinecolor": "white"
           },
           "zaxis": {
            "backgroundcolor": "#E5ECF6",
            "gridcolor": "white",
            "gridwidth": 2,
            "linecolor": "white",
            "showbackground": true,
            "ticks": "",
            "zerolinecolor": "white"
           }
          },
          "shapedefaults": {
           "line": {
            "color": "#2a3f5f"
           }
          },
          "ternary": {
           "aaxis": {
            "gridcolor": "white",
            "linecolor": "white",
            "ticks": ""
           },
           "baxis": {
            "gridcolor": "white",
            "linecolor": "white",
            "ticks": ""
           },
           "bgcolor": "#E5ECF6",
           "caxis": {
            "gridcolor": "white",
            "linecolor": "white",
            "ticks": ""
           }
          },
          "title": {
           "x": 0.05
          },
          "xaxis": {
           "automargin": true,
           "gridcolor": "white",
           "linecolor": "white",
           "ticks": "",
           "title": {
            "standoff": 15
           },
           "zerolinecolor": "white",
           "zerolinewidth": 2
          },
          "yaxis": {
           "automargin": true,
           "gridcolor": "white",
           "linecolor": "white",
           "ticks": "",
           "title": {
            "standoff": 15
           },
           "zerolinecolor": "white",
           "zerolinewidth": 2
          }
         }
        },
        "title": {
         "text": "b_x over time"
        },
        "xaxis": {
         "title": {
          "text": "Index"
         }
        },
        "yaxis": {
         "scaleanchor": "y",
         "title": {
          "text": "b_x [mT]"
         }
        }
       }
      }
     },
     "metadata": {},
     "output_type": "display_data"
    }
   ],
   "source": [
    "index = np.array(range(len(bx7)))\n",
    "measuredbx = go.Scatter(x=index, y=bx7, mode='markers')\n",
    "layoutbx = go.Layout(title='b_x over time')\n",
    "figbx = go.Figure(data=[measuredbx], layout=layoutbx)\n",
    "figbx.update_yaxes(scaleanchor='y')\n",
    "figbx.update_layout(\n",
    "    xaxis_title=\"Index\",\n",
    "    yaxis_title=\"b_x [mT]\"\n",
    ")\n",
    "figbx.show()"
   ]
  },
  {
   "cell_type": "code",
   "execution_count": 9,
   "metadata": {},
   "outputs": [
    {
     "data": {
      "application/vnd.plotly.v1+json": {
       "config": {
        "plotlyServerURL": "https://plot.ly"
       },
       "data": [
        {
         "mode": "markers",
         "type": "scatter",
         "x": [
          0,
          1,
          2,
          3,
          4,
          5,
          6,
          7,
          8,
          9,
          10,
          11,
          12,
          13,
          14,
          15,
          16,
          17,
          18,
          19,
          20,
          21,
          22,
          23,
          24,
          25,
          26,
          27,
          28,
          29,
          30,
          31,
          32,
          33,
          34,
          35,
          36,
          37,
          38,
          39,
          40,
          41,
          42,
          43,
          44,
          45,
          46,
          47,
          48,
          49,
          50,
          51,
          52,
          53,
          54,
          55,
          56,
          57,
          58,
          59,
          60,
          61,
          62,
          63,
          64,
          65,
          66,
          67,
          68,
          69,
          70,
          71,
          72,
          73,
          74,
          75,
          76,
          77,
          78,
          79,
          80,
          81,
          82,
          83,
          84,
          85,
          86,
          87,
          88,
          89,
          90,
          91,
          92,
          93,
          94,
          95,
          96,
          97,
          98,
          99,
          100,
          101,
          102,
          103,
          104,
          105,
          106,
          107,
          108,
          109,
          110,
          111,
          112,
          113,
          114,
          115,
          116,
          117,
          118,
          119,
          120,
          121,
          122,
          123,
          124,
          125,
          126,
          127,
          128,
          129,
          130,
          131,
          132,
          133,
          134,
          135,
          136,
          137,
          138,
          139,
          140,
          141,
          142,
          143,
          144,
          145,
          146,
          147,
          148,
          149,
          150,
          151,
          152,
          153,
          154,
          155,
          156,
          157,
          158,
          159,
          160,
          161,
          162,
          163,
          164,
          165,
          166,
          167,
          168,
          169,
          170,
          171,
          172,
          173,
          174,
          175,
          176,
          177,
          178,
          179,
          180,
          181,
          182,
          183,
          184,
          185,
          186,
          187,
          188,
          189,
          190,
          191,
          192,
          193,
          194,
          195,
          196,
          197,
          198,
          199,
          200,
          201,
          202,
          203,
          204,
          205,
          206,
          207,
          208,
          209,
          210,
          211,
          212,
          213,
          214,
          215,
          216,
          217,
          218,
          219,
          220,
          221,
          222,
          223,
          224,
          225,
          226,
          227,
          228,
          229,
          230,
          231,
          232,
          233,
          234,
          235,
          236,
          237,
          238,
          239,
          240,
          241,
          242,
          243,
          244,
          245,
          246,
          247,
          248,
          249,
          250,
          251,
          252,
          253,
          254,
          255,
          256,
          257,
          258,
          259,
          260,
          261,
          262,
          263,
          264,
          265,
          266,
          267,
          268,
          269,
          270,
          271,
          272,
          273,
          274,
          275,
          276,
          277,
          278,
          279,
          280,
          281,
          282,
          283,
          284,
          285,
          286,
          287,
          288,
          289,
          290,
          291,
          292,
          293,
          294,
          295,
          296,
          297,
          298,
          299,
          300,
          301,
          302,
          303,
          304,
          305,
          306,
          307,
          308,
          309,
          310,
          311,
          312,
          313,
          314,
          315,
          316,
          317,
          318,
          319,
          320,
          321,
          322,
          323,
          324,
          325,
          326,
          327,
          328,
          329,
          330,
          331,
          332,
          333,
          334,
          335,
          336,
          337,
          338,
          339,
          340,
          341,
          342,
          343,
          344,
          345,
          346,
          347,
          348,
          349,
          350,
          351,
          352,
          353,
          354,
          355,
          356,
          357,
          358,
          359,
          360,
          361,
          362,
          363,
          364,
          365,
          366,
          367,
          368,
          369,
          370,
          371,
          372,
          373,
          374,
          375,
          376,
          377,
          378,
          379,
          380,
          381,
          382,
          383,
          384,
          385,
          386,
          387,
          388,
          389,
          390,
          391,
          392,
          393,
          394,
          395,
          396,
          397,
          398,
          399,
          400,
          401,
          402,
          403,
          404,
          405,
          406,
          407,
          408,
          409,
          410,
          411,
          412,
          413,
          414,
          415,
          416,
          417,
          418,
          419,
          420,
          421,
          422,
          423,
          424,
          425,
          426,
          427,
          428,
          429,
          430,
          431,
          432,
          433,
          434,
          435,
          436,
          437,
          438,
          439,
          440,
          441,
          442,
          443,
          444,
          445,
          446,
          447,
          448,
          449,
          450,
          451,
          452,
          453,
          454,
          455,
          456,
          457,
          458,
          459,
          460,
          461,
          462,
          463,
          464,
          465,
          466,
          467,
          468,
          469,
          470,
          471,
          472,
          473,
          474,
          475,
          476,
          477,
          478,
          479,
          480,
          481,
          482,
          483,
          484,
          485,
          486,
          487,
          488,
          489,
          490,
          491,
          492,
          493,
          494,
          495,
          496,
          497,
          498,
          499,
          500,
          501,
          502,
          503,
          504,
          505,
          506,
          507,
          508,
          509,
          510,
          511,
          512,
          513,
          514,
          515,
          516,
          517,
          518,
          519,
          520,
          521,
          522,
          523,
          524,
          525,
          526,
          527,
          528,
          529,
          530,
          531,
          532,
          533,
          534,
          535,
          536,
          537,
          538,
          539,
          540,
          541,
          542,
          543,
          544,
          545,
          546,
          547,
          548,
          549,
          550,
          551,
          552,
          553,
          554,
          555,
          556,
          557,
          558,
          559,
          560,
          561,
          562,
          563,
          564,
          565,
          566,
          567,
          568,
          569,
          570,
          571,
          572,
          573,
          574,
          575,
          576,
          577,
          578,
          579,
          580,
          581,
          582,
          583,
          584,
          585,
          586,
          587,
          588,
          589,
          590,
          591,
          592,
          593,
          594,
          595,
          596,
          597,
          598,
          599,
          600,
          601,
          602,
          603,
          604,
          605,
          606,
          607,
          608,
          609,
          610,
          611,
          612,
          613,
          614,
          615,
          616,
          617,
          618,
          619,
          620,
          621,
          622,
          623,
          624,
          625,
          626,
          627,
          628,
          629,
          630,
          631,
          632,
          633,
          634,
          635,
          636,
          637,
          638,
          639,
          640,
          641,
          642,
          643,
          644,
          645,
          646,
          647,
          648,
          649,
          650,
          651,
          652,
          653,
          654,
          655
         ],
         "y": [
          -0.0909,
          -0.0909,
          -0.09209999999999999,
          -0.0912,
          -0.0927,
          -0.0912,
          -0.0912,
          -0.0906,
          -0.0927,
          -0.0897,
          -0.09029999999999999,
          -0.09209999999999999,
          -0.0909,
          -0.0912,
          -0.0909,
          -0.0894,
          -0.0909,
          -0.0906,
          -0.09209999999999999,
          -0.0912,
          -0.0897,
          -0.09,
          -0.0906,
          -0.0915,
          -0.0912,
          -0.0912,
          -0.09,
          -0.0912,
          -0.09209999999999999,
          -0.0912,
          -0.09,
          -0.0909,
          -0.09209999999999999,
          -0.0906,
          -0.0912,
          -0.0927,
          -0.0909,
          -0.09179999999999999,
          -0.0912,
          -0.0942,
          -0.0894,
          -0.09209999999999999,
          -0.09029999999999999,
          -0.09209999999999999,
          -0.0933,
          -0.0912,
          -0.0915,
          -0.09029999999999999,
          -0.0891,
          -0.0906,
          -0.0915,
          -0.0912,
          -0.0915,
          -0.0912,
          -0.09029999999999999,
          -0.0915,
          -0.09029999999999999,
          -0.09029999999999999,
          -0.0897,
          -0.09029999999999999,
          -0.0927,
          -0.093,
          -0.09179999999999999,
          -0.0909,
          -0.0915,
          -0.09029999999999999,
          -0.0912,
          -0.09,
          -0.0897,
          -0.0897,
          -0.0909,
          -0.0891,
          -0.0906,
          -0.09,
          -0.09179999999999999,
          -0.09029999999999999,
          -0.0888,
          -0.0906,
          -0.09,
          -0.09,
          -0.0909,
          -0.0906,
          -0.0906,
          -0.0894,
          -0.0915,
          -0.0906,
          -0.0906,
          -0.0897,
          -0.0891,
          -0.09,
          -0.09179999999999999,
          -0.09,
          -0.0897,
          -0.0909,
          -0.0912,
          -0.09179999999999999,
          -0.0906,
          -0.0891,
          -0.0912,
          -0.0897,
          -0.0906,
          -0.0909,
          -0.09,
          -0.09029999999999999,
          -0.0924,
          -0.0909,
          -0.0888,
          -0.0909,
          -0.09029999999999999,
          -0.0906,
          -0.09209999999999999,
          -0.0906,
          -0.0915,
          -0.0897,
          -0.09029999999999999,
          -0.0915,
          -0.09029999999999999,
          -0.09,
          -0.09029999999999999,
          -0.09029999999999999,
          -0.0915,
          -0.0897,
          -0.0927,
          -0.0897,
          -0.0915,
          -0.09179999999999999,
          -0.0915,
          -0.09,
          -0.09179999999999999,
          -0.0897,
          -0.0912,
          -0.0915,
          -0.09,
          -0.09179999999999999,
          -0.09029999999999999,
          -0.0912,
          -0.0909,
          -0.09179999999999999,
          -0.09029999999999999,
          -0.09029999999999999,
          -0.0897,
          -0.09,
          -0.0915,
          -0.09179999999999999,
          -0.0915,
          -0.0897,
          -0.0894,
          -0.0912,
          -0.0915,
          -0.0915,
          -0.0891,
          -0.0897,
          -0.09179999999999999,
          -0.0909,
          -0.0912,
          -0.0897,
          -0.09179999999999999,
          -0.09209999999999999,
          -0.0906,
          -0.0912,
          -0.09,
          -0.0897,
          -0.0906,
          -0.0906,
          -0.0915,
          -0.0909,
          -0.09029999999999999,
          -0.09,
          -0.09029999999999999,
          -0.0915,
          -0.09029999999999999,
          -0.0924,
          -0.0909,
          -0.0897,
          -0.09209999999999999,
          -0.0909,
          -0.0912,
          -0.0915,
          -0.0924,
          -0.0912,
          -0.0912,
          -0.0897,
          -0.0909,
          -0.0912,
          -0.0912,
          -0.0909,
          -0.09209999999999999,
          -0.09029999999999999,
          -0.09179999999999999,
          -0.0909,
          -0.09029999999999999,
          -0.0897,
          -0.0915,
          -0.09,
          -0.0924,
          -0.0888,
          -0.0897,
          -0.0915,
          -0.0912,
          -0.0897,
          -0.0912,
          -0.09029999999999999,
          -0.0912,
          -0.09209999999999999,
          -0.0897,
          -0.0906,
          -0.0909,
          -0.0897,
          -0.0912,
          -0.0888,
          -0.0912,
          -0.0906,
          -0.0912,
          -0.09,
          -0.0912,
          -0.0915,
          -0.09029999999999999,
          -0.0909,
          -0.09179999999999999,
          -0.0912,
          -0.09,
          -0.0906,
          -0.09,
          -0.0915,
          -0.09,
          -0.0906,
          -0.09029999999999999,
          -0.0915,
          -0.09209999999999999,
          -0.09,
          -0.09179999999999999,
          -0.0906,
          -0.09029999999999999,
          -0.0906,
          -0.0915,
          -0.09179999999999999,
          -0.0912,
          -0.0882,
          -0.0909,
          -0.0906,
          -0.0909,
          -0.0915,
          -0.0906,
          -0.0912,
          -0.09,
          -0.0912,
          -0.0906,
          -0.0891,
          -0.0906,
          -0.0924,
          -0.09179999999999999,
          -0.0912,
          -0.09179999999999999,
          -0.0891,
          -0.0891,
          -0.09029999999999999,
          -0.0915,
          -0.0909,
          -0.0906,
          -0.09359999999999999,
          -0.099,
          -0.0945,
          -0.0858,
          -0.0354,
          -0.03,
          -0.017099999999999997,
          -0.031799999999999995,
          -0.0339,
          -0.033600000000000005,
          -0.0324,
          -0.0345,
          -0.031799999999999995,
          -0.033299999999999996,
          -0.033600000000000005,
          -0.03269999999999999,
          -0.031799999999999995,
          -0.03269999999999999,
          -0.033299999999999996,
          -0.033600000000000005,
          -0.0312,
          -0.033,
          -0.0315,
          -0.0324,
          -0.033299999999999996,
          -0.031799999999999995,
          -0.031799999999999995,
          -0.0324,
          -0.03269999999999999,
          -0.0324,
          -0.0324,
          -0.033600000000000005,
          -0.03269999999999999,
          -0.030899999999999997,
          -0.033600000000000005,
          -0.0372,
          -0.04019999999999999,
          -0.0387,
          -0.0381,
          -0.0396,
          -0.039,
          -0.039,
          -0.0399,
          -0.0387,
          -0.039,
          -0.039,
          -0.0384,
          -0.039,
          -0.0381,
          -0.0387,
          -0.0384,
          -0.039299999999999995,
          -0.0387,
          -0.039,
          -0.039,
          -0.0399,
          -0.0387,
          -0.0387,
          -0.039299999999999995,
          -0.0405,
          -0.0372,
          -0.0387,
          -0.036899999999999995,
          -0.0351,
          -0.0498,
          -0.0453,
          -0.049199999999999994,
          -0.07859999999999999,
          -0.069,
          -0.0717,
          -0.06839999999999999,
          -0.0693,
          -0.0693,
          -0.069,
          -0.0723,
          -0.0723,
          -0.07289999999999999,
          -0.0705,
          -0.0711,
          -0.07139999999999999,
          -0.0708,
          -0.0705,
          -0.0711,
          -0.0702,
          -0.0708,
          -0.0717,
          -0.0717,
          -0.0744,
          -0.08489999999999999,
          -0.0945,
          -0.093,
          -0.09689999999999999,
          -0.09570000000000001,
          -0.0993,
          -0.1077,
          -0.13019999999999998,
          -0.1077,
          -0.1143,
          -0.1038,
          -0.0987,
          -0.0828,
          -0.0744,
          -0.0741,
          -0.078,
          -0.1032,
          -0.11309999999999999,
          -0.1281,
          -0.1038,
          -0.1062,
          -0.1128,
          -0.1761,
          -0.174,
          -0.13679999999999998,
          -0.14129999999999998,
          -0.14129999999999998,
          -0.13979999999999998,
          -0.1401,
          -0.1404,
          -0.1419,
          -0.13979999999999998,
          -0.1419,
          -0.14129999999999998,
          -0.1407,
          -0.1416,
          -0.1401,
          -0.1395,
          -0.1401,
          -0.1407,
          -0.1407,
          -0.1404,
          -0.1416,
          -0.1401,
          -0.1392,
          -0.1392,
          -0.14129999999999998,
          -0.141,
          -0.13979999999999998,
          -0.1401,
          -0.13979999999999998,
          -0.14129999999999998,
          -0.14279999999999998,
          -0.1548,
          -0.17429999999999998,
          -0.27359999999999995,
          -0.3237,
          -0.38759999999999994,
          -0.38159999999999994,
          -0.411,
          -0.4962,
          -0.4956,
          -0.49529999999999996,
          -0.49679999999999996,
          -0.4956,
          -0.49529999999999996,
          -0.49589999999999995,
          -0.4965,
          -0.495,
          -0.49529999999999996,
          -0.4941,
          -0.5181,
          -0.6356999999999999,
          -0.6471,
          -0.7146,
          -0.6834,
          -0.663,
          -0.47909999999999997,
          -0.5117999999999999,
          -0.8991,
          -1.0551,
          -0.9977999999999999,
          -1.0086,
          -1.0523999999999998,
          -1.1025,
          -1.1736,
          -1.1895,
          -1.2666,
          -1.398,
          -1.5108,
          -1.626,
          -1.734,
          -1.767,
          -1.7604,
          -1.7495999999999998,
          -1.5588,
          -1.4295,
          -1.5027000000000001,
          -1.5563999999999998,
          -1.56,
          -1.7745,
          -1.716,
          -1.6787999999999998,
          -1.656,
          -1.6575,
          -1.6317000000000002,
          -1.6932,
          -1.7093999999999998,
          -1.7175,
          -1.7478,
          -1.7723999999999998,
          -1.7565,
          -1.7318999999999998,
          -1.5648,
          -1.5897000000000001,
          -1.5938999999999999,
          -1.5938999999999999,
          -1.5938999999999999,
          -1.5936,
          -1.5945,
          -1.5920999999999998,
          -1.5942,
          -1.593,
          -1.5945,
          -1.5945,
          -1.5948,
          -1.5938999999999999,
          -1.5954,
          -1.5954,
          -1.5951,
          -1.596,
          -1.5951,
          -1.5938999999999999,
          -1.5933,
          -1.5954,
          -1.5951,
          -1.5938999999999999,
          -1.6032,
          -1.6388999999999998,
          -1.6515,
          -1.6403999999999999,
          -1.6395,
          -1.6218,
          -1.5711,
          -1.5582,
          -1.5495,
          -1.5369,
          -1.5087000000000002,
          -1.5822,
          -1.5081,
          -1.3959,
          -1.4643,
          -1.4108999999999998,
          -1.1768999999999998,
          -1.0947,
          -1.1630999999999998,
          -1.0263,
          -1.023,
          -0.9986999999999999,
          -0.9783,
          -0.9264,
          -0.9015,
          -0.8295,
          -0.7667999999999999,
          -0.6819,
          -0.6578999999999999,
          -0.576,
          -0.5792999999999999,
          -0.573,
          -0.5001,
          -0.6411,
          -0.5642999999999999,
          -0.5591999999999999,
          -0.5211,
          -0.429,
          -0.43439999999999995,
          -0.441,
          -0.441,
          -0.5355,
          -0.5498999999999999,
          -0.5586,
          -0.5547,
          -0.5448,
          -0.5561999999999999,
          -0.5595,
          -0.5718,
          -0.5727,
          -0.573,
          -0.5799,
          -0.5586,
          -0.5612999999999999,
          -0.5799,
          -0.5792999999999999,
          -0.5946,
          -0.573,
          -0.561,
          -0.5754,
          -0.5766,
          -0.6078,
          -0.6075,
          -0.5889,
          -0.5784,
          -0.546,
          -0.5517,
          -0.552,
          -0.5109,
          -0.498,
          -0.48869999999999997,
          -0.45959999999999995,
          -0.4179,
          -0.4098,
          -0.3651,
          -0.3363,
          -0.3342,
          -0.3039,
          -0.2964,
          -0.27809999999999996,
          -0.28859999999999997,
          -0.33089999999999997,
          -0.3519,
          -0.39809999999999995,
          -0.387,
          -0.3912,
          -0.3882,
          -0.3927,
          -0.3726,
          -0.3696,
          -0.3762,
          -0.36989999999999995,
          -0.36989999999999995,
          -0.3738,
          -0.3648,
          -0.3576,
          -0.3606,
          -0.3621,
          -0.36119999999999997,
          -0.3666,
          -0.3624,
          -0.36269999999999997,
          -0.36419999999999997,
          -0.3636,
          -0.3633,
          -0.3636,
          -0.36269999999999997,
          -0.3621,
          -0.3648,
          -0.3633,
          -0.3633,
          -0.36269999999999997,
          -0.36119999999999997,
          -0.363,
          -0.3621,
          -0.36419999999999997,
          -0.3618,
          -0.3636,
          -0.3645,
          -0.3621,
          -0.36419999999999997,
          -0.3633,
          -0.3618,
          -0.3624,
          -0.3651,
          -0.3636,
          -0.3636,
          -0.3633,
          -0.3624,
          -0.3633,
          -0.36269999999999997,
          -0.36269999999999997,
          -0.3639,
          -0.363,
          -0.3636,
          -0.3633,
          -0.3618,
          -0.3654,
          -0.3645,
          -0.3609,
          -0.38639999999999997,
          -0.4032,
          -0.3726,
          -0.3555,
          -0.37139999999999995,
          -0.48779999999999996,
          -0.38639999999999997,
          -0.2991,
          -0.24089999999999998,
          -0.24839999999999998,
          -0.2565,
          -0.2556,
          -0.29819999999999997,
          -0.2541,
          -0.3771,
          -0.3489,
          -0.3051,
          -0.279,
          -0.3723,
          -0.4395,
          -0.4395,
          -0.4401,
          -0.4398,
          -0.4392,
          -0.43889999999999996,
          -0.4407,
          -0.4401,
          -0.4413,
          -0.4398,
          -0.4413,
          -0.4386,
          -0.44189999999999996
         ]
        }
       ],
       "layout": {
        "template": {
         "data": {
          "bar": [
           {
            "error_x": {
             "color": "#2a3f5f"
            },
            "error_y": {
             "color": "#2a3f5f"
            },
            "marker": {
             "line": {
              "color": "#E5ECF6",
              "width": 0.5
             },
             "pattern": {
              "fillmode": "overlay",
              "size": 10,
              "solidity": 0.2
             }
            },
            "type": "bar"
           }
          ],
          "barpolar": [
           {
            "marker": {
             "line": {
              "color": "#E5ECF6",
              "width": 0.5
             },
             "pattern": {
              "fillmode": "overlay",
              "size": 10,
              "solidity": 0.2
             }
            },
            "type": "barpolar"
           }
          ],
          "carpet": [
           {
            "aaxis": {
             "endlinecolor": "#2a3f5f",
             "gridcolor": "white",
             "linecolor": "white",
             "minorgridcolor": "white",
             "startlinecolor": "#2a3f5f"
            },
            "baxis": {
             "endlinecolor": "#2a3f5f",
             "gridcolor": "white",
             "linecolor": "white",
             "minorgridcolor": "white",
             "startlinecolor": "#2a3f5f"
            },
            "type": "carpet"
           }
          ],
          "choropleth": [
           {
            "colorbar": {
             "outlinewidth": 0,
             "ticks": ""
            },
            "type": "choropleth"
           }
          ],
          "contour": [
           {
            "colorbar": {
             "outlinewidth": 0,
             "ticks": ""
            },
            "colorscale": [
             [
              0,
              "#0d0887"
             ],
             [
              0.1111111111111111,
              "#46039f"
             ],
             [
              0.2222222222222222,
              "#7201a8"
             ],
             [
              0.3333333333333333,
              "#9c179e"
             ],
             [
              0.4444444444444444,
              "#bd3786"
             ],
             [
              0.5555555555555556,
              "#d8576b"
             ],
             [
              0.6666666666666666,
              "#ed7953"
             ],
             [
              0.7777777777777778,
              "#fb9f3a"
             ],
             [
              0.8888888888888888,
              "#fdca26"
             ],
             [
              1,
              "#f0f921"
             ]
            ],
            "type": "contour"
           }
          ],
          "contourcarpet": [
           {
            "colorbar": {
             "outlinewidth": 0,
             "ticks": ""
            },
            "type": "contourcarpet"
           }
          ],
          "heatmap": [
           {
            "colorbar": {
             "outlinewidth": 0,
             "ticks": ""
            },
            "colorscale": [
             [
              0,
              "#0d0887"
             ],
             [
              0.1111111111111111,
              "#46039f"
             ],
             [
              0.2222222222222222,
              "#7201a8"
             ],
             [
              0.3333333333333333,
              "#9c179e"
             ],
             [
              0.4444444444444444,
              "#bd3786"
             ],
             [
              0.5555555555555556,
              "#d8576b"
             ],
             [
              0.6666666666666666,
              "#ed7953"
             ],
             [
              0.7777777777777778,
              "#fb9f3a"
             ],
             [
              0.8888888888888888,
              "#fdca26"
             ],
             [
              1,
              "#f0f921"
             ]
            ],
            "type": "heatmap"
           }
          ],
          "heatmapgl": [
           {
            "colorbar": {
             "outlinewidth": 0,
             "ticks": ""
            },
            "colorscale": [
             [
              0,
              "#0d0887"
             ],
             [
              0.1111111111111111,
              "#46039f"
             ],
             [
              0.2222222222222222,
              "#7201a8"
             ],
             [
              0.3333333333333333,
              "#9c179e"
             ],
             [
              0.4444444444444444,
              "#bd3786"
             ],
             [
              0.5555555555555556,
              "#d8576b"
             ],
             [
              0.6666666666666666,
              "#ed7953"
             ],
             [
              0.7777777777777778,
              "#fb9f3a"
             ],
             [
              0.8888888888888888,
              "#fdca26"
             ],
             [
              1,
              "#f0f921"
             ]
            ],
            "type": "heatmapgl"
           }
          ],
          "histogram": [
           {
            "marker": {
             "pattern": {
              "fillmode": "overlay",
              "size": 10,
              "solidity": 0.2
             }
            },
            "type": "histogram"
           }
          ],
          "histogram2d": [
           {
            "colorbar": {
             "outlinewidth": 0,
             "ticks": ""
            },
            "colorscale": [
             [
              0,
              "#0d0887"
             ],
             [
              0.1111111111111111,
              "#46039f"
             ],
             [
              0.2222222222222222,
              "#7201a8"
             ],
             [
              0.3333333333333333,
              "#9c179e"
             ],
             [
              0.4444444444444444,
              "#bd3786"
             ],
             [
              0.5555555555555556,
              "#d8576b"
             ],
             [
              0.6666666666666666,
              "#ed7953"
             ],
             [
              0.7777777777777778,
              "#fb9f3a"
             ],
             [
              0.8888888888888888,
              "#fdca26"
             ],
             [
              1,
              "#f0f921"
             ]
            ],
            "type": "histogram2d"
           }
          ],
          "histogram2dcontour": [
           {
            "colorbar": {
             "outlinewidth": 0,
             "ticks": ""
            },
            "colorscale": [
             [
              0,
              "#0d0887"
             ],
             [
              0.1111111111111111,
              "#46039f"
             ],
             [
              0.2222222222222222,
              "#7201a8"
             ],
             [
              0.3333333333333333,
              "#9c179e"
             ],
             [
              0.4444444444444444,
              "#bd3786"
             ],
             [
              0.5555555555555556,
              "#d8576b"
             ],
             [
              0.6666666666666666,
              "#ed7953"
             ],
             [
              0.7777777777777778,
              "#fb9f3a"
             ],
             [
              0.8888888888888888,
              "#fdca26"
             ],
             [
              1,
              "#f0f921"
             ]
            ],
            "type": "histogram2dcontour"
           }
          ],
          "mesh3d": [
           {
            "colorbar": {
             "outlinewidth": 0,
             "ticks": ""
            },
            "type": "mesh3d"
           }
          ],
          "parcoords": [
           {
            "line": {
             "colorbar": {
              "outlinewidth": 0,
              "ticks": ""
             }
            },
            "type": "parcoords"
           }
          ],
          "pie": [
           {
            "automargin": true,
            "type": "pie"
           }
          ],
          "scatter": [
           {
            "fillpattern": {
             "fillmode": "overlay",
             "size": 10,
             "solidity": 0.2
            },
            "type": "scatter"
           }
          ],
          "scatter3d": [
           {
            "line": {
             "colorbar": {
              "outlinewidth": 0,
              "ticks": ""
             }
            },
            "marker": {
             "colorbar": {
              "outlinewidth": 0,
              "ticks": ""
             }
            },
            "type": "scatter3d"
           }
          ],
          "scattercarpet": [
           {
            "marker": {
             "colorbar": {
              "outlinewidth": 0,
              "ticks": ""
             }
            },
            "type": "scattercarpet"
           }
          ],
          "scattergeo": [
           {
            "marker": {
             "colorbar": {
              "outlinewidth": 0,
              "ticks": ""
             }
            },
            "type": "scattergeo"
           }
          ],
          "scattergl": [
           {
            "marker": {
             "colorbar": {
              "outlinewidth": 0,
              "ticks": ""
             }
            },
            "type": "scattergl"
           }
          ],
          "scattermapbox": [
           {
            "marker": {
             "colorbar": {
              "outlinewidth": 0,
              "ticks": ""
             }
            },
            "type": "scattermapbox"
           }
          ],
          "scatterpolar": [
           {
            "marker": {
             "colorbar": {
              "outlinewidth": 0,
              "ticks": ""
             }
            },
            "type": "scatterpolar"
           }
          ],
          "scatterpolargl": [
           {
            "marker": {
             "colorbar": {
              "outlinewidth": 0,
              "ticks": ""
             }
            },
            "type": "scatterpolargl"
           }
          ],
          "scatterternary": [
           {
            "marker": {
             "colorbar": {
              "outlinewidth": 0,
              "ticks": ""
             }
            },
            "type": "scatterternary"
           }
          ],
          "surface": [
           {
            "colorbar": {
             "outlinewidth": 0,
             "ticks": ""
            },
            "colorscale": [
             [
              0,
              "#0d0887"
             ],
             [
              0.1111111111111111,
              "#46039f"
             ],
             [
              0.2222222222222222,
              "#7201a8"
             ],
             [
              0.3333333333333333,
              "#9c179e"
             ],
             [
              0.4444444444444444,
              "#bd3786"
             ],
             [
              0.5555555555555556,
              "#d8576b"
             ],
             [
              0.6666666666666666,
              "#ed7953"
             ],
             [
              0.7777777777777778,
              "#fb9f3a"
             ],
             [
              0.8888888888888888,
              "#fdca26"
             ],
             [
              1,
              "#f0f921"
             ]
            ],
            "type": "surface"
           }
          ],
          "table": [
           {
            "cells": {
             "fill": {
              "color": "#EBF0F8"
             },
             "line": {
              "color": "white"
             }
            },
            "header": {
             "fill": {
              "color": "#C8D4E3"
             },
             "line": {
              "color": "white"
             }
            },
            "type": "table"
           }
          ]
         },
         "layout": {
          "annotationdefaults": {
           "arrowcolor": "#2a3f5f",
           "arrowhead": 0,
           "arrowwidth": 1
          },
          "autotypenumbers": "strict",
          "coloraxis": {
           "colorbar": {
            "outlinewidth": 0,
            "ticks": ""
           }
          },
          "colorscale": {
           "diverging": [
            [
             0,
             "#8e0152"
            ],
            [
             0.1,
             "#c51b7d"
            ],
            [
             0.2,
             "#de77ae"
            ],
            [
             0.3,
             "#f1b6da"
            ],
            [
             0.4,
             "#fde0ef"
            ],
            [
             0.5,
             "#f7f7f7"
            ],
            [
             0.6,
             "#e6f5d0"
            ],
            [
             0.7,
             "#b8e186"
            ],
            [
             0.8,
             "#7fbc41"
            ],
            [
             0.9,
             "#4d9221"
            ],
            [
             1,
             "#276419"
            ]
           ],
           "sequential": [
            [
             0,
             "#0d0887"
            ],
            [
             0.1111111111111111,
             "#46039f"
            ],
            [
             0.2222222222222222,
             "#7201a8"
            ],
            [
             0.3333333333333333,
             "#9c179e"
            ],
            [
             0.4444444444444444,
             "#bd3786"
            ],
            [
             0.5555555555555556,
             "#d8576b"
            ],
            [
             0.6666666666666666,
             "#ed7953"
            ],
            [
             0.7777777777777778,
             "#fb9f3a"
            ],
            [
             0.8888888888888888,
             "#fdca26"
            ],
            [
             1,
             "#f0f921"
            ]
           ],
           "sequentialminus": [
            [
             0,
             "#0d0887"
            ],
            [
             0.1111111111111111,
             "#46039f"
            ],
            [
             0.2222222222222222,
             "#7201a8"
            ],
            [
             0.3333333333333333,
             "#9c179e"
            ],
            [
             0.4444444444444444,
             "#bd3786"
            ],
            [
             0.5555555555555556,
             "#d8576b"
            ],
            [
             0.6666666666666666,
             "#ed7953"
            ],
            [
             0.7777777777777778,
             "#fb9f3a"
            ],
            [
             0.8888888888888888,
             "#fdca26"
            ],
            [
             1,
             "#f0f921"
            ]
           ]
          },
          "colorway": [
           "#636efa",
           "#EF553B",
           "#00cc96",
           "#ab63fa",
           "#FFA15A",
           "#19d3f3",
           "#FF6692",
           "#B6E880",
           "#FF97FF",
           "#FECB52"
          ],
          "font": {
           "color": "#2a3f5f"
          },
          "geo": {
           "bgcolor": "white",
           "lakecolor": "white",
           "landcolor": "#E5ECF6",
           "showlakes": true,
           "showland": true,
           "subunitcolor": "white"
          },
          "hoverlabel": {
           "align": "left"
          },
          "hovermode": "closest",
          "mapbox": {
           "style": "light"
          },
          "paper_bgcolor": "white",
          "plot_bgcolor": "#E5ECF6",
          "polar": {
           "angularaxis": {
            "gridcolor": "white",
            "linecolor": "white",
            "ticks": ""
           },
           "bgcolor": "#E5ECF6",
           "radialaxis": {
            "gridcolor": "white",
            "linecolor": "white",
            "ticks": ""
           }
          },
          "scene": {
           "xaxis": {
            "backgroundcolor": "#E5ECF6",
            "gridcolor": "white",
            "gridwidth": 2,
            "linecolor": "white",
            "showbackground": true,
            "ticks": "",
            "zerolinecolor": "white"
           },
           "yaxis": {
            "backgroundcolor": "#E5ECF6",
            "gridcolor": "white",
            "gridwidth": 2,
            "linecolor": "white",
            "showbackground": true,
            "ticks": "",
            "zerolinecolor": "white"
           },
           "zaxis": {
            "backgroundcolor": "#E5ECF6",
            "gridcolor": "white",
            "gridwidth": 2,
            "linecolor": "white",
            "showbackground": true,
            "ticks": "",
            "zerolinecolor": "white"
           }
          },
          "shapedefaults": {
           "line": {
            "color": "#2a3f5f"
           }
          },
          "ternary": {
           "aaxis": {
            "gridcolor": "white",
            "linecolor": "white",
            "ticks": ""
           },
           "baxis": {
            "gridcolor": "white",
            "linecolor": "white",
            "ticks": ""
           },
           "bgcolor": "#E5ECF6",
           "caxis": {
            "gridcolor": "white",
            "linecolor": "white",
            "ticks": ""
           }
          },
          "title": {
           "x": 0.05
          },
          "xaxis": {
           "automargin": true,
           "gridcolor": "white",
           "linecolor": "white",
           "ticks": "",
           "title": {
            "standoff": 15
           },
           "zerolinecolor": "white",
           "zerolinewidth": 2
          },
          "yaxis": {
           "automargin": true,
           "gridcolor": "white",
           "linecolor": "white",
           "ticks": "",
           "title": {
            "standoff": 15
           },
           "zerolinecolor": "white",
           "zerolinewidth": 2
          }
         }
        },
        "title": {
         "text": "b_y over time"
        },
        "xaxis": {
         "title": {
          "text": "Index"
         }
        },
        "yaxis": {
         "scaleanchor": "y",
         "title": {
          "text": "b_y [mT]"
         }
        }
       }
      }
     },
     "metadata": {},
     "output_type": "display_data"
    }
   ],
   "source": [
    "measuredby = go.Scatter(x=index, y=by7, mode='markers')\n",
    "layoutby = go.Layout(title='b_y over time')\n",
    "figby = go.Figure(data=[measuredby], layout=layoutby)\n",
    "figby.update_yaxes(scaleanchor='y')\n",
    "figby.update_layout(\n",
    "    xaxis_title=\"Index\",\n",
    "    yaxis_title=\"b_y [mT]\"\n",
    ")\n",
    "figby.show()"
   ]
  },
  {
   "cell_type": "code",
   "execution_count": 10,
   "metadata": {},
   "outputs": [
    {
     "data": {
      "application/vnd.plotly.v1+json": {
       "config": {
        "plotlyServerURL": "https://plot.ly"
       },
       "data": [
        {
         "mode": "markers",
         "type": "scatter",
         "x": [
          0,
          1,
          2,
          3,
          4,
          5,
          6,
          7,
          8,
          9,
          10,
          11,
          12,
          13,
          14,
          15,
          16,
          17,
          18,
          19,
          20,
          21,
          22,
          23,
          24,
          25,
          26,
          27,
          28,
          29,
          30,
          31,
          32,
          33,
          34,
          35,
          36,
          37,
          38,
          39,
          40,
          41,
          42,
          43,
          44,
          45,
          46,
          47,
          48,
          49,
          50,
          51,
          52,
          53,
          54,
          55,
          56,
          57,
          58,
          59,
          60,
          61,
          62,
          63,
          64,
          65,
          66,
          67,
          68,
          69,
          70,
          71,
          72,
          73,
          74,
          75,
          76,
          77,
          78,
          79,
          80,
          81,
          82,
          83,
          84,
          85,
          86,
          87,
          88,
          89,
          90,
          91,
          92,
          93,
          94,
          95,
          96,
          97,
          98,
          99,
          100,
          101,
          102,
          103,
          104,
          105,
          106,
          107,
          108,
          109,
          110,
          111,
          112,
          113,
          114,
          115,
          116,
          117,
          118,
          119,
          120,
          121,
          122,
          123,
          124,
          125,
          126,
          127,
          128,
          129,
          130,
          131,
          132,
          133,
          134,
          135,
          136,
          137,
          138,
          139,
          140,
          141,
          142,
          143,
          144,
          145,
          146,
          147,
          148,
          149,
          150,
          151,
          152,
          153,
          154,
          155,
          156,
          157,
          158,
          159,
          160,
          161,
          162,
          163,
          164,
          165,
          166,
          167,
          168,
          169,
          170,
          171,
          172,
          173,
          174,
          175,
          176,
          177,
          178,
          179,
          180,
          181,
          182,
          183,
          184,
          185,
          186,
          187,
          188,
          189,
          190,
          191,
          192,
          193,
          194,
          195,
          196,
          197,
          198,
          199,
          200,
          201,
          202,
          203,
          204,
          205,
          206,
          207,
          208,
          209,
          210,
          211,
          212,
          213,
          214,
          215,
          216,
          217,
          218,
          219,
          220,
          221,
          222,
          223,
          224,
          225,
          226,
          227,
          228,
          229,
          230,
          231,
          232,
          233,
          234,
          235,
          236,
          237,
          238,
          239,
          240,
          241,
          242,
          243,
          244,
          245,
          246,
          247,
          248,
          249,
          250,
          251,
          252,
          253,
          254,
          255,
          256,
          257,
          258,
          259,
          260,
          261,
          262,
          263,
          264,
          265,
          266,
          267,
          268,
          269,
          270,
          271,
          272,
          273,
          274,
          275,
          276,
          277,
          278,
          279,
          280,
          281,
          282,
          283,
          284,
          285,
          286,
          287,
          288,
          289,
          290,
          291,
          292,
          293,
          294,
          295,
          296,
          297,
          298,
          299,
          300,
          301,
          302,
          303,
          304,
          305,
          306,
          307,
          308,
          309,
          310,
          311,
          312,
          313,
          314,
          315,
          316,
          317,
          318,
          319,
          320,
          321,
          322,
          323,
          324,
          325,
          326,
          327,
          328,
          329,
          330,
          331,
          332,
          333,
          334,
          335,
          336,
          337,
          338,
          339,
          340,
          341,
          342,
          343,
          344,
          345,
          346,
          347,
          348,
          349,
          350,
          351,
          352,
          353,
          354,
          355,
          356,
          357,
          358,
          359,
          360,
          361,
          362,
          363,
          364,
          365,
          366,
          367,
          368,
          369,
          370,
          371,
          372,
          373,
          374,
          375,
          376,
          377,
          378,
          379,
          380,
          381,
          382,
          383,
          384,
          385,
          386,
          387,
          388,
          389,
          390,
          391,
          392,
          393,
          394,
          395,
          396,
          397,
          398,
          399,
          400,
          401,
          402,
          403,
          404,
          405,
          406,
          407,
          408,
          409,
          410,
          411,
          412,
          413,
          414,
          415,
          416,
          417,
          418,
          419,
          420,
          421,
          422,
          423,
          424,
          425,
          426,
          427,
          428,
          429,
          430,
          431,
          432,
          433,
          434,
          435,
          436,
          437,
          438,
          439,
          440,
          441,
          442,
          443,
          444,
          445,
          446,
          447,
          448,
          449,
          450,
          451,
          452,
          453,
          454,
          455,
          456,
          457,
          458,
          459,
          460,
          461,
          462,
          463,
          464,
          465,
          466,
          467,
          468,
          469,
          470,
          471,
          472,
          473,
          474,
          475,
          476,
          477,
          478,
          479,
          480,
          481,
          482,
          483,
          484,
          485,
          486,
          487,
          488,
          489,
          490,
          491,
          492,
          493,
          494,
          495,
          496,
          497,
          498,
          499,
          500,
          501,
          502,
          503,
          504,
          505,
          506,
          507,
          508,
          509,
          510,
          511,
          512,
          513,
          514,
          515,
          516,
          517,
          518,
          519,
          520,
          521,
          522,
          523,
          524,
          525,
          526,
          527,
          528,
          529,
          530,
          531,
          532,
          533,
          534,
          535,
          536,
          537,
          538,
          539,
          540,
          541,
          542,
          543,
          544,
          545,
          546,
          547,
          548,
          549,
          550,
          551,
          552,
          553,
          554,
          555,
          556,
          557,
          558,
          559,
          560,
          561,
          562,
          563,
          564,
          565,
          566,
          567,
          568,
          569,
          570,
          571,
          572,
          573,
          574,
          575,
          576,
          577,
          578,
          579,
          580,
          581,
          582,
          583,
          584,
          585,
          586,
          587,
          588,
          589,
          590,
          591,
          592,
          593,
          594,
          595,
          596,
          597,
          598,
          599,
          600,
          601,
          602,
          603,
          604,
          605,
          606,
          607,
          608,
          609,
          610,
          611,
          612,
          613,
          614,
          615,
          616,
          617,
          618,
          619,
          620,
          621,
          622,
          623,
          624,
          625,
          626,
          627,
          628,
          629,
          630,
          631,
          632,
          633,
          634,
          635,
          636,
          637,
          638,
          639,
          640,
          641,
          642,
          643,
          644,
          645,
          646,
          647,
          648,
          649,
          650,
          651,
          652,
          653,
          654,
          655
         ],
         "y": [
          0.80102,
          0.799568,
          0.7990839999999999,
          0.802956,
          0.8019879999999999,
          0.800052,
          0.8005359999999999,
          0.7986,
          0.8019879999999999,
          0.8005359999999999,
          0.8005359999999999,
          0.80102,
          0.7990839999999999,
          0.799568,
          0.8005359999999999,
          0.801504,
          0.80102,
          0.800052,
          0.7981159999999999,
          0.80102,
          0.800052,
          0.7986,
          0.7986,
          0.799568,
          0.8019879999999999,
          0.801504,
          0.80102,
          0.801504,
          0.8005359999999999,
          0.800052,
          0.800052,
          0.800052,
          0.800052,
          0.80102,
          0.800052,
          0.801504,
          0.80102,
          0.800052,
          0.800052,
          0.799568,
          0.7981159999999999,
          0.8005359999999999,
          0.8005359999999999,
          0.7981159999999999,
          0.8005359999999999,
          0.80102,
          0.8005359999999999,
          0.7990839999999999,
          0.801504,
          0.802956,
          0.7981159999999999,
          0.8019879999999999,
          0.80102,
          0.800052,
          0.8019879999999999,
          0.8005359999999999,
          0.800052,
          0.7971480000000001,
          0.799568,
          0.8005359999999999,
          0.801504,
          0.800052,
          0.80102,
          0.8005359999999999,
          0.80102,
          0.800052,
          0.8005359999999999,
          0.800052,
          0.80102,
          0.7986,
          0.7981159999999999,
          0.80102,
          0.800052,
          0.7981159999999999,
          0.7990839999999999,
          0.7981159999999999,
          0.80102,
          0.799568,
          0.800052,
          0.8019879999999999,
          0.80102,
          0.7986,
          0.80102,
          0.8005359999999999,
          0.802472,
          0.799568,
          0.7986,
          0.7990839999999999,
          0.800052,
          0.8019879999999999,
          0.7976319999999999,
          0.801504,
          0.8005359999999999,
          0.800052,
          0.801504,
          0.799568,
          0.796664,
          0.80102,
          0.8005359999999999,
          0.7990839999999999,
          0.7990839999999999,
          0.801504,
          0.7971480000000001,
          0.8005359999999999,
          0.8005359999999999,
          0.7976319999999999,
          0.8005359999999999,
          0.7981159999999999,
          0.80102,
          0.799568,
          0.8005359999999999,
          0.80102,
          0.8005359999999999,
          0.802472,
          0.7976319999999999,
          0.7990839999999999,
          0.8005359999999999,
          0.7990839999999999,
          0.8005359999999999,
          0.8005359999999999,
          0.7971480000000001,
          0.8005359999999999,
          0.80102,
          0.799568,
          0.7990839999999999,
          0.80102,
          0.8005359999999999,
          0.7981159999999999,
          0.7976319999999999,
          0.7990839999999999,
          0.7986,
          0.80102,
          0.8005359999999999,
          0.799568,
          0.800052,
          0.7990839999999999,
          0.8005359999999999,
          0.7986,
          0.802956,
          0.8005359999999999,
          0.801504,
          0.7956960000000001,
          0.7981159999999999,
          0.799568,
          0.799568,
          0.7976319999999999,
          0.800052,
          0.799568,
          0.802472,
          0.80102,
          0.800052,
          0.8005359999999999,
          0.8019879999999999,
          0.7981159999999999,
          0.799568,
          0.8005359999999999,
          0.8034399999999999,
          0.800052,
          0.7986,
          0.80102,
          0.8005359999999999,
          0.800052,
          0.800052,
          0.799568,
          0.801504,
          0.7976319999999999,
          0.799568,
          0.796664,
          0.7990839999999999,
          0.7971480000000001,
          0.7981159999999999,
          0.7981159999999999,
          0.7981159999999999,
          0.7986,
          0.80102,
          0.800052,
          0.80102,
          0.80102,
          0.799568,
          0.796664,
          0.7981159999999999,
          0.8005359999999999,
          0.7990839999999999,
          0.7990839999999999,
          0.7976319999999999,
          0.8019879999999999,
          0.800052,
          0.800052,
          0.801504,
          0.7981159999999999,
          0.7976319999999999,
          0.7971480000000001,
          0.799568,
          0.800052,
          0.7981159999999999,
          0.8005359999999999,
          0.8005359999999999,
          0.801504,
          0.8019879999999999,
          0.7986,
          0.800052,
          0.7971480000000001,
          0.799568,
          0.799568,
          0.799568,
          0.8005359999999999,
          0.8019879999999999,
          0.7976319999999999,
          0.800052,
          0.8005359999999999,
          0.7976319999999999,
          0.799568,
          0.7990839999999999,
          0.7986,
          0.8005359999999999,
          0.7971480000000001,
          0.7986,
          0.7976319999999999,
          0.799568,
          0.800052,
          0.7990839999999999,
          0.7981159999999999,
          0.7981159999999999,
          0.7981159999999999,
          0.7976319999999999,
          0.80102,
          0.7990839999999999,
          0.7990839999999999,
          0.800052,
          0.7990839999999999,
          0.7990839999999999,
          0.8005359999999999,
          0.7981159999999999,
          0.801504,
          0.799568,
          0.7990839999999999,
          0.796664,
          0.80102,
          0.801504,
          0.80102,
          0.8005359999999999,
          0.799568,
          0.8019879999999999,
          0.80102,
          0.800052,
          0.7990839999999999,
          0.8005359999999999,
          0.7990839999999999,
          0.7976319999999999,
          0.8005359999999999,
          0.7990839999999999,
          0.800052,
          0.7986,
          0.7986,
          0.7986,
          0.800052,
          0.7990839999999999,
          0.800052,
          0.7986,
          0.819896,
          0.833932,
          0.82038,
          0.8048919999999999,
          0.516428,
          0.443828,
          0.41720799999999997,
          0.44044,
          0.43995599999999996,
          0.43850399999999995,
          0.440924,
          0.441892,
          0.43850399999999995,
          0.440924,
          0.441892,
          0.43995599999999996,
          0.438988,
          0.44286000000000003,
          0.43995599999999996,
          0.441408,
          0.441892,
          0.439472,
          0.439472,
          0.439472,
          0.44044,
          0.440924,
          0.44044,
          0.439472,
          0.440924,
          0.43995599999999996,
          0.441408,
          0.44044,
          0.438988,
          0.439472,
          0.43995599999999996,
          0.45253999999999994,
          0.565312,
          0.683408,
          0.6824399999999999,
          0.681956,
          0.6824399999999999,
          0.681472,
          0.681956,
          0.6838919999999999,
          0.6824399999999999,
          0.681956,
          0.68002,
          0.6795359999999999,
          0.682924,
          0.680504,
          0.683408,
          0.6824399999999999,
          0.683408,
          0.681956,
          0.682924,
          0.681956,
          0.6824399999999999,
          0.681472,
          0.679052,
          0.681472,
          0.684376,
          0.680504,
          0.682924,
          0.6766319999999999,
          0.755524,
          0.77924,
          0.827156,
          1.032372,
          0.990264,
          0.98978,
          0.992684,
          0.991232,
          0.990264,
          0.98736,
          0.9317,
          0.973808,
          0.961224,
          0.9713879999999999,
          0.969452,
          0.972356,
          0.9713879999999999,
          0.971872,
          0.973324,
          0.972356,
          0.9742919999999999,
          0.971872,
          0.9689679999999999,
          0.9699359999999999,
          1.01398,
          1.0043,
          1.0594759999999999,
          1.146112,
          1.1804759999999999,
          1.215324,
          1.2351679999999998,
          1.284052,
          1.196932,
          1.196448,
          0.8450639999999999,
          0.731808,
          0.574024,
          0.485452,
          0.40656,
          0.449636,
          0.6171,
          0.709544,
          0.73326,
          0.802956,
          0.808764,
          0.8169919999999999,
          0.828124,
          0.8344159999999999,
          0.867812,
          0.894432,
          0.895884,
          0.8934639999999999,
          0.8954,
          0.895884,
          0.897336,
          0.893948,
          0.893948,
          0.8920119999999999,
          0.8954,
          0.893948,
          0.8954,
          0.894432,
          0.8949159999999999,
          0.894432,
          0.8934639999999999,
          0.8954,
          0.8934639999999999,
          0.8963679999999999,
          0.893948,
          0.894432,
          0.891044,
          0.8949159999999999,
          0.8954,
          0.8934639999999999,
          0.895884,
          0.8949159999999999,
          0.90024,
          0.923472,
          1.012044,
          0.901692,
          0.77924,
          1.221616,
          1.215808,
          1.453936,
          1.404568,
          1.407956,
          1.406504,
          1.407472,
          1.408924,
          1.4084400000000001,
          1.4069880000000001,
          1.4084400000000001,
          1.406504,
          1.40602,
          1.411828,
          1.402148,
          1.2985719999999998,
          1.251624,
          1.2603360000000001,
          1.213872,
          1.1698279999999999,
          0.78892,
          0.840224,
          1.278244,
          1.278244,
          1.252108,
          1.256948,
          1.2908279999999999,
          1.4069880000000001,
          1.4829759999999998,
          1.496528,
          1.5851,
          1.5696119999999998,
          1.5705799999999999,
          1.490236,
          1.423444,
          1.281632,
          1.1127159999999998,
          1.108844,
          1.196932,
          1.274856,
          1.287924,
          1.3256759999999999,
          1.320352,
          0.9646119999999999,
          0.927828,
          0.867812,
          0.80102,
          0.807796,
          0.823284,
          0.8445799999999999,
          0.8503879999999999,
          0.7990839999999999,
          0.80586,
          0.836836,
          0.80102,
          0.667436,
          0.41575599999999996,
          0.435116,
          0.431728,
          0.436084,
          0.434148,
          0.433664,
          0.43269599999999997,
          0.43318,
          0.43269599999999997,
          0.43318,
          0.43269599999999997,
          0.43269599999999997,
          0.43318,
          0.431728,
          0.432212,
          0.434148,
          0.432212,
          0.43124399999999996,
          0.432212,
          0.431728,
          0.431728,
          0.43269599999999997,
          0.43269599999999997,
          0.432212,
          0.441408,
          0.472384,
          0.46706,
          0.5701519999999999,
          0.5706359999999999,
          0.6016119999999999,
          0.611776,
          0.613228,
          0.587092,
          0.582736,
          0.520784,
          0.6151639999999999,
          0.545468,
          0.441408,
          0.536272,
          0.525624,
          0.404624,
          0.37074399999999996,
          0.381876,
          0.344124,
          0.330572,
          0.480128,
          0.485936,
          0.444312,
          0.434632,
          0.410916,
          0.395912,
          0.3751,
          0.36203199999999996,
          0.340252,
          0.337832,
          0.334444,
          0.30830799999999997,
          0.371712,
          0.34121999999999997,
          0.27926799999999996,
          0.240064,
          0.168432,
          0.18392,
          0.168916,
          0.166012,
          0.20812,
          0.234256,
          0.236676,
          0.235708,
          0.22506,
          0.23473999999999998,
          0.243936,
          0.250712,
          0.257488,
          0.26862,
          0.257488,
          0.233288,
          0.23232,
          0.240064,
          0.24587199999999998,
          0.24490399999999998,
          0.234256,
          0.23038399999999998,
          0.24248399999999998,
          0.230868,
          0.236676,
          0.229416,
          0.233288,
          0.263296,
          0.261844,
          0.262812,
          0.261844,
          0.2541,
          0.249744,
          0.2541,
          0.257488,
          0.25506799999999996,
          0.25506799999999996,
          0.245388,
          0.237644,
          0.237644,
          0.23038399999999998,
          0.225544,
          0.22022,
          0.22506,
          0.238612,
          0.24442,
          0.260876,
          0.264264,
          0.265716,
          0.26523199999999997,
          0.262812,
          0.230868,
          0.23716,
          0.23716,
          0.22602799999999998,
          0.23038399999999998,
          0.22844799999999998,
          0.21828399999999998,
          0.21295999999999998,
          0.22022,
          0.248292,
          0.261844,
          0.260392,
          0.247808,
          0.27055599999999996,
          0.271524,
          0.272492,
          0.269104,
          0.27055599999999996,
          0.27200799999999997,
          0.27200799999999997,
          0.270072,
          0.27346,
          0.272492,
          0.272492,
          0.270072,
          0.27103999999999995,
          0.26958799999999994,
          0.27103999999999995,
          0.272492,
          0.27055599999999996,
          0.271524,
          0.272492,
          0.269104,
          0.27200799999999997,
          0.27055599999999996,
          0.270072,
          0.270072,
          0.271524,
          0.26958799999999994,
          0.26958799999999994,
          0.27103999999999995,
          0.27200799999999997,
          0.272492,
          0.26958799999999994,
          0.274428,
          0.27200799999999997,
          0.269104,
          0.27200799999999997,
          0.27200799999999997,
          0.271524,
          0.27103999999999995,
          0.27200799999999997,
          0.261844,
          0.2783,
          0.23812799999999998,
          0.227964,
          0.24103199999999997,
          0.351868,
          0.42737200000000003,
          0.357192,
          0.31701999999999997,
          0.31605199999999994,
          0.3146,
          0.34799599999999997,
          0.521752,
          0.648076,
          0.71874,
          0.623392,
          0.55902,
          0.5507920000000001,
          0.4598,
          0.435116,
          0.434148,
          0.434632,
          0.4356,
          0.434148,
          0.434148,
          0.434632,
          0.433664,
          0.434632,
          0.435116,
          0.435116,
          0.435116,
          0.434632
         ]
        }
       ],
       "layout": {
        "template": {
         "data": {
          "bar": [
           {
            "error_x": {
             "color": "#2a3f5f"
            },
            "error_y": {
             "color": "#2a3f5f"
            },
            "marker": {
             "line": {
              "color": "#E5ECF6",
              "width": 0.5
             },
             "pattern": {
              "fillmode": "overlay",
              "size": 10,
              "solidity": 0.2
             }
            },
            "type": "bar"
           }
          ],
          "barpolar": [
           {
            "marker": {
             "line": {
              "color": "#E5ECF6",
              "width": 0.5
             },
             "pattern": {
              "fillmode": "overlay",
              "size": 10,
              "solidity": 0.2
             }
            },
            "type": "barpolar"
           }
          ],
          "carpet": [
           {
            "aaxis": {
             "endlinecolor": "#2a3f5f",
             "gridcolor": "white",
             "linecolor": "white",
             "minorgridcolor": "white",
             "startlinecolor": "#2a3f5f"
            },
            "baxis": {
             "endlinecolor": "#2a3f5f",
             "gridcolor": "white",
             "linecolor": "white",
             "minorgridcolor": "white",
             "startlinecolor": "#2a3f5f"
            },
            "type": "carpet"
           }
          ],
          "choropleth": [
           {
            "colorbar": {
             "outlinewidth": 0,
             "ticks": ""
            },
            "type": "choropleth"
           }
          ],
          "contour": [
           {
            "colorbar": {
             "outlinewidth": 0,
             "ticks": ""
            },
            "colorscale": [
             [
              0,
              "#0d0887"
             ],
             [
              0.1111111111111111,
              "#46039f"
             ],
             [
              0.2222222222222222,
              "#7201a8"
             ],
             [
              0.3333333333333333,
              "#9c179e"
             ],
             [
              0.4444444444444444,
              "#bd3786"
             ],
             [
              0.5555555555555556,
              "#d8576b"
             ],
             [
              0.6666666666666666,
              "#ed7953"
             ],
             [
              0.7777777777777778,
              "#fb9f3a"
             ],
             [
              0.8888888888888888,
              "#fdca26"
             ],
             [
              1,
              "#f0f921"
             ]
            ],
            "type": "contour"
           }
          ],
          "contourcarpet": [
           {
            "colorbar": {
             "outlinewidth": 0,
             "ticks": ""
            },
            "type": "contourcarpet"
           }
          ],
          "heatmap": [
           {
            "colorbar": {
             "outlinewidth": 0,
             "ticks": ""
            },
            "colorscale": [
             [
              0,
              "#0d0887"
             ],
             [
              0.1111111111111111,
              "#46039f"
             ],
             [
              0.2222222222222222,
              "#7201a8"
             ],
             [
              0.3333333333333333,
              "#9c179e"
             ],
             [
              0.4444444444444444,
              "#bd3786"
             ],
             [
              0.5555555555555556,
              "#d8576b"
             ],
             [
              0.6666666666666666,
              "#ed7953"
             ],
             [
              0.7777777777777778,
              "#fb9f3a"
             ],
             [
              0.8888888888888888,
              "#fdca26"
             ],
             [
              1,
              "#f0f921"
             ]
            ],
            "type": "heatmap"
           }
          ],
          "heatmapgl": [
           {
            "colorbar": {
             "outlinewidth": 0,
             "ticks": ""
            },
            "colorscale": [
             [
              0,
              "#0d0887"
             ],
             [
              0.1111111111111111,
              "#46039f"
             ],
             [
              0.2222222222222222,
              "#7201a8"
             ],
             [
              0.3333333333333333,
              "#9c179e"
             ],
             [
              0.4444444444444444,
              "#bd3786"
             ],
             [
              0.5555555555555556,
              "#d8576b"
             ],
             [
              0.6666666666666666,
              "#ed7953"
             ],
             [
              0.7777777777777778,
              "#fb9f3a"
             ],
             [
              0.8888888888888888,
              "#fdca26"
             ],
             [
              1,
              "#f0f921"
             ]
            ],
            "type": "heatmapgl"
           }
          ],
          "histogram": [
           {
            "marker": {
             "pattern": {
              "fillmode": "overlay",
              "size": 10,
              "solidity": 0.2
             }
            },
            "type": "histogram"
           }
          ],
          "histogram2d": [
           {
            "colorbar": {
             "outlinewidth": 0,
             "ticks": ""
            },
            "colorscale": [
             [
              0,
              "#0d0887"
             ],
             [
              0.1111111111111111,
              "#46039f"
             ],
             [
              0.2222222222222222,
              "#7201a8"
             ],
             [
              0.3333333333333333,
              "#9c179e"
             ],
             [
              0.4444444444444444,
              "#bd3786"
             ],
             [
              0.5555555555555556,
              "#d8576b"
             ],
             [
              0.6666666666666666,
              "#ed7953"
             ],
             [
              0.7777777777777778,
              "#fb9f3a"
             ],
             [
              0.8888888888888888,
              "#fdca26"
             ],
             [
              1,
              "#f0f921"
             ]
            ],
            "type": "histogram2d"
           }
          ],
          "histogram2dcontour": [
           {
            "colorbar": {
             "outlinewidth": 0,
             "ticks": ""
            },
            "colorscale": [
             [
              0,
              "#0d0887"
             ],
             [
              0.1111111111111111,
              "#46039f"
             ],
             [
              0.2222222222222222,
              "#7201a8"
             ],
             [
              0.3333333333333333,
              "#9c179e"
             ],
             [
              0.4444444444444444,
              "#bd3786"
             ],
             [
              0.5555555555555556,
              "#d8576b"
             ],
             [
              0.6666666666666666,
              "#ed7953"
             ],
             [
              0.7777777777777778,
              "#fb9f3a"
             ],
             [
              0.8888888888888888,
              "#fdca26"
             ],
             [
              1,
              "#f0f921"
             ]
            ],
            "type": "histogram2dcontour"
           }
          ],
          "mesh3d": [
           {
            "colorbar": {
             "outlinewidth": 0,
             "ticks": ""
            },
            "type": "mesh3d"
           }
          ],
          "parcoords": [
           {
            "line": {
             "colorbar": {
              "outlinewidth": 0,
              "ticks": ""
             }
            },
            "type": "parcoords"
           }
          ],
          "pie": [
           {
            "automargin": true,
            "type": "pie"
           }
          ],
          "scatter": [
           {
            "fillpattern": {
             "fillmode": "overlay",
             "size": 10,
             "solidity": 0.2
            },
            "type": "scatter"
           }
          ],
          "scatter3d": [
           {
            "line": {
             "colorbar": {
              "outlinewidth": 0,
              "ticks": ""
             }
            },
            "marker": {
             "colorbar": {
              "outlinewidth": 0,
              "ticks": ""
             }
            },
            "type": "scatter3d"
           }
          ],
          "scattercarpet": [
           {
            "marker": {
             "colorbar": {
              "outlinewidth": 0,
              "ticks": ""
             }
            },
            "type": "scattercarpet"
           }
          ],
          "scattergeo": [
           {
            "marker": {
             "colorbar": {
              "outlinewidth": 0,
              "ticks": ""
             }
            },
            "type": "scattergeo"
           }
          ],
          "scattergl": [
           {
            "marker": {
             "colorbar": {
              "outlinewidth": 0,
              "ticks": ""
             }
            },
            "type": "scattergl"
           }
          ],
          "scattermapbox": [
           {
            "marker": {
             "colorbar": {
              "outlinewidth": 0,
              "ticks": ""
             }
            },
            "type": "scattermapbox"
           }
          ],
          "scatterpolar": [
           {
            "marker": {
             "colorbar": {
              "outlinewidth": 0,
              "ticks": ""
             }
            },
            "type": "scatterpolar"
           }
          ],
          "scatterpolargl": [
           {
            "marker": {
             "colorbar": {
              "outlinewidth": 0,
              "ticks": ""
             }
            },
            "type": "scatterpolargl"
           }
          ],
          "scatterternary": [
           {
            "marker": {
             "colorbar": {
              "outlinewidth": 0,
              "ticks": ""
             }
            },
            "type": "scatterternary"
           }
          ],
          "surface": [
           {
            "colorbar": {
             "outlinewidth": 0,
             "ticks": ""
            },
            "colorscale": [
             [
              0,
              "#0d0887"
             ],
             [
              0.1111111111111111,
              "#46039f"
             ],
             [
              0.2222222222222222,
              "#7201a8"
             ],
             [
              0.3333333333333333,
              "#9c179e"
             ],
             [
              0.4444444444444444,
              "#bd3786"
             ],
             [
              0.5555555555555556,
              "#d8576b"
             ],
             [
              0.6666666666666666,
              "#ed7953"
             ],
             [
              0.7777777777777778,
              "#fb9f3a"
             ],
             [
              0.8888888888888888,
              "#fdca26"
             ],
             [
              1,
              "#f0f921"
             ]
            ],
            "type": "surface"
           }
          ],
          "table": [
           {
            "cells": {
             "fill": {
              "color": "#EBF0F8"
             },
             "line": {
              "color": "white"
             }
            },
            "header": {
             "fill": {
              "color": "#C8D4E3"
             },
             "line": {
              "color": "white"
             }
            },
            "type": "table"
           }
          ]
         },
         "layout": {
          "annotationdefaults": {
           "arrowcolor": "#2a3f5f",
           "arrowhead": 0,
           "arrowwidth": 1
          },
          "autotypenumbers": "strict",
          "coloraxis": {
           "colorbar": {
            "outlinewidth": 0,
            "ticks": ""
           }
          },
          "colorscale": {
           "diverging": [
            [
             0,
             "#8e0152"
            ],
            [
             0.1,
             "#c51b7d"
            ],
            [
             0.2,
             "#de77ae"
            ],
            [
             0.3,
             "#f1b6da"
            ],
            [
             0.4,
             "#fde0ef"
            ],
            [
             0.5,
             "#f7f7f7"
            ],
            [
             0.6,
             "#e6f5d0"
            ],
            [
             0.7,
             "#b8e186"
            ],
            [
             0.8,
             "#7fbc41"
            ],
            [
             0.9,
             "#4d9221"
            ],
            [
             1,
             "#276419"
            ]
           ],
           "sequential": [
            [
             0,
             "#0d0887"
            ],
            [
             0.1111111111111111,
             "#46039f"
            ],
            [
             0.2222222222222222,
             "#7201a8"
            ],
            [
             0.3333333333333333,
             "#9c179e"
            ],
            [
             0.4444444444444444,
             "#bd3786"
            ],
            [
             0.5555555555555556,
             "#d8576b"
            ],
            [
             0.6666666666666666,
             "#ed7953"
            ],
            [
             0.7777777777777778,
             "#fb9f3a"
            ],
            [
             0.8888888888888888,
             "#fdca26"
            ],
            [
             1,
             "#f0f921"
            ]
           ],
           "sequentialminus": [
            [
             0,
             "#0d0887"
            ],
            [
             0.1111111111111111,
             "#46039f"
            ],
            [
             0.2222222222222222,
             "#7201a8"
            ],
            [
             0.3333333333333333,
             "#9c179e"
            ],
            [
             0.4444444444444444,
             "#bd3786"
            ],
            [
             0.5555555555555556,
             "#d8576b"
            ],
            [
             0.6666666666666666,
             "#ed7953"
            ],
            [
             0.7777777777777778,
             "#fb9f3a"
            ],
            [
             0.8888888888888888,
             "#fdca26"
            ],
            [
             1,
             "#f0f921"
            ]
           ]
          },
          "colorway": [
           "#636efa",
           "#EF553B",
           "#00cc96",
           "#ab63fa",
           "#FFA15A",
           "#19d3f3",
           "#FF6692",
           "#B6E880",
           "#FF97FF",
           "#FECB52"
          ],
          "font": {
           "color": "#2a3f5f"
          },
          "geo": {
           "bgcolor": "white",
           "lakecolor": "white",
           "landcolor": "#E5ECF6",
           "showlakes": true,
           "showland": true,
           "subunitcolor": "white"
          },
          "hoverlabel": {
           "align": "left"
          },
          "hovermode": "closest",
          "mapbox": {
           "style": "light"
          },
          "paper_bgcolor": "white",
          "plot_bgcolor": "#E5ECF6",
          "polar": {
           "angularaxis": {
            "gridcolor": "white",
            "linecolor": "white",
            "ticks": ""
           },
           "bgcolor": "#E5ECF6",
           "radialaxis": {
            "gridcolor": "white",
            "linecolor": "white",
            "ticks": ""
           }
          },
          "scene": {
           "xaxis": {
            "backgroundcolor": "#E5ECF6",
            "gridcolor": "white",
            "gridwidth": 2,
            "linecolor": "white",
            "showbackground": true,
            "ticks": "",
            "zerolinecolor": "white"
           },
           "yaxis": {
            "backgroundcolor": "#E5ECF6",
            "gridcolor": "white",
            "gridwidth": 2,
            "linecolor": "white",
            "showbackground": true,
            "ticks": "",
            "zerolinecolor": "white"
           },
           "zaxis": {
            "backgroundcolor": "#E5ECF6",
            "gridcolor": "white",
            "gridwidth": 2,
            "linecolor": "white",
            "showbackground": true,
            "ticks": "",
            "zerolinecolor": "white"
           }
          },
          "shapedefaults": {
           "line": {
            "color": "#2a3f5f"
           }
          },
          "ternary": {
           "aaxis": {
            "gridcolor": "white",
            "linecolor": "white",
            "ticks": ""
           },
           "baxis": {
            "gridcolor": "white",
            "linecolor": "white",
            "ticks": ""
           },
           "bgcolor": "#E5ECF6",
           "caxis": {
            "gridcolor": "white",
            "linecolor": "white",
            "ticks": ""
           }
          },
          "title": {
           "x": 0.05
          },
          "xaxis": {
           "automargin": true,
           "gridcolor": "white",
           "linecolor": "white",
           "ticks": "",
           "title": {
            "standoff": 15
           },
           "zerolinecolor": "white",
           "zerolinewidth": 2
          },
          "yaxis": {
           "automargin": true,
           "gridcolor": "white",
           "linecolor": "white",
           "ticks": "",
           "title": {
            "standoff": 15
           },
           "zerolinecolor": "white",
           "zerolinewidth": 2
          }
         }
        },
        "title": {
         "text": "b_z over time"
        },
        "xaxis": {
         "title": {
          "text": "Index"
         }
        },
        "yaxis": {
         "scaleanchor": "y",
         "title": {
          "text": "b_z [mT]"
         }
        }
       }
      }
     },
     "metadata": {},
     "output_type": "display_data"
    }
   ],
   "source": [
    "measuredbz = go.Scatter(x=index, y=bz7, mode='markers')\n",
    "layoutbz = go.Layout(title='b_z over time')\n",
    "figbz = go.Figure(data=[measuredbz], layout=layoutbz)\n",
    "figbz.update_yaxes(scaleanchor='y')\n",
    "figbz.update_layout(\n",
    "    xaxis_title=\"Index\",\n",
    "    yaxis_title=\"b_z [mT]\"\n",
    ")\n",
    "figbz.show()"
   ]
  },
  {
   "cell_type": "code",
   "execution_count": 11,
   "metadata": {},
   "outputs": [
    {
     "name": "stdout",
     "output_type": "stream",
     "text": [
      "                       Time     X     Y     Z  Displacement [mm]  \\\n",
      "6   2024-09-30 14:21:38.224 -0.00 -0.00 -0.02               0.02   \n",
      "7   2024-09-30 14:21:38.724 -0.02 -0.01  0.01               0.02   \n",
      "8   2024-09-30 14:21:39.240 -0.03 -0.01 -0.00               0.03   \n",
      "9   2024-09-30 14:21:39.754 -0.02 -0.01  0.02               0.03   \n",
      "10  2024-09-30 14:21:40.269 -0.03  0.02  0.07               0.07   \n",
      "..                      ...   ...   ...   ...                ...   \n",
      "978 2024-09-30 14:30:05.445 -3.05 -0.17  0.75               3.14   \n",
      "979 2024-09-30 14:30:05.963 -3.05 -0.16  0.72               3.14   \n",
      "980 2024-09-30 14:30:06.476 -3.06 -0.16  0.73               3.15   \n",
      "981 2024-09-30 14:30:06.976 -3.06 -0.19  0.71               3.15   \n",
      "982 2024-09-30 14:30:07.493 -3.07 -0.15  0.80               3.17   \n",
      "\n",
      "            datetime  \n",
      "6    14:21:38.224000  \n",
      "7    14:21:38.724000  \n",
      "8    14:21:39.240000  \n",
      "9    14:21:39.754000  \n",
      "10   14:21:40.269000  \n",
      "..               ...  \n",
      "978  14:30:05.445000  \n",
      "979  14:30:05.963000  \n",
      "980  14:30:06.476000  \n",
      "981  14:30:06.976000  \n",
      "982  14:30:07.493000  \n",
      "\n",
      "[975 rows x 6 columns]\n",
      "6     2024-09-30 14:21:38.224\n",
      "7     2024-09-30 14:21:38.724\n",
      "8     2024-09-30 14:21:39.240\n",
      "9     2024-09-30 14:21:39.754\n",
      "10    2024-09-30 14:21:40.269\n",
      "                ...          \n",
      "978   2024-09-30 14:30:05.445\n",
      "979   2024-09-30 14:30:05.963\n",
      "980   2024-09-30 14:30:06.476\n",
      "981   2024-09-30 14:30:06.976\n",
      "982   2024-09-30 14:30:07.493\n",
      "Name: Time, Length: 975, dtype: datetime64[ns]\n"
     ]
    }
   ],
   "source": [
    "# Specify the Excel file name (replace with your actual file name)\n",
    "file = 'Shift_data_09302024gk.txt'\n",
    "\n",
    "# Create the full file path\n",
    "file_path = os.path.join('..', file)\n",
    "\n",
    "# Read the Excel file into a pandas DataFrame\n",
    "df = pd.read_csv(file_path, delimiter=',', na_values=\"        NaN\")\n",
    "\n",
    "df.dropna(inplace=True)\n",
    "df[['X', 'Y', 'Z', 'Displacement [mm]']] = df[['X', 'Y', 'Z', 'Displacement [mm]']].apply(pd.to_numeric,errors='coerce')\n",
    "df['Time'] = pd.to_datetime(df['Time'], format='%Y-%m-%dT%H:%M:%S.%f')\n",
    "df['datetime'] = df.loc[0:,'Time'].dt.time\n",
    "\n",
    "\n",
    "print(df)\n",
    "hdmm_time = df['Time']\n",
    "hdmm_disp = df.loc[0:,'Displacement [mm]']\n",
    "hdmm_x = df.loc[0:, 'X']\n",
    "hdmm_y = df.loc[0:, 'Y']\n",
    "hdmm_z = df.loc[0:, 'Z']\n",
    "print(hdmm_time)"
   ]
  },
  {
   "cell_type": "code",
   "execution_count": 12,
   "metadata": {},
   "outputs": [
    {
     "data": {
      "text/plain": [
       "6     2024-09-30 14:21:38.224\n",
       "7     2024-09-30 14:21:38.724\n",
       "8     2024-09-30 14:21:39.240\n",
       "9     2024-09-30 14:21:39.754\n",
       "10    2024-09-30 14:21:40.269\n",
       "                ...          \n",
       "978   2024-09-30 14:30:05.445\n",
       "979   2024-09-30 14:30:05.963\n",
       "980   2024-09-30 14:30:06.476\n",
       "981   2024-09-30 14:30:06.976\n",
       "982   2024-09-30 14:30:07.493\n",
       "Name: Time, Length: 975, dtype: datetime64[ns]"
      ]
     },
     "execution_count": 12,
     "metadata": {},
     "output_type": "execute_result"
    }
   ],
   "source": [
    "hdmm_time"
   ]
  },
  {
   "cell_type": "code",
   "execution_count": 13,
   "metadata": {},
   "outputs": [
    {
     "data": {
      "image/png": "[encoded data removed]",
      "text/plain": [
       "<Figure size 800x600 with 1 Axes>"
      ]
     },
     "metadata": {},
     "output_type": "display_data"
    }
   ],
   "source": [
    "rel_loc_predx = [x - locpred[0,0] for x in locpred[:,0]]\n",
    "rel_loc_predy = [x - locpred[0,1] for x in locpred[:,1]]\n",
    "rel_loc_predz = [x - locpred[0,2] for x in locpred[:,2]]\n",
    "\n",
    "\n",
    "dispx = np.array(rel_loc_predx)\n",
    "dispy = np.array(rel_loc_predy)\n",
    "dispz = np.array(rel_loc_predz)\n",
    "disp = np.sqrt(dispx**2+dispy**2+dispz**2)\n",
    "\n",
    "# Plotting\n",
    "plt.figure(figsize=(8, 6))\n",
    "plt.scatter(corrected_timestamps, disp, label='MLX')\n",
    "plt.scatter(hdmm_time, hdmm_disp, label='HDMM')\n",
    "#plt.scatter(hdmm_time[a:b], hdmm_disp2)\n",
    "# Set x-axis labels to show only the time\n",
    "# Format the x-axis to show date and time properly\n",
    "plt.gcf().autofmt_xdate()  # Auto-format the dates on the x-axis\n",
    "plt.xlabel('Timestamp')\n",
    "plt.ylabel('Total Displacement (mm)')\n",
    "plt.title('Total Displacement')\n",
    "plt.legend()\n",
    "plt.grid(True)\n",
    "plt.show()"
   ]
  },
  {
   "cell_type": "code",
   "execution_count": 14,
   "metadata": {},
   "outputs": [
    {
     "data": {
      "image/png": "[encoded data removed]",
      "text/plain": [
       "<Figure size 800x600 with 1 Axes>"
      ]
     },
     "metadata": {},
     "output_type": "display_data"
    }
   ],
   "source": [
    "# Plotting\n",
    "plt.figure(figsize=(8, 6))\n",
    "plt.scatter(corrected_timestamps, rel_loc_predy, label='MLX')\n",
    "plt.scatter(hdmm_time, hdmm_x, label='HDMM')\n",
    "plt.gcf().autofmt_xdate()  # Auto-format the dates on the x-axis\n",
    "plt.xlabel('Timestamp')\n",
    "plt.ylabel('X (mm)')\n",
    "plt.title('HDMM X vs Sensor Y')\n",
    "plt.grid(True)\n",
    "plt.legend()\n",
    "plt.show()"
   ]
  },
  {
   "cell_type": "code",
   "execution_count": 15,
   "metadata": {},
   "outputs": [
    {
     "data": {
      "image/png": "[encoded data removed]",
      "text/plain": [
       "<Figure size 800x600 with 1 Axes>"
      ]
     },
     "metadata": {},
     "output_type": "display_data"
    }
   ],
   "source": [
    "# Plotting\n",
    "plt.figure(figsize=(8, 6))\n",
    "plt.scatter(corrected_timestamps, -np.array(rel_loc_predz), label='MLX')\n",
    "plt.scatter(hdmm_time, hdmm_y, label='HDMM')\n",
    "plt.gcf().autofmt_xdate()  # Auto-format the dates on the x-axis\n",
    "plt.xlabel('Timestamp')\n",
    "plt.ylabel('Distance (mm)')\n",
    "plt.title('HDMM Y vs Sensor Z Comparison')\n",
    "plt.grid(True)\n",
    "plt.legend()\n",
    "plt.show()"
   ]
  },
  {
   "cell_type": "code",
   "execution_count": 16,
   "metadata": {},
   "outputs": [
    {
     "data": {
      "image/png": "[encoded data removed]",
      "text/plain": [
       "<Figure size 800x600 with 1 Axes>"
      ]
     },
     "metadata": {},
     "output_type": "display_data"
    }
   ],
   "source": [
    "# Plotting\n",
    "plt.figure(figsize=(8, 6))\n",
    "plt.scatter(corrected_timestamps, rel_loc_predx, label='MLX')\n",
    "plt.scatter(hdmm_time, hdmm_z, label='HDMM')\n",
    "plt.gcf().autofmt_xdate()  # Auto-format the dates on the x-axis\n",
    "plt.xlabel('Timestamp')\n",
    "plt.ylabel('Z (mm)')\n",
    "plt.title('HDMM Z vs Sensor X Comparison')\n",
    "plt.grid(True)\n",
    "plt.legend()\n",
    "plt.show()"
   ]
  }
 ],
 "metadata": {
  "kernelspec": {
   "display_name": "Python 3",
   "language": "python",
   "name": "python3"
  },
  "language_info": {
   "codemirror_mode": {
    "name": "ipython",
    "version": 3
   },
   "file_extension": ".py",
   "mimetype": "text/x-python",
   "name": "python",
   "nbconvert_exporter": "python",
   "pygments_lexer": "ipython3",
   "version": "3.12.3"
  }
 },
 "nbformat": 4,
 "nbformat_minor": 2
}
