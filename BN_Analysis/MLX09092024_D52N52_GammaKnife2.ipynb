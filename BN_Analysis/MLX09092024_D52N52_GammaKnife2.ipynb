{
 "cells": [
  {
   "cell_type": "code",
   "execution_count": 2,
   "metadata": {},
   "outputs": [
    {
     "name": "stdout",
     "output_type": "stream",
     "text": [
      "c:\\Users\\Brandon Nguyen\\AppData\\Local\\Programs\\Python\\Python312\\python.exe\n"
     ]
    }
   ],
   "source": [
    "import glob\n",
    "import numpy as np\n",
    "import scipy as sp\n",
    "import einops as eo\n",
    "import matplotlib.pyplot as plt\n",
    "import math\n",
    "import plotly.graph_objects as go\n",
    "from scipy.spatial.transform import Rotation\n",
    "import magpylib as magpy\n",
    "import os\n",
    "import pandas as pd\n",
    "from datetime import timedelta\n",
    "import sys\n",
    "from datetime import datetime\n",
    "\n",
    "print(sys.executable)\n",
    "\n",
    "M0 = 1480 #mT\n",
    "shape = [5*25.4/16, 25.4/8] #radius and height\n",
    "x0 = np.array([0,0,10, 0,0,1])"
   ]
  },
  {
   "cell_type": "code",
   "execution_count": 3,
   "metadata": {},
   "outputs": [],
   "source": [
    "def B_dipole(position, rotation, M0, shape):\n",
    "    R = np.sqrt(np.sum(position**2, axis=1))\n",
    "    B = (M0 * (shape[0]) ** 2 * shape[1] / (16)) * (\n",
    "        (\n",
    "            3\n",
    "            * position\n",
    "            / R[:, np.newaxis] ** 5\n",
    "            * (eo.einsum(position, rotation, \"sensor dim,  dim -> sensor\"))[\n",
    "                :, np.newaxis\n",
    "            ]\n",
    "        )\n",
    "        - rotation[np.newaxis, :] / (R[:, np.newaxis] ** 3)\n",
    "    )\n",
    "    return B\n",
    "\n",
    "\n",
    "def getField_dipole(x, positions, M0, shape):\n",
    "    position = x[:3]\n",
    "    axis = x[3:]\n",
    "    return B_dipole(positions - position, axis, M0, shape)\n",
    "\n",
    "\n",
    "def getField_dipole_fixed(x, positions, M0, shape):\n",
    "    position = x[:3]\n",
    "    axis = x[3:]\n",
    "    return B_dipole(positions - position, axis, M0, shape)\n",
    "\n",
    "\n",
    "def cost_dipole(x, B, positions, M0, shape):\n",
    "    diff = getField_dipole(x, positions, M0, shape) - B\n",
    "    return np.sum((diff) ** 2)\n",
    "\n",
    "\n",
    "def getField_cylinder(x, positions, M0, shape):\n",
    "    B=magpy.getB(\n",
    "        sources=\"Cylinder\",\n",
    "        position=x[:3],\n",
    "        orientation=Rotation.align_vectors(x[3:], np.array([0, 0, 1]))[0],\n",
    "        observers=positions,\n",
    "        dimension=shape,\n",
    "        polarization=(0, 0, M0),\n",
    "    )\n",
    "    return B\n",
    "\n",
    "def cost_cylinder(x, B, positions, M0, shape):\n",
    "    diff = getField_cylinder(x, positions, M0, shape) - B\n",
    "    return np.sum((diff) ** 2)\n",
    "\n",
    "def minimize(x0, B, positions, M0, shape, *args):\n",
    "    #print(\"Starting mimimization\")\n",
    "    b_args = (B, positions, M0, shape)\n",
    "    cons = [{\"type\": \"eq\", \"fun\": lambda x: x[3] ** 2 + x[4] ** 2 + x[5] ** 2 - 1}]\n",
    "    bounds = [(-100, 100), (-100, 100), (0, 100), (-1, 1), (-1, 1), (-1, 1)]\n",
    "    res = sp.optimize.minimize(\n",
    "        fun=cost_dipole, x0=x0, args=b_args, tol=1e-100, constraints=cons, bounds=bounds, *args\n",
    "    ).x  \n",
    "    #print(f\"Finished mimimization with shape {b_args[3]} at {res}\")\n",
    "    return res\n",
    "\n",
    "def circle_radius(x1, y1, x2, y2, x3, y3):\n",
    "    # Calculate lengths of sides of the triangle formed by the three points\n",
    "    a = math.sqrt((x2 - x1) ** 2 + (y2 - y1) ** 2)\n",
    "    b = math.sqrt((x3 - x2) ** 2 + (y3 - y2) ** 2)\n",
    "    c = math.sqrt((x3 - x1) ** 2 + (y3 - y1) ** 2)\n",
    "\n",
    "    # Calculate the semi-perimeter of the triangle\n",
    "    s = (a + b + c) / 2\n",
    "\n",
    "    # Calculate the area of the triangle using Heron's formula\n",
    "    area = math.sqrt(s * (s - a) * (s - b) * (s - c))\n",
    "\n",
    "    # Calculate the radius of the circle using the formula: radius = (abc) / (4 * area)\n",
    "    radius = (a * b * c) / (4 * area)\n",
    "    \n",
    "    return radius\n",
    "\n",
    "def comparison_plot(locact, locpred, axis, relative):\n",
    "\n",
    "    if axis == 'x':\n",
    "        ax = 0\n",
    "    elif axis == 'y':\n",
    "        ax = 1\n",
    "    else:\n",
    "        ax = 2\n",
    "\n",
    "    index = list(range(len(locact[:,ax])))\n",
    "    act = locact[:, ax]\n",
    "    pred = locpred[:, ax]\n",
    "\n",
    "    rel = ''\n",
    "\n",
    "    if relative==True:\n",
    "        act = [x - locact[0, ax] for x in locact[:, ax]]\n",
    "        pred = [x - locpred[0, ax] for x in locpred[:, ax]]\n",
    "        rel = ' (Relative)'\n",
    "\n",
    "    # Plotting\n",
    "    plt.figure(figsize=(8, 6))\n",
    "    plt.scatter(index, pred, label='Predicted' + rel)\n",
    "    plt.scatter(index, act, label='Actual' + rel)\n",
    "    plt.xlabel('Time Passed (s)')\n",
    "    plt.ylabel(axis + '-component')\n",
    "    plt.title('Comparison of '+axis+ ' Location' + rel+ ': Predicted vs Actual')\n",
    "    plt.legend()\n",
    "    plt.grid(True)\n",
    "    plt.show()\n",
    "\n",
    "    return\n",
    "\n",
    "def comp_plot3D(locact, locpred, xact, yact, axis, relative):\n",
    "\n",
    "    if axis == 'x':\n",
    "        ax = 0\n",
    "    elif axis == 'y':\n",
    "        ax = 1\n",
    "    else:\n",
    "        ax = 2\n",
    "\n",
    "    index = list(range(len(locact[:,ax])))\n",
    "    act = locact[:, ax]\n",
    "    pred = locpred[:, ax]\n",
    "\n",
    "    rel = ''\n",
    "\n",
    "    if relative==True:\n",
    "        act = [x - locact[0, ax] for x in locact[:, ax]]\n",
    "        pred = [x - locpred[0, ax] for x in locpred[:, ax]]\n",
    "        rel = ' (Relative)'\n",
    "\n",
    "    fig = go.Figure(data=[\n",
    "        go.Scatter3d(x=xact, y=yact, z=pred, name='Predicted' + rel),\n",
    "        go.Scatter3d(x=xact, y=yact, z=act, name='Actual' + rel)])\n",
    "    fig.show()\n",
    "\n",
    "    return\n",
    "\n",
    "def displacement_plot(actual, predicted):\n",
    "\n",
    "    dispx = np.array(predicted[:,0]-predicted[:,0][0])\n",
    "    dispy = np.array(predicted[:,1]-predicted[:,1][0])\n",
    "    dispz = np.array(predicted[:,2]-predicted[:,2][0])\n",
    "    disp = np.sqrt(dispx**2+dispy**2+dispz**2)\n",
    "    actdispx = np.array(actual[:,0]-actual[:,0][0])\n",
    "    actdispy = np.array(actual[:,1]-actual[:,1][0])\n",
    "    actdispz = np.array(actual[:,2]-actual[:,2][0])\n",
    "    actdisp = np.sqrt(actdispx**2+actdispy**2+actdispz**2)\n",
    "\n",
    "    plt.figure(figsize=(8, 6))\n",
    "    plt.scatter(list(range(len(disp))), disp, label='Predicted Displacement')\n",
    "    plt.scatter(list(range(len(actdisp))), actdisp, label='Actual Displacement')\n",
    "    plt.xlabel('Time Passed (s)')\n",
    "    plt.ylabel('Displacement (mm)')\n",
    "    plt.title('Magnet Displacement')\n",
    "    plt.legend()\n",
    "    plt.grid(True)\n",
    "    plt.show()\n",
    "\n",
    "    return\n",
    "\n",
    "# Function to convert HHMMSS to seconds\n",
    "def time_to_seconds(time_str):\n",
    "    hours = int(time_str[:2])\n",
    "    minutes = int(time_str[2:4])\n",
    "    seconds = int(time_str[4:6])\n",
    "    return hours * 3600 + minutes * 60 + seconds\n",
    "\n",
    "def time_to_secondsdf(time_value):\n",
    "    return time_value.hour * 3600 + time_value.minute * 60 + time_value.second + time_value.microsecond / 1e6\n",
    "\n",
    "# Function to extract the timestamp part from the file path\n",
    "def extract_timestamp(file_path):\n",
    "    # Extract the filename from the file path (without the extension)\n",
    "    filename = os.path.basename(file_path).replace('.npz', '')\n",
    "    \n",
    "    # Split the filename into date, time, and millisecond parts\n",
    "    date_part = filename.split('-')[0]  # Extracting the 'YYYYMMDD' part\n",
    "    time_part = filename.split('-')[1]  # Extracting the 'HHMMSS' part\n",
    "    millisecond_part = filename.split('-')[2]  # Extracting the millisecond part\n",
    "    \n",
    "    # Combine date, time, and milliseconds into a full timestamp string\n",
    "    full_datetime_str = f\"{date_part} {time_part}.{millisecond_part}\"\n",
    "    \n",
    "    # Create a datetime object\n",
    "    full_datetime = datetime.strptime(full_datetime_str, \"%Y%m%d %H%M%S.%f\")\n",
    "    \n",
    "    return full_datetime\n",
    "\n",
    "def importfitting(folder):\n",
    "\n",
    "    file_list = sorted(glob.glob(f'{folder}/*.npz'))\n",
    "    #print(file_list)\n",
    "    data = np.load(file_list[0])\n",
    "    pos = data['pos'][0]\n",
    "    timestamps = []\n",
    "\n",
    "    locpred = [np.array([0,0,0])]\n",
    "    anglepred = [np.array([0,0,0])]\n",
    "    Bstdev = [np.array(pos)]\n",
    "    for x in range(len(file_list)):\n",
    "        data = np.load(file_list[x])\n",
    "        mags = data['mags']\n",
    "        pos = data['pos'][0]\n",
    "        B = np.mean(mags, axis=0)\n",
    "        mags_stdev = np.std(mags, axis=0)\n",
    "        timestamps.append(extract_timestamp(file_list[x]))\n",
    "\n",
    "        x_res = minimize(x0, B, pos, M0, shape)\n",
    "        locpred = np.append(locpred, [x_res[0:3]], axis=0)\n",
    "        anglepred = np.append(anglepred, [x_res[3:6]], axis=0)\n",
    "        Bstdev = np.append(Bstdev, [mags_stdev], axis=0)\n",
    "    locpred = np.delete(locpred, 0, axis=0)\n",
    "    anglepred = np.delete(anglepred, 0, axis=0)\n",
    "    Bstdev = np.delete(Bstdev, 0 ,axis=0)\n",
    "\n",
    "    return pos, mags, locpred, anglepred, Bstdev, timestamps\n",
    "\n",
    "def actualangle(xind, yind, xscal, xcon, yscal, ycon, isoff):\n",
    "\n",
    "    angact = [np.array([0, 0, 0])]\n",
    "    for y in range(yind):\n",
    "        for x in range(xind):\n",
    "            R = Rotation.from_euler('ZYX' ,np.array([0, yscal*y-ycon, xscal*x-xcon]), degrees=True)\n",
    "            norm = np.array([[0, 0, 1]])\n",
    "            rotated = R.apply(norm, inverse=False)[0]\n",
    "            #add = np.array([np.sin(np.deg2rad(2*y-4)), -np.sin(np.deg2rad(2*x-4)), np.cos(np.deg2rad(2*y-4))*np.cos(np.deg2rad(2*x-4))])\n",
    "            angact = np.append(angact, [rotated], axis=0)\n",
    "    angact = np.delete(angact, 0, axis=0)\n",
    "    locact = angact*isoff\n",
    "\n",
    "    return angact, locact"
   ]
  },
  {
   "cell_type": "code",
   "execution_count": 4,
   "metadata": {},
   "outputs": [
    {
     "name": "stdout",
     "output_type": "stream",
     "text": [
      "288\n"
     ]
    }
   ],
   "source": [
    "folder = os.path.join('..', './MLX09302024_D52N52_gammaknife2')\n",
    "pos, mags, locpred, anglepred, Bstdev, timestamps = importfitting(folder)\n",
    "np.append(locpred, anglepred, axis=1)\n",
    "#print(timeelapsed)\n",
    "print(len(locpred))"
   ]
  },
  {
   "cell_type": "code",
   "execution_count": 18,
   "metadata": {},
   "outputs": [
    {
     "name": "stdout",
     "output_type": "stream",
     "text": [
      "List saved to MLX09302024_gk2_locpred.txt\n"
     ]
    }
   ],
   "source": [
    "locpred\n",
    "# Specify the file path where you want to save the list\n",
    "file_path = 'MLX09302024_gk2_locpred.txt'\n",
    "\n",
    "# Convert the list to a DataFrame\n",
    "df = pd.DataFrame(locpred)\n",
    "\n",
    "# Save the DataFrame to a CSV file\n",
    "df.to_csv(file_path, index=False, header=['x', 'y', 'z'])  # Set index and header to False if not needed\n",
    "\n",
    "print(f\"List saved to {file_path}\")"
   ]
  },
  {
   "cell_type": "code",
   "execution_count": 6,
   "metadata": {},
   "outputs": [
    {
     "name": "stdout",
     "output_type": "stream",
     "text": [
      "[datetime.datetime(2024, 9, 30, 6, 8, 56, 950465), datetime.datetime(2024, 9, 30, 6, 8, 57, 469695), datetime.datetime(2024, 9, 30, 6, 8, 57, 976185), datetime.datetime(2024, 9, 30, 6, 8, 58, 564305), datetime.datetime(2024, 9, 30, 6, 8, 59, 70563), datetime.datetime(2024, 9, 30, 6, 8, 59, 577666), datetime.datetime(2024, 9, 30, 6, 9, 0, 83951), datetime.datetime(2024, 9, 30, 6, 9, 0, 591746), datetime.datetime(2024, 9, 30, 6, 9, 1, 101719), datetime.datetime(2024, 9, 30, 6, 9, 1, 715537), datetime.datetime(2024, 9, 30, 6, 9, 2, 373824), datetime.datetime(2024, 9, 30, 6, 9, 3, 186045), datetime.datetime(2024, 9, 30, 6, 9, 3, 696100), datetime.datetime(2024, 9, 30, 6, 9, 4, 205740), datetime.datetime(2024, 9, 30, 6, 9, 4, 716006), datetime.datetime(2024, 9, 30, 6, 9, 5, 395554), datetime.datetime(2024, 9, 30, 6, 9, 5, 907731), datetime.datetime(2024, 9, 30, 6, 9, 6, 455629), datetime.datetime(2024, 9, 30, 6, 9, 6, 967443), datetime.datetime(2024, 9, 30, 6, 9, 7, 543646), datetime.datetime(2024, 9, 30, 6, 9, 8, 80827), datetime.datetime(2024, 9, 30, 6, 9, 8, 607210), datetime.datetime(2024, 9, 30, 6, 9, 9, 118031), datetime.datetime(2024, 9, 30, 6, 9, 9, 691104), datetime.datetime(2024, 9, 30, 6, 9, 10, 202284), datetime.datetime(2024, 9, 30, 6, 9, 10, 710964), datetime.datetime(2024, 9, 30, 6, 9, 11, 222792), datetime.datetime(2024, 9, 30, 6, 9, 12, 51678), datetime.datetime(2024, 9, 30, 6, 9, 12, 576172), datetime.datetime(2024, 9, 30, 6, 9, 13, 92169), datetime.datetime(2024, 9, 30, 6, 9, 13, 602578), datetime.datetime(2024, 9, 30, 6, 9, 14, 111087), datetime.datetime(2024, 9, 30, 6, 9, 14, 623920), datetime.datetime(2024, 9, 30, 6, 9, 15, 139852), datetime.datetime(2024, 9, 30, 6, 9, 15, 708819), datetime.datetime(2024, 9, 30, 6, 9, 16, 266615), datetime.datetime(2024, 9, 30, 6, 9, 16, 779440), datetime.datetime(2024, 9, 30, 6, 9, 17, 290208), datetime.datetime(2024, 9, 30, 6, 9, 17, 803996), datetime.datetime(2024, 9, 30, 6, 9, 18, 426286), datetime.datetime(2024, 9, 30, 6, 9, 18, 945827), datetime.datetime(2024, 9, 30, 6, 9, 19, 457213), datetime.datetime(2024, 9, 30, 6, 9, 19, 966494), datetime.datetime(2024, 9, 30, 6, 9, 20, 494362), datetime.datetime(2024, 9, 30, 6, 9, 21, 7918), datetime.datetime(2024, 9, 30, 6, 9, 21, 522488), datetime.datetime(2024, 9, 30, 6, 9, 22, 31856), datetime.datetime(2024, 9, 30, 6, 9, 22, 598923), datetime.datetime(2024, 9, 30, 6, 9, 23, 109053), datetime.datetime(2024, 9, 30, 6, 9, 23, 619248), datetime.datetime(2024, 9, 30, 6, 9, 24, 129060), datetime.datetime(2024, 9, 30, 6, 9, 24, 639653), datetime.datetime(2024, 9, 30, 6, 9, 25, 149562), datetime.datetime(2024, 9, 30, 6, 9, 25, 697772), datetime.datetime(2024, 9, 30, 6, 9, 26, 207412), datetime.datetime(2024, 9, 30, 6, 9, 26, 717123), datetime.datetime(2024, 9, 30, 6, 9, 27, 283908), datetime.datetime(2024, 9, 30, 6, 9, 27, 803061), datetime.datetime(2024, 9, 30, 6, 9, 28, 314180), datetime.datetime(2024, 9, 30, 6, 9, 28, 830366), datetime.datetime(2024, 9, 30, 6, 9, 29, 341093), datetime.datetime(2024, 9, 30, 6, 9, 29, 852510), datetime.datetime(2024, 9, 30, 6, 9, 30, 362775), datetime.datetime(2024, 9, 30, 6, 9, 30, 872974), datetime.datetime(2024, 9, 30, 6, 9, 31, 384602), datetime.datetime(2024, 9, 30, 6, 9, 31, 894020), datetime.datetime(2024, 9, 30, 6, 9, 32, 403561), datetime.datetime(2024, 9, 30, 6, 9, 32, 912547), datetime.datetime(2024, 9, 30, 6, 9, 33, 425233), datetime.datetime(2024, 9, 30, 6, 9, 33, 935127), datetime.datetime(2024, 9, 30, 6, 9, 34, 495444), datetime.datetime(2024, 9, 30, 6, 9, 35, 6070), datetime.datetime(2024, 9, 30, 6, 9, 35, 515537), datetime.datetime(2024, 9, 30, 6, 9, 36, 28653), datetime.datetime(2024, 9, 30, 6, 9, 36, 539345), datetime.datetime(2024, 9, 30, 6, 9, 37, 92519), datetime.datetime(2024, 9, 30, 6, 9, 37, 652523), datetime.datetime(2024, 9, 30, 6, 9, 38, 162075), datetime.datetime(2024, 9, 30, 6, 9, 38, 673584), datetime.datetime(2024, 9, 30, 6, 9, 39, 223930), datetime.datetime(2024, 9, 30, 6, 9, 39, 735662), datetime.datetime(2024, 9, 30, 6, 9, 40, 246078), datetime.datetime(2024, 9, 30, 6, 9, 40, 755759), datetime.datetime(2024, 9, 30, 6, 9, 41, 311110), datetime.datetime(2024, 9, 30, 6, 9, 41, 821755), datetime.datetime(2024, 9, 30, 6, 9, 42, 331897), datetime.datetime(2024, 9, 30, 6, 9, 42, 846362), datetime.datetime(2024, 9, 30, 6, 9, 43, 397017), datetime.datetime(2024, 9, 30, 6, 9, 43, 948509), datetime.datetime(2024, 9, 30, 6, 9, 44, 463705), datetime.datetime(2024, 9, 30, 6, 9, 45, 6765), datetime.datetime(2024, 9, 30, 6, 9, 45, 570503), datetime.datetime(2024, 9, 30, 6, 9, 46, 124170), datetime.datetime(2024, 9, 30, 6, 9, 46, 639555), datetime.datetime(2024, 9, 30, 6, 9, 47, 149213), datetime.datetime(2024, 9, 30, 6, 9, 47, 660046), datetime.datetime(2024, 9, 30, 6, 9, 48, 200344), datetime.datetime(2024, 9, 30, 6, 9, 48, 712552), datetime.datetime(2024, 9, 30, 6, 9, 49, 225644), datetime.datetime(2024, 9, 30, 6, 9, 49, 734979), datetime.datetime(2024, 9, 30, 6, 9, 50, 244259), datetime.datetime(2024, 9, 30, 6, 9, 50, 755496), datetime.datetime(2024, 9, 30, 6, 9, 51, 309083), datetime.datetime(2024, 9, 30, 6, 9, 51, 828762), datetime.datetime(2024, 9, 30, 6, 9, 52, 339995), datetime.datetime(2024, 9, 30, 6, 9, 52, 870485), datetime.datetime(2024, 9, 30, 6, 9, 53, 384563), datetime.datetime(2024, 9, 30, 6, 9, 53, 895262), datetime.datetime(2024, 9, 30, 6, 9, 54, 404147), datetime.datetime(2024, 9, 30, 6, 9, 54, 913893), datetime.datetime(2024, 9, 30, 6, 9, 55, 424114), datetime.datetime(2024, 9, 30, 6, 9, 55, 933435), datetime.datetime(2024, 9, 30, 6, 9, 56, 445303), datetime.datetime(2024, 9, 30, 6, 9, 56, 970263), datetime.datetime(2024, 9, 30, 6, 9, 57, 533101), datetime.datetime(2024, 9, 30, 6, 9, 58, 85176), datetime.datetime(2024, 9, 30, 6, 9, 58, 597583), datetime.datetime(2024, 9, 30, 6, 9, 59, 107541), datetime.datetime(2024, 9, 30, 6, 9, 59, 649230), datetime.datetime(2024, 9, 30, 6, 10, 0, 165049), datetime.datetime(2024, 9, 30, 6, 10, 0, 673553), datetime.datetime(2024, 9, 30, 6, 10, 1, 184457), datetime.datetime(2024, 9, 30, 6, 10, 1, 695307), datetime.datetime(2024, 9, 30, 6, 10, 2, 253692), datetime.datetime(2024, 9, 30, 6, 10, 2, 767431), datetime.datetime(2024, 9, 30, 6, 10, 3, 319978), datetime.datetime(2024, 9, 30, 6, 10, 3, 858932), datetime.datetime(2024, 9, 30, 6, 10, 4, 368263), datetime.datetime(2024, 9, 30, 6, 10, 4, 882920), datetime.datetime(2024, 9, 30, 6, 10, 5, 431329), datetime.datetime(2024, 9, 30, 6, 10, 5, 942370), datetime.datetime(2024, 9, 30, 6, 10, 6, 454911), datetime.datetime(2024, 9, 30, 6, 10, 6, 994916), datetime.datetime(2024, 9, 30, 6, 10, 7, 506409), datetime.datetime(2024, 9, 30, 6, 10, 8, 26185), datetime.datetime(2024, 9, 30, 6, 10, 8, 535273), datetime.datetime(2024, 9, 30, 6, 10, 9, 79305), datetime.datetime(2024, 9, 30, 6, 10, 9, 596266), datetime.datetime(2024, 9, 30, 6, 10, 10, 121965), datetime.datetime(2024, 9, 30, 6, 10, 10, 636147), datetime.datetime(2024, 9, 30, 6, 10, 11, 192969), datetime.datetime(2024, 9, 30, 6, 10, 11, 707382), datetime.datetime(2024, 9, 30, 6, 10, 12, 264768), datetime.datetime(2024, 9, 30, 6, 10, 12, 820530), datetime.datetime(2024, 9, 30, 6, 10, 13, 339606), datetime.datetime(2024, 9, 30, 6, 10, 13, 901487), datetime.datetime(2024, 9, 30, 6, 10, 14, 410635), datetime.datetime(2024, 9, 30, 6, 10, 14, 962374), datetime.datetime(2024, 9, 30, 6, 10, 15, 472763), datetime.datetime(2024, 9, 30, 6, 10, 15, 981543), datetime.datetime(2024, 9, 30, 6, 10, 16, 497349), datetime.datetime(2024, 9, 30, 6, 10, 17, 11521), datetime.datetime(2024, 9, 30, 6, 10, 17, 523896), datetime.datetime(2024, 9, 30, 6, 10, 18, 37783), datetime.datetime(2024, 9, 30, 6, 10, 18, 552228), datetime.datetime(2024, 9, 30, 6, 10, 19, 64521), datetime.datetime(2024, 9, 30, 6, 10, 19, 578969), datetime.datetime(2024, 9, 30, 6, 10, 20, 148936), datetime.datetime(2024, 9, 30, 6, 10, 20, 663195), datetime.datetime(2024, 9, 30, 6, 10, 21, 178403), datetime.datetime(2024, 9, 30, 6, 10, 21, 694428), datetime.datetime(2024, 9, 30, 6, 10, 22, 247465), datetime.datetime(2024, 9, 30, 6, 10, 22, 790202), datetime.datetime(2024, 9, 30, 6, 10, 23, 300476), datetime.datetime(2024, 9, 30, 6, 10, 23, 813095), datetime.datetime(2024, 9, 30, 6, 10, 24, 353470), datetime.datetime(2024, 9, 30, 6, 10, 24, 863490), datetime.datetime(2024, 9, 30, 6, 10, 25, 372623), datetime.datetime(2024, 9, 30, 6, 10, 25, 924254), datetime.datetime(2024, 9, 30, 6, 10, 26, 482126), datetime.datetime(2024, 9, 30, 6, 10, 27, 1752), datetime.datetime(2024, 9, 30, 6, 10, 27, 545586), datetime.datetime(2024, 9, 30, 6, 10, 28, 83318), datetime.datetime(2024, 9, 30, 6, 10, 28, 639852), datetime.datetime(2024, 9, 30, 6, 10, 29, 189640), datetime.datetime(2024, 9, 30, 6, 10, 29, 697926), datetime.datetime(2024, 9, 30, 6, 10, 30, 208052), datetime.datetime(2024, 9, 30, 6, 10, 30, 718257), datetime.datetime(2024, 9, 30, 6, 10, 31, 237661), datetime.datetime(2024, 9, 30, 6, 10, 31, 760397), datetime.datetime(2024, 9, 30, 6, 10, 32, 272431), datetime.datetime(2024, 9, 30, 6, 10, 32, 785685), datetime.datetime(2024, 9, 30, 6, 10, 33, 298084), datetime.datetime(2024, 9, 30, 6, 10, 33, 810177), datetime.datetime(2024, 9, 30, 6, 10, 34, 333568), datetime.datetime(2024, 9, 30, 6, 10, 34, 848980), datetime.datetime(2024, 9, 30, 6, 10, 35, 418980), datetime.datetime(2024, 9, 30, 6, 10, 35, 938996), datetime.datetime(2024, 9, 30, 6, 10, 36, 450621), datetime.datetime(2024, 9, 30, 6, 10, 37, 9974), datetime.datetime(2024, 9, 30, 6, 10, 37, 520124), datetime.datetime(2024, 9, 30, 6, 10, 38, 67120), datetime.datetime(2024, 9, 30, 6, 10, 38, 580827), datetime.datetime(2024, 9, 30, 6, 10, 39, 96580), datetime.datetime(2024, 9, 30, 6, 10, 39, 612512), datetime.datetime(2024, 9, 30, 6, 10, 40, 176525), datetime.datetime(2024, 9, 30, 6, 10, 40, 714760), datetime.datetime(2024, 9, 30, 6, 10, 41, 227516), datetime.datetime(2024, 9, 30, 6, 10, 41, 772667), datetime.datetime(2024, 9, 30, 6, 10, 42, 344374), datetime.datetime(2024, 9, 30, 6, 10, 42, 887789), datetime.datetime(2024, 9, 30, 6, 10, 43, 400516), datetime.datetime(2024, 9, 30, 6, 10, 43, 916454), datetime.datetime(2024, 9, 30, 6, 10, 44, 427090), datetime.datetime(2024, 9, 30, 6, 10, 44, 975262), datetime.datetime(2024, 9, 30, 6, 10, 45, 526433), datetime.datetime(2024, 9, 30, 6, 10, 46, 39288), datetime.datetime(2024, 9, 30, 6, 10, 46, 575860), datetime.datetime(2024, 9, 30, 6, 10, 47, 151887), datetime.datetime(2024, 9, 30, 6, 10, 47, 686290), datetime.datetime(2024, 9, 30, 6, 10, 48, 199182), datetime.datetime(2024, 9, 30, 6, 10, 48, 770588), datetime.datetime(2024, 9, 30, 6, 10, 49, 279742), datetime.datetime(2024, 9, 30, 6, 10, 49, 851171), datetime.datetime(2024, 9, 30, 6, 10, 50, 364216), datetime.datetime(2024, 9, 30, 6, 10, 50, 896136), datetime.datetime(2024, 9, 30, 6, 10, 51, 449015), datetime.datetime(2024, 9, 30, 6, 10, 51, 958584), datetime.datetime(2024, 9, 30, 6, 10, 52, 528239), datetime.datetime(2024, 9, 30, 6, 10, 53, 39188), datetime.datetime(2024, 9, 30, 6, 10, 53, 550072), datetime.datetime(2024, 9, 30, 6, 10, 54, 58654), datetime.datetime(2024, 9, 30, 6, 10, 54, 567748), datetime.datetime(2024, 9, 30, 6, 10, 55, 110035), datetime.datetime(2024, 9, 30, 6, 10, 55, 640314), datetime.datetime(2024, 9, 30, 6, 10, 56, 153555), datetime.datetime(2024, 9, 30, 6, 10, 56, 674841), datetime.datetime(2024, 9, 30, 6, 10, 57, 205573), datetime.datetime(2024, 9, 30, 6, 10, 57, 768590), datetime.datetime(2024, 9, 30, 6, 10, 58, 324315), datetime.datetime(2024, 9, 30, 6, 10, 58, 842423), datetime.datetime(2024, 9, 30, 6, 10, 59, 353064), datetime.datetime(2024, 9, 30, 6, 10, 59, 865695), datetime.datetime(2024, 9, 30, 6, 11, 0, 376756), datetime.datetime(2024, 9, 30, 6, 11, 0, 908846), datetime.datetime(2024, 9, 30, 6, 11, 1, 428555), datetime.datetime(2024, 9, 30, 6, 11, 1, 956965), datetime.datetime(2024, 9, 30, 6, 11, 2, 467499), datetime.datetime(2024, 9, 30, 6, 11, 2, 979044), datetime.datetime(2024, 9, 30, 6, 11, 3, 532782), datetime.datetime(2024, 9, 30, 6, 11, 4, 50128), datetime.datetime(2024, 9, 30, 6, 11, 4, 567742), datetime.datetime(2024, 9, 30, 6, 11, 5, 78445), datetime.datetime(2024, 9, 30, 6, 11, 5, 649287), datetime.datetime(2024, 9, 30, 6, 11, 6, 166637), datetime.datetime(2024, 9, 30, 6, 11, 6, 676827), datetime.datetime(2024, 9, 30, 6, 11, 7, 189825), datetime.datetime(2024, 9, 30, 6, 11, 7, 699329), datetime.datetime(2024, 9, 30, 6, 11, 8, 209454), datetime.datetime(2024, 9, 30, 6, 11, 8, 756782), datetime.datetime(2024, 9, 30, 6, 11, 9, 270462), datetime.datetime(2024, 9, 30, 6, 11, 9, 834943), datetime.datetime(2024, 9, 30, 6, 11, 10, 352042), datetime.datetime(2024, 9, 30, 6, 11, 10, 868331), datetime.datetime(2024, 9, 30, 6, 11, 11, 381332), datetime.datetime(2024, 9, 30, 6, 11, 11, 894072), datetime.datetime(2024, 9, 30, 6, 11, 12, 402813), datetime.datetime(2024, 9, 30, 6, 11, 12, 910659), datetime.datetime(2024, 9, 30, 6, 11, 13, 504504), datetime.datetime(2024, 9, 30, 6, 11, 14, 16778), datetime.datetime(2024, 9, 30, 6, 11, 14, 529108), datetime.datetime(2024, 9, 30, 6, 11, 15, 41779), datetime.datetime(2024, 9, 30, 6, 11, 15, 602842), datetime.datetime(2024, 9, 30, 6, 11, 16, 121782), datetime.datetime(2024, 9, 30, 6, 11, 16, 632493), datetime.datetime(2024, 9, 30, 6, 11, 17, 143577), datetime.datetime(2024, 9, 30, 6, 11, 17, 697545), datetime.datetime(2024, 9, 30, 6, 11, 18, 208699), datetime.datetime(2024, 9, 30, 6, 11, 18, 718609), datetime.datetime(2024, 9, 30, 6, 11, 19, 258996), datetime.datetime(2024, 9, 30, 6, 11, 19, 806246), datetime.datetime(2024, 9, 30, 6, 11, 20, 316363), datetime.datetime(2024, 9, 30, 6, 11, 20, 826297), datetime.datetime(2024, 9, 30, 6, 11, 21, 362851), datetime.datetime(2024, 9, 30, 6, 11, 21, 872412), datetime.datetime(2024, 9, 30, 6, 11, 22, 382182), datetime.datetime(2024, 9, 30, 6, 11, 22, 954876), datetime.datetime(2024, 9, 30, 6, 11, 23, 472243), datetime.datetime(2024, 9, 30, 6, 11, 23, 985723), datetime.datetime(2024, 9, 30, 6, 11, 24, 526035), datetime.datetime(2024, 9, 30, 6, 11, 25, 37977), datetime.datetime(2024, 9, 30, 6, 11, 25, 553044), datetime.datetime(2024, 9, 30, 6, 11, 26, 66512), datetime.datetime(2024, 9, 30, 6, 11, 26, 587451), datetime.datetime(2024, 9, 30, 6, 11, 27, 133712), datetime.datetime(2024, 9, 30, 6, 11, 27, 653716), datetime.datetime(2024, 9, 30, 6, 11, 28, 173708), datetime.datetime(2024, 9, 30, 6, 11, 28, 682773)]\n"
     ]
    },
    {
     "data": {
      "text/plain": [
       "[datetime.datetime(2024, 9, 30, 14, 31, 56, 950465),\n",
       " datetime.datetime(2024, 9, 30, 14, 31, 57, 469695),\n",
       " datetime.datetime(2024, 9, 30, 14, 31, 57, 976185),\n",
       " datetime.datetime(2024, 9, 30, 14, 31, 58, 564305),\n",
       " datetime.datetime(2024, 9, 30, 14, 31, 59, 70563),\n",
       " datetime.datetime(2024, 9, 30, 14, 31, 59, 577666),\n",
       " datetime.datetime(2024, 9, 30, 14, 32, 0, 83951),\n",
       " datetime.datetime(2024, 9, 30, 14, 32, 0, 591746),\n",
       " datetime.datetime(2024, 9, 30, 14, 32, 1, 101719),\n",
       " datetime.datetime(2024, 9, 30, 14, 32, 1, 715537),\n",
       " datetime.datetime(2024, 9, 30, 14, 32, 2, 373824),\n",
       " datetime.datetime(2024, 9, 30, 14, 32, 3, 186045),\n",
       " datetime.datetime(2024, 9, 30, 14, 32, 3, 696100),\n",
       " datetime.datetime(2024, 9, 30, 14, 32, 4, 205740),\n",
       " datetime.datetime(2024, 9, 30, 14, 32, 4, 716006),\n",
       " datetime.datetime(2024, 9, 30, 14, 32, 5, 395554),\n",
       " datetime.datetime(2024, 9, 30, 14, 32, 5, 907731),\n",
       " datetime.datetime(2024, 9, 30, 14, 32, 6, 455629),\n",
       " datetime.datetime(2024, 9, 30, 14, 32, 6, 967443),\n",
       " datetime.datetime(2024, 9, 30, 14, 32, 7, 543646),\n",
       " datetime.datetime(2024, 9, 30, 14, 32, 8, 80827),\n",
       " datetime.datetime(2024, 9, 30, 14, 32, 8, 607210),\n",
       " datetime.datetime(2024, 9, 30, 14, 32, 9, 118031),\n",
       " datetime.datetime(2024, 9, 30, 14, 32, 9, 691104),\n",
       " datetime.datetime(2024, 9, 30, 14, 32, 10, 202284),\n",
       " datetime.datetime(2024, 9, 30, 14, 32, 10, 710964),\n",
       " datetime.datetime(2024, 9, 30, 14, 32, 11, 222792),\n",
       " datetime.datetime(2024, 9, 30, 14, 32, 12, 51678),\n",
       " datetime.datetime(2024, 9, 30, 14, 32, 12, 576172),\n",
       " datetime.datetime(2024, 9, 30, 14, 32, 13, 92169),\n",
       " datetime.datetime(2024, 9, 30, 14, 32, 13, 602578),\n",
       " datetime.datetime(2024, 9, 30, 14, 32, 14, 111087),\n",
       " datetime.datetime(2024, 9, 30, 14, 32, 14, 623920),\n",
       " datetime.datetime(2024, 9, 30, 14, 32, 15, 139852),\n",
       " datetime.datetime(2024, 9, 30, 14, 32, 15, 708819),\n",
       " datetime.datetime(2024, 9, 30, 14, 32, 16, 266615),\n",
       " datetime.datetime(2024, 9, 30, 14, 32, 16, 779440),\n",
       " datetime.datetime(2024, 9, 30, 14, 32, 17, 290208),\n",
       " datetime.datetime(2024, 9, 30, 14, 32, 17, 803996),\n",
       " datetime.datetime(2024, 9, 30, 14, 32, 18, 426286),\n",
       " datetime.datetime(2024, 9, 30, 14, 32, 18, 945827),\n",
       " datetime.datetime(2024, 9, 30, 14, 32, 19, 457213),\n",
       " datetime.datetime(2024, 9, 30, 14, 32, 19, 966494),\n",
       " datetime.datetime(2024, 9, 30, 14, 32, 20, 494362),\n",
       " datetime.datetime(2024, 9, 30, 14, 32, 21, 7918),\n",
       " datetime.datetime(2024, 9, 30, 14, 32, 21, 522488),\n",
       " datetime.datetime(2024, 9, 30, 14, 32, 22, 31856),\n",
       " datetime.datetime(2024, 9, 30, 14, 32, 22, 598923),\n",
       " datetime.datetime(2024, 9, 30, 14, 32, 23, 109053),\n",
       " datetime.datetime(2024, 9, 30, 14, 32, 23, 619248),\n",
       " datetime.datetime(2024, 9, 30, 14, 32, 24, 129060),\n",
       " datetime.datetime(2024, 9, 30, 14, 32, 24, 639653),\n",
       " datetime.datetime(2024, 9, 30, 14, 32, 25, 149562),\n",
       " datetime.datetime(2024, 9, 30, 14, 32, 25, 697772),\n",
       " datetime.datetime(2024, 9, 30, 14, 32, 26, 207412),\n",
       " datetime.datetime(2024, 9, 30, 14, 32, 26, 717123),\n",
       " datetime.datetime(2024, 9, 30, 14, 32, 27, 283908),\n",
       " datetime.datetime(2024, 9, 30, 14, 32, 27, 803061),\n",
       " datetime.datetime(2024, 9, 30, 14, 32, 28, 314180),\n",
       " datetime.datetime(2024, 9, 30, 14, 32, 28, 830366),\n",
       " datetime.datetime(2024, 9, 30, 14, 32, 29, 341093),\n",
       " datetime.datetime(2024, 9, 30, 14, 32, 29, 852510),\n",
       " datetime.datetime(2024, 9, 30, 14, 32, 30, 362775),\n",
       " datetime.datetime(2024, 9, 30, 14, 32, 30, 872974),\n",
       " datetime.datetime(2024, 9, 30, 14, 32, 31, 384602),\n",
       " datetime.datetime(2024, 9, 30, 14, 32, 31, 894020),\n",
       " datetime.datetime(2024, 9, 30, 14, 32, 32, 403561),\n",
       " datetime.datetime(2024, 9, 30, 14, 32, 32, 912547),\n",
       " datetime.datetime(2024, 9, 30, 14, 32, 33, 425233),\n",
       " datetime.datetime(2024, 9, 30, 14, 32, 33, 935127),\n",
       " datetime.datetime(2024, 9, 30, 14, 32, 34, 495444),\n",
       " datetime.datetime(2024, 9, 30, 14, 32, 35, 6070),\n",
       " datetime.datetime(2024, 9, 30, 14, 32, 35, 515537),\n",
       " datetime.datetime(2024, 9, 30, 14, 32, 36, 28653),\n",
       " datetime.datetime(2024, 9, 30, 14, 32, 36, 539345),\n",
       " datetime.datetime(2024, 9, 30, 14, 32, 37, 92519),\n",
       " datetime.datetime(2024, 9, 30, 14, 32, 37, 652523),\n",
       " datetime.datetime(2024, 9, 30, 14, 32, 38, 162075),\n",
       " datetime.datetime(2024, 9, 30, 14, 32, 38, 673584),\n",
       " datetime.datetime(2024, 9, 30, 14, 32, 39, 223930),\n",
       " datetime.datetime(2024, 9, 30, 14, 32, 39, 735662),\n",
       " datetime.datetime(2024, 9, 30, 14, 32, 40, 246078),\n",
       " datetime.datetime(2024, 9, 30, 14, 32, 40, 755759),\n",
       " datetime.datetime(2024, 9, 30, 14, 32, 41, 311110),\n",
       " datetime.datetime(2024, 9, 30, 14, 32, 41, 821755),\n",
       " datetime.datetime(2024, 9, 30, 14, 32, 42, 331897),\n",
       " datetime.datetime(2024, 9, 30, 14, 32, 42, 846362),\n",
       " datetime.datetime(2024, 9, 30, 14, 32, 43, 397017),\n",
       " datetime.datetime(2024, 9, 30, 14, 32, 43, 948509),\n",
       " datetime.datetime(2024, 9, 30, 14, 32, 44, 463705),\n",
       " datetime.datetime(2024, 9, 30, 14, 32, 45, 6765),\n",
       " datetime.datetime(2024, 9, 30, 14, 32, 45, 570503),\n",
       " datetime.datetime(2024, 9, 30, 14, 32, 46, 124170),\n",
       " datetime.datetime(2024, 9, 30, 14, 32, 46, 639555),\n",
       " datetime.datetime(2024, 9, 30, 14, 32, 47, 149213),\n",
       " datetime.datetime(2024, 9, 30, 14, 32, 47, 660046),\n",
       " datetime.datetime(2024, 9, 30, 14, 32, 48, 200344),\n",
       " datetime.datetime(2024, 9, 30, 14, 32, 48, 712552),\n",
       " datetime.datetime(2024, 9, 30, 14, 32, 49, 225644),\n",
       " datetime.datetime(2024, 9, 30, 14, 32, 49, 734979),\n",
       " datetime.datetime(2024, 9, 30, 14, 32, 50, 244259),\n",
       " datetime.datetime(2024, 9, 30, 14, 32, 50, 755496),\n",
       " datetime.datetime(2024, 9, 30, 14, 32, 51, 309083),\n",
       " datetime.datetime(2024, 9, 30, 14, 32, 51, 828762),\n",
       " datetime.datetime(2024, 9, 30, 14, 32, 52, 339995),\n",
       " datetime.datetime(2024, 9, 30, 14, 32, 52, 870485),\n",
       " datetime.datetime(2024, 9, 30, 14, 32, 53, 384563),\n",
       " datetime.datetime(2024, 9, 30, 14, 32, 53, 895262),\n",
       " datetime.datetime(2024, 9, 30, 14, 32, 54, 404147),\n",
       " datetime.datetime(2024, 9, 30, 14, 32, 54, 913893),\n",
       " datetime.datetime(2024, 9, 30, 14, 32, 55, 424114),\n",
       " datetime.datetime(2024, 9, 30, 14, 32, 55, 933435),\n",
       " datetime.datetime(2024, 9, 30, 14, 32, 56, 445303),\n",
       " datetime.datetime(2024, 9, 30, 14, 32, 56, 970263),\n",
       " datetime.datetime(2024, 9, 30, 14, 32, 57, 533101),\n",
       " datetime.datetime(2024, 9, 30, 14, 32, 58, 85176),\n",
       " datetime.datetime(2024, 9, 30, 14, 32, 58, 597583),\n",
       " datetime.datetime(2024, 9, 30, 14, 32, 59, 107541),\n",
       " datetime.datetime(2024, 9, 30, 14, 32, 59, 649230),\n",
       " datetime.datetime(2024, 9, 30, 14, 33, 0, 165049),\n",
       " datetime.datetime(2024, 9, 30, 14, 33, 0, 673553),\n",
       " datetime.datetime(2024, 9, 30, 14, 33, 1, 184457),\n",
       " datetime.datetime(2024, 9, 30, 14, 33, 1, 695307),\n",
       " datetime.datetime(2024, 9, 30, 14, 33, 2, 253692),\n",
       " datetime.datetime(2024, 9, 30, 14, 33, 2, 767431),\n",
       " datetime.datetime(2024, 9, 30, 14, 33, 3, 319978),\n",
       " datetime.datetime(2024, 9, 30, 14, 33, 3, 858932),\n",
       " datetime.datetime(2024, 9, 30, 14, 33, 4, 368263),\n",
       " datetime.datetime(2024, 9, 30, 14, 33, 4, 882920),\n",
       " datetime.datetime(2024, 9, 30, 14, 33, 5, 431329),\n",
       " datetime.datetime(2024, 9, 30, 14, 33, 5, 942370),\n",
       " datetime.datetime(2024, 9, 30, 14, 33, 6, 454911),\n",
       " datetime.datetime(2024, 9, 30, 14, 33, 6, 994916),\n",
       " datetime.datetime(2024, 9, 30, 14, 33, 7, 506409),\n",
       " datetime.datetime(2024, 9, 30, 14, 33, 8, 26185),\n",
       " datetime.datetime(2024, 9, 30, 14, 33, 8, 535273),\n",
       " datetime.datetime(2024, 9, 30, 14, 33, 9, 79305),\n",
       " datetime.datetime(2024, 9, 30, 14, 33, 9, 596266),\n",
       " datetime.datetime(2024, 9, 30, 14, 33, 10, 121965),\n",
       " datetime.datetime(2024, 9, 30, 14, 33, 10, 636147),\n",
       " datetime.datetime(2024, 9, 30, 14, 33, 11, 192969),\n",
       " datetime.datetime(2024, 9, 30, 14, 33, 11, 707382),\n",
       " datetime.datetime(2024, 9, 30, 14, 33, 12, 264768),\n",
       " datetime.datetime(2024, 9, 30, 14, 33, 12, 820530),\n",
       " datetime.datetime(2024, 9, 30, 14, 33, 13, 339606),\n",
       " datetime.datetime(2024, 9, 30, 14, 33, 13, 901487),\n",
       " datetime.datetime(2024, 9, 30, 14, 33, 14, 410635),\n",
       " datetime.datetime(2024, 9, 30, 14, 33, 14, 962374),\n",
       " datetime.datetime(2024, 9, 30, 14, 33, 15, 472763),\n",
       " datetime.datetime(2024, 9, 30, 14, 33, 15, 981543),\n",
       " datetime.datetime(2024, 9, 30, 14, 33, 16, 497349),\n",
       " datetime.datetime(2024, 9, 30, 14, 33, 17, 11521),\n",
       " datetime.datetime(2024, 9, 30, 14, 33, 17, 523896),\n",
       " datetime.datetime(2024, 9, 30, 14, 33, 18, 37783),\n",
       " datetime.datetime(2024, 9, 30, 14, 33, 18, 552228),\n",
       " datetime.datetime(2024, 9, 30, 14, 33, 19, 64521),\n",
       " datetime.datetime(2024, 9, 30, 14, 33, 19, 578969),\n",
       " datetime.datetime(2024, 9, 30, 14, 33, 20, 148936),\n",
       " datetime.datetime(2024, 9, 30, 14, 33, 20, 663195),\n",
       " datetime.datetime(2024, 9, 30, 14, 33, 21, 178403),\n",
       " datetime.datetime(2024, 9, 30, 14, 33, 21, 694428),\n",
       " datetime.datetime(2024, 9, 30, 14, 33, 22, 247465),\n",
       " datetime.datetime(2024, 9, 30, 14, 33, 22, 790202),\n",
       " datetime.datetime(2024, 9, 30, 14, 33, 23, 300476),\n",
       " datetime.datetime(2024, 9, 30, 14, 33, 23, 813095),\n",
       " datetime.datetime(2024, 9, 30, 14, 33, 24, 353470),\n",
       " datetime.datetime(2024, 9, 30, 14, 33, 24, 863490),\n",
       " datetime.datetime(2024, 9, 30, 14, 33, 25, 372623),\n",
       " datetime.datetime(2024, 9, 30, 14, 33, 25, 924254),\n",
       " datetime.datetime(2024, 9, 30, 14, 33, 26, 482126),\n",
       " datetime.datetime(2024, 9, 30, 14, 33, 27, 1752),\n",
       " datetime.datetime(2024, 9, 30, 14, 33, 27, 545586),\n",
       " datetime.datetime(2024, 9, 30, 14, 33, 28, 83318),\n",
       " datetime.datetime(2024, 9, 30, 14, 33, 28, 639852),\n",
       " datetime.datetime(2024, 9, 30, 14, 33, 29, 189640),\n",
       " datetime.datetime(2024, 9, 30, 14, 33, 29, 697926),\n",
       " datetime.datetime(2024, 9, 30, 14, 33, 30, 208052),\n",
       " datetime.datetime(2024, 9, 30, 14, 33, 30, 718257),\n",
       " datetime.datetime(2024, 9, 30, 14, 33, 31, 237661),\n",
       " datetime.datetime(2024, 9, 30, 14, 33, 31, 760397),\n",
       " datetime.datetime(2024, 9, 30, 14, 33, 32, 272431),\n",
       " datetime.datetime(2024, 9, 30, 14, 33, 32, 785685),\n",
       " datetime.datetime(2024, 9, 30, 14, 33, 33, 298084),\n",
       " datetime.datetime(2024, 9, 30, 14, 33, 33, 810177),\n",
       " datetime.datetime(2024, 9, 30, 14, 33, 34, 333568),\n",
       " datetime.datetime(2024, 9, 30, 14, 33, 34, 848980),\n",
       " datetime.datetime(2024, 9, 30, 14, 33, 35, 418980),\n",
       " datetime.datetime(2024, 9, 30, 14, 33, 35, 938996),\n",
       " datetime.datetime(2024, 9, 30, 14, 33, 36, 450621),\n",
       " datetime.datetime(2024, 9, 30, 14, 33, 37, 9974),\n",
       " datetime.datetime(2024, 9, 30, 14, 33, 37, 520124),\n",
       " datetime.datetime(2024, 9, 30, 14, 33, 38, 67120),\n",
       " datetime.datetime(2024, 9, 30, 14, 33, 38, 580827),\n",
       " datetime.datetime(2024, 9, 30, 14, 33, 39, 96580),\n",
       " datetime.datetime(2024, 9, 30, 14, 33, 39, 612512),\n",
       " datetime.datetime(2024, 9, 30, 14, 33, 40, 176525),\n",
       " datetime.datetime(2024, 9, 30, 14, 33, 40, 714760),\n",
       " datetime.datetime(2024, 9, 30, 14, 33, 41, 227516),\n",
       " datetime.datetime(2024, 9, 30, 14, 33, 41, 772667),\n",
       " datetime.datetime(2024, 9, 30, 14, 33, 42, 344374),\n",
       " datetime.datetime(2024, 9, 30, 14, 33, 42, 887789),\n",
       " datetime.datetime(2024, 9, 30, 14, 33, 43, 400516),\n",
       " datetime.datetime(2024, 9, 30, 14, 33, 43, 916454),\n",
       " datetime.datetime(2024, 9, 30, 14, 33, 44, 427090),\n",
       " datetime.datetime(2024, 9, 30, 14, 33, 44, 975262),\n",
       " datetime.datetime(2024, 9, 30, 14, 33, 45, 526433),\n",
       " datetime.datetime(2024, 9, 30, 14, 33, 46, 39288),\n",
       " datetime.datetime(2024, 9, 30, 14, 33, 46, 575860),\n",
       " datetime.datetime(2024, 9, 30, 14, 33, 47, 151887),\n",
       " datetime.datetime(2024, 9, 30, 14, 33, 47, 686290),\n",
       " datetime.datetime(2024, 9, 30, 14, 33, 48, 199182),\n",
       " datetime.datetime(2024, 9, 30, 14, 33, 48, 770588),\n",
       " datetime.datetime(2024, 9, 30, 14, 33, 49, 279742),\n",
       " datetime.datetime(2024, 9, 30, 14, 33, 49, 851171),\n",
       " datetime.datetime(2024, 9, 30, 14, 33, 50, 364216),\n",
       " datetime.datetime(2024, 9, 30, 14, 33, 50, 896136),\n",
       " datetime.datetime(2024, 9, 30, 14, 33, 51, 449015),\n",
       " datetime.datetime(2024, 9, 30, 14, 33, 51, 958584),\n",
       " datetime.datetime(2024, 9, 30, 14, 33, 52, 528239),\n",
       " datetime.datetime(2024, 9, 30, 14, 33, 53, 39188),\n",
       " datetime.datetime(2024, 9, 30, 14, 33, 53, 550072),\n",
       " datetime.datetime(2024, 9, 30, 14, 33, 54, 58654),\n",
       " datetime.datetime(2024, 9, 30, 14, 33, 54, 567748),\n",
       " datetime.datetime(2024, 9, 30, 14, 33, 55, 110035),\n",
       " datetime.datetime(2024, 9, 30, 14, 33, 55, 640314),\n",
       " datetime.datetime(2024, 9, 30, 14, 33, 56, 153555),\n",
       " datetime.datetime(2024, 9, 30, 14, 33, 56, 674841),\n",
       " datetime.datetime(2024, 9, 30, 14, 33, 57, 205573),\n",
       " datetime.datetime(2024, 9, 30, 14, 33, 57, 768590),\n",
       " datetime.datetime(2024, 9, 30, 14, 33, 58, 324315),\n",
       " datetime.datetime(2024, 9, 30, 14, 33, 58, 842423),\n",
       " datetime.datetime(2024, 9, 30, 14, 33, 59, 353064),\n",
       " datetime.datetime(2024, 9, 30, 14, 33, 59, 865695),\n",
       " datetime.datetime(2024, 9, 30, 14, 34, 0, 376756),\n",
       " datetime.datetime(2024, 9, 30, 14, 34, 0, 908846),\n",
       " datetime.datetime(2024, 9, 30, 14, 34, 1, 428555),\n",
       " datetime.datetime(2024, 9, 30, 14, 34, 1, 956965),\n",
       " datetime.datetime(2024, 9, 30, 14, 34, 2, 467499),\n",
       " datetime.datetime(2024, 9, 30, 14, 34, 2, 979044),\n",
       " datetime.datetime(2024, 9, 30, 14, 34, 3, 532782),\n",
       " datetime.datetime(2024, 9, 30, 14, 34, 4, 50128),\n",
       " datetime.datetime(2024, 9, 30, 14, 34, 4, 567742),\n",
       " datetime.datetime(2024, 9, 30, 14, 34, 5, 78445),\n",
       " datetime.datetime(2024, 9, 30, 14, 34, 5, 649287),\n",
       " datetime.datetime(2024, 9, 30, 14, 34, 6, 166637),\n",
       " datetime.datetime(2024, 9, 30, 14, 34, 6, 676827),\n",
       " datetime.datetime(2024, 9, 30, 14, 34, 7, 189825),\n",
       " datetime.datetime(2024, 9, 30, 14, 34, 7, 699329),\n",
       " datetime.datetime(2024, 9, 30, 14, 34, 8, 209454),\n",
       " datetime.datetime(2024, 9, 30, 14, 34, 8, 756782),\n",
       " datetime.datetime(2024, 9, 30, 14, 34, 9, 270462),\n",
       " datetime.datetime(2024, 9, 30, 14, 34, 9, 834943),\n",
       " datetime.datetime(2024, 9, 30, 14, 34, 10, 352042),\n",
       " datetime.datetime(2024, 9, 30, 14, 34, 10, 868331),\n",
       " datetime.datetime(2024, 9, 30, 14, 34, 11, 381332),\n",
       " datetime.datetime(2024, 9, 30, 14, 34, 11, 894072),\n",
       " datetime.datetime(2024, 9, 30, 14, 34, 12, 402813),\n",
       " datetime.datetime(2024, 9, 30, 14, 34, 12, 910659),\n",
       " datetime.datetime(2024, 9, 30, 14, 34, 13, 504504),\n",
       " datetime.datetime(2024, 9, 30, 14, 34, 14, 16778),\n",
       " datetime.datetime(2024, 9, 30, 14, 34, 14, 529108),\n",
       " datetime.datetime(2024, 9, 30, 14, 34, 15, 41779),\n",
       " datetime.datetime(2024, 9, 30, 14, 34, 15, 602842),\n",
       " datetime.datetime(2024, 9, 30, 14, 34, 16, 121782),\n",
       " datetime.datetime(2024, 9, 30, 14, 34, 16, 632493),\n",
       " datetime.datetime(2024, 9, 30, 14, 34, 17, 143577),\n",
       " datetime.datetime(2024, 9, 30, 14, 34, 17, 697545),\n",
       " datetime.datetime(2024, 9, 30, 14, 34, 18, 208699),\n",
       " datetime.datetime(2024, 9, 30, 14, 34, 18, 718609),\n",
       " datetime.datetime(2024, 9, 30, 14, 34, 19, 258996),\n",
       " datetime.datetime(2024, 9, 30, 14, 34, 19, 806246),\n",
       " datetime.datetime(2024, 9, 30, 14, 34, 20, 316363),\n",
       " datetime.datetime(2024, 9, 30, 14, 34, 20, 826297),\n",
       " datetime.datetime(2024, 9, 30, 14, 34, 21, 362851),\n",
       " datetime.datetime(2024, 9, 30, 14, 34, 21, 872412),\n",
       " datetime.datetime(2024, 9, 30, 14, 34, 22, 382182),\n",
       " datetime.datetime(2024, 9, 30, 14, 34, 22, 954876),\n",
       " datetime.datetime(2024, 9, 30, 14, 34, 23, 472243),\n",
       " datetime.datetime(2024, 9, 30, 14, 34, 23, 985723),\n",
       " datetime.datetime(2024, 9, 30, 14, 34, 24, 526035),\n",
       " datetime.datetime(2024, 9, 30, 14, 34, 25, 37977),\n",
       " datetime.datetime(2024, 9, 30, 14, 34, 25, 553044),\n",
       " datetime.datetime(2024, 9, 30, 14, 34, 26, 66512),\n",
       " datetime.datetime(2024, 9, 30, 14, 34, 26, 587451),\n",
       " datetime.datetime(2024, 9, 30, 14, 34, 27, 133712),\n",
       " datetime.datetime(2024, 9, 30, 14, 34, 27, 653716),\n",
       " datetime.datetime(2024, 9, 30, 14, 34, 28, 173708),\n",
       " datetime.datetime(2024, 9, 30, 14, 34, 28, 682773)]"
      ]
     },
     "execution_count": 6,
     "metadata": {},
     "output_type": "execute_result"
    }
   ],
   "source": [
    "timestamps\n",
    "# Define the incorrect and correct times\n",
    "incorrect_time = pd.to_datetime(\"6:01:00\").time()  # Incorrect time (6:01)\n",
    "correct_time = pd.to_datetime(\"14:24:00\").time()   # Correct time (2:24)\n",
    "\n",
    "# Calculate the time difference\n",
    "time_difference = timedelta(hours=correct_time.hour, minutes=correct_time.minute, seconds=correct_time.second) - \\\n",
    "                  timedelta(hours=incorrect_time.hour, minutes=incorrect_time.minute, seconds=incorrect_time.second)\n",
    "\n",
    "# Apply the time difference to correct the list of incorrect timestamps\n",
    "corrected_timestamps = [t + time_difference for t in timestamps]\n",
    "print(timestamps)\n",
    "corrected_timestamps"
   ]
  },
  {
   "cell_type": "code",
   "execution_count": 7,
   "metadata": {},
   "outputs": [
    {
     "name": "stdout",
     "output_type": "stream",
     "text": [
      "[[-0.096    -0.1176    1.66738 ]\n",
      " [ 0.3246   -0.1152    1.613656]\n",
      " [ 0.6306   -0.1692    1.298572]\n",
      " ...\n",
      " [ 0.1473   -0.6795    0.804408]\n",
      " [ 0.3282   -0.6177    0.663564]\n",
      " [ 0.4329   -0.4923    0.468996]]\n",
      "[-0.096   0.3246  0.6306 ...  0.1473  0.3282  0.4329]\n"
     ]
    },
    {
     "data": {
      "text/plain": [
       "4608"
      ]
     },
     "execution_count": 7,
     "metadata": {},
     "output_type": "execute_result"
    }
   ],
   "source": [
    "file_list = sorted(glob.glob(f'{folder}/*.npz'))\n",
    "len(file_list)\n",
    "data = np.load(file_list[0])\n",
    "pos = data['pos'][0]\n",
    "\n",
    "all_mags = [np.array([0,0,0])]\n",
    "for x in range(len(file_list)):\n",
    "    data = np.load(file_list[x])\n",
    "    mags = data['mags']\n",
    "    all_mags = np.append(all_mags, mags[0], axis=0)\n",
    "    pos = data['pos'][0]\n",
    "    B = np.mean(mags, axis=0)\n",
    "    mags_stdev = np.std(mags, axis=0)\n",
    "all_mags = np.delete(all_mags, 0, axis=0)\n",
    "\n",
    "print(all_mags)\n",
    "bx = all_mags[:,0]\n",
    "by = all_mags[:,1]\n",
    "bz = all_mags[:,2]\n",
    "\n",
    "print(bx)\n",
    "len(bx)"
   ]
  },
  {
   "cell_type": "code",
   "execution_count": 8,
   "metadata": {},
   "outputs": [
    {
     "name": "stdout",
     "output_type": "stream",
     "text": [
      "[0.6671999999999999, 0.6666, 0.6671999999999999, 0.6657, 0.6668999999999999, 0.6666, 0.6657, 0.6671999999999999, 0.666, 0.6657, 0.666, 0.6675, 0.6668999999999999, 0.6678, 0.6663, 0.6675, 0.6675, 0.6666, 0.6666, 0.6675, 0.6681, 0.6668999999999999, 0.6663, 0.6668999999999999, 0.6678, 0.6668999999999999, 0.6681, 0.6666, 0.6681, 0.6675, 0.6668999999999999, 0.6678, 0.6654, 0.6675, 0.6668999999999999, 0.6668999999999999, 0.6654, 0.6671999999999999, 0.6663, 0.6663, 0.6651, 0.6668999999999999, 0.6668999999999999, 0.6668999999999999, 0.6668999999999999, 0.6681, 0.6668999999999999, 0.6671999999999999, 0.6666, 0.6678, 0.6678, 0.6648, 0.6645, 0.6728999999999999, 0.6705, 0.6696, 0.6711, 0.6696, 0.6696, 0.6693, 0.6684, 0.6701999999999999, 0.6705, 0.6687, 0.6705, 0.6705, 0.6693, 0.6681, 0.6663, 0.6222, 0.6216, 0.6294, 0.6356999999999999, 0.6497999999999999, 0.6516000000000001, 0.648, 0.6497999999999999, 0.6474, 0.6476999999999999, 0.6446999999999999, 0.6465, 0.633, 0.6489, 0.6591, 0.6548999999999999, 0.66, 0.6507, 0.6534, 0.6597, 0.6651, 0.66, 0.6501, 0.6491999999999999, 0.6453, 0.6483, 0.6426000000000001, 0.6375, 0.6446999999999999, 0.6617999999999999, 0.6638999999999999, 0.6663, 0.6675, 0.6687, 0.6671999999999999, 0.6701999999999999, 0.6681, 0.6728999999999999, 0.6698999999999999, 0.6711, 0.6681, 0.6717, 0.6594, 0.684, 0.6681, 0.6978, 0.6981, 0.699, 0.6986999999999999, 0.6978, 0.6981, 0.6986999999999999, 0.6981, 0.6978, 0.699, 0.6966, 0.699, 0.699, 0.6966, 0.7011000000000001, 0.6992999999999999, 0.699, 0.6978, 0.6984, 0.6978, 0.6999, 0.6978, 0.6872999999999999, 0.7179, 0.7071000000000001, 0.6897, 0.6881999999999999, 0.687, 0.6921, 0.6969, 0.6812999999999999, 0.6992999999999999, 0.6948, 0.6957, 0.6858, 0.6744, 0.6885, 0.6924, 0.678, 0.687, 0.69, 0.6918, 0.6924, 0.6924, 0.6842999999999999, 0.6816, 0.6855, 0.6876, 0.6867, 0.6864, 0.6879, 0.6888, 0.6872999999999999, 0.6872999999999999, 0.6894, 0.6879, 0.6876, 0.6888, 0.6885, 0.6891, 0.6867, 0.6855, 0.687, 0.6897, 0.687, 0.6872999999999999, 0.6867, 0.6879, 0.6894, 0.687, 0.6888, 0.6872999999999999, 0.6855, 0.6876, 0.6855, 0.6858, 0.6876, 0.6819, 0.6981, 0.6924, 0.6921, 0.6906, 0.6927, 0.6927, 0.6921, 0.6911999999999999, 0.6902999999999999, 0.6924, 0.6918, 0.6921, 0.6894, 0.6921, 0.6924, 0.6921, 0.6911999999999999, 0.6897, 0.6915, 0.6911999999999999, 0.6918, 0.6911999999999999, 0.6924, 0.6924, 0.6918, 0.693, 0.6924, 0.6915, 0.6927, 0.6915, 0.6902999999999999, 0.6924, 0.6906, 0.6915, 0.6894, 0.6911999999999999, 0.6825, 0.7245, 0.7281, 0.7269, 0.7263, 0.726, 0.7263, 0.726, 0.7269, 0.7256999999999999, 0.7256999999999999, 0.726, 0.7253999999999999, 0.7251000000000001, 0.7245, 0.7256999999999999, 0.7272, 0.7286999999999999, 0.7278, 0.7263, 0.729, 0.7266, 0.7278, 0.7278, 0.7248, 0.7272, 0.7248, 0.7278, 0.7031999999999999, 0.7014, 0.7091999999999999, 0.6872999999999999, 0.6633, 0.6633, 0.6761999999999999, 0.6768, 0.6752999999999999, 0.6744, 0.6752999999999999, 0.6761999999999999, 0.6759, 0.6756, 0.6768, 0.6756, 0.6768, 0.6774, 0.6765, 0.6768, 0.6782999999999999, 0.675, 0.6774, 0.6756, 0.6759, 0.6774, 0.6777, 0.6768, 0.6774, 0.675, 0.6765, 0.6777]\n",
      "[-0.3156, -0.31859999999999994, -0.31589999999999996, -0.31739999999999996, -0.31589999999999996, -0.3153, -0.31589999999999996, -0.3165, -0.3171, -0.3153, -0.3165, -0.31589999999999996, -0.3153, -0.3171, -0.3171, -0.315, -0.3165, -0.318, -0.3162, -0.3165, -0.3156, -0.3156, -0.31589999999999996, -0.3153, -0.3156, -0.3165, -0.3156, -0.3156, -0.3162, -0.3153, -0.31589999999999996, -0.3153, -0.31739999999999996, -0.3165, -0.3165, -0.3177, -0.3165, -0.3171, -0.31739999999999996, -0.3171, -0.3162, -0.31589999999999996, -0.31589999999999996, -0.3171, -0.3165, -0.3162, -0.3156, -0.3165, -0.3141, -0.32009999999999994, -0.32639999999999997, -0.3315, -0.32639999999999997, -0.3402, -0.3375, -0.2862, -0.28559999999999997, -0.28409999999999996, -0.2853, -0.2853, -0.2868, -0.28409999999999996, -0.2847, -0.2853, -0.28559999999999997, -0.285, -0.2853, -0.2853, -0.2934, -0.27, -0.2784, -0.2865, -0.29009999999999997, -0.2976, -0.29819999999999997, -0.2985, -0.29969999999999997, -0.31139999999999995, -0.3078, -0.3048, -0.31859999999999994, -0.2919, -0.2994, -0.285, -0.2919, -0.3063, -0.297, -0.2958, -0.29519999999999996, -0.303, -0.3, -0.3156, -0.3165, -0.31739999999999996, -0.32309999999999994, -0.32159999999999994, -0.3252, -0.3297, -0.3333, -0.3369, -0.3387, -0.3357, -0.3348, -0.3354, -0.33509999999999995, -0.33509999999999995, -0.3315, -0.32759999999999995, -0.32789999999999997, -0.3318, -0.3324, -0.3093, -0.32909999999999995, -0.3927, -0.44939999999999997, -0.44880000000000003, -0.44909999999999994, -0.44880000000000003, -0.4482, -0.4482, -0.4482, -0.44789999999999996, -0.4497, -0.44759999999999994, -0.44880000000000003, -0.45, -0.44880000000000003, -0.447, -0.44909999999999994, -0.44909999999999994, -0.44789999999999996, -0.44909999999999994, -0.45030000000000003, -0.44939999999999997, -0.4482, -0.44789999999999996, -0.43589999999999995, -0.45359999999999995, -0.4293, -0.4206, -0.4203, -0.38159999999999994, -0.3942, -0.38759999999999994, -0.3807, -0.4068, -0.4059, -0.4035, -0.38130000000000003, -0.3639, -0.3498, -0.369, -0.3621, -0.3702, -0.372, -0.3726, -0.3735, -0.3738, -0.396, -0.43289999999999995, -0.4356, -0.4308, -0.4326, -0.43139999999999995, -0.4317, -0.4317, -0.43139999999999995, -0.4305, -0.4326, -0.4332, -0.4299, -0.43139999999999995, -0.4323, -0.4311, -0.43289999999999995, -0.4305, -0.43139999999999995, -0.4317, -0.4317, -0.4326, -0.432, -0.4326, -0.4299, -0.4317, -0.432, -0.43139999999999995, -0.4335, -0.43289999999999995, -0.4311, -0.4317, -0.4326, -0.4167, -0.3549, -0.3621, -0.3639, -0.3639, -0.3633, -0.36269999999999997, -0.3636, -0.3609, -0.3621, -0.3633, -0.3621, -0.3624, -0.36269999999999997, -0.3639, -0.3624, -0.3636, -0.3648, -0.363, -0.3615, -0.3636, -0.3636, -0.3636, -0.3636, -0.3624, -0.3603, -0.3633, -0.3645, -0.3624, -0.36419999999999997, -0.36269999999999997, -0.3624, -0.3624, -0.3633, -0.3636, -0.36419999999999997, -0.3636, -0.3705, -0.46109999999999995, -0.462, -0.4635, -0.46229999999999993, -0.46229999999999993, -0.4632, -0.4629, -0.4635, -0.4632, -0.46379999999999993, -0.4632, -0.46379999999999993, -0.46259999999999996, -0.4632, -0.4632, -0.4635, -0.46259999999999996, -0.4629, -0.4614, -0.46259999999999996, -0.4635, -0.4629, -0.462, -0.462, -0.462, -0.46079999999999993, -0.4632, -0.4128, -0.35459999999999997, -0.3348, -0.33030000000000004, -0.2703, -0.27, -0.28259999999999996, -0.28259999999999996, -0.2823, -0.28259999999999996, -0.2814, -0.2817, -0.2835, -0.282, -0.2832, -0.2823, -0.2823, -0.2847, -0.2817, -0.282, -0.2835, -0.2817, -0.2835, -0.28259999999999996, -0.282, -0.2832, -0.2838, -0.2835, -0.282, -0.2838, -0.2823, -0.2832]\n",
      "[0.8005359999999999, 0.7986, 0.7971480000000001, 0.799568, 0.7986, 0.8005359999999999, 0.7990839999999999, 0.800052, 0.7981159999999999, 0.7990839999999999, 0.796664, 0.799568, 0.7976319999999999, 0.800052, 0.7990839999999999, 0.796664, 0.7981159999999999, 0.7986, 0.7981159999999999, 0.800052, 0.8005359999999999, 0.800052, 0.7981159999999999, 0.7990839999999999, 0.7981159999999999, 0.7990839999999999, 0.802472, 0.80102, 0.801504, 0.7986, 0.7981159999999999, 0.799568, 0.7986, 0.799568, 0.800052, 0.7990839999999999, 0.7986, 0.7976319999999999, 0.80102, 0.801504, 0.800052, 0.7990839999999999, 0.7971480000000001, 0.7986, 0.7976319999999999, 0.7986, 0.7981159999999999, 0.7986, 0.8005359999999999, 0.799568, 0.80586, 0.8005359999999999, 0.806344, 0.802472, 0.81312, 0.847, 0.848452, 0.8474839999999999, 0.845548, 0.8450639999999999, 0.8460319999999999, 0.845548, 0.847, 0.8474839999999999, 0.847, 0.847, 0.845548, 0.8465159999999999, 0.844096, 0.778756, 0.766656, 0.778756, 0.8019879999999999, 0.849904, 0.85668, 0.864424, 0.876524, 0.8712, 0.870716, 0.864908, 0.821832, 0.7884359999999999, 0.8136039999999999, 0.836352, 0.8266720000000001, 0.836836, 0.8237680000000001, 0.827156, 0.841676, 0.845548, 0.835384, 0.821348, 0.8140879999999999, 0.809248, 0.808764, 0.80102, 0.7744, 0.783596, 0.810216, 0.825704, 0.831028, 0.8329639999999999, 0.833448, 0.8349, 0.831996, 0.8329639999999999, 0.8479679999999999, 0.839256, 0.8431279999999999, 0.84216, 0.8479679999999999, 0.822316, 0.8624879999999999, 0.841192, 0.937024, 0.935572, 0.9360559999999999, 0.937024, 0.9379919999999999, 0.9389599999999999, 0.938476, 0.9375079999999999, 0.9379919999999999, 0.937024, 0.935572, 0.9365399999999999, 0.938476, 0.935572, 0.937024, 0.93412, 0.9379919999999999, 0.9375079999999999, 0.9389599999999999, 0.9365399999999999, 0.937024, 0.9379919999999999, 0.9244399999999999, 0.9805839999999999, 0.9660639999999999, 0.900724, 0.8905599999999999, 0.9317, 0.9360559999999999, 0.8891079999999999, 0.864424, 0.8745879999999999, 0.836836, 0.838288, 0.8266720000000001, 0.8358679999999999, 0.8784599999999999, 0.888624, 0.869748, 0.886688, 0.884268, 0.884268, 0.886204, 0.887656, 0.8547440000000001, 0.821348, 0.8252200000000001, 0.8300599999999999, 0.833448, 0.8329639999999999, 0.831028, 0.833448, 0.8300599999999999, 0.829576, 0.8329639999999999, 0.831996, 0.8329639999999999, 0.830544, 0.83248, 0.8290919999999999, 0.8315119999999999, 0.833448, 0.833448, 0.830544, 0.8300599999999999, 0.8315119999999999, 0.830544, 0.83248, 0.831996, 0.8329639999999999, 0.8329639999999999, 0.83248, 0.831028, 0.8329639999999999, 0.8300599999999999, 0.831028, 0.8315119999999999, 0.8344159999999999, 0.8741039999999999, 0.86878, 0.872168, 0.8712, 0.870716, 0.869264, 0.8712, 0.870716, 0.869748, 0.867812, 0.870716, 0.869264, 0.869748, 0.871684, 0.872168, 0.869264, 0.8712, 0.870716, 0.870716, 0.8712, 0.872652, 0.869748, 0.8712, 0.869264, 0.872168, 0.871684, 0.8712, 0.867812, 0.865876, 0.869264, 0.86878, 0.869748, 0.870716, 0.870232, 0.868296, 0.868296, 0.8610359999999999, 1.046408, 1.045924, 1.044956, 1.04302, 1.044472, 1.0439880000000001, 1.047376, 1.0439880000000001, 1.0439880000000001, 1.0454400000000001, 1.048344, 1.044956, 1.044956, 1.04302, 1.0439880000000001, 1.0439880000000001, 1.044956, 1.043504, 1.045924, 1.044956, 1.0439880000000001, 1.0425360000000001, 1.044956, 1.047376, 1.0454400000000001, 1.045924, 1.051248, 1.000428, 0.965096, 0.9655799999999999, 0.92686, 0.8465159999999999, 0.8489359999999999, 0.86636, 0.862972, 0.865876, 0.864908, 0.8639399999999999, 0.863456, 0.864908, 0.86636, 0.864424, 0.864424, 0.865876, 0.865876, 0.8639399999999999, 0.8624879999999999, 0.866844, 0.867328, 0.864908, 0.864908, 0.8653919999999999, 0.86636, 0.866844, 0.8639399999999999, 0.864424, 0.867328, 0.864908, 0.8653919999999999]\n",
      "[[ 6.75 -6.75  0.  ]\n",
      " [ 2.25 -6.75  0.  ]\n",
      " [-2.25 -6.75  0.  ]\n",
      " [-6.75 -6.75  0.  ]\n",
      " [ 6.75 -2.25  0.  ]\n",
      " [ 2.25 -2.25  0.  ]\n",
      " [-2.25 -2.25  0.  ]\n",
      " [-6.75 -2.25  0.  ]\n",
      " [ 6.75  2.25  0.  ]\n",
      " [ 2.25  2.25  0.  ]\n",
      " [-2.25  2.25  0.  ]\n",
      " [-6.75  2.25  0.  ]\n",
      " [ 6.75  6.75  0.  ]\n",
      " [ 2.25  6.75  0.  ]\n",
      " [-2.25  6.75  0.  ]\n",
      " [-6.75  6.75  0.  ]]\n"
     ]
    }
   ],
   "source": [
    "bx7 = []\n",
    "by7 = []\n",
    "bz7 = []\n",
    "for x in range(len(bx)):\n",
    "    if x % 16 == 7:\n",
    "        bx7.append(bx[x])\n",
    "        by7.append(by[x])\n",
    "        bz7.append(bz[x])\n",
    "print(bx7)\n",
    "print(by7)\n",
    "print(bz7)\n",
    "print(pos)"
   ]
  },
  {
   "cell_type": "code",
   "execution_count": 9,
   "metadata": {},
   "outputs": [
    {
     "data": {
      "application/vnd.plotly.v1+json": {
       "config": {
        "plotlyServerURL": "https://plot.ly"
       },
       "data": [
        {
         "mode": "markers",
         "type": "scatter",
         "x": [
          0,
          1,
          2,
          3,
          4,
          5,
          6,
          7,
          8,
          9,
          10,
          11,
          12,
          13,
          14,
          15,
          16,
          17,
          18,
          19,
          20,
          21,
          22,
          23,
          24,
          25,
          26,
          27,
          28,
          29,
          30,
          31,
          32,
          33,
          34,
          35,
          36,
          37,
          38,
          39,
          40,
          41,
          42,
          43,
          44,
          45,
          46,
          47,
          48,
          49,
          50,
          51,
          52,
          53,
          54,
          55,
          56,
          57,
          58,
          59,
          60,
          61,
          62,
          63,
          64,
          65,
          66,
          67,
          68,
          69,
          70,
          71,
          72,
          73,
          74,
          75,
          76,
          77,
          78,
          79,
          80,
          81,
          82,
          83,
          84,
          85,
          86,
          87,
          88,
          89,
          90,
          91,
          92,
          93,
          94,
          95,
          96,
          97,
          98,
          99,
          100,
          101,
          102,
          103,
          104,
          105,
          106,
          107,
          108,
          109,
          110,
          111,
          112,
          113,
          114,
          115,
          116,
          117,
          118,
          119,
          120,
          121,
          122,
          123,
          124,
          125,
          126,
          127,
          128,
          129,
          130,
          131,
          132,
          133,
          134,
          135,
          136,
          137,
          138,
          139,
          140,
          141,
          142,
          143,
          144,
          145,
          146,
          147,
          148,
          149,
          150,
          151,
          152,
          153,
          154,
          155,
          156,
          157,
          158,
          159,
          160,
          161,
          162,
          163,
          164,
          165,
          166,
          167,
          168,
          169,
          170,
          171,
          172,
          173,
          174,
          175,
          176,
          177,
          178,
          179,
          180,
          181,
          182,
          183,
          184,
          185,
          186,
          187,
          188,
          189,
          190,
          191,
          192,
          193,
          194,
          195,
          196,
          197,
          198,
          199,
          200,
          201,
          202,
          203,
          204,
          205,
          206,
          207,
          208,
          209,
          210,
          211,
          212,
          213,
          214,
          215,
          216,
          217,
          218,
          219,
          220,
          221,
          222,
          223,
          224,
          225,
          226,
          227,
          228,
          229,
          230,
          231,
          232,
          233,
          234,
          235,
          236,
          237,
          238,
          239,
          240,
          241,
          242,
          243,
          244,
          245,
          246,
          247,
          248,
          249,
          250,
          251,
          252,
          253,
          254,
          255,
          256,
          257,
          258,
          259,
          260,
          261,
          262,
          263,
          264,
          265,
          266,
          267,
          268,
          269,
          270,
          271,
          272,
          273,
          274,
          275,
          276,
          277,
          278,
          279,
          280,
          281,
          282,
          283,
          284,
          285,
          286,
          287
         ],
         "y": [
          0.6671999999999999,
          0.6666,
          0.6671999999999999,
          0.6657,
          0.6668999999999999,
          0.6666,
          0.6657,
          0.6671999999999999,
          0.666,
          0.6657,
          0.666,
          0.6675,
          0.6668999999999999,
          0.6678,
          0.6663,
          0.6675,
          0.6675,
          0.6666,
          0.6666,
          0.6675,
          0.6681,
          0.6668999999999999,
          0.6663,
          0.6668999999999999,
          0.6678,
          0.6668999999999999,
          0.6681,
          0.6666,
          0.6681,
          0.6675,
          0.6668999999999999,
          0.6678,
          0.6654,
          0.6675,
          0.6668999999999999,
          0.6668999999999999,
          0.6654,
          0.6671999999999999,
          0.6663,
          0.6663,
          0.6651,
          0.6668999999999999,
          0.6668999999999999,
          0.6668999999999999,
          0.6668999999999999,
          0.6681,
          0.6668999999999999,
          0.6671999999999999,
          0.6666,
          0.6678,
          0.6678,
          0.6648,
          0.6645,
          0.6728999999999999,
          0.6705,
          0.6696,
          0.6711,
          0.6696,
          0.6696,
          0.6693,
          0.6684,
          0.6701999999999999,
          0.6705,
          0.6687,
          0.6705,
          0.6705,
          0.6693,
          0.6681,
          0.6663,
          0.6222,
          0.6216,
          0.6294,
          0.6356999999999999,
          0.6497999999999999,
          0.6516000000000001,
          0.648,
          0.6497999999999999,
          0.6474,
          0.6476999999999999,
          0.6446999999999999,
          0.6465,
          0.633,
          0.6489,
          0.6591,
          0.6548999999999999,
          0.66,
          0.6507,
          0.6534,
          0.6597,
          0.6651,
          0.66,
          0.6501,
          0.6491999999999999,
          0.6453,
          0.6483,
          0.6426000000000001,
          0.6375,
          0.6446999999999999,
          0.6617999999999999,
          0.6638999999999999,
          0.6663,
          0.6675,
          0.6687,
          0.6671999999999999,
          0.6701999999999999,
          0.6681,
          0.6728999999999999,
          0.6698999999999999,
          0.6711,
          0.6681,
          0.6717,
          0.6594,
          0.684,
          0.6681,
          0.6978,
          0.6981,
          0.699,
          0.6986999999999999,
          0.6978,
          0.6981,
          0.6986999999999999,
          0.6981,
          0.6978,
          0.699,
          0.6966,
          0.699,
          0.699,
          0.6966,
          0.7011000000000001,
          0.6992999999999999,
          0.699,
          0.6978,
          0.6984,
          0.6978,
          0.6999,
          0.6978,
          0.6872999999999999,
          0.7179,
          0.7071000000000001,
          0.6897,
          0.6881999999999999,
          0.687,
          0.6921,
          0.6969,
          0.6812999999999999,
          0.6992999999999999,
          0.6948,
          0.6957,
          0.6858,
          0.6744,
          0.6885,
          0.6924,
          0.678,
          0.687,
          0.69,
          0.6918,
          0.6924,
          0.6924,
          0.6842999999999999,
          0.6816,
          0.6855,
          0.6876,
          0.6867,
          0.6864,
          0.6879,
          0.6888,
          0.6872999999999999,
          0.6872999999999999,
          0.6894,
          0.6879,
          0.6876,
          0.6888,
          0.6885,
          0.6891,
          0.6867,
          0.6855,
          0.687,
          0.6897,
          0.687,
          0.6872999999999999,
          0.6867,
          0.6879,
          0.6894,
          0.687,
          0.6888,
          0.6872999999999999,
          0.6855,
          0.6876,
          0.6855,
          0.6858,
          0.6876,
          0.6819,
          0.6981,
          0.6924,
          0.6921,
          0.6906,
          0.6927,
          0.6927,
          0.6921,
          0.6911999999999999,
          0.6902999999999999,
          0.6924,
          0.6918,
          0.6921,
          0.6894,
          0.6921,
          0.6924,
          0.6921,
          0.6911999999999999,
          0.6897,
          0.6915,
          0.6911999999999999,
          0.6918,
          0.6911999999999999,
          0.6924,
          0.6924,
          0.6918,
          0.693,
          0.6924,
          0.6915,
          0.6927,
          0.6915,
          0.6902999999999999,
          0.6924,
          0.6906,
          0.6915,
          0.6894,
          0.6911999999999999,
          0.6825,
          0.7245,
          0.7281,
          0.7269,
          0.7263,
          0.726,
          0.7263,
          0.726,
          0.7269,
          0.7256999999999999,
          0.7256999999999999,
          0.726,
          0.7253999999999999,
          0.7251000000000001,
          0.7245,
          0.7256999999999999,
          0.7272,
          0.7286999999999999,
          0.7278,
          0.7263,
          0.729,
          0.7266,
          0.7278,
          0.7278,
          0.7248,
          0.7272,
          0.7248,
          0.7278,
          0.7031999999999999,
          0.7014,
          0.7091999999999999,
          0.6872999999999999,
          0.6633,
          0.6633,
          0.6761999999999999,
          0.6768,
          0.6752999999999999,
          0.6744,
          0.6752999999999999,
          0.6761999999999999,
          0.6759,
          0.6756,
          0.6768,
          0.6756,
          0.6768,
          0.6774,
          0.6765,
          0.6768,
          0.6782999999999999,
          0.675,
          0.6774,
          0.6756,
          0.6759,
          0.6774,
          0.6777,
          0.6768,
          0.6774,
          0.675,
          0.6765,
          0.6777
         ]
        }
       ],
       "layout": {
        "template": {
         "data": {
          "bar": [
           {
            "error_x": {
             "color": "#2a3f5f"
            },
            "error_y": {
             "color": "#2a3f5f"
            },
            "marker": {
             "line": {
              "color": "#E5ECF6",
              "width": 0.5
             },
             "pattern": {
              "fillmode": "overlay",
              "size": 10,
              "solidity": 0.2
             }
            },
            "type": "bar"
           }
          ],
          "barpolar": [
           {
            "marker": {
             "line": {
              "color": "#E5ECF6",
              "width": 0.5
             },
             "pattern": {
              "fillmode": "overlay",
              "size": 10,
              "solidity": 0.2
             }
            },
            "type": "barpolar"
           }
          ],
          "carpet": [
           {
            "aaxis": {
             "endlinecolor": "#2a3f5f",
             "gridcolor": "white",
             "linecolor": "white",
             "minorgridcolor": "white",
             "startlinecolor": "#2a3f5f"
            },
            "baxis": {
             "endlinecolor": "#2a3f5f",
             "gridcolor": "white",
             "linecolor": "white",
             "minorgridcolor": "white",
             "startlinecolor": "#2a3f5f"
            },
            "type": "carpet"
           }
          ],
          "choropleth": [
           {
            "colorbar": {
             "outlinewidth": 0,
             "ticks": ""
            },
            "type": "choropleth"
           }
          ],
          "contour": [
           {
            "colorbar": {
             "outlinewidth": 0,
             "ticks": ""
            },
            "colorscale": [
             [
              0,
              "#0d0887"
             ],
             [
              0.1111111111111111,
              "#46039f"
             ],
             [
              0.2222222222222222,
              "#7201a8"
             ],
             [
              0.3333333333333333,
              "#9c179e"
             ],
             [
              0.4444444444444444,
              "#bd3786"
             ],
             [
              0.5555555555555556,
              "#d8576b"
             ],
             [
              0.6666666666666666,
              "#ed7953"
             ],
             [
              0.7777777777777778,
              "#fb9f3a"
             ],
             [
              0.8888888888888888,
              "#fdca26"
             ],
             [
              1,
              "#f0f921"
             ]
            ],
            "type": "contour"
           }
          ],
          "contourcarpet": [
           {
            "colorbar": {
             "outlinewidth": 0,
             "ticks": ""
            },
            "type": "contourcarpet"
           }
          ],
          "heatmap": [
           {
            "colorbar": {
             "outlinewidth": 0,
             "ticks": ""
            },
            "colorscale": [
             [
              0,
              "#0d0887"
             ],
             [
              0.1111111111111111,
              "#46039f"
             ],
             [
              0.2222222222222222,
              "#7201a8"
             ],
             [
              0.3333333333333333,
              "#9c179e"
             ],
             [
              0.4444444444444444,
              "#bd3786"
             ],
             [
              0.5555555555555556,
              "#d8576b"
             ],
             [
              0.6666666666666666,
              "#ed7953"
             ],
             [
              0.7777777777777778,
              "#fb9f3a"
             ],
             [
              0.8888888888888888,
              "#fdca26"
             ],
             [
              1,
              "#f0f921"
             ]
            ],
            "type": "heatmap"
           }
          ],
          "heatmapgl": [
           {
            "colorbar": {
             "outlinewidth": 0,
             "ticks": ""
            },
            "colorscale": [
             [
              0,
              "#0d0887"
             ],
             [
              0.1111111111111111,
              "#46039f"
             ],
             [
              0.2222222222222222,
              "#7201a8"
             ],
             [
              0.3333333333333333,
              "#9c179e"
             ],
             [
              0.4444444444444444,
              "#bd3786"
             ],
             [
              0.5555555555555556,
              "#d8576b"
             ],
             [
              0.6666666666666666,
              "#ed7953"
             ],
             [
              0.7777777777777778,
              "#fb9f3a"
             ],
             [
              0.8888888888888888,
              "#fdca26"
             ],
             [
              1,
              "#f0f921"
             ]
            ],
            "type": "heatmapgl"
           }
          ],
          "histogram": [
           {
            "marker": {
             "pattern": {
              "fillmode": "overlay",
              "size": 10,
              "solidity": 0.2
             }
            },
            "type": "histogram"
           }
          ],
          "histogram2d": [
           {
            "colorbar": {
             "outlinewidth": 0,
             "ticks": ""
            },
            "colorscale": [
             [
              0,
              "#0d0887"
             ],
             [
              0.1111111111111111,
              "#46039f"
             ],
             [
              0.2222222222222222,
              "#7201a8"
             ],
             [
              0.3333333333333333,
              "#9c179e"
             ],
             [
              0.4444444444444444,
              "#bd3786"
             ],
             [
              0.5555555555555556,
              "#d8576b"
             ],
             [
              0.6666666666666666,
              "#ed7953"
             ],
             [
              0.7777777777777778,
              "#fb9f3a"
             ],
             [
              0.8888888888888888,
              "#fdca26"
             ],
             [
              1,
              "#f0f921"
             ]
            ],
            "type": "histogram2d"
           }
          ],
          "histogram2dcontour": [
           {
            "colorbar": {
             "outlinewidth": 0,
             "ticks": ""
            },
            "colorscale": [
             [
              0,
              "#0d0887"
             ],
             [
              0.1111111111111111,
              "#46039f"
             ],
             [
              0.2222222222222222,
              "#7201a8"
             ],
             [
              0.3333333333333333,
              "#9c179e"
             ],
             [
              0.4444444444444444,
              "#bd3786"
             ],
             [
              0.5555555555555556,
              "#d8576b"
             ],
             [
              0.6666666666666666,
              "#ed7953"
             ],
             [
              0.7777777777777778,
              "#fb9f3a"
             ],
             [
              0.8888888888888888,
              "#fdca26"
             ],
             [
              1,
              "#f0f921"
             ]
            ],
            "type": "histogram2dcontour"
           }
          ],
          "mesh3d": [
           {
            "colorbar": {
             "outlinewidth": 0,
             "ticks": ""
            },
            "type": "mesh3d"
           }
          ],
          "parcoords": [
           {
            "line": {
             "colorbar": {
              "outlinewidth": 0,
              "ticks": ""
             }
            },
            "type": "parcoords"
           }
          ],
          "pie": [
           {
            "automargin": true,
            "type": "pie"
           }
          ],
          "scatter": [
           {
            "fillpattern": {
             "fillmode": "overlay",
             "size": 10,
             "solidity": 0.2
            },
            "type": "scatter"
           }
          ],
          "scatter3d": [
           {
            "line": {
             "colorbar": {
              "outlinewidth": 0,
              "ticks": ""
             }
            },
            "marker": {
             "colorbar": {
              "outlinewidth": 0,
              "ticks": ""
             }
            },
            "type": "scatter3d"
           }
          ],
          "scattercarpet": [
           {
            "marker": {
             "colorbar": {
              "outlinewidth": 0,
              "ticks": ""
             }
            },
            "type": "scattercarpet"
           }
          ],
          "scattergeo": [
           {
            "marker": {
             "colorbar": {
              "outlinewidth": 0,
              "ticks": ""
             }
            },
            "type": "scattergeo"
           }
          ],
          "scattergl": [
           {
            "marker": {
             "colorbar": {
              "outlinewidth": 0,
              "ticks": ""
             }
            },
            "type": "scattergl"
           }
          ],
          "scattermapbox": [
           {
            "marker": {
             "colorbar": {
              "outlinewidth": 0,
              "ticks": ""
             }
            },
            "type": "scattermapbox"
           }
          ],
          "scatterpolar": [
           {
            "marker": {
             "colorbar": {
              "outlinewidth": 0,
              "ticks": ""
             }
            },
            "type": "scatterpolar"
           }
          ],
          "scatterpolargl": [
           {
            "marker": {
             "colorbar": {
              "outlinewidth": 0,
              "ticks": ""
             }
            },
            "type": "scatterpolargl"
           }
          ],
          "scatterternary": [
           {
            "marker": {
             "colorbar": {
              "outlinewidth": 0,
              "ticks": ""
             }
            },
            "type": "scatterternary"
           }
          ],
          "surface": [
           {
            "colorbar": {
             "outlinewidth": 0,
             "ticks": ""
            },
            "colorscale": [
             [
              0,
              "#0d0887"
             ],
             [
              0.1111111111111111,
              "#46039f"
             ],
             [
              0.2222222222222222,
              "#7201a8"
             ],
             [
              0.3333333333333333,
              "#9c179e"
             ],
             [
              0.4444444444444444,
              "#bd3786"
             ],
             [
              0.5555555555555556,
              "#d8576b"
             ],
             [
              0.6666666666666666,
              "#ed7953"
             ],
             [
              0.7777777777777778,
              "#fb9f3a"
             ],
             [
              0.8888888888888888,
              "#fdca26"
             ],
             [
              1,
              "#f0f921"
             ]
            ],
            "type": "surface"
           }
          ],
          "table": [
           {
            "cells": {
             "fill": {
              "color": "#EBF0F8"
             },
             "line": {
              "color": "white"
             }
            },
            "header": {
             "fill": {
              "color": "#C8D4E3"
             },
             "line": {
              "color": "white"
             }
            },
            "type": "table"
           }
          ]
         },
         "layout": {
          "annotationdefaults": {
           "arrowcolor": "#2a3f5f",
           "arrowhead": 0,
           "arrowwidth": 1
          },
          "autotypenumbers": "strict",
          "coloraxis": {
           "colorbar": {
            "outlinewidth": 0,
            "ticks": ""
           }
          },
          "colorscale": {
           "diverging": [
            [
             0,
             "#8e0152"
            ],
            [
             0.1,
             "#c51b7d"
            ],
            [
             0.2,
             "#de77ae"
            ],
            [
             0.3,
             "#f1b6da"
            ],
            [
             0.4,
             "#fde0ef"
            ],
            [
             0.5,
             "#f7f7f7"
            ],
            [
             0.6,
             "#e6f5d0"
            ],
            [
             0.7,
             "#b8e186"
            ],
            [
             0.8,
             "#7fbc41"
            ],
            [
             0.9,
             "#4d9221"
            ],
            [
             1,
             "#276419"
            ]
           ],
           "sequential": [
            [
             0,
             "#0d0887"
            ],
            [
             0.1111111111111111,
             "#46039f"
            ],
            [
             0.2222222222222222,
             "#7201a8"
            ],
            [
             0.3333333333333333,
             "#9c179e"
            ],
            [
             0.4444444444444444,
             "#bd3786"
            ],
            [
             0.5555555555555556,
             "#d8576b"
            ],
            [
             0.6666666666666666,
             "#ed7953"
            ],
            [
             0.7777777777777778,
             "#fb9f3a"
            ],
            [
             0.8888888888888888,
             "#fdca26"
            ],
            [
             1,
             "#f0f921"
            ]
           ],
           "sequentialminus": [
            [
             0,
             "#0d0887"
            ],
            [
             0.1111111111111111,
             "#46039f"
            ],
            [
             0.2222222222222222,
             "#7201a8"
            ],
            [
             0.3333333333333333,
             "#9c179e"
            ],
            [
             0.4444444444444444,
             "#bd3786"
            ],
            [
             0.5555555555555556,
             "#d8576b"
            ],
            [
             0.6666666666666666,
             "#ed7953"
            ],
            [
             0.7777777777777778,
             "#fb9f3a"
            ],
            [
             0.8888888888888888,
             "#fdca26"
            ],
            [
             1,
             "#f0f921"
            ]
           ]
          },
          "colorway": [
           "#636efa",
           "#EF553B",
           "#00cc96",
           "#ab63fa",
           "#FFA15A",
           "#19d3f3",
           "#FF6692",
           "#B6E880",
           "#FF97FF",
           "#FECB52"
          ],
          "font": {
           "color": "#2a3f5f"
          },
          "geo": {
           "bgcolor": "white",
           "lakecolor": "white",
           "landcolor": "#E5ECF6",
           "showlakes": true,
           "showland": true,
           "subunitcolor": "white"
          },
          "hoverlabel": {
           "align": "left"
          },
          "hovermode": "closest",
          "mapbox": {
           "style": "light"
          },
          "paper_bgcolor": "white",
          "plot_bgcolor": "#E5ECF6",
          "polar": {
           "angularaxis": {
            "gridcolor": "white",
            "linecolor": "white",
            "ticks": ""
           },
           "bgcolor": "#E5ECF6",
           "radialaxis": {
            "gridcolor": "white",
            "linecolor": "white",
            "ticks": ""
           }
          },
          "scene": {
           "xaxis": {
            "backgroundcolor": "#E5ECF6",
            "gridcolor": "white",
            "gridwidth": 2,
            "linecolor": "white",
            "showbackground": true,
            "ticks": "",
            "zerolinecolor": "white"
           },
           "yaxis": {
            "backgroundcolor": "#E5ECF6",
            "gridcolor": "white",
            "gridwidth": 2,
            "linecolor": "white",
            "showbackground": true,
            "ticks": "",
            "zerolinecolor": "white"
           },
           "zaxis": {
            "backgroundcolor": "#E5ECF6",
            "gridcolor": "white",
            "gridwidth": 2,
            "linecolor": "white",
            "showbackground": true,
            "ticks": "",
            "zerolinecolor": "white"
           }
          },
          "shapedefaults": {
           "line": {
            "color": "#2a3f5f"
           }
          },
          "ternary": {
           "aaxis": {
            "gridcolor": "white",
            "linecolor": "white",
            "ticks": ""
           },
           "baxis": {
            "gridcolor": "white",
            "linecolor": "white",
            "ticks": ""
           },
           "bgcolor": "#E5ECF6",
           "caxis": {
            "gridcolor": "white",
            "linecolor": "white",
            "ticks": ""
           }
          },
          "title": {
           "x": 0.05
          },
          "xaxis": {
           "automargin": true,
           "gridcolor": "white",
           "linecolor": "white",
           "ticks": "",
           "title": {
            "standoff": 15
           },
           "zerolinecolor": "white",
           "zerolinewidth": 2
          },
          "yaxis": {
           "automargin": true,
           "gridcolor": "white",
           "linecolor": "white",
           "ticks": "",
           "title": {
            "standoff": 15
           },
           "zerolinecolor": "white",
           "zerolinewidth": 2
          }
         }
        },
        "title": {
         "text": "b_x over time"
        },
        "xaxis": {
         "title": {
          "text": "Index"
         }
        },
        "yaxis": {
         "scaleanchor": "y",
         "title": {
          "text": "b_x [mT]"
         }
        }
       }
      }
     },
     "metadata": {},
     "output_type": "display_data"
    }
   ],
   "source": [
    "index = np.array(range(len(bx7)))\n",
    "measuredbx = go.Scatter(x=index, y=bx7, mode='markers')\n",
    "layoutbx = go.Layout(title='b_x over time')\n",
    "figbx = go.Figure(data=[measuredbx], layout=layoutbx)\n",
    "figbx.update_yaxes(scaleanchor='y')\n",
    "figbx.update_layout(\n",
    "    xaxis_title=\"Index\",\n",
    "    yaxis_title=\"b_x [mT]\"\n",
    ")\n",
    "figbx.show()"
   ]
  },
  {
   "cell_type": "code",
   "execution_count": 10,
   "metadata": {},
   "outputs": [
    {
     "data": {
      "application/vnd.plotly.v1+json": {
       "config": {
        "plotlyServerURL": "https://plot.ly"
       },
       "data": [
        {
         "mode": "markers",
         "type": "scatter",
         "x": [
          0,
          1,
          2,
          3,
          4,
          5,
          6,
          7,
          8,
          9,
          10,
          11,
          12,
          13,
          14,
          15,
          16,
          17,
          18,
          19,
          20,
          21,
          22,
          23,
          24,
          25,
          26,
          27,
          28,
          29,
          30,
          31,
          32,
          33,
          34,
          35,
          36,
          37,
          38,
          39,
          40,
          41,
          42,
          43,
          44,
          45,
          46,
          47,
          48,
          49,
          50,
          51,
          52,
          53,
          54,
          55,
          56,
          57,
          58,
          59,
          60,
          61,
          62,
          63,
          64,
          65,
          66,
          67,
          68,
          69,
          70,
          71,
          72,
          73,
          74,
          75,
          76,
          77,
          78,
          79,
          80,
          81,
          82,
          83,
          84,
          85,
          86,
          87,
          88,
          89,
          90,
          91,
          92,
          93,
          94,
          95,
          96,
          97,
          98,
          99,
          100,
          101,
          102,
          103,
          104,
          105,
          106,
          107,
          108,
          109,
          110,
          111,
          112,
          113,
          114,
          115,
          116,
          117,
          118,
          119,
          120,
          121,
          122,
          123,
          124,
          125,
          126,
          127,
          128,
          129,
          130,
          131,
          132,
          133,
          134,
          135,
          136,
          137,
          138,
          139,
          140,
          141,
          142,
          143,
          144,
          145,
          146,
          147,
          148,
          149,
          150,
          151,
          152,
          153,
          154,
          155,
          156,
          157,
          158,
          159,
          160,
          161,
          162,
          163,
          164,
          165,
          166,
          167,
          168,
          169,
          170,
          171,
          172,
          173,
          174,
          175,
          176,
          177,
          178,
          179,
          180,
          181,
          182,
          183,
          184,
          185,
          186,
          187,
          188,
          189,
          190,
          191,
          192,
          193,
          194,
          195,
          196,
          197,
          198,
          199,
          200,
          201,
          202,
          203,
          204,
          205,
          206,
          207,
          208,
          209,
          210,
          211,
          212,
          213,
          214,
          215,
          216,
          217,
          218,
          219,
          220,
          221,
          222,
          223,
          224,
          225,
          226,
          227,
          228,
          229,
          230,
          231,
          232,
          233,
          234,
          235,
          236,
          237,
          238,
          239,
          240,
          241,
          242,
          243,
          244,
          245,
          246,
          247,
          248,
          249,
          250,
          251,
          252,
          253,
          254,
          255,
          256,
          257,
          258,
          259,
          260,
          261,
          262,
          263,
          264,
          265,
          266,
          267,
          268,
          269,
          270,
          271,
          272,
          273,
          274,
          275,
          276,
          277,
          278,
          279,
          280,
          281,
          282,
          283,
          284,
          285,
          286,
          287
         ],
         "y": [
          -0.3156,
          -0.31859999999999994,
          -0.31589999999999996,
          -0.31739999999999996,
          -0.31589999999999996,
          -0.3153,
          -0.31589999999999996,
          -0.3165,
          -0.3171,
          -0.3153,
          -0.3165,
          -0.31589999999999996,
          -0.3153,
          -0.3171,
          -0.3171,
          -0.315,
          -0.3165,
          -0.318,
          -0.3162,
          -0.3165,
          -0.3156,
          -0.3156,
          -0.31589999999999996,
          -0.3153,
          -0.3156,
          -0.3165,
          -0.3156,
          -0.3156,
          -0.3162,
          -0.3153,
          -0.31589999999999996,
          -0.3153,
          -0.31739999999999996,
          -0.3165,
          -0.3165,
          -0.3177,
          -0.3165,
          -0.3171,
          -0.31739999999999996,
          -0.3171,
          -0.3162,
          -0.31589999999999996,
          -0.31589999999999996,
          -0.3171,
          -0.3165,
          -0.3162,
          -0.3156,
          -0.3165,
          -0.3141,
          -0.32009999999999994,
          -0.32639999999999997,
          -0.3315,
          -0.32639999999999997,
          -0.3402,
          -0.3375,
          -0.2862,
          -0.28559999999999997,
          -0.28409999999999996,
          -0.2853,
          -0.2853,
          -0.2868,
          -0.28409999999999996,
          -0.2847,
          -0.2853,
          -0.28559999999999997,
          -0.285,
          -0.2853,
          -0.2853,
          -0.2934,
          -0.27,
          -0.2784,
          -0.2865,
          -0.29009999999999997,
          -0.2976,
          -0.29819999999999997,
          -0.2985,
          -0.29969999999999997,
          -0.31139999999999995,
          -0.3078,
          -0.3048,
          -0.31859999999999994,
          -0.2919,
          -0.2994,
          -0.285,
          -0.2919,
          -0.3063,
          -0.297,
          -0.2958,
          -0.29519999999999996,
          -0.303,
          -0.3,
          -0.3156,
          -0.3165,
          -0.31739999999999996,
          -0.32309999999999994,
          -0.32159999999999994,
          -0.3252,
          -0.3297,
          -0.3333,
          -0.3369,
          -0.3387,
          -0.3357,
          -0.3348,
          -0.3354,
          -0.33509999999999995,
          -0.33509999999999995,
          -0.3315,
          -0.32759999999999995,
          -0.32789999999999997,
          -0.3318,
          -0.3324,
          -0.3093,
          -0.32909999999999995,
          -0.3927,
          -0.44939999999999997,
          -0.44880000000000003,
          -0.44909999999999994,
          -0.44880000000000003,
          -0.4482,
          -0.4482,
          -0.4482,
          -0.44789999999999996,
          -0.4497,
          -0.44759999999999994,
          -0.44880000000000003,
          -0.45,
          -0.44880000000000003,
          -0.447,
          -0.44909999999999994,
          -0.44909999999999994,
          -0.44789999999999996,
          -0.44909999999999994,
          -0.45030000000000003,
          -0.44939999999999997,
          -0.4482,
          -0.44789999999999996,
          -0.43589999999999995,
          -0.45359999999999995,
          -0.4293,
          -0.4206,
          -0.4203,
          -0.38159999999999994,
          -0.3942,
          -0.38759999999999994,
          -0.3807,
          -0.4068,
          -0.4059,
          -0.4035,
          -0.38130000000000003,
          -0.3639,
          -0.3498,
          -0.369,
          -0.3621,
          -0.3702,
          -0.372,
          -0.3726,
          -0.3735,
          -0.3738,
          -0.396,
          -0.43289999999999995,
          -0.4356,
          -0.4308,
          -0.4326,
          -0.43139999999999995,
          -0.4317,
          -0.4317,
          -0.43139999999999995,
          -0.4305,
          -0.4326,
          -0.4332,
          -0.4299,
          -0.43139999999999995,
          -0.4323,
          -0.4311,
          -0.43289999999999995,
          -0.4305,
          -0.43139999999999995,
          -0.4317,
          -0.4317,
          -0.4326,
          -0.432,
          -0.4326,
          -0.4299,
          -0.4317,
          -0.432,
          -0.43139999999999995,
          -0.4335,
          -0.43289999999999995,
          -0.4311,
          -0.4317,
          -0.4326,
          -0.4167,
          -0.3549,
          -0.3621,
          -0.3639,
          -0.3639,
          -0.3633,
          -0.36269999999999997,
          -0.3636,
          -0.3609,
          -0.3621,
          -0.3633,
          -0.3621,
          -0.3624,
          -0.36269999999999997,
          -0.3639,
          -0.3624,
          -0.3636,
          -0.3648,
          -0.363,
          -0.3615,
          -0.3636,
          -0.3636,
          -0.3636,
          -0.3636,
          -0.3624,
          -0.3603,
          -0.3633,
          -0.3645,
          -0.3624,
          -0.36419999999999997,
          -0.36269999999999997,
          -0.3624,
          -0.3624,
          -0.3633,
          -0.3636,
          -0.36419999999999997,
          -0.3636,
          -0.3705,
          -0.46109999999999995,
          -0.462,
          -0.4635,
          -0.46229999999999993,
          -0.46229999999999993,
          -0.4632,
          -0.4629,
          -0.4635,
          -0.4632,
          -0.46379999999999993,
          -0.4632,
          -0.46379999999999993,
          -0.46259999999999996,
          -0.4632,
          -0.4632,
          -0.4635,
          -0.46259999999999996,
          -0.4629,
          -0.4614,
          -0.46259999999999996,
          -0.4635,
          -0.4629,
          -0.462,
          -0.462,
          -0.462,
          -0.46079999999999993,
          -0.4632,
          -0.4128,
          -0.35459999999999997,
          -0.3348,
          -0.33030000000000004,
          -0.2703,
          -0.27,
          -0.28259999999999996,
          -0.28259999999999996,
          -0.2823,
          -0.28259999999999996,
          -0.2814,
          -0.2817,
          -0.2835,
          -0.282,
          -0.2832,
          -0.2823,
          -0.2823,
          -0.2847,
          -0.2817,
          -0.282,
          -0.2835,
          -0.2817,
          -0.2835,
          -0.28259999999999996,
          -0.282,
          -0.2832,
          -0.2838,
          -0.2835,
          -0.282,
          -0.2838,
          -0.2823,
          -0.2832
         ]
        }
       ],
       "layout": {
        "template": {
         "data": {
          "bar": [
           {
            "error_x": {
             "color": "#2a3f5f"
            },
            "error_y": {
             "color": "#2a3f5f"
            },
            "marker": {
             "line": {
              "color": "#E5ECF6",
              "width": 0.5
             },
             "pattern": {
              "fillmode": "overlay",
              "size": 10,
              "solidity": 0.2
             }
            },
            "type": "bar"
           }
          ],
          "barpolar": [
           {
            "marker": {
             "line": {
              "color": "#E5ECF6",
              "width": 0.5
             },
             "pattern": {
              "fillmode": "overlay",
              "size": 10,
              "solidity": 0.2
             }
            },
            "type": "barpolar"
           }
          ],
          "carpet": [
           {
            "aaxis": {
             "endlinecolor": "#2a3f5f",
             "gridcolor": "white",
             "linecolor": "white",
             "minorgridcolor": "white",
             "startlinecolor": "#2a3f5f"
            },
            "baxis": {
             "endlinecolor": "#2a3f5f",
             "gridcolor": "white",
             "linecolor": "white",
             "minorgridcolor": "white",
             "startlinecolor": "#2a3f5f"
            },
            "type": "carpet"
           }
          ],
          "choropleth": [
           {
            "colorbar": {
             "outlinewidth": 0,
             "ticks": ""
            },
            "type": "choropleth"
           }
          ],
          "contour": [
           {
            "colorbar": {
             "outlinewidth": 0,
             "ticks": ""
            },
            "colorscale": [
             [
              0,
              "#0d0887"
             ],
             [
              0.1111111111111111,
              "#46039f"
             ],
             [
              0.2222222222222222,
              "#7201a8"
             ],
             [
              0.3333333333333333,
              "#9c179e"
             ],
             [
              0.4444444444444444,
              "#bd3786"
             ],
             [
              0.5555555555555556,
              "#d8576b"
             ],
             [
              0.6666666666666666,
              "#ed7953"
             ],
             [
              0.7777777777777778,
              "#fb9f3a"
             ],
             [
              0.8888888888888888,
              "#fdca26"
             ],
             [
              1,
              "#f0f921"
             ]
            ],
            "type": "contour"
           }
          ],
          "contourcarpet": [
           {
            "colorbar": {
             "outlinewidth": 0,
             "ticks": ""
            },
            "type": "contourcarpet"
           }
          ],
          "heatmap": [
           {
            "colorbar": {
             "outlinewidth": 0,
             "ticks": ""
            },
            "colorscale": [
             [
              0,
              "#0d0887"
             ],
             [
              0.1111111111111111,
              "#46039f"
             ],
             [
              0.2222222222222222,
              "#7201a8"
             ],
             [
              0.3333333333333333,
              "#9c179e"
             ],
             [
              0.4444444444444444,
              "#bd3786"
             ],
             [
              0.5555555555555556,
              "#d8576b"
             ],
             [
              0.6666666666666666,
              "#ed7953"
             ],
             [
              0.7777777777777778,
              "#fb9f3a"
             ],
             [
              0.8888888888888888,
              "#fdca26"
             ],
             [
              1,
              "#f0f921"
             ]
            ],
            "type": "heatmap"
           }
          ],
          "heatmapgl": [
           {
            "colorbar": {
             "outlinewidth": 0,
             "ticks": ""
            },
            "colorscale": [
             [
              0,
              "#0d0887"
             ],
             [
              0.1111111111111111,
              "#46039f"
             ],
             [
              0.2222222222222222,
              "#7201a8"
             ],
             [
              0.3333333333333333,
              "#9c179e"
             ],
             [
              0.4444444444444444,
              "#bd3786"
             ],
             [
              0.5555555555555556,
              "#d8576b"
             ],
             [
              0.6666666666666666,
              "#ed7953"
             ],
             [
              0.7777777777777778,
              "#fb9f3a"
             ],
             [
              0.8888888888888888,
              "#fdca26"
             ],
             [
              1,
              "#f0f921"
             ]
            ],
            "type": "heatmapgl"
           }
          ],
          "histogram": [
           {
            "marker": {
             "pattern": {
              "fillmode": "overlay",
              "size": 10,
              "solidity": 0.2
             }
            },
            "type": "histogram"
           }
          ],
          "histogram2d": [
           {
            "colorbar": {
             "outlinewidth": 0,
             "ticks": ""
            },
            "colorscale": [
             [
              0,
              "#0d0887"
             ],
             [
              0.1111111111111111,
              "#46039f"
             ],
             [
              0.2222222222222222,
              "#7201a8"
             ],
             [
              0.3333333333333333,
              "#9c179e"
             ],
             [
              0.4444444444444444,
              "#bd3786"
             ],
             [
              0.5555555555555556,
              "#d8576b"
             ],
             [
              0.6666666666666666,
              "#ed7953"
             ],
             [
              0.7777777777777778,
              "#fb9f3a"
             ],
             [
              0.8888888888888888,
              "#fdca26"
             ],
             [
              1,
              "#f0f921"
             ]
            ],
            "type": "histogram2d"
           }
          ],
          "histogram2dcontour": [
           {
            "colorbar": {
             "outlinewidth": 0,
             "ticks": ""
            },
            "colorscale": [
             [
              0,
              "#0d0887"
             ],
             [
              0.1111111111111111,
              "#46039f"
             ],
             [
              0.2222222222222222,
              "#7201a8"
             ],
             [
              0.3333333333333333,
              "#9c179e"
             ],
             [
              0.4444444444444444,
              "#bd3786"
             ],
             [
              0.5555555555555556,
              "#d8576b"
             ],
             [
              0.6666666666666666,
              "#ed7953"
             ],
             [
              0.7777777777777778,
              "#fb9f3a"
             ],
             [
              0.8888888888888888,
              "#fdca26"
             ],
             [
              1,
              "#f0f921"
             ]
            ],
            "type": "histogram2dcontour"
           }
          ],
          "mesh3d": [
           {
            "colorbar": {
             "outlinewidth": 0,
             "ticks": ""
            },
            "type": "mesh3d"
           }
          ],
          "parcoords": [
           {
            "line": {
             "colorbar": {
              "outlinewidth": 0,
              "ticks": ""
             }
            },
            "type": "parcoords"
           }
          ],
          "pie": [
           {
            "automargin": true,
            "type": "pie"
           }
          ],
          "scatter": [
           {
            "fillpattern": {
             "fillmode": "overlay",
             "size": 10,
             "solidity": 0.2
            },
            "type": "scatter"
           }
          ],
          "scatter3d": [
           {
            "line": {
             "colorbar": {
              "outlinewidth": 0,
              "ticks": ""
             }
            },
            "marker": {
             "colorbar": {
              "outlinewidth": 0,
              "ticks": ""
             }
            },
            "type": "scatter3d"
           }
          ],
          "scattercarpet": [
           {
            "marker": {
             "colorbar": {
              "outlinewidth": 0,
              "ticks": ""
             }
            },
            "type": "scattercarpet"
           }
          ],
          "scattergeo": [
           {
            "marker": {
             "colorbar": {
              "outlinewidth": 0,
              "ticks": ""
             }
            },
            "type": "scattergeo"
           }
          ],
          "scattergl": [
           {
            "marker": {
             "colorbar": {
              "outlinewidth": 0,
              "ticks": ""
             }
            },
            "type": "scattergl"
           }
          ],
          "scattermapbox": [
           {
            "marker": {
             "colorbar": {
              "outlinewidth": 0,
              "ticks": ""
             }
            },
            "type": "scattermapbox"
           }
          ],
          "scatterpolar": [
           {
            "marker": {
             "colorbar": {
              "outlinewidth": 0,
              "ticks": ""
             }
            },
            "type": "scatterpolar"
           }
          ],
          "scatterpolargl": [
           {
            "marker": {
             "colorbar": {
              "outlinewidth": 0,
              "ticks": ""
             }
            },
            "type": "scatterpolargl"
           }
          ],
          "scatterternary": [
           {
            "marker": {
             "colorbar": {
              "outlinewidth": 0,
              "ticks": ""
             }
            },
            "type": "scatterternary"
           }
          ],
          "surface": [
           {
            "colorbar": {
             "outlinewidth": 0,
             "ticks": ""
            },
            "colorscale": [
             [
              0,
              "#0d0887"
             ],
             [
              0.1111111111111111,
              "#46039f"
             ],
             [
              0.2222222222222222,
              "#7201a8"
             ],
             [
              0.3333333333333333,
              "#9c179e"
             ],
             [
              0.4444444444444444,
              "#bd3786"
             ],
             [
              0.5555555555555556,
              "#d8576b"
             ],
             [
              0.6666666666666666,
              "#ed7953"
             ],
             [
              0.7777777777777778,
              "#fb9f3a"
             ],
             [
              0.8888888888888888,
              "#fdca26"
             ],
             [
              1,
              "#f0f921"
             ]
            ],
            "type": "surface"
           }
          ],
          "table": [
           {
            "cells": {
             "fill": {
              "color": "#EBF0F8"
             },
             "line": {
              "color": "white"
             }
            },
            "header": {
             "fill": {
              "color": "#C8D4E3"
             },
             "line": {
              "color": "white"
             }
            },
            "type": "table"
           }
          ]
         },
         "layout": {
          "annotationdefaults": {
           "arrowcolor": "#2a3f5f",
           "arrowhead": 0,
           "arrowwidth": 1
          },
          "autotypenumbers": "strict",
          "coloraxis": {
           "colorbar": {
            "outlinewidth": 0,
            "ticks": ""
           }
          },
          "colorscale": {
           "diverging": [
            [
             0,
             "#8e0152"
            ],
            [
             0.1,
             "#c51b7d"
            ],
            [
             0.2,
             "#de77ae"
            ],
            [
             0.3,
             "#f1b6da"
            ],
            [
             0.4,
             "#fde0ef"
            ],
            [
             0.5,
             "#f7f7f7"
            ],
            [
             0.6,
             "#e6f5d0"
            ],
            [
             0.7,
             "#b8e186"
            ],
            [
             0.8,
             "#7fbc41"
            ],
            [
             0.9,
             "#4d9221"
            ],
            [
             1,
             "#276419"
            ]
           ],
           "sequential": [
            [
             0,
             "#0d0887"
            ],
            [
             0.1111111111111111,
             "#46039f"
            ],
            [
             0.2222222222222222,
             "#7201a8"
            ],
            [
             0.3333333333333333,
             "#9c179e"
            ],
            [
             0.4444444444444444,
             "#bd3786"
            ],
            [
             0.5555555555555556,
             "#d8576b"
            ],
            [
             0.6666666666666666,
             "#ed7953"
            ],
            [
             0.7777777777777778,
             "#fb9f3a"
            ],
            [
             0.8888888888888888,
             "#fdca26"
            ],
            [
             1,
             "#f0f921"
            ]
           ],
           "sequentialminus": [
            [
             0,
             "#0d0887"
            ],
            [
             0.1111111111111111,
             "#46039f"
            ],
            [
             0.2222222222222222,
             "#7201a8"
            ],
            [
             0.3333333333333333,
             "#9c179e"
            ],
            [
             0.4444444444444444,
             "#bd3786"
            ],
            [
             0.5555555555555556,
             "#d8576b"
            ],
            [
             0.6666666666666666,
             "#ed7953"
            ],
            [
             0.7777777777777778,
             "#fb9f3a"
            ],
            [
             0.8888888888888888,
             "#fdca26"
            ],
            [
             1,
             "#f0f921"
            ]
           ]
          },
          "colorway": [
           "#636efa",
           "#EF553B",
           "#00cc96",
           "#ab63fa",
           "#FFA15A",
           "#19d3f3",
           "#FF6692",
           "#B6E880",
           "#FF97FF",
           "#FECB52"
          ],
          "font": {
           "color": "#2a3f5f"
          },
          "geo": {
           "bgcolor": "white",
           "lakecolor": "white",
           "landcolor": "#E5ECF6",
           "showlakes": true,
           "showland": true,
           "subunitcolor": "white"
          },
          "hoverlabel": {
           "align": "left"
          },
          "hovermode": "closest",
          "mapbox": {
           "style": "light"
          },
          "paper_bgcolor": "white",
          "plot_bgcolor": "#E5ECF6",
          "polar": {
           "angularaxis": {
            "gridcolor": "white",
            "linecolor": "white",
            "ticks": ""
           },
           "bgcolor": "#E5ECF6",
           "radialaxis": {
            "gridcolor": "white",
            "linecolor": "white",
            "ticks": ""
           }
          },
          "scene": {
           "xaxis": {
            "backgroundcolor": "#E5ECF6",
            "gridcolor": "white",
            "gridwidth": 2,
            "linecolor": "white",
            "showbackground": true,
            "ticks": "",
            "zerolinecolor": "white"
           },
           "yaxis": {
            "backgroundcolor": "#E5ECF6",
            "gridcolor": "white",
            "gridwidth": 2,
            "linecolor": "white",
            "showbackground": true,
            "ticks": "",
            "zerolinecolor": "white"
           },
           "zaxis": {
            "backgroundcolor": "#E5ECF6",
            "gridcolor": "white",
            "gridwidth": 2,
            "linecolor": "white",
            "showbackground": true,
            "ticks": "",
            "zerolinecolor": "white"
           }
          },
          "shapedefaults": {
           "line": {
            "color": "#2a3f5f"
           }
          },
          "ternary": {
           "aaxis": {
            "gridcolor": "white",
            "linecolor": "white",
            "ticks": ""
           },
           "baxis": {
            "gridcolor": "white",
            "linecolor": "white",
            "ticks": ""
           },
           "bgcolor": "#E5ECF6",
           "caxis": {
            "gridcolor": "white",
            "linecolor": "white",
            "ticks": ""
           }
          },
          "title": {
           "x": 0.05
          },
          "xaxis": {
           "automargin": true,
           "gridcolor": "white",
           "linecolor": "white",
           "ticks": "",
           "title": {
            "standoff": 15
           },
           "zerolinecolor": "white",
           "zerolinewidth": 2
          },
          "yaxis": {
           "automargin": true,
           "gridcolor": "white",
           "linecolor": "white",
           "ticks": "",
           "title": {
            "standoff": 15
           },
           "zerolinecolor": "white",
           "zerolinewidth": 2
          }
         }
        },
        "title": {
         "text": "b_y over time"
        },
        "xaxis": {
         "title": {
          "text": "Index"
         }
        },
        "yaxis": {
         "scaleanchor": "y",
         "title": {
          "text": "b_y [mT]"
         }
        }
       }
      }
     },
     "metadata": {},
     "output_type": "display_data"
    }
   ],
   "source": [
    "measuredby = go.Scatter(x=index, y=by7, mode='markers')\n",
    "layoutby = go.Layout(title='b_y over time')\n",
    "figby = go.Figure(data=[measuredby], layout=layoutby)\n",
    "figby.update_yaxes(scaleanchor='y')\n",
    "figby.update_layout(\n",
    "    xaxis_title=\"Index\",\n",
    "    yaxis_title=\"b_y [mT]\"\n",
    ")\n",
    "figby.show()"
   ]
  },
  {
   "cell_type": "code",
   "execution_count": 11,
   "metadata": {},
   "outputs": [
    {
     "data": {
      "application/vnd.plotly.v1+json": {
       "config": {
        "plotlyServerURL": "https://plot.ly"
       },
       "data": [
        {
         "mode": "markers",
         "type": "scatter",
         "x": [
          0,
          1,
          2,
          3,
          4,
          5,
          6,
          7,
          8,
          9,
          10,
          11,
          12,
          13,
          14,
          15,
          16,
          17,
          18,
          19,
          20,
          21,
          22,
          23,
          24,
          25,
          26,
          27,
          28,
          29,
          30,
          31,
          32,
          33,
          34,
          35,
          36,
          37,
          38,
          39,
          40,
          41,
          42,
          43,
          44,
          45,
          46,
          47,
          48,
          49,
          50,
          51,
          52,
          53,
          54,
          55,
          56,
          57,
          58,
          59,
          60,
          61,
          62,
          63,
          64,
          65,
          66,
          67,
          68,
          69,
          70,
          71,
          72,
          73,
          74,
          75,
          76,
          77,
          78,
          79,
          80,
          81,
          82,
          83,
          84,
          85,
          86,
          87,
          88,
          89,
          90,
          91,
          92,
          93,
          94,
          95,
          96,
          97,
          98,
          99,
          100,
          101,
          102,
          103,
          104,
          105,
          106,
          107,
          108,
          109,
          110,
          111,
          112,
          113,
          114,
          115,
          116,
          117,
          118,
          119,
          120,
          121,
          122,
          123,
          124,
          125,
          126,
          127,
          128,
          129,
          130,
          131,
          132,
          133,
          134,
          135,
          136,
          137,
          138,
          139,
          140,
          141,
          142,
          143,
          144,
          145,
          146,
          147,
          148,
          149,
          150,
          151,
          152,
          153,
          154,
          155,
          156,
          157,
          158,
          159,
          160,
          161,
          162,
          163,
          164,
          165,
          166,
          167,
          168,
          169,
          170,
          171,
          172,
          173,
          174,
          175,
          176,
          177,
          178,
          179,
          180,
          181,
          182,
          183,
          184,
          185,
          186,
          187,
          188,
          189,
          190,
          191,
          192,
          193,
          194,
          195,
          196,
          197,
          198,
          199,
          200,
          201,
          202,
          203,
          204,
          205,
          206,
          207,
          208,
          209,
          210,
          211,
          212,
          213,
          214,
          215,
          216,
          217,
          218,
          219,
          220,
          221,
          222,
          223,
          224,
          225,
          226,
          227,
          228,
          229,
          230,
          231,
          232,
          233,
          234,
          235,
          236,
          237,
          238,
          239,
          240,
          241,
          242,
          243,
          244,
          245,
          246,
          247,
          248,
          249,
          250,
          251,
          252,
          253,
          254,
          255,
          256,
          257,
          258,
          259,
          260,
          261,
          262,
          263,
          264,
          265,
          266,
          267,
          268,
          269,
          270,
          271,
          272,
          273,
          274,
          275,
          276,
          277,
          278,
          279,
          280,
          281,
          282,
          283,
          284,
          285,
          286,
          287
         ],
         "y": [
          0.8005359999999999,
          0.7986,
          0.7971480000000001,
          0.799568,
          0.7986,
          0.8005359999999999,
          0.7990839999999999,
          0.800052,
          0.7981159999999999,
          0.7990839999999999,
          0.796664,
          0.799568,
          0.7976319999999999,
          0.800052,
          0.7990839999999999,
          0.796664,
          0.7981159999999999,
          0.7986,
          0.7981159999999999,
          0.800052,
          0.8005359999999999,
          0.800052,
          0.7981159999999999,
          0.7990839999999999,
          0.7981159999999999,
          0.7990839999999999,
          0.802472,
          0.80102,
          0.801504,
          0.7986,
          0.7981159999999999,
          0.799568,
          0.7986,
          0.799568,
          0.800052,
          0.7990839999999999,
          0.7986,
          0.7976319999999999,
          0.80102,
          0.801504,
          0.800052,
          0.7990839999999999,
          0.7971480000000001,
          0.7986,
          0.7976319999999999,
          0.7986,
          0.7981159999999999,
          0.7986,
          0.8005359999999999,
          0.799568,
          0.80586,
          0.8005359999999999,
          0.806344,
          0.802472,
          0.81312,
          0.847,
          0.848452,
          0.8474839999999999,
          0.845548,
          0.8450639999999999,
          0.8460319999999999,
          0.845548,
          0.847,
          0.8474839999999999,
          0.847,
          0.847,
          0.845548,
          0.8465159999999999,
          0.844096,
          0.778756,
          0.766656,
          0.778756,
          0.8019879999999999,
          0.849904,
          0.85668,
          0.864424,
          0.876524,
          0.8712,
          0.870716,
          0.864908,
          0.821832,
          0.7884359999999999,
          0.8136039999999999,
          0.836352,
          0.8266720000000001,
          0.836836,
          0.8237680000000001,
          0.827156,
          0.841676,
          0.845548,
          0.835384,
          0.821348,
          0.8140879999999999,
          0.809248,
          0.808764,
          0.80102,
          0.7744,
          0.783596,
          0.810216,
          0.825704,
          0.831028,
          0.8329639999999999,
          0.833448,
          0.8349,
          0.831996,
          0.8329639999999999,
          0.8479679999999999,
          0.839256,
          0.8431279999999999,
          0.84216,
          0.8479679999999999,
          0.822316,
          0.8624879999999999,
          0.841192,
          0.937024,
          0.935572,
          0.9360559999999999,
          0.937024,
          0.9379919999999999,
          0.9389599999999999,
          0.938476,
          0.9375079999999999,
          0.9379919999999999,
          0.937024,
          0.935572,
          0.9365399999999999,
          0.938476,
          0.935572,
          0.937024,
          0.93412,
          0.9379919999999999,
          0.9375079999999999,
          0.9389599999999999,
          0.9365399999999999,
          0.937024,
          0.9379919999999999,
          0.9244399999999999,
          0.9805839999999999,
          0.9660639999999999,
          0.900724,
          0.8905599999999999,
          0.9317,
          0.9360559999999999,
          0.8891079999999999,
          0.864424,
          0.8745879999999999,
          0.836836,
          0.838288,
          0.8266720000000001,
          0.8358679999999999,
          0.8784599999999999,
          0.888624,
          0.869748,
          0.886688,
          0.884268,
          0.884268,
          0.886204,
          0.887656,
          0.8547440000000001,
          0.821348,
          0.8252200000000001,
          0.8300599999999999,
          0.833448,
          0.8329639999999999,
          0.831028,
          0.833448,
          0.8300599999999999,
          0.829576,
          0.8329639999999999,
          0.831996,
          0.8329639999999999,
          0.830544,
          0.83248,
          0.8290919999999999,
          0.8315119999999999,
          0.833448,
          0.833448,
          0.830544,
          0.8300599999999999,
          0.8315119999999999,
          0.830544,
          0.83248,
          0.831996,
          0.8329639999999999,
          0.8329639999999999,
          0.83248,
          0.831028,
          0.8329639999999999,
          0.8300599999999999,
          0.831028,
          0.8315119999999999,
          0.8344159999999999,
          0.8741039999999999,
          0.86878,
          0.872168,
          0.8712,
          0.870716,
          0.869264,
          0.8712,
          0.870716,
          0.869748,
          0.867812,
          0.870716,
          0.869264,
          0.869748,
          0.871684,
          0.872168,
          0.869264,
          0.8712,
          0.870716,
          0.870716,
          0.8712,
          0.872652,
          0.869748,
          0.8712,
          0.869264,
          0.872168,
          0.871684,
          0.8712,
          0.867812,
          0.865876,
          0.869264,
          0.86878,
          0.869748,
          0.870716,
          0.870232,
          0.868296,
          0.868296,
          0.8610359999999999,
          1.046408,
          1.045924,
          1.044956,
          1.04302,
          1.044472,
          1.0439880000000001,
          1.047376,
          1.0439880000000001,
          1.0439880000000001,
          1.0454400000000001,
          1.048344,
          1.044956,
          1.044956,
          1.04302,
          1.0439880000000001,
          1.0439880000000001,
          1.044956,
          1.043504,
          1.045924,
          1.044956,
          1.0439880000000001,
          1.0425360000000001,
          1.044956,
          1.047376,
          1.0454400000000001,
          1.045924,
          1.051248,
          1.000428,
          0.965096,
          0.9655799999999999,
          0.92686,
          0.8465159999999999,
          0.8489359999999999,
          0.86636,
          0.862972,
          0.865876,
          0.864908,
          0.8639399999999999,
          0.863456,
          0.864908,
          0.86636,
          0.864424,
          0.864424,
          0.865876,
          0.865876,
          0.8639399999999999,
          0.8624879999999999,
          0.866844,
          0.867328,
          0.864908,
          0.864908,
          0.8653919999999999,
          0.86636,
          0.866844,
          0.8639399999999999,
          0.864424,
          0.867328,
          0.864908,
          0.8653919999999999
         ]
        }
       ],
       "layout": {
        "template": {
         "data": {
          "bar": [
           {
            "error_x": {
             "color": "#2a3f5f"
            },
            "error_y": {
             "color": "#2a3f5f"
            },
            "marker": {
             "line": {
              "color": "#E5ECF6",
              "width": 0.5
             },
             "pattern": {
              "fillmode": "overlay",
              "size": 10,
              "solidity": 0.2
             }
            },
            "type": "bar"
           }
          ],
          "barpolar": [
           {
            "marker": {
             "line": {
              "color": "#E5ECF6",
              "width": 0.5
             },
             "pattern": {
              "fillmode": "overlay",
              "size": 10,
              "solidity": 0.2
             }
            },
            "type": "barpolar"
           }
          ],
          "carpet": [
           {
            "aaxis": {
             "endlinecolor": "#2a3f5f",
             "gridcolor": "white",
             "linecolor": "white",
             "minorgridcolor": "white",
             "startlinecolor": "#2a3f5f"
            },
            "baxis": {
             "endlinecolor": "#2a3f5f",
             "gridcolor": "white",
             "linecolor": "white",
             "minorgridcolor": "white",
             "startlinecolor": "#2a3f5f"
            },
            "type": "carpet"
           }
          ],
          "choropleth": [
           {
            "colorbar": {
             "outlinewidth": 0,
             "ticks": ""
            },
            "type": "choropleth"
           }
          ],
          "contour": [
           {
            "colorbar": {
             "outlinewidth": 0,
             "ticks": ""
            },
            "colorscale": [
             [
              0,
              "#0d0887"
             ],
             [
              0.1111111111111111,
              "#46039f"
             ],
             [
              0.2222222222222222,
              "#7201a8"
             ],
             [
              0.3333333333333333,
              "#9c179e"
             ],
             [
              0.4444444444444444,
              "#bd3786"
             ],
             [
              0.5555555555555556,
              "#d8576b"
             ],
             [
              0.6666666666666666,
              "#ed7953"
             ],
             [
              0.7777777777777778,
              "#fb9f3a"
             ],
             [
              0.8888888888888888,
              "#fdca26"
             ],
             [
              1,
              "#f0f921"
             ]
            ],
            "type": "contour"
           }
          ],
          "contourcarpet": [
           {
            "colorbar": {
             "outlinewidth": 0,
             "ticks": ""
            },
            "type": "contourcarpet"
           }
          ],
          "heatmap": [
           {
            "colorbar": {
             "outlinewidth": 0,
             "ticks": ""
            },
            "colorscale": [
             [
              0,
              "#0d0887"
             ],
             [
              0.1111111111111111,
              "#46039f"
             ],
             [
              0.2222222222222222,
              "#7201a8"
             ],
             [
              0.3333333333333333,
              "#9c179e"
             ],
             [
              0.4444444444444444,
              "#bd3786"
             ],
             [
              0.5555555555555556,
              "#d8576b"
             ],
             [
              0.6666666666666666,
              "#ed7953"
             ],
             [
              0.7777777777777778,
              "#fb9f3a"
             ],
             [
              0.8888888888888888,
              "#fdca26"
             ],
             [
              1,
              "#f0f921"
             ]
            ],
            "type": "heatmap"
           }
          ],
          "heatmapgl": [
           {
            "colorbar": {
             "outlinewidth": 0,
             "ticks": ""
            },
            "colorscale": [
             [
              0,
              "#0d0887"
             ],
             [
              0.1111111111111111,
              "#46039f"
             ],
             [
              0.2222222222222222,
              "#7201a8"
             ],
             [
              0.3333333333333333,
              "#9c179e"
             ],
             [
              0.4444444444444444,
              "#bd3786"
             ],
             [
              0.5555555555555556,
              "#d8576b"
             ],
             [
              0.6666666666666666,
              "#ed7953"
             ],
             [
              0.7777777777777778,
              "#fb9f3a"
             ],
             [
              0.8888888888888888,
              "#fdca26"
             ],
             [
              1,
              "#f0f921"
             ]
            ],
            "type": "heatmapgl"
           }
          ],
          "histogram": [
           {
            "marker": {
             "pattern": {
              "fillmode": "overlay",
              "size": 10,
              "solidity": 0.2
             }
            },
            "type": "histogram"
           }
          ],
          "histogram2d": [
           {
            "colorbar": {
             "outlinewidth": 0,
             "ticks": ""
            },
            "colorscale": [
             [
              0,
              "#0d0887"
             ],
             [
              0.1111111111111111,
              "#46039f"
             ],
             [
              0.2222222222222222,
              "#7201a8"
             ],
             [
              0.3333333333333333,
              "#9c179e"
             ],
             [
              0.4444444444444444,
              "#bd3786"
             ],
             [
              0.5555555555555556,
              "#d8576b"
             ],
             [
              0.6666666666666666,
              "#ed7953"
             ],
             [
              0.7777777777777778,
              "#fb9f3a"
             ],
             [
              0.8888888888888888,
              "#fdca26"
             ],
             [
              1,
              "#f0f921"
             ]
            ],
            "type": "histogram2d"
           }
          ],
          "histogram2dcontour": [
           {
            "colorbar": {
             "outlinewidth": 0,
             "ticks": ""
            },
            "colorscale": [
             [
              0,
              "#0d0887"
             ],
             [
              0.1111111111111111,
              "#46039f"
             ],
             [
              0.2222222222222222,
              "#7201a8"
             ],
             [
              0.3333333333333333,
              "#9c179e"
             ],
             [
              0.4444444444444444,
              "#bd3786"
             ],
             [
              0.5555555555555556,
              "#d8576b"
             ],
             [
              0.6666666666666666,
              "#ed7953"
             ],
             [
              0.7777777777777778,
              "#fb9f3a"
             ],
             [
              0.8888888888888888,
              "#fdca26"
             ],
             [
              1,
              "#f0f921"
             ]
            ],
            "type": "histogram2dcontour"
           }
          ],
          "mesh3d": [
           {
            "colorbar": {
             "outlinewidth": 0,
             "ticks": ""
            },
            "type": "mesh3d"
           }
          ],
          "parcoords": [
           {
            "line": {
             "colorbar": {
              "outlinewidth": 0,
              "ticks": ""
             }
            },
            "type": "parcoords"
           }
          ],
          "pie": [
           {
            "automargin": true,
            "type": "pie"
           }
          ],
          "scatter": [
           {
            "fillpattern": {
             "fillmode": "overlay",
             "size": 10,
             "solidity": 0.2
            },
            "type": "scatter"
           }
          ],
          "scatter3d": [
           {
            "line": {
             "colorbar": {
              "outlinewidth": 0,
              "ticks": ""
             }
            },
            "marker": {
             "colorbar": {
              "outlinewidth": 0,
              "ticks": ""
             }
            },
            "type": "scatter3d"
           }
          ],
          "scattercarpet": [
           {
            "marker": {
             "colorbar": {
              "outlinewidth": 0,
              "ticks": ""
             }
            },
            "type": "scattercarpet"
           }
          ],
          "scattergeo": [
           {
            "marker": {
             "colorbar": {
              "outlinewidth": 0,
              "ticks": ""
             }
            },
            "type": "scattergeo"
           }
          ],
          "scattergl": [
           {
            "marker": {
             "colorbar": {
              "outlinewidth": 0,
              "ticks": ""
             }
            },
            "type": "scattergl"
           }
          ],
          "scattermapbox": [
           {
            "marker": {
             "colorbar": {
              "outlinewidth": 0,
              "ticks": ""
             }
            },
            "type": "scattermapbox"
           }
          ],
          "scatterpolar": [
           {
            "marker": {
             "colorbar": {
              "outlinewidth": 0,
              "ticks": ""
             }
            },
            "type": "scatterpolar"
           }
          ],
          "scatterpolargl": [
           {
            "marker": {
             "colorbar": {
              "outlinewidth": 0,
              "ticks": ""
             }
            },
            "type": "scatterpolargl"
           }
          ],
          "scatterternary": [
           {
            "marker": {
             "colorbar": {
              "outlinewidth": 0,
              "ticks": ""
             }
            },
            "type": "scatterternary"
           }
          ],
          "surface": [
           {
            "colorbar": {
             "outlinewidth": 0,
             "ticks": ""
            },
            "colorscale": [
             [
              0,
              "#0d0887"
             ],
             [
              0.1111111111111111,
              "#46039f"
             ],
             [
              0.2222222222222222,
              "#7201a8"
             ],
             [
              0.3333333333333333,
              "#9c179e"
             ],
             [
              0.4444444444444444,
              "#bd3786"
             ],
             [
              0.5555555555555556,
              "#d8576b"
             ],
             [
              0.6666666666666666,
              "#ed7953"
             ],
             [
              0.7777777777777778,
              "#fb9f3a"
             ],
             [
              0.8888888888888888,
              "#fdca26"
             ],
             [
              1,
              "#f0f921"
             ]
            ],
            "type": "surface"
           }
          ],
          "table": [
           {
            "cells": {
             "fill": {
              "color": "#EBF0F8"
             },
             "line": {
              "color": "white"
             }
            },
            "header": {
             "fill": {
              "color": "#C8D4E3"
             },
             "line": {
              "color": "white"
             }
            },
            "type": "table"
           }
          ]
         },
         "layout": {
          "annotationdefaults": {
           "arrowcolor": "#2a3f5f",
           "arrowhead": 0,
           "arrowwidth": 1
          },
          "autotypenumbers": "strict",
          "coloraxis": {
           "colorbar": {
            "outlinewidth": 0,
            "ticks": ""
           }
          },
          "colorscale": {
           "diverging": [
            [
             0,
             "#8e0152"
            ],
            [
             0.1,
             "#c51b7d"
            ],
            [
             0.2,
             "#de77ae"
            ],
            [
             0.3,
             "#f1b6da"
            ],
            [
             0.4,
             "#fde0ef"
            ],
            [
             0.5,
             "#f7f7f7"
            ],
            [
             0.6,
             "#e6f5d0"
            ],
            [
             0.7,
             "#b8e186"
            ],
            [
             0.8,
             "#7fbc41"
            ],
            [
             0.9,
             "#4d9221"
            ],
            [
             1,
             "#276419"
            ]
           ],
           "sequential": [
            [
             0,
             "#0d0887"
            ],
            [
             0.1111111111111111,
             "#46039f"
            ],
            [
             0.2222222222222222,
             "#7201a8"
            ],
            [
             0.3333333333333333,
             "#9c179e"
            ],
            [
             0.4444444444444444,
             "#bd3786"
            ],
            [
             0.5555555555555556,
             "#d8576b"
            ],
            [
             0.6666666666666666,
             "#ed7953"
            ],
            [
             0.7777777777777778,
             "#fb9f3a"
            ],
            [
             0.8888888888888888,
             "#fdca26"
            ],
            [
             1,
             "#f0f921"
            ]
           ],
           "sequentialminus": [
            [
             0,
             "#0d0887"
            ],
            [
             0.1111111111111111,
             "#46039f"
            ],
            [
             0.2222222222222222,
             "#7201a8"
            ],
            [
             0.3333333333333333,
             "#9c179e"
            ],
            [
             0.4444444444444444,
             "#bd3786"
            ],
            [
             0.5555555555555556,
             "#d8576b"
            ],
            [
             0.6666666666666666,
             "#ed7953"
            ],
            [
             0.7777777777777778,
             "#fb9f3a"
            ],
            [
             0.8888888888888888,
             "#fdca26"
            ],
            [
             1,
             "#f0f921"
            ]
           ]
          },
          "colorway": [
           "#636efa",
           "#EF553B",
           "#00cc96",
           "#ab63fa",
           "#FFA15A",
           "#19d3f3",
           "#FF6692",
           "#B6E880",
           "#FF97FF",
           "#FECB52"
          ],
          "font": {
           "color": "#2a3f5f"
          },
          "geo": {
           "bgcolor": "white",
           "lakecolor": "white",
           "landcolor": "#E5ECF6",
           "showlakes": true,
           "showland": true,
           "subunitcolor": "white"
          },
          "hoverlabel": {
           "align": "left"
          },
          "hovermode": "closest",
          "mapbox": {
           "style": "light"
          },
          "paper_bgcolor": "white",
          "plot_bgcolor": "#E5ECF6",
          "polar": {
           "angularaxis": {
            "gridcolor": "white",
            "linecolor": "white",
            "ticks": ""
           },
           "bgcolor": "#E5ECF6",
           "radialaxis": {
            "gridcolor": "white",
            "linecolor": "white",
            "ticks": ""
           }
          },
          "scene": {
           "xaxis": {
            "backgroundcolor": "#E5ECF6",
            "gridcolor": "white",
            "gridwidth": 2,
            "linecolor": "white",
            "showbackground": true,
            "ticks": "",
            "zerolinecolor": "white"
           },
           "yaxis": {
            "backgroundcolor": "#E5ECF6",
            "gridcolor": "white",
            "gridwidth": 2,
            "linecolor": "white",
            "showbackground": true,
            "ticks": "",
            "zerolinecolor": "white"
           },
           "zaxis": {
            "backgroundcolor": "#E5ECF6",
            "gridcolor": "white",
            "gridwidth": 2,
            "linecolor": "white",
            "showbackground": true,
            "ticks": "",
            "zerolinecolor": "white"
           }
          },
          "shapedefaults": {
           "line": {
            "color": "#2a3f5f"
           }
          },
          "ternary": {
           "aaxis": {
            "gridcolor": "white",
            "linecolor": "white",
            "ticks": ""
           },
           "baxis": {
            "gridcolor": "white",
            "linecolor": "white",
            "ticks": ""
           },
           "bgcolor": "#E5ECF6",
           "caxis": {
            "gridcolor": "white",
            "linecolor": "white",
            "ticks": ""
           }
          },
          "title": {
           "x": 0.05
          },
          "xaxis": {
           "automargin": true,
           "gridcolor": "white",
           "linecolor": "white",
           "ticks": "",
           "title": {
            "standoff": 15
           },
           "zerolinecolor": "white",
           "zerolinewidth": 2
          },
          "yaxis": {
           "automargin": true,
           "gridcolor": "white",
           "linecolor": "white",
           "ticks": "",
           "title": {
            "standoff": 15
           },
           "zerolinecolor": "white",
           "zerolinewidth": 2
          }
         }
        },
        "title": {
         "text": "b_z over time"
        },
        "xaxis": {
         "title": {
          "text": "Index"
         }
        },
        "yaxis": {
         "scaleanchor": "y",
         "title": {
          "text": "b_z [mT]"
         }
        }
       }
      }
     },
     "metadata": {},
     "output_type": "display_data"
    }
   ],
   "source": [
    "measuredbz = go.Scatter(x=index, y=bz7, mode='markers')\n",
    "layoutbz = go.Layout(title='b_z over time')\n",
    "figbz = go.Figure(data=[measuredbz], layout=layoutbz)\n",
    "figbz.update_yaxes(scaleanchor='y')\n",
    "figbz.update_layout(\n",
    "    xaxis_title=\"Index\",\n",
    "    yaxis_title=\"b_z [mT]\"\n",
    ")\n",
    "figbz.show()"
   ]
  },
  {
   "cell_type": "code",
   "execution_count": 12,
   "metadata": {},
   "outputs": [
    {
     "name": "stdout",
     "output_type": "stream",
     "text": [
      "                       Time     X     Y     Z  Displacement [mm]  \\\n",
      "4   2024-09-30 14:30:34.430  0.00  0.00  0.00               0.00   \n",
      "5   2024-09-30 14:30:34.979  0.02  0.00 -0.03               0.04   \n",
      "6   2024-09-30 14:30:35.498  0.01 -0.00 -0.01               0.02   \n",
      "7   2024-09-30 14:30:36.011  0.01  0.01 -0.00               0.01   \n",
      "8   2024-09-30 14:30:36.512 -0.01 -0.00 -0.04               0.05   \n",
      "..                      ...   ...   ...   ...                ...   \n",
      "682 2024-09-30 14:36:27.502 -0.24 -0.01 -0.11               0.26   \n",
      "683 2024-09-30 14:36:28.018 -0.23  0.00 -0.08               0.24   \n",
      "684 2024-09-30 14:36:28.518 -0.23  0.01 -0.12               0.26   \n",
      "685 2024-09-30 14:36:29.034 -0.22  0.01 -0.12               0.25   \n",
      "686 2024-09-30 14:36:29.549 -0.24  0.02 -0.15               0.28   \n",
      "\n",
      "            datetime  \n",
      "4    14:30:34.430000  \n",
      "5    14:30:34.979000  \n",
      "6    14:30:35.498000  \n",
      "7    14:30:36.011000  \n",
      "8    14:30:36.512000  \n",
      "..               ...  \n",
      "682  14:36:27.502000  \n",
      "683  14:36:28.018000  \n",
      "684  14:36:28.518000  \n",
      "685  14:36:29.034000  \n",
      "686  14:36:29.549000  \n",
      "\n",
      "[683 rows x 6 columns]\n",
      "4     2024-09-30 14:30:34.430\n",
      "5     2024-09-30 14:30:34.979\n",
      "6     2024-09-30 14:30:35.498\n",
      "7     2024-09-30 14:30:36.011\n",
      "8     2024-09-30 14:30:36.512\n",
      "                ...          \n",
      "682   2024-09-30 14:36:27.502\n",
      "683   2024-09-30 14:36:28.018\n",
      "684   2024-09-30 14:36:28.518\n",
      "685   2024-09-30 14:36:29.034\n",
      "686   2024-09-30 14:36:29.549\n",
      "Name: Time, Length: 683, dtype: datetime64[ns]\n"
     ]
    }
   ],
   "source": [
    "# Specify the Excel file name (replace with your actual file name)\n",
    "file = 'Shift_data_09302024gk2.txt'\n",
    "\n",
    "# Create the full file path\n",
    "file_path = os.path.join('..', file)\n",
    "\n",
    "# Read the Excel file into a pandas DataFrame\n",
    "df = pd.read_csv(file_path, delimiter=',', na_values=\"        NaN\")\n",
    "\n",
    "df.dropna(inplace=True)\n",
    "df[['X', 'Y', 'Z', 'Displacement [mm]']] = df[['X', 'Y', 'Z', 'Displacement [mm]']].apply(pd.to_numeric,errors='coerce')\n",
    "df['Time'] = pd.to_datetime(df['Time'], format='%Y-%m-%dT%H:%M:%S.%f')\n",
    "df['datetime'] = df.loc[0:,'Time'].dt.time\n",
    "\n",
    "\n",
    "print(df)\n",
    "hdmm_time = df['Time']\n",
    "hdmm_disp = df.loc[0:,'Displacement [mm]']\n",
    "hdmm_x = df.loc[0:, 'X']\n",
    "hdmm_y = df.loc[0:, 'Y']\n",
    "hdmm_z = df.loc[0:, 'Z']\n",
    "print(hdmm_time)"
   ]
  },
  {
   "cell_type": "code",
   "execution_count": 13,
   "metadata": {},
   "outputs": [
    {
     "data": {
      "text/plain": [
       "4     2024-09-30 14:30:34.430\n",
       "5     2024-09-30 14:30:34.979\n",
       "6     2024-09-30 14:30:35.498\n",
       "7     2024-09-30 14:30:36.011\n",
       "8     2024-09-30 14:30:36.512\n",
       "                ...          \n",
       "682   2024-09-30 14:36:27.502\n",
       "683   2024-09-30 14:36:28.018\n",
       "684   2024-09-30 14:36:28.518\n",
       "685   2024-09-30 14:36:29.034\n",
       "686   2024-09-30 14:36:29.549\n",
       "Name: Time, Length: 683, dtype: datetime64[ns]"
      ]
     },
     "execution_count": 13,
     "metadata": {},
     "output_type": "execute_result"
    }
   ],
   "source": [
    "hdmm_time"
   ]
  },
  {
   "cell_type": "code",
   "execution_count": 14,
   "metadata": {},
   "outputs": [
    {
     "data": {
      "image/png": "[encoded data removed]",
      "text/plain": [
       "<Figure size 800x600 with 1 Axes>"
      ]
     },
     "metadata": {},
     "output_type": "display_data"
    }
   ],
   "source": [
    "rel_loc_predx = [x - locpred[0,0] for x in locpred[:,0]]\n",
    "rel_loc_predy = [x - locpred[0,1] for x in locpred[:,1]]\n",
    "rel_loc_predz = [x - locpred[0,2] for x in locpred[:,2]]\n",
    "\n",
    "\n",
    "dispx = np.array(rel_loc_predx)\n",
    "dispy = np.array(rel_loc_predy)\n",
    "dispz = np.array(rel_loc_predz)\n",
    "disp = np.sqrt(dispx**2+dispy**2+dispz**2)\n",
    "\n",
    "# Plotting\n",
    "plt.figure(figsize=(8, 6))\n",
    "plt.scatter(corrected_timestamps, disp, label='MLX')\n",
    "plt.scatter(hdmm_time, hdmm_disp, label='HDMM')\n",
    "#plt.scatter(hdmm_time[a:b], hdmm_disp2)\n",
    "# Set x-axis labels to show only the time\n",
    "# Format the x-axis to show date and time properly\n",
    "plt.gcf().autofmt_xdate()  # Auto-format the dates on the x-axis\n",
    "plt.xlabel('Timestamp')\n",
    "plt.ylabel('Total Displacement (mm)')\n",
    "plt.title('Total Displacement')\n",
    "plt.legend()\n",
    "plt.grid(True)\n",
    "plt.show()"
   ]
  },
  {
   "cell_type": "code",
   "execution_count": 15,
   "metadata": {},
   "outputs": [
    {
     "data": {
      "image/png": "[encoded data removed]",
      "text/plain": [
       "<Figure size 800x600 with 1 Axes>"
      ]
     },
     "metadata": {},
     "output_type": "display_data"
    }
   ],
   "source": [
    "# Plotting\n",
    "plt.figure(figsize=(8, 6))\n",
    "plt.scatter(corrected_timestamps, rel_loc_predx, label='MLX')\n",
    "plt.scatter(hdmm_time, hdmm_x, label='HDMM')\n",
    "#plt.scatter(hdmm_time[a:b]-hdmm_time[c], hdmm_x[a:b])\n",
    "plt.xlabel('Timestamp')\n",
    "plt.ylabel('X (mm)')\n",
    "plt.title('X Comparison')\n",
    "plt.grid(True)\n",
    "plt.legend()\n",
    "plt.show()"
   ]
  },
  {
   "cell_type": "code",
   "execution_count": 16,
   "metadata": {},
   "outputs": [
    {
     "data": {
      "image/png": "[encoded data removed]",
      "text/plain": [
       "<Figure size 800x600 with 1 Axes>"
      ]
     },
     "metadata": {},
     "output_type": "display_data"
    }
   ],
   "source": [
    "# Plotting\n",
    "plt.figure(figsize=(8, 6))\n",
    "plt.scatter(corrected_timestamps, rel_loc_predy, label='MLX')\n",
    "plt.scatter(hdmm_time, hdmm_y, label='HDMM')\n",
    "#plt.scatter(hdmm_time[a:b]-hdmm_time[c], hdmm_y[a:b])\n",
    "plt.xlabel('Timestamp')\n",
    "plt.ylabel('Y (mm)')\n",
    "plt.title('Y Comparison')\n",
    "plt.grid(True)\n",
    "plt.legend()\n",
    "plt.show()"
   ]
  },
  {
   "cell_type": "code",
   "execution_count": 17,
   "metadata": {},
   "outputs": [
    {
     "data": {
      "image/png": "[encoded data removed]",
      "text/plain": [
       "<Figure size 800x600 with 1 Axes>"
      ]
     },
     "metadata": {},
     "output_type": "display_data"
    }
   ],
   "source": [
    "# Plotting\n",
    "plt.figure(figsize=(8, 6))\n",
    "plt.scatter(corrected_timestamps, rel_loc_predz, label='MLX')\n",
    "plt.scatter(hdmm_time, hdmm_z, label='HDMM')\n",
    "#plt.scatter(hdmm_time[a:b]-hdmm_time[c], hdmm_z[a:b])\n",
    "plt.xlabel('Timestamp')\n",
    "plt.ylabel('Z (mm)')\n",
    "plt.title('Z Comparison')\n",
    "plt.grid(True)\n",
    "plt.legend()\n",
    "plt.show()"
   ]
  }
 ],
 "metadata": {
  "kernelspec": {
   "display_name": "Python 3",
   "language": "python",
   "name": "python3"
  },
  "language_info": {
   "codemirror_mode": {
    "name": "ipython",
    "version": 3
   },
   "file_extension": ".py",
   "mimetype": "text/x-python",
   "name": "python",
   "nbconvert_exporter": "python",
   "pygments_lexer": "ipython3",
   "version": "3.12.3"
  }
 },
 "nbformat": 4,
 "nbformat_minor": 2
}
