{
 "cells": [
  {
   "cell_type": "code",
   "execution_count": 101,
   "metadata": {},
   "outputs": [],
   "source": [
    "import glob\n",
    "import numpy as np\n",
    "import scipy as sp\n",
    "import einops as eo\n",
    "import matplotlib.pyplot as plt\n",
    "import math\n",
    "import pandas as pd\n",
    "import os\n",
    "\n",
    "M0 = 1440 #mT\n",
    "shape = [3*25.4/16, 25.4/8] #diameter and height\n",
    "x0 = np.array([0,0,10, 0,0,1])\n"
   ]
  },
  {
   "cell_type": "code",
   "execution_count": 102,
   "metadata": {},
   "outputs": [],
   "source": [
    "def B_dipole(position, rotation, M0, shape):\n",
    "    R = np.sqrt(np.sum(position**2, axis=1))\n",
    "    B = (M0 * (shape[0]) ** 2 * shape[1] / (16)) * (\n",
    "        (\n",
    "            3\n",
    "            * position\n",
    "            / R[:, np.newaxis] ** 5\n",
    "            * (eo.einsum(position, rotation, \"sensor dim,  dim -> sensor\"))[\n",
    "                :, np.newaxis\n",
    "            ]\n",
    "        )\n",
    "        - rotation[np.newaxis, :] / (R[:, np.newaxis] ** 3)\n",
    "    )\n",
    "    return B\n",
    "\n",
    "\n",
    "def getField_dipole(x, positions, M0, shape):\n",
    "    position = x[:3]\n",
    "    axis = x[3:]\n",
    "    return B_dipole(positions - position, axis, M0, shape)\n",
    "\n",
    "\n",
    "def getField_dipole_fixed(x, positions, M0, shape):\n",
    "    position = x[:3]\n",
    "    axis = x[3:]\n",
    "    return B_dipole(positions - position, axis, M0, shape)\n",
    "\n",
    "\n",
    "def cost_dipole(x, B, positions, M0, shape):\n",
    "    diff = getField_dipole(x, positions, M0, shape) - B\n",
    "    return np.sum((diff) ** 2)\n",
    "\n",
    "\n",
    "def minimize(x0, B, positions, M0, shape, *args):\n",
    "    #print(\"Starting mimimization\")\n",
    "    b_args = (B, positions, M0, shape)\n",
    "    cons = [{\"type\": \"eq\", \"fun\": lambda x: x[3] ** 2 + x[4] ** 2 + x[5] ** 2 - 1}]\n",
    "    bounds = [(-100, 100), (-100, 100), (0, 100), (-1, 1), (-1, 1), (-1, 1)]\n",
    "    res = sp.optimize.minimize(\n",
    "        fun=cost_dipole, x0=x0, args=b_args, tol=1e-100, constraints=cons, bounds=bounds, *args\n",
    "    ).x  \n",
    "    #print(f\"Finished mimimization with shape {b_args[3]} at {res}\")\n",
    "    return res\n",
    "\n",
    "def circle_radius(x1, y1, x2, y2, x3, y3):\n",
    "    # Calculate lengths of sides of the triangle formed by the three points\n",
    "    a = math.sqrt((x2 - x1) ** 2 + (y2 - y1) ** 2)\n",
    "    b = math.sqrt((x3 - x2) ** 2 + (y3 - y2) ** 2)\n",
    "    c = math.sqrt((x3 - x1) ** 2 + (y3 - y1) ** 2)\n",
    "\n",
    "    # Calculate the semi-perimeter of the triangle\n",
    "    s = (a + b + c) / 2\n",
    "\n",
    "    # Calculate the area of the triangle using Heron's formula\n",
    "    area = math.sqrt(s * (s - a) * (s - b) * (s - c))\n",
    "\n",
    "    # Calculate the radius of the circle using the formula: radius = (abc) / (4 * area)\n",
    "    radius = (a * b * c) / (4 * area)\n",
    "    \n",
    "    return radius"
   ]
  },
  {
   "cell_type": "code",
   "execution_count": 103,
   "metadata": {},
   "outputs": [],
   "source": [
    "folder = os.path.join('..', './MLX07172024_D32N52_AboutZ_5mm7')\n",
    "file_list = sorted(glob.glob(f'{folder}/*.npz'))\n",
    "len(file_list)\n",
    "data = np.load(file_list[0])\n",
    "pos = data['pos'][0]"
   ]
  },
  {
   "cell_type": "code",
   "execution_count": 104,
   "metadata": {},
   "outputs": [],
   "source": [
    "loc_pred = [np.array([0,0,0])]\n",
    "angle_pred = [np.array([0,0,0])]\n",
    "B_stdev = [np.array(pos)]\n",
    "for x in range(len(file_list)):\n",
    "    data = np.load(file_list[x])\n",
    "    mags = data['mags']\n",
    "    pos = data['pos'][0]\n",
    "    B = np.mean(mags, axis=0)\n",
    "    mags_stdev = np.std(mags, axis=0)\n",
    "    x_res = minimize(x0, B, pos, M0, shape)\n",
    "    loc_pred = np.append(loc_pred, [x_res[0:3]], axis=0)\n",
    "    angle_pred = np.append(angle_pred, [x_res[3:6]], axis=0)\n",
    "    B_stdev = np.append(B_stdev, [mags_stdev], axis=0)\n",
    "loc_pred = np.delete(loc_pred, 0, axis=0)\n",
    "angle_pred = np.delete(angle_pred, 0, axis=0)\n",
    "B_stdev = np.delete(B_stdev, 0 ,axis=0)"
   ]
  },
  {
   "cell_type": "code",
   "execution_count": 105,
   "metadata": {},
   "outputs": [
    {
     "data": {
      "text/plain": [
       "array([[ 0.38679576, -3.91748862, 12.7829972 ,  0.04923642,  0.02854382,\n",
       "         0.9983792 ],\n",
       "       [ 2.85931699, -3.89068423, 12.76560426,  0.06320182,  0.03141801,\n",
       "         0.99750611],\n",
       "       [ 5.09111588, -2.52008775, 12.76734677,  0.08675024,  0.06217237,\n",
       "         0.99428818],\n",
       "       [ 6.35852496, -0.24978935, 12.77148418,  0.09844491,  0.07934816,\n",
       "         0.99197403],\n",
       "       [ 6.29676763,  2.16243948, 12.79286158,  0.08994545,  0.0693181 ,\n",
       "         0.99353149],\n",
       "       [ 4.95132342,  4.34740057, 12.81334265,  0.07821633,  0.06420896,\n",
       "         0.99486653],\n",
       "       [ 2.86508591,  5.50967508, 12.82907022,  0.07294647,  0.07036561,\n",
       "         0.99485049],\n",
       "       [ 0.34027321,  5.57458363, 12.83303259,  0.07600965,  0.07677689,\n",
       "         0.99414679],\n",
       "       [-1.71927906,  4.24089156, 12.84751864,  0.07179365,  0.07042009,\n",
       "         0.99493049],\n",
       "       [-3.02238365,  2.02300143, 12.84906147,  0.05916635,  0.05501447,\n",
       "         0.99673103],\n",
       "       [-3.05637968, -0.46271187, 12.828484  ,  0.0431088 ,  0.04972106,\n",
       "         0.99783237],\n",
       "       [-1.89333292, -2.5692364 , 12.8109377 ,  0.03725863,  0.04456426,\n",
       "         0.99831148],\n",
       "       [ 0.35900437, -3.90690825, 12.78698909,  0.04887531,  0.0291599 ,\n",
       "         0.99837914]])"
      ]
     },
     "execution_count": 105,
     "metadata": {},
     "output_type": "execute_result"
    }
   ],
   "source": [
    "np.append(loc_pred, angle_pred, axis=1)\n",
    "#np.sum(angle_pred**2)"
   ]
  },
  {
   "cell_type": "code",
   "execution_count": 106,
   "metadata": {},
   "outputs": [
    {
     "name": "stdout",
     "output_type": "stream",
     "text": [
      "[[ 0.38679576 -3.91748862 12.7829972 ]\n",
      " [ 2.85931699 -3.89068423 12.76560426]\n",
      " [ 5.09111588 -2.52008775 12.76734677]\n",
      " [ 6.35852496 -0.24978935 12.77148418]\n",
      " [ 6.29676763  2.16243948 12.79286158]\n",
      " [ 4.95132342  4.34740057 12.81334265]\n",
      " [ 2.86508591  5.50967508 12.82907022]\n",
      " [ 0.34027321  5.57458363 12.83303259]\n",
      " [-1.71927906  4.24089156 12.84751864]\n",
      " [-3.02238365  2.02300143 12.84906147]\n",
      " [-3.05637968 -0.46271187 12.828484  ]\n",
      " [-1.89333292 -2.5692364  12.8109377 ]\n",
      " [ 0.35900437 -3.90690825 12.78698909]]\n"
     ]
    }
   ],
   "source": [
    "print(loc_pred)"
   ]
  },
  {
   "cell_type": "code",
   "execution_count": 107,
   "metadata": {},
   "outputs": [
    {
     "name": "stdout",
     "output_type": "stream",
     "text": [
      "    Unnamed: 0  x  y  z  HDMM [mm]    d [mm]  error [mm]  Unnamed: 7  x.1  \\\n",
      "0            1  0  0  0      0.030  0.000000    0.030000           1    0   \n",
      "1            2  0  1  0      1.030  1.000000    0.030000           2    0   \n",
      "2            3  0  2  0      2.030  2.000000    0.030000           3    0   \n",
      "3            4  0  3  0      3.030  3.000000    0.030000           4    0   \n",
      "4            5  0  4  0      4.020  4.000000    0.020000           5    0   \n",
      "5            6  0  5  0      5.020  5.000000    0.020000           6    0   \n",
      "6            7  1  0  0      1.030  1.000000    0.030000           7    1   \n",
      "7            8  1  1  0      1.350  1.414214   -0.064214           8    1   \n",
      "8            9  1  2  0      2.250  2.236068    0.013932           9    1   \n",
      "9           10  1  3  0      3.150  3.162278   -0.012278          10    1   \n",
      "10          11  1  4  0      4.120  4.123106   -0.003106          11    1   \n",
      "11          12  1  5  0      5.110  5.099020    0.010980          12    1   \n",
      "12          13  2  0  0      2.000  2.000000    0.000000          13    2   \n",
      "13          14  2  1  0      2.250  2.236068    0.013932          14    2   \n",
      "14          15  2  2  0      2.850  2.828427    0.021573          15    2   \n",
      "15          16  2  3  0      3.560  3.605551   -0.045551          16    2   \n",
      "16          17  2  4  0      4.460  4.472136   -0.012136          17    2   \n",
      "17          18  2  5  0      5.380  5.385165   -0.005165          18    2   \n",
      "18          19  3  0  0      3.000  3.000000    0.000000          19    3   \n",
      "19          20  3  1  0      3.170  3.162278    0.007722          20    3   \n",
      "20          21  3  2  0      3.610  3.605551    0.004449          21    3   \n",
      "21          22  3  3  0      4.220  4.242641   -0.022641          22    3   \n",
      "22          23  3  4  0      5.020  5.000000    0.020000          23    3   \n",
      "23          24  3  5  0      5.820  5.830952   -0.010952          24    3   \n",
      "24          25  4  0  0      4.010  4.000000    0.010000          25    4   \n",
      "25          26  4  1  0      4.130  4.123106    0.006894          26    4   \n",
      "26          27  4  2  0      4.520  4.472136    0.047864          27    4   \n",
      "27          28  4  3  0      4.970  5.000000   -0.030000          28    4   \n",
      "28          29  4  4  0      5.670  5.656854    0.013146          29    4   \n",
      "29          30  4  5  0      6.420  6.403124    0.016876          30    4   \n",
      "30          31  5  0  0      5.000  5.000000    0.000000          31    5   \n",
      "31          32  5  1  0      5.160  5.099020    0.060980          32    5   \n",
      "32          33  5  2  0      5.390  5.385165    0.004835          33    5   \n",
      "33          34  5  3  0      5.850  5.830952    0.019048          34    5   \n",
      "34          35  5  4  0      6.420  6.403124    0.016876          35    5   \n",
      "35          36  5  5  0      7.047  7.071068   -0.024068          36    5   \n",
      "\n",
      "    y.1  z.1  HDMM [mm].1  d [mm].1  error [mm].1  \n",
      "0     0   -5         4.71  5.000000     -0.290000  \n",
      "1     1   -5         4.77  5.099020     -0.329020  \n",
      "2     2   -5         5.12  5.385165     -0.265165  \n",
      "3     3   -5         5.58  5.830952     -0.250952  \n",
      "4     4   -5         6.15  6.403124     -0.253124  \n",
      "5     5   -5         6.85  7.071068     -0.221068  \n",
      "6     0   -5         4.83  5.099020     -0.269020  \n",
      "7     1   -5         4.87  5.196152     -0.326152  \n",
      "8     2   -5         5.22  5.477226     -0.257226  \n",
      "9     3   -5         5.66  5.916080     -0.256080  \n",
      "10    4   -5         6.24  6.480741     -0.240741  \n",
      "11    5   -5         6.94  7.141428     -0.201428  \n",
      "12    0   -5         5.17  5.385165     -0.215165  \n",
      "13    1   -5         5.17  5.477226     -0.307226  \n",
      "14    2   -5         5.51  5.744563     -0.234563  \n",
      "15    3   -5         5.91  6.164414     -0.254414  \n",
      "16    4   -5         6.49  6.708204     -0.218204  \n",
      "17    5   -5         7.16  7.348469     -0.188469  \n",
      "18    0   -5         5.63  5.830952     -0.200952  \n",
      "19    1   -5         5.65  5.916080     -0.266080  \n",
      "20    2   -5         5.95  6.164414     -0.214414  \n",
      "21    3   -5         6.36  6.557439     -0.197439  \n",
      "22    4   -5         6.86  7.071068     -0.211068  \n",
      "23    5   -5         7.50  7.681146     -0.181146  \n",
      "24    0   -5         6.03  6.403124     -0.373124  \n",
      "25    1   -5         6.25  6.480741     -0.230741  \n",
      "26    2   -5         6.53  6.708204     -0.178204  \n",
      "27    3   -5         6.92  7.071068     -0.151068  \n",
      "28    4   -5         7.34  7.549834     -0.209834  \n",
      "29    5   -5         7.94  8.124038     -0.184038  \n",
      "30    0   -5         6.92  7.071068     -0.151068  \n",
      "31    1   -5         6.97  7.141428     -0.171428  \n",
      "32    2   -5         7.15  7.348469     -0.198469  \n",
      "33    3   -5         7.65  7.681146     -0.031146  \n",
      "34    4   -5         7.95  8.124038     -0.174038  \n",
      "35    5   -5         8.45  8.660254     -0.210254  \n"
     ]
    }
   ],
   "source": [
    "gamma_file = r'C:\\Users\\Brandon Nguyen\\OneDrive\\Watanabe_Project\\HDMM_05012024.xlsx'\n",
    "df = pd.read_excel(gamma_file)\n",
    "print(df)\n",
    "hdmm_x = df.loc[0:, 'x']\n",
    "hdmm_y = df.loc[0:, 'y']\n",
    "hdmm_z = df.loc[0:, 'z']\n",
    "hdmm_disp = df.loc[0:, 'HDMM [mm]']"
   ]
  },
  {
   "cell_type": "code",
   "execution_count": 108,
   "metadata": {},
   "outputs": [
    {
     "data": {
      "image/png": "[encoded data removed]",
      "text/plain": [
       "<Figure size 800x600 with 1 Axes>"
      ]
     },
     "metadata": {},
     "output_type": "display_data"
    }
   ],
   "source": [
    "rel_loc_predx = [x - loc_pred[0,0] for x in loc_pred[:,0]]\n",
    "\n",
    "# Plotting\n",
    "plt.figure(figsize=(8, 6))\n",
    "plt.scatter(list(range(len(rel_loc_predx))), rel_loc_predx, label='Predicted (Relative)')\n",
    "plt.scatter(list(range(len(hdmm_x))), hdmm_y, label='Actual')\n",
    "plt.xlabel('Index')\n",
    "plt.ylabel('x (mm)')\n",
    "plt.title('D32N52 X Prediction (z=10mm)')\n",
    "plt.legend()\n",
    "plt.grid(True)\n",
    "plt.show()"
   ]
  },
  {
   "cell_type": "code",
   "execution_count": 109,
   "metadata": {},
   "outputs": [
    {
     "data": {
      "image/png": "[encoded data removed]",
      "text/plain": [
       "<Figure size 800x600 with 1 Axes>"
      ]
     },
     "metadata": {},
     "output_type": "display_data"
    }
   ],
   "source": [
    "rel_loc_predy = [x - loc_pred[0,1] for x in loc_pred[:,1]]\n",
    "\n",
    "# Plotting\n",
    "plt.figure(figsize=(8, 6))\n",
    "plt.scatter(list(range(len(rel_loc_predy))), rel_loc_predy, label='Predicted (Relative)')\n",
    "plt.scatter(list(range(len(hdmm_x))), hdmm_x, label='Actual (Relative)')\n",
    "plt.xlabel('Index')\n",
    "plt.ylabel('y (mm)')\n",
    "plt.title('D32N52 Y Prediction (z=10mm)')\n",
    "plt.legend()\n",
    "plt.grid(True)\n",
    "plt.show()"
   ]
  },
  {
   "cell_type": "code",
   "execution_count": 110,
   "metadata": {},
   "outputs": [
    {
     "data": {
      "image/png": "[encoded data removed]",
      "text/plain": [
       "<Figure size 800x600 with 1 Axes>"
      ]
     },
     "metadata": {},
     "output_type": "display_data"
    }
   ],
   "source": [
    "rel_loc_predz = [x - loc_pred[0,2] for x in loc_pred[:,2]]\n",
    "\n",
    "# Plotting\n",
    "plt.figure(figsize=(8, 6))\n",
    "plt.scatter(list(range(len(rel_loc_predz))), rel_loc_predz, label='Predicted (Relative)')\n",
    "plt.scatter(list(range(len(hdmm_z))), hdmm_z, label='Actual (Relative)')\n",
    "plt.xlabel('Index')\n",
    "plt.ylabel('z (mm)')\n",
    "plt.title('D32N52 Z Prediction (z=10mm)')\n",
    "plt.legend()\n",
    "plt.grid(True)\n",
    "plt.show()"
   ]
  },
  {
   "cell_type": "code",
   "execution_count": 111,
   "metadata": {},
   "outputs": [
    {
     "data": {
      "image/png": "[encoded data removed]",
      "text/plain": [
       "<Figure size 800x600 with 1 Axes>"
      ]
     },
     "metadata": {},
     "output_type": "display_data"
    }
   ],
   "source": [
    "dispx = np.array(rel_loc_predx)\n",
    "dispy = np.array(rel_loc_predy)\n",
    "dispz = np.array(rel_loc_predz)\n",
    "disp = np.sqrt(dispx**2+dispy**2+dispz**2)\n",
    "\n",
    "#diff = np.array(hdmm_disp) - disp\n",
    "#print(max(diff))\n",
    "\n",
    "plt.figure(figsize=(8, 6))\n",
    "plt.scatter(list(range(len(rel_loc_predx))), disp, label='Predicted')\n",
    "#plt.scatter(list(range(len(hdmm_z))), hdmm_disp, label='Actual')\n",
    "plt.xlabel('Index')\n",
    "plt.ylabel('Displacement (mm)')\n",
    "plt.title('D32N52 Displacement')\n",
    "plt.legend()\n",
    "plt.grid(True)\n",
    "plt.show()"
   ]
  },
  {
   "cell_type": "code",
   "execution_count": 112,
   "metadata": {},
   "outputs": [
    {
     "data": {
      "application/vnd.plotly.v1+json": {
       "config": {
        "plotlyServerURL": "https://plot.ly"
       },
       "data": [
        {
         "mode": "markers",
         "type": "scatter",
         "x": [
          0.38679576369254914,
          2.859316986006648,
          5.091115877837285,
          6.358524958707633,
          6.296767629357617,
          4.951323415680766,
          2.8650859135533944,
          0.34027320782738224,
          -1.7192790634915809,
          -3.0223836513467464,
          -3.0563796780486365,
          -1.8933329238649246,
          0.35900436553485476
         ],
         "y": [
          -3.9174886171503918,
          -3.890684234519338,
          -2.520087750241628,
          -0.24978935338865407,
          2.1624394766121227,
          4.347400566133324,
          5.5096750773530045,
          5.574583632476986,
          4.240891556719021,
          2.023001429142326,
          -0.4627118711501904,
          -2.5692364035432766,
          -3.9069082457023505
         ]
        }
       ],
       "layout": {
        "template": {
         "data": {
          "bar": [
           {
            "error_x": {
             "color": "#2a3f5f"
            },
            "error_y": {
             "color": "#2a3f5f"
            },
            "marker": {
             "line": {
              "color": "#E5ECF6",
              "width": 0.5
             },
             "pattern": {
              "fillmode": "overlay",
              "size": 10,
              "solidity": 0.2
             }
            },
            "type": "bar"
           }
          ],
          "barpolar": [
           {
            "marker": {
             "line": {
              "color": "#E5ECF6",
              "width": 0.5
             },
             "pattern": {
              "fillmode": "overlay",
              "size": 10,
              "solidity": 0.2
             }
            },
            "type": "barpolar"
           }
          ],
          "carpet": [
           {
            "aaxis": {
             "endlinecolor": "#2a3f5f",
             "gridcolor": "white",
             "linecolor": "white",
             "minorgridcolor": "white",
             "startlinecolor": "#2a3f5f"
            },
            "baxis": {
             "endlinecolor": "#2a3f5f",
             "gridcolor": "white",
             "linecolor": "white",
             "minorgridcolor": "white",
             "startlinecolor": "#2a3f5f"
            },
            "type": "carpet"
           }
          ],
          "choropleth": [
           {
            "colorbar": {
             "outlinewidth": 0,
             "ticks": ""
            },
            "type": "choropleth"
           }
          ],
          "contour": [
           {
            "colorbar": {
             "outlinewidth": 0,
             "ticks": ""
            },
            "colorscale": [
             [
              0,
              "#0d0887"
             ],
             [
              0.1111111111111111,
              "#46039f"
             ],
             [
              0.2222222222222222,
              "#7201a8"
             ],
             [
              0.3333333333333333,
              "#9c179e"
             ],
             [
              0.4444444444444444,
              "#bd3786"
             ],
             [
              0.5555555555555556,
              "#d8576b"
             ],
             [
              0.6666666666666666,
              "#ed7953"
             ],
             [
              0.7777777777777778,
              "#fb9f3a"
             ],
             [
              0.8888888888888888,
              "#fdca26"
             ],
             [
              1,
              "#f0f921"
             ]
            ],
            "type": "contour"
           }
          ],
          "contourcarpet": [
           {
            "colorbar": {
             "outlinewidth": 0,
             "ticks": ""
            },
            "type": "contourcarpet"
           }
          ],
          "heatmap": [
           {
            "colorbar": {
             "outlinewidth": 0,
             "ticks": ""
            },
            "colorscale": [
             [
              0,
              "#0d0887"
             ],
             [
              0.1111111111111111,
              "#46039f"
             ],
             [
              0.2222222222222222,
              "#7201a8"
             ],
             [
              0.3333333333333333,
              "#9c179e"
             ],
             [
              0.4444444444444444,
              "#bd3786"
             ],
             [
              0.5555555555555556,
              "#d8576b"
             ],
             [
              0.6666666666666666,
              "#ed7953"
             ],
             [
              0.7777777777777778,
              "#fb9f3a"
             ],
             [
              0.8888888888888888,
              "#fdca26"
             ],
             [
              1,
              "#f0f921"
             ]
            ],
            "type": "heatmap"
           }
          ],
          "heatmapgl": [
           {
            "colorbar": {
             "outlinewidth": 0,
             "ticks": ""
            },
            "colorscale": [
             [
              0,
              "#0d0887"
             ],
             [
              0.1111111111111111,
              "#46039f"
             ],
             [
              0.2222222222222222,
              "#7201a8"
             ],
             [
              0.3333333333333333,
              "#9c179e"
             ],
             [
              0.4444444444444444,
              "#bd3786"
             ],
             [
              0.5555555555555556,
              "#d8576b"
             ],
             [
              0.6666666666666666,
              "#ed7953"
             ],
             [
              0.7777777777777778,
              "#fb9f3a"
             ],
             [
              0.8888888888888888,
              "#fdca26"
             ],
             [
              1,
              "#f0f921"
             ]
            ],
            "type": "heatmapgl"
           }
          ],
          "histogram": [
           {
            "marker": {
             "pattern": {
              "fillmode": "overlay",
              "size": 10,
              "solidity": 0.2
             }
            },
            "type": "histogram"
           }
          ],
          "histogram2d": [
           {
            "colorbar": {
             "outlinewidth": 0,
             "ticks": ""
            },
            "colorscale": [
             [
              0,
              "#0d0887"
             ],
             [
              0.1111111111111111,
              "#46039f"
             ],
             [
              0.2222222222222222,
              "#7201a8"
             ],
             [
              0.3333333333333333,
              "#9c179e"
             ],
             [
              0.4444444444444444,
              "#bd3786"
             ],
             [
              0.5555555555555556,
              "#d8576b"
             ],
             [
              0.6666666666666666,
              "#ed7953"
             ],
             [
              0.7777777777777778,
              "#fb9f3a"
             ],
             [
              0.8888888888888888,
              "#fdca26"
             ],
             [
              1,
              "#f0f921"
             ]
            ],
            "type": "histogram2d"
           }
          ],
          "histogram2dcontour": [
           {
            "colorbar": {
             "outlinewidth": 0,
             "ticks": ""
            },
            "colorscale": [
             [
              0,
              "#0d0887"
             ],
             [
              0.1111111111111111,
              "#46039f"
             ],
             [
              0.2222222222222222,
              "#7201a8"
             ],
             [
              0.3333333333333333,
              "#9c179e"
             ],
             [
              0.4444444444444444,
              "#bd3786"
             ],
             [
              0.5555555555555556,
              "#d8576b"
             ],
             [
              0.6666666666666666,
              "#ed7953"
             ],
             [
              0.7777777777777778,
              "#fb9f3a"
             ],
             [
              0.8888888888888888,
              "#fdca26"
             ],
             [
              1,
              "#f0f921"
             ]
            ],
            "type": "histogram2dcontour"
           }
          ],
          "mesh3d": [
           {
            "colorbar": {
             "outlinewidth": 0,
             "ticks": ""
            },
            "type": "mesh3d"
           }
          ],
          "parcoords": [
           {
            "line": {
             "colorbar": {
              "outlinewidth": 0,
              "ticks": ""
             }
            },
            "type": "parcoords"
           }
          ],
          "pie": [
           {
            "automargin": true,
            "type": "pie"
           }
          ],
          "scatter": [
           {
            "fillpattern": {
             "fillmode": "overlay",
             "size": 10,
             "solidity": 0.2
            },
            "type": "scatter"
           }
          ],
          "scatter3d": [
           {
            "line": {
             "colorbar": {
              "outlinewidth": 0,
              "ticks": ""
             }
            },
            "marker": {
             "colorbar": {
              "outlinewidth": 0,
              "ticks": ""
             }
            },
            "type": "scatter3d"
           }
          ],
          "scattercarpet": [
           {
            "marker": {
             "colorbar": {
              "outlinewidth": 0,
              "ticks": ""
             }
            },
            "type": "scattercarpet"
           }
          ],
          "scattergeo": [
           {
            "marker": {
             "colorbar": {
              "outlinewidth": 0,
              "ticks": ""
             }
            },
            "type": "scattergeo"
           }
          ],
          "scattergl": [
           {
            "marker": {
             "colorbar": {
              "outlinewidth": 0,
              "ticks": ""
             }
            },
            "type": "scattergl"
           }
          ],
          "scattermapbox": [
           {
            "marker": {
             "colorbar": {
              "outlinewidth": 0,
              "ticks": ""
             }
            },
            "type": "scattermapbox"
           }
          ],
          "scatterpolar": [
           {
            "marker": {
             "colorbar": {
              "outlinewidth": 0,
              "ticks": ""
             }
            },
            "type": "scatterpolar"
           }
          ],
          "scatterpolargl": [
           {
            "marker": {
             "colorbar": {
              "outlinewidth": 0,
              "ticks": ""
             }
            },
            "type": "scatterpolargl"
           }
          ],
          "scatterternary": [
           {
            "marker": {
             "colorbar": {
              "outlinewidth": 0,
              "ticks": ""
             }
            },
            "type": "scatterternary"
           }
          ],
          "surface": [
           {
            "colorbar": {
             "outlinewidth": 0,
             "ticks": ""
            },
            "colorscale": [
             [
              0,
              "#0d0887"
             ],
             [
              0.1111111111111111,
              "#46039f"
             ],
             [
              0.2222222222222222,
              "#7201a8"
             ],
             [
              0.3333333333333333,
              "#9c179e"
             ],
             [
              0.4444444444444444,
              "#bd3786"
             ],
             [
              0.5555555555555556,
              "#d8576b"
             ],
             [
              0.6666666666666666,
              "#ed7953"
             ],
             [
              0.7777777777777778,
              "#fb9f3a"
             ],
             [
              0.8888888888888888,
              "#fdca26"
             ],
             [
              1,
              "#f0f921"
             ]
            ],
            "type": "surface"
           }
          ],
          "table": [
           {
            "cells": {
             "fill": {
              "color": "#EBF0F8"
             },
             "line": {
              "color": "white"
             }
            },
            "header": {
             "fill": {
              "color": "#C8D4E3"
             },
             "line": {
              "color": "white"
             }
            },
            "type": "table"
           }
          ]
         },
         "layout": {
          "annotationdefaults": {
           "arrowcolor": "#2a3f5f",
           "arrowhead": 0,
           "arrowwidth": 1
          },
          "autotypenumbers": "strict",
          "coloraxis": {
           "colorbar": {
            "outlinewidth": 0,
            "ticks": ""
           }
          },
          "colorscale": {
           "diverging": [
            [
             0,
             "#8e0152"
            ],
            [
             0.1,
             "#c51b7d"
            ],
            [
             0.2,
             "#de77ae"
            ],
            [
             0.3,
             "#f1b6da"
            ],
            [
             0.4,
             "#fde0ef"
            ],
            [
             0.5,
             "#f7f7f7"
            ],
            [
             0.6,
             "#e6f5d0"
            ],
            [
             0.7,
             "#b8e186"
            ],
            [
             0.8,
             "#7fbc41"
            ],
            [
             0.9,
             "#4d9221"
            ],
            [
             1,
             "#276419"
            ]
           ],
           "sequential": [
            [
             0,
             "#0d0887"
            ],
            [
             0.1111111111111111,
             "#46039f"
            ],
            [
             0.2222222222222222,
             "#7201a8"
            ],
            [
             0.3333333333333333,
             "#9c179e"
            ],
            [
             0.4444444444444444,
             "#bd3786"
            ],
            [
             0.5555555555555556,
             "#d8576b"
            ],
            [
             0.6666666666666666,
             "#ed7953"
            ],
            [
             0.7777777777777778,
             "#fb9f3a"
            ],
            [
             0.8888888888888888,
             "#fdca26"
            ],
            [
             1,
             "#f0f921"
            ]
           ],
           "sequentialminus": [
            [
             0,
             "#0d0887"
            ],
            [
             0.1111111111111111,
             "#46039f"
            ],
            [
             0.2222222222222222,
             "#7201a8"
            ],
            [
             0.3333333333333333,
             "#9c179e"
            ],
            [
             0.4444444444444444,
             "#bd3786"
            ],
            [
             0.5555555555555556,
             "#d8576b"
            ],
            [
             0.6666666666666666,
             "#ed7953"
            ],
            [
             0.7777777777777778,
             "#fb9f3a"
            ],
            [
             0.8888888888888888,
             "#fdca26"
            ],
            [
             1,
             "#f0f921"
            ]
           ]
          },
          "colorway": [
           "#636efa",
           "#EF553B",
           "#00cc96",
           "#ab63fa",
           "#FFA15A",
           "#19d3f3",
           "#FF6692",
           "#B6E880",
           "#FF97FF",
           "#FECB52"
          ],
          "font": {
           "color": "#2a3f5f"
          },
          "geo": {
           "bgcolor": "white",
           "lakecolor": "white",
           "landcolor": "#E5ECF6",
           "showlakes": true,
           "showland": true,
           "subunitcolor": "white"
          },
          "hoverlabel": {
           "align": "left"
          },
          "hovermode": "closest",
          "mapbox": {
           "style": "light"
          },
          "paper_bgcolor": "white",
          "plot_bgcolor": "#E5ECF6",
          "polar": {
           "angularaxis": {
            "gridcolor": "white",
            "linecolor": "white",
            "ticks": ""
           },
           "bgcolor": "#E5ECF6",
           "radialaxis": {
            "gridcolor": "white",
            "linecolor": "white",
            "ticks": ""
           }
          },
          "scene": {
           "xaxis": {
            "backgroundcolor": "#E5ECF6",
            "gridcolor": "white",
            "gridwidth": 2,
            "linecolor": "white",
            "showbackground": true,
            "ticks": "",
            "zerolinecolor": "white"
           },
           "yaxis": {
            "backgroundcolor": "#E5ECF6",
            "gridcolor": "white",
            "gridwidth": 2,
            "linecolor": "white",
            "showbackground": true,
            "ticks": "",
            "zerolinecolor": "white"
           },
           "zaxis": {
            "backgroundcolor": "#E5ECF6",
            "gridcolor": "white",
            "gridwidth": 2,
            "linecolor": "white",
            "showbackground": true,
            "ticks": "",
            "zerolinecolor": "white"
           }
          },
          "shapedefaults": {
           "line": {
            "color": "#2a3f5f"
           }
          },
          "ternary": {
           "aaxis": {
            "gridcolor": "white",
            "linecolor": "white",
            "ticks": ""
           },
           "baxis": {
            "gridcolor": "white",
            "linecolor": "white",
            "ticks": ""
           },
           "bgcolor": "#E5ECF6",
           "caxis": {
            "gridcolor": "white",
            "linecolor": "white",
            "ticks": ""
           }
          },
          "title": {
           "x": 0.05
          },
          "xaxis": {
           "automargin": true,
           "gridcolor": "white",
           "linecolor": "white",
           "ticks": "",
           "title": {
            "standoff": 15
           },
           "zerolinecolor": "white",
           "zerolinewidth": 2
          },
          "yaxis": {
           "automargin": true,
           "gridcolor": "white",
           "linecolor": "white",
           "ticks": "",
           "title": {
            "standoff": 15
           },
           "zerolinecolor": "white",
           "zerolinewidth": 2
          }
         }
        },
        "title": {
         "text": "x vs y (measured)"
        },
        "xaxis": {
         "title": {
          "text": "x [mm]"
         }
        },
        "yaxis": {
         "scaleanchor": "x",
         "title": {
          "text": "y [mm]"
         }
        }
       }
      }
     },
     "metadata": {},
     "output_type": "display_data"
    },
    {
     "name": "stdout",
     "output_type": "stream",
     "text": [
      "[[ 0.38679576 -3.91748862 12.7829972 ]\n",
      " [ 2.85931699 -3.89068423 12.76560426]\n",
      " [ 5.09111588 -2.52008775 12.76734677]\n",
      " [ 6.35852496 -0.24978935 12.77148418]\n",
      " [ 6.29676763  2.16243948 12.79286158]\n",
      " [ 4.95132342  4.34740057 12.81334265]\n",
      " [ 2.86508591  5.50967508 12.82907022]\n",
      " [ 0.34027321  5.57458363 12.83303259]\n",
      " [-1.71927906  4.24089156 12.84751864]\n",
      " [-3.02238365  2.02300143 12.84906147]\n",
      " [-3.05637968 -0.46271187 12.828484  ]\n",
      " [-1.89333292 -2.5692364  12.8109377 ]\n",
      " [ 0.35900437 -3.90690825 12.78698909]]\n",
      "[[0.04923642 0.02854382 0.9983792 ]\n",
      " [0.06320182 0.03141801 0.99750611]\n",
      " [0.08675024 0.06217237 0.99428818]\n",
      " [0.09844491 0.07934816 0.99197403]\n",
      " [0.08994545 0.0693181  0.99353149]\n",
      " [0.07821633 0.06420896 0.99486653]\n",
      " [0.07294647 0.07036561 0.99485049]\n",
      " [0.07600965 0.07677689 0.99414679]\n",
      " [0.07179365 0.07042009 0.99493049]\n",
      " [0.05916635 0.05501447 0.99673103]\n",
      " [0.0431088  0.04972106 0.99783237]\n",
      " [0.03725863 0.04456426 0.99831148]\n",
      " [0.04887531 0.0291599  0.99837914]]\n"
     ]
    }
   ],
   "source": [
    "import plotly.graph_objects as go\n",
    "a = 0\n",
    "b = 1\n",
    "\n",
    "measured2D = go.Scatter(x=loc_pred[:,a], y=loc_pred[:,b], mode='markers')\n",
    "layout = go.Layout(title='x vs y (measured)')\n",
    "fig2 = go.Figure(data=[measured2D], layout=layout)\n",
    "fig2.update_layout(\n",
    "    xaxis_title=\"x [mm]\",\n",
    "    yaxis_title=\"y [mm]\"\n",
    ")\n",
    "fig2.update_yaxes(scaleanchor='x')\n",
    "fig2.show()\n",
    "\n",
    "print(loc_pred)\n",
    "print(angle_pred)"
   ]
  }
 ],
 "metadata": {
  "kernelspec": {
   "display_name": "Python 3",
   "language": "python",
   "name": "python3"
  },
  "language_info": {
   "codemirror_mode": {
    "name": "ipython",
    "version": 3
   },
   "file_extension": ".py",
   "mimetype": "text/x-python",
   "name": "python",
   "nbconvert_exporter": "python",
   "pygments_lexer": "ipython3",
   "version": "3.12.3"
  }
 },
 "nbformat": 4,
 "nbformat_minor": 2
}
