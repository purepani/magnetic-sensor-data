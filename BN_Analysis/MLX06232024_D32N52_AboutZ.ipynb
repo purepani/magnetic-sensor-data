{
 "cells": [
  {
   "cell_type": "code",
   "execution_count": 1,
   "metadata": {},
   "outputs": [],
   "source": [
    "import glob\n",
    "import numpy as np\n",
    "import scipy as sp\n",
    "import einops as eo\n",
    "import matplotlib.pyplot as plt\n",
    "import math\n",
    "import plotly.graph_objects as go\n",
    "from scipy.spatial.transform import Rotation\n",
    "import magpylib as magpy\n",
    "import os\n",
    "\n",
    "\n",
    "M0 = 1480 #mT\n",
    "shape = [3*25.4/16, 25.4/8] #radius and height\n",
    "x0 = np.array([0,0,10, 0,0,1])"
   ]
  },
  {
   "cell_type": "code",
   "execution_count": 2,
   "metadata": {},
   "outputs": [],
   "source": [
    "def B_dipole(position, rotation, M0, shape):\n",
    "    R = np.sqrt(np.sum(position**2, axis=1))\n",
    "    B = (M0 * (shape[0]) ** 2 * shape[1] / (16)) * (\n",
    "        (\n",
    "            3\n",
    "            * position\n",
    "            / R[:, np.newaxis] ** 5\n",
    "            * (eo.einsum(position, rotation, \"sensor dim,  dim -> sensor\"))[\n",
    "                :, np.newaxis\n",
    "            ]\n",
    "        )\n",
    "        - rotation[np.newaxis, :] / (R[:, np.newaxis] ** 3)\n",
    "    )\n",
    "    return B\n",
    "\n",
    "\n",
    "def getField_dipole(x, positions, M0, shape):\n",
    "    position = x[:3]\n",
    "    axis = x[3:]\n",
    "    return B_dipole(positions - position, axis, M0, shape)\n",
    "\n",
    "\n",
    "def getField_dipole_fixed(x, positions, M0, shape):\n",
    "    position = x[:3]\n",
    "    axis = x[3:]\n",
    "    return B_dipole(positions - position, axis, M0, shape)\n",
    "\n",
    "\n",
    "def cost_dipole(x, B, positions, M0, shape):\n",
    "    diff = getField_dipole(x, positions, M0, shape) - B\n",
    "    return np.sum((diff) ** 2)\n",
    "\n",
    "\n",
    "def getField_cylinder(x, positions, M0, shape):\n",
    "    B=magpy.getB(\n",
    "        sources=\"Cylinder\",\n",
    "        position=x[:3],\n",
    "        orientation=Rotation.align_vectors(x[3:], np.array([0, 0, 1]))[0],\n",
    "        observers=positions,\n",
    "        dimension=shape,\n",
    "        polarization=(0, 0, M0),\n",
    "    )\n",
    "    return B\n",
    "\n",
    "def cost_cylinder(x, B, positions, M0, shape):\n",
    "    diff = getField_cylinder(x, positions, M0, shape) - B\n",
    "    return np.sum((diff) ** 2)\n",
    "\n",
    "def minimize(x0, B, positions, M0, shape, *args):\n",
    "    #print(\"Starting mimimization\")\n",
    "    b_args = (B, positions, M0, shape)\n",
    "    cons = [{\"type\": \"eq\", \"fun\": lambda x: x[3] ** 2 + x[4] ** 2 + x[5] ** 2 - 1}]\n",
    "    bounds = [(-100, 100), (-100, 100), (0, 100), (-1, 1), (-1, 1), (-1, 1)]\n",
    "    res = sp.optimize.minimize(\n",
    "        fun=cost_dipole, x0=x0, args=b_args, tol=1e-100, constraints=cons, bounds=bounds, *args\n",
    "    ).x  \n",
    "    #print(f\"Finished mimimization with shape {b_args[3]} at {res}\")\n",
    "    return res\n",
    "\n",
    "def circle_radius(x1, y1, x2, y2, x3, y3):\n",
    "    # Calculate lengths of sides of the triangle formed by the three points\n",
    "    a = math.sqrt((x2 - x1) ** 2 + (y2 - y1) ** 2)\n",
    "    b = math.sqrt((x3 - x2) ** 2 + (y3 - y2) ** 2)\n",
    "    c = math.sqrt((x3 - x1) ** 2 + (y3 - y1) ** 2)\n",
    "\n",
    "    # Calculate the semi-perimeter of the triangle\n",
    "    s = (a + b + c) / 2\n",
    "\n",
    "    # Calculate the area of the triangle using Heron's formula\n",
    "    area = math.sqrt(s * (s - a) * (s - b) * (s - c))\n",
    "\n",
    "    # Calculate the radius of the circle using the formula: radius = (abc) / (4 * area)\n",
    "    radius = (a * b * c) / (4 * area)\n",
    "    \n",
    "    return radius\n",
    "\n",
    "def comparison_plot(locact, locpred, axis, relative):\n",
    "\n",
    "    if axis == 'x':\n",
    "        ax = 0\n",
    "    elif axis == 'y':\n",
    "        ax = 1\n",
    "    else:\n",
    "        ax = 2\n",
    "\n",
    "    index = list(range(len(locact[:,ax])))\n",
    "    act = locact[:, ax]\n",
    "    pred = locpred[:, ax]\n",
    "\n",
    "    rel = ''\n",
    "\n",
    "    if relative==True:\n",
    "        act = [x - locact[0, ax] for x in locact[:, ax]]\n",
    "        pred = [x - locpred[0, ax] for x in locpred[:, ax]]\n",
    "        rel = ' (Relative)'\n",
    "\n",
    "    # Plotting\n",
    "    plt.figure(figsize=(8, 6))\n",
    "    plt.scatter(index, pred, label='Predicted' + rel)\n",
    "    plt.scatter(index, act, label='Actual' + rel)\n",
    "    plt.xlabel('Index')\n",
    "    plt.ylabel(axis + '-component')\n",
    "    plt.title('Comparison of '+axis+ ' Location' + rel+ ': Predicted vs Actual')\n",
    "    plt.legend()\n",
    "    plt.grid(True)\n",
    "    plt.show()\n",
    "\n",
    "    return\n",
    "\n",
    "def comp_plot3D(locact, locpred, xact, yact, axis, relative):\n",
    "\n",
    "    if axis == 'x':\n",
    "        ax = 0\n",
    "    elif axis == 'y':\n",
    "        ax = 1\n",
    "    else:\n",
    "        ax = 2\n",
    "\n",
    "    index = list(range(len(locact[:,ax])))\n",
    "    act = locact[:, ax]\n",
    "    pred = locpred[:, ax]\n",
    "\n",
    "    rel = ''\n",
    "\n",
    "    if relative==True:\n",
    "        act = [x - locact[0, ax] for x in locact[:, ax]]\n",
    "        pred = [x - locpred[0, ax] for x in locpred[:, ax]]\n",
    "        rel = ' (Relative)'\n",
    "\n",
    "    fig = go.Figure(data=[\n",
    "        go.Scatter3d(x=xact, y=yact, z=pred, name='Predicted' + rel),\n",
    "        go.Scatter3d(x=xact, y=yact, z=act, name='Actual' + rel)])\n",
    "    fig.show()\n",
    "\n",
    "    return\n",
    "\n",
    "def displacement_plot(actual, predicted):\n",
    "\n",
    "    dispx = np.array(predicted[:,0]-predicted[:,0][0])\n",
    "    dispy = np.array(predicted[:,1]-predicted[:,1][0])\n",
    "    dispz = np.array(predicted[:,2]-predicted[:,2][0])\n",
    "    disp = np.sqrt(dispx**2+dispy**2+dispz**2)\n",
    "    actdispx = np.array(actual[:,0]-actual[:,0][0])\n",
    "    actdispy = np.array(actual[:,1]-actual[:,1][0])\n",
    "    actdispz = np.array(actual[:,2]-actual[:,2][0])\n",
    "    actdisp = np.sqrt(actdispx**2+actdispy**2+actdispz**2)\n",
    "\n",
    "    plt.figure(figsize=(8, 6))\n",
    "    plt.scatter(list(range(len(disp))), disp, label='Predicted Displacement')\n",
    "    plt.scatter(list(range(len(actdisp))), actdisp, label='Actual Displacement')\n",
    "    plt.xlabel('Index')\n",
    "    plt.ylabel('Displacement (mm)')\n",
    "    plt.title('Magnet Displacement')\n",
    "    plt.legend()\n",
    "    plt.grid(True)\n",
    "    plt.show()\n",
    "\n",
    "    return\n",
    "\n",
    "def importfitting(folder):\n",
    "\n",
    "    file_list = sorted(glob.glob(f'{folder}/*.npz'))\n",
    "    len(file_list)\n",
    "    data = np.load(file_list[0])\n",
    "    pos = data['pos'][0]\n",
    "\n",
    "    locpred = [np.array([0,0,0])]\n",
    "    anglepred = [np.array([0,0,0])]\n",
    "    Bstdev = [np.array(pos)]\n",
    "    for x in range(len(file_list)):\n",
    "        data = np.load(file_list[x])\n",
    "        mags = data['mags']\n",
    "        pos = data['pos'][0]\n",
    "        B = np.mean(mags, axis=0)\n",
    "        mags_stdev = np.std(mags, axis=0)\n",
    "        x_res = minimize(x0, B, pos, M0, shape)\n",
    "        locpred = np.append(locpred, [x_res[0:3]], axis=0)\n",
    "        anglepred = np.append(anglepred, [x_res[3:6]], axis=0)\n",
    "        Bstdev = np.append(Bstdev, [mags_stdev], axis=0)\n",
    "    locpred = np.delete(locpred, 0, axis=0)\n",
    "    anglepred = np.delete(anglepred, 0, axis=0)\n",
    "    Bstdev = np.delete(Bstdev, 0 ,axis=0)\n",
    "\n",
    "    return locpred, anglepred, Bstdev\n",
    "\n",
    "def actualangle(xind, yind, xscal, xcon, yscal, ycon, isoff):\n",
    "\n",
    "    angact = [np.array([0, 0, 0])]\n",
    "    for y in range(yind):\n",
    "        for x in range(xind):\n",
    "            R = Rotation.from_euler('ZYX' ,np.array([0, yscal*y-ycon, xscal*x-xcon]), degrees=True)\n",
    "            norm = np.array([[0, 0, 1]])\n",
    "            rotated = R.apply(norm, inverse=False)[0]\n",
    "            #add = np.array([np.sin(np.deg2rad(2*y-4)), -np.sin(np.deg2rad(2*x-4)), np.cos(np.deg2rad(2*y-4))*np.cos(np.deg2rad(2*x-4))])\n",
    "            angact = np.append(angact, [rotated], axis=0)\n",
    "    angact = np.delete(angact, 0, axis=0)\n",
    "    locact = angact*isoff\n",
    "\n",
    "    return angact, locact"
   ]
  },
  {
   "cell_type": "code",
   "execution_count": 3,
   "metadata": {},
   "outputs": [
    {
     "data": {
      "text/plain": [
       "array([[ 1.18120119e+01, -4.26105949e-01,  1.14016051e+01,\n",
       "         1.41975105e-01,  6.30672512e-02, -9.87859095e-01],\n",
       "       [ 5.73995514e+00,  1.02936836e+01,  1.16842875e+01,\n",
       "         1.46753299e-02,  2.16269813e-01, -9.76223336e-01],\n",
       "       [-6.70522920e+00,  1.08998526e+01,  1.16432654e+01,\n",
       "        -1.16000886e-01,  1.21923145e-01, -9.85737562e-01],\n",
       "       [-1.32547391e+01,  1.29984748e-01,  1.17279680e+01,\n",
       "        -1.53692145e-01,  7.29637748e-03, -9.88091842e-01],\n",
       "       [-7.21884131e+00, -1.09425772e+01,  1.14574328e+01,\n",
       "        -6.03881297e-02, -9.88166390e-02, -9.93271637e-01],\n",
       "       [ 5.25975890e+00, -1.10139478e+01,  1.14840506e+01,\n",
       "         7.95959032e-02, -1.09224444e-01, -9.90825168e-01],\n",
       "       [ 1.18410488e+01, -4.89085518e-01,  1.15773369e+01,\n",
       "         1.41512948e-01,  6.51593151e-02, -9.87789628e-01]])"
      ]
     },
     "execution_count": 3,
     "metadata": {},
     "output_type": "execute_result"
    }
   ],
   "source": [
    "folder = os.path.join('..', './MLX06232024_D32N52_AboutZ')\n",
    "locpred, anglepred, Bstdev = importfitting(folder)\n",
    "np.append(locpred, anglepred, axis=1)"
   ]
  },
  {
   "cell_type": "code",
   "execution_count": 4,
   "metadata": {},
   "outputs": [
    {
     "name": "stdout",
     "output_type": "stream",
     "text": [
      "Point 0: [14.14213562  0.         11.3325    ]\n",
      "Point 1: [ 7.07106781 12.24744871 11.3325    ]\n",
      "Point 2: [-7.07106781 12.24744871 11.3325    ]\n",
      "Point 3: [-1.41421356e+01  1.73191211e-15  1.13325000e+01]\n",
      "Point 4: [ -7.07106781 -12.24744871  11.3325    ]\n",
      "Point 5: [  7.07106781 -12.24744871  11.3325    ]\n"
     ]
    }
   ],
   "source": [
    "Dist = 13.77 #mm\n",
    "SensorHeight = 0.85\n",
    "zact = Dist - shape[1]/2 - SensorHeight\n",
    "radact = np.sqrt(800)/2\n",
    "point = (radact, 0, zact)\n",
    "\n",
    "# Function to rotate a 3D point around the z-axis\n",
    "def rotate_point_z_axis(point, angle_degrees):\n",
    "    angle_radians = np.radians(angle_degrees)\n",
    "    rotation_matrix = np.array([\n",
    "        [np.cos(angle_radians), -np.sin(angle_radians), 0],\n",
    "        [np.sin(angle_radians), np.cos(angle_radians), 0],\n",
    "        [0, 0, 1]\n",
    "    ])\n",
    "    return np.dot(rotation_matrix, point)\n",
    "\n",
    "# Generate points rotating every 60 degrees\n",
    "angles = [60 * i for i in range(6)]\n",
    "locact = np.array([rotate_point_z_axis(point, angle) for angle in angles])\n",
    "\n",
    "# Print the points\n",
    "for i, p in enumerate(locact):\n",
    "    print(f\"Point {i}: {p}\")\n",
    "    \n",
    "actang = np.array([(0, 0, -1) for _ in range(len(locact))])\n"
   ]
  },
  {
   "cell_type": "code",
   "execution_count": 5,
   "metadata": {},
   "outputs": [
    {
     "data": {
      "application/vnd.plotly.v1+json": {
       "config": {
        "plotlyServerURL": "https://plot.ly"
       },
       "data": [
        {
         "colorscale": [
          [
           0,
           "red"
          ],
          [
           1,
           "red"
          ]
         ],
         "sizemode": "absolute",
         "sizeref": 1,
         "type": "cone",
         "u": [
          0.14197510545513584,
          0.014675329864724678,
          -0.1160008864388211,
          -0.15369214534035014,
          -0.060388129671802473,
          0.07959590324623687,
          0.1415129484513844
         ],
         "v": [
          0.0630672511538971,
          0.21626981325211408,
          0.12192314528298441,
          0.0072963774825553045,
          -0.09881663902360761,
          -0.10922444448543675,
          0.06515931506559898
         ],
         "w": [
          -0.9878590948424245,
          -0.9762233364191092,
          -0.9857375619249334,
          -0.9880918415493132,
          -0.9932716373917155,
          -0.9908251676826055,
          -0.9877896279475594
         ],
         "x": [
          11.812011927429651,
          5.739955137859168,
          -6.705229198516768,
          -13.254739085586065,
          -7.2188413104038345,
          5.259758903098972,
          11.841048814642823
         ],
         "y": [
          -0.4261059486626666,
          10.293683578899877,
          10.899852584725679,
          0.12998474783555722,
          -10.942577196199627,
          -11.013947758288074,
          -0.48908551784074944
         ],
         "z": [
          11.401605061581172,
          11.68428751430888,
          11.64326542195856,
          11.727968023827412,
          11.457432754331107,
          11.484050572450778,
          11.577336911211601
         ]
        },
        {
         "colorscale": [
          [
           0,
           "blue"
          ],
          [
           1,
           "blue"
          ]
         ],
         "sizemode": "absolute",
         "sizeref": 1,
         "type": "cone",
         "u": [
          0,
          0,
          0,
          0,
          0,
          0
         ],
         "v": [
          0,
          0,
          0,
          0,
          0,
          0
         ],
         "w": [
          -1,
          -1,
          -1,
          -1,
          -1,
          -1
         ],
         "x": [
          14.142135623730951,
          7.071067811865477,
          -7.071067811865472,
          -14.142135623730951,
          -7.071067811865482,
          7.071067811865477
         ],
         "y": [
          0,
          12.24744871391589,
          12.247448713915892,
          1.7319121124709867e-15,
          -12.247448713915889,
          -12.24744871391589
         ],
         "z": [
          11.3325,
          11.3325,
          11.3325,
          11.3325,
          11.3325,
          11.3325
         ]
        }
       ],
       "layout": {
        "template": {
         "data": {
          "bar": [
           {
            "error_x": {
             "color": "#2a3f5f"
            },
            "error_y": {
             "color": "#2a3f5f"
            },
            "marker": {
             "line": {
              "color": "#E5ECF6",
              "width": 0.5
             },
             "pattern": {
              "fillmode": "overlay",
              "size": 10,
              "solidity": 0.2
             }
            },
            "type": "bar"
           }
          ],
          "barpolar": [
           {
            "marker": {
             "line": {
              "color": "#E5ECF6",
              "width": 0.5
             },
             "pattern": {
              "fillmode": "overlay",
              "size": 10,
              "solidity": 0.2
             }
            },
            "type": "barpolar"
           }
          ],
          "carpet": [
           {
            "aaxis": {
             "endlinecolor": "#2a3f5f",
             "gridcolor": "white",
             "linecolor": "white",
             "minorgridcolor": "white",
             "startlinecolor": "#2a3f5f"
            },
            "baxis": {
             "endlinecolor": "#2a3f5f",
             "gridcolor": "white",
             "linecolor": "white",
             "minorgridcolor": "white",
             "startlinecolor": "#2a3f5f"
            },
            "type": "carpet"
           }
          ],
          "choropleth": [
           {
            "colorbar": {
             "outlinewidth": 0,
             "ticks": ""
            },
            "type": "choropleth"
           }
          ],
          "contour": [
           {
            "colorbar": {
             "outlinewidth": 0,
             "ticks": ""
            },
            "colorscale": [
             [
              0,
              "#0d0887"
             ],
             [
              0.1111111111111111,
              "#46039f"
             ],
             [
              0.2222222222222222,
              "#7201a8"
             ],
             [
              0.3333333333333333,
              "#9c179e"
             ],
             [
              0.4444444444444444,
              "#bd3786"
             ],
             [
              0.5555555555555556,
              "#d8576b"
             ],
             [
              0.6666666666666666,
              "#ed7953"
             ],
             [
              0.7777777777777778,
              "#fb9f3a"
             ],
             [
              0.8888888888888888,
              "#fdca26"
             ],
             [
              1,
              "#f0f921"
             ]
            ],
            "type": "contour"
           }
          ],
          "contourcarpet": [
           {
            "colorbar": {
             "outlinewidth": 0,
             "ticks": ""
            },
            "type": "contourcarpet"
           }
          ],
          "heatmap": [
           {
            "colorbar": {
             "outlinewidth": 0,
             "ticks": ""
            },
            "colorscale": [
             [
              0,
              "#0d0887"
             ],
             [
              0.1111111111111111,
              "#46039f"
             ],
             [
              0.2222222222222222,
              "#7201a8"
             ],
             [
              0.3333333333333333,
              "#9c179e"
             ],
             [
              0.4444444444444444,
              "#bd3786"
             ],
             [
              0.5555555555555556,
              "#d8576b"
             ],
             [
              0.6666666666666666,
              "#ed7953"
             ],
             [
              0.7777777777777778,
              "#fb9f3a"
             ],
             [
              0.8888888888888888,
              "#fdca26"
             ],
             [
              1,
              "#f0f921"
             ]
            ],
            "type": "heatmap"
           }
          ],
          "heatmapgl": [
           {
            "colorbar": {
             "outlinewidth": 0,
             "ticks": ""
            },
            "colorscale": [
             [
              0,
              "#0d0887"
             ],
             [
              0.1111111111111111,
              "#46039f"
             ],
             [
              0.2222222222222222,
              "#7201a8"
             ],
             [
              0.3333333333333333,
              "#9c179e"
             ],
             [
              0.4444444444444444,
              "#bd3786"
             ],
             [
              0.5555555555555556,
              "#d8576b"
             ],
             [
              0.6666666666666666,
              "#ed7953"
             ],
             [
              0.7777777777777778,
              "#fb9f3a"
             ],
             [
              0.8888888888888888,
              "#fdca26"
             ],
             [
              1,
              "#f0f921"
             ]
            ],
            "type": "heatmapgl"
           }
          ],
          "histogram": [
           {
            "marker": {
             "pattern": {
              "fillmode": "overlay",
              "size": 10,
              "solidity": 0.2
             }
            },
            "type": "histogram"
           }
          ],
          "histogram2d": [
           {
            "colorbar": {
             "outlinewidth": 0,
             "ticks": ""
            },
            "colorscale": [
             [
              0,
              "#0d0887"
             ],
             [
              0.1111111111111111,
              "#46039f"
             ],
             [
              0.2222222222222222,
              "#7201a8"
             ],
             [
              0.3333333333333333,
              "#9c179e"
             ],
             [
              0.4444444444444444,
              "#bd3786"
             ],
             [
              0.5555555555555556,
              "#d8576b"
             ],
             [
              0.6666666666666666,
              "#ed7953"
             ],
             [
              0.7777777777777778,
              "#fb9f3a"
             ],
             [
              0.8888888888888888,
              "#fdca26"
             ],
             [
              1,
              "#f0f921"
             ]
            ],
            "type": "histogram2d"
           }
          ],
          "histogram2dcontour": [
           {
            "colorbar": {
             "outlinewidth": 0,
             "ticks": ""
            },
            "colorscale": [
             [
              0,
              "#0d0887"
             ],
             [
              0.1111111111111111,
              "#46039f"
             ],
             [
              0.2222222222222222,
              "#7201a8"
             ],
             [
              0.3333333333333333,
              "#9c179e"
             ],
             [
              0.4444444444444444,
              "#bd3786"
             ],
             [
              0.5555555555555556,
              "#d8576b"
             ],
             [
              0.6666666666666666,
              "#ed7953"
             ],
             [
              0.7777777777777778,
              "#fb9f3a"
             ],
             [
              0.8888888888888888,
              "#fdca26"
             ],
             [
              1,
              "#f0f921"
             ]
            ],
            "type": "histogram2dcontour"
           }
          ],
          "mesh3d": [
           {
            "colorbar": {
             "outlinewidth": 0,
             "ticks": ""
            },
            "type": "mesh3d"
           }
          ],
          "parcoords": [
           {
            "line": {
             "colorbar": {
              "outlinewidth": 0,
              "ticks": ""
             }
            },
            "type": "parcoords"
           }
          ],
          "pie": [
           {
            "automargin": true,
            "type": "pie"
           }
          ],
          "scatter": [
           {
            "fillpattern": {
             "fillmode": "overlay",
             "size": 10,
             "solidity": 0.2
            },
            "type": "scatter"
           }
          ],
          "scatter3d": [
           {
            "line": {
             "colorbar": {
              "outlinewidth": 0,
              "ticks": ""
             }
            },
            "marker": {
             "colorbar": {
              "outlinewidth": 0,
              "ticks": ""
             }
            },
            "type": "scatter3d"
           }
          ],
          "scattercarpet": [
           {
            "marker": {
             "colorbar": {
              "outlinewidth": 0,
              "ticks": ""
             }
            },
            "type": "scattercarpet"
           }
          ],
          "scattergeo": [
           {
            "marker": {
             "colorbar": {
              "outlinewidth": 0,
              "ticks": ""
             }
            },
            "type": "scattergeo"
           }
          ],
          "scattergl": [
           {
            "marker": {
             "colorbar": {
              "outlinewidth": 0,
              "ticks": ""
             }
            },
            "type": "scattergl"
           }
          ],
          "scattermapbox": [
           {
            "marker": {
             "colorbar": {
              "outlinewidth": 0,
              "ticks": ""
             }
            },
            "type": "scattermapbox"
           }
          ],
          "scatterpolar": [
           {
            "marker": {
             "colorbar": {
              "outlinewidth": 0,
              "ticks": ""
             }
            },
            "type": "scatterpolar"
           }
          ],
          "scatterpolargl": [
           {
            "marker": {
             "colorbar": {
              "outlinewidth": 0,
              "ticks": ""
             }
            },
            "type": "scatterpolargl"
           }
          ],
          "scatterternary": [
           {
            "marker": {
             "colorbar": {
              "outlinewidth": 0,
              "ticks": ""
             }
            },
            "type": "scatterternary"
           }
          ],
          "surface": [
           {
            "colorbar": {
             "outlinewidth": 0,
             "ticks": ""
            },
            "colorscale": [
             [
              0,
              "#0d0887"
             ],
             [
              0.1111111111111111,
              "#46039f"
             ],
             [
              0.2222222222222222,
              "#7201a8"
             ],
             [
              0.3333333333333333,
              "#9c179e"
             ],
             [
              0.4444444444444444,
              "#bd3786"
             ],
             [
              0.5555555555555556,
              "#d8576b"
             ],
             [
              0.6666666666666666,
              "#ed7953"
             ],
             [
              0.7777777777777778,
              "#fb9f3a"
             ],
             [
              0.8888888888888888,
              "#fdca26"
             ],
             [
              1,
              "#f0f921"
             ]
            ],
            "type": "surface"
           }
          ],
          "table": [
           {
            "cells": {
             "fill": {
              "color": "#EBF0F8"
             },
             "line": {
              "color": "white"
             }
            },
            "header": {
             "fill": {
              "color": "#C8D4E3"
             },
             "line": {
              "color": "white"
             }
            },
            "type": "table"
           }
          ]
         },
         "layout": {
          "annotationdefaults": {
           "arrowcolor": "#2a3f5f",
           "arrowhead": 0,
           "arrowwidth": 1
          },
          "autotypenumbers": "strict",
          "coloraxis": {
           "colorbar": {
            "outlinewidth": 0,
            "ticks": ""
           }
          },
          "colorscale": {
           "diverging": [
            [
             0,
             "#8e0152"
            ],
            [
             0.1,
             "#c51b7d"
            ],
            [
             0.2,
             "#de77ae"
            ],
            [
             0.3,
             "#f1b6da"
            ],
            [
             0.4,
             "#fde0ef"
            ],
            [
             0.5,
             "#f7f7f7"
            ],
            [
             0.6,
             "#e6f5d0"
            ],
            [
             0.7,
             "#b8e186"
            ],
            [
             0.8,
             "#7fbc41"
            ],
            [
             0.9,
             "#4d9221"
            ],
            [
             1,
             "#276419"
            ]
           ],
           "sequential": [
            [
             0,
             "#0d0887"
            ],
            [
             0.1111111111111111,
             "#46039f"
            ],
            [
             0.2222222222222222,
             "#7201a8"
            ],
            [
             0.3333333333333333,
             "#9c179e"
            ],
            [
             0.4444444444444444,
             "#bd3786"
            ],
            [
             0.5555555555555556,
             "#d8576b"
            ],
            [
             0.6666666666666666,
             "#ed7953"
            ],
            [
             0.7777777777777778,
             "#fb9f3a"
            ],
            [
             0.8888888888888888,
             "#fdca26"
            ],
            [
             1,
             "#f0f921"
            ]
           ],
           "sequentialminus": [
            [
             0,
             "#0d0887"
            ],
            [
             0.1111111111111111,
             "#46039f"
            ],
            [
             0.2222222222222222,
             "#7201a8"
            ],
            [
             0.3333333333333333,
             "#9c179e"
            ],
            [
             0.4444444444444444,
             "#bd3786"
            ],
            [
             0.5555555555555556,
             "#d8576b"
            ],
            [
             0.6666666666666666,
             "#ed7953"
            ],
            [
             0.7777777777777778,
             "#fb9f3a"
            ],
            [
             0.8888888888888888,
             "#fdca26"
            ],
            [
             1,
             "#f0f921"
            ]
           ]
          },
          "colorway": [
           "#636efa",
           "#EF553B",
           "#00cc96",
           "#ab63fa",
           "#FFA15A",
           "#19d3f3",
           "#FF6692",
           "#B6E880",
           "#FF97FF",
           "#FECB52"
          ],
          "font": {
           "color": "#2a3f5f"
          },
          "geo": {
           "bgcolor": "white",
           "lakecolor": "white",
           "landcolor": "#E5ECF6",
           "showlakes": true,
           "showland": true,
           "subunitcolor": "white"
          },
          "hoverlabel": {
           "align": "left"
          },
          "hovermode": "closest",
          "mapbox": {
           "style": "light"
          },
          "paper_bgcolor": "white",
          "plot_bgcolor": "#E5ECF6",
          "polar": {
           "angularaxis": {
            "gridcolor": "white",
            "linecolor": "white",
            "ticks": ""
           },
           "bgcolor": "#E5ECF6",
           "radialaxis": {
            "gridcolor": "white",
            "linecolor": "white",
            "ticks": ""
           }
          },
          "scene": {
           "xaxis": {
            "backgroundcolor": "#E5ECF6",
            "gridcolor": "white",
            "gridwidth": 2,
            "linecolor": "white",
            "showbackground": true,
            "ticks": "",
            "zerolinecolor": "white"
           },
           "yaxis": {
            "backgroundcolor": "#E5ECF6",
            "gridcolor": "white",
            "gridwidth": 2,
            "linecolor": "white",
            "showbackground": true,
            "ticks": "",
            "zerolinecolor": "white"
           },
           "zaxis": {
            "backgroundcolor": "#E5ECF6",
            "gridcolor": "white",
            "gridwidth": 2,
            "linecolor": "white",
            "showbackground": true,
            "ticks": "",
            "zerolinecolor": "white"
           }
          },
          "shapedefaults": {
           "line": {
            "color": "#2a3f5f"
           }
          },
          "ternary": {
           "aaxis": {
            "gridcolor": "white",
            "linecolor": "white",
            "ticks": ""
           },
           "baxis": {
            "gridcolor": "white",
            "linecolor": "white",
            "ticks": ""
           },
           "bgcolor": "#E5ECF6",
           "caxis": {
            "gridcolor": "white",
            "linecolor": "white",
            "ticks": ""
           }
          },
          "title": {
           "x": 0.05
          },
          "xaxis": {
           "automargin": true,
           "gridcolor": "white",
           "linecolor": "white",
           "ticks": "",
           "title": {
            "standoff": 15
           },
           "zerolinecolor": "white",
           "zerolinewidth": 2
          },
          "yaxis": {
           "automargin": true,
           "gridcolor": "white",
           "linecolor": "white",
           "ticks": "",
           "title": {
            "standoff": 15
           },
           "zerolinecolor": "white",
           "zerolinewidth": 2
          }
         }
        }
       }
      }
     },
     "metadata": {},
     "output_type": "display_data"
    }
   ],
   "source": [
    "size = 1\n",
    "\n",
    "measured = go.Cone(x=locpred[:,0], y=locpred[:,1], z=locpred[:,2], u=anglepred[:,0], v=anglepred[:,1], w=anglepred[:,2], \n",
    "                             sizemode=\"absolute\", sizeref=size, colorscale=[(0, 'red'), (1, 'red')])\n",
    "\n",
    "calculated = go.Cone(x=locact[:,0], y=locact[:,1], z=locact[:,2], u=actang[:,0], v=actang[:,1], w=actang[:,2], \n",
    "                             sizemode=\"absolute\", sizeref=size, colorscale=[(0, 'blue'), (1, 'blue')])\n",
    "\n",
    "fig = go.Figure(data=[measured, calculated])\n",
    "\n",
    "fig.show()"
   ]
  },
  {
   "cell_type": "code",
   "execution_count": 6,
   "metadata": {},
   "outputs": [
    {
     "data": {
      "application/vnd.plotly.v1+json": {
       "config": {
        "plotlyServerURL": "https://plot.ly"
       },
       "data": [
        {
         "mode": "markers",
         "type": "scatter",
         "x": [
          14.142135623730951,
          7.071067811865477,
          -7.071067811865472,
          -14.142135623730951,
          -7.071067811865482,
          7.071067811865477
         ],
         "y": [
          0,
          12.24744871391589,
          12.247448713915892,
          1.7319121124709867e-15,
          -12.247448713915889,
          -12.24744871391589
         ]
        },
        {
         "mode": "markers",
         "type": "scatter",
         "x": [
          11.812011927429651,
          5.739955137859168,
          -6.705229198516768,
          -13.254739085586065,
          -7.2188413104038345,
          5.259758903098972,
          11.841048814642823
         ],
         "y": [
          -0.4261059486626666,
          10.293683578899877,
          10.899852584725679,
          0.12998474783555722,
          -10.942577196199627,
          -11.013947758288074,
          -0.48908551784074944
         ]
        }
       ],
       "layout": {
        "template": {
         "data": {
          "bar": [
           {
            "error_x": {
             "color": "#2a3f5f"
            },
            "error_y": {
             "color": "#2a3f5f"
            },
            "marker": {
             "line": {
              "color": "#E5ECF6",
              "width": 0.5
             },
             "pattern": {
              "fillmode": "overlay",
              "size": 10,
              "solidity": 0.2
             }
            },
            "type": "bar"
           }
          ],
          "barpolar": [
           {
            "marker": {
             "line": {
              "color": "#E5ECF6",
              "width": 0.5
             },
             "pattern": {
              "fillmode": "overlay",
              "size": 10,
              "solidity": 0.2
             }
            },
            "type": "barpolar"
           }
          ],
          "carpet": [
           {
            "aaxis": {
             "endlinecolor": "#2a3f5f",
             "gridcolor": "white",
             "linecolor": "white",
             "minorgridcolor": "white",
             "startlinecolor": "#2a3f5f"
            },
            "baxis": {
             "endlinecolor": "#2a3f5f",
             "gridcolor": "white",
             "linecolor": "white",
             "minorgridcolor": "white",
             "startlinecolor": "#2a3f5f"
            },
            "type": "carpet"
           }
          ],
          "choropleth": [
           {
            "colorbar": {
             "outlinewidth": 0,
             "ticks": ""
            },
            "type": "choropleth"
           }
          ],
          "contour": [
           {
            "colorbar": {
             "outlinewidth": 0,
             "ticks": ""
            },
            "colorscale": [
             [
              0,
              "#0d0887"
             ],
             [
              0.1111111111111111,
              "#46039f"
             ],
             [
              0.2222222222222222,
              "#7201a8"
             ],
             [
              0.3333333333333333,
              "#9c179e"
             ],
             [
              0.4444444444444444,
              "#bd3786"
             ],
             [
              0.5555555555555556,
              "#d8576b"
             ],
             [
              0.6666666666666666,
              "#ed7953"
             ],
             [
              0.7777777777777778,
              "#fb9f3a"
             ],
             [
              0.8888888888888888,
              "#fdca26"
             ],
             [
              1,
              "#f0f921"
             ]
            ],
            "type": "contour"
           }
          ],
          "contourcarpet": [
           {
            "colorbar": {
             "outlinewidth": 0,
             "ticks": ""
            },
            "type": "contourcarpet"
           }
          ],
          "heatmap": [
           {
            "colorbar": {
             "outlinewidth": 0,
             "ticks": ""
            },
            "colorscale": [
             [
              0,
              "#0d0887"
             ],
             [
              0.1111111111111111,
              "#46039f"
             ],
             [
              0.2222222222222222,
              "#7201a8"
             ],
             [
              0.3333333333333333,
              "#9c179e"
             ],
             [
              0.4444444444444444,
              "#bd3786"
             ],
             [
              0.5555555555555556,
              "#d8576b"
             ],
             [
              0.6666666666666666,
              "#ed7953"
             ],
             [
              0.7777777777777778,
              "#fb9f3a"
             ],
             [
              0.8888888888888888,
              "#fdca26"
             ],
             [
              1,
              "#f0f921"
             ]
            ],
            "type": "heatmap"
           }
          ],
          "heatmapgl": [
           {
            "colorbar": {
             "outlinewidth": 0,
             "ticks": ""
            },
            "colorscale": [
             [
              0,
              "#0d0887"
             ],
             [
              0.1111111111111111,
              "#46039f"
             ],
             [
              0.2222222222222222,
              "#7201a8"
             ],
             [
              0.3333333333333333,
              "#9c179e"
             ],
             [
              0.4444444444444444,
              "#bd3786"
             ],
             [
              0.5555555555555556,
              "#d8576b"
             ],
             [
              0.6666666666666666,
              "#ed7953"
             ],
             [
              0.7777777777777778,
              "#fb9f3a"
             ],
             [
              0.8888888888888888,
              "#fdca26"
             ],
             [
              1,
              "#f0f921"
             ]
            ],
            "type": "heatmapgl"
           }
          ],
          "histogram": [
           {
            "marker": {
             "pattern": {
              "fillmode": "overlay",
              "size": 10,
              "solidity": 0.2
             }
            },
            "type": "histogram"
           }
          ],
          "histogram2d": [
           {
            "colorbar": {
             "outlinewidth": 0,
             "ticks": ""
            },
            "colorscale": [
             [
              0,
              "#0d0887"
             ],
             [
              0.1111111111111111,
              "#46039f"
             ],
             [
              0.2222222222222222,
              "#7201a8"
             ],
             [
              0.3333333333333333,
              "#9c179e"
             ],
             [
              0.4444444444444444,
              "#bd3786"
             ],
             [
              0.5555555555555556,
              "#d8576b"
             ],
             [
              0.6666666666666666,
              "#ed7953"
             ],
             [
              0.7777777777777778,
              "#fb9f3a"
             ],
             [
              0.8888888888888888,
              "#fdca26"
             ],
             [
              1,
              "#f0f921"
             ]
            ],
            "type": "histogram2d"
           }
          ],
          "histogram2dcontour": [
           {
            "colorbar": {
             "outlinewidth": 0,
             "ticks": ""
            },
            "colorscale": [
             [
              0,
              "#0d0887"
             ],
             [
              0.1111111111111111,
              "#46039f"
             ],
             [
              0.2222222222222222,
              "#7201a8"
             ],
             [
              0.3333333333333333,
              "#9c179e"
             ],
             [
              0.4444444444444444,
              "#bd3786"
             ],
             [
              0.5555555555555556,
              "#d8576b"
             ],
             [
              0.6666666666666666,
              "#ed7953"
             ],
             [
              0.7777777777777778,
              "#fb9f3a"
             ],
             [
              0.8888888888888888,
              "#fdca26"
             ],
             [
              1,
              "#f0f921"
             ]
            ],
            "type": "histogram2dcontour"
           }
          ],
          "mesh3d": [
           {
            "colorbar": {
             "outlinewidth": 0,
             "ticks": ""
            },
            "type": "mesh3d"
           }
          ],
          "parcoords": [
           {
            "line": {
             "colorbar": {
              "outlinewidth": 0,
              "ticks": ""
             }
            },
            "type": "parcoords"
           }
          ],
          "pie": [
           {
            "automargin": true,
            "type": "pie"
           }
          ],
          "scatter": [
           {
            "fillpattern": {
             "fillmode": "overlay",
             "size": 10,
             "solidity": 0.2
            },
            "type": "scatter"
           }
          ],
          "scatter3d": [
           {
            "line": {
             "colorbar": {
              "outlinewidth": 0,
              "ticks": ""
             }
            },
            "marker": {
             "colorbar": {
              "outlinewidth": 0,
              "ticks": ""
             }
            },
            "type": "scatter3d"
           }
          ],
          "scattercarpet": [
           {
            "marker": {
             "colorbar": {
              "outlinewidth": 0,
              "ticks": ""
             }
            },
            "type": "scattercarpet"
           }
          ],
          "scattergeo": [
           {
            "marker": {
             "colorbar": {
              "outlinewidth": 0,
              "ticks": ""
             }
            },
            "type": "scattergeo"
           }
          ],
          "scattergl": [
           {
            "marker": {
             "colorbar": {
              "outlinewidth": 0,
              "ticks": ""
             }
            },
            "type": "scattergl"
           }
          ],
          "scattermapbox": [
           {
            "marker": {
             "colorbar": {
              "outlinewidth": 0,
              "ticks": ""
             }
            },
            "type": "scattermapbox"
           }
          ],
          "scatterpolar": [
           {
            "marker": {
             "colorbar": {
              "outlinewidth": 0,
              "ticks": ""
             }
            },
            "type": "scatterpolar"
           }
          ],
          "scatterpolargl": [
           {
            "marker": {
             "colorbar": {
              "outlinewidth": 0,
              "ticks": ""
             }
            },
            "type": "scatterpolargl"
           }
          ],
          "scatterternary": [
           {
            "marker": {
             "colorbar": {
              "outlinewidth": 0,
              "ticks": ""
             }
            },
            "type": "scatterternary"
           }
          ],
          "surface": [
           {
            "colorbar": {
             "outlinewidth": 0,
             "ticks": ""
            },
            "colorscale": [
             [
              0,
              "#0d0887"
             ],
             [
              0.1111111111111111,
              "#46039f"
             ],
             [
              0.2222222222222222,
              "#7201a8"
             ],
             [
              0.3333333333333333,
              "#9c179e"
             ],
             [
              0.4444444444444444,
              "#bd3786"
             ],
             [
              0.5555555555555556,
              "#d8576b"
             ],
             [
              0.6666666666666666,
              "#ed7953"
             ],
             [
              0.7777777777777778,
              "#fb9f3a"
             ],
             [
              0.8888888888888888,
              "#fdca26"
             ],
             [
              1,
              "#f0f921"
             ]
            ],
            "type": "surface"
           }
          ],
          "table": [
           {
            "cells": {
             "fill": {
              "color": "#EBF0F8"
             },
             "line": {
              "color": "white"
             }
            },
            "header": {
             "fill": {
              "color": "#C8D4E3"
             },
             "line": {
              "color": "white"
             }
            },
            "type": "table"
           }
          ]
         },
         "layout": {
          "annotationdefaults": {
           "arrowcolor": "#2a3f5f",
           "arrowhead": 0,
           "arrowwidth": 1
          },
          "autotypenumbers": "strict",
          "coloraxis": {
           "colorbar": {
            "outlinewidth": 0,
            "ticks": ""
           }
          },
          "colorscale": {
           "diverging": [
            [
             0,
             "#8e0152"
            ],
            [
             0.1,
             "#c51b7d"
            ],
            [
             0.2,
             "#de77ae"
            ],
            [
             0.3,
             "#f1b6da"
            ],
            [
             0.4,
             "#fde0ef"
            ],
            [
             0.5,
             "#f7f7f7"
            ],
            [
             0.6,
             "#e6f5d0"
            ],
            [
             0.7,
             "#b8e186"
            ],
            [
             0.8,
             "#7fbc41"
            ],
            [
             0.9,
             "#4d9221"
            ],
            [
             1,
             "#276419"
            ]
           ],
           "sequential": [
            [
             0,
             "#0d0887"
            ],
            [
             0.1111111111111111,
             "#46039f"
            ],
            [
             0.2222222222222222,
             "#7201a8"
            ],
            [
             0.3333333333333333,
             "#9c179e"
            ],
            [
             0.4444444444444444,
             "#bd3786"
            ],
            [
             0.5555555555555556,
             "#d8576b"
            ],
            [
             0.6666666666666666,
             "#ed7953"
            ],
            [
             0.7777777777777778,
             "#fb9f3a"
            ],
            [
             0.8888888888888888,
             "#fdca26"
            ],
            [
             1,
             "#f0f921"
            ]
           ],
           "sequentialminus": [
            [
             0,
             "#0d0887"
            ],
            [
             0.1111111111111111,
             "#46039f"
            ],
            [
             0.2222222222222222,
             "#7201a8"
            ],
            [
             0.3333333333333333,
             "#9c179e"
            ],
            [
             0.4444444444444444,
             "#bd3786"
            ],
            [
             0.5555555555555556,
             "#d8576b"
            ],
            [
             0.6666666666666666,
             "#ed7953"
            ],
            [
             0.7777777777777778,
             "#fb9f3a"
            ],
            [
             0.8888888888888888,
             "#fdca26"
            ],
            [
             1,
             "#f0f921"
            ]
           ]
          },
          "colorway": [
           "#636efa",
           "#EF553B",
           "#00cc96",
           "#ab63fa",
           "#FFA15A",
           "#19d3f3",
           "#FF6692",
           "#B6E880",
           "#FF97FF",
           "#FECB52"
          ],
          "font": {
           "color": "#2a3f5f"
          },
          "geo": {
           "bgcolor": "white",
           "lakecolor": "white",
           "landcolor": "#E5ECF6",
           "showlakes": true,
           "showland": true,
           "subunitcolor": "white"
          },
          "hoverlabel": {
           "align": "left"
          },
          "hovermode": "closest",
          "mapbox": {
           "style": "light"
          },
          "paper_bgcolor": "white",
          "plot_bgcolor": "#E5ECF6",
          "polar": {
           "angularaxis": {
            "gridcolor": "white",
            "linecolor": "white",
            "ticks": ""
           },
           "bgcolor": "#E5ECF6",
           "radialaxis": {
            "gridcolor": "white",
            "linecolor": "white",
            "ticks": ""
           }
          },
          "scene": {
           "xaxis": {
            "backgroundcolor": "#E5ECF6",
            "gridcolor": "white",
            "gridwidth": 2,
            "linecolor": "white",
            "showbackground": true,
            "ticks": "",
            "zerolinecolor": "white"
           },
           "yaxis": {
            "backgroundcolor": "#E5ECF6",
            "gridcolor": "white",
            "gridwidth": 2,
            "linecolor": "white",
            "showbackground": true,
            "ticks": "",
            "zerolinecolor": "white"
           },
           "zaxis": {
            "backgroundcolor": "#E5ECF6",
            "gridcolor": "white",
            "gridwidth": 2,
            "linecolor": "white",
            "showbackground": true,
            "ticks": "",
            "zerolinecolor": "white"
           }
          },
          "shapedefaults": {
           "line": {
            "color": "#2a3f5f"
           }
          },
          "ternary": {
           "aaxis": {
            "gridcolor": "white",
            "linecolor": "white",
            "ticks": ""
           },
           "baxis": {
            "gridcolor": "white",
            "linecolor": "white",
            "ticks": ""
           },
           "bgcolor": "#E5ECF6",
           "caxis": {
            "gridcolor": "white",
            "linecolor": "white",
            "ticks": ""
           }
          },
          "title": {
           "x": 0.05
          },
          "xaxis": {
           "automargin": true,
           "gridcolor": "white",
           "linecolor": "white",
           "ticks": "",
           "title": {
            "standoff": 15
           },
           "zerolinecolor": "white",
           "zerolinewidth": 2
          },
          "yaxis": {
           "automargin": true,
           "gridcolor": "white",
           "linecolor": "white",
           "ticks": "",
           "title": {
            "standoff": 15
           },
           "zerolinecolor": "white",
           "zerolinewidth": 2
          }
         }
        },
        "yaxis": {
         "scaleanchor": "x"
        }
       }
      }
     },
     "metadata": {},
     "output_type": "display_data"
    }
   ],
   "source": [
    "a = 0\n",
    "b = 1\n",
    "\n",
    "measured2D = go.Scatter(x=locpred[:,a], y=locpred[:,b], mode='markers')\n",
    "calc2D = go.Scatter(x=locact[:,a], y=locact[:,b], mode='markers')\n",
    "fig2 = go.Figure(data=[calc2D, measured2D])\n",
    "fig2.update_yaxes(scaleanchor='x')\n",
    "fig2.show()"
   ]
  }
 ],
 "metadata": {
  "kernelspec": {
   "display_name": "Python 3",
   "language": "python",
   "name": "python3"
  },
  "language_info": {
   "codemirror_mode": {
    "name": "ipython",
    "version": 3
   },
   "file_extension": ".py",
   "mimetype": "text/x-python",
   "name": "python",
   "nbconvert_exporter": "python",
   "pygments_lexer": "ipython3",
   "version": "3.12.3"
  }
 },
 "nbformat": 4,
 "nbformat_minor": 2
}
