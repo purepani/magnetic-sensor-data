{
 "cells": [
  {
   "cell_type": "code",
   "execution_count": 1,
   "metadata": {},
   "outputs": [],
   "source": [
    "import glob\n",
    "import numpy as np\n",
    "import scipy as sp\n",
    "import einops as eo\n",
    "import matplotlib.pyplot as plt\n",
    "import math\n",
    "import plotly.graph_objects as go\n",
    "from scipy.spatial.transform import Rotation\n",
    "\n",
    "\n",
    "M0 = 1480 #mT\n",
    "shape = [3*25.4/16, 25.4/8] #radius and height\n",
    "x0 = np.array([0,0,10, 0,0,1])"
   ]
  },
  {
   "cell_type": "code",
   "execution_count": 2,
   "metadata": {},
   "outputs": [],
   "source": [
    "def B_dipole(position, rotation, M0, shape):\n",
    "    R = np.sqrt(np.sum(position**2, axis=1))\n",
    "    B = (M0 * (shape[0]) ** 2 * shape[1] / (16)) * (\n",
    "        (\n",
    "            3\n",
    "            * position\n",
    "            / R[:, np.newaxis] ** 5\n",
    "            * (eo.einsum(position, rotation, \"sensor dim,  dim -> sensor\"))[\n",
    "                :, np.newaxis\n",
    "            ]\n",
    "        )\n",
    "        - rotation[np.newaxis, :] / (R[:, np.newaxis] ** 3)\n",
    "    )\n",
    "    return B\n",
    "\n",
    "\n",
    "def getField_dipole(x, positions, M0, shape):\n",
    "    position = x[:3]\n",
    "    axis = x[3:]\n",
    "    return B_dipole(positions - position, axis, M0, shape)\n",
    "\n",
    "\n",
    "def getField_dipole_fixed(x, positions, M0, shape):\n",
    "    position = x[:3]\n",
    "    axis = x[3:]\n",
    "    return B_dipole(positions - position, axis, M0, shape)\n",
    "\n",
    "\n",
    "def cost_dipole(x, B, positions, M0, shape):\n",
    "    diff = getField_dipole(x, positions, M0, shape) - B\n",
    "    return np.sum((diff) ** 2)\n",
    "\n",
    "\n",
    "def minimize(x0, B, positions, M0, shape, *args):\n",
    "    #print(\"Starting mimimization\")\n",
    "    b_args = (B, positions, M0, shape)\n",
    "    cons = [{\"type\": \"eq\", \"fun\": lambda x: x[3] ** 2 + x[4] ** 2 + x[5] ** 2 - 1}]\n",
    "    bounds = [(-100, 100), (-100, 100), (0, 100), (-1, 1), (-1, 1), (-1, 1)]\n",
    "    res = sp.optimize.minimize(\n",
    "        fun=cost_dipole, x0=x0, args=b_args, tol=1e-100, constraints=cons, bounds=bounds, *args\n",
    "    ).x  \n",
    "    #print(f\"Finished mimimization with shape {b_args[3]} at {res}\")\n",
    "    return res\n",
    "\n",
    "def circle_radius(x1, y1, x2, y2, x3, y3):\n",
    "    # Calculate lengths of sides of the triangle formed by the three points\n",
    "    a = math.sqrt((x2 - x1) ** 2 + (y2 - y1) ** 2)\n",
    "    b = math.sqrt((x3 - x2) ** 2 + (y3 - y2) ** 2)\n",
    "    c = math.sqrt((x3 - x1) ** 2 + (y3 - y1) ** 2)\n",
    "\n",
    "    # Calculate the semi-perimeter of the triangle\n",
    "    s = (a + b + c) / 2\n",
    "\n",
    "    # Calculate the area of the triangle using Heron's formula\n",
    "    area = math.sqrt(s * (s - a) * (s - b) * (s - c))\n",
    "\n",
    "    # Calculate the radius of the circle using the formula: radius = (abc) / (4 * area)\n",
    "    radius = (a * b * c) / (4 * area)\n",
    "    \n",
    "    return radius\n",
    "\n",
    "def comparison_plot(locact, locpred, axis, relative):\n",
    "\n",
    "    if axis == 'x':\n",
    "        ax = 0\n",
    "    elif axis == 'y':\n",
    "        ax = 1\n",
    "    else:\n",
    "        ax = 2\n",
    "\n",
    "    index = list(range(len(locact[:,ax])))\n",
    "    act = locact[:, ax]\n",
    "    pred = locpred[:, ax]\n",
    "\n",
    "    rel = ''\n",
    "\n",
    "    if relative==True:\n",
    "        act = [x - locact[0, ax] for x in locact[:, ax]]\n",
    "        pred = [x - locpred[0, ax] for x in locpred[:, ax]]\n",
    "        rel = ' (Relative)'\n",
    "\n",
    "    # Plotting\n",
    "    plt.figure(figsize=(8, 6))\n",
    "    plt.scatter(index, pred, label='Predicted' + rel)\n",
    "    plt.scatter(index, act, label='Actual' + rel)\n",
    "    plt.xlabel('Index')\n",
    "    plt.ylabel(axis + '-component')\n",
    "    plt.title('Comparison of '+axis+ ' Location' + rel+ ': Predicted vs Actual')\n",
    "    plt.legend()\n",
    "    plt.grid(True)\n",
    "    plt.show()\n",
    "\n",
    "    return\n",
    "\n",
    "def comp_plot3D(locact, locpred, xact, yact, axis, relative):\n",
    "\n",
    "    if axis == 'x':\n",
    "        ax = 0\n",
    "    elif axis == 'y':\n",
    "        ax = 1\n",
    "    else:\n",
    "        ax = 2\n",
    "\n",
    "    index = list(range(len(locact[:,ax])))\n",
    "    act = locact[:, ax]\n",
    "    pred = locpred[:, ax]\n",
    "\n",
    "    rel = ''\n",
    "\n",
    "    if relative==True:\n",
    "        act = [x - locact[0, ax] for x in locact[:, ax]]\n",
    "        pred = [x - locpred[0, ax] for x in locpred[:, ax]]\n",
    "        rel = ' (Relative)'\n",
    "\n",
    "    fig = go.Figure(data=[\n",
    "        go.Scatter3d(x=xact, y=yact, z=pred, name='Predicted' + rel),\n",
    "        go.Scatter3d(x=xact, y=yact, z=act, name='Actual' + rel)])\n",
    "    fig.show()\n",
    "\n",
    "    return\n",
    "\n",
    "def displacement_plot(actual, predicted):\n",
    "\n",
    "    dispx = np.array(predicted[:,0]-predicted[:,0][0])\n",
    "    dispy = np.array(predicted[:,1]-predicted[:,1][0])\n",
    "    dispz = np.array(predicted[:,2]-predicted[:,2][0])\n",
    "    disp = np.sqrt(dispx**2+dispy**2+dispz**2)\n",
    "    actdispx = np.array(actual[:,0]-actual[:,0][0])\n",
    "    actdispy = np.array(actual[:,1]-actual[:,1][0])\n",
    "    actdispz = np.array(actual[:,2]-actual[:,2][0])\n",
    "    actdisp = np.sqrt(actdispx**2+actdispy**2+actdispz**2)\n",
    "\n",
    "    plt.figure(figsize=(8, 6))\n",
    "    plt.scatter(list(range(len(disp))), disp, label='Predicted Displacement')\n",
    "    plt.scatter(list(range(len(actdisp))), actdisp, label='Actual Displacement')\n",
    "    plt.xlabel('Index')\n",
    "    plt.ylabel('Displacement (mm)')\n",
    "    plt.title('Magnet Displacement')\n",
    "    plt.legend()\n",
    "    plt.grid(True)\n",
    "    plt.show()\n",
    "\n",
    "    return\n",
    "\n",
    "def importfitting(folder):\n",
    "\n",
    "    file_list = sorted(glob.glob(f'{folder}/*.npz'))\n",
    "    len(file_list)\n",
    "    data = np.load(file_list[0])\n",
    "    pos = data['pos'][0]\n",
    "\n",
    "    locpred = [np.array([0,0,0])]\n",
    "    anglepred = [np.array([0,0,0])]\n",
    "    Bstdev = [np.array(pos)]\n",
    "    for x in range(len(file_list)):\n",
    "        data = np.load(file_list[x])\n",
    "        mags = data['mags']\n",
    "        pos = data['pos'][0]\n",
    "        B = np.mean(mags, axis=0)\n",
    "        mags_stdev = np.std(mags, axis=0)\n",
    "        x_res = minimize(x0, B, pos, M0, shape)\n",
    "        locpred = np.append(locpred, [x_res[0:3]], axis=0)\n",
    "        anglepred = np.append(anglepred, [x_res[3:6]], axis=0)\n",
    "        Bstdev = np.append(Bstdev, [mags_stdev], axis=0)\n",
    "    locpred = np.delete(locpred, 0, axis=0)\n",
    "    anglepred = np.delete(anglepred, 0, axis=0)\n",
    "    Bstdev = np.delete(Bstdev, 0 ,axis=0)\n",
    "\n",
    "    return mags, locpred, anglepred, Bstdev\n",
    "\n",
    "def actualangle(xind, yind, xscal, xcon, yscal, ycon, isoff):\n",
    "\n",
    "    angact = [np.array([0, 0, 0])]\n",
    "    for y in range(yind):\n",
    "        for x in range(xind):\n",
    "            R = Rotation.from_euler('ZYX' ,np.array([0, yscal*y-ycon, xscal*x-xcon]), degrees=True)\n",
    "            norm = np.array([[0, 0, 1]])\n",
    "            rotated = R.apply(norm, inverse=False)[0]\n",
    "            #add = np.array([np.sin(np.deg2rad(2*y-4)), -np.sin(np.deg2rad(2*x-4)), np.cos(np.deg2rad(2*y-4))*np.cos(np.deg2rad(2*x-4))])\n",
    "            angact = np.append(angact, [rotated], axis=0)\n",
    "    angact = np.delete(angact, 0, axis=0)\n",
    "    locact = angact*isoff\n",
    "\n",
    "    return angact, locact"
   ]
  },
  {
   "cell_type": "code",
   "execution_count": 27,
   "metadata": {},
   "outputs": [
    {
     "name": "stdout",
     "output_type": "stream",
     "text": [
      "[[-0.04052636  0.07818597  0.99611474]\n",
      " [-0.04368994  0.10825726  0.9931624 ]\n",
      " [-0.04665209  0.13649356  0.98954186]\n",
      " [-0.04909459  0.16270246  0.98545301]\n",
      " [-0.05062458  0.18947626  0.98057937]\n",
      " [-0.07199728  0.07781271  0.99436491]\n",
      " [-0.07423181  0.10741571  0.99143911]\n",
      " [-0.07659938  0.13497694  0.98788348]\n",
      " [-0.07794763  0.15985206  0.98405868]\n",
      " [-0.07885079  0.18523126  0.97952638]\n",
      " [-0.10284265  0.07497838  0.99186775]\n",
      " [-0.10541647  0.10532338  0.98883485]\n",
      " [-0.10587538  0.13095341  0.98571883]\n",
      " [-0.10726697  0.15587297  0.98193554]\n",
      " [-0.10794822  0.17995065  0.9777346 ]\n",
      " [-0.13322663  0.07304447  0.98839019]\n",
      " [-0.13478325  0.10351285  0.98545348]\n",
      " [-0.13566985  0.12816668  0.98242913]\n",
      " [-0.1360571   0.15188655  0.97898873]\n",
      " [-0.13643441  0.17709714  0.97469085]\n",
      " [-0.16198183  0.06881367  0.98439147]\n",
      " [-0.16230899  0.09728666  0.98193233]\n",
      " [-0.1625241   0.12433392  0.97883962]\n",
      " [-0.16256868  0.14816058  0.97551005]\n",
      " [-0.16290631  0.1731576   0.97132795]]\n"
     ]
    }
   ],
   "source": [
    "folder = r\"C:\\Users\\Brandon Nguyen\\Documents\\Github\\magnetic-sensor-data\\MLX06112024_10mmAboveIsocenter\"\n",
    "mags, locpred, anglepred, Bstdev = importfitting(folder)\n",
    "np.append(locpred, anglepred, axis=1)\n",
    "print(anglepred)\n"
   ]
  },
  {
   "cell_type": "code",
   "execution_count": 25,
   "metadata": {},
   "outputs": [
    {
     "name": "stdout",
     "output_type": "stream",
     "text": [
      "[ 5.05229373  6.70404953  8.29361912  9.78480368 11.310314    6.08544344\n",
      "  7.50252528  8.92824603 10.24420851 11.61391622  7.31202672  8.56988274\n",
      "  9.69477582 10.90701777 12.11328726  8.73919074  9.78464401 10.7565315\n",
      " 11.76595309 12.91804071 10.13643296 10.90799138 11.80777893 12.70638072\n",
      " 13.75340404]\n",
      "[[-2.32262547  4.48430294]\n",
      " [-2.50404643  6.21486388]\n",
      " [-2.67393819  7.84499393]\n",
      " [-2.81404377  9.36379173]\n",
      " [-2.90181495 10.92222073]\n",
      " [-4.12871254  4.46285142]\n",
      " [-4.25708523  6.16636379]\n",
      " [-4.39312452  7.75728623]\n",
      " [-4.47060535  9.19830957]\n",
      " [-4.5225121  10.67461568]\n",
      " [-5.90288676  4.29997986]\n",
      " [-6.05116145  6.04579811]\n",
      " [-6.0776034   7.52468982]\n",
      " [-6.1577921   8.96742943]\n",
      " [-6.19705311 10.36688522]\n",
      " [-7.65608669  4.18887045]\n",
      " [-7.74608659  5.9414925 ]\n",
      " [-7.79735595  7.36366487]\n",
      " [-7.81975145  8.73627073]\n",
      " [-7.84157301 10.20072179]\n",
      " [-9.32194749  3.94585122]\n",
      " [-9.34094362  5.5829455 ]\n",
      " [-9.35343453  7.14229206]\n",
      " [-9.35602297  8.52034466]\n",
      " [-9.37562928  9.97145955]]\n"
     ]
    }
   ],
   "source": [
    "z = np.arccos(anglepred[:,2])*180/np.pi\n",
    "xy = np.arcsin(anglepred[:, 0:2])*180/np.pi\n",
    "print(z)\n",
    "print(xy)"
   ]
  },
  {
   "cell_type": "code",
   "execution_count": 4,
   "metadata": {},
   "outputs": [
    {
     "name": "stdout",
     "output_type": "stream",
     "text": [
      "[[[-0.6468    0.6495    1.30922 ]\n",
      "  [-0.1074    0.774     1.748692]\n",
      "  [ 0.5412    0.7635    1.571548]\n",
      "  [ 0.8241    0.5136    1.00672 ]\n",
      "  [-0.7989    0.1278    1.72062 ]\n",
      "  [-0.1467    0.1359    2.270444]\n",
      "  [ 0.7062    0.1218    2.147992]\n",
      "  [ 1.0482    0.0582    1.28744 ]\n",
      "  [-0.7506   -0.582     1.614624]\n",
      "  [-0.1332   -0.6891    2.133472]\n",
      "  [ 0.66     -0.6435    1.917124]\n",
      "  [ 0.9432   -0.4668    1.174668]\n",
      "  [-0.4947   -0.8361    0.994136]\n",
      "  [-0.0993   -1.0065    1.30922 ]\n",
      "  [ 0.447    -0.9678    1.175636]\n",
      "  [ 0.6837   -0.6951    0.742456]]\n",
      "\n",
      " [[-0.6441    0.6495    1.310188]\n",
      "  [-0.108     0.7725    1.751112]\n",
      "  [ 0.5388    0.7644    1.573484]\n",
      "  [ 0.8232    0.5124    1.0043  ]\n",
      "  [-0.7977    0.1281    1.719168]\n",
      "  [-0.1461    0.1353    2.268992]\n",
      "  [ 0.7068    0.1212    2.15138 ]\n",
      "  [ 1.0491    0.0594    1.287924]\n",
      "  [-0.7512   -0.5829    1.61172 ]\n",
      "  [-0.132    -0.6876    2.13444 ]\n",
      "  [ 0.66     -0.6423    1.916156]\n",
      "  [ 0.9459   -0.468     1.170312]\n",
      "  [-0.4929   -0.8361    0.997524]\n",
      "  [-0.0981   -1.0071    1.31164 ]\n",
      "  [ 0.447    -0.966     1.179024]\n",
      "  [ 0.6834   -0.6951    0.74294 ]]\n",
      "\n",
      " [[-0.645     0.6495    1.308736]\n",
      "  [-0.1071    0.7737    1.748692]\n",
      "  [ 0.5394    0.7641    1.569128]\n",
      "  [ 0.8235    0.5133    1.002848]\n",
      "  [-0.798     0.1269    1.720136]\n",
      "  [-0.1461    0.1347    2.26996 ]\n",
      "  [ 0.708     0.1212    2.147992]\n",
      "  [ 1.0494    0.0591    1.286472]\n",
      "  [-0.7503   -0.5829    1.615108]\n",
      "  [-0.1323   -0.6891    2.13202 ]\n",
      "  [ 0.6597   -0.642     1.918092]\n",
      "  [ 0.9468   -0.4686    1.17128 ]\n",
      "  [-0.4959   -0.8331    0.998008]\n",
      "  [-0.1005   -1.0068    1.312124]\n",
      "  [ 0.4476   -0.9684    1.177572]\n",
      "  [ 0.6834   -0.6951    0.7381  ]]\n",
      "\n",
      " [[-0.6444    0.6495    1.30922 ]\n",
      "  [-0.1053    0.774     1.752564]\n",
      "  [ 0.5406    0.7647    1.572032]\n",
      "  [ 0.8232    0.5139    1.003816]\n",
      "  [-0.7983    0.1278    1.720136]\n",
      "  [-0.1458    0.1356    2.270444]\n",
      "  [ 0.7074    0.1221    2.14896 ]\n",
      "  [ 1.0488    0.0597    1.28502 ]\n",
      "  [-0.7521   -0.5814    1.615108]\n",
      "  [-0.1338   -0.6873    2.128632]\n",
      "  [ 0.6606   -0.6411    1.915672]\n",
      "  [ 0.9438   -0.4662    1.173216]\n",
      "  [-0.495    -0.8364    0.995104]\n",
      "  [-0.099    -1.0071    1.309704]\n",
      "  [ 0.447    -0.9696    1.17854 ]\n",
      "  [ 0.6828   -0.6945    0.739552]]\n",
      "\n",
      " [[-0.6453    0.6492    1.308736]\n",
      "  [-0.1065    0.7734    1.748208]\n",
      "  [ 0.5394    0.7641    1.571548]\n",
      "  [ 0.8238    0.513     1.006236]\n",
      "  [-0.7971    0.1278    1.72062 ]\n",
      "  [-0.1455    0.1359    2.270444]\n",
      "  [ 0.7068    0.1221    2.149444]\n",
      "  [ 1.047     0.0585    1.288892]\n",
      "  [-0.7524   -0.5823    1.612688]\n",
      "  [-0.1335   -0.6879    2.13202 ]\n",
      "  [ 0.6597   -0.6426    1.918576]\n",
      "  [ 0.9468   -0.4662    1.172248]\n",
      "  [-0.495    -0.8346    0.995588]\n",
      "  [-0.0981   -1.0068    1.311156]\n",
      "  [ 0.4482   -0.9678    1.174184]\n",
      "  [ 0.6819   -0.6951    0.74052 ]]\n",
      "\n",
      " [[-0.6459    0.6492    1.308736]\n",
      "  [-0.1068    0.7719    1.74724 ]\n",
      "  [ 0.5397    0.7635    1.567192]\n",
      "  [ 0.8235    0.5136    1.0043  ]\n",
      "  [-0.7983    0.1278    1.72304 ]\n",
      "  [-0.1461    0.1359    2.273832]\n",
      "  [ 0.7059    0.1197    2.145572]\n",
      "  [ 1.0497    0.06      1.289376]\n",
      "  [-0.7509   -0.5838    1.61414 ]\n",
      "  [-0.1338   -0.6897    2.132504]\n",
      "  [ 0.6582   -0.642     1.91906 ]\n",
      "  [ 0.9456   -0.4644    1.171764]\n",
      "  [-0.4956   -0.8364    0.994136]\n",
      "  [-0.0993   -1.0065    1.30922 ]\n",
      "  [ 0.4467   -0.966     1.177572]\n",
      "  [ 0.6828   -0.6954    0.74052 ]]\n",
      "\n",
      " [[-0.645     0.6504    1.306316]\n",
      "  [-0.1074    0.7746    1.748208]\n",
      "  [ 0.5412    0.7635    1.569612]\n",
      "  [ 0.8244    0.5136    1.0043  ]\n",
      "  [-0.7962    0.1266    1.719168]\n",
      "  [-0.1467    0.1362    2.269476]\n",
      "  [ 0.7074    0.1215    2.150412]\n",
      "  [ 1.0497    0.06      1.288892]\n",
      "  [-0.7521   -0.5823    1.613656]\n",
      "  [-0.132    -0.6891    2.133956]\n",
      "  [ 0.6576   -0.6417    1.918092]\n",
      "  [ 0.9441   -0.4674    1.172248]\n",
      "  [-0.4947   -0.8361    0.996556]\n",
      "  [-0.099    -1.0077    1.311156]\n",
      "  [ 0.4473   -0.9693    1.174184]\n",
      "  [ 0.6825   -0.6954    0.7381  ]]\n",
      "\n",
      " [[-0.6462    0.6495    1.310672]\n",
      "  [-0.1065    0.7764    1.748208]\n",
      "  [ 0.54      0.7641    1.569612]\n",
      "  [ 0.8238    0.5133    1.0043  ]\n",
      "  [-0.798     0.1281    1.72062 ]\n",
      "  [-0.1467    0.135     2.26754 ]\n",
      "  [ 0.708     0.1215    2.150896]\n",
      "  [ 1.0482    0.0594    1.287924]\n",
      "  [-0.7503   -0.5826    1.613656]\n",
      "  [-0.1341   -0.6882    2.13202 ]\n",
      "  [ 0.6594   -0.6423    1.919544]\n",
      "  [ 0.9453   -0.4659    1.170796]\n",
      "  [-0.4953   -0.8355    0.993168]\n",
      "  [-0.0978   -1.0071    1.308736]\n",
      "  [ 0.447    -0.9672    1.177572]\n",
      "  [ 0.6834   -0.696     0.737132]]\n",
      "\n",
      " [[-0.6447    0.6504    1.308252]\n",
      "  [-0.1062    0.7755    1.750144]\n",
      "  [ 0.5409    0.7632    1.569612]\n",
      "  [ 0.8262    0.5142    1.004784]\n",
      "  [-0.7971    0.1272    1.720136]\n",
      "  [-0.1476    0.1362    2.268992]\n",
      "  [ 0.7053    0.1212    2.14896 ]\n",
      "  [ 1.0479    0.0585    1.287924]\n",
      "  [-0.753    -0.5826    1.613172]\n",
      "  [-0.132    -0.6882    2.131052]\n",
      "  [ 0.6579   -0.6426    1.920512]\n",
      "  [ 0.9462   -0.4659    1.172732]\n",
      "  [-0.4944   -0.8355    0.995104]\n",
      "  [-0.0978   -1.005     1.310188]\n",
      "  [ 0.4473   -0.9678    1.175636]\n",
      "  [ 0.6819   -0.6933    0.74052 ]]\n",
      "\n",
      " [[-0.6465    0.6498    1.309704]\n",
      "  [-0.1074    0.7743    1.74724 ]\n",
      "  [ 0.5391    0.7632    1.571548]\n",
      "  [ 0.8241    0.5139    1.005268]\n",
      "  [-0.7962    0.1275    1.717716]\n",
      "  [-0.1461    0.1344    2.270928]\n",
      "  [ 0.7053    0.1215    2.149928]\n",
      "  [ 1.0467    0.0582    1.288892]\n",
      "  [-0.7515   -0.5823    1.615592]\n",
      "  [-0.1344   -0.6891    2.132988]\n",
      "  [ 0.6591   -0.6435    1.918092]\n",
      "  [ 0.9471   -0.4671    1.173216]\n",
      "  [-0.4944   -0.8346    0.994136]\n",
      "  [-0.0993   -1.0077    1.31164 ]\n",
      "  [ 0.4473   -0.9663    1.175152]\n",
      "  [ 0.6846   -0.6954    0.739068]]]\n"
     ]
    }
   ],
   "source": [
    "print(mags)"
   ]
  },
  {
   "cell_type": "code",
   "execution_count": 5,
   "metadata": {},
   "outputs": [
    {
     "name": "stdout",
     "output_type": "stream",
     "text": [
      "[[ 0.06958655 -0.06975647  0.99513403]\n",
      " [ 0.06971398 -0.0348995   0.99695636]\n",
      " [ 0.06975647  0.          0.99756405]\n",
      " [ 0.06971398  0.0348995   0.99695636]\n",
      " [ 0.06958655  0.06975647  0.99513403]\n",
      " [ 0.03481448 -0.06975647  0.99695636]\n",
      " [ 0.03487824 -0.0348995   0.99878203]\n",
      " [ 0.0348995   0.          0.99939083]\n",
      " [ 0.03487824  0.0348995   0.99878203]\n",
      " [ 0.03481448  0.06975647  0.99695636]\n",
      " [ 0.         -0.06975647  0.99756405]\n",
      " [ 0.         -0.0348995   0.99939083]\n",
      " [ 0.          0.          1.        ]\n",
      " [ 0.          0.0348995   0.99939083]\n",
      " [ 0.          0.06975647  0.99756405]\n",
      " [-0.03481448 -0.06975647  0.99695636]\n",
      " [-0.03487824 -0.0348995   0.99878203]\n",
      " [-0.0348995   0.          0.99939083]\n",
      " [-0.03487824  0.0348995   0.99878203]\n",
      " [-0.03481448  0.06975647  0.99695636]\n",
      " [-0.06958655 -0.06975647  0.99513403]\n",
      " [-0.06971398 -0.0348995   0.99695636]\n",
      " [-0.06975647  0.          0.99756405]\n",
      " [-0.06971398  0.0348995   0.99695636]\n",
      " [-0.06958655  0.06975647  0.99513403]]\n",
      "[ 4  4  4  4  4  2  2  2  2  2  0  0  0  0  0 -2 -2 -2 -2 -2 -4 -4 -4 -4\n",
      " -4]\n",
      "[ 4  2  0 -2 -4  4  2  0 -2 -4  4  2  0 -2 -4  4  2  0 -2 -4  4  2  0 -2\n",
      " -4]\n"
     ]
    }
   ],
   "source": [
    "actang = [np.array([0, 0, 0])]\n",
    "xact = [np.array([0])]\n",
    "yact = [np.array([0])]\n",
    "for y in range(5):\n",
    "    for x in range(5):\n",
    "        R = Rotation.from_euler('ZYX' ,np.array([0, -2*y+4, -2*x+4]), degrees=True)\n",
    "        norm = np.array([[0, 0, 1]])\n",
    "        rotated = R.apply(norm, inverse=False)[0]\n",
    "        #add = np.array([np.sin(np.deg2rad(2*y-4)), -np.sin(np.deg2rad(2*x-4)), np.cos(np.deg2rad(2*y-4))*np.cos(np.deg2rad(2*x-4))])\n",
    "        actang = np.append(actang, [rotated], axis=0)\n",
    "        xact = np.append(xact, [-2*y+4])\n",
    "        yact = np.append(yact, [-2*x+4])\n",
    "actang = np.delete(actang, 0, axis=0)\n",
    "xact = np.delete(xact, 0, axis=0)\n",
    "yact = np.delete(yact, 0, axis=0)\n",
    "locact = actang*12\n",
    "np.sum(actang**2)\n",
    "print(actang)\n",
    "print(xact)\n",
    "print(yact)"
   ]
  },
  {
   "cell_type": "code",
   "execution_count": 6,
   "metadata": {},
   "outputs": [
    {
     "data": {
      "image/png": "[encoded data removed]",
      "text/plain": [
       "<Figure size 800x600 with 1 Axes>"
      ]
     },
     "metadata": {},
     "output_type": "display_data"
    },
    {
     "data": {
      "image/png": "[encoded data removed]",
      "text/plain": [
       "<Figure size 800x600 with 1 Axes>"
      ]
     },
     "metadata": {},
     "output_type": "display_data"
    },
    {
     "data": {
      "image/png": "[encoded data removed]",
      "text/plain": [
       "<Figure size 800x600 with 1 Axes>"
      ]
     },
     "metadata": {},
     "output_type": "display_data"
    },
    {
     "data": {
      "image/png": "[encoded data removed]",
      "text/plain": [
       "<Figure size 800x600 with 1 Axes>"
      ]
     },
     "metadata": {},
     "output_type": "display_data"
    }
   ],
   "source": [
    "comparison_plot(actang, anglepred, axis='x', relative=False)\n",
    "comparison_plot(actang, anglepred, axis='y', relative=False)\n",
    "comparison_plot(actang, anglepred, axis='z', relative=False)\n",
    "displacement_plot(locact, locpred)"
   ]
  },
  {
   "cell_type": "code",
   "execution_count": 7,
   "metadata": {},
   "outputs": [
    {
     "data": {
      "application/vnd.plotly.v1+json": {
       "config": {
        "plotlyServerURL": "https://plot.ly"
       },
       "data": [
        {
         "name": "Predicted",
         "type": "scatter3d",
         "x": [
          4,
          4,
          4,
          4,
          4,
          2,
          2,
          2,
          2,
          2,
          0,
          0,
          0,
          0,
          0,
          -2,
          -2,
          -2,
          -2,
          -2,
          -4,
          -4,
          -4,
          -4,
          -4
         ],
         "y": [
          4,
          2,
          0,
          -2,
          -4,
          4,
          2,
          0,
          -2,
          -4,
          4,
          2,
          0,
          -2,
          -4,
          4,
          2,
          0,
          -2,
          -4,
          4,
          2,
          0,
          -2,
          -4
         ],
         "z": [
          -0.04052636014179542,
          -0.04368994361864409,
          -0.0466520864183605,
          -0.049094585710550344,
          -0.05062457642156079,
          -0.07199728116558504,
          -0.07423181020463158,
          -0.0765993814518529,
          -0.07794763358118768,
          -0.07885078863864864,
          -0.10284265320543086,
          -0.10541646556819725,
          -0.10587538208234511,
          -0.1072669684291255,
          -0.10794822353577588,
          -0.13322662511644318,
          -0.1347832520163326,
          -0.1356698518668057,
          -0.1360571027974105,
          -0.13643440936857704,
          -0.16198183026647595,
          -0.1623089878071372,
          -0.1625241007082601,
          -0.16256867673240805,
          -0.16290630974572531
         ]
        },
        {
         "name": "Actual",
         "type": "scatter3d",
         "x": [
          4,
          4,
          4,
          4,
          4,
          2,
          2,
          2,
          2,
          2,
          0,
          0,
          0,
          0,
          0,
          -2,
          -2,
          -2,
          -2,
          -2,
          -4,
          -4,
          -4,
          -4,
          -4
         ],
         "y": [
          4,
          2,
          0,
          -2,
          -4,
          4,
          2,
          0,
          -2,
          -4,
          4,
          2,
          0,
          -2,
          -4,
          4,
          2,
          0,
          -2,
          -4,
          4,
          2,
          0,
          -2,
          -4
         ],
         "z": [
          0.06958655048003273,
          0.06971397998507722,
          0.0697564737441253,
          0.06971397998507722,
          0.06958655048003273,
          0.034814483282576254,
          0.03487823687206265,
          0.03489949670250097,
          0.03487823687206265,
          0.034814483282576254,
          0,
          0,
          0,
          0,
          0,
          -0.034814483282576254,
          -0.03487823687206265,
          -0.03489949670250097,
          -0.03487823687206265,
          -0.034814483282576254,
          -0.06958655048003273,
          -0.06971397998507722,
          -0.0697564737441253,
          -0.06971397998507722,
          -0.06958655048003273
         ]
        }
       ],
       "layout": {
        "template": {
         "data": {
          "bar": [
           {
            "error_x": {
             "color": "#2a3f5f"
            },
            "error_y": {
             "color": "#2a3f5f"
            },
            "marker": {
             "line": {
              "color": "#E5ECF6",
              "width": 0.5
             },
             "pattern": {
              "fillmode": "overlay",
              "size": 10,
              "solidity": 0.2
             }
            },
            "type": "bar"
           }
          ],
          "barpolar": [
           {
            "marker": {
             "line": {
              "color": "#E5ECF6",
              "width": 0.5
             },
             "pattern": {
              "fillmode": "overlay",
              "size": 10,
              "solidity": 0.2
             }
            },
            "type": "barpolar"
           }
          ],
          "carpet": [
           {
            "aaxis": {
             "endlinecolor": "#2a3f5f",
             "gridcolor": "white",
             "linecolor": "white",
             "minorgridcolor": "white",
             "startlinecolor": "#2a3f5f"
            },
            "baxis": {
             "endlinecolor": "#2a3f5f",
             "gridcolor": "white",
             "linecolor": "white",
             "minorgridcolor": "white",
             "startlinecolor": "#2a3f5f"
            },
            "type": "carpet"
           }
          ],
          "choropleth": [
           {
            "colorbar": {
             "outlinewidth": 0,
             "ticks": ""
            },
            "type": "choropleth"
           }
          ],
          "contour": [
           {
            "colorbar": {
             "outlinewidth": 0,
             "ticks": ""
            },
            "colorscale": [
             [
              0,
              "#0d0887"
             ],
             [
              0.1111111111111111,
              "#46039f"
             ],
             [
              0.2222222222222222,
              "#7201a8"
             ],
             [
              0.3333333333333333,
              "#9c179e"
             ],
             [
              0.4444444444444444,
              "#bd3786"
             ],
             [
              0.5555555555555556,
              "#d8576b"
             ],
             [
              0.6666666666666666,
              "#ed7953"
             ],
             [
              0.7777777777777778,
              "#fb9f3a"
             ],
             [
              0.8888888888888888,
              "#fdca26"
             ],
             [
              1,
              "#f0f921"
             ]
            ],
            "type": "contour"
           }
          ],
          "contourcarpet": [
           {
            "colorbar": {
             "outlinewidth": 0,
             "ticks": ""
            },
            "type": "contourcarpet"
           }
          ],
          "heatmap": [
           {
            "colorbar": {
             "outlinewidth": 0,
             "ticks": ""
            },
            "colorscale": [
             [
              0,
              "#0d0887"
             ],
             [
              0.1111111111111111,
              "#46039f"
             ],
             [
              0.2222222222222222,
              "#7201a8"
             ],
             [
              0.3333333333333333,
              "#9c179e"
             ],
             [
              0.4444444444444444,
              "#bd3786"
             ],
             [
              0.5555555555555556,
              "#d8576b"
             ],
             [
              0.6666666666666666,
              "#ed7953"
             ],
             [
              0.7777777777777778,
              "#fb9f3a"
             ],
             [
              0.8888888888888888,
              "#fdca26"
             ],
             [
              1,
              "#f0f921"
             ]
            ],
            "type": "heatmap"
           }
          ],
          "heatmapgl": [
           {
            "colorbar": {
             "outlinewidth": 0,
             "ticks": ""
            },
            "colorscale": [
             [
              0,
              "#0d0887"
             ],
             [
              0.1111111111111111,
              "#46039f"
             ],
             [
              0.2222222222222222,
              "#7201a8"
             ],
             [
              0.3333333333333333,
              "#9c179e"
             ],
             [
              0.4444444444444444,
              "#bd3786"
             ],
             [
              0.5555555555555556,
              "#d8576b"
             ],
             [
              0.6666666666666666,
              "#ed7953"
             ],
             [
              0.7777777777777778,
              "#fb9f3a"
             ],
             [
              0.8888888888888888,
              "#fdca26"
             ],
             [
              1,
              "#f0f921"
             ]
            ],
            "type": "heatmapgl"
           }
          ],
          "histogram": [
           {
            "marker": {
             "pattern": {
              "fillmode": "overlay",
              "size": 10,
              "solidity": 0.2
             }
            },
            "type": "histogram"
           }
          ],
          "histogram2d": [
           {
            "colorbar": {
             "outlinewidth": 0,
             "ticks": ""
            },
            "colorscale": [
             [
              0,
              "#0d0887"
             ],
             [
              0.1111111111111111,
              "#46039f"
             ],
             [
              0.2222222222222222,
              "#7201a8"
             ],
             [
              0.3333333333333333,
              "#9c179e"
             ],
             [
              0.4444444444444444,
              "#bd3786"
             ],
             [
              0.5555555555555556,
              "#d8576b"
             ],
             [
              0.6666666666666666,
              "#ed7953"
             ],
             [
              0.7777777777777778,
              "#fb9f3a"
             ],
             [
              0.8888888888888888,
              "#fdca26"
             ],
             [
              1,
              "#f0f921"
             ]
            ],
            "type": "histogram2d"
           }
          ],
          "histogram2dcontour": [
           {
            "colorbar": {
             "outlinewidth": 0,
             "ticks": ""
            },
            "colorscale": [
             [
              0,
              "#0d0887"
             ],
             [
              0.1111111111111111,
              "#46039f"
             ],
             [
              0.2222222222222222,
              "#7201a8"
             ],
             [
              0.3333333333333333,
              "#9c179e"
             ],
             [
              0.4444444444444444,
              "#bd3786"
             ],
             [
              0.5555555555555556,
              "#d8576b"
             ],
             [
              0.6666666666666666,
              "#ed7953"
             ],
             [
              0.7777777777777778,
              "#fb9f3a"
             ],
             [
              0.8888888888888888,
              "#fdca26"
             ],
             [
              1,
              "#f0f921"
             ]
            ],
            "type": "histogram2dcontour"
           }
          ],
          "mesh3d": [
           {
            "colorbar": {
             "outlinewidth": 0,
             "ticks": ""
            },
            "type": "mesh3d"
           }
          ],
          "parcoords": [
           {
            "line": {
             "colorbar": {
              "outlinewidth": 0,
              "ticks": ""
             }
            },
            "type": "parcoords"
           }
          ],
          "pie": [
           {
            "automargin": true,
            "type": "pie"
           }
          ],
          "scatter": [
           {
            "fillpattern": {
             "fillmode": "overlay",
             "size": 10,
             "solidity": 0.2
            },
            "type": "scatter"
           }
          ],
          "scatter3d": [
           {
            "line": {
             "colorbar": {
              "outlinewidth": 0,
              "ticks": ""
             }
            },
            "marker": {
             "colorbar": {
              "outlinewidth": 0,
              "ticks": ""
             }
            },
            "type": "scatter3d"
           }
          ],
          "scattercarpet": [
           {
            "marker": {
             "colorbar": {
              "outlinewidth": 0,
              "ticks": ""
             }
            },
            "type": "scattercarpet"
           }
          ],
          "scattergeo": [
           {
            "marker": {
             "colorbar": {
              "outlinewidth": 0,
              "ticks": ""
             }
            },
            "type": "scattergeo"
           }
          ],
          "scattergl": [
           {
            "marker": {
             "colorbar": {
              "outlinewidth": 0,
              "ticks": ""
             }
            },
            "type": "scattergl"
           }
          ],
          "scattermapbox": [
           {
            "marker": {
             "colorbar": {
              "outlinewidth": 0,
              "ticks": ""
             }
            },
            "type": "scattermapbox"
           }
          ],
          "scatterpolar": [
           {
            "marker": {
             "colorbar": {
              "outlinewidth": 0,
              "ticks": ""
             }
            },
            "type": "scatterpolar"
           }
          ],
          "scatterpolargl": [
           {
            "marker": {
             "colorbar": {
              "outlinewidth": 0,
              "ticks": ""
             }
            },
            "type": "scatterpolargl"
           }
          ],
          "scatterternary": [
           {
            "marker": {
             "colorbar": {
              "outlinewidth": 0,
              "ticks": ""
             }
            },
            "type": "scatterternary"
           }
          ],
          "surface": [
           {
            "colorbar": {
             "outlinewidth": 0,
             "ticks": ""
            },
            "colorscale": [
             [
              0,
              "#0d0887"
             ],
             [
              0.1111111111111111,
              "#46039f"
             ],
             [
              0.2222222222222222,
              "#7201a8"
             ],
             [
              0.3333333333333333,
              "#9c179e"
             ],
             [
              0.4444444444444444,
              "#bd3786"
             ],
             [
              0.5555555555555556,
              "#d8576b"
             ],
             [
              0.6666666666666666,
              "#ed7953"
             ],
             [
              0.7777777777777778,
              "#fb9f3a"
             ],
             [
              0.8888888888888888,
              "#fdca26"
             ],
             [
              1,
              "#f0f921"
             ]
            ],
            "type": "surface"
           }
          ],
          "table": [
           {
            "cells": {
             "fill": {
              "color": "#EBF0F8"
             },
             "line": {
              "color": "white"
             }
            },
            "header": {
             "fill": {
              "color": "#C8D4E3"
             },
             "line": {
              "color": "white"
             }
            },
            "type": "table"
           }
          ]
         },
         "layout": {
          "annotationdefaults": {
           "arrowcolor": "#2a3f5f",
           "arrowhead": 0,
           "arrowwidth": 1
          },
          "autotypenumbers": "strict",
          "coloraxis": {
           "colorbar": {
            "outlinewidth": 0,
            "ticks": ""
           }
          },
          "colorscale": {
           "diverging": [
            [
             0,
             "#8e0152"
            ],
            [
             0.1,
             "#c51b7d"
            ],
            [
             0.2,
             "#de77ae"
            ],
            [
             0.3,
             "#f1b6da"
            ],
            [
             0.4,
             "#fde0ef"
            ],
            [
             0.5,
             "#f7f7f7"
            ],
            [
             0.6,
             "#e6f5d0"
            ],
            [
             0.7,
             "#b8e186"
            ],
            [
             0.8,
             "#7fbc41"
            ],
            [
             0.9,
             "#4d9221"
            ],
            [
             1,
             "#276419"
            ]
           ],
           "sequential": [
            [
             0,
             "#0d0887"
            ],
            [
             0.1111111111111111,
             "#46039f"
            ],
            [
             0.2222222222222222,
             "#7201a8"
            ],
            [
             0.3333333333333333,
             "#9c179e"
            ],
            [
             0.4444444444444444,
             "#bd3786"
            ],
            [
             0.5555555555555556,
             "#d8576b"
            ],
            [
             0.6666666666666666,
             "#ed7953"
            ],
            [
             0.7777777777777778,
             "#fb9f3a"
            ],
            [
             0.8888888888888888,
             "#fdca26"
            ],
            [
             1,
             "#f0f921"
            ]
           ],
           "sequentialminus": [
            [
             0,
             "#0d0887"
            ],
            [
             0.1111111111111111,
             "#46039f"
            ],
            [
             0.2222222222222222,
             "#7201a8"
            ],
            [
             0.3333333333333333,
             "#9c179e"
            ],
            [
             0.4444444444444444,
             "#bd3786"
            ],
            [
             0.5555555555555556,
             "#d8576b"
            ],
            [
             0.6666666666666666,
             "#ed7953"
            ],
            [
             0.7777777777777778,
             "#fb9f3a"
            ],
            [
             0.8888888888888888,
             "#fdca26"
            ],
            [
             1,
             "#f0f921"
            ]
           ]
          },
          "colorway": [
           "#636efa",
           "#EF553B",
           "#00cc96",
           "#ab63fa",
           "#FFA15A",
           "#19d3f3",
           "#FF6692",
           "#B6E880",
           "#FF97FF",
           "#FECB52"
          ],
          "font": {
           "color": "#2a3f5f"
          },
          "geo": {
           "bgcolor": "white",
           "lakecolor": "white",
           "landcolor": "#E5ECF6",
           "showlakes": true,
           "showland": true,
           "subunitcolor": "white"
          },
          "hoverlabel": {
           "align": "left"
          },
          "hovermode": "closest",
          "mapbox": {
           "style": "light"
          },
          "paper_bgcolor": "white",
          "plot_bgcolor": "#E5ECF6",
          "polar": {
           "angularaxis": {
            "gridcolor": "white",
            "linecolor": "white",
            "ticks": ""
           },
           "bgcolor": "#E5ECF6",
           "radialaxis": {
            "gridcolor": "white",
            "linecolor": "white",
            "ticks": ""
           }
          },
          "scene": {
           "xaxis": {
            "backgroundcolor": "#E5ECF6",
            "gridcolor": "white",
            "gridwidth": 2,
            "linecolor": "white",
            "showbackground": true,
            "ticks": "",
            "zerolinecolor": "white"
           },
           "yaxis": {
            "backgroundcolor": "#E5ECF6",
            "gridcolor": "white",
            "gridwidth": 2,
            "linecolor": "white",
            "showbackground": true,
            "ticks": "",
            "zerolinecolor": "white"
           },
           "zaxis": {
            "backgroundcolor": "#E5ECF6",
            "gridcolor": "white",
            "gridwidth": 2,
            "linecolor": "white",
            "showbackground": true,
            "ticks": "",
            "zerolinecolor": "white"
           }
          },
          "shapedefaults": {
           "line": {
            "color": "#2a3f5f"
           }
          },
          "ternary": {
           "aaxis": {
            "gridcolor": "white",
            "linecolor": "white",
            "ticks": ""
           },
           "baxis": {
            "gridcolor": "white",
            "linecolor": "white",
            "ticks": ""
           },
           "bgcolor": "#E5ECF6",
           "caxis": {
            "gridcolor": "white",
            "linecolor": "white",
            "ticks": ""
           }
          },
          "title": {
           "x": 0.05
          },
          "xaxis": {
           "automargin": true,
           "gridcolor": "white",
           "linecolor": "white",
           "ticks": "",
           "title": {
            "standoff": 15
           },
           "zerolinecolor": "white",
           "zerolinewidth": 2
          },
          "yaxis": {
           "automargin": true,
           "gridcolor": "white",
           "linecolor": "white",
           "ticks": "",
           "title": {
            "standoff": 15
           },
           "zerolinecolor": "white",
           "zerolinewidth": 2
          }
         }
        }
       }
      }
     },
     "metadata": {},
     "output_type": "display_data"
    },
    {
     "data": {
      "application/vnd.plotly.v1+json": {
       "config": {
        "plotlyServerURL": "https://plot.ly"
       },
       "data": [
        {
         "name": "Predicted",
         "type": "scatter3d",
         "x": [
          4,
          4,
          4,
          4,
          4,
          2,
          2,
          2,
          2,
          2,
          0,
          0,
          0,
          0,
          0,
          -2,
          -2,
          -2,
          -2,
          -2,
          -4,
          -4,
          -4,
          -4,
          -4
         ],
         "y": [
          4,
          2,
          0,
          -2,
          -4,
          4,
          2,
          0,
          -2,
          -4,
          4,
          2,
          0,
          -2,
          -4,
          4,
          2,
          0,
          -2,
          -4,
          4,
          2,
          0,
          -2,
          -4
         ],
         "z": [
          0.07818597187054668,
          0.10825725825882493,
          0.13649355713766567,
          0.16270246195657406,
          0.189476256748529,
          0.0778127130030634,
          0.10741570824880319,
          0.13497693638753303,
          0.15985206352240577,
          0.18523126052532277,
          0.07497837635122268,
          0.10532337878029228,
          0.13095341212930162,
          0.15587297484001073,
          0.1799506482586887,
          0.07304447009438371,
          0.1035128544351078,
          0.12816668487397195,
          0.15188654962096115,
          0.17709713886578415,
          0.06881367043251554,
          0.0972866588290117,
          0.12433391868055897,
          0.14816058284120268,
          0.1731575988963371
         ]
        },
        {
         "name": "Actual",
         "type": "scatter3d",
         "x": [
          4,
          4,
          4,
          4,
          4,
          2,
          2,
          2,
          2,
          2,
          0,
          0,
          0,
          0,
          0,
          -2,
          -2,
          -2,
          -2,
          -2,
          -4,
          -4,
          -4,
          -4,
          -4
         ],
         "y": [
          4,
          2,
          0,
          -2,
          -4,
          4,
          2,
          0,
          -2,
          -4,
          4,
          2,
          0,
          -2,
          -4,
          4,
          2,
          0,
          -2,
          -4,
          4,
          2,
          0,
          -2,
          -4
         ],
         "z": [
          -0.0697564737441253,
          -0.03489949670250097,
          0,
          0.03489949670250097,
          0.0697564737441253,
          -0.0697564737441253,
          -0.034899496702500976,
          0,
          0.034899496702500976,
          0.0697564737441253,
          -0.0697564737441253,
          -0.03489949670250097,
          0,
          0.03489949670250097,
          0.0697564737441253,
          -0.0697564737441253,
          -0.034899496702500976,
          0,
          0.034899496702500976,
          0.0697564737441253,
          -0.0697564737441253,
          -0.03489949670250097,
          0,
          0.03489949670250097,
          0.0697564737441253
         ]
        }
       ],
       "layout": {
        "template": {
         "data": {
          "bar": [
           {
            "error_x": {
             "color": "#2a3f5f"
            },
            "error_y": {
             "color": "#2a3f5f"
            },
            "marker": {
             "line": {
              "color": "#E5ECF6",
              "width": 0.5
             },
             "pattern": {
              "fillmode": "overlay",
              "size": 10,
              "solidity": 0.2
             }
            },
            "type": "bar"
           }
          ],
          "barpolar": [
           {
            "marker": {
             "line": {
              "color": "#E5ECF6",
              "width": 0.5
             },
             "pattern": {
              "fillmode": "overlay",
              "size": 10,
              "solidity": 0.2
             }
            },
            "type": "barpolar"
           }
          ],
          "carpet": [
           {
            "aaxis": {
             "endlinecolor": "#2a3f5f",
             "gridcolor": "white",
             "linecolor": "white",
             "minorgridcolor": "white",
             "startlinecolor": "#2a3f5f"
            },
            "baxis": {
             "endlinecolor": "#2a3f5f",
             "gridcolor": "white",
             "linecolor": "white",
             "minorgridcolor": "white",
             "startlinecolor": "#2a3f5f"
            },
            "type": "carpet"
           }
          ],
          "choropleth": [
           {
            "colorbar": {
             "outlinewidth": 0,
             "ticks": ""
            },
            "type": "choropleth"
           }
          ],
          "contour": [
           {
            "colorbar": {
             "outlinewidth": 0,
             "ticks": ""
            },
            "colorscale": [
             [
              0,
              "#0d0887"
             ],
             [
              0.1111111111111111,
              "#46039f"
             ],
             [
              0.2222222222222222,
              "#7201a8"
             ],
             [
              0.3333333333333333,
              "#9c179e"
             ],
             [
              0.4444444444444444,
              "#bd3786"
             ],
             [
              0.5555555555555556,
              "#d8576b"
             ],
             [
              0.6666666666666666,
              "#ed7953"
             ],
             [
              0.7777777777777778,
              "#fb9f3a"
             ],
             [
              0.8888888888888888,
              "#fdca26"
             ],
             [
              1,
              "#f0f921"
             ]
            ],
            "type": "contour"
           }
          ],
          "contourcarpet": [
           {
            "colorbar": {
             "outlinewidth": 0,
             "ticks": ""
            },
            "type": "contourcarpet"
           }
          ],
          "heatmap": [
           {
            "colorbar": {
             "outlinewidth": 0,
             "ticks": ""
            },
            "colorscale": [
             [
              0,
              "#0d0887"
             ],
             [
              0.1111111111111111,
              "#46039f"
             ],
             [
              0.2222222222222222,
              "#7201a8"
             ],
             [
              0.3333333333333333,
              "#9c179e"
             ],
             [
              0.4444444444444444,
              "#bd3786"
             ],
             [
              0.5555555555555556,
              "#d8576b"
             ],
             [
              0.6666666666666666,
              "#ed7953"
             ],
             [
              0.7777777777777778,
              "#fb9f3a"
             ],
             [
              0.8888888888888888,
              "#fdca26"
             ],
             [
              1,
              "#f0f921"
             ]
            ],
            "type": "heatmap"
           }
          ],
          "heatmapgl": [
           {
            "colorbar": {
             "outlinewidth": 0,
             "ticks": ""
            },
            "colorscale": [
             [
              0,
              "#0d0887"
             ],
             [
              0.1111111111111111,
              "#46039f"
             ],
             [
              0.2222222222222222,
              "#7201a8"
             ],
             [
              0.3333333333333333,
              "#9c179e"
             ],
             [
              0.4444444444444444,
              "#bd3786"
             ],
             [
              0.5555555555555556,
              "#d8576b"
             ],
             [
              0.6666666666666666,
              "#ed7953"
             ],
             [
              0.7777777777777778,
              "#fb9f3a"
             ],
             [
              0.8888888888888888,
              "#fdca26"
             ],
             [
              1,
              "#f0f921"
             ]
            ],
            "type": "heatmapgl"
           }
          ],
          "histogram": [
           {
            "marker": {
             "pattern": {
              "fillmode": "overlay",
              "size": 10,
              "solidity": 0.2
             }
            },
            "type": "histogram"
           }
          ],
          "histogram2d": [
           {
            "colorbar": {
             "outlinewidth": 0,
             "ticks": ""
            },
            "colorscale": [
             [
              0,
              "#0d0887"
             ],
             [
              0.1111111111111111,
              "#46039f"
             ],
             [
              0.2222222222222222,
              "#7201a8"
             ],
             [
              0.3333333333333333,
              "#9c179e"
             ],
             [
              0.4444444444444444,
              "#bd3786"
             ],
             [
              0.5555555555555556,
              "#d8576b"
             ],
             [
              0.6666666666666666,
              "#ed7953"
             ],
             [
              0.7777777777777778,
              "#fb9f3a"
             ],
             [
              0.8888888888888888,
              "#fdca26"
             ],
             [
              1,
              "#f0f921"
             ]
            ],
            "type": "histogram2d"
           }
          ],
          "histogram2dcontour": [
           {
            "colorbar": {
             "outlinewidth": 0,
             "ticks": ""
            },
            "colorscale": [
             [
              0,
              "#0d0887"
             ],
             [
              0.1111111111111111,
              "#46039f"
             ],
             [
              0.2222222222222222,
              "#7201a8"
             ],
             [
              0.3333333333333333,
              "#9c179e"
             ],
             [
              0.4444444444444444,
              "#bd3786"
             ],
             [
              0.5555555555555556,
              "#d8576b"
             ],
             [
              0.6666666666666666,
              "#ed7953"
             ],
             [
              0.7777777777777778,
              "#fb9f3a"
             ],
             [
              0.8888888888888888,
              "#fdca26"
             ],
             [
              1,
              "#f0f921"
             ]
            ],
            "type": "histogram2dcontour"
           }
          ],
          "mesh3d": [
           {
            "colorbar": {
             "outlinewidth": 0,
             "ticks": ""
            },
            "type": "mesh3d"
           }
          ],
          "parcoords": [
           {
            "line": {
             "colorbar": {
              "outlinewidth": 0,
              "ticks": ""
             }
            },
            "type": "parcoords"
           }
          ],
          "pie": [
           {
            "automargin": true,
            "type": "pie"
           }
          ],
          "scatter": [
           {
            "fillpattern": {
             "fillmode": "overlay",
             "size": 10,
             "solidity": 0.2
            },
            "type": "scatter"
           }
          ],
          "scatter3d": [
           {
            "line": {
             "colorbar": {
              "outlinewidth": 0,
              "ticks": ""
             }
            },
            "marker": {
             "colorbar": {
              "outlinewidth": 0,
              "ticks": ""
             }
            },
            "type": "scatter3d"
           }
          ],
          "scattercarpet": [
           {
            "marker": {
             "colorbar": {
              "outlinewidth": 0,
              "ticks": ""
             }
            },
            "type": "scattercarpet"
           }
          ],
          "scattergeo": [
           {
            "marker": {
             "colorbar": {
              "outlinewidth": 0,
              "ticks": ""
             }
            },
            "type": "scattergeo"
           }
          ],
          "scattergl": [
           {
            "marker": {
             "colorbar": {
              "outlinewidth": 0,
              "ticks": ""
             }
            },
            "type": "scattergl"
           }
          ],
          "scattermapbox": [
           {
            "marker": {
             "colorbar": {
              "outlinewidth": 0,
              "ticks": ""
             }
            },
            "type": "scattermapbox"
           }
          ],
          "scatterpolar": [
           {
            "marker": {
             "colorbar": {
              "outlinewidth": 0,
              "ticks": ""
             }
            },
            "type": "scatterpolar"
           }
          ],
          "scatterpolargl": [
           {
            "marker": {
             "colorbar": {
              "outlinewidth": 0,
              "ticks": ""
             }
            },
            "type": "scatterpolargl"
           }
          ],
          "scatterternary": [
           {
            "marker": {
             "colorbar": {
              "outlinewidth": 0,
              "ticks": ""
             }
            },
            "type": "scatterternary"
           }
          ],
          "surface": [
           {
            "colorbar": {
             "outlinewidth": 0,
             "ticks": ""
            },
            "colorscale": [
             [
              0,
              "#0d0887"
             ],
             [
              0.1111111111111111,
              "#46039f"
             ],
             [
              0.2222222222222222,
              "#7201a8"
             ],
             [
              0.3333333333333333,
              "#9c179e"
             ],
             [
              0.4444444444444444,
              "#bd3786"
             ],
             [
              0.5555555555555556,
              "#d8576b"
             ],
             [
              0.6666666666666666,
              "#ed7953"
             ],
             [
              0.7777777777777778,
              "#fb9f3a"
             ],
             [
              0.8888888888888888,
              "#fdca26"
             ],
             [
              1,
              "#f0f921"
             ]
            ],
            "type": "surface"
           }
          ],
          "table": [
           {
            "cells": {
             "fill": {
              "color": "#EBF0F8"
             },
             "line": {
              "color": "white"
             }
            },
            "header": {
             "fill": {
              "color": "#C8D4E3"
             },
             "line": {
              "color": "white"
             }
            },
            "type": "table"
           }
          ]
         },
         "layout": {
          "annotationdefaults": {
           "arrowcolor": "#2a3f5f",
           "arrowhead": 0,
           "arrowwidth": 1
          },
          "autotypenumbers": "strict",
          "coloraxis": {
           "colorbar": {
            "outlinewidth": 0,
            "ticks": ""
           }
          },
          "colorscale": {
           "diverging": [
            [
             0,
             "#8e0152"
            ],
            [
             0.1,
             "#c51b7d"
            ],
            [
             0.2,
             "#de77ae"
            ],
            [
             0.3,
             "#f1b6da"
            ],
            [
             0.4,
             "#fde0ef"
            ],
            [
             0.5,
             "#f7f7f7"
            ],
            [
             0.6,
             "#e6f5d0"
            ],
            [
             0.7,
             "#b8e186"
            ],
            [
             0.8,
             "#7fbc41"
            ],
            [
             0.9,
             "#4d9221"
            ],
            [
             1,
             "#276419"
            ]
           ],
           "sequential": [
            [
             0,
             "#0d0887"
            ],
            [
             0.1111111111111111,
             "#46039f"
            ],
            [
             0.2222222222222222,
             "#7201a8"
            ],
            [
             0.3333333333333333,
             "#9c179e"
            ],
            [
             0.4444444444444444,
             "#bd3786"
            ],
            [
             0.5555555555555556,
             "#d8576b"
            ],
            [
             0.6666666666666666,
             "#ed7953"
            ],
            [
             0.7777777777777778,
             "#fb9f3a"
            ],
            [
             0.8888888888888888,
             "#fdca26"
            ],
            [
             1,
             "#f0f921"
            ]
           ],
           "sequentialminus": [
            [
             0,
             "#0d0887"
            ],
            [
             0.1111111111111111,
             "#46039f"
            ],
            [
             0.2222222222222222,
             "#7201a8"
            ],
            [
             0.3333333333333333,
             "#9c179e"
            ],
            [
             0.4444444444444444,
             "#bd3786"
            ],
            [
             0.5555555555555556,
             "#d8576b"
            ],
            [
             0.6666666666666666,
             "#ed7953"
            ],
            [
             0.7777777777777778,
             "#fb9f3a"
            ],
            [
             0.8888888888888888,
             "#fdca26"
            ],
            [
             1,
             "#f0f921"
            ]
           ]
          },
          "colorway": [
           "#636efa",
           "#EF553B",
           "#00cc96",
           "#ab63fa",
           "#FFA15A",
           "#19d3f3",
           "#FF6692",
           "#B6E880",
           "#FF97FF",
           "#FECB52"
          ],
          "font": {
           "color": "#2a3f5f"
          },
          "geo": {
           "bgcolor": "white",
           "lakecolor": "white",
           "landcolor": "#E5ECF6",
           "showlakes": true,
           "showland": true,
           "subunitcolor": "white"
          },
          "hoverlabel": {
           "align": "left"
          },
          "hovermode": "closest",
          "mapbox": {
           "style": "light"
          },
          "paper_bgcolor": "white",
          "plot_bgcolor": "#E5ECF6",
          "polar": {
           "angularaxis": {
            "gridcolor": "white",
            "linecolor": "white",
            "ticks": ""
           },
           "bgcolor": "#E5ECF6",
           "radialaxis": {
            "gridcolor": "white",
            "linecolor": "white",
            "ticks": ""
           }
          },
          "scene": {
           "xaxis": {
            "backgroundcolor": "#E5ECF6",
            "gridcolor": "white",
            "gridwidth": 2,
            "linecolor": "white",
            "showbackground": true,
            "ticks": "",
            "zerolinecolor": "white"
           },
           "yaxis": {
            "backgroundcolor": "#E5ECF6",
            "gridcolor": "white",
            "gridwidth": 2,
            "linecolor": "white",
            "showbackground": true,
            "ticks": "",
            "zerolinecolor": "white"
           },
           "zaxis": {
            "backgroundcolor": "#E5ECF6",
            "gridcolor": "white",
            "gridwidth": 2,
            "linecolor": "white",
            "showbackground": true,
            "ticks": "",
            "zerolinecolor": "white"
           }
          },
          "shapedefaults": {
           "line": {
            "color": "#2a3f5f"
           }
          },
          "ternary": {
           "aaxis": {
            "gridcolor": "white",
            "linecolor": "white",
            "ticks": ""
           },
           "baxis": {
            "gridcolor": "white",
            "linecolor": "white",
            "ticks": ""
           },
           "bgcolor": "#E5ECF6",
           "caxis": {
            "gridcolor": "white",
            "linecolor": "white",
            "ticks": ""
           }
          },
          "title": {
           "x": 0.05
          },
          "xaxis": {
           "automargin": true,
           "gridcolor": "white",
           "linecolor": "white",
           "ticks": "",
           "title": {
            "standoff": 15
           },
           "zerolinecolor": "white",
           "zerolinewidth": 2
          },
          "yaxis": {
           "automargin": true,
           "gridcolor": "white",
           "linecolor": "white",
           "ticks": "",
           "title": {
            "standoff": 15
           },
           "zerolinecolor": "white",
           "zerolinewidth": 2
          }
         }
        }
       }
      }
     },
     "metadata": {},
     "output_type": "display_data"
    },
    {
     "data": {
      "application/vnd.plotly.v1+json": {
       "config": {
        "plotlyServerURL": "https://plot.ly"
       },
       "data": [
        {
         "name": "Predicted",
         "type": "scatter3d",
         "x": [
          4,
          4,
          4,
          4,
          4,
          2,
          2,
          2,
          2,
          2,
          0,
          0,
          0,
          0,
          0,
          -2,
          -2,
          -2,
          -2,
          -2,
          -4,
          -4,
          -4,
          -4,
          -4
         ],
         "y": [
          4,
          2,
          0,
          -2,
          -4,
          4,
          2,
          0,
          -2,
          -4,
          4,
          2,
          0,
          -2,
          -4,
          4,
          2,
          0,
          -2,
          -4,
          4,
          2,
          0,
          -2,
          -4
         ],
         "z": [
          0.99611473633127,
          0.9931624010507455,
          0.9895418594949487,
          0.985453007772151,
          0.9805793697558107,
          0.994364909477334,
          0.9914391075477867,
          0.9878834756207987,
          0.9840586792497293,
          0.9795263821129389,
          0.9918677491285832,
          0.9888348470141068,
          0.985718827719452,
          0.9819355443197636,
          0.977734598562794,
          0.9883901920540862,
          0.9854534813691603,
          0.9824291283257307,
          0.9789887337567345,
          0.9746908511655379,
          0.9843914696019709,
          0.981932328875524,
          0.9788396157463731,
          0.9755100548111377,
          0.9713279467767233
         ]
        },
        {
         "name": "Actual",
         "type": "scatter3d",
         "x": [
          4,
          4,
          4,
          4,
          4,
          2,
          2,
          2,
          2,
          2,
          0,
          0,
          0,
          0,
          0,
          -2,
          -2,
          -2,
          -2,
          -2,
          -4,
          -4,
          -4,
          -4,
          -4
         ],
         "y": [
          4,
          2,
          0,
          -2,
          -4,
          4,
          2,
          0,
          -2,
          -4,
          4,
          2,
          0,
          -2,
          -4,
          4,
          2,
          0,
          -2,
          -4,
          4,
          2,
          0,
          -2,
          -4
         ],
         "z": [
          0.9951340343707853,
          0.9969563611936847,
          0.9975640502598243,
          0.9969563611936847,
          0.9951340343707853,
          0.9969563611936847,
          0.9987820251299122,
          0.9993908270190958,
          0.9987820251299122,
          0.9969563611936847,
          0.9975640502598243,
          0.9993908270190958,
          1,
          0.9993908270190958,
          0.9975640502598243,
          0.9969563611936847,
          0.9987820251299122,
          0.9993908270190958,
          0.9987820251299122,
          0.9969563611936847,
          0.9951340343707853,
          0.9969563611936847,
          0.9975640502598243,
          0.9969563611936847,
          0.9951340343707853
         ]
        }
       ],
       "layout": {
        "template": {
         "data": {
          "bar": [
           {
            "error_x": {
             "color": "#2a3f5f"
            },
            "error_y": {
             "color": "#2a3f5f"
            },
            "marker": {
             "line": {
              "color": "#E5ECF6",
              "width": 0.5
             },
             "pattern": {
              "fillmode": "overlay",
              "size": 10,
              "solidity": 0.2
             }
            },
            "type": "bar"
           }
          ],
          "barpolar": [
           {
            "marker": {
             "line": {
              "color": "#E5ECF6",
              "width": 0.5
             },
             "pattern": {
              "fillmode": "overlay",
              "size": 10,
              "solidity": 0.2
             }
            },
            "type": "barpolar"
           }
          ],
          "carpet": [
           {
            "aaxis": {
             "endlinecolor": "#2a3f5f",
             "gridcolor": "white",
             "linecolor": "white",
             "minorgridcolor": "white",
             "startlinecolor": "#2a3f5f"
            },
            "baxis": {
             "endlinecolor": "#2a3f5f",
             "gridcolor": "white",
             "linecolor": "white",
             "minorgridcolor": "white",
             "startlinecolor": "#2a3f5f"
            },
            "type": "carpet"
           }
          ],
          "choropleth": [
           {
            "colorbar": {
             "outlinewidth": 0,
             "ticks": ""
            },
            "type": "choropleth"
           }
          ],
          "contour": [
           {
            "colorbar": {
             "outlinewidth": 0,
             "ticks": ""
            },
            "colorscale": [
             [
              0,
              "#0d0887"
             ],
             [
              0.1111111111111111,
              "#46039f"
             ],
             [
              0.2222222222222222,
              "#7201a8"
             ],
             [
              0.3333333333333333,
              "#9c179e"
             ],
             [
              0.4444444444444444,
              "#bd3786"
             ],
             [
              0.5555555555555556,
              "#d8576b"
             ],
             [
              0.6666666666666666,
              "#ed7953"
             ],
             [
              0.7777777777777778,
              "#fb9f3a"
             ],
             [
              0.8888888888888888,
              "#fdca26"
             ],
             [
              1,
              "#f0f921"
             ]
            ],
            "type": "contour"
           }
          ],
          "contourcarpet": [
           {
            "colorbar": {
             "outlinewidth": 0,
             "ticks": ""
            },
            "type": "contourcarpet"
           }
          ],
          "heatmap": [
           {
            "colorbar": {
             "outlinewidth": 0,
             "ticks": ""
            },
            "colorscale": [
             [
              0,
              "#0d0887"
             ],
             [
              0.1111111111111111,
              "#46039f"
             ],
             [
              0.2222222222222222,
              "#7201a8"
             ],
             [
              0.3333333333333333,
              "#9c179e"
             ],
             [
              0.4444444444444444,
              "#bd3786"
             ],
             [
              0.5555555555555556,
              "#d8576b"
             ],
             [
              0.6666666666666666,
              "#ed7953"
             ],
             [
              0.7777777777777778,
              "#fb9f3a"
             ],
             [
              0.8888888888888888,
              "#fdca26"
             ],
             [
              1,
              "#f0f921"
             ]
            ],
            "type": "heatmap"
           }
          ],
          "heatmapgl": [
           {
            "colorbar": {
             "outlinewidth": 0,
             "ticks": ""
            },
            "colorscale": [
             [
              0,
              "#0d0887"
             ],
             [
              0.1111111111111111,
              "#46039f"
             ],
             [
              0.2222222222222222,
              "#7201a8"
             ],
             [
              0.3333333333333333,
              "#9c179e"
             ],
             [
              0.4444444444444444,
              "#bd3786"
             ],
             [
              0.5555555555555556,
              "#d8576b"
             ],
             [
              0.6666666666666666,
              "#ed7953"
             ],
             [
              0.7777777777777778,
              "#fb9f3a"
             ],
             [
              0.8888888888888888,
              "#fdca26"
             ],
             [
              1,
              "#f0f921"
             ]
            ],
            "type": "heatmapgl"
           }
          ],
          "histogram": [
           {
            "marker": {
             "pattern": {
              "fillmode": "overlay",
              "size": 10,
              "solidity": 0.2
             }
            },
            "type": "histogram"
           }
          ],
          "histogram2d": [
           {
            "colorbar": {
             "outlinewidth": 0,
             "ticks": ""
            },
            "colorscale": [
             [
              0,
              "#0d0887"
             ],
             [
              0.1111111111111111,
              "#46039f"
             ],
             [
              0.2222222222222222,
              "#7201a8"
             ],
             [
              0.3333333333333333,
              "#9c179e"
             ],
             [
              0.4444444444444444,
              "#bd3786"
             ],
             [
              0.5555555555555556,
              "#d8576b"
             ],
             [
              0.6666666666666666,
              "#ed7953"
             ],
             [
              0.7777777777777778,
              "#fb9f3a"
             ],
             [
              0.8888888888888888,
              "#fdca26"
             ],
             [
              1,
              "#f0f921"
             ]
            ],
            "type": "histogram2d"
           }
          ],
          "histogram2dcontour": [
           {
            "colorbar": {
             "outlinewidth": 0,
             "ticks": ""
            },
            "colorscale": [
             [
              0,
              "#0d0887"
             ],
             [
              0.1111111111111111,
              "#46039f"
             ],
             [
              0.2222222222222222,
              "#7201a8"
             ],
             [
              0.3333333333333333,
              "#9c179e"
             ],
             [
              0.4444444444444444,
              "#bd3786"
             ],
             [
              0.5555555555555556,
              "#d8576b"
             ],
             [
              0.6666666666666666,
              "#ed7953"
             ],
             [
              0.7777777777777778,
              "#fb9f3a"
             ],
             [
              0.8888888888888888,
              "#fdca26"
             ],
             [
              1,
              "#f0f921"
             ]
            ],
            "type": "histogram2dcontour"
           }
          ],
          "mesh3d": [
           {
            "colorbar": {
             "outlinewidth": 0,
             "ticks": ""
            },
            "type": "mesh3d"
           }
          ],
          "parcoords": [
           {
            "line": {
             "colorbar": {
              "outlinewidth": 0,
              "ticks": ""
             }
            },
            "type": "parcoords"
           }
          ],
          "pie": [
           {
            "automargin": true,
            "type": "pie"
           }
          ],
          "scatter": [
           {
            "fillpattern": {
             "fillmode": "overlay",
             "size": 10,
             "solidity": 0.2
            },
            "type": "scatter"
           }
          ],
          "scatter3d": [
           {
            "line": {
             "colorbar": {
              "outlinewidth": 0,
              "ticks": ""
             }
            },
            "marker": {
             "colorbar": {
              "outlinewidth": 0,
              "ticks": ""
             }
            },
            "type": "scatter3d"
           }
          ],
          "scattercarpet": [
           {
            "marker": {
             "colorbar": {
              "outlinewidth": 0,
              "ticks": ""
             }
            },
            "type": "scattercarpet"
           }
          ],
          "scattergeo": [
           {
            "marker": {
             "colorbar": {
              "outlinewidth": 0,
              "ticks": ""
             }
            },
            "type": "scattergeo"
           }
          ],
          "scattergl": [
           {
            "marker": {
             "colorbar": {
              "outlinewidth": 0,
              "ticks": ""
             }
            },
            "type": "scattergl"
           }
          ],
          "scattermapbox": [
           {
            "marker": {
             "colorbar": {
              "outlinewidth": 0,
              "ticks": ""
             }
            },
            "type": "scattermapbox"
           }
          ],
          "scatterpolar": [
           {
            "marker": {
             "colorbar": {
              "outlinewidth": 0,
              "ticks": ""
             }
            },
            "type": "scatterpolar"
           }
          ],
          "scatterpolargl": [
           {
            "marker": {
             "colorbar": {
              "outlinewidth": 0,
              "ticks": ""
             }
            },
            "type": "scatterpolargl"
           }
          ],
          "scatterternary": [
           {
            "marker": {
             "colorbar": {
              "outlinewidth": 0,
              "ticks": ""
             }
            },
            "type": "scatterternary"
           }
          ],
          "surface": [
           {
            "colorbar": {
             "outlinewidth": 0,
             "ticks": ""
            },
            "colorscale": [
             [
              0,
              "#0d0887"
             ],
             [
              0.1111111111111111,
              "#46039f"
             ],
             [
              0.2222222222222222,
              "#7201a8"
             ],
             [
              0.3333333333333333,
              "#9c179e"
             ],
             [
              0.4444444444444444,
              "#bd3786"
             ],
             [
              0.5555555555555556,
              "#d8576b"
             ],
             [
              0.6666666666666666,
              "#ed7953"
             ],
             [
              0.7777777777777778,
              "#fb9f3a"
             ],
             [
              0.8888888888888888,
              "#fdca26"
             ],
             [
              1,
              "#f0f921"
             ]
            ],
            "type": "surface"
           }
          ],
          "table": [
           {
            "cells": {
             "fill": {
              "color": "#EBF0F8"
             },
             "line": {
              "color": "white"
             }
            },
            "header": {
             "fill": {
              "color": "#C8D4E3"
             },
             "line": {
              "color": "white"
             }
            },
            "type": "table"
           }
          ]
         },
         "layout": {
          "annotationdefaults": {
           "arrowcolor": "#2a3f5f",
           "arrowhead": 0,
           "arrowwidth": 1
          },
          "autotypenumbers": "strict",
          "coloraxis": {
           "colorbar": {
            "outlinewidth": 0,
            "ticks": ""
           }
          },
          "colorscale": {
           "diverging": [
            [
             0,
             "#8e0152"
            ],
            [
             0.1,
             "#c51b7d"
            ],
            [
             0.2,
             "#de77ae"
            ],
            [
             0.3,
             "#f1b6da"
            ],
            [
             0.4,
             "#fde0ef"
            ],
            [
             0.5,
             "#f7f7f7"
            ],
            [
             0.6,
             "#e6f5d0"
            ],
            [
             0.7,
             "#b8e186"
            ],
            [
             0.8,
             "#7fbc41"
            ],
            [
             0.9,
             "#4d9221"
            ],
            [
             1,
             "#276419"
            ]
           ],
           "sequential": [
            [
             0,
             "#0d0887"
            ],
            [
             0.1111111111111111,
             "#46039f"
            ],
            [
             0.2222222222222222,
             "#7201a8"
            ],
            [
             0.3333333333333333,
             "#9c179e"
            ],
            [
             0.4444444444444444,
             "#bd3786"
            ],
            [
             0.5555555555555556,
             "#d8576b"
            ],
            [
             0.6666666666666666,
             "#ed7953"
            ],
            [
             0.7777777777777778,
             "#fb9f3a"
            ],
            [
             0.8888888888888888,
             "#fdca26"
            ],
            [
             1,
             "#f0f921"
            ]
           ],
           "sequentialminus": [
            [
             0,
             "#0d0887"
            ],
            [
             0.1111111111111111,
             "#46039f"
            ],
            [
             0.2222222222222222,
             "#7201a8"
            ],
            [
             0.3333333333333333,
             "#9c179e"
            ],
            [
             0.4444444444444444,
             "#bd3786"
            ],
            [
             0.5555555555555556,
             "#d8576b"
            ],
            [
             0.6666666666666666,
             "#ed7953"
            ],
            [
             0.7777777777777778,
             "#fb9f3a"
            ],
            [
             0.8888888888888888,
             "#fdca26"
            ],
            [
             1,
             "#f0f921"
            ]
           ]
          },
          "colorway": [
           "#636efa",
           "#EF553B",
           "#00cc96",
           "#ab63fa",
           "#FFA15A",
           "#19d3f3",
           "#FF6692",
           "#B6E880",
           "#FF97FF",
           "#FECB52"
          ],
          "font": {
           "color": "#2a3f5f"
          },
          "geo": {
           "bgcolor": "white",
           "lakecolor": "white",
           "landcolor": "#E5ECF6",
           "showlakes": true,
           "showland": true,
           "subunitcolor": "white"
          },
          "hoverlabel": {
           "align": "left"
          },
          "hovermode": "closest",
          "mapbox": {
           "style": "light"
          },
          "paper_bgcolor": "white",
          "plot_bgcolor": "#E5ECF6",
          "polar": {
           "angularaxis": {
            "gridcolor": "white",
            "linecolor": "white",
            "ticks": ""
           },
           "bgcolor": "#E5ECF6",
           "radialaxis": {
            "gridcolor": "white",
            "linecolor": "white",
            "ticks": ""
           }
          },
          "scene": {
           "xaxis": {
            "backgroundcolor": "#E5ECF6",
            "gridcolor": "white",
            "gridwidth": 2,
            "linecolor": "white",
            "showbackground": true,
            "ticks": "",
            "zerolinecolor": "white"
           },
           "yaxis": {
            "backgroundcolor": "#E5ECF6",
            "gridcolor": "white",
            "gridwidth": 2,
            "linecolor": "white",
            "showbackground": true,
            "ticks": "",
            "zerolinecolor": "white"
           },
           "zaxis": {
            "backgroundcolor": "#E5ECF6",
            "gridcolor": "white",
            "gridwidth": 2,
            "linecolor": "white",
            "showbackground": true,
            "ticks": "",
            "zerolinecolor": "white"
           }
          },
          "shapedefaults": {
           "line": {
            "color": "#2a3f5f"
           }
          },
          "ternary": {
           "aaxis": {
            "gridcolor": "white",
            "linecolor": "white",
            "ticks": ""
           },
           "baxis": {
            "gridcolor": "white",
            "linecolor": "white",
            "ticks": ""
           },
           "bgcolor": "#E5ECF6",
           "caxis": {
            "gridcolor": "white",
            "linecolor": "white",
            "ticks": ""
           }
          },
          "title": {
           "x": 0.05
          },
          "xaxis": {
           "automargin": true,
           "gridcolor": "white",
           "linecolor": "white",
           "ticks": "",
           "title": {
            "standoff": 15
           },
           "zerolinecolor": "white",
           "zerolinewidth": 2
          },
          "yaxis": {
           "automargin": true,
           "gridcolor": "white",
           "linecolor": "white",
           "ticks": "",
           "title": {
            "standoff": 15
           },
           "zerolinecolor": "white",
           "zerolinewidth": 2
          }
         }
        }
       }
      }
     },
     "metadata": {},
     "output_type": "display_data"
    }
   ],
   "source": [
    "comp_plot3D(actang, anglepred, xact, yact, axis='x', relative=False)\n",
    "comp_plot3D(actang, anglepred, xact, yact, axis='y', relative=False)\n",
    "comp_plot3D(actang, anglepred, xact, yact, axis='z', relative=False)"
   ]
  },
  {
   "cell_type": "code",
   "execution_count": 8,
   "metadata": {},
   "outputs": [
    {
     "data": {
      "application/vnd.plotly.v1+json": {
       "config": {
        "plotlyServerURL": "https://plot.ly"
       },
       "data": [
        {
         "sizemode": "absolute",
         "sizeref": 2,
         "type": "cone",
         "u": [
          -0.04052636014179542,
          -0.04368994361864409,
          -0.0466520864183605,
          -0.049094585710550344,
          -0.05062457642156079,
          -0.07199728116558504,
          -0.07423181020463158,
          -0.0765993814518529,
          -0.07794763358118768,
          -0.07885078863864864,
          -0.10284265320543086,
          -0.10541646556819725,
          -0.10587538208234511,
          -0.1072669684291255,
          -0.10794822353577588,
          -0.13322662511644318,
          -0.1347832520163326,
          -0.1356698518668057,
          -0.1360571027974105,
          -0.13643440936857704,
          -0.16198183026647595,
          -0.1623089878071372,
          -0.1625241007082601,
          -0.16256867673240805,
          -0.16290630974572531
         ],
         "v": [
          0.07818597187054668,
          0.10825725825882493,
          0.13649355713766567,
          0.16270246195657406,
          0.189476256748529,
          0.0778127130030634,
          0.10741570824880319,
          0.13497693638753303,
          0.15985206352240577,
          0.18523126052532277,
          0.07497837635122268,
          0.10532337878029228,
          0.13095341212930162,
          0.15587297484001073,
          0.1799506482586887,
          0.07304447009438371,
          0.1035128544351078,
          0.12816668487397195,
          0.15188654962096115,
          0.17709713886578415,
          0.06881367043251554,
          0.0972866588290117,
          0.12433391868055897,
          0.14816058284120268,
          0.1731575988963371
         ],
         "w": [
          0.99611473633127,
          0.9931624010507455,
          0.9895418594949487,
          0.985453007772151,
          0.9805793697558107,
          0.994364909477334,
          0.9914391075477867,
          0.9878834756207987,
          0.9840586792497293,
          0.9795263821129389,
          0.9918677491285832,
          0.9888348470141068,
          0.985718827719452,
          0.9819355443197636,
          0.977734598562794,
          0.9883901920540862,
          0.9854534813691603,
          0.9824291283257307,
          0.9789887337567345,
          0.9746908511655379,
          0.9843914696019709,
          0.981932328875524,
          0.9788396157463731,
          0.9755100548111377,
          0.9713279467767233
         ],
         "x": [
          -1.1190114580269854,
          -1.125068725744183,
          -1.1249865349284622,
          -1.1222363283123786,
          -1.110447529611317,
          -0.776688195094658,
          -0.7685736740087306,
          -0.7696398948754417,
          -0.7639361321850024,
          -0.7473879296893151,
          -0.39227821948689684,
          -0.3894813916345699,
          -0.37763698176156135,
          -0.37314362509678684,
          -0.36343873472263016,
          -0.008320052614529862,
          -0.005474572021643635,
          0.004881031018381238,
          0.017171831499606036,
          0.018026345602290165,
          0.3455705695000907,
          0.35608288080061196,
          0.3680897658630262,
          0.38551377532493886,
          0.39490047286030683
         ],
         "y": [
          1.2929324573876106,
          0.8919958200262859,
          0.5051798325340116,
          0.11167824069746643,
          -0.33530387284600166,
          1.298306193681417,
          0.9037214327364707,
          0.4891451814933514,
          0.10148317431745935,
          -0.3198230135381936,
          1.295026092340942,
          0.9053459694081357,
          0.49041370582058413,
          0.09761763830511998,
          -0.29914379682385434,
          1.2986233186095364,
          0.8872981963525277,
          0.49673062202701085,
          0.09779317542137798,
          -0.32483277836518193,
          1.3077416408681857,
          0.9069636016746799,
          0.49499727149272754,
          0.08843698864050593,
          -0.3353518402216538
         ],
         "z": [
          17.902773581527818,
          17.86574938760012,
          17.841405977580283,
          17.832394670475875,
          17.838341321648166,
          17.865821948886232,
          17.82695692701743,
          17.803356775922982,
          17.79672561707184,
          17.799481449451044,
          17.837123997763864,
          17.79723111068859,
          17.773350949930336,
          17.765284170340344,
          17.76987752190592,
          17.818006817103473,
          17.7798821818471,
          17.756525911957564,
          17.74680057605382,
          17.754338190049328,
          17.813210782574714,
          17.77506215724014,
          17.751895340732215,
          17.74334187445149,
          17.74864395212924
         ]
        }
       ],
       "layout": {
        "scene": {
         "camera": {
          "eye": {
           "x": -0.76,
           "y": 1.8,
           "z": 0.92
          }
         }
        },
        "template": {
         "data": {
          "bar": [
           {
            "error_x": {
             "color": "#2a3f5f"
            },
            "error_y": {
             "color": "#2a3f5f"
            },
            "marker": {
             "line": {
              "color": "#E5ECF6",
              "width": 0.5
             },
             "pattern": {
              "fillmode": "overlay",
              "size": 10,
              "solidity": 0.2
             }
            },
            "type": "bar"
           }
          ],
          "barpolar": [
           {
            "marker": {
             "line": {
              "color": "#E5ECF6",
              "width": 0.5
             },
             "pattern": {
              "fillmode": "overlay",
              "size": 10,
              "solidity": 0.2
             }
            },
            "type": "barpolar"
           }
          ],
          "carpet": [
           {
            "aaxis": {
             "endlinecolor": "#2a3f5f",
             "gridcolor": "white",
             "linecolor": "white",
             "minorgridcolor": "white",
             "startlinecolor": "#2a3f5f"
            },
            "baxis": {
             "endlinecolor": "#2a3f5f",
             "gridcolor": "white",
             "linecolor": "white",
             "minorgridcolor": "white",
             "startlinecolor": "#2a3f5f"
            },
            "type": "carpet"
           }
          ],
          "choropleth": [
           {
            "colorbar": {
             "outlinewidth": 0,
             "ticks": ""
            },
            "type": "choropleth"
           }
          ],
          "contour": [
           {
            "colorbar": {
             "outlinewidth": 0,
             "ticks": ""
            },
            "colorscale": [
             [
              0,
              "#0d0887"
             ],
             [
              0.1111111111111111,
              "#46039f"
             ],
             [
              0.2222222222222222,
              "#7201a8"
             ],
             [
              0.3333333333333333,
              "#9c179e"
             ],
             [
              0.4444444444444444,
              "#bd3786"
             ],
             [
              0.5555555555555556,
              "#d8576b"
             ],
             [
              0.6666666666666666,
              "#ed7953"
             ],
             [
              0.7777777777777778,
              "#fb9f3a"
             ],
             [
              0.8888888888888888,
              "#fdca26"
             ],
             [
              1,
              "#f0f921"
             ]
            ],
            "type": "contour"
           }
          ],
          "contourcarpet": [
           {
            "colorbar": {
             "outlinewidth": 0,
             "ticks": ""
            },
            "type": "contourcarpet"
           }
          ],
          "heatmap": [
           {
            "colorbar": {
             "outlinewidth": 0,
             "ticks": ""
            },
            "colorscale": [
             [
              0,
              "#0d0887"
             ],
             [
              0.1111111111111111,
              "#46039f"
             ],
             [
              0.2222222222222222,
              "#7201a8"
             ],
             [
              0.3333333333333333,
              "#9c179e"
             ],
             [
              0.4444444444444444,
              "#bd3786"
             ],
             [
              0.5555555555555556,
              "#d8576b"
             ],
             [
              0.6666666666666666,
              "#ed7953"
             ],
             [
              0.7777777777777778,
              "#fb9f3a"
             ],
             [
              0.8888888888888888,
              "#fdca26"
             ],
             [
              1,
              "#f0f921"
             ]
            ],
            "type": "heatmap"
           }
          ],
          "heatmapgl": [
           {
            "colorbar": {
             "outlinewidth": 0,
             "ticks": ""
            },
            "colorscale": [
             [
              0,
              "#0d0887"
             ],
             [
              0.1111111111111111,
              "#46039f"
             ],
             [
              0.2222222222222222,
              "#7201a8"
             ],
             [
              0.3333333333333333,
              "#9c179e"
             ],
             [
              0.4444444444444444,
              "#bd3786"
             ],
             [
              0.5555555555555556,
              "#d8576b"
             ],
             [
              0.6666666666666666,
              "#ed7953"
             ],
             [
              0.7777777777777778,
              "#fb9f3a"
             ],
             [
              0.8888888888888888,
              "#fdca26"
             ],
             [
              1,
              "#f0f921"
             ]
            ],
            "type": "heatmapgl"
           }
          ],
          "histogram": [
           {
            "marker": {
             "pattern": {
              "fillmode": "overlay",
              "size": 10,
              "solidity": 0.2
             }
            },
            "type": "histogram"
           }
          ],
          "histogram2d": [
           {
            "colorbar": {
             "outlinewidth": 0,
             "ticks": ""
            },
            "colorscale": [
             [
              0,
              "#0d0887"
             ],
             [
              0.1111111111111111,
              "#46039f"
             ],
             [
              0.2222222222222222,
              "#7201a8"
             ],
             [
              0.3333333333333333,
              "#9c179e"
             ],
             [
              0.4444444444444444,
              "#bd3786"
             ],
             [
              0.5555555555555556,
              "#d8576b"
             ],
             [
              0.6666666666666666,
              "#ed7953"
             ],
             [
              0.7777777777777778,
              "#fb9f3a"
             ],
             [
              0.8888888888888888,
              "#fdca26"
             ],
             [
              1,
              "#f0f921"
             ]
            ],
            "type": "histogram2d"
           }
          ],
          "histogram2dcontour": [
           {
            "colorbar": {
             "outlinewidth": 0,
             "ticks": ""
            },
            "colorscale": [
             [
              0,
              "#0d0887"
             ],
             [
              0.1111111111111111,
              "#46039f"
             ],
             [
              0.2222222222222222,
              "#7201a8"
             ],
             [
              0.3333333333333333,
              "#9c179e"
             ],
             [
              0.4444444444444444,
              "#bd3786"
             ],
             [
              0.5555555555555556,
              "#d8576b"
             ],
             [
              0.6666666666666666,
              "#ed7953"
             ],
             [
              0.7777777777777778,
              "#fb9f3a"
             ],
             [
              0.8888888888888888,
              "#fdca26"
             ],
             [
              1,
              "#f0f921"
             ]
            ],
            "type": "histogram2dcontour"
           }
          ],
          "mesh3d": [
           {
            "colorbar": {
             "outlinewidth": 0,
             "ticks": ""
            },
            "type": "mesh3d"
           }
          ],
          "parcoords": [
           {
            "line": {
             "colorbar": {
              "outlinewidth": 0,
              "ticks": ""
             }
            },
            "type": "parcoords"
           }
          ],
          "pie": [
           {
            "automargin": true,
            "type": "pie"
           }
          ],
          "scatter": [
           {
            "fillpattern": {
             "fillmode": "overlay",
             "size": 10,
             "solidity": 0.2
            },
            "type": "scatter"
           }
          ],
          "scatter3d": [
           {
            "line": {
             "colorbar": {
              "outlinewidth": 0,
              "ticks": ""
             }
            },
            "marker": {
             "colorbar": {
              "outlinewidth": 0,
              "ticks": ""
             }
            },
            "type": "scatter3d"
           }
          ],
          "scattercarpet": [
           {
            "marker": {
             "colorbar": {
              "outlinewidth": 0,
              "ticks": ""
             }
            },
            "type": "scattercarpet"
           }
          ],
          "scattergeo": [
           {
            "marker": {
             "colorbar": {
              "outlinewidth": 0,
              "ticks": ""
             }
            },
            "type": "scattergeo"
           }
          ],
          "scattergl": [
           {
            "marker": {
             "colorbar": {
              "outlinewidth": 0,
              "ticks": ""
             }
            },
            "type": "scattergl"
           }
          ],
          "scattermapbox": [
           {
            "marker": {
             "colorbar": {
              "outlinewidth": 0,
              "ticks": ""
             }
            },
            "type": "scattermapbox"
           }
          ],
          "scatterpolar": [
           {
            "marker": {
             "colorbar": {
              "outlinewidth": 0,
              "ticks": ""
             }
            },
            "type": "scatterpolar"
           }
          ],
          "scatterpolargl": [
           {
            "marker": {
             "colorbar": {
              "outlinewidth": 0,
              "ticks": ""
             }
            },
            "type": "scatterpolargl"
           }
          ],
          "scatterternary": [
           {
            "marker": {
             "colorbar": {
              "outlinewidth": 0,
              "ticks": ""
             }
            },
            "type": "scatterternary"
           }
          ],
          "surface": [
           {
            "colorbar": {
             "outlinewidth": 0,
             "ticks": ""
            },
            "colorscale": [
             [
              0,
              "#0d0887"
             ],
             [
              0.1111111111111111,
              "#46039f"
             ],
             [
              0.2222222222222222,
              "#7201a8"
             ],
             [
              0.3333333333333333,
              "#9c179e"
             ],
             [
              0.4444444444444444,
              "#bd3786"
             ],
             [
              0.5555555555555556,
              "#d8576b"
             ],
             [
              0.6666666666666666,
              "#ed7953"
             ],
             [
              0.7777777777777778,
              "#fb9f3a"
             ],
             [
              0.8888888888888888,
              "#fdca26"
             ],
             [
              1,
              "#f0f921"
             ]
            ],
            "type": "surface"
           }
          ],
          "table": [
           {
            "cells": {
             "fill": {
              "color": "#EBF0F8"
             },
             "line": {
              "color": "white"
             }
            },
            "header": {
             "fill": {
              "color": "#C8D4E3"
             },
             "line": {
              "color": "white"
             }
            },
            "type": "table"
           }
          ]
         },
         "layout": {
          "annotationdefaults": {
           "arrowcolor": "#2a3f5f",
           "arrowhead": 0,
           "arrowwidth": 1
          },
          "autotypenumbers": "strict",
          "coloraxis": {
           "colorbar": {
            "outlinewidth": 0,
            "ticks": ""
           }
          },
          "colorscale": {
           "diverging": [
            [
             0,
             "#8e0152"
            ],
            [
             0.1,
             "#c51b7d"
            ],
            [
             0.2,
             "#de77ae"
            ],
            [
             0.3,
             "#f1b6da"
            ],
            [
             0.4,
             "#fde0ef"
            ],
            [
             0.5,
             "#f7f7f7"
            ],
            [
             0.6,
             "#e6f5d0"
            ],
            [
             0.7,
             "#b8e186"
            ],
            [
             0.8,
             "#7fbc41"
            ],
            [
             0.9,
             "#4d9221"
            ],
            [
             1,
             "#276419"
            ]
           ],
           "sequential": [
            [
             0,
             "#0d0887"
            ],
            [
             0.1111111111111111,
             "#46039f"
            ],
            [
             0.2222222222222222,
             "#7201a8"
            ],
            [
             0.3333333333333333,
             "#9c179e"
            ],
            [
             0.4444444444444444,
             "#bd3786"
            ],
            [
             0.5555555555555556,
             "#d8576b"
            ],
            [
             0.6666666666666666,
             "#ed7953"
            ],
            [
             0.7777777777777778,
             "#fb9f3a"
            ],
            [
             0.8888888888888888,
             "#fdca26"
            ],
            [
             1,
             "#f0f921"
            ]
           ],
           "sequentialminus": [
            [
             0,
             "#0d0887"
            ],
            [
             0.1111111111111111,
             "#46039f"
            ],
            [
             0.2222222222222222,
             "#7201a8"
            ],
            [
             0.3333333333333333,
             "#9c179e"
            ],
            [
             0.4444444444444444,
             "#bd3786"
            ],
            [
             0.5555555555555556,
             "#d8576b"
            ],
            [
             0.6666666666666666,
             "#ed7953"
            ],
            [
             0.7777777777777778,
             "#fb9f3a"
            ],
            [
             0.8888888888888888,
             "#fdca26"
            ],
            [
             1,
             "#f0f921"
            ]
           ]
          },
          "colorway": [
           "#636efa",
           "#EF553B",
           "#00cc96",
           "#ab63fa",
           "#FFA15A",
           "#19d3f3",
           "#FF6692",
           "#B6E880",
           "#FF97FF",
           "#FECB52"
          ],
          "font": {
           "color": "#2a3f5f"
          },
          "geo": {
           "bgcolor": "white",
           "lakecolor": "white",
           "landcolor": "#E5ECF6",
           "showlakes": true,
           "showland": true,
           "subunitcolor": "white"
          },
          "hoverlabel": {
           "align": "left"
          },
          "hovermode": "closest",
          "mapbox": {
           "style": "light"
          },
          "paper_bgcolor": "white",
          "plot_bgcolor": "#E5ECF6",
          "polar": {
           "angularaxis": {
            "gridcolor": "white",
            "linecolor": "white",
            "ticks": ""
           },
           "bgcolor": "#E5ECF6",
           "radialaxis": {
            "gridcolor": "white",
            "linecolor": "white",
            "ticks": ""
           }
          },
          "scene": {
           "xaxis": {
            "backgroundcolor": "#E5ECF6",
            "gridcolor": "white",
            "gridwidth": 2,
            "linecolor": "white",
            "showbackground": true,
            "ticks": "",
            "zerolinecolor": "white"
           },
           "yaxis": {
            "backgroundcolor": "#E5ECF6",
            "gridcolor": "white",
            "gridwidth": 2,
            "linecolor": "white",
            "showbackground": true,
            "ticks": "",
            "zerolinecolor": "white"
           },
           "zaxis": {
            "backgroundcolor": "#E5ECF6",
            "gridcolor": "white",
            "gridwidth": 2,
            "linecolor": "white",
            "showbackground": true,
            "ticks": "",
            "zerolinecolor": "white"
           }
          },
          "shapedefaults": {
           "line": {
            "color": "#2a3f5f"
           }
          },
          "ternary": {
           "aaxis": {
            "gridcolor": "white",
            "linecolor": "white",
            "ticks": ""
           },
           "baxis": {
            "gridcolor": "white",
            "linecolor": "white",
            "ticks": ""
           },
           "bgcolor": "#E5ECF6",
           "caxis": {
            "gridcolor": "white",
            "linecolor": "white",
            "ticks": ""
           }
          },
          "title": {
           "x": 0.05
          },
          "xaxis": {
           "automargin": true,
           "gridcolor": "white",
           "linecolor": "white",
           "ticks": "",
           "title": {
            "standoff": 15
           },
           "zerolinecolor": "white",
           "zerolinewidth": 2
          },
          "yaxis": {
           "automargin": true,
           "gridcolor": "white",
           "linecolor": "white",
           "ticks": "",
           "title": {
            "standoff": 15
           },
           "zerolinecolor": "white",
           "zerolinewidth": 2
          }
         }
        }
       }
      }
     },
     "metadata": {},
     "output_type": "display_data"
    }
   ],
   "source": [
    "fig = go.Figure(data=go.Cone(x=locpred[:,0], y=locpred[:,1], z=locpred[:,2], u=anglepred[:,0], v=anglepred[:,1], w=anglepred[:,2], \n",
    "                             sizemode=\"absolute\", sizeref=2))\n",
    "\n",
    "fig.update_layout(scene_camera_eye=dict(x=-0.76, y=1.8, z=0.92))\n",
    "\n",
    "fig.show()"
   ]
  },
  {
   "cell_type": "markdown",
   "metadata": {},
   "source": [
    "Rotated about Z-axis. Displacement only had a range of 0.06mm over entire rotation. X and Y-components of displacement varied up to 0.3mm. Z-component of angle was always 0.99. "
   ]
  },
  {
   "cell_type": "markdown",
   "metadata": {},
   "source": [
    "Do measurements forward to back to try to identify drift.\n",
    "Make new mount with new magnet (D21B-N52) to have top of magnet at isocenter.\n",
    "Redo fitting with center sensors (or any combination) to see if results are better.\n",
    "Goal is 0.2mm"
   ]
  }
 ],
 "metadata": {
  "kernelspec": {
   "display_name": "Python 3",
   "language": "python",
   "name": "python3"
  },
  "language_info": {
   "codemirror_mode": {
    "name": "ipython",
    "version": 3
   },
   "file_extension": ".py",
   "mimetype": "text/x-python",
   "name": "python",
   "nbconvert_exporter": "python",
   "pygments_lexer": "ipython3",
   "version": "3.12.3"
  }
 },
 "nbformat": 4,
 "nbformat_minor": 2
}
