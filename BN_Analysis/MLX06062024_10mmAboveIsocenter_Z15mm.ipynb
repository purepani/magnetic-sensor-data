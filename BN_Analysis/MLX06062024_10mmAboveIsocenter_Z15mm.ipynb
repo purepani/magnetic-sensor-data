{
 "cells": [
  {
   "cell_type": "code",
   "execution_count": 45,
   "metadata": {},
   "outputs": [],
   "source": [
    "import glob\n",
    "import numpy as np\n",
    "import scipy as sp\n",
    "import einops as eo\n",
    "import matplotlib.pyplot as plt\n",
    "import math\n",
    "import plotly.graph_objects as go\n",
    "from scipy.spatial.transform import Rotation\n",
    "\n",
    "\n",
    "M0 = 1400 #mT\n",
    "shape = [3*25.4/16, 25.4/8] #radius and height\n",
    "x0 = np.array([0,0,10, 0,0,1])\n"
   ]
  },
  {
   "cell_type": "code",
   "execution_count": 46,
   "metadata": {},
   "outputs": [],
   "source": [
    "def B_dipole(position, rotation, M0, shape):\n",
    "    R = np.sqrt(np.sum(position**2, axis=1))\n",
    "    B = (M0 * (shape[0]) ** 2 * shape[1] / (16)) * (\n",
    "        (\n",
    "            3\n",
    "            * position\n",
    "            / R[:, np.newaxis] ** 5\n",
    "            * (eo.einsum(position, rotation, \"sensor dim,  dim -> sensor\"))[\n",
    "                :, np.newaxis\n",
    "            ]\n",
    "        )\n",
    "        - rotation[np.newaxis, :] / (R[:, np.newaxis] ** 3)\n",
    "    )\n",
    "    return B\n",
    "\n",
    "\n",
    "def getField_dipole(x, positions, M0, shape):\n",
    "    position = x[:3]\n",
    "    axis = x[3:]\n",
    "    return B_dipole(positions - position, axis, M0, shape)\n",
    "\n",
    "\n",
    "def getField_dipole_fixed(x, positions, M0, shape):\n",
    "    position = x[:3]\n",
    "    axis = x[3:]\n",
    "    return B_dipole(positions - position, axis, M0, shape)\n",
    "\n",
    "\n",
    "def cost_dipole(x, B, positions, M0, shape):\n",
    "    diff = getField_dipole(x, positions, M0, shape) - B\n",
    "    return np.sum((diff) ** 2)\n",
    "\n",
    "\n",
    "def minimize(x0, B, positions, M0, shape, *args):\n",
    "    #print(\"Starting mimimization\")\n",
    "    b_args = (B, positions, M0, shape)\n",
    "    cons = [{\"type\": \"eq\", \"fun\": lambda x: x[3] ** 2 + x[4] ** 2 + x[5] ** 2 - 1}]\n",
    "    bounds = [(-100, 100), (-100, 100), (0, 100), (-1, 1), (-1, 1), (-1, 1)]\n",
    "    res = sp.optimize.minimize(\n",
    "        fun=cost_dipole, x0=x0, args=b_args, tol=1e-100, constraints=cons, bounds=bounds, *args\n",
    "    ).x  \n",
    "    #print(f\"Finished mimimization with shape {b_args[3]} at {res}\")\n",
    "    return res\n",
    "\n",
    "def circle_radius(x1, y1, x2, y2, x3, y3):\n",
    "    # Calculate lengths of sides of the triangle formed by the three points\n",
    "    a = math.sqrt((x2 - x1) ** 2 + (y2 - y1) ** 2)\n",
    "    b = math.sqrt((x3 - x2) ** 2 + (y3 - y2) ** 2)\n",
    "    c = math.sqrt((x3 - x1) ** 2 + (y3 - y1) ** 2)\n",
    "\n",
    "    # Calculate the semi-perimeter of the triangle\n",
    "    s = (a + b + c) / 2\n",
    "\n",
    "    # Calculate the area of the triangle using Heron's formula\n",
    "    area = math.sqrt(s * (s - a) * (s - b) * (s - c))\n",
    "\n",
    "    # Calculate the radius of the circle using the formula: radius = (abc) / (4 * area)\n",
    "    radius = (a * b * c) / (4 * area)\n",
    "    \n",
    "    return radius\n",
    "\n",
    "def comparison_plot(locact, locpred, axis, relative):\n",
    "\n",
    "    if axis == 'x':\n",
    "        ax = 0\n",
    "    elif axis == 'y':\n",
    "        ax = 1\n",
    "    else:\n",
    "        ax = 2\n",
    "\n",
    "    index = list(range(len(locact[:,ax])))\n",
    "    act = locact[:, ax]\n",
    "    pred = locpred[:, ax]\n",
    "\n",
    "    rel = ''\n",
    "\n",
    "    if relative==True:\n",
    "        act = [x - locact[0, ax] for x in locact[:, ax]]\n",
    "        pred = [x - locpred[0, ax] for x in locpred[:, ax]]\n",
    "        rel = ' (Relative)'\n",
    "\n",
    "    # Plotting\n",
    "    plt.figure(figsize=(8, 6))\n",
    "    plt.scatter(index, pred, label='Predicted' + rel)\n",
    "    plt.scatter(index, act, label='Actual' + rel)\n",
    "    plt.xlabel('Index')\n",
    "    plt.ylabel(axis + '-component')\n",
    "    plt.title('Comparison of '+axis+ ' Location' + rel+ ': Predicted vs Actual')\n",
    "    plt.legend()\n",
    "    plt.grid(True)\n",
    "    plt.show()\n",
    "\n",
    "    return\n",
    "\n",
    "def comp_plot3D(locact, locpred, xact, yact, axis, relative):\n",
    "\n",
    "    if axis == 'x':\n",
    "        ax = 0\n",
    "    elif axis == 'y':\n",
    "        ax = 1\n",
    "    else:\n",
    "        ax = 2\n",
    "\n",
    "    index = list(range(len(locact[:,ax])))\n",
    "    act = locact[:, ax]\n",
    "    pred = locpred[:, ax]\n",
    "\n",
    "    rel = ''\n",
    "\n",
    "    if relative==True:\n",
    "        act = [x - locact[0, ax] for x in locact[:, ax]]\n",
    "        pred = [x - locpred[0, ax] for x in locpred[:, ax]]\n",
    "        rel = ' (Relative)'\n",
    "\n",
    "    fig = go.Figure(data=[\n",
    "        go.Scatter3d(x=xact, y=yact, z=pred, name='Predicted' + rel),\n",
    "        go.Scatter3d(x=xact, y=yact, z=act, name='Actual' + rel)])\n",
    "    fig.show()\n",
    "\n",
    "    return\n",
    "\n",
    "def displacement_plot(actual, predicted):\n",
    "\n",
    "    dispx = np.array(predicted[:,0]-predicted[:,0][0])\n",
    "    dispy = np.array(predicted[:,1]-predicted[:,1][0])\n",
    "    dispz = np.array(predicted[:,2]-predicted[:,2][0])\n",
    "    disp = np.sqrt(dispx**2+dispy**2+dispz**2)\n",
    "    actdispx = np.array(actual[:,0]-actual[:,0][0])\n",
    "    actdispy = np.array(actual[:,1]-actual[:,1][0])\n",
    "    actdispz = np.array(actual[:,2]-actual[:,2][0])\n",
    "    actdisp = np.sqrt(actdispx**2+actdispy**2+actdispz**2)\n",
    "\n",
    "    plt.figure(figsize=(8, 6))\n",
    "    plt.scatter(list(range(len(disp))), disp, label='Predicted Displacement')\n",
    "    plt.scatter(list(range(len(actdisp))), actdisp, label='Actual Displacement')\n",
    "    plt.xlabel('Index')\n",
    "    plt.ylabel('Displacement (mm)')\n",
    "    plt.title('Magnet Displacement')\n",
    "    plt.legend()\n",
    "    plt.grid(True)\n",
    "    plt.show()\n",
    "\n",
    "    return\n",
    "\n",
    "def importfitting(folder):\n",
    "\n",
    "    file_list = sorted(glob.glob(f'{folder}/*.npz'))\n",
    "    len(file_list)\n",
    "    data = np.load(file_list[0])\n",
    "    pos = data['pos'][0]\n",
    "\n",
    "    locpred = [np.array([0,0,0])]\n",
    "    anglepred = [np.array([0,0,0])]\n",
    "    Bstdev = [np.array(pos)]\n",
    "    for x in range(len(file_list)):\n",
    "        data = np.load(file_list[x])\n",
    "        mags = data['mags']\n",
    "        pos = data['pos'][0]\n",
    "        B = np.mean(mags, axis=0)\n",
    "        mags_stdev = np.std(mags, axis=0)\n",
    "        x_res = minimize(x0, B, pos, M0, shape)\n",
    "        locpred = np.append(locpred, [x_res[0:3]], axis=0)\n",
    "        anglepred = np.append(anglepred, [x_res[3:6]], axis=0)\n",
    "        Bstdev = np.append(Bstdev, [mags_stdev], axis=0)\n",
    "    locpred = np.delete(locpred, 0, axis=0)\n",
    "    anglepred = np.delete(anglepred, 0, axis=0)\n",
    "    Bstdev = np.delete(Bstdev, 0 ,axis=0)\n",
    "\n",
    "    return locpred, anglepred, Bstdev\n",
    "\n",
    "def actualangle(xind, yind, xscal, xcon, yscal, ycon, isoff):\n",
    "\n",
    "    angact = [np.array([0, 0, 0])]\n",
    "    for y in range(yind):\n",
    "        for x in range(xind):\n",
    "            R = Rotation.from_euler('ZYX' ,np.array([0, yscal*y-ycon, xscal*x-xcon]), degrees=True)\n",
    "            norm = np.array([[0, 0, 1]])\n",
    "            rotated = R.apply(norm, inverse=False)[0]\n",
    "            #add = np.array([np.sin(np.deg2rad(2*y-4)), -np.sin(np.deg2rad(2*x-4)), np.cos(np.deg2rad(2*y-4))*np.cos(np.deg2rad(2*x-4))])\n",
    "            angact = np.append(angact, [rotated], axis=0)\n",
    "    angact = np.delete(angact, 0, axis=0)\n",
    "    locact = angact*isoff\n",
    "\n",
    "    return angact, locact"
   ]
  },
  {
   "cell_type": "code",
   "execution_count": 47,
   "metadata": {},
   "outputs": [
    {
     "data": {
      "text/plain": [
       "array([[ 3.78912728e-01, -3.17410949e-01,  1.74441183e+01,\n",
       "        -1.52799391e-01,  1.70127809e-01,  9.73503403e-01],\n",
       "       [ 3.85958333e-01,  1.00933783e-01,  1.74303647e+01,\n",
       "        -1.52186666e-01,  1.45436142e-01,  9.77592731e-01],\n",
       "       [ 3.70112985e-01,  5.16486956e-01,  1.74364577e+01,\n",
       "        -1.52022239e-01,  1.24972923e-01,  9.80444291e-01],\n",
       "       [ 3.62392958e-01,  9.53316935e-01,  1.74563751e+01,\n",
       "        -1.51295537e-01,  1.00053709e-01,  9.83411875e-01],\n",
       "       [ 3.48896259e-01,  1.36041931e+00,  1.74891014e+01,\n",
       "        -1.50886147e-01,  7.43517984e-02,  9.85751074e-01],\n",
       "       [-1.64337641e-03, -3.24433287e-01,  1.74515195e+01,\n",
       "        -1.28958891e-01,  1.71232627e-01,  9.76754315e-01],\n",
       "       [-1.96359703e-02,  1.13244842e-01,  1.74393086e+01,\n",
       "        -1.29640621e-01,  1.45885874e-01,  9.80770422e-01],\n",
       "       [-2.25193911e-02,  5.01784447e-01,  1.74425065e+01,\n",
       "        -1.27888827e-01,  1.24812950e-01,  9.83903540e-01],\n",
       "       [-4.53883648e-02,  9.11985643e-01,  1.74604919e+01,\n",
       "        -1.29553489e-01,  9.78899121e-02,  9.86728665e-01],\n",
       "       [-4.10165653e-02,  1.33765103e+00,  1.74972647e+01,\n",
       "        -1.25724042e-01,  7.57890718e-02,  9.89166054e-01],\n",
       "       [-4.04896123e-01, -3.20221427e-01,  1.74740062e+01,\n",
       "        -1.05385812e-01,  1.74347617e-01,  9.79028467e-01],\n",
       "       [-3.98855705e-01,  1.07843503e-01,  1.74608591e+01,\n",
       "        -1.03792266e-01,  1.50685440e-01,  9.83118031e-01],\n",
       "       [-6.19076135e-01,  7.08688432e-01,  1.74599696e+01,\n",
       "        -1.31587479e-01,  1.52981861e-01,  9.79429061e-01],\n",
       "       [-4.28633992e-01,  9.29989565e-01,  1.74845892e+01,\n",
       "        -1.01233364e-01,  1.04948592e-01,  9.89311679e-01],\n",
       "       [-4.31952251e-01,  1.32795003e+00,  1.75161674e+01,\n",
       "        -9.95397653e-02,  7.87740398e-02,  9.91910523e-01],\n",
       "       [-7.92514838e-01, -3.22416555e-01,  1.75074297e+01,\n",
       "        -7.89982584e-02,  1.77486037e-01,  9.80947492e-01],\n",
       "       [-8.06221066e-01,  1.00269209e-01,  1.74944581e+01,\n",
       "        -7.80664230e-02,  1.54470570e-01,  9.84908360e-01],\n",
       "       [-8.18965959e-01,  5.16622321e-01,  1.74990134e+01,\n",
       "        -7.60431982e-02,  1.31513036e-01,  9.88393521e-01],\n",
       "       [-8.11825624e-01,  9.13263958e-01,  1.75183745e+01,\n",
       "        -7.36359900e-02,  1.06784439e-01,  9.91551726e-01],\n",
       "       [-8.23068047e-01,  1.32750366e+00,  1.75546382e+01,\n",
       "        -7.19322993e-02,  7.97485047e-02,  9.94216234e-01],\n",
       "       [-1.18792906e+00, -3.30833203e-01,  1.75535836e+01,\n",
       "        -5.27609041e-02,  1.81444622e-01,  9.81984794e-01],\n",
       "       [-1.19612647e+00,  9.76423239e-02,  1.75443819e+01,\n",
       "        -5.08629161e-02,  1.57534942e-01,  9.86202670e-01],\n",
       "       [-1.20130059e+00,  5.04386520e-01,  1.75491544e+01,\n",
       "        -4.84139394e-02,  1.34362862e-01,  9.89748813e-01],\n",
       "       [-1.20187853e+00,  9.19278457e-01,  1.75699318e+01,\n",
       "        -4.59162197e-02,  1.09095980e-01,  9.92970175e-01],\n",
       "       [-1.19924809e+00,  1.32725376e+00,  1.76068658e+01,\n",
       "        -4.16600075e-02,  8.19927418e-02,  9.95761836e-01]])"
      ]
     },
     "execution_count": 47,
     "metadata": {},
     "output_type": "execute_result"
    }
   ],
   "source": [
    "folder = r\"C:\\Users\\Brandon Nguyen\\Documents\\Github\\magnetic-sensor-data\\MLX06062024_10mmAboveIsocenter_Z15mm\"\n",
    "locpred, anglepred, Bstdev = importfitting(folder)\n",
    "np.append(locpred, anglepred, axis=1)"
   ]
  },
  {
   "cell_type": "code",
   "execution_count": 48,
   "metadata": {},
   "outputs": [
    {
     "name": "stdout",
     "output_type": "stream",
     "text": [
      "[[-0.06958655  0.06975647  0.99513403]\n",
      " [-0.06971398  0.0348995   0.99695636]\n",
      " [-0.06975647  0.          0.99756405]\n",
      " [-0.06971398 -0.0348995   0.99695636]\n",
      " [-0.06958655 -0.06975647  0.99513403]\n",
      " [-0.03481448  0.06975647  0.99695636]\n",
      " [-0.03487824  0.0348995   0.99878203]\n",
      " [-0.0348995   0.          0.99939083]\n",
      " [-0.03487824 -0.0348995   0.99878203]\n",
      " [-0.03481448 -0.06975647  0.99695636]\n",
      " [ 0.          0.06975647  0.99756405]\n",
      " [ 0.          0.0348995   0.99939083]\n",
      " [ 0.          0.          1.        ]\n",
      " [ 0.         -0.0348995   0.99939083]\n",
      " [ 0.         -0.06975647  0.99756405]\n",
      " [ 0.03481448  0.06975647  0.99695636]\n",
      " [ 0.03487824  0.0348995   0.99878203]\n",
      " [ 0.0348995   0.          0.99939083]\n",
      " [ 0.03487824 -0.0348995   0.99878203]\n",
      " [ 0.03481448 -0.06975647  0.99695636]\n",
      " [ 0.06958655  0.06975647  0.99513403]\n",
      " [ 0.06971398  0.0348995   0.99695636]\n",
      " [ 0.06975647  0.          0.99756405]\n",
      " [ 0.06971398 -0.0348995   0.99695636]\n",
      " [ 0.06958655 -0.06975647  0.99513403]]\n",
      "[-4 -4 -4 -4 -4 -2 -2 -2 -2 -2  0  0  0  0  0  2  2  2  2  2  4  4  4  4\n",
      "  4]\n",
      "[-4 -2  0  2  4 -4 -2  0  2  4 -4 -2  0  2  4 -4 -2  0  2  4 -4 -2  0  2\n",
      "  4]\n"
     ]
    }
   ],
   "source": [
    "actang = [np.array([0, 0, 0])]\n",
    "xact = [np.array([0])]\n",
    "yact = [np.array([0])]\n",
    "for y in range(5):\n",
    "    for x in range(5):\n",
    "        R = Rotation.from_euler('ZYX' ,np.array([0, 2*y-4, 2*x-4]), degrees=True)\n",
    "        norm = np.array([[0, 0, 1]])\n",
    "        rotated = R.apply(norm, inverse=False)[0]\n",
    "        #add = np.array([np.sin(np.deg2rad(2*y-4)), -np.sin(np.deg2rad(2*x-4)), np.cos(np.deg2rad(2*y-4))*np.cos(np.deg2rad(2*x-4))])\n",
    "        actang = np.append(actang, [rotated], axis=0)\n",
    "        xact = np.append(xact, [2*y-4])\n",
    "        yact = np.append(yact, [2*x-4])\n",
    "actang = np.delete(actang, 0, axis=0)\n",
    "xact = np.delete(xact, 0, axis=0)\n",
    "yact = np.delete(yact, 0, axis=0)\n",
    "locact = actang*12\n",
    "np.sum(actang**2)\n",
    "print(actang)\n",
    "print(xact)\n",
    "print(yact)"
   ]
  },
  {
   "cell_type": "markdown",
   "metadata": {},
   "source": [
    "Try cylindrical formula instead of dipole. \n",
    "Figure out how to calibrate rotation stage setup. (Rotate about z-axis,...)\n",
    "Calculate closest of magnet to sensors - for scaling\n",
    "Plot angles for comparison\n",
    "Go from [4,4] to [-4,-4]\n",
    "Spherical magnets???"
   ]
  },
  {
   "cell_type": "code",
   "execution_count": 49,
   "metadata": {},
   "outputs": [
    {
     "data": {
      "image/png": "[encoded data removed]",
      "text/plain": [
       "<Figure size 800x600 with 1 Axes>"
      ]
     },
     "metadata": {},
     "output_type": "display_data"
    },
    {
     "data": {
      "image/png": "[encoded data removed]",
      "text/plain": [
       "<Figure size 800x600 with 1 Axes>"
      ]
     },
     "metadata": {},
     "output_type": "display_data"
    },
    {
     "data": {
      "image/png": "[encoded data removed]",
      "text/plain": [
       "<Figure size 800x600 with 1 Axes>"
      ]
     },
     "metadata": {},
     "output_type": "display_data"
    },
    {
     "data": {
      "image/png": "[encoded data removed]",
      "text/plain": [
       "<Figure size 800x600 with 1 Axes>"
      ]
     },
     "metadata": {},
     "output_type": "display_data"
    }
   ],
   "source": [
    "comparison_plot(actang, anglepred, axis='x', relative=False)\n",
    "comparison_plot(actang, anglepred, axis='y', relative=False)\n",
    "comparison_plot(actang, anglepred, axis='z', relative=False)\n",
    "displacement_plot(locact, locpred)"
   ]
  },
  {
   "cell_type": "code",
   "execution_count": 50,
   "metadata": {},
   "outputs": [
    {
     "data": {
      "application/vnd.plotly.v1+json": {
       "config": {
        "plotlyServerURL": "https://plot.ly"
       },
       "data": [
        {
         "name": "Predicted",
         "type": "scatter3d",
         "x": [
          -4,
          -4,
          -4,
          -4,
          -4,
          -2,
          -2,
          -2,
          -2,
          -2,
          0,
          0,
          0,
          0,
          0,
          2,
          2,
          2,
          2,
          2,
          4,
          4,
          4,
          4,
          4
         ],
         "y": [
          -4,
          -2,
          0,
          2,
          4,
          -4,
          -2,
          0,
          2,
          4,
          -4,
          -2,
          0,
          2,
          4,
          -4,
          -2,
          0,
          2,
          4,
          -4,
          -2,
          0,
          2,
          4
         ],
         "z": [
          -0.15279939094079825,
          -0.15218666584850374,
          -0.1520222386761074,
          -0.15129553689923678,
          -0.15088614707593082,
          -0.1289588907881638,
          -0.12964062141044966,
          -0.12788882718431874,
          -0.1295534888881855,
          -0.12572404221369657,
          -0.10538581206194156,
          -0.1037922657093539,
          -0.13158747854040223,
          -0.10123336398786117,
          -0.09953976532328135,
          -0.07899825840051061,
          -0.07806642300186899,
          -0.07604319818757631,
          -0.07363599001257193,
          -0.0719322993398756,
          -0.052760904099099844,
          -0.050862916081742884,
          -0.04841393942113515,
          -0.045916219747172554,
          -0.04166000747818545
         ]
        },
        {
         "name": "Actual",
         "type": "scatter3d",
         "x": [
          -4,
          -4,
          -4,
          -4,
          -4,
          -2,
          -2,
          -2,
          -2,
          -2,
          0,
          0,
          0,
          0,
          0,
          2,
          2,
          2,
          2,
          2,
          4,
          4,
          4,
          4,
          4
         ],
         "y": [
          -4,
          -2,
          0,
          2,
          4,
          -4,
          -2,
          0,
          2,
          4,
          -4,
          -2,
          0,
          2,
          4,
          -4,
          -2,
          0,
          2,
          4,
          -4,
          -2,
          0,
          2,
          4
         ],
         "z": [
          -0.06958655048003273,
          -0.06971397998507722,
          -0.0697564737441253,
          -0.06971397998507722,
          -0.06958655048003273,
          -0.034814483282576254,
          -0.03487823687206265,
          -0.03489949670250097,
          -0.03487823687206265,
          -0.034814483282576254,
          0,
          0,
          0,
          0,
          0,
          0.034814483282576254,
          0.03487823687206265,
          0.03489949670250097,
          0.03487823687206265,
          0.034814483282576254,
          0.06958655048003273,
          0.06971397998507722,
          0.0697564737441253,
          0.06971397998507722,
          0.06958655048003273
         ]
        }
       ],
       "layout": {
        "template": {
         "data": {
          "bar": [
           {
            "error_x": {
             "color": "#2a3f5f"
            },
            "error_y": {
             "color": "#2a3f5f"
            },
            "marker": {
             "line": {
              "color": "#E5ECF6",
              "width": 0.5
             },
             "pattern": {
              "fillmode": "overlay",
              "size": 10,
              "solidity": 0.2
             }
            },
            "type": "bar"
           }
          ],
          "barpolar": [
           {
            "marker": {
             "line": {
              "color": "#E5ECF6",
              "width": 0.5
             },
             "pattern": {
              "fillmode": "overlay",
              "size": 10,
              "solidity": 0.2
             }
            },
            "type": "barpolar"
           }
          ],
          "carpet": [
           {
            "aaxis": {
             "endlinecolor": "#2a3f5f",
             "gridcolor": "white",
             "linecolor": "white",
             "minorgridcolor": "white",
             "startlinecolor": "#2a3f5f"
            },
            "baxis": {
             "endlinecolor": "#2a3f5f",
             "gridcolor": "white",
             "linecolor": "white",
             "minorgridcolor": "white",
             "startlinecolor": "#2a3f5f"
            },
            "type": "carpet"
           }
          ],
          "choropleth": [
           {
            "colorbar": {
             "outlinewidth": 0,
             "ticks": ""
            },
            "type": "choropleth"
           }
          ],
          "contour": [
           {
            "colorbar": {
             "outlinewidth": 0,
             "ticks": ""
            },
            "colorscale": [
             [
              0,
              "#0d0887"
             ],
             [
              0.1111111111111111,
              "#46039f"
             ],
             [
              0.2222222222222222,
              "#7201a8"
             ],
             [
              0.3333333333333333,
              "#9c179e"
             ],
             [
              0.4444444444444444,
              "#bd3786"
             ],
             [
              0.5555555555555556,
              "#d8576b"
             ],
             [
              0.6666666666666666,
              "#ed7953"
             ],
             [
              0.7777777777777778,
              "#fb9f3a"
             ],
             [
              0.8888888888888888,
              "#fdca26"
             ],
             [
              1,
              "#f0f921"
             ]
            ],
            "type": "contour"
           }
          ],
          "contourcarpet": [
           {
            "colorbar": {
             "outlinewidth": 0,
             "ticks": ""
            },
            "type": "contourcarpet"
           }
          ],
          "heatmap": [
           {
            "colorbar": {
             "outlinewidth": 0,
             "ticks": ""
            },
            "colorscale": [
             [
              0,
              "#0d0887"
             ],
             [
              0.1111111111111111,
              "#46039f"
             ],
             [
              0.2222222222222222,
              "#7201a8"
             ],
             [
              0.3333333333333333,
              "#9c179e"
             ],
             [
              0.4444444444444444,
              "#bd3786"
             ],
             [
              0.5555555555555556,
              "#d8576b"
             ],
             [
              0.6666666666666666,
              "#ed7953"
             ],
             [
              0.7777777777777778,
              "#fb9f3a"
             ],
             [
              0.8888888888888888,
              "#fdca26"
             ],
             [
              1,
              "#f0f921"
             ]
            ],
            "type": "heatmap"
           }
          ],
          "heatmapgl": [
           {
            "colorbar": {
             "outlinewidth": 0,
             "ticks": ""
            },
            "colorscale": [
             [
              0,
              "#0d0887"
             ],
             [
              0.1111111111111111,
              "#46039f"
             ],
             [
              0.2222222222222222,
              "#7201a8"
             ],
             [
              0.3333333333333333,
              "#9c179e"
             ],
             [
              0.4444444444444444,
              "#bd3786"
             ],
             [
              0.5555555555555556,
              "#d8576b"
             ],
             [
              0.6666666666666666,
              "#ed7953"
             ],
             [
              0.7777777777777778,
              "#fb9f3a"
             ],
             [
              0.8888888888888888,
              "#fdca26"
             ],
             [
              1,
              "#f0f921"
             ]
            ],
            "type": "heatmapgl"
           }
          ],
          "histogram": [
           {
            "marker": {
             "pattern": {
              "fillmode": "overlay",
              "size": 10,
              "solidity": 0.2
             }
            },
            "type": "histogram"
           }
          ],
          "histogram2d": [
           {
            "colorbar": {
             "outlinewidth": 0,
             "ticks": ""
            },
            "colorscale": [
             [
              0,
              "#0d0887"
             ],
             [
              0.1111111111111111,
              "#46039f"
             ],
             [
              0.2222222222222222,
              "#7201a8"
             ],
             [
              0.3333333333333333,
              "#9c179e"
             ],
             [
              0.4444444444444444,
              "#bd3786"
             ],
             [
              0.5555555555555556,
              "#d8576b"
             ],
             [
              0.6666666666666666,
              "#ed7953"
             ],
             [
              0.7777777777777778,
              "#fb9f3a"
             ],
             [
              0.8888888888888888,
              "#fdca26"
             ],
             [
              1,
              "#f0f921"
             ]
            ],
            "type": "histogram2d"
           }
          ],
          "histogram2dcontour": [
           {
            "colorbar": {
             "outlinewidth": 0,
             "ticks": ""
            },
            "colorscale": [
             [
              0,
              "#0d0887"
             ],
             [
              0.1111111111111111,
              "#46039f"
             ],
             [
              0.2222222222222222,
              "#7201a8"
             ],
             [
              0.3333333333333333,
              "#9c179e"
             ],
             [
              0.4444444444444444,
              "#bd3786"
             ],
             [
              0.5555555555555556,
              "#d8576b"
             ],
             [
              0.6666666666666666,
              "#ed7953"
             ],
             [
              0.7777777777777778,
              "#fb9f3a"
             ],
             [
              0.8888888888888888,
              "#fdca26"
             ],
             [
              1,
              "#f0f921"
             ]
            ],
            "type": "histogram2dcontour"
           }
          ],
          "mesh3d": [
           {
            "colorbar": {
             "outlinewidth": 0,
             "ticks": ""
            },
            "type": "mesh3d"
           }
          ],
          "parcoords": [
           {
            "line": {
             "colorbar": {
              "outlinewidth": 0,
              "ticks": ""
             }
            },
            "type": "parcoords"
           }
          ],
          "pie": [
           {
            "automargin": true,
            "type": "pie"
           }
          ],
          "scatter": [
           {
            "fillpattern": {
             "fillmode": "overlay",
             "size": 10,
             "solidity": 0.2
            },
            "type": "scatter"
           }
          ],
          "scatter3d": [
           {
            "line": {
             "colorbar": {
              "outlinewidth": 0,
              "ticks": ""
             }
            },
            "marker": {
             "colorbar": {
              "outlinewidth": 0,
              "ticks": ""
             }
            },
            "type": "scatter3d"
           }
          ],
          "scattercarpet": [
           {
            "marker": {
             "colorbar": {
              "outlinewidth": 0,
              "ticks": ""
             }
            },
            "type": "scattercarpet"
           }
          ],
          "scattergeo": [
           {
            "marker": {
             "colorbar": {
              "outlinewidth": 0,
              "ticks": ""
             }
            },
            "type": "scattergeo"
           }
          ],
          "scattergl": [
           {
            "marker": {
             "colorbar": {
              "outlinewidth": 0,
              "ticks": ""
             }
            },
            "type": "scattergl"
           }
          ],
          "scattermapbox": [
           {
            "marker": {
             "colorbar": {
              "outlinewidth": 0,
              "ticks": ""
             }
            },
            "type": "scattermapbox"
           }
          ],
          "scatterpolar": [
           {
            "marker": {
             "colorbar": {
              "outlinewidth": 0,
              "ticks": ""
             }
            },
            "type": "scatterpolar"
           }
          ],
          "scatterpolargl": [
           {
            "marker": {
             "colorbar": {
              "outlinewidth": 0,
              "ticks": ""
             }
            },
            "type": "scatterpolargl"
           }
          ],
          "scatterternary": [
           {
            "marker": {
             "colorbar": {
              "outlinewidth": 0,
              "ticks": ""
             }
            },
            "type": "scatterternary"
           }
          ],
          "surface": [
           {
            "colorbar": {
             "outlinewidth": 0,
             "ticks": ""
            },
            "colorscale": [
             [
              0,
              "#0d0887"
             ],
             [
              0.1111111111111111,
              "#46039f"
             ],
             [
              0.2222222222222222,
              "#7201a8"
             ],
             [
              0.3333333333333333,
              "#9c179e"
             ],
             [
              0.4444444444444444,
              "#bd3786"
             ],
             [
              0.5555555555555556,
              "#d8576b"
             ],
             [
              0.6666666666666666,
              "#ed7953"
             ],
             [
              0.7777777777777778,
              "#fb9f3a"
             ],
             [
              0.8888888888888888,
              "#fdca26"
             ],
             [
              1,
              "#f0f921"
             ]
            ],
            "type": "surface"
           }
          ],
          "table": [
           {
            "cells": {
             "fill": {
              "color": "#EBF0F8"
             },
             "line": {
              "color": "white"
             }
            },
            "header": {
             "fill": {
              "color": "#C8D4E3"
             },
             "line": {
              "color": "white"
             }
            },
            "type": "table"
           }
          ]
         },
         "layout": {
          "annotationdefaults": {
           "arrowcolor": "#2a3f5f",
           "arrowhead": 0,
           "arrowwidth": 1
          },
          "autotypenumbers": "strict",
          "coloraxis": {
           "colorbar": {
            "outlinewidth": 0,
            "ticks": ""
           }
          },
          "colorscale": {
           "diverging": [
            [
             0,
             "#8e0152"
            ],
            [
             0.1,
             "#c51b7d"
            ],
            [
             0.2,
             "#de77ae"
            ],
            [
             0.3,
             "#f1b6da"
            ],
            [
             0.4,
             "#fde0ef"
            ],
            [
             0.5,
             "#f7f7f7"
            ],
            [
             0.6,
             "#e6f5d0"
            ],
            [
             0.7,
             "#b8e186"
            ],
            [
             0.8,
             "#7fbc41"
            ],
            [
             0.9,
             "#4d9221"
            ],
            [
             1,
             "#276419"
            ]
           ],
           "sequential": [
            [
             0,
             "#0d0887"
            ],
            [
             0.1111111111111111,
             "#46039f"
            ],
            [
             0.2222222222222222,
             "#7201a8"
            ],
            [
             0.3333333333333333,
             "#9c179e"
            ],
            [
             0.4444444444444444,
             "#bd3786"
            ],
            [
             0.5555555555555556,
             "#d8576b"
            ],
            [
             0.6666666666666666,
             "#ed7953"
            ],
            [
             0.7777777777777778,
             "#fb9f3a"
            ],
            [
             0.8888888888888888,
             "#fdca26"
            ],
            [
             1,
             "#f0f921"
            ]
           ],
           "sequentialminus": [
            [
             0,
             "#0d0887"
            ],
            [
             0.1111111111111111,
             "#46039f"
            ],
            [
             0.2222222222222222,
             "#7201a8"
            ],
            [
             0.3333333333333333,
             "#9c179e"
            ],
            [
             0.4444444444444444,
             "#bd3786"
            ],
            [
             0.5555555555555556,
             "#d8576b"
            ],
            [
             0.6666666666666666,
             "#ed7953"
            ],
            [
             0.7777777777777778,
             "#fb9f3a"
            ],
            [
             0.8888888888888888,
             "#fdca26"
            ],
            [
             1,
             "#f0f921"
            ]
           ]
          },
          "colorway": [
           "#636efa",
           "#EF553B",
           "#00cc96",
           "#ab63fa",
           "#FFA15A",
           "#19d3f3",
           "#FF6692",
           "#B6E880",
           "#FF97FF",
           "#FECB52"
          ],
          "font": {
           "color": "#2a3f5f"
          },
          "geo": {
           "bgcolor": "white",
           "lakecolor": "white",
           "landcolor": "#E5ECF6",
           "showlakes": true,
           "showland": true,
           "subunitcolor": "white"
          },
          "hoverlabel": {
           "align": "left"
          },
          "hovermode": "closest",
          "mapbox": {
           "style": "light"
          },
          "paper_bgcolor": "white",
          "plot_bgcolor": "#E5ECF6",
          "polar": {
           "angularaxis": {
            "gridcolor": "white",
            "linecolor": "white",
            "ticks": ""
           },
           "bgcolor": "#E5ECF6",
           "radialaxis": {
            "gridcolor": "white",
            "linecolor": "white",
            "ticks": ""
           }
          },
          "scene": {
           "xaxis": {
            "backgroundcolor": "#E5ECF6",
            "gridcolor": "white",
            "gridwidth": 2,
            "linecolor": "white",
            "showbackground": true,
            "ticks": "",
            "zerolinecolor": "white"
           },
           "yaxis": {
            "backgroundcolor": "#E5ECF6",
            "gridcolor": "white",
            "gridwidth": 2,
            "linecolor": "white",
            "showbackground": true,
            "ticks": "",
            "zerolinecolor": "white"
           },
           "zaxis": {
            "backgroundcolor": "#E5ECF6",
            "gridcolor": "white",
            "gridwidth": 2,
            "linecolor": "white",
            "showbackground": true,
            "ticks": "",
            "zerolinecolor": "white"
           }
          },
          "shapedefaults": {
           "line": {
            "color": "#2a3f5f"
           }
          },
          "ternary": {
           "aaxis": {
            "gridcolor": "white",
            "linecolor": "white",
            "ticks": ""
           },
           "baxis": {
            "gridcolor": "white",
            "linecolor": "white",
            "ticks": ""
           },
           "bgcolor": "#E5ECF6",
           "caxis": {
            "gridcolor": "white",
            "linecolor": "white",
            "ticks": ""
           }
          },
          "title": {
           "x": 0.05
          },
          "xaxis": {
           "automargin": true,
           "gridcolor": "white",
           "linecolor": "white",
           "ticks": "",
           "title": {
            "standoff": 15
           },
           "zerolinecolor": "white",
           "zerolinewidth": 2
          },
          "yaxis": {
           "automargin": true,
           "gridcolor": "white",
           "linecolor": "white",
           "ticks": "",
           "title": {
            "standoff": 15
           },
           "zerolinecolor": "white",
           "zerolinewidth": 2
          }
         }
        }
       }
      }
     },
     "metadata": {},
     "output_type": "display_data"
    },
    {
     "data": {
      "application/vnd.plotly.v1+json": {
       "config": {
        "plotlyServerURL": "https://plot.ly"
       },
       "data": [
        {
         "name": "Predicted",
         "type": "scatter3d",
         "x": [
          -4,
          -4,
          -4,
          -4,
          -4,
          -2,
          -2,
          -2,
          -2,
          -2,
          0,
          0,
          0,
          0,
          0,
          2,
          2,
          2,
          2,
          2,
          4,
          4,
          4,
          4,
          4
         ],
         "y": [
          -4,
          -2,
          0,
          2,
          4,
          -4,
          -2,
          0,
          2,
          4,
          -4,
          -2,
          0,
          2,
          4,
          -4,
          -2,
          0,
          2,
          4,
          -4,
          -2,
          0,
          2,
          4
         ],
         "z": [
          0.17012780895097504,
          0.14543614173676994,
          0.12497292291308353,
          0.1000537088339856,
          0.07435179841216893,
          0.17123262683896057,
          0.14588587404758993,
          0.12481294974837466,
          0.09788991208325934,
          0.07578907180486781,
          0.17434761707139548,
          0.15068544008031864,
          0.15298186122292834,
          0.1049485922343826,
          0.07877403981051195,
          0.17748603711649133,
          0.1544705697704941,
          0.1315130361189454,
          0.10678443853843332,
          0.07974850468205047,
          0.1814446223520355,
          0.1575349417742063,
          0.1343628616535406,
          0.10909597983861712,
          0.08199274178820463
         ]
        },
        {
         "name": "Actual",
         "type": "scatter3d",
         "x": [
          -4,
          -4,
          -4,
          -4,
          -4,
          -2,
          -2,
          -2,
          -2,
          -2,
          0,
          0,
          0,
          0,
          0,
          2,
          2,
          2,
          2,
          2,
          4,
          4,
          4,
          4,
          4
         ],
         "y": [
          -4,
          -2,
          0,
          2,
          4,
          -4,
          -2,
          0,
          2,
          4,
          -4,
          -2,
          0,
          2,
          4,
          -4,
          -2,
          0,
          2,
          4,
          -4,
          -2,
          0,
          2,
          4
         ],
         "z": [
          0.0697564737441253,
          0.03489949670250097,
          0,
          -0.03489949670250097,
          -0.0697564737441253,
          0.0697564737441253,
          0.034899496702500976,
          0,
          -0.034899496702500976,
          -0.0697564737441253,
          0.0697564737441253,
          0.03489949670250097,
          0,
          -0.03489949670250097,
          -0.0697564737441253,
          0.0697564737441253,
          0.034899496702500976,
          0,
          -0.034899496702500976,
          -0.0697564737441253,
          0.0697564737441253,
          0.03489949670250097,
          0,
          -0.03489949670250097,
          -0.0697564737441253
         ]
        }
       ],
       "layout": {
        "template": {
         "data": {
          "bar": [
           {
            "error_x": {
             "color": "#2a3f5f"
            },
            "error_y": {
             "color": "#2a3f5f"
            },
            "marker": {
             "line": {
              "color": "#E5ECF6",
              "width": 0.5
             },
             "pattern": {
              "fillmode": "overlay",
              "size": 10,
              "solidity": 0.2
             }
            },
            "type": "bar"
           }
          ],
          "barpolar": [
           {
            "marker": {
             "line": {
              "color": "#E5ECF6",
              "width": 0.5
             },
             "pattern": {
              "fillmode": "overlay",
              "size": 10,
              "solidity": 0.2
             }
            },
            "type": "barpolar"
           }
          ],
          "carpet": [
           {
            "aaxis": {
             "endlinecolor": "#2a3f5f",
             "gridcolor": "white",
             "linecolor": "white",
             "minorgridcolor": "white",
             "startlinecolor": "#2a3f5f"
            },
            "baxis": {
             "endlinecolor": "#2a3f5f",
             "gridcolor": "white",
             "linecolor": "white",
             "minorgridcolor": "white",
             "startlinecolor": "#2a3f5f"
            },
            "type": "carpet"
           }
          ],
          "choropleth": [
           {
            "colorbar": {
             "outlinewidth": 0,
             "ticks": ""
            },
            "type": "choropleth"
           }
          ],
          "contour": [
           {
            "colorbar": {
             "outlinewidth": 0,
             "ticks": ""
            },
            "colorscale": [
             [
              0,
              "#0d0887"
             ],
             [
              0.1111111111111111,
              "#46039f"
             ],
             [
              0.2222222222222222,
              "#7201a8"
             ],
             [
              0.3333333333333333,
              "#9c179e"
             ],
             [
              0.4444444444444444,
              "#bd3786"
             ],
             [
              0.5555555555555556,
              "#d8576b"
             ],
             [
              0.6666666666666666,
              "#ed7953"
             ],
             [
              0.7777777777777778,
              "#fb9f3a"
             ],
             [
              0.8888888888888888,
              "#fdca26"
             ],
             [
              1,
              "#f0f921"
             ]
            ],
            "type": "contour"
           }
          ],
          "contourcarpet": [
           {
            "colorbar": {
             "outlinewidth": 0,
             "ticks": ""
            },
            "type": "contourcarpet"
           }
          ],
          "heatmap": [
           {
            "colorbar": {
             "outlinewidth": 0,
             "ticks": ""
            },
            "colorscale": [
             [
              0,
              "#0d0887"
             ],
             [
              0.1111111111111111,
              "#46039f"
             ],
             [
              0.2222222222222222,
              "#7201a8"
             ],
             [
              0.3333333333333333,
              "#9c179e"
             ],
             [
              0.4444444444444444,
              "#bd3786"
             ],
             [
              0.5555555555555556,
              "#d8576b"
             ],
             [
              0.6666666666666666,
              "#ed7953"
             ],
             [
              0.7777777777777778,
              "#fb9f3a"
             ],
             [
              0.8888888888888888,
              "#fdca26"
             ],
             [
              1,
              "#f0f921"
             ]
            ],
            "type": "heatmap"
           }
          ],
          "heatmapgl": [
           {
            "colorbar": {
             "outlinewidth": 0,
             "ticks": ""
            },
            "colorscale": [
             [
              0,
              "#0d0887"
             ],
             [
              0.1111111111111111,
              "#46039f"
             ],
             [
              0.2222222222222222,
              "#7201a8"
             ],
             [
              0.3333333333333333,
              "#9c179e"
             ],
             [
              0.4444444444444444,
              "#bd3786"
             ],
             [
              0.5555555555555556,
              "#d8576b"
             ],
             [
              0.6666666666666666,
              "#ed7953"
             ],
             [
              0.7777777777777778,
              "#fb9f3a"
             ],
             [
              0.8888888888888888,
              "#fdca26"
             ],
             [
              1,
              "#f0f921"
             ]
            ],
            "type": "heatmapgl"
           }
          ],
          "histogram": [
           {
            "marker": {
             "pattern": {
              "fillmode": "overlay",
              "size": 10,
              "solidity": 0.2
             }
            },
            "type": "histogram"
           }
          ],
          "histogram2d": [
           {
            "colorbar": {
             "outlinewidth": 0,
             "ticks": ""
            },
            "colorscale": [
             [
              0,
              "#0d0887"
             ],
             [
              0.1111111111111111,
              "#46039f"
             ],
             [
              0.2222222222222222,
              "#7201a8"
             ],
             [
              0.3333333333333333,
              "#9c179e"
             ],
             [
              0.4444444444444444,
              "#bd3786"
             ],
             [
              0.5555555555555556,
              "#d8576b"
             ],
             [
              0.6666666666666666,
              "#ed7953"
             ],
             [
              0.7777777777777778,
              "#fb9f3a"
             ],
             [
              0.8888888888888888,
              "#fdca26"
             ],
             [
              1,
              "#f0f921"
             ]
            ],
            "type": "histogram2d"
           }
          ],
          "histogram2dcontour": [
           {
            "colorbar": {
             "outlinewidth": 0,
             "ticks": ""
            },
            "colorscale": [
             [
              0,
              "#0d0887"
             ],
             [
              0.1111111111111111,
              "#46039f"
             ],
             [
              0.2222222222222222,
              "#7201a8"
             ],
             [
              0.3333333333333333,
              "#9c179e"
             ],
             [
              0.4444444444444444,
              "#bd3786"
             ],
             [
              0.5555555555555556,
              "#d8576b"
             ],
             [
              0.6666666666666666,
              "#ed7953"
             ],
             [
              0.7777777777777778,
              "#fb9f3a"
             ],
             [
              0.8888888888888888,
              "#fdca26"
             ],
             [
              1,
              "#f0f921"
             ]
            ],
            "type": "histogram2dcontour"
           }
          ],
          "mesh3d": [
           {
            "colorbar": {
             "outlinewidth": 0,
             "ticks": ""
            },
            "type": "mesh3d"
           }
          ],
          "parcoords": [
           {
            "line": {
             "colorbar": {
              "outlinewidth": 0,
              "ticks": ""
             }
            },
            "type": "parcoords"
           }
          ],
          "pie": [
           {
            "automargin": true,
            "type": "pie"
           }
          ],
          "scatter": [
           {
            "fillpattern": {
             "fillmode": "overlay",
             "size": 10,
             "solidity": 0.2
            },
            "type": "scatter"
           }
          ],
          "scatter3d": [
           {
            "line": {
             "colorbar": {
              "outlinewidth": 0,
              "ticks": ""
             }
            },
            "marker": {
             "colorbar": {
              "outlinewidth": 0,
              "ticks": ""
             }
            },
            "type": "scatter3d"
           }
          ],
          "scattercarpet": [
           {
            "marker": {
             "colorbar": {
              "outlinewidth": 0,
              "ticks": ""
             }
            },
            "type": "scattercarpet"
           }
          ],
          "scattergeo": [
           {
            "marker": {
             "colorbar": {
              "outlinewidth": 0,
              "ticks": ""
             }
            },
            "type": "scattergeo"
           }
          ],
          "scattergl": [
           {
            "marker": {
             "colorbar": {
              "outlinewidth": 0,
              "ticks": ""
             }
            },
            "type": "scattergl"
           }
          ],
          "scattermapbox": [
           {
            "marker": {
             "colorbar": {
              "outlinewidth": 0,
              "ticks": ""
             }
            },
            "type": "scattermapbox"
           }
          ],
          "scatterpolar": [
           {
            "marker": {
             "colorbar": {
              "outlinewidth": 0,
              "ticks": ""
             }
            },
            "type": "scatterpolar"
           }
          ],
          "scatterpolargl": [
           {
            "marker": {
             "colorbar": {
              "outlinewidth": 0,
              "ticks": ""
             }
            },
            "type": "scatterpolargl"
           }
          ],
          "scatterternary": [
           {
            "marker": {
             "colorbar": {
              "outlinewidth": 0,
              "ticks": ""
             }
            },
            "type": "scatterternary"
           }
          ],
          "surface": [
           {
            "colorbar": {
             "outlinewidth": 0,
             "ticks": ""
            },
            "colorscale": [
             [
              0,
              "#0d0887"
             ],
             [
              0.1111111111111111,
              "#46039f"
             ],
             [
              0.2222222222222222,
              "#7201a8"
             ],
             [
              0.3333333333333333,
              "#9c179e"
             ],
             [
              0.4444444444444444,
              "#bd3786"
             ],
             [
              0.5555555555555556,
              "#d8576b"
             ],
             [
              0.6666666666666666,
              "#ed7953"
             ],
             [
              0.7777777777777778,
              "#fb9f3a"
             ],
             [
              0.8888888888888888,
              "#fdca26"
             ],
             [
              1,
              "#f0f921"
             ]
            ],
            "type": "surface"
           }
          ],
          "table": [
           {
            "cells": {
             "fill": {
              "color": "#EBF0F8"
             },
             "line": {
              "color": "white"
             }
            },
            "header": {
             "fill": {
              "color": "#C8D4E3"
             },
             "line": {
              "color": "white"
             }
            },
            "type": "table"
           }
          ]
         },
         "layout": {
          "annotationdefaults": {
           "arrowcolor": "#2a3f5f",
           "arrowhead": 0,
           "arrowwidth": 1
          },
          "autotypenumbers": "strict",
          "coloraxis": {
           "colorbar": {
            "outlinewidth": 0,
            "ticks": ""
           }
          },
          "colorscale": {
           "diverging": [
            [
             0,
             "#8e0152"
            ],
            [
             0.1,
             "#c51b7d"
            ],
            [
             0.2,
             "#de77ae"
            ],
            [
             0.3,
             "#f1b6da"
            ],
            [
             0.4,
             "#fde0ef"
            ],
            [
             0.5,
             "#f7f7f7"
            ],
            [
             0.6,
             "#e6f5d0"
            ],
            [
             0.7,
             "#b8e186"
            ],
            [
             0.8,
             "#7fbc41"
            ],
            [
             0.9,
             "#4d9221"
            ],
            [
             1,
             "#276419"
            ]
           ],
           "sequential": [
            [
             0,
             "#0d0887"
            ],
            [
             0.1111111111111111,
             "#46039f"
            ],
            [
             0.2222222222222222,
             "#7201a8"
            ],
            [
             0.3333333333333333,
             "#9c179e"
            ],
            [
             0.4444444444444444,
             "#bd3786"
            ],
            [
             0.5555555555555556,
             "#d8576b"
            ],
            [
             0.6666666666666666,
             "#ed7953"
            ],
            [
             0.7777777777777778,
             "#fb9f3a"
            ],
            [
             0.8888888888888888,
             "#fdca26"
            ],
            [
             1,
             "#f0f921"
            ]
           ],
           "sequentialminus": [
            [
             0,
             "#0d0887"
            ],
            [
             0.1111111111111111,
             "#46039f"
            ],
            [
             0.2222222222222222,
             "#7201a8"
            ],
            [
             0.3333333333333333,
             "#9c179e"
            ],
            [
             0.4444444444444444,
             "#bd3786"
            ],
            [
             0.5555555555555556,
             "#d8576b"
            ],
            [
             0.6666666666666666,
             "#ed7953"
            ],
            [
             0.7777777777777778,
             "#fb9f3a"
            ],
            [
             0.8888888888888888,
             "#fdca26"
            ],
            [
             1,
             "#f0f921"
            ]
           ]
          },
          "colorway": [
           "#636efa",
           "#EF553B",
           "#00cc96",
           "#ab63fa",
           "#FFA15A",
           "#19d3f3",
           "#FF6692",
           "#B6E880",
           "#FF97FF",
           "#FECB52"
          ],
          "font": {
           "color": "#2a3f5f"
          },
          "geo": {
           "bgcolor": "white",
           "lakecolor": "white",
           "landcolor": "#E5ECF6",
           "showlakes": true,
           "showland": true,
           "subunitcolor": "white"
          },
          "hoverlabel": {
           "align": "left"
          },
          "hovermode": "closest",
          "mapbox": {
           "style": "light"
          },
          "paper_bgcolor": "white",
          "plot_bgcolor": "#E5ECF6",
          "polar": {
           "angularaxis": {
            "gridcolor": "white",
            "linecolor": "white",
            "ticks": ""
           },
           "bgcolor": "#E5ECF6",
           "radialaxis": {
            "gridcolor": "white",
            "linecolor": "white",
            "ticks": ""
           }
          },
          "scene": {
           "xaxis": {
            "backgroundcolor": "#E5ECF6",
            "gridcolor": "white",
            "gridwidth": 2,
            "linecolor": "white",
            "showbackground": true,
            "ticks": "",
            "zerolinecolor": "white"
           },
           "yaxis": {
            "backgroundcolor": "#E5ECF6",
            "gridcolor": "white",
            "gridwidth": 2,
            "linecolor": "white",
            "showbackground": true,
            "ticks": "",
            "zerolinecolor": "white"
           },
           "zaxis": {
            "backgroundcolor": "#E5ECF6",
            "gridcolor": "white",
            "gridwidth": 2,
            "linecolor": "white",
            "showbackground": true,
            "ticks": "",
            "zerolinecolor": "white"
           }
          },
          "shapedefaults": {
           "line": {
            "color": "#2a3f5f"
           }
          },
          "ternary": {
           "aaxis": {
            "gridcolor": "white",
            "linecolor": "white",
            "ticks": ""
           },
           "baxis": {
            "gridcolor": "white",
            "linecolor": "white",
            "ticks": ""
           },
           "bgcolor": "#E5ECF6",
           "caxis": {
            "gridcolor": "white",
            "linecolor": "white",
            "ticks": ""
           }
          },
          "title": {
           "x": 0.05
          },
          "xaxis": {
           "automargin": true,
           "gridcolor": "white",
           "linecolor": "white",
           "ticks": "",
           "title": {
            "standoff": 15
           },
           "zerolinecolor": "white",
           "zerolinewidth": 2
          },
          "yaxis": {
           "automargin": true,
           "gridcolor": "white",
           "linecolor": "white",
           "ticks": "",
           "title": {
            "standoff": 15
           },
           "zerolinecolor": "white",
           "zerolinewidth": 2
          }
         }
        }
       }
      }
     },
     "metadata": {},
     "output_type": "display_data"
    },
    {
     "data": {
      "application/vnd.plotly.v1+json": {
       "config": {
        "plotlyServerURL": "https://plot.ly"
       },
       "data": [
        {
         "name": "Predicted",
         "type": "scatter3d",
         "x": [
          -4,
          -4,
          -4,
          -4,
          -4,
          -2,
          -2,
          -2,
          -2,
          -2,
          0,
          0,
          0,
          0,
          0,
          2,
          2,
          2,
          2,
          2,
          4,
          4,
          4,
          4,
          4
         ],
         "y": [
          -4,
          -2,
          0,
          2,
          4,
          -4,
          -2,
          0,
          2,
          4,
          -4,
          -2,
          0,
          2,
          4,
          -4,
          -2,
          0,
          2,
          4,
          -4,
          -2,
          0,
          2,
          4
         ],
         "z": [
          0.9735034025362529,
          0.9775927308519832,
          0.9804442908633132,
          0.9834118749857232,
          0.985751074406443,
          0.9767543150621428,
          0.9807704221853774,
          0.9839035397113526,
          0.9867286651502789,
          0.9891660537060526,
          0.9790284669188998,
          0.9831180314319943,
          0.9794290610494198,
          0.9893116794032721,
          0.9919105230671353,
          0.9809474918660884,
          0.9849083595312166,
          0.988393521498488,
          0.9915517256607947,
          0.9942162341828137,
          0.9819847941888779,
          0.9862026697833762,
          0.9897488125165891,
          0.9929701747520826,
          0.995761836018519
         ]
        },
        {
         "name": "Actual",
         "type": "scatter3d",
         "x": [
          -4,
          -4,
          -4,
          -4,
          -4,
          -2,
          -2,
          -2,
          -2,
          -2,
          0,
          0,
          0,
          0,
          0,
          2,
          2,
          2,
          2,
          2,
          4,
          4,
          4,
          4,
          4
         ],
         "y": [
          -4,
          -2,
          0,
          2,
          4,
          -4,
          -2,
          0,
          2,
          4,
          -4,
          -2,
          0,
          2,
          4,
          -4,
          -2,
          0,
          2,
          4,
          -4,
          -2,
          0,
          2,
          4
         ],
         "z": [
          0.9951340343707853,
          0.9969563611936847,
          0.9975640502598243,
          0.9969563611936847,
          0.9951340343707853,
          0.9969563611936847,
          0.9987820251299122,
          0.9993908270190958,
          0.9987820251299122,
          0.9969563611936847,
          0.9975640502598243,
          0.9993908270190958,
          1,
          0.9993908270190958,
          0.9975640502598243,
          0.9969563611936847,
          0.9987820251299122,
          0.9993908270190958,
          0.9987820251299122,
          0.9969563611936847,
          0.9951340343707853,
          0.9969563611936847,
          0.9975640502598243,
          0.9969563611936847,
          0.9951340343707853
         ]
        }
       ],
       "layout": {
        "template": {
         "data": {
          "bar": [
           {
            "error_x": {
             "color": "#2a3f5f"
            },
            "error_y": {
             "color": "#2a3f5f"
            },
            "marker": {
             "line": {
              "color": "#E5ECF6",
              "width": 0.5
             },
             "pattern": {
              "fillmode": "overlay",
              "size": 10,
              "solidity": 0.2
             }
            },
            "type": "bar"
           }
          ],
          "barpolar": [
           {
            "marker": {
             "line": {
              "color": "#E5ECF6",
              "width": 0.5
             },
             "pattern": {
              "fillmode": "overlay",
              "size": 10,
              "solidity": 0.2
             }
            },
            "type": "barpolar"
           }
          ],
          "carpet": [
           {
            "aaxis": {
             "endlinecolor": "#2a3f5f",
             "gridcolor": "white",
             "linecolor": "white",
             "minorgridcolor": "white",
             "startlinecolor": "#2a3f5f"
            },
            "baxis": {
             "endlinecolor": "#2a3f5f",
             "gridcolor": "white",
             "linecolor": "white",
             "minorgridcolor": "white",
             "startlinecolor": "#2a3f5f"
            },
            "type": "carpet"
           }
          ],
          "choropleth": [
           {
            "colorbar": {
             "outlinewidth": 0,
             "ticks": ""
            },
            "type": "choropleth"
           }
          ],
          "contour": [
           {
            "colorbar": {
             "outlinewidth": 0,
             "ticks": ""
            },
            "colorscale": [
             [
              0,
              "#0d0887"
             ],
             [
              0.1111111111111111,
              "#46039f"
             ],
             [
              0.2222222222222222,
              "#7201a8"
             ],
             [
              0.3333333333333333,
              "#9c179e"
             ],
             [
              0.4444444444444444,
              "#bd3786"
             ],
             [
              0.5555555555555556,
              "#d8576b"
             ],
             [
              0.6666666666666666,
              "#ed7953"
             ],
             [
              0.7777777777777778,
              "#fb9f3a"
             ],
             [
              0.8888888888888888,
              "#fdca26"
             ],
             [
              1,
              "#f0f921"
             ]
            ],
            "type": "contour"
           }
          ],
          "contourcarpet": [
           {
            "colorbar": {
             "outlinewidth": 0,
             "ticks": ""
            },
            "type": "contourcarpet"
           }
          ],
          "heatmap": [
           {
            "colorbar": {
             "outlinewidth": 0,
             "ticks": ""
            },
            "colorscale": [
             [
              0,
              "#0d0887"
             ],
             [
              0.1111111111111111,
              "#46039f"
             ],
             [
              0.2222222222222222,
              "#7201a8"
             ],
             [
              0.3333333333333333,
              "#9c179e"
             ],
             [
              0.4444444444444444,
              "#bd3786"
             ],
             [
              0.5555555555555556,
              "#d8576b"
             ],
             [
              0.6666666666666666,
              "#ed7953"
             ],
             [
              0.7777777777777778,
              "#fb9f3a"
             ],
             [
              0.8888888888888888,
              "#fdca26"
             ],
             [
              1,
              "#f0f921"
             ]
            ],
            "type": "heatmap"
           }
          ],
          "heatmapgl": [
           {
            "colorbar": {
             "outlinewidth": 0,
             "ticks": ""
            },
            "colorscale": [
             [
              0,
              "#0d0887"
             ],
             [
              0.1111111111111111,
              "#46039f"
             ],
             [
              0.2222222222222222,
              "#7201a8"
             ],
             [
              0.3333333333333333,
              "#9c179e"
             ],
             [
              0.4444444444444444,
              "#bd3786"
             ],
             [
              0.5555555555555556,
              "#d8576b"
             ],
             [
              0.6666666666666666,
              "#ed7953"
             ],
             [
              0.7777777777777778,
              "#fb9f3a"
             ],
             [
              0.8888888888888888,
              "#fdca26"
             ],
             [
              1,
              "#f0f921"
             ]
            ],
            "type": "heatmapgl"
           }
          ],
          "histogram": [
           {
            "marker": {
             "pattern": {
              "fillmode": "overlay",
              "size": 10,
              "solidity": 0.2
             }
            },
            "type": "histogram"
           }
          ],
          "histogram2d": [
           {
            "colorbar": {
             "outlinewidth": 0,
             "ticks": ""
            },
            "colorscale": [
             [
              0,
              "#0d0887"
             ],
             [
              0.1111111111111111,
              "#46039f"
             ],
             [
              0.2222222222222222,
              "#7201a8"
             ],
             [
              0.3333333333333333,
              "#9c179e"
             ],
             [
              0.4444444444444444,
              "#bd3786"
             ],
             [
              0.5555555555555556,
              "#d8576b"
             ],
             [
              0.6666666666666666,
              "#ed7953"
             ],
             [
              0.7777777777777778,
              "#fb9f3a"
             ],
             [
              0.8888888888888888,
              "#fdca26"
             ],
             [
              1,
              "#f0f921"
             ]
            ],
            "type": "histogram2d"
           }
          ],
          "histogram2dcontour": [
           {
            "colorbar": {
             "outlinewidth": 0,
             "ticks": ""
            },
            "colorscale": [
             [
              0,
              "#0d0887"
             ],
             [
              0.1111111111111111,
              "#46039f"
             ],
             [
              0.2222222222222222,
              "#7201a8"
             ],
             [
              0.3333333333333333,
              "#9c179e"
             ],
             [
              0.4444444444444444,
              "#bd3786"
             ],
             [
              0.5555555555555556,
              "#d8576b"
             ],
             [
              0.6666666666666666,
              "#ed7953"
             ],
             [
              0.7777777777777778,
              "#fb9f3a"
             ],
             [
              0.8888888888888888,
              "#fdca26"
             ],
             [
              1,
              "#f0f921"
             ]
            ],
            "type": "histogram2dcontour"
           }
          ],
          "mesh3d": [
           {
            "colorbar": {
             "outlinewidth": 0,
             "ticks": ""
            },
            "type": "mesh3d"
           }
          ],
          "parcoords": [
           {
            "line": {
             "colorbar": {
              "outlinewidth": 0,
              "ticks": ""
             }
            },
            "type": "parcoords"
           }
          ],
          "pie": [
           {
            "automargin": true,
            "type": "pie"
           }
          ],
          "scatter": [
           {
            "fillpattern": {
             "fillmode": "overlay",
             "size": 10,
             "solidity": 0.2
            },
            "type": "scatter"
           }
          ],
          "scatter3d": [
           {
            "line": {
             "colorbar": {
              "outlinewidth": 0,
              "ticks": ""
             }
            },
            "marker": {
             "colorbar": {
              "outlinewidth": 0,
              "ticks": ""
             }
            },
            "type": "scatter3d"
           }
          ],
          "scattercarpet": [
           {
            "marker": {
             "colorbar": {
              "outlinewidth": 0,
              "ticks": ""
             }
            },
            "type": "scattercarpet"
           }
          ],
          "scattergeo": [
           {
            "marker": {
             "colorbar": {
              "outlinewidth": 0,
              "ticks": ""
             }
            },
            "type": "scattergeo"
           }
          ],
          "scattergl": [
           {
            "marker": {
             "colorbar": {
              "outlinewidth": 0,
              "ticks": ""
             }
            },
            "type": "scattergl"
           }
          ],
          "scattermapbox": [
           {
            "marker": {
             "colorbar": {
              "outlinewidth": 0,
              "ticks": ""
             }
            },
            "type": "scattermapbox"
           }
          ],
          "scatterpolar": [
           {
            "marker": {
             "colorbar": {
              "outlinewidth": 0,
              "ticks": ""
             }
            },
            "type": "scatterpolar"
           }
          ],
          "scatterpolargl": [
           {
            "marker": {
             "colorbar": {
              "outlinewidth": 0,
              "ticks": ""
             }
            },
            "type": "scatterpolargl"
           }
          ],
          "scatterternary": [
           {
            "marker": {
             "colorbar": {
              "outlinewidth": 0,
              "ticks": ""
             }
            },
            "type": "scatterternary"
           }
          ],
          "surface": [
           {
            "colorbar": {
             "outlinewidth": 0,
             "ticks": ""
            },
            "colorscale": [
             [
              0,
              "#0d0887"
             ],
             [
              0.1111111111111111,
              "#46039f"
             ],
             [
              0.2222222222222222,
              "#7201a8"
             ],
             [
              0.3333333333333333,
              "#9c179e"
             ],
             [
              0.4444444444444444,
              "#bd3786"
             ],
             [
              0.5555555555555556,
              "#d8576b"
             ],
             [
              0.6666666666666666,
              "#ed7953"
             ],
             [
              0.7777777777777778,
              "#fb9f3a"
             ],
             [
              0.8888888888888888,
              "#fdca26"
             ],
             [
              1,
              "#f0f921"
             ]
            ],
            "type": "surface"
           }
          ],
          "table": [
           {
            "cells": {
             "fill": {
              "color": "#EBF0F8"
             },
             "line": {
              "color": "white"
             }
            },
            "header": {
             "fill": {
              "color": "#C8D4E3"
             },
             "line": {
              "color": "white"
             }
            },
            "type": "table"
           }
          ]
         },
         "layout": {
          "annotationdefaults": {
           "arrowcolor": "#2a3f5f",
           "arrowhead": 0,
           "arrowwidth": 1
          },
          "autotypenumbers": "strict",
          "coloraxis": {
           "colorbar": {
            "outlinewidth": 0,
            "ticks": ""
           }
          },
          "colorscale": {
           "diverging": [
            [
             0,
             "#8e0152"
            ],
            [
             0.1,
             "#c51b7d"
            ],
            [
             0.2,
             "#de77ae"
            ],
            [
             0.3,
             "#f1b6da"
            ],
            [
             0.4,
             "#fde0ef"
            ],
            [
             0.5,
             "#f7f7f7"
            ],
            [
             0.6,
             "#e6f5d0"
            ],
            [
             0.7,
             "#b8e186"
            ],
            [
             0.8,
             "#7fbc41"
            ],
            [
             0.9,
             "#4d9221"
            ],
            [
             1,
             "#276419"
            ]
           ],
           "sequential": [
            [
             0,
             "#0d0887"
            ],
            [
             0.1111111111111111,
             "#46039f"
            ],
            [
             0.2222222222222222,
             "#7201a8"
            ],
            [
             0.3333333333333333,
             "#9c179e"
            ],
            [
             0.4444444444444444,
             "#bd3786"
            ],
            [
             0.5555555555555556,
             "#d8576b"
            ],
            [
             0.6666666666666666,
             "#ed7953"
            ],
            [
             0.7777777777777778,
             "#fb9f3a"
            ],
            [
             0.8888888888888888,
             "#fdca26"
            ],
            [
             1,
             "#f0f921"
            ]
           ],
           "sequentialminus": [
            [
             0,
             "#0d0887"
            ],
            [
             0.1111111111111111,
             "#46039f"
            ],
            [
             0.2222222222222222,
             "#7201a8"
            ],
            [
             0.3333333333333333,
             "#9c179e"
            ],
            [
             0.4444444444444444,
             "#bd3786"
            ],
            [
             0.5555555555555556,
             "#d8576b"
            ],
            [
             0.6666666666666666,
             "#ed7953"
            ],
            [
             0.7777777777777778,
             "#fb9f3a"
            ],
            [
             0.8888888888888888,
             "#fdca26"
            ],
            [
             1,
             "#f0f921"
            ]
           ]
          },
          "colorway": [
           "#636efa",
           "#EF553B",
           "#00cc96",
           "#ab63fa",
           "#FFA15A",
           "#19d3f3",
           "#FF6692",
           "#B6E880",
           "#FF97FF",
           "#FECB52"
          ],
          "font": {
           "color": "#2a3f5f"
          },
          "geo": {
           "bgcolor": "white",
           "lakecolor": "white",
           "landcolor": "#E5ECF6",
           "showlakes": true,
           "showland": true,
           "subunitcolor": "white"
          },
          "hoverlabel": {
           "align": "left"
          },
          "hovermode": "closest",
          "mapbox": {
           "style": "light"
          },
          "paper_bgcolor": "white",
          "plot_bgcolor": "#E5ECF6",
          "polar": {
           "angularaxis": {
            "gridcolor": "white",
            "linecolor": "white",
            "ticks": ""
           },
           "bgcolor": "#E5ECF6",
           "radialaxis": {
            "gridcolor": "white",
            "linecolor": "white",
            "ticks": ""
           }
          },
          "scene": {
           "xaxis": {
            "backgroundcolor": "#E5ECF6",
            "gridcolor": "white",
            "gridwidth": 2,
            "linecolor": "white",
            "showbackground": true,
            "ticks": "",
            "zerolinecolor": "white"
           },
           "yaxis": {
            "backgroundcolor": "#E5ECF6",
            "gridcolor": "white",
            "gridwidth": 2,
            "linecolor": "white",
            "showbackground": true,
            "ticks": "",
            "zerolinecolor": "white"
           },
           "zaxis": {
            "backgroundcolor": "#E5ECF6",
            "gridcolor": "white",
            "gridwidth": 2,
            "linecolor": "white",
            "showbackground": true,
            "ticks": "",
            "zerolinecolor": "white"
           }
          },
          "shapedefaults": {
           "line": {
            "color": "#2a3f5f"
           }
          },
          "ternary": {
           "aaxis": {
            "gridcolor": "white",
            "linecolor": "white",
            "ticks": ""
           },
           "baxis": {
            "gridcolor": "white",
            "linecolor": "white",
            "ticks": ""
           },
           "bgcolor": "#E5ECF6",
           "caxis": {
            "gridcolor": "white",
            "linecolor": "white",
            "ticks": ""
           }
          },
          "title": {
           "x": 0.05
          },
          "xaxis": {
           "automargin": true,
           "gridcolor": "white",
           "linecolor": "white",
           "ticks": "",
           "title": {
            "standoff": 15
           },
           "zerolinecolor": "white",
           "zerolinewidth": 2
          },
          "yaxis": {
           "automargin": true,
           "gridcolor": "white",
           "linecolor": "white",
           "ticks": "",
           "title": {
            "standoff": 15
           },
           "zerolinecolor": "white",
           "zerolinewidth": 2
          }
         }
        }
       }
      }
     },
     "metadata": {},
     "output_type": "display_data"
    }
   ],
   "source": [
    "comp_plot3D(actang, anglepred, xact, yact, axis='x', relative=False)\n",
    "comp_plot3D(actang, anglepred, xact, yact, axis='y', relative=False)\n",
    "comp_plot3D(actang, anglepred, xact, yact, axis='z', relative=False)"
   ]
  },
  {
   "cell_type": "code",
   "execution_count": 51,
   "metadata": {},
   "outputs": [
    {
     "data": {
      "application/vnd.plotly.v1+json": {
       "config": {
        "plotlyServerURL": "https://plot.ly"
       },
       "data": [
        {
         "sizemode": "absolute",
         "sizeref": 2,
         "type": "cone",
         "u": [
          -0.15279939094079825,
          -0.15218666584850374,
          -0.1520222386761074,
          -0.15129553689923678,
          -0.15088614707593082,
          -0.1289588907881638,
          -0.12964062141044966,
          -0.12788882718431874,
          -0.1295534888881855,
          -0.12572404221369657,
          -0.10538581206194156,
          -0.1037922657093539,
          -0.13158747854040223,
          -0.10123336398786117,
          -0.09953976532328135,
          -0.07899825840051061,
          -0.07806642300186899,
          -0.07604319818757631,
          -0.07363599001257193,
          -0.0719322993398756,
          -0.052760904099099844,
          -0.050862916081742884,
          -0.04841393942113515,
          -0.045916219747172554,
          -0.04166000747818545
         ],
         "v": [
          0.17012780895097504,
          0.14543614173676994,
          0.12497292291308353,
          0.1000537088339856,
          0.07435179841216893,
          0.17123262683896057,
          0.14588587404758993,
          0.12481294974837466,
          0.09788991208325934,
          0.07578907180486781,
          0.17434761707139548,
          0.15068544008031864,
          0.15298186122292834,
          0.1049485922343826,
          0.07877403981051195,
          0.17748603711649133,
          0.1544705697704941,
          0.1315130361189454,
          0.10678443853843332,
          0.07974850468205047,
          0.1814446223520355,
          0.1575349417742063,
          0.1343628616535406,
          0.10909597983861712,
          0.08199274178820463
         ],
         "w": [
          0.9735034025362529,
          0.9775927308519832,
          0.9804442908633132,
          0.9834118749857232,
          0.985751074406443,
          0.9767543150621428,
          0.9807704221853774,
          0.9839035397113526,
          0.9867286651502789,
          0.9891660537060526,
          0.9790284669188998,
          0.9831180314319943,
          0.9794290610494198,
          0.9893116794032721,
          0.9919105230671353,
          0.9809474918660884,
          0.9849083595312166,
          0.988393521498488,
          0.9915517256607947,
          0.9942162341828137,
          0.9819847941888779,
          0.9862026697833762,
          0.9897488125165891,
          0.9929701747520826,
          0.995761836018519
         ],
         "x": [
          0.37891272815022303,
          0.38595833286882686,
          0.37011298488492705,
          0.36239295788817133,
          0.34889625927214907,
          -0.001643376413927336,
          -0.019635970306146364,
          -0.022519391140863668,
          -0.04538836479796081,
          -0.041016565323715067,
          -0.4048961225772029,
          -0.3988557053149689,
          -0.6190761351257542,
          -0.42863399167463095,
          -0.43195225086874667,
          -0.792514838161204,
          -0.8062210661028674,
          -0.8189659588404012,
          -0.8118256236447889,
          -0.8230680469719532,
          -1.187929064065174,
          -1.196126472705164,
          -1.2013005942953512,
          -1.2018785320688015,
          -1.1992480874022893
         ],
         "y": [
          -0.3174109486766052,
          0.10093378280061598,
          0.5164869561000053,
          0.9533169354973611,
          1.3604193099190043,
          -0.3244332874555445,
          0.11324484235248966,
          0.501784446628663,
          0.9119856428144364,
          1.3376510268377735,
          -0.3202214266044677,
          0.10784350324854507,
          0.7086884315133816,
          0.9299895650267086,
          1.327950027538671,
          -0.32241655535424707,
          0.10026920928165768,
          0.5166223213747282,
          0.9132639578652566,
          1.3275036623161622,
          -0.33083320299200103,
          0.09764232387023938,
          0.5043865195634882,
          0.9192784568178469,
          1.327253758412
         ],
         "z": [
          17.444118317472093,
          17.430364715247613,
          17.436457665082447,
          17.456375118564456,
          17.489101391816387,
          17.451519546291493,
          17.439308589587704,
          17.442506468089935,
          17.46049188950929,
          17.49726470513817,
          17.474006192630377,
          17.460859086786975,
          17.45996960828666,
          17.48458915010898,
          17.516167363911322,
          17.507429695500495,
          17.494458095907895,
          17.49901342898851,
          17.518374536228865,
          17.554638171916366,
          17.553583618129753,
          17.54438192122771,
          17.549154380917944,
          17.569931787684208,
          17.606865820236738
         ]
        }
       ],
       "layout": {
        "scene": {
         "camera": {
          "eye": {
           "x": -0.76,
           "y": 1.8,
           "z": 0.92
          }
         }
        },
        "template": {
         "data": {
          "bar": [
           {
            "error_x": {
             "color": "#2a3f5f"
            },
            "error_y": {
             "color": "#2a3f5f"
            },
            "marker": {
             "line": {
              "color": "#E5ECF6",
              "width": 0.5
             },
             "pattern": {
              "fillmode": "overlay",
              "size": 10,
              "solidity": 0.2
             }
            },
            "type": "bar"
           }
          ],
          "barpolar": [
           {
            "marker": {
             "line": {
              "color": "#E5ECF6",
              "width": 0.5
             },
             "pattern": {
              "fillmode": "overlay",
              "size": 10,
              "solidity": 0.2
             }
            },
            "type": "barpolar"
           }
          ],
          "carpet": [
           {
            "aaxis": {
             "endlinecolor": "#2a3f5f",
             "gridcolor": "white",
             "linecolor": "white",
             "minorgridcolor": "white",
             "startlinecolor": "#2a3f5f"
            },
            "baxis": {
             "endlinecolor": "#2a3f5f",
             "gridcolor": "white",
             "linecolor": "white",
             "minorgridcolor": "white",
             "startlinecolor": "#2a3f5f"
            },
            "type": "carpet"
           }
          ],
          "choropleth": [
           {
            "colorbar": {
             "outlinewidth": 0,
             "ticks": ""
            },
            "type": "choropleth"
           }
          ],
          "contour": [
           {
            "colorbar": {
             "outlinewidth": 0,
             "ticks": ""
            },
            "colorscale": [
             [
              0,
              "#0d0887"
             ],
             [
              0.1111111111111111,
              "#46039f"
             ],
             [
              0.2222222222222222,
              "#7201a8"
             ],
             [
              0.3333333333333333,
              "#9c179e"
             ],
             [
              0.4444444444444444,
              "#bd3786"
             ],
             [
              0.5555555555555556,
              "#d8576b"
             ],
             [
              0.6666666666666666,
              "#ed7953"
             ],
             [
              0.7777777777777778,
              "#fb9f3a"
             ],
             [
              0.8888888888888888,
              "#fdca26"
             ],
             [
              1,
              "#f0f921"
             ]
            ],
            "type": "contour"
           }
          ],
          "contourcarpet": [
           {
            "colorbar": {
             "outlinewidth": 0,
             "ticks": ""
            },
            "type": "contourcarpet"
           }
          ],
          "heatmap": [
           {
            "colorbar": {
             "outlinewidth": 0,
             "ticks": ""
            },
            "colorscale": [
             [
              0,
              "#0d0887"
             ],
             [
              0.1111111111111111,
              "#46039f"
             ],
             [
              0.2222222222222222,
              "#7201a8"
             ],
             [
              0.3333333333333333,
              "#9c179e"
             ],
             [
              0.4444444444444444,
              "#bd3786"
             ],
             [
              0.5555555555555556,
              "#d8576b"
             ],
             [
              0.6666666666666666,
              "#ed7953"
             ],
             [
              0.7777777777777778,
              "#fb9f3a"
             ],
             [
              0.8888888888888888,
              "#fdca26"
             ],
             [
              1,
              "#f0f921"
             ]
            ],
            "type": "heatmap"
           }
          ],
          "heatmapgl": [
           {
            "colorbar": {
             "outlinewidth": 0,
             "ticks": ""
            },
            "colorscale": [
             [
              0,
              "#0d0887"
             ],
             [
              0.1111111111111111,
              "#46039f"
             ],
             [
              0.2222222222222222,
              "#7201a8"
             ],
             [
              0.3333333333333333,
              "#9c179e"
             ],
             [
              0.4444444444444444,
              "#bd3786"
             ],
             [
              0.5555555555555556,
              "#d8576b"
             ],
             [
              0.6666666666666666,
              "#ed7953"
             ],
             [
              0.7777777777777778,
              "#fb9f3a"
             ],
             [
              0.8888888888888888,
              "#fdca26"
             ],
             [
              1,
              "#f0f921"
             ]
            ],
            "type": "heatmapgl"
           }
          ],
          "histogram": [
           {
            "marker": {
             "pattern": {
              "fillmode": "overlay",
              "size": 10,
              "solidity": 0.2
             }
            },
            "type": "histogram"
           }
          ],
          "histogram2d": [
           {
            "colorbar": {
             "outlinewidth": 0,
             "ticks": ""
            },
            "colorscale": [
             [
              0,
              "#0d0887"
             ],
             [
              0.1111111111111111,
              "#46039f"
             ],
             [
              0.2222222222222222,
              "#7201a8"
             ],
             [
              0.3333333333333333,
              "#9c179e"
             ],
             [
              0.4444444444444444,
              "#bd3786"
             ],
             [
              0.5555555555555556,
              "#d8576b"
             ],
             [
              0.6666666666666666,
              "#ed7953"
             ],
             [
              0.7777777777777778,
              "#fb9f3a"
             ],
             [
              0.8888888888888888,
              "#fdca26"
             ],
             [
              1,
              "#f0f921"
             ]
            ],
            "type": "histogram2d"
           }
          ],
          "histogram2dcontour": [
           {
            "colorbar": {
             "outlinewidth": 0,
             "ticks": ""
            },
            "colorscale": [
             [
              0,
              "#0d0887"
             ],
             [
              0.1111111111111111,
              "#46039f"
             ],
             [
              0.2222222222222222,
              "#7201a8"
             ],
             [
              0.3333333333333333,
              "#9c179e"
             ],
             [
              0.4444444444444444,
              "#bd3786"
             ],
             [
              0.5555555555555556,
              "#d8576b"
             ],
             [
              0.6666666666666666,
              "#ed7953"
             ],
             [
              0.7777777777777778,
              "#fb9f3a"
             ],
             [
              0.8888888888888888,
              "#fdca26"
             ],
             [
              1,
              "#f0f921"
             ]
            ],
            "type": "histogram2dcontour"
           }
          ],
          "mesh3d": [
           {
            "colorbar": {
             "outlinewidth": 0,
             "ticks": ""
            },
            "type": "mesh3d"
           }
          ],
          "parcoords": [
           {
            "line": {
             "colorbar": {
              "outlinewidth": 0,
              "ticks": ""
             }
            },
            "type": "parcoords"
           }
          ],
          "pie": [
           {
            "automargin": true,
            "type": "pie"
           }
          ],
          "scatter": [
           {
            "fillpattern": {
             "fillmode": "overlay",
             "size": 10,
             "solidity": 0.2
            },
            "type": "scatter"
           }
          ],
          "scatter3d": [
           {
            "line": {
             "colorbar": {
              "outlinewidth": 0,
              "ticks": ""
             }
            },
            "marker": {
             "colorbar": {
              "outlinewidth": 0,
              "ticks": ""
             }
            },
            "type": "scatter3d"
           }
          ],
          "scattercarpet": [
           {
            "marker": {
             "colorbar": {
              "outlinewidth": 0,
              "ticks": ""
             }
            },
            "type": "scattercarpet"
           }
          ],
          "scattergeo": [
           {
            "marker": {
             "colorbar": {
              "outlinewidth": 0,
              "ticks": ""
             }
            },
            "type": "scattergeo"
           }
          ],
          "scattergl": [
           {
            "marker": {
             "colorbar": {
              "outlinewidth": 0,
              "ticks": ""
             }
            },
            "type": "scattergl"
           }
          ],
          "scattermapbox": [
           {
            "marker": {
             "colorbar": {
              "outlinewidth": 0,
              "ticks": ""
             }
            },
            "type": "scattermapbox"
           }
          ],
          "scatterpolar": [
           {
            "marker": {
             "colorbar": {
              "outlinewidth": 0,
              "ticks": ""
             }
            },
            "type": "scatterpolar"
           }
          ],
          "scatterpolargl": [
           {
            "marker": {
             "colorbar": {
              "outlinewidth": 0,
              "ticks": ""
             }
            },
            "type": "scatterpolargl"
           }
          ],
          "scatterternary": [
           {
            "marker": {
             "colorbar": {
              "outlinewidth": 0,
              "ticks": ""
             }
            },
            "type": "scatterternary"
           }
          ],
          "surface": [
           {
            "colorbar": {
             "outlinewidth": 0,
             "ticks": ""
            },
            "colorscale": [
             [
              0,
              "#0d0887"
             ],
             [
              0.1111111111111111,
              "#46039f"
             ],
             [
              0.2222222222222222,
              "#7201a8"
             ],
             [
              0.3333333333333333,
              "#9c179e"
             ],
             [
              0.4444444444444444,
              "#bd3786"
             ],
             [
              0.5555555555555556,
              "#d8576b"
             ],
             [
              0.6666666666666666,
              "#ed7953"
             ],
             [
              0.7777777777777778,
              "#fb9f3a"
             ],
             [
              0.8888888888888888,
              "#fdca26"
             ],
             [
              1,
              "#f0f921"
             ]
            ],
            "type": "surface"
           }
          ],
          "table": [
           {
            "cells": {
             "fill": {
              "color": "#EBF0F8"
             },
             "line": {
              "color": "white"
             }
            },
            "header": {
             "fill": {
              "color": "#C8D4E3"
             },
             "line": {
              "color": "white"
             }
            },
            "type": "table"
           }
          ]
         },
         "layout": {
          "annotationdefaults": {
           "arrowcolor": "#2a3f5f",
           "arrowhead": 0,
           "arrowwidth": 1
          },
          "autotypenumbers": "strict",
          "coloraxis": {
           "colorbar": {
            "outlinewidth": 0,
            "ticks": ""
           }
          },
          "colorscale": {
           "diverging": [
            [
             0,
             "#8e0152"
            ],
            [
             0.1,
             "#c51b7d"
            ],
            [
             0.2,
             "#de77ae"
            ],
            [
             0.3,
             "#f1b6da"
            ],
            [
             0.4,
             "#fde0ef"
            ],
            [
             0.5,
             "#f7f7f7"
            ],
            [
             0.6,
             "#e6f5d0"
            ],
            [
             0.7,
             "#b8e186"
            ],
            [
             0.8,
             "#7fbc41"
            ],
            [
             0.9,
             "#4d9221"
            ],
            [
             1,
             "#276419"
            ]
           ],
           "sequential": [
            [
             0,
             "#0d0887"
            ],
            [
             0.1111111111111111,
             "#46039f"
            ],
            [
             0.2222222222222222,
             "#7201a8"
            ],
            [
             0.3333333333333333,
             "#9c179e"
            ],
            [
             0.4444444444444444,
             "#bd3786"
            ],
            [
             0.5555555555555556,
             "#d8576b"
            ],
            [
             0.6666666666666666,
             "#ed7953"
            ],
            [
             0.7777777777777778,
             "#fb9f3a"
            ],
            [
             0.8888888888888888,
             "#fdca26"
            ],
            [
             1,
             "#f0f921"
            ]
           ],
           "sequentialminus": [
            [
             0,
             "#0d0887"
            ],
            [
             0.1111111111111111,
             "#46039f"
            ],
            [
             0.2222222222222222,
             "#7201a8"
            ],
            [
             0.3333333333333333,
             "#9c179e"
            ],
            [
             0.4444444444444444,
             "#bd3786"
            ],
            [
             0.5555555555555556,
             "#d8576b"
            ],
            [
             0.6666666666666666,
             "#ed7953"
            ],
            [
             0.7777777777777778,
             "#fb9f3a"
            ],
            [
             0.8888888888888888,
             "#fdca26"
            ],
            [
             1,
             "#f0f921"
            ]
           ]
          },
          "colorway": [
           "#636efa",
           "#EF553B",
           "#00cc96",
           "#ab63fa",
           "#FFA15A",
           "#19d3f3",
           "#FF6692",
           "#B6E880",
           "#FF97FF",
           "#FECB52"
          ],
          "font": {
           "color": "#2a3f5f"
          },
          "geo": {
           "bgcolor": "white",
           "lakecolor": "white",
           "landcolor": "#E5ECF6",
           "showlakes": true,
           "showland": true,
           "subunitcolor": "white"
          },
          "hoverlabel": {
           "align": "left"
          },
          "hovermode": "closest",
          "mapbox": {
           "style": "light"
          },
          "paper_bgcolor": "white",
          "plot_bgcolor": "#E5ECF6",
          "polar": {
           "angularaxis": {
            "gridcolor": "white",
            "linecolor": "white",
            "ticks": ""
           },
           "bgcolor": "#E5ECF6",
           "radialaxis": {
            "gridcolor": "white",
            "linecolor": "white",
            "ticks": ""
           }
          },
          "scene": {
           "xaxis": {
            "backgroundcolor": "#E5ECF6",
            "gridcolor": "white",
            "gridwidth": 2,
            "linecolor": "white",
            "showbackground": true,
            "ticks": "",
            "zerolinecolor": "white"
           },
           "yaxis": {
            "backgroundcolor": "#E5ECF6",
            "gridcolor": "white",
            "gridwidth": 2,
            "linecolor": "white",
            "showbackground": true,
            "ticks": "",
            "zerolinecolor": "white"
           },
           "zaxis": {
            "backgroundcolor": "#E5ECF6",
            "gridcolor": "white",
            "gridwidth": 2,
            "linecolor": "white",
            "showbackground": true,
            "ticks": "",
            "zerolinecolor": "white"
           }
          },
          "shapedefaults": {
           "line": {
            "color": "#2a3f5f"
           }
          },
          "ternary": {
           "aaxis": {
            "gridcolor": "white",
            "linecolor": "white",
            "ticks": ""
           },
           "baxis": {
            "gridcolor": "white",
            "linecolor": "white",
            "ticks": ""
           },
           "bgcolor": "#E5ECF6",
           "caxis": {
            "gridcolor": "white",
            "linecolor": "white",
            "ticks": ""
           }
          },
          "title": {
           "x": 0.05
          },
          "xaxis": {
           "automargin": true,
           "gridcolor": "white",
           "linecolor": "white",
           "ticks": "",
           "title": {
            "standoff": 15
           },
           "zerolinecolor": "white",
           "zerolinewidth": 2
          },
          "yaxis": {
           "automargin": true,
           "gridcolor": "white",
           "linecolor": "white",
           "ticks": "",
           "title": {
            "standoff": 15
           },
           "zerolinecolor": "white",
           "zerolinewidth": 2
          }
         }
        }
       }
      }
     },
     "metadata": {},
     "output_type": "display_data"
    }
   ],
   "source": [
    "fig = go.Figure(data=go.Cone(x=locpred[:,0], y=locpred[:,1], z=locpred[:,2], u=anglepred[:,0], v=anglepred[:,1], w=anglepred[:,2], \n",
    "                             sizemode=\"absolute\", sizeref=2))\n",
    "\n",
    "fig.update_layout(scene_camera_eye=dict(x=-0.76, y=1.8, z=0.92))\n",
    "\n",
    "fig.show()"
   ]
  }
 ],
 "metadata": {
  "kernelspec": {
   "display_name": "Python 3",
   "language": "python",
   "name": "python3"
  },
  "language_info": {
   "codemirror_mode": {
    "name": "ipython",
    "version": 3
   },
   "file_extension": ".py",
   "mimetype": "text/x-python",
   "name": "python",
   "nbconvert_exporter": "python",
   "pygments_lexer": "ipython3",
   "version": "3.12.3"
  }
 },
 "nbformat": 4,
 "nbformat_minor": 2
}
