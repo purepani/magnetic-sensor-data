{
 "cells": [
  {
   "cell_type": "code",
   "execution_count": 15,
   "metadata": {},
   "outputs": [],
   "source": [
    "import glob\n",
    "import numpy as np\n",
    "import scipy as sp\n",
    "import einops as eo\n",
    "import matplotlib.pyplot as plt\n",
    "import math\n",
    "\n",
    "M0 = 1480 #mT\n",
    "shape = [3*25.4/16, 25.4/8] #radius and height\n",
    "x0 = np.array([0,0,10, 0,0,1])\n"
   ]
  },
  {
   "cell_type": "code",
   "execution_count": 16,
   "metadata": {},
   "outputs": [],
   "source": [
    "def B_dipole(position, rotation, M0, shape):\n",
    "    R = np.sqrt(np.sum(position**2, axis=1))\n",
    "    B = (M0 * (shape[0]) ** 2 * shape[1] / (16)) * (\n",
    "        (\n",
    "            3\n",
    "            * position\n",
    "            / R[:, np.newaxis] ** 5\n",
    "            * (eo.einsum(position, rotation, \"sensor dim,  dim -> sensor\"))[\n",
    "                :, np.newaxis\n",
    "            ]\n",
    "        )\n",
    "        - rotation[np.newaxis, :] / (R[:, np.newaxis] ** 3)\n",
    "    )\n",
    "    return B\n",
    "\n",
    "\n",
    "def getField_dipole(x, positions, M0, shape):\n",
    "    position = x[:3]\n",
    "    axis = x[3:]\n",
    "    return B_dipole(positions - position, axis, M0, shape)\n",
    "\n",
    "\n",
    "def getField_dipole_fixed(x, positions, M0, shape):\n",
    "    position = x[:3]\n",
    "    axis = x[3:]\n",
    "    return B_dipole(positions - position, axis, M0, shape)\n",
    "\n",
    "\n",
    "def cost_dipole(x, B, positions, M0, shape):\n",
    "    diff = getField_dipole(x, positions, M0, shape) - B\n",
    "    return np.sum((diff) ** 2)\n",
    "\n",
    "\n",
    "def minimize(x0, B, positions, M0, shape, *args):\n",
    "    #print(\"Starting mimimization\")\n",
    "    b_args = (B, positions, M0, shape)\n",
    "    cons = [{\"type\": \"eq\", \"fun\": lambda x: x[3] ** 2 + x[4] ** 2 + x[5] ** 2 - 1}]\n",
    "    bounds = [(-100, 100), (-100, 100), (0, 100), (-1, 1), (-1, 1), (-1, 1)]\n",
    "    res = sp.optimize.minimize(\n",
    "        fun=cost_dipole, x0=x0, args=b_args, tol=1e-100, constraints=cons, bounds=bounds, *args\n",
    "    ).x  \n",
    "    #print(f\"Finished mimimization with shape {b_args[3]} at {res}\")\n",
    "    return res\n",
    "\n",
    "def circle_radius(x1, y1, x2, y2, x3, y3):\n",
    "    # Calculate lengths of sides of the triangle formed by the three points\n",
    "    a = math.sqrt((x2 - x1) ** 2 + (y2 - y1) ** 2)\n",
    "    b = math.sqrt((x3 - x2) ** 2 + (y3 - y2) ** 2)\n",
    "    c = math.sqrt((x3 - x1) ** 2 + (y3 - y1) ** 2)\n",
    "\n",
    "    # Calculate the semi-perimeter of the triangle\n",
    "    s = (a + b + c) / 2\n",
    "\n",
    "    # Calculate the area of the triangle using Heron's formula\n",
    "    area = math.sqrt(s * (s - a) * (s - b) * (s - c))\n",
    "\n",
    "    # Calculate the radius of the circle using the formula: radius = (abc) / (4 * area)\n",
    "    radius = (a * b * c) / (4 * area)\n",
    "    \n",
    "    return radius"
   ]
  },
  {
   "cell_type": "code",
   "execution_count": 17,
   "metadata": {},
   "outputs": [],
   "source": [
    "folder = r\"C:\\Users\\Brandon Nguyen\\Documents\\Github\\magnetic-sensor-data\\MLX05112024_angle_test\"\n",
    "file_list = sorted(glob.glob(f'{folder}/*.npz'))\n",
    "len(file_list)\n",
    "data = np.load(file_list[0])\n",
    "pos = data['pos'][0]"
   ]
  },
  {
   "cell_type": "code",
   "execution_count": 18,
   "metadata": {},
   "outputs": [],
   "source": [
    "loc_pred = [np.array([0,0,0])]\n",
    "angle_pred = [np.array([0,0,0])]\n",
    "B_stdev = [np.array(pos)]\n",
    "for x in range(len(file_list)):\n",
    "    data = np.load(file_list[x])\n",
    "    mags = data['mags']\n",
    "    pos = data['pos'][0]\n",
    "    B = np.mean(mags, axis=0)\n",
    "    mags_stdev = np.std(mags, axis=0)\n",
    "    x_res = minimize(x0, B, pos, M0, shape)\n",
    "    loc_pred = np.append(loc_pred, [x_res[0:3]], axis=0)\n",
    "    angle_pred = np.append(angle_pred, [x_res[3:6]], axis=0)\n",
    "    B_stdev = np.append(B_stdev, [mags_stdev], axis=0)\n",
    "loc_pred = np.delete(loc_pred, 0, axis=0)\n",
    "angle_pred = np.delete(angle_pred, 0, axis=0)\n",
    "B_stdev = np.delete(B_stdev, 0 ,axis=0)"
   ]
  },
  {
   "cell_type": "code",
   "execution_count": 19,
   "metadata": {},
   "outputs": [
    {
     "data": {
      "text/plain": [
       "array([[ 3.24877510e-01, -3.89551697e-01,  9.68527256e+00,\n",
       "        -1.81914749e-01,  1.47795159e-01,  9.72143824e-01],\n",
       "       [ 3.45595814e-01,  3.43967888e-02,  9.85193375e+00,\n",
       "        -1.76371656e-01,  4.21403260e-02,  9.83421187e-01],\n",
       "       [ 3.75797548e-01,  4.00105590e-01,  1.00530364e+01,\n",
       "        -1.64567222e-01, -7.56287972e-02,  9.83462208e-01],\n",
       "       [-4.71633214e-02, -3.75448937e-01,  9.84101617e+00,\n",
       "        -7.41786544e-02,  1.42562127e-01,  9.87002314e-01],\n",
       "       [ 3.30319486e-03,  2.01950448e-03,  1.00046096e+01,\n",
       "        -6.59619242e-02,  3.19844661e-02,  9.97309390e-01],\n",
       "       [ 4.85545163e-02,  3.52866548e-01,  1.01996003e+01,\n",
       "        -5.35123806e-02, -8.84704231e-02,  9.94640342e-01],\n",
       "       [-3.87182230e-01, -3.86607609e-01,  1.00254820e+01,\n",
       "         4.60210147e-02,  1.37050179e-01,  9.89494474e-01],\n",
       "       [-3.27063691e-01, -1.49919674e-02,  1.01831567e+01,\n",
       "         5.73338706e-02,  2.49275747e-02,  9.98043808e-01],\n",
       "       [-2.72165373e-01,  3.11455173e-01,  1.03700423e+01,\n",
       "         6.73580834e-02, -9.72167961e-02,  9.92981260e-01]])"
      ]
     },
     "execution_count": 19,
     "metadata": {},
     "output_type": "execute_result"
    }
   ],
   "source": [
    "np.append(loc_pred, angle_pred, axis=1)\n",
    "#np.sum(angle_pred**2)"
   ]
  },
  {
   "cell_type": "code",
   "execution_count": 20,
   "metadata": {},
   "outputs": [
    {
     "data": {
      "text/plain": [
       "9.000230804368536"
      ]
     },
     "execution_count": 20,
     "metadata": {},
     "output_type": "execute_result"
    }
   ],
   "source": [
    "actang = [np.array([0, 0, 0])]\n",
    "for y in range(3):\n",
    "    for z in range(3):\n",
    "        add = np.array([np.sin(np.deg2rad(5*y-5)), np.sin(np.deg2rad(5*z-5)), np.cos(np.deg2rad(5*y-5))*np.cos(np.deg2rad(5*z-5))])\n",
    "        actang = np.append(actang, [add], axis=0)\n",
    "actang = np.delete(actang, 0, axis=0)\n",
    "locact = actang\n",
    "np.sum(actang**2)"
   ]
  },
  {
   "cell_type": "code",
   "execution_count": 24,
   "metadata": {},
   "outputs": [
    {
     "data": {
      "image/png": "[encoded data removed]",
      "text/plain": [
       "<Figure size 800x600 with 1 Axes>"
      ]
     },
     "metadata": {},
     "output_type": "display_data"
    },
    {
     "name": "stdout",
     "output_type": "stream",
     "text": [
      "[ 0.32487751  0.34559581  0.37579755 -0.04716332  0.00330319  0.04855452\n",
      " -0.38718223 -0.32706369 -0.27216537]\n",
      "[-0.3895517   0.03439679  0.40010559 -0.37544894  0.0020195   0.35286655\n",
      " -0.38660761 -0.01499197  0.31145517]\n",
      "[ 9.68527256  9.85193375 10.05303638  9.84101617 10.00460963 10.19960027\n",
      " 10.02548198 10.18315674 10.37004226]\n",
      "[ 9.69854631  9.85805347 10.06801116  9.84828846 10.00461038 10.20581785\n",
      " 10.04040161 10.18841875 10.37828766]\n"
     ]
    }
   ],
   "source": [
    "dispx = np.array(loc_pred[:,0])\n",
    "dispy = np.array(loc_pred[:,1])\n",
    "dispz = np.array(loc_pred[:,2])\n",
    "disp = np.sqrt(dispx**2+dispy**2+dispz**2)\n",
    "\n",
    "plt.figure(figsize=(8, 6))\n",
    "plt.scatter(dispx, dispy, label='Predicted Location')\n",
    "plt.xlabel('Predicted X (mm)')\n",
    "plt.ylabel('Predicted Y (mm)')\n",
    "plt.title('X vs Y: Offset Magnet')\n",
    "#plt.legend()\n",
    "plt.grid(True)\n",
    "plt.show()\n",
    "\n",
    "print(dispx)\n",
    "print(dispy)\n",
    "print(dispz)\n",
    "print(disp)"
   ]
  },
  {
   "cell_type": "code",
   "execution_count": 30,
   "metadata": {},
   "outputs": [
    {
     "name": "stdout",
     "output_type": "stream",
     "text": [
      "Radius of the circle about the x-axis: 3.555386197163787\n",
      "Radius of the circle about the y-axis: 3.4065576698026057\n"
     ]
    }
   ],
   "source": [
    "x1, z1 = loc_pred[0,0], loc_pred[0,2]\n",
    "x2, z2 = loc_pred[3,0], loc_pred[1,2]\n",
    "x3, z3 = loc_pred[6,0], loc_pred[2,2]\n",
    "print(\"Radius of the circle about the x-axis:\", circle_radius(x1, z1, x2, z2, x3, z3))\n",
    "\n",
    "y1 = loc_pred[0,1]\n",
    "y2 = loc_pred[1,1]\n",
    "y3 = loc_pred[2,1]\n",
    "print(\"Radius of the circle about the y-axis:\", circle_radius(y1, z1, y2, z2, y3, z3))"
   ]
  }
 ],
 "metadata": {
  "kernelspec": {
   "display_name": "Python 3",
   "language": "python",
   "name": "python3"
  },
  "language_info": {
   "codemirror_mode": {
    "name": "ipython",
    "version": 3
   },
   "file_extension": ".py",
   "mimetype": "text/x-python",
   "name": "python",
   "nbconvert_exporter": "python",
   "pygments_lexer": "ipython3",
   "version": "3.12.3"
  }
 },
 "nbformat": 4,
 "nbformat_minor": 2
}
